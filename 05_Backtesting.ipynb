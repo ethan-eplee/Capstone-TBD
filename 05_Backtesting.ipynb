{
 "cells": [
  {
   "cell_type": "code",
   "execution_count": 1,
   "id": "9deeeb66",
   "metadata": {},
   "outputs": [
    {
     "name": "stdout",
     "output_type": "stream",
     "text": [
      "time: 1.41 s (started: 2022-10-08 10:00:25 +08:00)\n"
     ]
    }
   ],
   "source": [
    "%load_ext autotime\n",
    "import pandas as pd\n",
    "import numpy as np\n",
    "import matplotlib.pyplot as plt\n",
    "import seaborn as sns\n",
    "\n",
    "import pickle\n",
    "import time\n",
    "import simfin as sf\n",
    "\n",
    "from sklearn.model_selection import train_test_split\n",
    "from sklearn.model_selection import learning_curve\n",
    "from sklearn.model_selection import ShuffleSplit\n",
    "\n",
    "from sklearn.linear_model import LinearRegression\n",
    "from sklearn.linear_model import ElasticNet\n",
    "\n",
    "from sklearn.neighbors import KNeighborsRegressor\n",
    "from sklearn.tree import DecisionTreeRegressor\n",
    "from sklearn.ensemble import RandomForestRegressor\n",
    "\n",
    "from sklearn.preprocessing import PowerTransformer\n",
    "from sklearn.pipeline import Pipeline\n",
    "from sklearn.metrics import mean_squared_error"
   ]
  },
  {
   "cell_type": "code",
   "execution_count": 2,
   "id": "a2d40c3a",
   "metadata": {},
   "outputs": [
    {
     "name": "stdout",
     "output_type": "stream",
     "text": [
      "time: 0 ns (started: 2022-10-08 10:00:27 +08:00)\n"
     ]
    }
   ],
   "source": [
    "plt.rcParams['figure.figsize'] = [7.0, 4.5]\n",
    "plt.rcParams['figure.dpi'] = 150"
   ]
  },
  {
   "cell_type": "code",
   "execution_count": 3,
   "id": "dea4baf1",
   "metadata": {},
   "outputs": [
    {
     "name": "stdout",
     "output_type": "stream",
     "text": [
      "time: 31 ms (started: 2022-10-08 10:00:27 +08:00)\n"
     ]
    }
   ],
   "source": [
    "# Read in stock price fundamental ratios\n",
    "X = pickle.load(open('./data/fundamentals3.pkl', 'rb'))\n",
    "\n",
    "# Read in annual performance\n",
    "y = pickle.load(open('./data/performance3.pkl', 'rb'))\n",
    "y = y['Returns']\n",
    "\n",
    "# Read in annual performance\n",
    "y_withdata = pickle.load(open('./data/performance2.pkl', 'rb'))"
   ]
  },
  {
   "cell_type": "code",
   "execution_count": 4,
   "id": "eca3978b",
   "metadata": {
    "scrolled": true
   },
   "outputs": [
    {
     "data": {
      "text/html": [
       "<div>\n",
       "<style scoped>\n",
       "    .dataframe tbody tr th:only-of-type {\n",
       "        vertical-align: middle;\n",
       "    }\n",
       "\n",
       "    .dataframe tbody tr th {\n",
       "        vertical-align: top;\n",
       "    }\n",
       "\n",
       "    .dataframe thead th {\n",
       "        text-align: right;\n",
       "    }\n",
       "</style>\n",
       "<table border=\"1\" class=\"dataframe\">\n",
       "  <thead>\n",
       "    <tr style=\"text-align: right;\">\n",
       "      <th></th>\n",
       "      <th>EV_EBIT</th>\n",
       "      <th>OI_NWCFA</th>\n",
       "      <th>PE</th>\n",
       "      <th>PB</th>\n",
       "      <th>PS</th>\n",
       "      <th>OI_IntExp</th>\n",
       "      <th>WorkingCap</th>\n",
       "      <th>ROE</th>\n",
       "      <th>ROCE</th>\n",
       "      <th>DE</th>\n",
       "      <th>DebtRatio</th>\n",
       "      <th>CashRatio</th>\n",
       "      <th>AssetTurnover</th>\n",
       "      <th>GPM</th>\n",
       "      <th>WC_TA</th>\n",
       "      <th>RE_TA</th>\n",
       "      <th>EBIT_TA</th>\n",
       "      <th>Equity_Liab</th>\n",
       "    </tr>\n",
       "  </thead>\n",
       "  <tbody>\n",
       "    <tr>\n",
       "      <th>0</th>\n",
       "      <td>82.797844</td>\n",
       "      <td>0.054971</td>\n",
       "      <td>112.795556</td>\n",
       "      <td>3.347207</td>\n",
       "      <td>12.792295</td>\n",
       "      <td>11.437500</td>\n",
       "      <td>3.846561</td>\n",
       "      <td>0.029675</td>\n",
       "      <td>0.024383</td>\n",
       "      <td>0.835610</td>\n",
       "      <td>2.196731</td>\n",
       "      <td>2.422222</td>\n",
       "      <td>1.738654</td>\n",
       "      <td>0.529253</td>\n",
       "      <td>0.345137</td>\n",
       "      <td>0.781242</td>\n",
       "      <td>0.021427</td>\n",
       "      <td>1.196731</td>\n",
       "    </tr>\n",
       "    <tr>\n",
       "      <th>1</th>\n",
       "      <td>73.741818</td>\n",
       "      <td>0.064395</td>\n",
       "      <td>93.220476</td>\n",
       "      <td>3.642102</td>\n",
       "      <td>14.677638</td>\n",
       "      <td>12.875000</td>\n",
       "      <td>3.337925</td>\n",
       "      <td>0.039070</td>\n",
       "      <td>0.030812</td>\n",
       "      <td>0.830698</td>\n",
       "      <td>2.203807</td>\n",
       "      <td>2.057851</td>\n",
       "      <td>1.633997</td>\n",
       "      <td>0.537957</td>\n",
       "      <td>0.323425</td>\n",
       "      <td>-0.057546</td>\n",
       "      <td>0.026550</td>\n",
       "      <td>1.203807</td>\n",
       "    </tr>\n",
       "    <tr>\n",
       "      <th>2</th>\n",
       "      <td>85.881068</td>\n",
       "      <td>0.061131</td>\n",
       "      <td>109.984756</td>\n",
       "      <td>4.122857</td>\n",
       "      <td>16.367967</td>\n",
       "      <td>13.400000</td>\n",
       "      <td>3.201348</td>\n",
       "      <td>0.037486</td>\n",
       "      <td>0.030165</td>\n",
       "      <td>0.832229</td>\n",
       "      <td>2.201593</td>\n",
       "      <td>2.012637</td>\n",
       "      <td>1.632593</td>\n",
       "      <td>0.537205</td>\n",
       "      <td>0.325973</td>\n",
       "      <td>-0.049027</td>\n",
       "      <td>0.025699</td>\n",
       "      <td>1.201593</td>\n",
       "    </tr>\n",
       "    <tr>\n",
       "      <th>3</th>\n",
       "      <td>93.118058</td>\n",
       "      <td>0.057908</td>\n",
       "      <td>112.367543</td>\n",
       "      <td>4.264654</td>\n",
       "      <td>17.651993</td>\n",
       "      <td>15.461538</td>\n",
       "      <td>3.219984</td>\n",
       "      <td>0.037953</td>\n",
       "      <td>0.029345</td>\n",
       "      <td>0.791585</td>\n",
       "      <td>2.263288</td>\n",
       "      <td>2.065270</td>\n",
       "      <td>1.555866</td>\n",
       "      <td>0.535009</td>\n",
       "      <td>0.333495</td>\n",
       "      <td>-0.031473</td>\n",
       "      <td>0.024936</td>\n",
       "      <td>1.263288</td>\n",
       "    </tr>\n",
       "    <tr>\n",
       "      <th>4</th>\n",
       "      <td>89.891130</td>\n",
       "      <td>0.063609</td>\n",
       "      <td>125.146780</td>\n",
       "      <td>4.581382</td>\n",
       "      <td>18.629924</td>\n",
       "      <td>17.923077</td>\n",
       "      <td>3.300871</td>\n",
       "      <td>0.036608</td>\n",
       "      <td>0.033366</td>\n",
       "      <td>0.742709</td>\n",
       "      <td>2.346422</td>\n",
       "      <td>2.120348</td>\n",
       "      <td>1.570674</td>\n",
       "      <td>0.544155</td>\n",
       "      <td>0.344885</td>\n",
       "      <td>-0.014954</td>\n",
       "      <td>0.028365</td>\n",
       "      <td>1.346422</td>\n",
       "    </tr>\n",
       "  </tbody>\n",
       "</table>\n",
       "</div>"
      ],
      "text/plain": [
       "     EV_EBIT  OI_NWCFA          PE        PB         PS  OI_IntExp  \\\n",
       "0  82.797844  0.054971  112.795556  3.347207  12.792295  11.437500   \n",
       "1  73.741818  0.064395   93.220476  3.642102  14.677638  12.875000   \n",
       "2  85.881068  0.061131  109.984756  4.122857  16.367967  13.400000   \n",
       "3  93.118058  0.057908  112.367543  4.264654  17.651993  15.461538   \n",
       "4  89.891130  0.063609  125.146780  4.581382  18.629924  17.923077   \n",
       "\n",
       "   WorkingCap       ROE      ROCE        DE  DebtRatio  CashRatio  \\\n",
       "0    3.846561  0.029675  0.024383  0.835610   2.196731   2.422222   \n",
       "1    3.337925  0.039070  0.030812  0.830698   2.203807   2.057851   \n",
       "2    3.201348  0.037486  0.030165  0.832229   2.201593   2.012637   \n",
       "3    3.219984  0.037953  0.029345  0.791585   2.263288   2.065270   \n",
       "4    3.300871  0.036608  0.033366  0.742709   2.346422   2.120348   \n",
       "\n",
       "   AssetTurnover       GPM     WC_TA     RE_TA   EBIT_TA  Equity_Liab  \n",
       "0       1.738654  0.529253  0.345137  0.781242  0.021427     1.196731  \n",
       "1       1.633997  0.537957  0.323425 -0.057546  0.026550     1.203807  \n",
       "2       1.632593  0.537205  0.325973 -0.049027  0.025699     1.201593  \n",
       "3       1.555866  0.535009  0.333495 -0.031473  0.024936     1.263288  \n",
       "4       1.570674  0.544155  0.344885 -0.014954  0.028365     1.346422  "
      ]
     },
     "execution_count": 4,
     "metadata": {},
     "output_type": "execute_result"
    },
    {
     "name": "stdout",
     "output_type": "stream",
     "text": [
      "time: 16 ms (started: 2022-10-08 10:00:27 +08:00)\n"
     ]
    }
   ],
   "source": [
    "X.head()"
   ]
  },
  {
   "cell_type": "code",
   "execution_count": 5,
   "id": "d20128f9",
   "metadata": {},
   "outputs": [
    {
     "name": "stdout",
     "output_type": "stream",
     "text": [
      "<class 'pandas.core.frame.DataFrame'>\n",
      "RangeIndex: 38307 entries, 0 to 38306\n",
      "Data columns (total 18 columns):\n",
      " #   Column         Non-Null Count  Dtype  \n",
      "---  ------         --------------  -----  \n",
      " 0   EV_EBIT        38307 non-null  float64\n",
      " 1   OI_NWCFA       38307 non-null  float64\n",
      " 2   PE             38307 non-null  float64\n",
      " 3   PB             38307 non-null  float64\n",
      " 4   PS             38307 non-null  float64\n",
      " 5   OI_IntExp      38307 non-null  float64\n",
      " 6   WorkingCap     38307 non-null  float64\n",
      " 7   ROE            38307 non-null  float64\n",
      " 8   ROCE           38307 non-null  float64\n",
      " 9   DE             38307 non-null  float64\n",
      " 10  DebtRatio      38307 non-null  float64\n",
      " 11  CashRatio      38307 non-null  float64\n",
      " 12  AssetTurnover  38307 non-null  float64\n",
      " 13  GPM            38307 non-null  float64\n",
      " 14  WC_TA          38307 non-null  float64\n",
      " 15  RE_TA          38307 non-null  float64\n",
      " 16  EBIT_TA        38307 non-null  float64\n",
      " 17  Equity_Liab    38307 non-null  float64\n",
      "dtypes: float64(18)\n",
      "memory usage: 5.3 MB\n",
      "time: 0 ns (started: 2022-10-08 10:00:27 +08:00)\n"
     ]
    }
   ],
   "source": [
    "X.info()"
   ]
  },
  {
   "cell_type": "code",
   "execution_count": 6,
   "id": "89f3c0ed",
   "metadata": {
    "scrolled": true
   },
   "outputs": [
    {
     "data": {
      "text/plain": [
       "0    0.563351\n",
       "1    0.535595\n",
       "2    0.198018\n",
       "3    0.076426\n",
       "4   -0.050044\n",
       "Name: Returns, dtype: object"
      ]
     },
     "execution_count": 6,
     "metadata": {},
     "output_type": "execute_result"
    },
    {
     "name": "stdout",
     "output_type": "stream",
     "text": [
      "time: 0 ns (started: 2022-10-08 10:00:27 +08:00)\n"
     ]
    }
   ],
   "source": [
    "y.head()"
   ]
  },
  {
   "cell_type": "code",
   "execution_count": 7,
   "id": "50191ebe",
   "metadata": {},
   "outputs": [
    {
     "data": {
      "text/plain": [
       "8657"
      ]
     },
     "execution_count": 7,
     "metadata": {},
     "output_type": "execute_result"
    },
    {
     "name": "stdout",
     "output_type": "stream",
     "text": [
      "time: 0 ns (started: 2022-10-08 10:00:27 +08:00)\n"
     ]
    }
   ],
   "source": [
    "y.isnull().sum()"
   ]
  },
  {
   "cell_type": "code",
   "execution_count": 8,
   "id": "4378cfde",
   "metadata": {},
   "outputs": [
    {
     "data": {
      "text/html": [
       "<div>\n",
       "<style scoped>\n",
       "    .dataframe tbody tr th:only-of-type {\n",
       "        vertical-align: middle;\n",
       "    }\n",
       "\n",
       "    .dataframe tbody tr th {\n",
       "        vertical-align: top;\n",
       "    }\n",
       "\n",
       "    .dataframe thead th {\n",
       "        text-align: right;\n",
       "    }\n",
       "</style>\n",
       "<table border=\"1\" class=\"dataframe\">\n",
       "  <thead>\n",
       "    <tr style=\"text-align: right;\">\n",
       "      <th></th>\n",
       "      <th>Ticker</th>\n",
       "      <th>Date1</th>\n",
       "      <th>Open1</th>\n",
       "      <th>Volume1</th>\n",
       "      <th>Date2</th>\n",
       "      <th>Open2</th>\n",
       "      <th>Volume2</th>\n",
       "    </tr>\n",
       "  </thead>\n",
       "  <tbody>\n",
       "    <tr>\n",
       "      <th>0</th>\n",
       "      <td>A</td>\n",
       "      <td>2016-10-31</td>\n",
       "      <td>43.33</td>\n",
       "      <td>1556762.0</td>\n",
       "      <td>2017-10-31</td>\n",
       "      <td>67.74</td>\n",
       "      <td>1609938.0</td>\n",
       "    </tr>\n",
       "    <tr>\n",
       "      <th>1</th>\n",
       "      <td>A</td>\n",
       "      <td>2017-01-31</td>\n",
       "      <td>48.04</td>\n",
       "      <td>2552612.0</td>\n",
       "      <td>2018-01-31</td>\n",
       "      <td>73.77</td>\n",
       "      <td>1949108.0</td>\n",
       "    </tr>\n",
       "    <tr>\n",
       "      <th>2</th>\n",
       "      <td>A</td>\n",
       "      <td>2017-04-30</td>\n",
       "      <td>55.50</td>\n",
       "      <td>1897018.0</td>\n",
       "      <td>2018-04-30</td>\n",
       "      <td>66.49</td>\n",
       "      <td>2277705.0</td>\n",
       "    </tr>\n",
       "    <tr>\n",
       "      <th>3</th>\n",
       "      <td>A</td>\n",
       "      <td>2017-07-31</td>\n",
       "      <td>60.32</td>\n",
       "      <td>1038744.0</td>\n",
       "      <td>2018-07-31</td>\n",
       "      <td>64.93</td>\n",
       "      <td>2539265.0</td>\n",
       "    </tr>\n",
       "    <tr>\n",
       "      <th>4</th>\n",
       "      <td>A</td>\n",
       "      <td>2017-10-31</td>\n",
       "      <td>67.74</td>\n",
       "      <td>1609938.0</td>\n",
       "      <td>2018-10-31</td>\n",
       "      <td>64.35</td>\n",
       "      <td>3820987.0</td>\n",
       "    </tr>\n",
       "  </tbody>\n",
       "</table>\n",
       "</div>"
      ],
      "text/plain": [
       "  Ticker      Date1  Open1    Volume1      Date2  Open2    Volume2\n",
       "0      A 2016-10-31  43.33  1556762.0 2017-10-31  67.74  1609938.0\n",
       "1      A 2017-01-31  48.04  2552612.0 2018-01-31  73.77  1949108.0\n",
       "2      A 2017-04-30  55.50  1897018.0 2018-04-30  66.49  2277705.0\n",
       "3      A 2017-07-31  60.32  1038744.0 2018-07-31  64.93  2539265.0\n",
       "4      A 2017-10-31  67.74  1609938.0 2018-10-31  64.35  3820987.0"
      ]
     },
     "execution_count": 8,
     "metadata": {},
     "output_type": "execute_result"
    },
    {
     "name": "stdout",
     "output_type": "stream",
     "text": [
      "time: 0 ns (started: 2022-10-08 10:00:27 +08:00)\n"
     ]
    }
   ],
   "source": [
    "y_withdata.head()"
   ]
  },
  {
   "cell_type": "code",
   "execution_count": 9,
   "id": "c8716a64",
   "metadata": {},
   "outputs": [
    {
     "name": "stdout",
     "output_type": "stream",
     "text": [
      "time: 109 ms (started: 2022-10-08 10:00:27 +08:00)\n"
     ]
    }
   ],
   "source": [
    "# X AND Y (splitting for train/test done previously for trained model)\n",
    "X_train=pd.read_csv(\"Annual_Stock_Price_Fundamentals_Ratios_train.csv\", \n",
    "                    index_col=0)\n",
    "X_test=pd.read_csv(\"Annual_Stock_Price_Fundamentals_Ratios_test.csv\", \n",
    "                   index_col=0)\n",
    "y_train=pd.read_csv(\"Annual_Stock_Price_Performance_Percentage_train.csv\", \n",
    "                    index_col=0)['Returns']\n",
    "y_test=pd.read_csv(\"Annual_Stock_Price_Performance_Percentage_test.csv\", \n",
    "                   index_col=0)['Returns']"
   ]
  },
  {
   "cell_type": "code",
   "execution_count": 10,
   "id": "4f89f3f4",
   "metadata": {
    "scrolled": true
   },
   "outputs": [
    {
     "name": "stdout",
     "output_type": "stream",
     "text": [
      "time: 15 ms (started: 2022-10-08 10:00:27 +08:00)\n"
     ]
    }
   ],
   "source": [
    "rf = pickle.load(open('rf_regressor.p', 'rb'))"
   ]
  },
  {
   "cell_type": "code",
   "execution_count": 11,
   "id": "d7d17e01",
   "metadata": {},
   "outputs": [
    {
     "name": "stdout",
     "output_type": "stream",
     "text": [
      "time: 17 s (started: 2022-10-08 10:00:27 +08:00)\n"
     ]
    }
   ],
   "source": [
    "# fit and predict using Random Forest\n",
    "rf.fit(X_train, y_train)\n",
    "y_pred = rf.predict(X_test)"
   ]
  },
  {
   "cell_type": "code",
   "execution_count": 12,
   "id": "5585eddd",
   "metadata": {},
   "outputs": [
    {
     "name": "stdout",
     "output_type": "stream",
     "text": [
      "Train MSE: 0.6734017695836776\n",
      "Test MSE: 1.017684904552254\n",
      "Generalisation: -51.126%\n",
      "time: 156 ms (started: 2022-10-08 10:00:44 +08:00)\n"
     ]
    }
   ],
   "source": [
    "mse_train = mean_squared_error(y_train, rf.predict(X_train), squared=True)\n",
    "mse_test = mean_squared_error(y_test, y_pred, squared=True)\n",
    "pct_diff = round((1-mse_test/mse_train)*100,3)\n",
    "\n",
    "print('Train MSE:', mse_train)\n",
    "print('Test MSE:', mse_test)\n",
    "print(f'Generalisation: {pct_diff}%')"
   ]
  },
  {
   "cell_type": "code",
   "execution_count": 13,
   "id": "f85fb296",
   "metadata": {},
   "outputs": [
    {
     "name": "stdout",
     "output_type": "stream",
     "text": [
      "time: 0 ns (started: 2022-10-08 10:00:44 +08:00)\n"
     ]
    }
   ],
   "source": [
    "y_withdata_test = pd.DataFrame()\n",
    "y_withdata_test = y_withdata.loc[y_test.index, :]"
   ]
  },
  {
   "cell_type": "code",
   "execution_count": 14,
   "id": "7ea3586b",
   "metadata": {},
   "outputs": [
    {
     "data": {
      "text/html": [
       "<div>\n",
       "<style scoped>\n",
       "    .dataframe tbody tr th:only-of-type {\n",
       "        vertical-align: middle;\n",
       "    }\n",
       "\n",
       "    .dataframe tbody tr th {\n",
       "        vertical-align: top;\n",
       "    }\n",
       "\n",
       "    .dataframe thead th {\n",
       "        text-align: right;\n",
       "    }\n",
       "</style>\n",
       "<table border=\"1\" class=\"dataframe\">\n",
       "  <thead>\n",
       "    <tr style=\"text-align: right;\">\n",
       "      <th></th>\n",
       "      <th>Ticker</th>\n",
       "      <th>Date1</th>\n",
       "      <th>Open1</th>\n",
       "      <th>Volume1</th>\n",
       "      <th>Date2</th>\n",
       "      <th>Open2</th>\n",
       "      <th>Volume2</th>\n",
       "    </tr>\n",
       "  </thead>\n",
       "  <tbody>\n",
       "    <tr>\n",
       "      <th>26780</th>\n",
       "      <td>PK</td>\n",
       "      <td>2016-12-31</td>\n",
       "      <td>30.21</td>\n",
       "      <td>33221775.0</td>\n",
       "      <td>2017-12-31</td>\n",
       "      <td>28.87</td>\n",
       "      <td>1294841.0</td>\n",
       "    </tr>\n",
       "    <tr>\n",
       "      <th>16361</th>\n",
       "      <td>HTGM</td>\n",
       "      <td>2021-06-30</td>\n",
       "      <td>5.99</td>\n",
       "      <td>27359.0</td>\n",
       "      <td>2022-06-30</td>\n",
       "      <td>NaN</td>\n",
       "      <td>NaN</td>\n",
       "    </tr>\n",
       "    <tr>\n",
       "      <th>27115</th>\n",
       "      <td>PNW</td>\n",
       "      <td>2020-12-31</td>\n",
       "      <td>79.05</td>\n",
       "      <td>539364.0</td>\n",
       "      <td>2021-12-31</td>\n",
       "      <td>NaN</td>\n",
       "      <td>NaN</td>\n",
       "    </tr>\n",
       "    <tr>\n",
       "      <th>18629</th>\n",
       "      <td>KE</td>\n",
       "      <td>2018-06-30</td>\n",
       "      <td>18.25</td>\n",
       "      <td>53290.0</td>\n",
       "      <td>2019-06-30</td>\n",
       "      <td>16.25</td>\n",
       "      <td>67064.0</td>\n",
       "    </tr>\n",
       "    <tr>\n",
       "      <th>258</th>\n",
       "      <td>ABIO</td>\n",
       "      <td>2021-06-30</td>\n",
       "      <td>3.52</td>\n",
       "      <td>92318.0</td>\n",
       "      <td>2022-06-30</td>\n",
       "      <td>NaN</td>\n",
       "      <td>NaN</td>\n",
       "    </tr>\n",
       "    <tr>\n",
       "      <th>...</th>\n",
       "      <td>...</td>\n",
       "      <td>...</td>\n",
       "      <td>...</td>\n",
       "      <td>...</td>\n",
       "      <td>...</td>\n",
       "      <td>...</td>\n",
       "      <td>...</td>\n",
       "    </tr>\n",
       "    <tr>\n",
       "      <th>22</th>\n",
       "      <td>AA</td>\n",
       "      <td>2017-06-30</td>\n",
       "      <td>33.16</td>\n",
       "      <td>3014777.0</td>\n",
       "      <td>2018-06-30</td>\n",
       "      <td>46.46</td>\n",
       "      <td>2150764.0</td>\n",
       "    </tr>\n",
       "    <tr>\n",
       "      <th>25249</th>\n",
       "      <td>OLLI</td>\n",
       "      <td>2019-05-31</td>\n",
       "      <td>98.38</td>\n",
       "      <td>727763.0</td>\n",
       "      <td>2020-05-30</td>\n",
       "      <td>91.84</td>\n",
       "      <td>2767397.0</td>\n",
       "    </tr>\n",
       "    <tr>\n",
       "      <th>5903</th>\n",
       "      <td>CALA</td>\n",
       "      <td>2020-09-30</td>\n",
       "      <td>71.50</td>\n",
       "      <td>23076.0</td>\n",
       "      <td>2021-09-30</td>\n",
       "      <td>43.20</td>\n",
       "      <td>38780.0</td>\n",
       "    </tr>\n",
       "    <tr>\n",
       "      <th>19675</th>\n",
       "      <td>LFVN</td>\n",
       "      <td>2017-12-31</td>\n",
       "      <td>4.79</td>\n",
       "      <td>8906.0</td>\n",
       "      <td>2018-12-31</td>\n",
       "      <td>13.04</td>\n",
       "      <td>119735.0</td>\n",
       "    </tr>\n",
       "    <tr>\n",
       "      <th>24449</th>\n",
       "      <td>NTRA</td>\n",
       "      <td>2019-03-31</td>\n",
       "      <td>20.81</td>\n",
       "      <td>1000080.0</td>\n",
       "      <td>2020-03-30</td>\n",
       "      <td>25.50</td>\n",
       "      <td>1607681.0</td>\n",
       "    </tr>\n",
       "  </tbody>\n",
       "</table>\n",
       "<p>5930 rows × 7 columns</p>\n",
       "</div>"
      ],
      "text/plain": [
       "      Ticker      Date1  Open1     Volume1      Date2  Open2    Volume2\n",
       "26780     PK 2016-12-31  30.21  33221775.0 2017-12-31  28.87  1294841.0\n",
       "16361   HTGM 2021-06-30   5.99     27359.0 2022-06-30    NaN        NaN\n",
       "27115    PNW 2020-12-31  79.05    539364.0 2021-12-31    NaN        NaN\n",
       "18629     KE 2018-06-30  18.25     53290.0 2019-06-30  16.25    67064.0\n",
       "258     ABIO 2021-06-30   3.52     92318.0 2022-06-30    NaN        NaN\n",
       "...      ...        ...    ...         ...        ...    ...        ...\n",
       "22        AA 2017-06-30  33.16   3014777.0 2018-06-30  46.46  2150764.0\n",
       "25249   OLLI 2019-05-31  98.38    727763.0 2020-05-30  91.84  2767397.0\n",
       "5903    CALA 2020-09-30  71.50     23076.0 2021-09-30  43.20    38780.0\n",
       "19675   LFVN 2017-12-31   4.79      8906.0 2018-12-31  13.04   119735.0\n",
       "24449   NTRA 2019-03-31  20.81   1000080.0 2020-03-30  25.50  1607681.0\n",
       "\n",
       "[5930 rows x 7 columns]"
      ]
     },
     "execution_count": 14,
     "metadata": {},
     "output_type": "execute_result"
    },
    {
     "name": "stdout",
     "output_type": "stream",
     "text": [
      "time: 15 ms (started: 2022-10-08 10:00:44 +08:00)\n"
     ]
    }
   ],
   "source": [
    "y_withdata_test"
   ]
  },
  {
   "cell_type": "code",
   "execution_count": null,
   "id": "6619fb91",
   "metadata": {},
   "outputs": [],
   "source": []
  },
  {
   "cell_type": "code",
   "execution_count": null,
   "id": "d43660be",
   "metadata": {},
   "outputs": [],
   "source": []
  },
  {
   "cell_type": "code",
   "execution_count": 15,
   "id": "7efeff82",
   "metadata": {},
   "outputs": [
    {
     "name": "stdout",
     "output_type": "stream",
     "text": [
      "time: 0 ns (started: 2022-10-08 10:00:44 +08:00)\n"
     ]
    }
   ],
   "source": [
    "# Set your SimFin+ API-key for downloading data.\n",
    "sf.set_api_key('nYdjeL237mt7QaQ4OZTaPa4Xn3YECrTH')\n",
    "\n",
    "# Set the local directory where data-files are stored.\n",
    "# The directory will be created if it does not already exist.\n",
    "sf.set_data_dir('~/simfin_data/')"
   ]
  },
  {
   "cell_type": "code",
   "execution_count": 16,
   "id": "09da0352",
   "metadata": {},
   "outputs": [
    {
     "name": "stdout",
     "output_type": "stream",
     "text": [
      "Dataset \"us-shareprices-daily\" on disk (0 days old).\n",
      "- Loading from disk ... Done!\n",
      "time: 10 s (started: 2022-10-08 10:00:44 +08:00)\n"
     ]
    }
   ],
   "source": [
    "# Download the data from the SimFin server and load into a Pandas DataFrame.\n",
    "df_prices = sf.load_shareprices(variant='daily', market='us')\n",
    "df_prices.reset_index(inplace=True)"
   ]
  },
  {
   "cell_type": "code",
   "execution_count": 17,
   "id": "6f6f2ccc",
   "metadata": {},
   "outputs": [
    {
     "data": {
      "text/html": [
       "<div>\n",
       "<style scoped>\n",
       "    .dataframe tbody tr th:only-of-type {\n",
       "        vertical-align: middle;\n",
       "    }\n",
       "\n",
       "    .dataframe tbody tr th {\n",
       "        vertical-align: top;\n",
       "    }\n",
       "\n",
       "    .dataframe thead th {\n",
       "        text-align: right;\n",
       "    }\n",
       "</style>\n",
       "<table border=\"1\" class=\"dataframe\">\n",
       "  <thead>\n",
       "    <tr style=\"text-align: right;\">\n",
       "      <th></th>\n",
       "      <th>Ticker</th>\n",
       "      <th>Date</th>\n",
       "      <th>SimFinId</th>\n",
       "      <th>Open</th>\n",
       "      <th>Low</th>\n",
       "      <th>High</th>\n",
       "      <th>Close</th>\n",
       "      <th>Adj. Close</th>\n",
       "      <th>Dividend</th>\n",
       "      <th>Volume</th>\n",
       "      <th>Shares Outstanding</th>\n",
       "    </tr>\n",
       "  </thead>\n",
       "  <tbody>\n",
       "    <tr>\n",
       "      <th>0</th>\n",
       "      <td>A</td>\n",
       "      <td>2016-10-06</td>\n",
       "      <td>45846</td>\n",
       "      <td>47.01</td>\n",
       "      <td>46.88</td>\n",
       "      <td>47.43</td>\n",
       "      <td>47.30</td>\n",
       "      <td>45.09</td>\n",
       "      <td>NaN</td>\n",
       "      <td>1772801</td>\n",
       "      <td>324384755.0</td>\n",
       "    </tr>\n",
       "    <tr>\n",
       "      <th>1</th>\n",
       "      <td>A</td>\n",
       "      <td>2016-10-07</td>\n",
       "      <td>45846</td>\n",
       "      <td>47.33</td>\n",
       "      <td>46.99</td>\n",
       "      <td>47.49</td>\n",
       "      <td>47.38</td>\n",
       "      <td>45.16</td>\n",
       "      <td>NaN</td>\n",
       "      <td>1663127</td>\n",
       "      <td>324384755.0</td>\n",
       "    </tr>\n",
       "    <tr>\n",
       "      <th>2</th>\n",
       "      <td>A</td>\n",
       "      <td>2016-10-10</td>\n",
       "      <td>45846</td>\n",
       "      <td>47.58</td>\n",
       "      <td>47.55</td>\n",
       "      <td>48.15</td>\n",
       "      <td>47.69</td>\n",
       "      <td>45.46</td>\n",
       "      <td>NaN</td>\n",
       "      <td>1544958</td>\n",
       "      <td>324384755.0</td>\n",
       "    </tr>\n",
       "    <tr>\n",
       "      <th>3</th>\n",
       "      <td>A</td>\n",
       "      <td>2016-10-11</td>\n",
       "      <td>45846</td>\n",
       "      <td>47.19</td>\n",
       "      <td>45.42</td>\n",
       "      <td>47.19</td>\n",
       "      <td>45.69</td>\n",
       "      <td>43.55</td>\n",
       "      <td>NaN</td>\n",
       "      <td>2912537</td>\n",
       "      <td>324384755.0</td>\n",
       "    </tr>\n",
       "    <tr>\n",
       "      <th>4</th>\n",
       "      <td>A</td>\n",
       "      <td>2016-10-12</td>\n",
       "      <td>45846</td>\n",
       "      <td>45.78</td>\n",
       "      <td>45.42</td>\n",
       "      <td>45.81</td>\n",
       "      <td>45.47</td>\n",
       "      <td>43.34</td>\n",
       "      <td>NaN</td>\n",
       "      <td>1736076</td>\n",
       "      <td>324384755.0</td>\n",
       "    </tr>\n",
       "  </tbody>\n",
       "</table>\n",
       "</div>"
      ],
      "text/plain": [
       "  Ticker       Date  SimFinId   Open    Low   High  Close  Adj. Close  \\\n",
       "0      A 2016-10-06     45846  47.01  46.88  47.43  47.30       45.09   \n",
       "1      A 2016-10-07     45846  47.33  46.99  47.49  47.38       45.16   \n",
       "2      A 2016-10-10     45846  47.58  47.55  48.15  47.69       45.46   \n",
       "3      A 2016-10-11     45846  47.19  45.42  47.19  45.69       43.55   \n",
       "4      A 2016-10-12     45846  45.78  45.42  45.81  45.47       43.34   \n",
       "\n",
       "   Dividend   Volume  Shares Outstanding  \n",
       "0       NaN  1772801         324384755.0  \n",
       "1       NaN  1663127         324384755.0  \n",
       "2       NaN  1544958         324384755.0  \n",
       "3       NaN  2912537         324384755.0  \n",
       "4       NaN  1736076         324384755.0  "
      ]
     },
     "execution_count": 17,
     "metadata": {},
     "output_type": "execute_result"
    },
    {
     "name": "stdout",
     "output_type": "stream",
     "text": [
      "time: 16 ms (started: 2022-10-08 10:00:54 +08:00)\n"
     ]
    }
   ],
   "source": [
    "# Print the first rows of the data.\n",
    "df_prices.head()"
   ]
  },
  {
   "cell_type": "code",
   "execution_count": 18,
   "id": "18189c12",
   "metadata": {},
   "outputs": [
    {
     "data": {
      "text/plain": [
       "(3172869, 11)"
      ]
     },
     "execution_count": 18,
     "metadata": {},
     "output_type": "execute_result"
    },
    {
     "name": "stdout",
     "output_type": "stream",
     "text": [
      "time: 31 ms (started: 2022-10-08 10:00:54 +08:00)\n"
     ]
    }
   ],
   "source": [
    "df_prices.shape"
   ]
  },
  {
   "cell_type": "code",
   "execution_count": null,
   "id": "d8b72b95",
   "metadata": {},
   "outputs": [],
   "source": []
  },
  {
   "cell_type": "code",
   "execution_count": null,
   "id": "a8be715a",
   "metadata": {},
   "outputs": [],
   "source": []
  },
  {
   "cell_type": "code",
   "execution_count": null,
   "id": "3b19f5a8",
   "metadata": {},
   "outputs": [],
   "source": []
  },
  {
   "cell_type": "code",
   "execution_count": null,
   "id": "e781338a",
   "metadata": {},
   "outputs": [],
   "source": []
  },
  {
   "cell_type": "markdown",
   "id": "06ecae77",
   "metadata": {},
   "source": [
    "# Do Functions here"
   ]
  },
  {
   "cell_type": "code",
   "execution_count": 19,
   "id": "7ade2492",
   "metadata": {},
   "outputs": [
    {
     "name": "stdout",
     "output_type": "stream",
     "text": [
      "time: 0 ns (started: 2022-10-08 10:00:54 +08:00)\n"
     ]
    }
   ],
   "source": [
    "def getYPerf(y_):\n",
    "    y=pd.DataFrame()\n",
    "    y[\"Ticker\"] = y_[\"Ticker\"]\n",
    "    y[\"Perf\"]=(y_[\"Open2\"]-y_[\"Open1\"])/y_[\"Open1\"]\n",
    "    y[y[\"Perf\"].isnull()]=0\n",
    "    return y"
   ]
  },
  {
   "cell_type": "code",
   "execution_count": null,
   "id": "1ab4785d",
   "metadata": {},
   "outputs": [],
   "source": []
  },
  {
   "cell_type": "code",
   "execution_count": 20,
   "id": "7db58091",
   "metadata": {},
   "outputs": [
    {
     "data": {
      "text/html": [
       "<div>\n",
       "<style scoped>\n",
       "    .dataframe tbody tr th:only-of-type {\n",
       "        vertical-align: middle;\n",
       "    }\n",
       "\n",
       "    .dataframe tbody tr th {\n",
       "        vertical-align: top;\n",
       "    }\n",
       "\n",
       "    .dataframe thead th {\n",
       "        text-align: right;\n",
       "    }\n",
       "</style>\n",
       "<table border=\"1\" class=\"dataframe\">\n",
       "  <thead>\n",
       "    <tr style=\"text-align: right;\">\n",
       "      <th></th>\n",
       "      <th>Ticker</th>\n",
       "      <th>Date1</th>\n",
       "      <th>Open1</th>\n",
       "      <th>Volume1</th>\n",
       "      <th>Date2</th>\n",
       "      <th>Open2</th>\n",
       "      <th>Volume2</th>\n",
       "    </tr>\n",
       "  </thead>\n",
       "  <tbody>\n",
       "    <tr>\n",
       "      <th>26780</th>\n",
       "      <td>PK</td>\n",
       "      <td>2016-12-31</td>\n",
       "      <td>30.21</td>\n",
       "      <td>33221775.0</td>\n",
       "      <td>2017-12-31</td>\n",
       "      <td>28.87</td>\n",
       "      <td>1294841.0</td>\n",
       "    </tr>\n",
       "    <tr>\n",
       "      <th>16361</th>\n",
       "      <td>HTGM</td>\n",
       "      <td>2021-06-30</td>\n",
       "      <td>5.99</td>\n",
       "      <td>27359.0</td>\n",
       "      <td>2022-06-30</td>\n",
       "      <td>NaN</td>\n",
       "      <td>NaN</td>\n",
       "    </tr>\n",
       "    <tr>\n",
       "      <th>27115</th>\n",
       "      <td>PNW</td>\n",
       "      <td>2020-12-31</td>\n",
       "      <td>79.05</td>\n",
       "      <td>539364.0</td>\n",
       "      <td>2021-12-31</td>\n",
       "      <td>NaN</td>\n",
       "      <td>NaN</td>\n",
       "    </tr>\n",
       "    <tr>\n",
       "      <th>18629</th>\n",
       "      <td>KE</td>\n",
       "      <td>2018-06-30</td>\n",
       "      <td>18.25</td>\n",
       "      <td>53290.0</td>\n",
       "      <td>2019-06-30</td>\n",
       "      <td>16.25</td>\n",
       "      <td>67064.0</td>\n",
       "    </tr>\n",
       "    <tr>\n",
       "      <th>258</th>\n",
       "      <td>ABIO</td>\n",
       "      <td>2021-06-30</td>\n",
       "      <td>3.52</td>\n",
       "      <td>92318.0</td>\n",
       "      <td>2022-06-30</td>\n",
       "      <td>NaN</td>\n",
       "      <td>NaN</td>\n",
       "    </tr>\n",
       "    <tr>\n",
       "      <th>...</th>\n",
       "      <td>...</td>\n",
       "      <td>...</td>\n",
       "      <td>...</td>\n",
       "      <td>...</td>\n",
       "      <td>...</td>\n",
       "      <td>...</td>\n",
       "      <td>...</td>\n",
       "    </tr>\n",
       "    <tr>\n",
       "      <th>22</th>\n",
       "      <td>AA</td>\n",
       "      <td>2017-06-30</td>\n",
       "      <td>33.16</td>\n",
       "      <td>3014777.0</td>\n",
       "      <td>2018-06-30</td>\n",
       "      <td>46.46</td>\n",
       "      <td>2150764.0</td>\n",
       "    </tr>\n",
       "    <tr>\n",
       "      <th>25249</th>\n",
       "      <td>OLLI</td>\n",
       "      <td>2019-05-31</td>\n",
       "      <td>98.38</td>\n",
       "      <td>727763.0</td>\n",
       "      <td>2020-05-30</td>\n",
       "      <td>91.84</td>\n",
       "      <td>2767397.0</td>\n",
       "    </tr>\n",
       "    <tr>\n",
       "      <th>5903</th>\n",
       "      <td>CALA</td>\n",
       "      <td>2020-09-30</td>\n",
       "      <td>71.50</td>\n",
       "      <td>23076.0</td>\n",
       "      <td>2021-09-30</td>\n",
       "      <td>43.20</td>\n",
       "      <td>38780.0</td>\n",
       "    </tr>\n",
       "    <tr>\n",
       "      <th>19675</th>\n",
       "      <td>LFVN</td>\n",
       "      <td>2017-12-31</td>\n",
       "      <td>4.79</td>\n",
       "      <td>8906.0</td>\n",
       "      <td>2018-12-31</td>\n",
       "      <td>13.04</td>\n",
       "      <td>119735.0</td>\n",
       "    </tr>\n",
       "    <tr>\n",
       "      <th>24449</th>\n",
       "      <td>NTRA</td>\n",
       "      <td>2019-03-31</td>\n",
       "      <td>20.81</td>\n",
       "      <td>1000080.0</td>\n",
       "      <td>2020-03-30</td>\n",
       "      <td>25.50</td>\n",
       "      <td>1607681.0</td>\n",
       "    </tr>\n",
       "  </tbody>\n",
       "</table>\n",
       "<p>5930 rows × 7 columns</p>\n",
       "</div>"
      ],
      "text/plain": [
       "      Ticker      Date1  Open1     Volume1      Date2  Open2    Volume2\n",
       "26780     PK 2016-12-31  30.21  33221775.0 2017-12-31  28.87  1294841.0\n",
       "16361   HTGM 2021-06-30   5.99     27359.0 2022-06-30    NaN        NaN\n",
       "27115    PNW 2020-12-31  79.05    539364.0 2021-12-31    NaN        NaN\n",
       "18629     KE 2018-06-30  18.25     53290.0 2019-06-30  16.25    67064.0\n",
       "258     ABIO 2021-06-30   3.52     92318.0 2022-06-30    NaN        NaN\n",
       "...      ...        ...    ...         ...        ...    ...        ...\n",
       "22        AA 2017-06-30  33.16   3014777.0 2018-06-30  46.46  2150764.0\n",
       "25249   OLLI 2019-05-31  98.38    727763.0 2020-05-30  91.84  2767397.0\n",
       "5903    CALA 2020-09-30  71.50     23076.0 2021-09-30  43.20    38780.0\n",
       "19675   LFVN 2017-12-31   4.79      8906.0 2018-12-31  13.04   119735.0\n",
       "24449   NTRA 2019-03-31  20.81   1000080.0 2020-03-30  25.50  1607681.0\n",
       "\n",
       "[5930 rows x 7 columns]"
      ]
     },
     "execution_count": 20,
     "metadata": {},
     "output_type": "execute_result"
    },
    {
     "name": "stdout",
     "output_type": "stream",
     "text": [
      "time: 15 ms (started: 2022-10-08 10:00:54 +08:00)\n"
     ]
    }
   ],
   "source": [
    "y_withdata_test"
   ]
  },
  {
   "cell_type": "code",
   "execution_count": 21,
   "id": "07fadac5",
   "metadata": {},
   "outputs": [
    {
     "name": "stdout",
     "output_type": "stream",
     "text": [
      "time: 0 ns (started: 2022-10-08 10:00:54 +08:00)\n"
     ]
    }
   ],
   "source": []
  },
  {
   "cell_type": "code",
   "execution_count": null,
   "id": "9fd4e1f8",
   "metadata": {},
   "outputs": [],
   "source": []
  },
  {
   "cell_type": "code",
   "execution_count": 22,
   "id": "2990b462",
   "metadata": {},
   "outputs": [
    {
     "name": "stdout",
     "output_type": "stream",
     "text": [
      "time: 0 ns (started: 2022-10-08 10:00:54 +08:00)\n"
     ]
    }
   ],
   "source": []
  },
  {
   "cell_type": "code",
   "execution_count": null,
   "id": "c263d9d7",
   "metadata": {},
   "outputs": [],
   "source": []
  },
  {
   "cell_type": "code",
   "execution_count": null,
   "id": "0c9ddbec",
   "metadata": {},
   "outputs": [],
   "source": []
  },
  {
   "cell_type": "markdown",
   "id": "488514db",
   "metadata": {},
   "source": [
    "## Functions tested and working"
   ]
  },
  {
   "cell_type": "markdown",
   "id": "8005ed62",
   "metadata": {},
   "source": [
    "### Function 1: Get stock price between dates"
   ]
  },
  {
   "cell_type": "code",
   "execution_count": 24,
   "id": "a894c066",
   "metadata": {
    "scrolled": true
   },
   "outputs": [
    {
     "name": "stdout",
     "output_type": "stream",
     "text": [
      "time: 0 ns (started: 2022-10-08 10:00:54 +08:00)\n"
     ]
    }
   ],
   "source": [
    "# To get the stock price between 2 dates for a particular ticker\n",
    "def getStockPriceBetweenDates(date1, date2, ticker, df_prices):\n",
    "    rows = df_prices.loc[(df_prices[\"Date\"]>date1) & \n",
    "                         (df_prices[\"Date\"]<date2) & \n",
    "                         (df_prices[\"Ticker\"]==ticker)]\n",
    "    return rows"
   ]
  },
  {
   "cell_type": "code",
   "execution_count": 25,
   "id": "f005d199",
   "metadata": {
    "scrolled": true
   },
   "outputs": [
    {
     "data": {
      "text/html": [
       "<div>\n",
       "<style scoped>\n",
       "    .dataframe tbody tr th:only-of-type {\n",
       "        vertical-align: middle;\n",
       "    }\n",
       "\n",
       "    .dataframe tbody tr th {\n",
       "        vertical-align: top;\n",
       "    }\n",
       "\n",
       "    .dataframe thead th {\n",
       "        text-align: right;\n",
       "    }\n",
       "</style>\n",
       "<table border=\"1\" class=\"dataframe\">\n",
       "  <thead>\n",
       "    <tr style=\"text-align: right;\">\n",
       "      <th></th>\n",
       "      <th>Ticker</th>\n",
       "      <th>Date</th>\n",
       "      <th>SimFinId</th>\n",
       "      <th>Open</th>\n",
       "      <th>Low</th>\n",
       "      <th>High</th>\n",
       "      <th>Close</th>\n",
       "      <th>Adj. Close</th>\n",
       "      <th>Dividend</th>\n",
       "      <th>Volume</th>\n",
       "      <th>Shares Outstanding</th>\n",
       "    </tr>\n",
       "  </thead>\n",
       "  <tbody>\n",
       "    <tr>\n",
       "      <th>10283</th>\n",
       "      <td>AAPL</td>\n",
       "      <td>2016-10-10</td>\n",
       "      <td>111052</td>\n",
       "      <td>28.75</td>\n",
       "      <td>28.68</td>\n",
       "      <td>29.19</td>\n",
       "      <td>29.01</td>\n",
       "      <td>27.05</td>\n",
       "      <td>NaN</td>\n",
       "      <td>144943824</td>\n",
       "      <td>2.134466e+10</td>\n",
       "    </tr>\n",
       "    <tr>\n",
       "      <th>10284</th>\n",
       "      <td>AAPL</td>\n",
       "      <td>2016-10-11</td>\n",
       "      <td>111052</td>\n",
       "      <td>29.43</td>\n",
       "      <td>29.05</td>\n",
       "      <td>29.67</td>\n",
       "      <td>29.07</td>\n",
       "      <td>27.11</td>\n",
       "      <td>NaN</td>\n",
       "      <td>256164172</td>\n",
       "      <td>2.134466e+10</td>\n",
       "    </tr>\n",
       "    <tr>\n",
       "      <th>10285</th>\n",
       "      <td>AAPL</td>\n",
       "      <td>2016-10-12</td>\n",
       "      <td>111052</td>\n",
       "      <td>29.34</td>\n",
       "      <td>29.19</td>\n",
       "      <td>29.50</td>\n",
       "      <td>29.34</td>\n",
       "      <td>27.35</td>\n",
       "      <td>NaN</td>\n",
       "      <td>150347148</td>\n",
       "      <td>2.134466e+10</td>\n",
       "    </tr>\n",
       "    <tr>\n",
       "      <th>10286</th>\n",
       "      <td>AAPL</td>\n",
       "      <td>2016-10-13</td>\n",
       "      <td>111052</td>\n",
       "      <td>29.20</td>\n",
       "      <td>28.93</td>\n",
       "      <td>29.36</td>\n",
       "      <td>29.25</td>\n",
       "      <td>27.27</td>\n",
       "      <td>NaN</td>\n",
       "      <td>140769624</td>\n",
       "      <td>2.134466e+10</td>\n",
       "    </tr>\n",
       "    <tr>\n",
       "      <th>10287</th>\n",
       "      <td>AAPL</td>\n",
       "      <td>2016-10-14</td>\n",
       "      <td>111052</td>\n",
       "      <td>29.47</td>\n",
       "      <td>29.28</td>\n",
       "      <td>29.54</td>\n",
       "      <td>29.41</td>\n",
       "      <td>27.42</td>\n",
       "      <td>NaN</td>\n",
       "      <td>142608764</td>\n",
       "      <td>2.132925e+10</td>\n",
       "    </tr>\n",
       "  </tbody>\n",
       "</table>\n",
       "</div>"
      ],
      "text/plain": [
       "      Ticker       Date  SimFinId   Open    Low   High  Close  Adj. Close  \\\n",
       "10283   AAPL 2016-10-10    111052  28.75  28.68  29.19  29.01       27.05   \n",
       "10284   AAPL 2016-10-11    111052  29.43  29.05  29.67  29.07       27.11   \n",
       "10285   AAPL 2016-10-12    111052  29.34  29.19  29.50  29.34       27.35   \n",
       "10286   AAPL 2016-10-13    111052  29.20  28.93  29.36  29.25       27.27   \n",
       "10287   AAPL 2016-10-14    111052  29.47  29.28  29.54  29.41       27.42   \n",
       "\n",
       "       Dividend     Volume  Shares Outstanding  \n",
       "10283       NaN  144943824        2.134466e+10  \n",
       "10284       NaN  256164172        2.134466e+10  \n",
       "10285       NaN  150347148        2.134466e+10  \n",
       "10286       NaN  140769624        2.134466e+10  \n",
       "10287       NaN  142608764        2.132925e+10  "
      ]
     },
     "execution_count": 25,
     "metadata": {},
     "output_type": "execute_result"
    },
    {
     "name": "stdout",
     "output_type": "stream",
     "text": [
      "time: 266 ms (started: 2022-10-08 10:00:54 +08:00)\n"
     ]
    }
   ],
   "source": [
    "# Testing above function\n",
    "getStockPriceBetweenDates('2016-10-09', '2016-10-15', 'AAPL', df_prices)"
   ]
  },
  {
   "cell_type": "markdown",
   "id": "40ceb174",
   "metadata": {},
   "source": [
    "### Function 2: Get stock price data"
   ]
  },
  {
   "cell_type": "code",
   "execution_count": 26,
   "id": "e5d07c20",
   "metadata": {},
   "outputs": [
    {
     "name": "stdout",
     "output_type": "stream",
     "text": [
      "time: 0 ns (started: 2022-10-08 10:00:55 +08:00)\n"
     ]
    }
   ],
   "source": [
    "# Expansion of the above\n",
    "# Will do a filter on daily stock prices to get stock price we want on the days we want\n",
    "def getStockPriceData(ticker, y_, mask, daily_stock_prices):\n",
    "    date1 = y_[mask][y_[mask][\"Ticker\"] == ticker][\"Date1\"].values[0]\n",
    "    date2 = y_[mask][y_[mask][\"Ticker\"] == ticker][\"Date2\"].values[0]\n",
    "    rows = getStockPriceBetweenDates(date1, date2, ticker, daily_stock_prices)\n",
    "    return rows"
   ]
  },
  {
   "cell_type": "code",
   "execution_count": 27,
   "id": "b351f04e",
   "metadata": {},
   "outputs": [
    {
     "name": "stdout",
     "output_type": "stream",
     "text": [
      "time: 0 ns (started: 2022-10-08 10:00:55 +08:00)\n"
     ]
    }
   ],
   "source": [
    "datemask = y_withdata_test[\"Date1\"].between(\\\n",
    "            pd.to_datetime('2016-11-11') - pd.Timedelta(days=60),\\\n",
    "            pd.to_datetime('2016-11-11') + pd.Timedelta(days=60) )"
   ]
  },
  {
   "cell_type": "code",
   "execution_count": 31,
   "id": "5c3782b6",
   "metadata": {
    "scrolled": true
   },
   "outputs": [
    {
     "data": {
      "text/html": [
       "<div>\n",
       "<style scoped>\n",
       "    .dataframe tbody tr th:only-of-type {\n",
       "        vertical-align: middle;\n",
       "    }\n",
       "\n",
       "    .dataframe tbody tr th {\n",
       "        vertical-align: top;\n",
       "    }\n",
       "\n",
       "    .dataframe thead th {\n",
       "        text-align: right;\n",
       "    }\n",
       "</style>\n",
       "<table border=\"1\" class=\"dataframe\">\n",
       "  <thead>\n",
       "    <tr style=\"text-align: right;\">\n",
       "      <th></th>\n",
       "      <th>Ticker</th>\n",
       "      <th>Date</th>\n",
       "      <th>SimFinId</th>\n",
       "      <th>Open</th>\n",
       "      <th>Low</th>\n",
       "      <th>High</th>\n",
       "      <th>Close</th>\n",
       "      <th>Adj. Close</th>\n",
       "      <th>Dividend</th>\n",
       "      <th>Volume</th>\n",
       "      <th>Shares Outstanding</th>\n",
       "    </tr>\n",
       "  </thead>\n",
       "  <tbody>\n",
       "    <tr>\n",
       "      <th>18</th>\n",
       "      <td>A</td>\n",
       "      <td>2016-11-01</td>\n",
       "      <td>45846</td>\n",
       "      <td>43.73</td>\n",
       "      <td>43.14</td>\n",
       "      <td>44.11</td>\n",
       "      <td>43.49</td>\n",
       "      <td>41.46</td>\n",
       "      <td>NaN</td>\n",
       "      <td>2133116</td>\n",
       "      <td>324384755.0</td>\n",
       "    </tr>\n",
       "    <tr>\n",
       "      <th>19</th>\n",
       "      <td>A</td>\n",
       "      <td>2016-11-02</td>\n",
       "      <td>45846</td>\n",
       "      <td>43.47</td>\n",
       "      <td>43.24</td>\n",
       "      <td>43.73</td>\n",
       "      <td>43.26</td>\n",
       "      <td>41.24</td>\n",
       "      <td>NaN</td>\n",
       "      <td>2240428</td>\n",
       "      <td>324384755.0</td>\n",
       "    </tr>\n",
       "    <tr>\n",
       "      <th>20</th>\n",
       "      <td>A</td>\n",
       "      <td>2016-11-03</td>\n",
       "      <td>45846</td>\n",
       "      <td>43.33</td>\n",
       "      <td>43.18</td>\n",
       "      <td>44.00</td>\n",
       "      <td>43.66</td>\n",
       "      <td>41.62</td>\n",
       "      <td>NaN</td>\n",
       "      <td>2510054</td>\n",
       "      <td>324384755.0</td>\n",
       "    </tr>\n",
       "    <tr>\n",
       "      <th>21</th>\n",
       "      <td>A</td>\n",
       "      <td>2016-11-04</td>\n",
       "      <td>45846</td>\n",
       "      <td>43.69</td>\n",
       "      <td>43.69</td>\n",
       "      <td>44.91</td>\n",
       "      <td>44.32</td>\n",
       "      <td>42.25</td>\n",
       "      <td>NaN</td>\n",
       "      <td>2220908</td>\n",
       "      <td>324384755.0</td>\n",
       "    </tr>\n",
       "    <tr>\n",
       "      <th>22</th>\n",
       "      <td>A</td>\n",
       "      <td>2016-11-07</td>\n",
       "      <td>45846</td>\n",
       "      <td>44.99</td>\n",
       "      <td>44.95</td>\n",
       "      <td>45.76</td>\n",
       "      <td>45.71</td>\n",
       "      <td>43.57</td>\n",
       "      <td>NaN</td>\n",
       "      <td>1723957</td>\n",
       "      <td>324384755.0</td>\n",
       "    </tr>\n",
       "    <tr>\n",
       "      <th>...</th>\n",
       "      <td>...</td>\n",
       "      <td>...</td>\n",
       "      <td>...</td>\n",
       "      <td>...</td>\n",
       "      <td>...</td>\n",
       "      <td>...</td>\n",
       "      <td>...</td>\n",
       "      <td>...</td>\n",
       "      <td>...</td>\n",
       "      <td>...</td>\n",
       "      <td>...</td>\n",
       "    </tr>\n",
       "    <tr>\n",
       "      <th>264</th>\n",
       "      <td>A</td>\n",
       "      <td>2017-10-24</td>\n",
       "      <td>45846</td>\n",
       "      <td>67.31</td>\n",
       "      <td>66.88</td>\n",
       "      <td>67.55</td>\n",
       "      <td>67.32</td>\n",
       "      <td>64.79</td>\n",
       "      <td>NaN</td>\n",
       "      <td>1966591</td>\n",
       "      <td>321828003.0</td>\n",
       "    </tr>\n",
       "    <tr>\n",
       "      <th>265</th>\n",
       "      <td>A</td>\n",
       "      <td>2017-10-25</td>\n",
       "      <td>45846</td>\n",
       "      <td>67.90</td>\n",
       "      <td>67.03</td>\n",
       "      <td>68.52</td>\n",
       "      <td>67.39</td>\n",
       "      <td>64.86</td>\n",
       "      <td>NaN</td>\n",
       "      <td>1590110</td>\n",
       "      <td>321828003.0</td>\n",
       "    </tr>\n",
       "    <tr>\n",
       "      <th>266</th>\n",
       "      <td>A</td>\n",
       "      <td>2017-10-26</td>\n",
       "      <td>45846</td>\n",
       "      <td>67.53</td>\n",
       "      <td>67.20</td>\n",
       "      <td>67.83</td>\n",
       "      <td>67.71</td>\n",
       "      <td>65.17</td>\n",
       "      <td>NaN</td>\n",
       "      <td>1417947</td>\n",
       "      <td>321828003.0</td>\n",
       "    </tr>\n",
       "    <tr>\n",
       "      <th>267</th>\n",
       "      <td>A</td>\n",
       "      <td>2017-10-27</td>\n",
       "      <td>45846</td>\n",
       "      <td>67.81</td>\n",
       "      <td>67.41</td>\n",
       "      <td>68.01</td>\n",
       "      <td>67.97</td>\n",
       "      <td>65.42</td>\n",
       "      <td>NaN</td>\n",
       "      <td>1440956</td>\n",
       "      <td>321828003.0</td>\n",
       "    </tr>\n",
       "    <tr>\n",
       "      <th>268</th>\n",
       "      <td>A</td>\n",
       "      <td>2017-10-30</td>\n",
       "      <td>45846</td>\n",
       "      <td>67.80</td>\n",
       "      <td>67.10</td>\n",
       "      <td>67.93</td>\n",
       "      <td>67.49</td>\n",
       "      <td>64.96</td>\n",
       "      <td>NaN</td>\n",
       "      <td>846605</td>\n",
       "      <td>321828003.0</td>\n",
       "    </tr>\n",
       "  </tbody>\n",
       "</table>\n",
       "<p>251 rows × 11 columns</p>\n",
       "</div>"
      ],
      "text/plain": [
       "    Ticker       Date  SimFinId   Open    Low   High  Close  Adj. Close  \\\n",
       "18       A 2016-11-01     45846  43.73  43.14  44.11  43.49       41.46   \n",
       "19       A 2016-11-02     45846  43.47  43.24  43.73  43.26       41.24   \n",
       "20       A 2016-11-03     45846  43.33  43.18  44.00  43.66       41.62   \n",
       "21       A 2016-11-04     45846  43.69  43.69  44.91  44.32       42.25   \n",
       "22       A 2016-11-07     45846  44.99  44.95  45.76  45.71       43.57   \n",
       "..     ...        ...       ...    ...    ...    ...    ...         ...   \n",
       "264      A 2017-10-24     45846  67.31  66.88  67.55  67.32       64.79   \n",
       "265      A 2017-10-25     45846  67.90  67.03  68.52  67.39       64.86   \n",
       "266      A 2017-10-26     45846  67.53  67.20  67.83  67.71       65.17   \n",
       "267      A 2017-10-27     45846  67.81  67.41  68.01  67.97       65.42   \n",
       "268      A 2017-10-30     45846  67.80  67.10  67.93  67.49       64.96   \n",
       "\n",
       "     Dividend   Volume  Shares Outstanding  \n",
       "18        NaN  2133116         324384755.0  \n",
       "19        NaN  2240428         324384755.0  \n",
       "20        NaN  2510054         324384755.0  \n",
       "21        NaN  2220908         324384755.0  \n",
       "22        NaN  1723957         324384755.0  \n",
       "..        ...      ...                 ...  \n",
       "264       NaN  1966591         321828003.0  \n",
       "265       NaN  1590110         321828003.0  \n",
       "266       NaN  1417947         321828003.0  \n",
       "267       NaN  1440956         321828003.0  \n",
       "268       NaN   846605         321828003.0  \n",
       "\n",
       "[251 rows x 11 columns]"
      ]
     },
     "execution_count": 31,
     "metadata": {},
     "output_type": "execute_result"
    },
    {
     "name": "stdout",
     "output_type": "stream",
     "text": [
      "time: 156 ms (started: 2022-10-08 10:03:19 +08:00)\n"
     ]
    }
   ],
   "source": [
    "a_prices = getStockPriceData('A', y_withdata_test, datemask, df_prices)\n",
    "a_prices"
   ]
  },
  {
   "cell_type": "code",
   "execution_count": null,
   "id": "e74c0955",
   "metadata": {},
   "outputs": [],
   "source": [
    "y_withdata_test[datemask][y_withdata_test[datemask]['Ticker']=='A']"
   ]
  },
  {
   "cell_type": "markdown",
   "id": "85fa674c",
   "metadata": {},
   "source": [
    "### Function 3: Get data for date range"
   ]
  },
  {
   "cell_type": "code",
   "execution_count": 80,
   "id": "862d17b5",
   "metadata": {},
   "outputs": [
    {
     "name": "stdout",
     "output_type": "stream",
     "text": [
      "time: 0 ns (started: 2022-10-08 11:38:02 +08:00)\n"
     ]
    }
   ],
   "source": [
    "# Weekly date index is the weekly dates and rows are the stock price data\n",
    "\n",
    "def getDataForDateRange(weekly_date_index, rows):\n",
    "    ''' \n",
    "    Given a date range(index), and a series of rows, that may not correspond exactly,\n",
    "    return a DataFrame that gets rows data, for each period in the date range(index)\n",
    "    ''' \n",
    "    # Create an empty dataframe to store the weekly stock data later\n",
    "    WeeklyStockDataRows = pd.DataFrame()\n",
    "\n",
    "    for i in weekly_date_index:\n",
    "        WeeklyStockDataRows.append(rows.iloc[rows.index.get_loc(i, method=\"nearest\")])\n",
    "    return WeeklyStockDataRows"
   ]
  },
  {
   "cell_type": "markdown",
   "id": "af2396c2",
   "metadata": {},
   "source": [
    "### Function 4: Get Stock Time Series"
   ]
  },
  {
   "cell_type": "code",
   "execution_count": 102,
   "id": "82dbc7e7",
   "metadata": {},
   "outputs": [
    {
     "name": "stdout",
     "output_type": "stream",
     "text": [
      "time: 0 ns (started: 2022-10-08 13:30:04 +08:00)\n"
     ]
    }
   ],
   "source": [
    "# Returns the rows from daily_stock_prices of the stocks and years that we want\n",
    "\n",
    "def getStockTimeSeries(dateTimeIndex, y_withData, tickers, mask, daily_stock_prices):\n",
    "    ''' \n",
    "    Get the stock price as a time series DataFrame for a list of tickers.\n",
    "    A mask is used to only consider stocks for a certain period.\n",
    "    dateTimeIndex is typically a weekly index, so we know what days to fetch the price for.\n",
    "    '''\n",
    "    stockReturns = pd.DataFrame(index=dateTimeIndex)\n",
    "    dTI_new = dateTimeIndex.strftime('%Y-%m-%d') # Change Date Format\n",
    "    rows = pd.DataFrame()\n",
    "    \n",
    "    for tick in tickers:\n",
    "        # Here \"rows\" is stock price time series data for individual stock\n",
    "        rows = getStockPriceData(tick, y_withData, mask, daily_stock_prices)\n",
    "        \n",
    "        rows.index = pd.DatetimeIndex(rows[\"Date\"])\n",
    "\n",
    "        # Gets our stock price data to be in a weekly format, using the closest day if the data for a day we want is missing.\n",
    "        WeeklyStockDataRows = getDataForDateRange(dTI_new, rows)\n",
    "\n",
    "        # Here can use Open, Close, Adj. Close, etc. price\n",
    "        stockReturns[tick] = WeeklyStockDataRows[\"Close\"].values\n",
    "        \n",
    "    return stockRet"
   ]
  },
  {
   "cell_type": "markdown",
   "id": "c2d4ec4d",
   "metadata": {},
   "source": [
    "### Function 5: Get portfolio relative time series (Start from base level of 100)"
   ]
  },
  {
   "cell_type": "code",
   "execution_count": 107,
   "id": "8dc25f8d",
   "metadata": {},
   "outputs": [
    {
     "name": "stdout",
     "output_type": "stream",
     "text": [
      "time: 0 ns (started: 2022-10-08 13:56:18 +08:00)\n"
     ]
    }
   ],
   "source": [
    "def getPortfolioRelativeTimeSeries(stockRet):\n",
    "    ''' Takes DataFrame of stock returns, one column per stock\n",
    "    Normalises all the numbers so the price at the start is 1.\n",
    "    Adds a column for the portfolio value.\n",
    "    '''\n",
    "    for key in stockRet.keys():\n",
    "        stockRet[key] = stockRet[key]/stockRet[key][0]\n",
    "            \n",
    "    stockRet[\"Portfolio\"] = stockRet.sum(axis=1)/(stockRet.keys().shape[0])\n",
    "    return stockRet"
   ]
  },
  {
   "cell_type": "markdown",
   "id": "7b5c8b74",
   "metadata": {},
   "source": [
    "### Function 6: Get Portfolio Time Series for the year"
   ]
  },
  {
   "cell_type": "code",
   "execution_count": 91,
   "id": "1e384bbc",
   "metadata": {},
   "outputs": [
    {
     "name": "stdout",
     "output_type": "stream",
     "text": [
      "time: 0 ns (started: 2022-10-08 11:51:39 +08:00)\n"
     ]
    }
   ],
   "source": [
    "def getPortTimeSeriesForYear(date_starting, y_withData, X, daily_stock_prices, ml_model_pipeline):\n",
    "    '''\n",
    "    Function runs a backtest.\n",
    "    Returns DataFrames of selected stocks/portfolio performance, for 1 year.\n",
    "    y_withData is annual stock performances (all backtest years)\n",
    "    date_starting e.g. '2010-01-01'\n",
    "    daily_stock_prices is daily(mostly) stock price time series for all stocks\n",
    "    '''\n",
    "    # Get y dataframe with ticker and ticker performance only\n",
    "    y = getYPerf(y_withData)\n",
    "    \n",
    "    # Get performance only for time frame we care about, mask original data using the start date\n",
    "    thisYearMask = y_withData[\"Date1\"].between(\\\n",
    "            pd.to_datetime(date_starting) - pd.Timedelta(days=60),\\\n",
    "            pd.to_datetime(date_starting) + pd.Timedelta(days=60) )\n",
    "    \n",
    "    # Get return prediction from model\n",
    "    y_pred = ml_model_pipeline.predict(X[thisYearMask])\n",
    "    \n",
    "    # Make it a DataFrame to select the top picks\n",
    "    y_pred = pd.DataFrame(y_pred)\n",
    "    \n",
    "    # Bool list of top stocks\n",
    "    bl_bestStocks = (y_pred[0]>y_pred.nlargest(8,0).tail(1)[0].values[0]) \n",
    "    \n",
    "    # DatetimeIndex (weekly)\n",
    "    dateTimeIndex = pd.date_range(start=date_starting, periods=52, freq='W')\n",
    "    \n",
    "    # 7 greatest performance stocks of y_pred \n",
    "    ticker_list = y[thisYearMask].reset_index(drop=True)\\\n",
    "                  [bl_bestStocks][\"Ticker\"].values\n",
    "    \n",
    "    # Issue with one of the tickers equaling 0, fix with lambda function\n",
    "    #ticker_list = list(filter(lambda dateTimeIndex: dateTimeIndex != 0, ticker_list))\n",
    "\n",
    "    # After we know our stock picks, we get the stock performance\n",
    "    # Get DataFrame index of time stamp, series of stock prices, keys=tickers\n",
    "    stockRet = getStockTimeSeries(dateTimeIndex, y_withData, \n",
    "                                  ticker_list, thisYearMask, \n",
    "                                  daily_stock_prices)\n",
    "    \n",
    "    # Get DataFrame of relative stock prices from \n",
    "    # 1st day(or close) and whole portfolio\n",
    "    stockRetRel = getPortfolioRelativeTimeSeries(stockRet)\n",
    "    return [stockRetRel, stockRetRel[\"Portfolio\"], ticker_list]"
   ]
  },
  {
   "cell_type": "markdown",
   "id": "efb4d170",
   "metadata": {},
   "source": [
    "### Function 7: Get portfolio time series"
   ]
  },
  {
   "cell_type": "code",
   "execution_count": 108,
   "id": "e9d5ed5d",
   "metadata": {},
   "outputs": [
    {
     "name": "stdout",
     "output_type": "stream",
     "text": [
      "time: 0 ns (started: 2022-10-08 13:57:31 +08:00)\n"
     ]
    }
   ],
   "source": [
    "def getPortTimeSeries(y_withData, X, daily_stock_prices, ml_model_pipeline, verbose=True):\n",
    "\n",
    "    # Set date range to make stock picks over\n",
    "    date_range = pd.date_range(start='2016-01-01', periods=5, freq='Y')\n",
    "    \n",
    "    # For each date in the date_range, make stock selections\n",
    "    # and plot the return results of those stock selections\n",
    "    port_perf_all_years = pd.DataFrame()\n",
    "    \n",
    "    perfRef=1 # Performance starts at 1.\n",
    "    \n",
    "    for curr_date in date_range:\n",
    "        [comp, this_year_perf, ticker_list] = getPortTimeSeriesForYear(curr_date, y_withData, X,\n",
    "                                                                       daily_stock_prices, ml_model_pipeline)\n",
    "        \n",
    "        if verbose: # If you want text output\n",
    "            print(\"Backtest performance for year starting \", curr_date, \" is:\",\\\n",
    "                  round((this_year_perf.iloc[-1]-1)*100,2), \"%\")\n",
    "            print(\"With stocks:\", ticker_list)\n",
    "        \n",
    "        for tick in ticker_list:\n",
    "            print(tick, \"Performance was:\", round((comp[tick].iloc[-1]-1)*100,2), \"%\" )\n",
    "        print(\"---------------------------------------------\")\n",
    "        \n",
    "        # Stitch performance for every year together\n",
    "        this_year_perf = this_year_perf * perfRef\n",
    "        port_perf_all_years = pd.concat([port_perf_all_years, this_year_perf])\n",
    "        perfRef = this_year_perf.iloc[-1]\n",
    "\n",
    "    # Return portfolio performance for all years\n",
    "    port_perf_all_years.columns = [\"Indexed Performance\"]\n",
    "        \n",
    "    return port_perf_all_years"
   ]
  },
  {
   "cell_type": "code",
   "execution_count": null,
   "id": "73a04fcc",
   "metadata": {},
   "outputs": [],
   "source": []
  },
  {
   "cell_type": "code",
   "execution_count": null,
   "id": "cfb55e0b",
   "metadata": {},
   "outputs": [],
   "source": []
  },
  {
   "cell_type": "code",
   "execution_count": null,
   "id": "f724a826",
   "metadata": {},
   "outputs": [],
   "source": []
  },
  {
   "cell_type": "code",
   "execution_count": null,
   "id": "339bc4dc",
   "metadata": {},
   "outputs": [],
   "source": []
  },
  {
   "cell_type": "code",
   "execution_count": null,
   "id": "9d44c368",
   "metadata": {},
   "outputs": [],
   "source": []
  },
  {
   "cell_type": "code",
   "execution_count": null,
   "id": "383165b6",
   "metadata": {},
   "outputs": [],
   "source": []
  },
  {
   "cell_type": "code",
   "execution_count": 109,
   "id": "c0504866",
   "metadata": {},
   "outputs": [
    {
     "ename": "KeyError",
     "evalue": "'Close'",
     "output_type": "error",
     "traceback": [
      "\u001b[1;31m---------------------------------------------------------------------------\u001b[0m",
      "\u001b[1;31mKeyError\u001b[0m                                  Traceback (most recent call last)",
      "\u001b[1;32m~\\anaconda3\\lib\\site-packages\\pandas\\core\\indexes\\base.py\u001b[0m in \u001b[0;36mget_loc\u001b[1;34m(self, key, method, tolerance)\u001b[0m\n\u001b[0;32m   3360\u001b[0m             \u001b[1;32mtry\u001b[0m\u001b[1;33m:\u001b[0m\u001b[1;33m\u001b[0m\u001b[1;33m\u001b[0m\u001b[0m\n\u001b[1;32m-> 3361\u001b[1;33m                 \u001b[1;32mreturn\u001b[0m \u001b[0mself\u001b[0m\u001b[1;33m.\u001b[0m\u001b[0m_engine\u001b[0m\u001b[1;33m.\u001b[0m\u001b[0mget_loc\u001b[0m\u001b[1;33m(\u001b[0m\u001b[0mcasted_key\u001b[0m\u001b[1;33m)\u001b[0m\u001b[1;33m\u001b[0m\u001b[1;33m\u001b[0m\u001b[0m\n\u001b[0m\u001b[0;32m   3362\u001b[0m             \u001b[1;32mexcept\u001b[0m \u001b[0mKeyError\u001b[0m \u001b[1;32mas\u001b[0m \u001b[0merr\u001b[0m\u001b[1;33m:\u001b[0m\u001b[1;33m\u001b[0m\u001b[1;33m\u001b[0m\u001b[0m\n",
      "\u001b[1;32m~\\anaconda3\\lib\\site-packages\\pandas\\_libs\\index.pyx\u001b[0m in \u001b[0;36mpandas._libs.index.IndexEngine.get_loc\u001b[1;34m()\u001b[0m\n",
      "\u001b[1;32m~\\anaconda3\\lib\\site-packages\\pandas\\_libs\\index.pyx\u001b[0m in \u001b[0;36mpandas._libs.index.IndexEngine.get_loc\u001b[1;34m()\u001b[0m\n",
      "\u001b[1;32mpandas\\_libs\\hashtable_class_helper.pxi\u001b[0m in \u001b[0;36mpandas._libs.hashtable.PyObjectHashTable.get_item\u001b[1;34m()\u001b[0m\n",
      "\u001b[1;32mpandas\\_libs\\hashtable_class_helper.pxi\u001b[0m in \u001b[0;36mpandas._libs.hashtable.PyObjectHashTable.get_item\u001b[1;34m()\u001b[0m\n",
      "\u001b[1;31mKeyError\u001b[0m: 'Close'",
      "\nThe above exception was the direct cause of the following exception:\n",
      "\u001b[1;31mKeyError\u001b[0m                                  Traceback (most recent call last)",
      "\u001b[1;32m~\\AppData\\Local\\Temp/ipykernel_31732/287021594.py\u001b[0m in \u001b[0;36m<module>\u001b[1;34m\u001b[0m\n\u001b[1;32m----> 1\u001b[1;33m \u001b[0mgetPortTimeSeries\u001b[0m\u001b[1;33m(\u001b[0m\u001b[0my_withdata_test\u001b[0m\u001b[1;33m,\u001b[0m \u001b[0mX_test\u001b[0m\u001b[1;33m,\u001b[0m \u001b[0mdf_prices\u001b[0m\u001b[1;33m,\u001b[0m \u001b[0mrf\u001b[0m\u001b[1;33m)\u001b[0m\u001b[1;33m\u001b[0m\u001b[1;33m\u001b[0m\u001b[0m\n\u001b[0m",
      "\u001b[1;32m~\\AppData\\Local\\Temp/ipykernel_31732/3413921086.py\u001b[0m in \u001b[0;36mgetPortTimeSeries\u001b[1;34m(y_withData, X, daily_stock_prices, ml_model_pipeline, verbose)\u001b[0m\n\u001b[0;32m     11\u001b[0m \u001b[1;33m\u001b[0m\u001b[0m\n\u001b[0;32m     12\u001b[0m     \u001b[1;32mfor\u001b[0m \u001b[0mcurr_date\u001b[0m \u001b[1;32min\u001b[0m \u001b[0mdate_range\u001b[0m\u001b[1;33m:\u001b[0m\u001b[1;33m\u001b[0m\u001b[1;33m\u001b[0m\u001b[0m\n\u001b[1;32m---> 13\u001b[1;33m         [comp, this_year_perf, ticker_list] = getPortTimeSeriesForYear(curr_date, y_withData, X,\n\u001b[0m\u001b[0;32m     14\u001b[0m                                                                        daily_stock_prices, ml_model_pipeline)\n\u001b[0;32m     15\u001b[0m \u001b[1;33m\u001b[0m\u001b[0m\n",
      "\u001b[1;32m~\\AppData\\Local\\Temp/ipykernel_31732/1250863842.py\u001b[0m in \u001b[0;36mgetPortTimeSeriesForYear\u001b[1;34m(date_starting, y_withData, X, daily_stock_prices, ml_model_pipeline)\u001b[0m\n\u001b[0;32m     36\u001b[0m     \u001b[1;31m# After we know our stock picks, we get the stock performance\u001b[0m\u001b[1;33m\u001b[0m\u001b[1;33m\u001b[0m\u001b[0m\n\u001b[0;32m     37\u001b[0m     \u001b[1;31m# Get DataFrame index of time stamp, series of stock prices, keys=tickers\u001b[0m\u001b[1;33m\u001b[0m\u001b[1;33m\u001b[0m\u001b[0m\n\u001b[1;32m---> 38\u001b[1;33m     stockRet = getStockTimeSeries(dateTimeIndex, y_withData, \n\u001b[0m\u001b[0;32m     39\u001b[0m                                   \u001b[0mticker_list\u001b[0m\u001b[1;33m,\u001b[0m \u001b[0mthisYearMask\u001b[0m\u001b[1;33m,\u001b[0m\u001b[1;33m\u001b[0m\u001b[1;33m\u001b[0m\u001b[0m\n\u001b[0;32m     40\u001b[0m                                   daily_stock_prices)\n",
      "\u001b[1;32m~\\AppData\\Local\\Temp/ipykernel_31732/887807751.py\u001b[0m in \u001b[0;36mgetStockTimeSeries\u001b[1;34m(dateTimeIndex, y_withData, tickers, mask, daily_stock_prices)\u001b[0m\n\u001b[0;32m     22\u001b[0m \u001b[1;33m\u001b[0m\u001b[0m\n\u001b[0;32m     23\u001b[0m         \u001b[1;31m# Here can use Open, Close, Adj. Close, etc. price\u001b[0m\u001b[1;33m\u001b[0m\u001b[1;33m\u001b[0m\u001b[0m\n\u001b[1;32m---> 24\u001b[1;33m         \u001b[0mstockRet\u001b[0m\u001b[1;33m[\u001b[0m\u001b[0mtick\u001b[0m\u001b[1;33m]\u001b[0m \u001b[1;33m=\u001b[0m \u001b[0mWeeklyStockDataRows\u001b[0m\u001b[1;33m[\u001b[0m\u001b[1;34m\"Close\"\u001b[0m\u001b[1;33m]\u001b[0m\u001b[1;33m.\u001b[0m\u001b[0mvalues\u001b[0m\u001b[1;33m\u001b[0m\u001b[1;33m\u001b[0m\u001b[0m\n\u001b[0m\u001b[0;32m     25\u001b[0m \u001b[1;33m\u001b[0m\u001b[0m\n\u001b[0;32m     26\u001b[0m     \u001b[1;32mreturn\u001b[0m \u001b[0mstockRet\u001b[0m\u001b[1;33m\u001b[0m\u001b[1;33m\u001b[0m\u001b[0m\n",
      "\u001b[1;32m~\\anaconda3\\lib\\site-packages\\pandas\\core\\frame.py\u001b[0m in \u001b[0;36m__getitem__\u001b[1;34m(self, key)\u001b[0m\n\u001b[0;32m   3456\u001b[0m             \u001b[1;32mif\u001b[0m \u001b[0mself\u001b[0m\u001b[1;33m.\u001b[0m\u001b[0mcolumns\u001b[0m\u001b[1;33m.\u001b[0m\u001b[0mnlevels\u001b[0m \u001b[1;33m>\u001b[0m \u001b[1;36m1\u001b[0m\u001b[1;33m:\u001b[0m\u001b[1;33m\u001b[0m\u001b[1;33m\u001b[0m\u001b[0m\n\u001b[0;32m   3457\u001b[0m                 \u001b[1;32mreturn\u001b[0m \u001b[0mself\u001b[0m\u001b[1;33m.\u001b[0m\u001b[0m_getitem_multilevel\u001b[0m\u001b[1;33m(\u001b[0m\u001b[0mkey\u001b[0m\u001b[1;33m)\u001b[0m\u001b[1;33m\u001b[0m\u001b[1;33m\u001b[0m\u001b[0m\n\u001b[1;32m-> 3458\u001b[1;33m             \u001b[0mindexer\u001b[0m \u001b[1;33m=\u001b[0m \u001b[0mself\u001b[0m\u001b[1;33m.\u001b[0m\u001b[0mcolumns\u001b[0m\u001b[1;33m.\u001b[0m\u001b[0mget_loc\u001b[0m\u001b[1;33m(\u001b[0m\u001b[0mkey\u001b[0m\u001b[1;33m)\u001b[0m\u001b[1;33m\u001b[0m\u001b[1;33m\u001b[0m\u001b[0m\n\u001b[0m\u001b[0;32m   3459\u001b[0m             \u001b[1;32mif\u001b[0m \u001b[0mis_integer\u001b[0m\u001b[1;33m(\u001b[0m\u001b[0mindexer\u001b[0m\u001b[1;33m)\u001b[0m\u001b[1;33m:\u001b[0m\u001b[1;33m\u001b[0m\u001b[1;33m\u001b[0m\u001b[0m\n\u001b[0;32m   3460\u001b[0m                 \u001b[0mindexer\u001b[0m \u001b[1;33m=\u001b[0m \u001b[1;33m[\u001b[0m\u001b[0mindexer\u001b[0m\u001b[1;33m]\u001b[0m\u001b[1;33m\u001b[0m\u001b[1;33m\u001b[0m\u001b[0m\n",
      "\u001b[1;32m~\\anaconda3\\lib\\site-packages\\pandas\\core\\indexes\\base.py\u001b[0m in \u001b[0;36mget_loc\u001b[1;34m(self, key, method, tolerance)\u001b[0m\n\u001b[0;32m   3361\u001b[0m                 \u001b[1;32mreturn\u001b[0m \u001b[0mself\u001b[0m\u001b[1;33m.\u001b[0m\u001b[0m_engine\u001b[0m\u001b[1;33m.\u001b[0m\u001b[0mget_loc\u001b[0m\u001b[1;33m(\u001b[0m\u001b[0mcasted_key\u001b[0m\u001b[1;33m)\u001b[0m\u001b[1;33m\u001b[0m\u001b[1;33m\u001b[0m\u001b[0m\n\u001b[0;32m   3362\u001b[0m             \u001b[1;32mexcept\u001b[0m \u001b[0mKeyError\u001b[0m \u001b[1;32mas\u001b[0m \u001b[0merr\u001b[0m\u001b[1;33m:\u001b[0m\u001b[1;33m\u001b[0m\u001b[1;33m\u001b[0m\u001b[0m\n\u001b[1;32m-> 3363\u001b[1;33m                 \u001b[1;32mraise\u001b[0m \u001b[0mKeyError\u001b[0m\u001b[1;33m(\u001b[0m\u001b[0mkey\u001b[0m\u001b[1;33m)\u001b[0m \u001b[1;32mfrom\u001b[0m \u001b[0merr\u001b[0m\u001b[1;33m\u001b[0m\u001b[1;33m\u001b[0m\u001b[0m\n\u001b[0m\u001b[0;32m   3364\u001b[0m \u001b[1;33m\u001b[0m\u001b[0m\n\u001b[0;32m   3365\u001b[0m         \u001b[1;32mif\u001b[0m \u001b[0mis_scalar\u001b[0m\u001b[1;33m(\u001b[0m\u001b[0mkey\u001b[0m\u001b[1;33m)\u001b[0m \u001b[1;32mand\u001b[0m \u001b[0misna\u001b[0m\u001b[1;33m(\u001b[0m\u001b[0mkey\u001b[0m\u001b[1;33m)\u001b[0m \u001b[1;32mand\u001b[0m \u001b[1;32mnot\u001b[0m \u001b[0mself\u001b[0m\u001b[1;33m.\u001b[0m\u001b[0mhasnans\u001b[0m\u001b[1;33m:\u001b[0m\u001b[1;33m\u001b[0m\u001b[1;33m\u001b[0m\u001b[0m\n",
      "\u001b[1;31mKeyError\u001b[0m: 'Close'"
     ]
    },
    {
     "name": "stdout",
     "output_type": "stream",
     "text": [
      "time: 391 ms (started: 2022-10-08 13:57:33 +08:00)\n"
     ]
    }
   ],
   "source": [
    "getPortTimeSeries(y_withdata_test, X_test, df_prices, rf)"
   ]
  },
  {
   "cell_type": "code",
   "execution_count": 94,
   "id": "2292aec4",
   "metadata": {},
   "outputs": [
    {
     "data": {
      "text/html": [
       "<style>#sk-container-id-1 {color: black;background-color: white;}#sk-container-id-1 pre{padding: 0;}#sk-container-id-1 div.sk-toggleable {background-color: white;}#sk-container-id-1 label.sk-toggleable__label {cursor: pointer;display: block;width: 100%;margin-bottom: 0;padding: 0.3em;box-sizing: border-box;text-align: center;}#sk-container-id-1 label.sk-toggleable__label-arrow:before {content: \"▸\";float: left;margin-right: 0.25em;color: #696969;}#sk-container-id-1 label.sk-toggleable__label-arrow:hover:before {color: black;}#sk-container-id-1 div.sk-estimator:hover label.sk-toggleable__label-arrow:before {color: black;}#sk-container-id-1 div.sk-toggleable__content {max-height: 0;max-width: 0;overflow: hidden;text-align: left;background-color: #f0f8ff;}#sk-container-id-1 div.sk-toggleable__content pre {margin: 0.2em;color: black;border-radius: 0.25em;background-color: #f0f8ff;}#sk-container-id-1 input.sk-toggleable__control:checked~div.sk-toggleable__content {max-height: 200px;max-width: 100%;overflow: auto;}#sk-container-id-1 input.sk-toggleable__control:checked~label.sk-toggleable__label-arrow:before {content: \"▾\";}#sk-container-id-1 div.sk-estimator input.sk-toggleable__control:checked~label.sk-toggleable__label {background-color: #d4ebff;}#sk-container-id-1 div.sk-label input.sk-toggleable__control:checked~label.sk-toggleable__label {background-color: #d4ebff;}#sk-container-id-1 input.sk-hidden--visually {border: 0;clip: rect(1px 1px 1px 1px);clip: rect(1px, 1px, 1px, 1px);height: 1px;margin: -1px;overflow: hidden;padding: 0;position: absolute;width: 1px;}#sk-container-id-1 div.sk-estimator {font-family: monospace;background-color: #f0f8ff;border: 1px dotted black;border-radius: 0.25em;box-sizing: border-box;margin-bottom: 0.5em;}#sk-container-id-1 div.sk-estimator:hover {background-color: #d4ebff;}#sk-container-id-1 div.sk-parallel-item::after {content: \"\";width: 100%;border-bottom: 1px solid gray;flex-grow: 1;}#sk-container-id-1 div.sk-label:hover label.sk-toggleable__label {background-color: #d4ebff;}#sk-container-id-1 div.sk-serial::before {content: \"\";position: absolute;border-left: 1px solid gray;box-sizing: border-box;top: 0;bottom: 0;left: 50%;z-index: 0;}#sk-container-id-1 div.sk-serial {display: flex;flex-direction: column;align-items: center;background-color: white;padding-right: 0.2em;padding-left: 0.2em;position: relative;}#sk-container-id-1 div.sk-item {position: relative;z-index: 1;}#sk-container-id-1 div.sk-parallel {display: flex;align-items: stretch;justify-content: center;background-color: white;position: relative;}#sk-container-id-1 div.sk-item::before, #sk-container-id-1 div.sk-parallel-item::before {content: \"\";position: absolute;border-left: 1px solid gray;box-sizing: border-box;top: 0;bottom: 0;left: 50%;z-index: -1;}#sk-container-id-1 div.sk-parallel-item {display: flex;flex-direction: column;z-index: 1;position: relative;background-color: white;}#sk-container-id-1 div.sk-parallel-item:first-child::after {align-self: flex-end;width: 50%;}#sk-container-id-1 div.sk-parallel-item:last-child::after {align-self: flex-start;width: 50%;}#sk-container-id-1 div.sk-parallel-item:only-child::after {width: 0;}#sk-container-id-1 div.sk-dashed-wrapped {border: 1px dashed gray;margin: 0 0.4em 0.5em 0.4em;box-sizing: border-box;padding-bottom: 0.4em;background-color: white;}#sk-container-id-1 div.sk-label label {font-family: monospace;font-weight: bold;display: inline-block;line-height: 1.2em;}#sk-container-id-1 div.sk-label-container {text-align: center;}#sk-container-id-1 div.sk-container {/* jupyter's `normalize.less` sets `[hidden] { display: none; }` but bootstrap.min.css set `[hidden] { display: none !important; }` so we also need the `!important` here to be able to override the default hidden behavior on the sphinx rendered scikit-learn.org. See: https://github.com/scikit-learn/scikit-learn/issues/21755 */display: inline-block !important;position: relative;}#sk-container-id-1 div.sk-text-repr-fallback {display: none;}</style><div id=\"sk-container-id-1\" class=\"sk-top-container\"><div class=\"sk-text-repr-fallback\"><pre>RandomForestRegressor(max_depth=10, random_state=42)</pre><b>In a Jupyter environment, please rerun this cell to show the HTML representation or trust the notebook. <br />On GitHub, the HTML representation is unable to render, please try loading this page with nbviewer.org.</b></div><div class=\"sk-container\" hidden><div class=\"sk-item\"><div class=\"sk-estimator sk-toggleable\"><input class=\"sk-toggleable__control sk-hidden--visually\" id=\"sk-estimator-id-1\" type=\"checkbox\" checked><label for=\"sk-estimator-id-1\" class=\"sk-toggleable__label sk-toggleable__label-arrow\">RandomForestRegressor</label><div class=\"sk-toggleable__content\"><pre>RandomForestRegressor(max_depth=10, random_state=42)</pre></div></div></div></div></div>"
      ],
      "text/plain": [
       "RandomForestRegressor(max_depth=10, random_state=42)"
      ]
     },
     "execution_count": 94,
     "metadata": {},
     "output_type": "execute_result"
    },
    {
     "name": "stdout",
     "output_type": "stream",
     "text": [
      "time: 16 ms (started: 2022-10-08 11:53:18 +08:00)\n"
     ]
    }
   ],
   "source": [
    "rf"
   ]
  },
  {
   "cell_type": "code",
   "execution_count": null,
   "id": "9eb75053",
   "metadata": {},
   "outputs": [],
   "source": []
  },
  {
   "cell_type": "code",
   "execution_count": null,
   "id": "a21b8dc1",
   "metadata": {},
   "outputs": [],
   "source": []
  },
  {
   "cell_type": "code",
   "execution_count": null,
   "id": "a79be230",
   "metadata": {},
   "outputs": [],
   "source": []
  },
  {
   "cell_type": "markdown",
   "id": "1795d3fd",
   "metadata": {},
   "source": [
    "## Above here functions are working"
   ]
  },
  {
   "cell_type": "code",
   "execution_count": null,
   "id": "f24caa76",
   "metadata": {},
   "outputs": [],
   "source": []
  },
  {
   "cell_type": "code",
   "execution_count": null,
   "id": "8d775b68",
   "metadata": {},
   "outputs": [],
   "source": [
    "y_withdata_test"
   ]
  },
  {
   "cell_type": "code",
   "execution_count": null,
   "id": "e88ba327",
   "metadata": {
    "scrolled": true
   },
   "outputs": [],
   "source": [
    "y_withdata_test[thisYearMask][y_withdata_test[thisYearMask][\"Ticker\"]=='CRI'][\"Date2\"].values[0]"
   ]
  },
  {
   "cell_type": "code",
   "execution_count": null,
   "id": "acf91a4a",
   "metadata": {},
   "outputs": [],
   "source": [
    "getStockPriceData('A', y_withdata_test, thisYearMask, df_prices)"
   ]
  },
  {
   "cell_type": "code",
   "execution_count": null,
   "id": "557ea6b5",
   "metadata": {},
   "outputs": [],
   "source": []
  },
  {
   "cell_type": "code",
   "execution_count": null,
   "id": "83159130",
   "metadata": {
    "scrolled": true
   },
   "outputs": [],
   "source": [
    "dateTimeIndex = pd.date_range(start='2016-10-09', periods=52, freq='W')\n",
    "getStockTimeSeries(dateTimeIndex, y_withdata_test, ['AAPL'], True, df_prices)"
   ]
  },
  {
   "cell_type": "code",
   "execution_count": null,
   "id": "1912cd12",
   "metadata": {},
   "outputs": [],
   "source": []
  }
 ],
 "metadata": {
  "kernelspec": {
   "display_name": "Python 3 (ipykernel)",
   "language": "python",
   "name": "python3"
  },
  "language_info": {
   "codemirror_mode": {
    "name": "ipython",
    "version": 3
   },
   "file_extension": ".py",
   "mimetype": "text/x-python",
   "name": "python",
   "nbconvert_exporter": "python",
   "pygments_lexer": "ipython3",
   "version": "3.9.7"
  }
 },
 "nbformat": 4,
 "nbformat_minor": 5
}
