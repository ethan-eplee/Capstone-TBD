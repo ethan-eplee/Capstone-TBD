{
 "cells": [
  {
   "cell_type": "code",
   "execution_count": 1,
   "id": "925a5db6",
   "metadata": {},
   "outputs": [
    {
     "name": "stdout",
     "output_type": "stream",
     "text": [
      "time: 1.27 s (started: 2022-10-13 16:49:03 +08:00)\n"
     ]
    }
   ],
   "source": [
    "%load_ext autotime\n",
    "import pandas as pd\n",
    "import numpy as np\n",
    "import matplotlib.pyplot as plt\n",
    "import seaborn as sns\n",
    "\n",
    "import pickle\n",
    "import time\n",
    "\n",
    "from sklearn.model_selection import train_test_split\n",
    "from sklearn.model_selection import cross_val_score\n",
    "from sklearn.model_selection import learning_curve\n",
    "from sklearn.model_selection import ShuffleSplit\n",
    "from sklearn.model_selection import GridSearchCV, RandomizedSearchCV\n",
    "\n",
    "from sklearn.ensemble import RandomForestRegressor\n",
    "\n",
    "from sklearn.preprocessing import PowerTransformer\n",
    "from sklearn.preprocessing import StandardScaler, MinMaxScaler \n",
    "\n",
    "from sklearn.pipeline import Pipeline\n",
    "from sklearn.metrics import mean_squared_error"
   ]
  },
  {
   "cell_type": "code",
   "execution_count": 2,
   "id": "19a7c2f6",
   "metadata": {},
   "outputs": [
    {
     "name": "stdout",
     "output_type": "stream",
     "text": [
      "time: 0 ns (started: 2022-10-13 16:49:04 +08:00)\n"
     ]
    }
   ],
   "source": [
    "# from previous notebook, we have saved all the financial ratios and its corresponding annual returns\n",
    "# total of 29,650 rows\n",
    "x = pickle.load(open('./data/03_finratios.pkl', 'rb'))\n",
    "y = pickle.load(open('./data/03_returns.pkl', 'rb'))"
   ]
  },
  {
   "cell_type": "code",
   "execution_count": 3,
   "id": "bd5f60b4",
   "metadata": {
    "scrolled": false
   },
   "outputs": [
    {
     "name": "stdout",
     "output_type": "stream",
     "text": [
      "<class 'pandas.core.frame.DataFrame'>\n",
      "RangeIndex: 29650 entries, 0 to 29649\n",
      "Data columns (total 23 columns):\n",
      " #   Column         Non-Null Count  Dtype  \n",
      "---  ------         --------------  -----  \n",
      " 0   CR             29650 non-null  float64\n",
      " 1   Acid           29650 non-null  float64\n",
      " 2   CashRatio      29650 non-null  float64\n",
      " 3   InvTO          29650 non-null  float64\n",
      " 4   AssetTurnover  29650 non-null  float64\n",
      " 5   NWC_TO         29650 non-null  float64\n",
      " 6   PM             29650 non-null  float64\n",
      " 7   GPM            29650 non-null  float64\n",
      " 8   ROE            29650 non-null  float64\n",
      " 9   ROCE           29650 non-null  float64\n",
      " 10  PE             29650 non-null  float64\n",
      " 11  PB             29650 non-null  float64\n",
      " 12  PS             29650 non-null  float64\n",
      " 13  EV_EBIT        29650 non-null  float64\n",
      " 14  DE             29650 non-null  float64\n",
      " 15  DebtRatio      29650 non-null  float64\n",
      " 16  ICR            29650 non-null  float64\n",
      " 17  Equity_Liab    29650 non-null  float64\n",
      " 18  WorkingCap     29650 non-null  float64\n",
      " 19  OI_NWCFA       29650 non-null  float64\n",
      " 20  WC_TA          29650 non-null  float64\n",
      " 21  RE_TA          29650 non-null  float64\n",
      " 22  EBIT_TA        29650 non-null  float64\n",
      "dtypes: float64(23)\n",
      "memory usage: 5.2 MB\n",
      "time: 0 ns (started: 2022-10-13 16:49:04 +08:00)\n"
     ]
    }
   ],
   "source": [
    "# view the x dataframe containing the financial ratios\n",
    "x.info()"
   ]
  },
  {
   "cell_type": "code",
   "execution_count": 4,
   "id": "8c696c59",
   "metadata": {},
   "outputs": [
    {
     "data": {
      "text/html": [
       "<div>\n",
       "<style scoped>\n",
       "    .dataframe tbody tr th:only-of-type {\n",
       "        vertical-align: middle;\n",
       "    }\n",
       "\n",
       "    .dataframe tbody tr th {\n",
       "        vertical-align: top;\n",
       "    }\n",
       "\n",
       "    .dataframe thead th {\n",
       "        text-align: right;\n",
       "    }\n",
       "</style>\n",
       "<table border=\"1\" class=\"dataframe\">\n",
       "  <thead>\n",
       "    <tr style=\"text-align: right;\">\n",
       "      <th></th>\n",
       "      <th>Ticker</th>\n",
       "      <th>Returns</th>\n",
       "    </tr>\n",
       "  </thead>\n",
       "  <tbody>\n",
       "    <tr>\n",
       "      <th>0</th>\n",
       "      <td>A</td>\n",
       "      <td>0.563351</td>\n",
       "    </tr>\n",
       "    <tr>\n",
       "      <th>1</th>\n",
       "      <td>A</td>\n",
       "      <td>0.535595</td>\n",
       "    </tr>\n",
       "    <tr>\n",
       "      <th>2</th>\n",
       "      <td>A</td>\n",
       "      <td>0.198018</td>\n",
       "    </tr>\n",
       "    <tr>\n",
       "      <th>3</th>\n",
       "      <td>A</td>\n",
       "      <td>0.076426</td>\n",
       "    </tr>\n",
       "    <tr>\n",
       "      <th>4</th>\n",
       "      <td>A</td>\n",
       "      <td>-0.050044</td>\n",
       "    </tr>\n",
       "    <tr>\n",
       "      <th>...</th>\n",
       "      <td>...</td>\n",
       "      <td>...</td>\n",
       "    </tr>\n",
       "    <tr>\n",
       "      <th>29645</th>\n",
       "      <td>ZYXI</td>\n",
       "      <td>0.772254</td>\n",
       "    </tr>\n",
       "    <tr>\n",
       "      <th>29646</th>\n",
       "      <td>ZYXI</td>\n",
       "      <td>0.701262</td>\n",
       "    </tr>\n",
       "    <tr>\n",
       "      <th>29647</th>\n",
       "      <td>ZYXI</td>\n",
       "      <td>0.400618</td>\n",
       "    </tr>\n",
       "    <tr>\n",
       "      <th>29648</th>\n",
       "      <td>ZYXI</td>\n",
       "      <td>-0.325537</td>\n",
       "    </tr>\n",
       "    <tr>\n",
       "      <th>29649</th>\n",
       "      <td>ZYXI</td>\n",
       "      <td>-0.319614</td>\n",
       "    </tr>\n",
       "  </tbody>\n",
       "</table>\n",
       "<p>29650 rows × 2 columns</p>\n",
       "</div>"
      ],
      "text/plain": [
       "      Ticker   Returns\n",
       "0          A  0.563351\n",
       "1          A  0.535595\n",
       "2          A  0.198018\n",
       "3          A  0.076426\n",
       "4          A -0.050044\n",
       "...      ...       ...\n",
       "29645   ZYXI  0.772254\n",
       "29646   ZYXI  0.701262\n",
       "29647   ZYXI  0.400618\n",
       "29648   ZYXI -0.325537\n",
       "29649   ZYXI -0.319614\n",
       "\n",
       "[29650 rows x 2 columns]"
      ]
     },
     "execution_count": 4,
     "metadata": {},
     "output_type": "execute_result"
    },
    {
     "name": "stdout",
     "output_type": "stream",
     "text": [
      "time: 15 ms (started: 2022-10-13 16:49:04 +08:00)\n"
     ]
    }
   ],
   "source": [
    "y"
   ]
  },
  {
   "cell_type": "code",
   "execution_count": 5,
   "id": "5eff3fbd",
   "metadata": {},
   "outputs": [
    {
     "data": {
      "text/plain": [
       "0        0.563351\n",
       "1        0.535595\n",
       "2        0.198018\n",
       "3        0.076426\n",
       "4       -0.050044\n",
       "           ...   \n",
       "29645    0.772254\n",
       "29646    0.701262\n",
       "29647    0.400618\n",
       "29648   -0.325537\n",
       "29649   -0.319614\n",
       "Name: Returns, Length: 29650, dtype: float64"
      ]
     },
     "execution_count": 5,
     "metadata": {},
     "output_type": "execute_result"
    },
    {
     "name": "stdout",
     "output_type": "stream",
     "text": [
      "time: 0 ns (started: 2022-10-13 16:49:04 +08:00)\n"
     ]
    }
   ],
   "source": [
    "# Store the target returns temporarily\n",
    "returns = y['Returns']\n",
    "returns = returns.astype('float64')\n",
    "returns"
   ]
  },
  {
   "cell_type": "code",
   "execution_count": 6,
   "id": "74734f43",
   "metadata": {
    "scrolled": true
   },
   "outputs": [
    {
     "name": "stdout",
     "output_type": "stream",
     "text": [
      "time: 16 ms (started: 2022-10-13 16:49:04 +08:00)\n"
     ]
    }
   ],
   "source": [
    "# Add the Returns column from y to the x dataframe\n",
    "x['Returns'] = returns\n",
    "\n",
    "# Drop the null rows (if any) and reset index\n",
    "x = x.dropna(axis=0)\n",
    "x = x.reset_index(drop=True)\n",
    "\n",
    "# Randomise the rows for train-test-split\n",
    "# Specify frac=1 because we want all the rows back\n",
    "x = x.sample(frac=1, random_state=42)"
   ]
  },
  {
   "cell_type": "markdown",
   "id": "f051075c",
   "metadata": {},
   "source": [
    "After randomizing the rows in the x dataframe (with the targets), we want to split back dataset into x and y"
   ]
  },
  {
   "cell_type": "code",
   "execution_count": 7,
   "id": "21455854",
   "metadata": {},
   "outputs": [
    {
     "data": {
      "text/html": [
       "<div>\n",
       "<style scoped>\n",
       "    .dataframe tbody tr th:only-of-type {\n",
       "        vertical-align: middle;\n",
       "    }\n",
       "\n",
       "    .dataframe tbody tr th {\n",
       "        vertical-align: top;\n",
       "    }\n",
       "\n",
       "    .dataframe thead th {\n",
       "        text-align: right;\n",
       "    }\n",
       "</style>\n",
       "<table border=\"1\" class=\"dataframe\">\n",
       "  <thead>\n",
       "    <tr style=\"text-align: right;\">\n",
       "      <th></th>\n",
       "      <th>CR</th>\n",
       "      <th>Acid</th>\n",
       "      <th>CashRatio</th>\n",
       "      <th>InvTO</th>\n",
       "      <th>AssetTurnover</th>\n",
       "      <th>NWC_TO</th>\n",
       "      <th>PM</th>\n",
       "      <th>GPM</th>\n",
       "      <th>ROE</th>\n",
       "      <th>ROCE</th>\n",
       "      <th>...</th>\n",
       "      <th>DE</th>\n",
       "      <th>DebtRatio</th>\n",
       "      <th>ICR</th>\n",
       "      <th>Equity_Liab</th>\n",
       "      <th>WorkingCap</th>\n",
       "      <th>OI_NWCFA</th>\n",
       "      <th>WC_TA</th>\n",
       "      <th>RE_TA</th>\n",
       "      <th>EBIT_TA</th>\n",
       "      <th>Returns</th>\n",
       "    </tr>\n",
       "  </thead>\n",
       "  <tbody>\n",
       "    <tr>\n",
       "      <th>25628</th>\n",
       "      <td>1.605372</td>\n",
       "      <td>1.605372</td>\n",
       "      <td>0.011801</td>\n",
       "      <td>0.0</td>\n",
       "      <td>1.334186</td>\n",
       "      <td>2.638366</td>\n",
       "      <td>0.143161</td>\n",
       "      <td>0.455618</td>\n",
       "      <td>0.052645</td>\n",
       "      <td>0.010073</td>\n",
       "      <td>...</td>\n",
       "      <td>2.788468</td>\n",
       "      <td>1.358620</td>\n",
       "      <td>2.708548</td>\n",
       "      <td>0.358620</td>\n",
       "      <td>1.605372</td>\n",
       "      <td>0.215433</td>\n",
       "      <td>0.036790</td>\n",
       "      <td>1.218756</td>\n",
       "      <td>0.009461</td>\n",
       "      <td>-0.206629</td>\n",
       "    </tr>\n",
       "    <tr>\n",
       "      <th>7249</th>\n",
       "      <td>1.498312</td>\n",
       "      <td>0.711767</td>\n",
       "      <td>0.423275</td>\n",
       "      <td>0.0</td>\n",
       "      <td>1.788779</td>\n",
       "      <td>1.850493</td>\n",
       "      <td>0.000000</td>\n",
       "      <td>0.090585</td>\n",
       "      <td>-0.019255</td>\n",
       "      <td>-0.020809</td>\n",
       "      <td>...</td>\n",
       "      <td>1.176810</td>\n",
       "      <td>1.849755</td>\n",
       "      <td>-45.656325</td>\n",
       "      <td>0.849755</td>\n",
       "      <td>1.498312</td>\n",
       "      <td>-0.154405</td>\n",
       "      <td>0.245963</td>\n",
       "      <td>-0.014983</td>\n",
       "      <td>-0.010538</td>\n",
       "      <td>3.016790</td>\n",
       "    </tr>\n",
       "    <tr>\n",
       "      <th>9043</th>\n",
       "      <td>1.797912</td>\n",
       "      <td>1.349417</td>\n",
       "      <td>0.479910</td>\n",
       "      <td>0.0</td>\n",
       "      <td>2.919091</td>\n",
       "      <td>1.052978</td>\n",
       "      <td>0.018086</td>\n",
       "      <td>0.349227</td>\n",
       "      <td>0.010122</td>\n",
       "      <td>-0.000597</td>\n",
       "      <td>...</td>\n",
       "      <td>1.886285</td>\n",
       "      <td>1.530143</td>\n",
       "      <td>2.834975</td>\n",
       "      <td>0.530143</td>\n",
       "      <td>1.797912</td>\n",
       "      <td>0.057048</td>\n",
       "      <td>0.184143</td>\n",
       "      <td>0.802735</td>\n",
       "      <td>-0.000459</td>\n",
       "      <td>-0.053788</td>\n",
       "    </tr>\n",
       "    <tr>\n",
       "      <th>8164</th>\n",
       "      <td>0.456019</td>\n",
       "      <td>0.317251</td>\n",
       "      <td>0.180810</td>\n",
       "      <td>0.0</td>\n",
       "      <td>0.851384</td>\n",
       "      <td>0.000000</td>\n",
       "      <td>0.063993</td>\n",
       "      <td>0.226507</td>\n",
       "      <td>0.058905</td>\n",
       "      <td>0.036372</td>\n",
       "      <td>...</td>\n",
       "      <td>1.518104</td>\n",
       "      <td>1.658716</td>\n",
       "      <td>14.800000</td>\n",
       "      <td>0.658716</td>\n",
       "      <td>0.456019</td>\n",
       "      <td>0.108339</td>\n",
       "      <td>-0.132513</td>\n",
       "      <td>0.105833</td>\n",
       "      <td>0.027512</td>\n",
       "      <td>0.015873</td>\n",
       "    </tr>\n",
       "    <tr>\n",
       "      <th>26082</th>\n",
       "      <td>1.118243</td>\n",
       "      <td>0.849810</td>\n",
       "      <td>0.223240</td>\n",
       "      <td>0.0</td>\n",
       "      <td>2.330795</td>\n",
       "      <td>5.000000</td>\n",
       "      <td>0.107215</td>\n",
       "      <td>0.468250</td>\n",
       "      <td>0.266111</td>\n",
       "      <td>0.058303</td>\n",
       "      <td>...</td>\n",
       "      <td>6.574310</td>\n",
       "      <td>1.152107</td>\n",
       "      <td>8.726368</td>\n",
       "      <td>0.152107</td>\n",
       "      <td>1.118243</td>\n",
       "      <td>0.288867</td>\n",
       "      <td>0.035133</td>\n",
       "      <td>0.000000</td>\n",
       "      <td>0.040979</td>\n",
       "      <td>1.181818</td>\n",
       "    </tr>\n",
       "    <tr>\n",
       "      <th>...</th>\n",
       "      <td>...</td>\n",
       "      <td>...</td>\n",
       "      <td>...</td>\n",
       "      <td>...</td>\n",
       "      <td>...</td>\n",
       "      <td>...</td>\n",
       "      <td>...</td>\n",
       "      <td>...</td>\n",
       "      <td>...</td>\n",
       "      <td>...</td>\n",
       "      <td>...</td>\n",
       "      <td>...</td>\n",
       "      <td>...</td>\n",
       "      <td>...</td>\n",
       "      <td>...</td>\n",
       "      <td>...</td>\n",
       "      <td>...</td>\n",
       "      <td>...</td>\n",
       "      <td>...</td>\n",
       "      <td>...</td>\n",
       "      <td>...</td>\n",
       "    </tr>\n",
       "    <tr>\n",
       "      <th>21575</th>\n",
       "      <td>1.923444</td>\n",
       "      <td>1.869230</td>\n",
       "      <td>0.092680</td>\n",
       "      <td>0.0</td>\n",
       "      <td>1.923501</td>\n",
       "      <td>1.798922</td>\n",
       "      <td>0.045816</td>\n",
       "      <td>0.130264</td>\n",
       "      <td>0.029919</td>\n",
       "      <td>0.007506</td>\n",
       "      <td>...</td>\n",
       "      <td>0.707267</td>\n",
       "      <td>2.413892</td>\n",
       "      <td>16.459255</td>\n",
       "      <td>1.413892</td>\n",
       "      <td>1.923444</td>\n",
       "      <td>0.039919</td>\n",
       "      <td>0.212625</td>\n",
       "      <td>0.338118</td>\n",
       "      <td>0.005778</td>\n",
       "      <td>-0.236701</td>\n",
       "    </tr>\n",
       "    <tr>\n",
       "      <th>5390</th>\n",
       "      <td>1.291864</td>\n",
       "      <td>1.291864</td>\n",
       "      <td>0.928858</td>\n",
       "      <td>0.0</td>\n",
       "      <td>0.567539</td>\n",
       "      <td>4.742500</td>\n",
       "      <td>0.271745</td>\n",
       "      <td>0.775171</td>\n",
       "      <td>0.227493</td>\n",
       "      <td>0.088717</td>\n",
       "      <td>...</td>\n",
       "      <td>2.743601</td>\n",
       "      <td>1.364484</td>\n",
       "      <td>14.298969</td>\n",
       "      <td>0.364484</td>\n",
       "      <td>1.291864</td>\n",
       "      <td>0.185304</td>\n",
       "      <td>0.047153</td>\n",
       "      <td>0.264116</td>\n",
       "      <td>0.074384</td>\n",
       "      <td>0.182829</td>\n",
       "    </tr>\n",
       "    <tr>\n",
       "      <th>860</th>\n",
       "      <td>0.020949</td>\n",
       "      <td>0.020949</td>\n",
       "      <td>0.000762</td>\n",
       "      <td>0.0</td>\n",
       "      <td>2000.000000</td>\n",
       "      <td>0.000000</td>\n",
       "      <td>0.000000</td>\n",
       "      <td>1.000000</td>\n",
       "      <td>0.134454</td>\n",
       "      <td>0.134454</td>\n",
       "      <td>...</td>\n",
       "      <td>0.000000</td>\n",
       "      <td>0.020949</td>\n",
       "      <td>600.000000</td>\n",
       "      <td>-0.979051</td>\n",
       "      <td>0.020949</td>\n",
       "      <td>0.172615</td>\n",
       "      <td>-1.500000</td>\n",
       "      <td>0.000000</td>\n",
       "      <td>-2.000000</td>\n",
       "      <td>-0.850000</td>\n",
       "    </tr>\n",
       "    <tr>\n",
       "      <th>15795</th>\n",
       "      <td>0.803855</td>\n",
       "      <td>0.803855</td>\n",
       "      <td>0.695407</td>\n",
       "      <td>0.0</td>\n",
       "      <td>0.035870</td>\n",
       "      <td>0.000000</td>\n",
       "      <td>0.237310</td>\n",
       "      <td>0.768409</td>\n",
       "      <td>0.016300</td>\n",
       "      <td>0.003655</td>\n",
       "      <td>...</td>\n",
       "      <td>1.060456</td>\n",
       "      <td>1.942990</td>\n",
       "      <td>2.726626</td>\n",
       "      <td>0.942990</td>\n",
       "      <td>0.803855</td>\n",
       "      <td>0.012942</td>\n",
       "      <td>-0.006632</td>\n",
       "      <td>0.000000</td>\n",
       "      <td>0.003531</td>\n",
       "      <td>0.633980</td>\n",
       "    </tr>\n",
       "    <tr>\n",
       "      <th>23654</th>\n",
       "      <td>7.002290</td>\n",
       "      <td>7.002290</td>\n",
       "      <td>6.290053</td>\n",
       "      <td>0.0</td>\n",
       "      <td>0.000000</td>\n",
       "      <td>0.000000</td>\n",
       "      <td>0.000000</td>\n",
       "      <td>0.000000</td>\n",
       "      <td>-0.143298</td>\n",
       "      <td>-0.145293</td>\n",
       "      <td>...</td>\n",
       "      <td>0.144934</td>\n",
       "      <td>7.899683</td>\n",
       "      <td>-600.000000</td>\n",
       "      <td>6.899683</td>\n",
       "      <td>7.002290</td>\n",
       "      <td>-0.156950</td>\n",
       "      <td>0.755676</td>\n",
       "      <td>-9.743165</td>\n",
       "      <td>-0.127001</td>\n",
       "      <td>-0.564417</td>\n",
       "    </tr>\n",
       "  </tbody>\n",
       "</table>\n",
       "<p>29650 rows × 24 columns</p>\n",
       "</div>"
      ],
      "text/plain": [
       "             CR      Acid  CashRatio  InvTO  AssetTurnover    NWC_TO  \\\n",
       "25628  1.605372  1.605372   0.011801    0.0       1.334186  2.638366   \n",
       "7249   1.498312  0.711767   0.423275    0.0       1.788779  1.850493   \n",
       "9043   1.797912  1.349417   0.479910    0.0       2.919091  1.052978   \n",
       "8164   0.456019  0.317251   0.180810    0.0       0.851384  0.000000   \n",
       "26082  1.118243  0.849810   0.223240    0.0       2.330795  5.000000   \n",
       "...         ...       ...        ...    ...            ...       ...   \n",
       "21575  1.923444  1.869230   0.092680    0.0       1.923501  1.798922   \n",
       "5390   1.291864  1.291864   0.928858    0.0       0.567539  4.742500   \n",
       "860    0.020949  0.020949   0.000762    0.0    2000.000000  0.000000   \n",
       "15795  0.803855  0.803855   0.695407    0.0       0.035870  0.000000   \n",
       "23654  7.002290  7.002290   6.290053    0.0       0.000000  0.000000   \n",
       "\n",
       "             PM       GPM       ROE      ROCE  ...        DE  DebtRatio  \\\n",
       "25628  0.143161  0.455618  0.052645  0.010073  ...  2.788468   1.358620   \n",
       "7249   0.000000  0.090585 -0.019255 -0.020809  ...  1.176810   1.849755   \n",
       "9043   0.018086  0.349227  0.010122 -0.000597  ...  1.886285   1.530143   \n",
       "8164   0.063993  0.226507  0.058905  0.036372  ...  1.518104   1.658716   \n",
       "26082  0.107215  0.468250  0.266111  0.058303  ...  6.574310   1.152107   \n",
       "...         ...       ...       ...       ...  ...       ...        ...   \n",
       "21575  0.045816  0.130264  0.029919  0.007506  ...  0.707267   2.413892   \n",
       "5390   0.271745  0.775171  0.227493  0.088717  ...  2.743601   1.364484   \n",
       "860    0.000000  1.000000  0.134454  0.134454  ...  0.000000   0.020949   \n",
       "15795  0.237310  0.768409  0.016300  0.003655  ...  1.060456   1.942990   \n",
       "23654  0.000000  0.000000 -0.143298 -0.145293  ...  0.144934   7.899683   \n",
       "\n",
       "              ICR  Equity_Liab  WorkingCap  OI_NWCFA     WC_TA     RE_TA  \\\n",
       "25628    2.708548     0.358620    1.605372  0.215433  0.036790  1.218756   \n",
       "7249   -45.656325     0.849755    1.498312 -0.154405  0.245963 -0.014983   \n",
       "9043     2.834975     0.530143    1.797912  0.057048  0.184143  0.802735   \n",
       "8164    14.800000     0.658716    0.456019  0.108339 -0.132513  0.105833   \n",
       "26082    8.726368     0.152107    1.118243  0.288867  0.035133  0.000000   \n",
       "...           ...          ...         ...       ...       ...       ...   \n",
       "21575   16.459255     1.413892    1.923444  0.039919  0.212625  0.338118   \n",
       "5390    14.298969     0.364484    1.291864  0.185304  0.047153  0.264116   \n",
       "860    600.000000    -0.979051    0.020949  0.172615 -1.500000  0.000000   \n",
       "15795    2.726626     0.942990    0.803855  0.012942 -0.006632  0.000000   \n",
       "23654 -600.000000     6.899683    7.002290 -0.156950  0.755676 -9.743165   \n",
       "\n",
       "        EBIT_TA   Returns  \n",
       "25628  0.009461 -0.206629  \n",
       "7249  -0.010538  3.016790  \n",
       "9043  -0.000459 -0.053788  \n",
       "8164   0.027512  0.015873  \n",
       "26082  0.040979  1.181818  \n",
       "...         ...       ...  \n",
       "21575  0.005778 -0.236701  \n",
       "5390   0.074384  0.182829  \n",
       "860   -2.000000 -0.850000  \n",
       "15795  0.003531  0.633980  \n",
       "23654 -0.127001 -0.564417  \n",
       "\n",
       "[29650 rows x 24 columns]"
      ]
     },
     "execution_count": 7,
     "metadata": {},
     "output_type": "execute_result"
    },
    {
     "name": "stdout",
     "output_type": "stream",
     "text": [
      "time: 16 ms (started: 2022-10-13 16:49:04 +08:00)\n"
     ]
    }
   ],
   "source": [
    "# There should still be 29650 rows, but this time the \"Returns\" column is inside as the target variable.\n",
    "x"
   ]
  },
  {
   "cell_type": "code",
   "execution_count": 8,
   "id": "a164cf79",
   "metadata": {
    "scrolled": true
   },
   "outputs": [
    {
     "name": "stdout",
     "output_type": "stream",
     "text": [
      "time: 0 ns (started: 2022-10-13 16:49:04 +08:00)\n"
     ]
    }
   ],
   "source": [
    "# Split properly into X and y again\n",
    "y = x['Returns']\n",
    "X = x.drop(columns='Returns')"
   ]
  },
  {
   "cell_type": "code",
   "execution_count": 9,
   "id": "51ea6b69",
   "metadata": {
    "scrolled": true
   },
   "outputs": [
    {
     "data": {
      "text/plain": [
       "25628   -0.206629\n",
       "7249     3.016790\n",
       "9043    -0.053788\n",
       "8164     0.015873\n",
       "26082    1.181818\n",
       "Name: Returns, dtype: float64"
      ]
     },
     "execution_count": 9,
     "metadata": {},
     "output_type": "execute_result"
    },
    {
     "name": "stdout",
     "output_type": "stream",
     "text": [
      "time: 16 ms (started: 2022-10-13 16:49:04 +08:00)\n"
     ]
    }
   ],
   "source": [
    "y.head()"
   ]
  },
  {
   "cell_type": "code",
   "execution_count": 10,
   "id": "f9f190ac",
   "metadata": {},
   "outputs": [
    {
     "data": {
      "text/html": [
       "<div>\n",
       "<style scoped>\n",
       "    .dataframe tbody tr th:only-of-type {\n",
       "        vertical-align: middle;\n",
       "    }\n",
       "\n",
       "    .dataframe tbody tr th {\n",
       "        vertical-align: top;\n",
       "    }\n",
       "\n",
       "    .dataframe thead th {\n",
       "        text-align: right;\n",
       "    }\n",
       "</style>\n",
       "<table border=\"1\" class=\"dataframe\">\n",
       "  <thead>\n",
       "    <tr style=\"text-align: right;\">\n",
       "      <th></th>\n",
       "      <th>CR</th>\n",
       "      <th>Acid</th>\n",
       "      <th>CashRatio</th>\n",
       "      <th>InvTO</th>\n",
       "      <th>AssetTurnover</th>\n",
       "      <th>NWC_TO</th>\n",
       "      <th>PM</th>\n",
       "      <th>GPM</th>\n",
       "      <th>ROE</th>\n",
       "      <th>ROCE</th>\n",
       "      <th>...</th>\n",
       "      <th>EV_EBIT</th>\n",
       "      <th>DE</th>\n",
       "      <th>DebtRatio</th>\n",
       "      <th>ICR</th>\n",
       "      <th>Equity_Liab</th>\n",
       "      <th>WorkingCap</th>\n",
       "      <th>OI_NWCFA</th>\n",
       "      <th>WC_TA</th>\n",
       "      <th>RE_TA</th>\n",
       "      <th>EBIT_TA</th>\n",
       "    </tr>\n",
       "  </thead>\n",
       "  <tbody>\n",
       "    <tr>\n",
       "      <th>25628</th>\n",
       "      <td>1.605372</td>\n",
       "      <td>1.605372</td>\n",
       "      <td>0.011801</td>\n",
       "      <td>0.0</td>\n",
       "      <td>1.334186</td>\n",
       "      <td>2.638366</td>\n",
       "      <td>0.143161</td>\n",
       "      <td>0.455618</td>\n",
       "      <td>0.052645</td>\n",
       "      <td>0.010073</td>\n",
       "      <td>...</td>\n",
       "      <td>118.480014</td>\n",
       "      <td>2.788468</td>\n",
       "      <td>1.358620</td>\n",
       "      <td>2.708548</td>\n",
       "      <td>0.358620</td>\n",
       "      <td>1.605372</td>\n",
       "      <td>0.215433</td>\n",
       "      <td>0.036790</td>\n",
       "      <td>1.218756</td>\n",
       "      <td>0.009461</td>\n",
       "    </tr>\n",
       "    <tr>\n",
       "      <th>7249</th>\n",
       "      <td>1.498312</td>\n",
       "      <td>0.711767</td>\n",
       "      <td>0.423275</td>\n",
       "      <td>0.0</td>\n",
       "      <td>1.788779</td>\n",
       "      <td>1.850493</td>\n",
       "      <td>0.000000</td>\n",
       "      <td>0.090585</td>\n",
       "      <td>-0.019255</td>\n",
       "      <td>-0.020809</td>\n",
       "      <td>...</td>\n",
       "      <td>-26.891326</td>\n",
       "      <td>1.176810</td>\n",
       "      <td>1.849755</td>\n",
       "      <td>-45.656325</td>\n",
       "      <td>0.849755</td>\n",
       "      <td>1.498312</td>\n",
       "      <td>-0.154405</td>\n",
       "      <td>0.245963</td>\n",
       "      <td>-0.014983</td>\n",
       "      <td>-0.010538</td>\n",
       "    </tr>\n",
       "    <tr>\n",
       "      <th>9043</th>\n",
       "      <td>1.797912</td>\n",
       "      <td>1.349417</td>\n",
       "      <td>0.479910</td>\n",
       "      <td>0.0</td>\n",
       "      <td>2.919091</td>\n",
       "      <td>1.052978</td>\n",
       "      <td>0.018086</td>\n",
       "      <td>0.349227</td>\n",
       "      <td>0.010122</td>\n",
       "      <td>-0.000597</td>\n",
       "      <td>...</td>\n",
       "      <td>-500.000000</td>\n",
       "      <td>1.886285</td>\n",
       "      <td>1.530143</td>\n",
       "      <td>2.834975</td>\n",
       "      <td>0.530143</td>\n",
       "      <td>1.797912</td>\n",
       "      <td>0.057048</td>\n",
       "      <td>0.184143</td>\n",
       "      <td>0.802735</td>\n",
       "      <td>-0.000459</td>\n",
       "    </tr>\n",
       "    <tr>\n",
       "      <th>8164</th>\n",
       "      <td>0.456019</td>\n",
       "      <td>0.317251</td>\n",
       "      <td>0.180810</td>\n",
       "      <td>0.0</td>\n",
       "      <td>0.851384</td>\n",
       "      <td>0.000000</td>\n",
       "      <td>0.063993</td>\n",
       "      <td>0.226507</td>\n",
       "      <td>0.058905</td>\n",
       "      <td>0.036372</td>\n",
       "      <td>...</td>\n",
       "      <td>80.914183</td>\n",
       "      <td>1.518104</td>\n",
       "      <td>1.658716</td>\n",
       "      <td>14.800000</td>\n",
       "      <td>0.658716</td>\n",
       "      <td>0.456019</td>\n",
       "      <td>0.108339</td>\n",
       "      <td>-0.132513</td>\n",
       "      <td>0.105833</td>\n",
       "      <td>0.027512</td>\n",
       "    </tr>\n",
       "    <tr>\n",
       "      <th>26082</th>\n",
       "      <td>1.118243</td>\n",
       "      <td>0.849810</td>\n",
       "      <td>0.223240</td>\n",
       "      <td>0.0</td>\n",
       "      <td>2.330795</td>\n",
       "      <td>5.000000</td>\n",
       "      <td>0.107215</td>\n",
       "      <td>0.468250</td>\n",
       "      <td>0.266111</td>\n",
       "      <td>0.058303</td>\n",
       "      <td>...</td>\n",
       "      <td>44.045819</td>\n",
       "      <td>6.574310</td>\n",
       "      <td>1.152107</td>\n",
       "      <td>8.726368</td>\n",
       "      <td>0.152107</td>\n",
       "      <td>1.118243</td>\n",
       "      <td>0.288867</td>\n",
       "      <td>0.035133</td>\n",
       "      <td>0.000000</td>\n",
       "      <td>0.040979</td>\n",
       "    </tr>\n",
       "  </tbody>\n",
       "</table>\n",
       "<p>5 rows × 23 columns</p>\n",
       "</div>"
      ],
      "text/plain": [
       "             CR      Acid  CashRatio  InvTO  AssetTurnover    NWC_TO  \\\n",
       "25628  1.605372  1.605372   0.011801    0.0       1.334186  2.638366   \n",
       "7249   1.498312  0.711767   0.423275    0.0       1.788779  1.850493   \n",
       "9043   1.797912  1.349417   0.479910    0.0       2.919091  1.052978   \n",
       "8164   0.456019  0.317251   0.180810    0.0       0.851384  0.000000   \n",
       "26082  1.118243  0.849810   0.223240    0.0       2.330795  5.000000   \n",
       "\n",
       "             PM       GPM       ROE      ROCE  ...     EV_EBIT        DE  \\\n",
       "25628  0.143161  0.455618  0.052645  0.010073  ...  118.480014  2.788468   \n",
       "7249   0.000000  0.090585 -0.019255 -0.020809  ...  -26.891326  1.176810   \n",
       "9043   0.018086  0.349227  0.010122 -0.000597  ... -500.000000  1.886285   \n",
       "8164   0.063993  0.226507  0.058905  0.036372  ...   80.914183  1.518104   \n",
       "26082  0.107215  0.468250  0.266111  0.058303  ...   44.045819  6.574310   \n",
       "\n",
       "       DebtRatio        ICR  Equity_Liab  WorkingCap  OI_NWCFA     WC_TA  \\\n",
       "25628   1.358620   2.708548     0.358620    1.605372  0.215433  0.036790   \n",
       "7249    1.849755 -45.656325     0.849755    1.498312 -0.154405  0.245963   \n",
       "9043    1.530143   2.834975     0.530143    1.797912  0.057048  0.184143   \n",
       "8164    1.658716  14.800000     0.658716    0.456019  0.108339 -0.132513   \n",
       "26082   1.152107   8.726368     0.152107    1.118243  0.288867  0.035133   \n",
       "\n",
       "          RE_TA   EBIT_TA  \n",
       "25628  1.218756  0.009461  \n",
       "7249  -0.014983 -0.010538  \n",
       "9043   0.802735 -0.000459  \n",
       "8164   0.105833  0.027512  \n",
       "26082  0.000000  0.040979  \n",
       "\n",
       "[5 rows x 23 columns]"
      ]
     },
     "execution_count": 10,
     "metadata": {},
     "output_type": "execute_result"
    },
    {
     "name": "stdout",
     "output_type": "stream",
     "text": [
      "time: 0 ns (started: 2022-10-13 16:49:04 +08:00)\n"
     ]
    }
   ],
   "source": [
    "X.head()"
   ]
  },
  {
   "cell_type": "code",
   "execution_count": 11,
   "id": "31bd3acc",
   "metadata": {},
   "outputs": [
    {
     "data": {
      "text/plain": [
       "0.26660093623808423"
      ]
     },
     "execution_count": 11,
     "metadata": {},
     "output_type": "execute_result"
    },
    {
     "name": "stdout",
     "output_type": "stream",
     "text": [
      "time: 0 ns (started: 2022-10-13 16:49:04 +08:00)\n"
     ]
    }
   ],
   "source": [
    "# Just checking on the baseline annual returns\n",
    "y.mean()"
   ]
  },
  {
   "cell_type": "markdown",
   "id": "54733309",
   "metadata": {},
   "source": [
    "## Hyperparameter Tuning of the Random Forest Regressor"
   ]
  },
  {
   "cell_type": "code",
   "execution_count": 12,
   "id": "df17f932",
   "metadata": {},
   "outputs": [
    {
     "name": "stdout",
     "output_type": "stream",
     "text": [
      "time: 0 ns (started: 2022-10-13 16:49:04 +08:00)\n"
     ]
    }
   ],
   "source": [
    "X_train, X_test, y_train, y_test = train_test_split(X, y, test_size=0.3, random_state=42) "
   ]
  },
  {
   "cell_type": "code",
   "execution_count": 13,
   "id": "a63a1273",
   "metadata": {
    "scrolled": false
   },
   "outputs": [
    {
     "name": "stdout",
     "output_type": "stream",
     "text": [
      "time: 0 ns (started: 2022-10-13 16:49:04 +08:00)\n"
     ]
    }
   ],
   "source": [
    "rf = RandomForestRegressor(n_jobs=-1)"
   ]
  },
  {
   "cell_type": "code",
   "execution_count": 14,
   "id": "faa2a7b3",
   "metadata": {},
   "outputs": [
    {
     "data": {
      "text/html": [
       "<style>#sk-container-id-1 {color: black;background-color: white;}#sk-container-id-1 pre{padding: 0;}#sk-container-id-1 div.sk-toggleable {background-color: white;}#sk-container-id-1 label.sk-toggleable__label {cursor: pointer;display: block;width: 100%;margin-bottom: 0;padding: 0.3em;box-sizing: border-box;text-align: center;}#sk-container-id-1 label.sk-toggleable__label-arrow:before {content: \"▸\";float: left;margin-right: 0.25em;color: #696969;}#sk-container-id-1 label.sk-toggleable__label-arrow:hover:before {color: black;}#sk-container-id-1 div.sk-estimator:hover label.sk-toggleable__label-arrow:before {color: black;}#sk-container-id-1 div.sk-toggleable__content {max-height: 0;max-width: 0;overflow: hidden;text-align: left;background-color: #f0f8ff;}#sk-container-id-1 div.sk-toggleable__content pre {margin: 0.2em;color: black;border-radius: 0.25em;background-color: #f0f8ff;}#sk-container-id-1 input.sk-toggleable__control:checked~div.sk-toggleable__content {max-height: 200px;max-width: 100%;overflow: auto;}#sk-container-id-1 input.sk-toggleable__control:checked~label.sk-toggleable__label-arrow:before {content: \"▾\";}#sk-container-id-1 div.sk-estimator input.sk-toggleable__control:checked~label.sk-toggleable__label {background-color: #d4ebff;}#sk-container-id-1 div.sk-label input.sk-toggleable__control:checked~label.sk-toggleable__label {background-color: #d4ebff;}#sk-container-id-1 input.sk-hidden--visually {border: 0;clip: rect(1px 1px 1px 1px);clip: rect(1px, 1px, 1px, 1px);height: 1px;margin: -1px;overflow: hidden;padding: 0;position: absolute;width: 1px;}#sk-container-id-1 div.sk-estimator {font-family: monospace;background-color: #f0f8ff;border: 1px dotted black;border-radius: 0.25em;box-sizing: border-box;margin-bottom: 0.5em;}#sk-container-id-1 div.sk-estimator:hover {background-color: #d4ebff;}#sk-container-id-1 div.sk-parallel-item::after {content: \"\";width: 100%;border-bottom: 1px solid gray;flex-grow: 1;}#sk-container-id-1 div.sk-label:hover label.sk-toggleable__label {background-color: #d4ebff;}#sk-container-id-1 div.sk-serial::before {content: \"\";position: absolute;border-left: 1px solid gray;box-sizing: border-box;top: 0;bottom: 0;left: 50%;z-index: 0;}#sk-container-id-1 div.sk-serial {display: flex;flex-direction: column;align-items: center;background-color: white;padding-right: 0.2em;padding-left: 0.2em;position: relative;}#sk-container-id-1 div.sk-item {position: relative;z-index: 1;}#sk-container-id-1 div.sk-parallel {display: flex;align-items: stretch;justify-content: center;background-color: white;position: relative;}#sk-container-id-1 div.sk-item::before, #sk-container-id-1 div.sk-parallel-item::before {content: \"\";position: absolute;border-left: 1px solid gray;box-sizing: border-box;top: 0;bottom: 0;left: 50%;z-index: -1;}#sk-container-id-1 div.sk-parallel-item {display: flex;flex-direction: column;z-index: 1;position: relative;background-color: white;}#sk-container-id-1 div.sk-parallel-item:first-child::after {align-self: flex-end;width: 50%;}#sk-container-id-1 div.sk-parallel-item:last-child::after {align-self: flex-start;width: 50%;}#sk-container-id-1 div.sk-parallel-item:only-child::after {width: 0;}#sk-container-id-1 div.sk-dashed-wrapped {border: 1px dashed gray;margin: 0 0.4em 0.5em 0.4em;box-sizing: border-box;padding-bottom: 0.4em;background-color: white;}#sk-container-id-1 div.sk-label label {font-family: monospace;font-weight: bold;display: inline-block;line-height: 1.2em;}#sk-container-id-1 div.sk-label-container {text-align: center;}#sk-container-id-1 div.sk-container {/* jupyter's `normalize.less` sets `[hidden] { display: none; }` but bootstrap.min.css set `[hidden] { display: none !important; }` so we also need the `!important` here to be able to override the default hidden behavior on the sphinx rendered scikit-learn.org. See: https://github.com/scikit-learn/scikit-learn/issues/21755 */display: inline-block !important;position: relative;}#sk-container-id-1 div.sk-text-repr-fallback {display: none;}</style><div id=\"sk-container-id-1\" class=\"sk-top-container\"><div class=\"sk-text-repr-fallback\"><pre>RandomForestRegressor(n_jobs=-1)</pre><b>In a Jupyter environment, please rerun this cell to show the HTML representation or trust the notebook. <br />On GitHub, the HTML representation is unable to render, please try loading this page with nbviewer.org.</b></div><div class=\"sk-container\" hidden><div class=\"sk-item\"><div class=\"sk-estimator sk-toggleable\"><input class=\"sk-toggleable__control sk-hidden--visually\" id=\"sk-estimator-id-1\" type=\"checkbox\" checked><label for=\"sk-estimator-id-1\" class=\"sk-toggleable__label sk-toggleable__label-arrow\">RandomForestRegressor</label><div class=\"sk-toggleable__content\"><pre>RandomForestRegressor(n_jobs=-1)</pre></div></div></div></div></div>"
      ],
      "text/plain": [
       "RandomForestRegressor(n_jobs=-1)"
      ]
     },
     "execution_count": 14,
     "metadata": {},
     "output_type": "execute_result"
    },
    {
     "name": "stdout",
     "output_type": "stream",
     "text": [
      "time: 9.08 s (started: 2022-10-13 16:49:04 +08:00)\n"
     ]
    }
   ],
   "source": [
    "rf.fit(X_train, y_train)"
   ]
  },
  {
   "cell_type": "code",
   "execution_count": 15,
   "id": "32427c58",
   "metadata": {
    "scrolled": false
   },
   "outputs": [
    {
     "name": "stdout",
     "output_type": "stream",
     "text": [
      "time: 34.6 s (started: 2022-10-13 16:49:14 +08:00)\n"
     ]
    }
   ],
   "source": [
    "mse_train_cv = cross_val_score(rf, X_train, y_train, n_jobs=-1,\n",
    "                         scoring=\"neg_mean_squared_error\", cv=5)"
   ]
  },
  {
   "cell_type": "code",
   "execution_count": 18,
   "id": "720e0b3f",
   "metadata": {},
   "outputs": [
    {
     "data": {
      "text/plain": [
       "array([-2.03472016, -1.14921985, -1.17053275, -1.98556319, -1.21240169])"
      ]
     },
     "execution_count": 18,
     "metadata": {},
     "output_type": "execute_result"
    },
    {
     "name": "stdout",
     "output_type": "stream",
     "text": [
      "time: 16 ms (started: 2022-10-13 16:53:15 +08:00)\n"
     ]
    }
   ],
   "source": [
    "mse_train_cv"
   ]
  },
  {
   "cell_type": "code",
   "execution_count": 23,
   "id": "7e4a68a5",
   "metadata": {},
   "outputs": [
    {
     "name": "stdout",
     "output_type": "stream",
     "text": [
      "Train CV RMSE: 1.2181111563692262\n",
      "Train CV RMSE Std Dev: 0.1633791209079569\n",
      "time: 0 ns (started: 2022-10-13 16:58:06 +08:00)\n"
     ]
    }
   ],
   "source": [
    "# Getting the mean RMSE and std dev. from doing 10 cross-validation runs\n",
    "rmse_train_cv = np.sqrt(-mse_train_cv)\n",
    "\n",
    "print(f\"Train CV RMSE: {rmse_train_cv.mean()}\")\n",
    "print(f\"Train CV RMSE Std Dev: {rmse_train_cv.std()}\")"
   ]
  },
  {
   "cell_type": "code",
   "execution_count": 24,
   "id": "4d9b8b82",
   "metadata": {},
   "outputs": [
    {
     "name": "stdout",
     "output_type": "stream",
     "text": [
      "RMSE of train CV: 1.2181111563692262\n",
      "RMSE of test: 1.31597896712547\n",
      "Generalization: 8.034%\n",
      "time: 62 ms (started: 2022-10-13 16:58:30 +08:00)\n"
     ]
    }
   ],
   "source": [
    "y_pred = rf.predict(X_test)\n",
    "rmse_test = mean_squared_error(y_test, y_pred, squared=False)\n",
    "pct_diff = round((rmse_test/rmse_train_cv.mean() - 1)*100,3)\n",
    "\n",
    "print(f\"RMSE of train CV: {rmse_train_cv.mean()}\")\n",
    "print(f\"RMSE of test: {rmse_test}\")\n",
    "print(f\"Generalization: {pct_diff}%\")"
   ]
  },
  {
   "cell_type": "code",
   "execution_count": 25,
   "id": "07452b9a",
   "metadata": {},
   "outputs": [
    {
     "name": "stdout",
     "output_type": "stream",
     "text": [
      "time: 0 ns (started: 2022-10-13 16:59:26 +08:00)\n"
     ]
    }
   ],
   "source": [
    "# Use GridSearch to find what are the best hyperparameters to use\n",
    "\n",
    "# Define the param grid\n",
    "param_grid = {'bootstrap': [True, False],\n",
    "              'n_estimators': [5, 10, 15],\n",
    "              'max_features': [2, 3, 4], \n",
    "              'max_depth': [5, 10, 15],\n",
    "              'min_samples_split': [2, 5, 10],\n",
    "              'min_samples_leaf': [5, 7, 10]\n",
    "             }"
   ]
  },
  {
   "cell_type": "code",
   "execution_count": 26,
   "id": "35d809a6",
   "metadata": {},
   "outputs": [
    {
     "name": "stdout",
     "output_type": "stream",
     "text": [
      "time: 0 ns (started: 2022-10-13 16:59:30 +08:00)\n"
     ]
    }
   ],
   "source": [
    "# Run the GridSearch\n",
    "grid_search = GridSearchCV(rf, param_grid, cv=5,\n",
    "                           scoring='neg_mean_squared_error',\n",
    "                           return_train_score=True)"
   ]
  },
  {
   "cell_type": "code",
   "execution_count": 27,
   "id": "8726e6c0",
   "metadata": {},
   "outputs": [
    {
     "data": {
      "text/html": [
       "<style>#sk-container-id-2 {color: black;background-color: white;}#sk-container-id-2 pre{padding: 0;}#sk-container-id-2 div.sk-toggleable {background-color: white;}#sk-container-id-2 label.sk-toggleable__label {cursor: pointer;display: block;width: 100%;margin-bottom: 0;padding: 0.3em;box-sizing: border-box;text-align: center;}#sk-container-id-2 label.sk-toggleable__label-arrow:before {content: \"▸\";float: left;margin-right: 0.25em;color: #696969;}#sk-container-id-2 label.sk-toggleable__label-arrow:hover:before {color: black;}#sk-container-id-2 div.sk-estimator:hover label.sk-toggleable__label-arrow:before {color: black;}#sk-container-id-2 div.sk-toggleable__content {max-height: 0;max-width: 0;overflow: hidden;text-align: left;background-color: #f0f8ff;}#sk-container-id-2 div.sk-toggleable__content pre {margin: 0.2em;color: black;border-radius: 0.25em;background-color: #f0f8ff;}#sk-container-id-2 input.sk-toggleable__control:checked~div.sk-toggleable__content {max-height: 200px;max-width: 100%;overflow: auto;}#sk-container-id-2 input.sk-toggleable__control:checked~label.sk-toggleable__label-arrow:before {content: \"▾\";}#sk-container-id-2 div.sk-estimator input.sk-toggleable__control:checked~label.sk-toggleable__label {background-color: #d4ebff;}#sk-container-id-2 div.sk-label input.sk-toggleable__control:checked~label.sk-toggleable__label {background-color: #d4ebff;}#sk-container-id-2 input.sk-hidden--visually {border: 0;clip: rect(1px 1px 1px 1px);clip: rect(1px, 1px, 1px, 1px);height: 1px;margin: -1px;overflow: hidden;padding: 0;position: absolute;width: 1px;}#sk-container-id-2 div.sk-estimator {font-family: monospace;background-color: #f0f8ff;border: 1px dotted black;border-radius: 0.25em;box-sizing: border-box;margin-bottom: 0.5em;}#sk-container-id-2 div.sk-estimator:hover {background-color: #d4ebff;}#sk-container-id-2 div.sk-parallel-item::after {content: \"\";width: 100%;border-bottom: 1px solid gray;flex-grow: 1;}#sk-container-id-2 div.sk-label:hover label.sk-toggleable__label {background-color: #d4ebff;}#sk-container-id-2 div.sk-serial::before {content: \"\";position: absolute;border-left: 1px solid gray;box-sizing: border-box;top: 0;bottom: 0;left: 50%;z-index: 0;}#sk-container-id-2 div.sk-serial {display: flex;flex-direction: column;align-items: center;background-color: white;padding-right: 0.2em;padding-left: 0.2em;position: relative;}#sk-container-id-2 div.sk-item {position: relative;z-index: 1;}#sk-container-id-2 div.sk-parallel {display: flex;align-items: stretch;justify-content: center;background-color: white;position: relative;}#sk-container-id-2 div.sk-item::before, #sk-container-id-2 div.sk-parallel-item::before {content: \"\";position: absolute;border-left: 1px solid gray;box-sizing: border-box;top: 0;bottom: 0;left: 50%;z-index: -1;}#sk-container-id-2 div.sk-parallel-item {display: flex;flex-direction: column;z-index: 1;position: relative;background-color: white;}#sk-container-id-2 div.sk-parallel-item:first-child::after {align-self: flex-end;width: 50%;}#sk-container-id-2 div.sk-parallel-item:last-child::after {align-self: flex-start;width: 50%;}#sk-container-id-2 div.sk-parallel-item:only-child::after {width: 0;}#sk-container-id-2 div.sk-dashed-wrapped {border: 1px dashed gray;margin: 0 0.4em 0.5em 0.4em;box-sizing: border-box;padding-bottom: 0.4em;background-color: white;}#sk-container-id-2 div.sk-label label {font-family: monospace;font-weight: bold;display: inline-block;line-height: 1.2em;}#sk-container-id-2 div.sk-label-container {text-align: center;}#sk-container-id-2 div.sk-container {/* jupyter's `normalize.less` sets `[hidden] { display: none; }` but bootstrap.min.css set `[hidden] { display: none !important; }` so we also need the `!important` here to be able to override the default hidden behavior on the sphinx rendered scikit-learn.org. See: https://github.com/scikit-learn/scikit-learn/issues/21755 */display: inline-block !important;position: relative;}#sk-container-id-2 div.sk-text-repr-fallback {display: none;}</style><div id=\"sk-container-id-2\" class=\"sk-top-container\"><div class=\"sk-text-repr-fallback\"><pre>GridSearchCV(cv=5, estimator=RandomForestRegressor(n_jobs=-1),\n",
       "             param_grid={&#x27;bootstrap&#x27;: [True, False], &#x27;max_depth&#x27;: [5, 10, 15],\n",
       "                         &#x27;max_features&#x27;: [2, 3, 4],\n",
       "                         &#x27;min_samples_leaf&#x27;: [5, 7, 10],\n",
       "                         &#x27;min_samples_split&#x27;: [2, 5, 10],\n",
       "                         &#x27;n_estimators&#x27;: [5, 10, 15]},\n",
       "             return_train_score=True, scoring=&#x27;neg_mean_squared_error&#x27;)</pre><b>In a Jupyter environment, please rerun this cell to show the HTML representation or trust the notebook. <br />On GitHub, the HTML representation is unable to render, please try loading this page with nbviewer.org.</b></div><div class=\"sk-container\" hidden><div class=\"sk-item sk-dashed-wrapped\"><div class=\"sk-label-container\"><div class=\"sk-label sk-toggleable\"><input class=\"sk-toggleable__control sk-hidden--visually\" id=\"sk-estimator-id-2\" type=\"checkbox\" ><label for=\"sk-estimator-id-2\" class=\"sk-toggleable__label sk-toggleable__label-arrow\">GridSearchCV</label><div class=\"sk-toggleable__content\"><pre>GridSearchCV(cv=5, estimator=RandomForestRegressor(n_jobs=-1),\n",
       "             param_grid={&#x27;bootstrap&#x27;: [True, False], &#x27;max_depth&#x27;: [5, 10, 15],\n",
       "                         &#x27;max_features&#x27;: [2, 3, 4],\n",
       "                         &#x27;min_samples_leaf&#x27;: [5, 7, 10],\n",
       "                         &#x27;min_samples_split&#x27;: [2, 5, 10],\n",
       "                         &#x27;n_estimators&#x27;: [5, 10, 15]},\n",
       "             return_train_score=True, scoring=&#x27;neg_mean_squared_error&#x27;)</pre></div></div></div><div class=\"sk-parallel\"><div class=\"sk-parallel-item\"><div class=\"sk-item\"><div class=\"sk-label-container\"><div class=\"sk-label sk-toggleable\"><input class=\"sk-toggleable__control sk-hidden--visually\" id=\"sk-estimator-id-3\" type=\"checkbox\" ><label for=\"sk-estimator-id-3\" class=\"sk-toggleable__label sk-toggleable__label-arrow\">estimator: RandomForestRegressor</label><div class=\"sk-toggleable__content\"><pre>RandomForestRegressor(n_jobs=-1)</pre></div></div></div><div class=\"sk-serial\"><div class=\"sk-item\"><div class=\"sk-estimator sk-toggleable\"><input class=\"sk-toggleable__control sk-hidden--visually\" id=\"sk-estimator-id-4\" type=\"checkbox\" ><label for=\"sk-estimator-id-4\" class=\"sk-toggleable__label sk-toggleable__label-arrow\">RandomForestRegressor</label><div class=\"sk-toggleable__content\"><pre>RandomForestRegressor(n_jobs=-1)</pre></div></div></div></div></div></div></div></div></div></div>"
      ],
      "text/plain": [
       "GridSearchCV(cv=5, estimator=RandomForestRegressor(n_jobs=-1),\n",
       "             param_grid={'bootstrap': [True, False], 'max_depth': [5, 10, 15],\n",
       "                         'max_features': [2, 3, 4],\n",
       "                         'min_samples_leaf': [5, 7, 10],\n",
       "                         'min_samples_split': [2, 5, 10],\n",
       "                         'n_estimators': [5, 10, 15]},\n",
       "             return_train_score=True, scoring='neg_mean_squared_error')"
      ]
     },
     "execution_count": 27,
     "metadata": {},
     "output_type": "execute_result"
    },
    {
     "name": "stdout",
     "output_type": "stream",
     "text": [
      "time: 10min 1s (started: 2022-10-13 16:59:32 +08:00)\n"
     ]
    }
   ],
   "source": [
    "grid_search.fit(X_train, y_train)"
   ]
  },
  {
   "cell_type": "code",
   "execution_count": 28,
   "id": "f292425f",
   "metadata": {},
   "outputs": [
    {
     "data": {
      "text/html": [
       "<style>#sk-container-id-3 {color: black;background-color: white;}#sk-container-id-3 pre{padding: 0;}#sk-container-id-3 div.sk-toggleable {background-color: white;}#sk-container-id-3 label.sk-toggleable__label {cursor: pointer;display: block;width: 100%;margin-bottom: 0;padding: 0.3em;box-sizing: border-box;text-align: center;}#sk-container-id-3 label.sk-toggleable__label-arrow:before {content: \"▸\";float: left;margin-right: 0.25em;color: #696969;}#sk-container-id-3 label.sk-toggleable__label-arrow:hover:before {color: black;}#sk-container-id-3 div.sk-estimator:hover label.sk-toggleable__label-arrow:before {color: black;}#sk-container-id-3 div.sk-toggleable__content {max-height: 0;max-width: 0;overflow: hidden;text-align: left;background-color: #f0f8ff;}#sk-container-id-3 div.sk-toggleable__content pre {margin: 0.2em;color: black;border-radius: 0.25em;background-color: #f0f8ff;}#sk-container-id-3 input.sk-toggleable__control:checked~div.sk-toggleable__content {max-height: 200px;max-width: 100%;overflow: auto;}#sk-container-id-3 input.sk-toggleable__control:checked~label.sk-toggleable__label-arrow:before {content: \"▾\";}#sk-container-id-3 div.sk-estimator input.sk-toggleable__control:checked~label.sk-toggleable__label {background-color: #d4ebff;}#sk-container-id-3 div.sk-label input.sk-toggleable__control:checked~label.sk-toggleable__label {background-color: #d4ebff;}#sk-container-id-3 input.sk-hidden--visually {border: 0;clip: rect(1px 1px 1px 1px);clip: rect(1px, 1px, 1px, 1px);height: 1px;margin: -1px;overflow: hidden;padding: 0;position: absolute;width: 1px;}#sk-container-id-3 div.sk-estimator {font-family: monospace;background-color: #f0f8ff;border: 1px dotted black;border-radius: 0.25em;box-sizing: border-box;margin-bottom: 0.5em;}#sk-container-id-3 div.sk-estimator:hover {background-color: #d4ebff;}#sk-container-id-3 div.sk-parallel-item::after {content: \"\";width: 100%;border-bottom: 1px solid gray;flex-grow: 1;}#sk-container-id-3 div.sk-label:hover label.sk-toggleable__label {background-color: #d4ebff;}#sk-container-id-3 div.sk-serial::before {content: \"\";position: absolute;border-left: 1px solid gray;box-sizing: border-box;top: 0;bottom: 0;left: 50%;z-index: 0;}#sk-container-id-3 div.sk-serial {display: flex;flex-direction: column;align-items: center;background-color: white;padding-right: 0.2em;padding-left: 0.2em;position: relative;}#sk-container-id-3 div.sk-item {position: relative;z-index: 1;}#sk-container-id-3 div.sk-parallel {display: flex;align-items: stretch;justify-content: center;background-color: white;position: relative;}#sk-container-id-3 div.sk-item::before, #sk-container-id-3 div.sk-parallel-item::before {content: \"\";position: absolute;border-left: 1px solid gray;box-sizing: border-box;top: 0;bottom: 0;left: 50%;z-index: -1;}#sk-container-id-3 div.sk-parallel-item {display: flex;flex-direction: column;z-index: 1;position: relative;background-color: white;}#sk-container-id-3 div.sk-parallel-item:first-child::after {align-self: flex-end;width: 50%;}#sk-container-id-3 div.sk-parallel-item:last-child::after {align-self: flex-start;width: 50%;}#sk-container-id-3 div.sk-parallel-item:only-child::after {width: 0;}#sk-container-id-3 div.sk-dashed-wrapped {border: 1px dashed gray;margin: 0 0.4em 0.5em 0.4em;box-sizing: border-box;padding-bottom: 0.4em;background-color: white;}#sk-container-id-3 div.sk-label label {font-family: monospace;font-weight: bold;display: inline-block;line-height: 1.2em;}#sk-container-id-3 div.sk-label-container {text-align: center;}#sk-container-id-3 div.sk-container {/* jupyter's `normalize.less` sets `[hidden] { display: none; }` but bootstrap.min.css set `[hidden] { display: none !important; }` so we also need the `!important` here to be able to override the default hidden behavior on the sphinx rendered scikit-learn.org. See: https://github.com/scikit-learn/scikit-learn/issues/21755 */display: inline-block !important;position: relative;}#sk-container-id-3 div.sk-text-repr-fallback {display: none;}</style><div id=\"sk-container-id-3\" class=\"sk-top-container\"><div class=\"sk-text-repr-fallback\"><pre>RandomForestRegressor(bootstrap=False, max_depth=15, max_features=3,\n",
       "                      min_samples_leaf=5, min_samples_split=10, n_estimators=15,\n",
       "                      n_jobs=-1)</pre><b>In a Jupyter environment, please rerun this cell to show the HTML representation or trust the notebook. <br />On GitHub, the HTML representation is unable to render, please try loading this page with nbviewer.org.</b></div><div class=\"sk-container\" hidden><div class=\"sk-item\"><div class=\"sk-estimator sk-toggleable\"><input class=\"sk-toggleable__control sk-hidden--visually\" id=\"sk-estimator-id-5\" type=\"checkbox\" checked><label for=\"sk-estimator-id-5\" class=\"sk-toggleable__label sk-toggleable__label-arrow\">RandomForestRegressor</label><div class=\"sk-toggleable__content\"><pre>RandomForestRegressor(bootstrap=False, max_depth=15, max_features=3,\n",
       "                      min_samples_leaf=5, min_samples_split=10, n_estimators=15,\n",
       "                      n_jobs=-1)</pre></div></div></div></div></div>"
      ],
      "text/plain": [
       "RandomForestRegressor(bootstrap=False, max_depth=15, max_features=3,\n",
       "                      min_samples_leaf=5, min_samples_split=10, n_estimators=15,\n",
       "                      n_jobs=-1)"
      ]
     },
     "execution_count": 28,
     "metadata": {},
     "output_type": "execute_result"
    },
    {
     "name": "stdout",
     "output_type": "stream",
     "text": [
      "time: 16 ms (started: 2022-10-13 17:09:34 +08:00)\n"
     ]
    }
   ],
   "source": [
    "grid_search.best_estimator_"
   ]
  },
  {
   "cell_type": "code",
   "execution_count": 29,
   "id": "a686ac1b",
   "metadata": {},
   "outputs": [
    {
     "data": {
      "text/plain": [
       "{'bootstrap': False,\n",
       " 'max_depth': 15,\n",
       " 'max_features': 3,\n",
       " 'min_samples_leaf': 5,\n",
       " 'min_samples_split': 10,\n",
       " 'n_estimators': 15}"
      ]
     },
     "execution_count": 29,
     "metadata": {},
     "output_type": "execute_result"
    },
    {
     "name": "stdout",
     "output_type": "stream",
     "text": [
      "time: 0 ns (started: 2022-10-13 17:09:34 +08:00)\n"
     ]
    }
   ],
   "source": [
    "grid_search.best_params_"
   ]
  },
  {
   "cell_type": "markdown",
   "id": "82cd0e46",
   "metadata": {},
   "source": [
    "### Printing out all the CV results"
   ]
  },
  {
   "cell_type": "code",
   "execution_count": 30,
   "id": "0a14a9d5",
   "metadata": {},
   "outputs": [
    {
     "name": "stdout",
     "output_type": "stream",
     "text": [
      "1.2674345189161158 {'bootstrap': True, 'max_depth': 5, 'max_features': 2, 'min_samples_leaf': 5, 'min_samples_split': 2, 'n_estimators': 5}\n",
      "1.2592307301895804 {'bootstrap': True, 'max_depth': 5, 'max_features': 2, 'min_samples_leaf': 5, 'min_samples_split': 2, 'n_estimators': 10}\n",
      "1.2551482118945385 {'bootstrap': True, 'max_depth': 5, 'max_features': 2, 'min_samples_leaf': 5, 'min_samples_split': 2, 'n_estimators': 15}\n",
      "1.2635392393447944 {'bootstrap': True, 'max_depth': 5, 'max_features': 2, 'min_samples_leaf': 5, 'min_samples_split': 5, 'n_estimators': 5}\n",
      "1.2620227373263229 {'bootstrap': True, 'max_depth': 5, 'max_features': 2, 'min_samples_leaf': 5, 'min_samples_split': 5, 'n_estimators': 10}\n",
      "1.2578930457126396 {'bootstrap': True, 'max_depth': 5, 'max_features': 2, 'min_samples_leaf': 5, 'min_samples_split': 5, 'n_estimators': 15}\n",
      "1.2688223785247845 {'bootstrap': True, 'max_depth': 5, 'max_features': 2, 'min_samples_leaf': 5, 'min_samples_split': 10, 'n_estimators': 5}\n",
      "1.255524000621046 {'bootstrap': True, 'max_depth': 5, 'max_features': 2, 'min_samples_leaf': 5, 'min_samples_split': 10, 'n_estimators': 10}\n",
      "1.2561313594896844 {'bootstrap': True, 'max_depth': 5, 'max_features': 2, 'min_samples_leaf': 5, 'min_samples_split': 10, 'n_estimators': 15}\n",
      "1.266550347345241 {'bootstrap': True, 'max_depth': 5, 'max_features': 2, 'min_samples_leaf': 7, 'min_samples_split': 2, 'n_estimators': 5}\n",
      "1.2603425849010321 {'bootstrap': True, 'max_depth': 5, 'max_features': 2, 'min_samples_leaf': 7, 'min_samples_split': 2, 'n_estimators': 10}\n",
      "1.2546209239180024 {'bootstrap': True, 'max_depth': 5, 'max_features': 2, 'min_samples_leaf': 7, 'min_samples_split': 2, 'n_estimators': 15}\n",
      "1.2708414075849315 {'bootstrap': True, 'max_depth': 5, 'max_features': 2, 'min_samples_leaf': 7, 'min_samples_split': 5, 'n_estimators': 5}\n",
      "1.2621051627155624 {'bootstrap': True, 'max_depth': 5, 'max_features': 2, 'min_samples_leaf': 7, 'min_samples_split': 5, 'n_estimators': 10}\n",
      "1.2588827838730932 {'bootstrap': True, 'max_depth': 5, 'max_features': 2, 'min_samples_leaf': 7, 'min_samples_split': 5, 'n_estimators': 15}\n",
      "1.2590158137871905 {'bootstrap': True, 'max_depth': 5, 'max_features': 2, 'min_samples_leaf': 7, 'min_samples_split': 10, 'n_estimators': 5}\n",
      "1.2619466723763098 {'bootstrap': True, 'max_depth': 5, 'max_features': 2, 'min_samples_leaf': 7, 'min_samples_split': 10, 'n_estimators': 10}\n",
      "1.2576701417593583 {'bootstrap': True, 'max_depth': 5, 'max_features': 2, 'min_samples_leaf': 7, 'min_samples_split': 10, 'n_estimators': 15}\n",
      "1.259399626606821 {'bootstrap': True, 'max_depth': 5, 'max_features': 2, 'min_samples_leaf': 10, 'min_samples_split': 2, 'n_estimators': 5}\n",
      "1.255479378567187 {'bootstrap': True, 'max_depth': 5, 'max_features': 2, 'min_samples_leaf': 10, 'min_samples_split': 2, 'n_estimators': 10}\n",
      "1.257607181730849 {'bootstrap': True, 'max_depth': 5, 'max_features': 2, 'min_samples_leaf': 10, 'min_samples_split': 2, 'n_estimators': 15}\n",
      "1.2655217121821296 {'bootstrap': True, 'max_depth': 5, 'max_features': 2, 'min_samples_leaf': 10, 'min_samples_split': 5, 'n_estimators': 5}\n",
      "1.257268103438913 {'bootstrap': True, 'max_depth': 5, 'max_features': 2, 'min_samples_leaf': 10, 'min_samples_split': 5, 'n_estimators': 10}\n",
      "1.255429273957028 {'bootstrap': True, 'max_depth': 5, 'max_features': 2, 'min_samples_leaf': 10, 'min_samples_split': 5, 'n_estimators': 15}\n",
      "1.265038837659464 {'bootstrap': True, 'max_depth': 5, 'max_features': 2, 'min_samples_leaf': 10, 'min_samples_split': 10, 'n_estimators': 5}\n",
      "1.2579704613739988 {'bootstrap': True, 'max_depth': 5, 'max_features': 2, 'min_samples_leaf': 10, 'min_samples_split': 10, 'n_estimators': 10}\n",
      "1.2559038355618763 {'bootstrap': True, 'max_depth': 5, 'max_features': 2, 'min_samples_leaf': 10, 'min_samples_split': 10, 'n_estimators': 15}\n",
      "1.260363063179817 {'bootstrap': True, 'max_depth': 5, 'max_features': 3, 'min_samples_leaf': 5, 'min_samples_split': 2, 'n_estimators': 5}\n",
      "1.2558991968885025 {'bootstrap': True, 'max_depth': 5, 'max_features': 3, 'min_samples_leaf': 5, 'min_samples_split': 2, 'n_estimators': 10}\n",
      "1.2554438207961975 {'bootstrap': True, 'max_depth': 5, 'max_features': 3, 'min_samples_leaf': 5, 'min_samples_split': 2, 'n_estimators': 15}\n",
      "1.268819498769811 {'bootstrap': True, 'max_depth': 5, 'max_features': 3, 'min_samples_leaf': 5, 'min_samples_split': 5, 'n_estimators': 5}\n",
      "1.2575825602127277 {'bootstrap': True, 'max_depth': 5, 'max_features': 3, 'min_samples_leaf': 5, 'min_samples_split': 5, 'n_estimators': 10}\n",
      "1.252272843109533 {'bootstrap': True, 'max_depth': 5, 'max_features': 3, 'min_samples_leaf': 5, 'min_samples_split': 5, 'n_estimators': 15}\n",
      "1.2663323692154969 {'bootstrap': True, 'max_depth': 5, 'max_features': 3, 'min_samples_leaf': 5, 'min_samples_split': 10, 'n_estimators': 5}\n",
      "1.259843187361723 {'bootstrap': True, 'max_depth': 5, 'max_features': 3, 'min_samples_leaf': 5, 'min_samples_split': 10, 'n_estimators': 10}\n",
      "1.2534010048958946 {'bootstrap': True, 'max_depth': 5, 'max_features': 3, 'min_samples_leaf': 5, 'min_samples_split': 10, 'n_estimators': 15}\n",
      "1.2577574568369363 {'bootstrap': True, 'max_depth': 5, 'max_features': 3, 'min_samples_leaf': 7, 'min_samples_split': 2, 'n_estimators': 5}\n",
      "1.253363038943865 {'bootstrap': True, 'max_depth': 5, 'max_features': 3, 'min_samples_leaf': 7, 'min_samples_split': 2, 'n_estimators': 10}\n",
      "1.252287835004237 {'bootstrap': True, 'max_depth': 5, 'max_features': 3, 'min_samples_leaf': 7, 'min_samples_split': 2, 'n_estimators': 15}\n",
      "1.262115529711274 {'bootstrap': True, 'max_depth': 5, 'max_features': 3, 'min_samples_leaf': 7, 'min_samples_split': 5, 'n_estimators': 5}\n",
      "1.2506597602397538 {'bootstrap': True, 'max_depth': 5, 'max_features': 3, 'min_samples_leaf': 7, 'min_samples_split': 5, 'n_estimators': 10}\n",
      "1.251250904923435 {'bootstrap': True, 'max_depth': 5, 'max_features': 3, 'min_samples_leaf': 7, 'min_samples_split': 5, 'n_estimators': 15}\n",
      "1.266495770405257 {'bootstrap': True, 'max_depth': 5, 'max_features': 3, 'min_samples_leaf': 7, 'min_samples_split': 10, 'n_estimators': 5}\n",
      "1.2585085574276262 {'bootstrap': True, 'max_depth': 5, 'max_features': 3, 'min_samples_leaf': 7, 'min_samples_split': 10, 'n_estimators': 10}\n",
      "1.2528064531123226 {'bootstrap': True, 'max_depth': 5, 'max_features': 3, 'min_samples_leaf': 7, 'min_samples_split': 10, 'n_estimators': 15}\n",
      "1.255454872734886 {'bootstrap': True, 'max_depth': 5, 'max_features': 3, 'min_samples_leaf': 10, 'min_samples_split': 2, 'n_estimators': 5}\n",
      "1.257283182273526 {'bootstrap': True, 'max_depth': 5, 'max_features': 3, 'min_samples_leaf': 10, 'min_samples_split': 2, 'n_estimators': 10}\n",
      "1.2528577978354691 {'bootstrap': True, 'max_depth': 5, 'max_features': 3, 'min_samples_leaf': 10, 'min_samples_split': 2, 'n_estimators': 15}\n",
      "1.2564002211400647 {'bootstrap': True, 'max_depth': 5, 'max_features': 3, 'min_samples_leaf': 10, 'min_samples_split': 5, 'n_estimators': 5}\n",
      "1.257814742192542 {'bootstrap': True, 'max_depth': 5, 'max_features': 3, 'min_samples_leaf': 10, 'min_samples_split': 5, 'n_estimators': 10}\n",
      "1.2553348998979164 {'bootstrap': True, 'max_depth': 5, 'max_features': 3, 'min_samples_leaf': 10, 'min_samples_split': 5, 'n_estimators': 15}\n",
      "1.2550902490926708 {'bootstrap': True, 'max_depth': 5, 'max_features': 3, 'min_samples_leaf': 10, 'min_samples_split': 10, 'n_estimators': 5}\n",
      "1.249163658406876 {'bootstrap': True, 'max_depth': 5, 'max_features': 3, 'min_samples_leaf': 10, 'min_samples_split': 10, 'n_estimators': 10}\n",
      "1.252438085671051 {'bootstrap': True, 'max_depth': 5, 'max_features': 3, 'min_samples_leaf': 10, 'min_samples_split': 10, 'n_estimators': 15}\n",
      "1.271957628528037 {'bootstrap': True, 'max_depth': 5, 'max_features': 4, 'min_samples_leaf': 5, 'min_samples_split': 2, 'n_estimators': 5}\n",
      "1.2600039508479988 {'bootstrap': True, 'max_depth': 5, 'max_features': 4, 'min_samples_leaf': 5, 'min_samples_split': 2, 'n_estimators': 10}\n",
      "1.256119582479675 {'bootstrap': True, 'max_depth': 5, 'max_features': 4, 'min_samples_leaf': 5, 'min_samples_split': 2, 'n_estimators': 15}\n",
      "1.268083368797571 {'bootstrap': True, 'max_depth': 5, 'max_features': 4, 'min_samples_leaf': 5, 'min_samples_split': 5, 'n_estimators': 5}\n",
      "1.2434081621170894 {'bootstrap': True, 'max_depth': 5, 'max_features': 4, 'min_samples_leaf': 5, 'min_samples_split': 5, 'n_estimators': 10}\n",
      "1.252882642869774 {'bootstrap': True, 'max_depth': 5, 'max_features': 4, 'min_samples_leaf': 5, 'min_samples_split': 5, 'n_estimators': 15}\n",
      "1.2598426783548786 {'bootstrap': True, 'max_depth': 5, 'max_features': 4, 'min_samples_leaf': 5, 'min_samples_split': 10, 'n_estimators': 5}\n",
      "1.2560736359931093 {'bootstrap': True, 'max_depth': 5, 'max_features': 4, 'min_samples_leaf': 5, 'min_samples_split': 10, 'n_estimators': 10}\n",
      "1.2559395108014095 {'bootstrap': True, 'max_depth': 5, 'max_features': 4, 'min_samples_leaf': 5, 'min_samples_split': 10, 'n_estimators': 15}\n",
      "1.2684760999873221 {'bootstrap': True, 'max_depth': 5, 'max_features': 4, 'min_samples_leaf': 7, 'min_samples_split': 2, 'n_estimators': 5}\n",
      "1.2538172860021122 {'bootstrap': True, 'max_depth': 5, 'max_features': 4, 'min_samples_leaf': 7, 'min_samples_split': 2, 'n_estimators': 10}\n",
      "1.2541955019156705 {'bootstrap': True, 'max_depth': 5, 'max_features': 4, 'min_samples_leaf': 7, 'min_samples_split': 2, 'n_estimators': 15}\n",
      "1.25969373205428 {'bootstrap': True, 'max_depth': 5, 'max_features': 4, 'min_samples_leaf': 7, 'min_samples_split': 5, 'n_estimators': 5}\n",
      "1.2583654087767364 {'bootstrap': True, 'max_depth': 5, 'max_features': 4, 'min_samples_leaf': 7, 'min_samples_split': 5, 'n_estimators': 10}\n",
      "1.2470293323690356 {'bootstrap': True, 'max_depth': 5, 'max_features': 4, 'min_samples_leaf': 7, 'min_samples_split': 5, 'n_estimators': 15}\n",
      "1.266703991891783 {'bootstrap': True, 'max_depth': 5, 'max_features': 4, 'min_samples_leaf': 7, 'min_samples_split': 10, 'n_estimators': 5}\n",
      "1.2547765373371045 {'bootstrap': True, 'max_depth': 5, 'max_features': 4, 'min_samples_leaf': 7, 'min_samples_split': 10, 'n_estimators': 10}\n",
      "1.249703119049451 {'bootstrap': True, 'max_depth': 5, 'max_features': 4, 'min_samples_leaf': 7, 'min_samples_split': 10, 'n_estimators': 15}\n",
      "1.2612251880007204 {'bootstrap': True, 'max_depth': 5, 'max_features': 4, 'min_samples_leaf': 10, 'min_samples_split': 2, 'n_estimators': 5}\n",
      "1.2496270590768006 {'bootstrap': True, 'max_depth': 5, 'max_features': 4, 'min_samples_leaf': 10, 'min_samples_split': 2, 'n_estimators': 10}\n",
      "1.2539598116011947 {'bootstrap': True, 'max_depth': 5, 'max_features': 4, 'min_samples_leaf': 10, 'min_samples_split': 2, 'n_estimators': 15}\n",
      "1.2594402545920897 {'bootstrap': True, 'max_depth': 5, 'max_features': 4, 'min_samples_leaf': 10, 'min_samples_split': 5, 'n_estimators': 5}\n",
      "1.2528234956105535 {'bootstrap': True, 'max_depth': 5, 'max_features': 4, 'min_samples_leaf': 10, 'min_samples_split': 5, 'n_estimators': 10}\n",
      "1.2547096524505803 {'bootstrap': True, 'max_depth': 5, 'max_features': 4, 'min_samples_leaf': 10, 'min_samples_split': 5, 'n_estimators': 15}\n",
      "1.2621983652743691 {'bootstrap': True, 'max_depth': 5, 'max_features': 4, 'min_samples_leaf': 10, 'min_samples_split': 10, 'n_estimators': 5}\n",
      "1.256052733553796 {'bootstrap': True, 'max_depth': 5, 'max_features': 4, 'min_samples_leaf': 10, 'min_samples_split': 10, 'n_estimators': 10}\n",
      "1.2499725313778614 {'bootstrap': True, 'max_depth': 5, 'max_features': 4, 'min_samples_leaf': 10, 'min_samples_split': 10, 'n_estimators': 15}\n",
      "1.271671405389858 {'bootstrap': True, 'max_depth': 10, 'max_features': 2, 'min_samples_leaf': 5, 'min_samples_split': 2, 'n_estimators': 5}\n",
      "1.2538063810745292 {'bootstrap': True, 'max_depth': 10, 'max_features': 2, 'min_samples_leaf': 5, 'min_samples_split': 2, 'n_estimators': 10}\n",
      "1.2469106271948855 {'bootstrap': True, 'max_depth': 10, 'max_features': 2, 'min_samples_leaf': 5, 'min_samples_split': 2, 'n_estimators': 15}\n",
      "1.2670054056691848 {'bootstrap': True, 'max_depth': 10, 'max_features': 2, 'min_samples_leaf': 5, 'min_samples_split': 5, 'n_estimators': 5}\n",
      "1.2478937382717838 {'bootstrap': True, 'max_depth': 10, 'max_features': 2, 'min_samples_leaf': 5, 'min_samples_split': 5, 'n_estimators': 10}\n",
      "1.2437927174212917 {'bootstrap': True, 'max_depth': 10, 'max_features': 2, 'min_samples_leaf': 5, 'min_samples_split': 5, 'n_estimators': 15}\n",
      "1.263275305718049 {'bootstrap': True, 'max_depth': 10, 'max_features': 2, 'min_samples_leaf': 5, 'min_samples_split': 10, 'n_estimators': 5}\n",
      "1.254481898013509 {'bootstrap': True, 'max_depth': 10, 'max_features': 2, 'min_samples_leaf': 5, 'min_samples_split': 10, 'n_estimators': 10}\n",
      "1.2466928024079127 {'bootstrap': True, 'max_depth': 10, 'max_features': 2, 'min_samples_leaf': 5, 'min_samples_split': 10, 'n_estimators': 15}\n",
      "1.2591743641670294 {'bootstrap': True, 'max_depth': 10, 'max_features': 2, 'min_samples_leaf': 7, 'min_samples_split': 2, 'n_estimators': 5}\n",
      "1.2490131054939362 {'bootstrap': True, 'max_depth': 10, 'max_features': 2, 'min_samples_leaf': 7, 'min_samples_split': 2, 'n_estimators': 10}\n",
      "1.246100072637472 {'bootstrap': True, 'max_depth': 10, 'max_features': 2, 'min_samples_leaf': 7, 'min_samples_split': 2, 'n_estimators': 15}\n",
      "1.2601182428852626 {'bootstrap': True, 'max_depth': 10, 'max_features': 2, 'min_samples_leaf': 7, 'min_samples_split': 5, 'n_estimators': 5}\n",
      "1.2453910069028682 {'bootstrap': True, 'max_depth': 10, 'max_features': 2, 'min_samples_leaf': 7, 'min_samples_split': 5, 'n_estimators': 10}\n",
      "1.2482992024337025 {'bootstrap': True, 'max_depth': 10, 'max_features': 2, 'min_samples_leaf': 7, 'min_samples_split': 5, 'n_estimators': 15}\n",
      "1.2643679432425023 {'bootstrap': True, 'max_depth': 10, 'max_features': 2, 'min_samples_leaf': 7, 'min_samples_split': 10, 'n_estimators': 5}\n",
      "1.249688452183338 {'bootstrap': True, 'max_depth': 10, 'max_features': 2, 'min_samples_leaf': 7, 'min_samples_split': 10, 'n_estimators': 10}\n",
      "1.2471784259693084 {'bootstrap': True, 'max_depth': 10, 'max_features': 2, 'min_samples_leaf': 7, 'min_samples_split': 10, 'n_estimators': 15}\n",
      "1.2619277428709121 {'bootstrap': True, 'max_depth': 10, 'max_features': 2, 'min_samples_leaf': 10, 'min_samples_split': 2, 'n_estimators': 5}\n",
      "1.2452860058012398 {'bootstrap': True, 'max_depth': 10, 'max_features': 2, 'min_samples_leaf': 10, 'min_samples_split': 2, 'n_estimators': 10}\n",
      "1.243513015109557 {'bootstrap': True, 'max_depth': 10, 'max_features': 2, 'min_samples_leaf': 10, 'min_samples_split': 2, 'n_estimators': 15}\n",
      "1.2582685292959157 {'bootstrap': True, 'max_depth': 10, 'max_features': 2, 'min_samples_leaf': 10, 'min_samples_split': 5, 'n_estimators': 5}\n",
      "1.251854174244217 {'bootstrap': True, 'max_depth': 10, 'max_features': 2, 'min_samples_leaf': 10, 'min_samples_split': 5, 'n_estimators': 10}\n",
      "1.2450045584069527 {'bootstrap': True, 'max_depth': 10, 'max_features': 2, 'min_samples_leaf': 10, 'min_samples_split': 5, 'n_estimators': 15}\n",
      "1.2602103081514873 {'bootstrap': True, 'max_depth': 10, 'max_features': 2, 'min_samples_leaf': 10, 'min_samples_split': 10, 'n_estimators': 5}\n",
      "1.254356534865342 {'bootstrap': True, 'max_depth': 10, 'max_features': 2, 'min_samples_leaf': 10, 'min_samples_split': 10, 'n_estimators': 10}\n",
      "1.2469171304252267 {'bootstrap': True, 'max_depth': 10, 'max_features': 2, 'min_samples_leaf': 10, 'min_samples_split': 10, 'n_estimators': 15}\n",
      "1.2572769727049797 {'bootstrap': True, 'max_depth': 10, 'max_features': 3, 'min_samples_leaf': 5, 'min_samples_split': 2, 'n_estimators': 5}\n",
      "1.2568686156604554 {'bootstrap': True, 'max_depth': 10, 'max_features': 3, 'min_samples_leaf': 5, 'min_samples_split': 2, 'n_estimators': 10}\n",
      "1.2402540852330906 {'bootstrap': True, 'max_depth': 10, 'max_features': 3, 'min_samples_leaf': 5, 'min_samples_split': 2, 'n_estimators': 15}\n",
      "1.2673614435289695 {'bootstrap': True, 'max_depth': 10, 'max_features': 3, 'min_samples_leaf': 5, 'min_samples_split': 5, 'n_estimators': 5}\n",
      "1.2513125579232351 {'bootstrap': True, 'max_depth': 10, 'max_features': 3, 'min_samples_leaf': 5, 'min_samples_split': 5, 'n_estimators': 10}\n",
      "1.2444732824496523 {'bootstrap': True, 'max_depth': 10, 'max_features': 3, 'min_samples_leaf': 5, 'min_samples_split': 5, 'n_estimators': 15}\n",
      "1.261495289804869 {'bootstrap': True, 'max_depth': 10, 'max_features': 3, 'min_samples_leaf': 5, 'min_samples_split': 10, 'n_estimators': 5}\n",
      "1.2459922750192751 {'bootstrap': True, 'max_depth': 10, 'max_features': 3, 'min_samples_leaf': 5, 'min_samples_split': 10, 'n_estimators': 10}\n",
      "1.247407475831357 {'bootstrap': True, 'max_depth': 10, 'max_features': 3, 'min_samples_leaf': 5, 'min_samples_split': 10, 'n_estimators': 15}\n",
      "1.2636999903483643 {'bootstrap': True, 'max_depth': 10, 'max_features': 3, 'min_samples_leaf': 7, 'min_samples_split': 2, 'n_estimators': 5}\n",
      "1.2465658950302583 {'bootstrap': True, 'max_depth': 10, 'max_features': 3, 'min_samples_leaf': 7, 'min_samples_split': 2, 'n_estimators': 10}\n",
      "1.2448939095766562 {'bootstrap': True, 'max_depth': 10, 'max_features': 3, 'min_samples_leaf': 7, 'min_samples_split': 2, 'n_estimators': 15}\n",
      "1.2574397428373856 {'bootstrap': True, 'max_depth': 10, 'max_features': 3, 'min_samples_leaf': 7, 'min_samples_split': 5, 'n_estimators': 5}\n",
      "1.2448468762414424 {'bootstrap': True, 'max_depth': 10, 'max_features': 3, 'min_samples_leaf': 7, 'min_samples_split': 5, 'n_estimators': 10}\n",
      "1.2408893930802034 {'bootstrap': True, 'max_depth': 10, 'max_features': 3, 'min_samples_leaf': 7, 'min_samples_split': 5, 'n_estimators': 15}\n",
      "1.2704231735517444 {'bootstrap': True, 'max_depth': 10, 'max_features': 3, 'min_samples_leaf': 7, 'min_samples_split': 10, 'n_estimators': 5}\n",
      "1.2460160789538455 {'bootstrap': True, 'max_depth': 10, 'max_features': 3, 'min_samples_leaf': 7, 'min_samples_split': 10, 'n_estimators': 10}\n",
      "1.2411526290905504 {'bootstrap': True, 'max_depth': 10, 'max_features': 3, 'min_samples_leaf': 7, 'min_samples_split': 10, 'n_estimators': 15}\n",
      "1.259600822114189 {'bootstrap': True, 'max_depth': 10, 'max_features': 3, 'min_samples_leaf': 10, 'min_samples_split': 2, 'n_estimators': 5}\n",
      "1.2474699737527128 {'bootstrap': True, 'max_depth': 10, 'max_features': 3, 'min_samples_leaf': 10, 'min_samples_split': 2, 'n_estimators': 10}\n",
      "1.2415973428791678 {'bootstrap': True, 'max_depth': 10, 'max_features': 3, 'min_samples_leaf': 10, 'min_samples_split': 2, 'n_estimators': 15}\n",
      "1.2495347799171383 {'bootstrap': True, 'max_depth': 10, 'max_features': 3, 'min_samples_leaf': 10, 'min_samples_split': 5, 'n_estimators': 5}\n",
      "1.2481901581897579 {'bootstrap': True, 'max_depth': 10, 'max_features': 3, 'min_samples_leaf': 10, 'min_samples_split': 5, 'n_estimators': 10}\n",
      "1.2423082437961306 {'bootstrap': True, 'max_depth': 10, 'max_features': 3, 'min_samples_leaf': 10, 'min_samples_split': 5, 'n_estimators': 15}\n",
      "1.2584695223502722 {'bootstrap': True, 'max_depth': 10, 'max_features': 3, 'min_samples_leaf': 10, 'min_samples_split': 10, 'n_estimators': 5}\n",
      "1.2475342856039866 {'bootstrap': True, 'max_depth': 10, 'max_features': 3, 'min_samples_leaf': 10, 'min_samples_split': 10, 'n_estimators': 10}\n",
      "1.2454004057207435 {'bootstrap': True, 'max_depth': 10, 'max_features': 3, 'min_samples_leaf': 10, 'min_samples_split': 10, 'n_estimators': 15}\n",
      "1.2675863906727924 {'bootstrap': True, 'max_depth': 10, 'max_features': 4, 'min_samples_leaf': 5, 'min_samples_split': 2, 'n_estimators': 5}\n",
      "1.2440246860350426 {'bootstrap': True, 'max_depth': 10, 'max_features': 4, 'min_samples_leaf': 5, 'min_samples_split': 2, 'n_estimators': 10}\n",
      "1.2393640456865136 {'bootstrap': True, 'max_depth': 10, 'max_features': 4, 'min_samples_leaf': 5, 'min_samples_split': 2, 'n_estimators': 15}\n",
      "1.2690045393503748 {'bootstrap': True, 'max_depth': 10, 'max_features': 4, 'min_samples_leaf': 5, 'min_samples_split': 5, 'n_estimators': 5}\n",
      "1.2479221413948445 {'bootstrap': True, 'max_depth': 10, 'max_features': 4, 'min_samples_leaf': 5, 'min_samples_split': 5, 'n_estimators': 10}\n",
      "1.2470908265572795 {'bootstrap': True, 'max_depth': 10, 'max_features': 4, 'min_samples_leaf': 5, 'min_samples_split': 5, 'n_estimators': 15}\n",
      "1.2586110517542124 {'bootstrap': True, 'max_depth': 10, 'max_features': 4, 'min_samples_leaf': 5, 'min_samples_split': 10, 'n_estimators': 5}\n",
      "1.2529971568542495 {'bootstrap': True, 'max_depth': 10, 'max_features': 4, 'min_samples_leaf': 5, 'min_samples_split': 10, 'n_estimators': 10}\n",
      "1.240743550398925 {'bootstrap': True, 'max_depth': 10, 'max_features': 4, 'min_samples_leaf': 5, 'min_samples_split': 10, 'n_estimators': 15}\n",
      "1.2506312983877022 {'bootstrap': True, 'max_depth': 10, 'max_features': 4, 'min_samples_leaf': 7, 'min_samples_split': 2, 'n_estimators': 5}\n",
      "1.24653960607444 {'bootstrap': True, 'max_depth': 10, 'max_features': 4, 'min_samples_leaf': 7, 'min_samples_split': 2, 'n_estimators': 10}\n",
      "1.2419259149471202 {'bootstrap': True, 'max_depth': 10, 'max_features': 4, 'min_samples_leaf': 7, 'min_samples_split': 2, 'n_estimators': 15}\n",
      "1.2534105835170193 {'bootstrap': True, 'max_depth': 10, 'max_features': 4, 'min_samples_leaf': 7, 'min_samples_split': 5, 'n_estimators': 5}\n",
      "1.2437750957226432 {'bootstrap': True, 'max_depth': 10, 'max_features': 4, 'min_samples_leaf': 7, 'min_samples_split': 5, 'n_estimators': 10}\n",
      "1.2454336732844633 {'bootstrap': True, 'max_depth': 10, 'max_features': 4, 'min_samples_leaf': 7, 'min_samples_split': 5, 'n_estimators': 15}\n",
      "1.2601028776651917 {'bootstrap': True, 'max_depth': 10, 'max_features': 4, 'min_samples_leaf': 7, 'min_samples_split': 10, 'n_estimators': 5}\n",
      "1.2459595317328174 {'bootstrap': True, 'max_depth': 10, 'max_features': 4, 'min_samples_leaf': 7, 'min_samples_split': 10, 'n_estimators': 10}\n",
      "1.2428387512054482 {'bootstrap': True, 'max_depth': 10, 'max_features': 4, 'min_samples_leaf': 7, 'min_samples_split': 10, 'n_estimators': 15}\n",
      "1.258443565296751 {'bootstrap': True, 'max_depth': 10, 'max_features': 4, 'min_samples_leaf': 10, 'min_samples_split': 2, 'n_estimators': 5}\n",
      "1.245988326987393 {'bootstrap': True, 'max_depth': 10, 'max_features': 4, 'min_samples_leaf': 10, 'min_samples_split': 2, 'n_estimators': 10}\n",
      "1.2458598308818563 {'bootstrap': True, 'max_depth': 10, 'max_features': 4, 'min_samples_leaf': 10, 'min_samples_split': 2, 'n_estimators': 15}\n",
      "1.2618198365791826 {'bootstrap': True, 'max_depth': 10, 'max_features': 4, 'min_samples_leaf': 10, 'min_samples_split': 5, 'n_estimators': 5}\n",
      "1.2422120344645762 {'bootstrap': True, 'max_depth': 10, 'max_features': 4, 'min_samples_leaf': 10, 'min_samples_split': 5, 'n_estimators': 10}\n",
      "1.237163110471741 {'bootstrap': True, 'max_depth': 10, 'max_features': 4, 'min_samples_leaf': 10, 'min_samples_split': 5, 'n_estimators': 15}\n",
      "1.245643162532321 {'bootstrap': True, 'max_depth': 10, 'max_features': 4, 'min_samples_leaf': 10, 'min_samples_split': 10, 'n_estimators': 5}\n",
      "1.248983602279398 {'bootstrap': True, 'max_depth': 10, 'max_features': 4, 'min_samples_leaf': 10, 'min_samples_split': 10, 'n_estimators': 10}\n",
      "1.2422362657551909 {'bootstrap': True, 'max_depth': 10, 'max_features': 4, 'min_samples_leaf': 10, 'min_samples_split': 10, 'n_estimators': 15}\n",
      "1.26940611273523 {'bootstrap': True, 'max_depth': 15, 'max_features': 2, 'min_samples_leaf': 5, 'min_samples_split': 2, 'n_estimators': 5}\n",
      "1.2512734624487378 {'bootstrap': True, 'max_depth': 15, 'max_features': 2, 'min_samples_leaf': 5, 'min_samples_split': 2, 'n_estimators': 10}\n",
      "1.242332577341033 {'bootstrap': True, 'max_depth': 15, 'max_features': 2, 'min_samples_leaf': 5, 'min_samples_split': 2, 'n_estimators': 15}\n",
      "1.262783261840274 {'bootstrap': True, 'max_depth': 15, 'max_features': 2, 'min_samples_leaf': 5, 'min_samples_split': 5, 'n_estimators': 5}\n",
      "1.2502298695105623 {'bootstrap': True, 'max_depth': 15, 'max_features': 2, 'min_samples_leaf': 5, 'min_samples_split': 5, 'n_estimators': 10}\n",
      "1.2391348582950112 {'bootstrap': True, 'max_depth': 15, 'max_features': 2, 'min_samples_leaf': 5, 'min_samples_split': 5, 'n_estimators': 15}\n",
      "1.281085895963081 {'bootstrap': True, 'max_depth': 15, 'max_features': 2, 'min_samples_leaf': 5, 'min_samples_split': 10, 'n_estimators': 5}\n",
      "1.2437185640464439 {'bootstrap': True, 'max_depth': 15, 'max_features': 2, 'min_samples_leaf': 5, 'min_samples_split': 10, 'n_estimators': 10}\n",
      "1.2457154176853262 {'bootstrap': True, 'max_depth': 15, 'max_features': 2, 'min_samples_leaf': 5, 'min_samples_split': 10, 'n_estimators': 15}\n",
      "1.261502908168866 {'bootstrap': True, 'max_depth': 15, 'max_features': 2, 'min_samples_leaf': 7, 'min_samples_split': 2, 'n_estimators': 5}\n",
      "1.2448485532046598 {'bootstrap': True, 'max_depth': 15, 'max_features': 2, 'min_samples_leaf': 7, 'min_samples_split': 2, 'n_estimators': 10}\n",
      "1.245892154222223 {'bootstrap': True, 'max_depth': 15, 'max_features': 2, 'min_samples_leaf': 7, 'min_samples_split': 2, 'n_estimators': 15}\n",
      "1.2566098590832646 {'bootstrap': True, 'max_depth': 15, 'max_features': 2, 'min_samples_leaf': 7, 'min_samples_split': 5, 'n_estimators': 5}\n",
      "1.2568035605219292 {'bootstrap': True, 'max_depth': 15, 'max_features': 2, 'min_samples_leaf': 7, 'min_samples_split': 5, 'n_estimators': 10}\n",
      "1.2450469962829078 {'bootstrap': True, 'max_depth': 15, 'max_features': 2, 'min_samples_leaf': 7, 'min_samples_split': 5, 'n_estimators': 15}\n",
      "1.2635942969130278 {'bootstrap': True, 'max_depth': 15, 'max_features': 2, 'min_samples_leaf': 7, 'min_samples_split': 10, 'n_estimators': 5}\n",
      "1.2445562890028792 {'bootstrap': True, 'max_depth': 15, 'max_features': 2, 'min_samples_leaf': 7, 'min_samples_split': 10, 'n_estimators': 10}\n",
      "1.2464319352340576 {'bootstrap': True, 'max_depth': 15, 'max_features': 2, 'min_samples_leaf': 7, 'min_samples_split': 10, 'n_estimators': 15}\n",
      "1.2672148691413956 {'bootstrap': True, 'max_depth': 15, 'max_features': 2, 'min_samples_leaf': 10, 'min_samples_split': 2, 'n_estimators': 5}\n",
      "1.2474604406355425 {'bootstrap': True, 'max_depth': 15, 'max_features': 2, 'min_samples_leaf': 10, 'min_samples_split': 2, 'n_estimators': 10}\n",
      "1.2460104362002247 {'bootstrap': True, 'max_depth': 15, 'max_features': 2, 'min_samples_leaf': 10, 'min_samples_split': 2, 'n_estimators': 15}\n",
      "1.263686229765622 {'bootstrap': True, 'max_depth': 15, 'max_features': 2, 'min_samples_leaf': 10, 'min_samples_split': 5, 'n_estimators': 5}\n",
      "1.2418916196661551 {'bootstrap': True, 'max_depth': 15, 'max_features': 2, 'min_samples_leaf': 10, 'min_samples_split': 5, 'n_estimators': 10}\n",
      "1.243573519512182 {'bootstrap': True, 'max_depth': 15, 'max_features': 2, 'min_samples_leaf': 10, 'min_samples_split': 5, 'n_estimators': 15}\n",
      "1.2582863892718505 {'bootstrap': True, 'max_depth': 15, 'max_features': 2, 'min_samples_leaf': 10, 'min_samples_split': 10, 'n_estimators': 5}\n",
      "1.2504970073421984 {'bootstrap': True, 'max_depth': 15, 'max_features': 2, 'min_samples_leaf': 10, 'min_samples_split': 10, 'n_estimators': 10}\n",
      "1.2393216567968746 {'bootstrap': True, 'max_depth': 15, 'max_features': 2, 'min_samples_leaf': 10, 'min_samples_split': 10, 'n_estimators': 15}\n",
      "1.2614552174044393 {'bootstrap': True, 'max_depth': 15, 'max_features': 3, 'min_samples_leaf': 5, 'min_samples_split': 2, 'n_estimators': 5}\n",
      "1.247400810757878 {'bootstrap': True, 'max_depth': 15, 'max_features': 3, 'min_samples_leaf': 5, 'min_samples_split': 2, 'n_estimators': 10}\n",
      "1.2373809775172822 {'bootstrap': True, 'max_depth': 15, 'max_features': 3, 'min_samples_leaf': 5, 'min_samples_split': 2, 'n_estimators': 15}\n",
      "1.2738400798465217 {'bootstrap': True, 'max_depth': 15, 'max_features': 3, 'min_samples_leaf': 5, 'min_samples_split': 5, 'n_estimators': 5}\n",
      "1.2418070181065988 {'bootstrap': True, 'max_depth': 15, 'max_features': 3, 'min_samples_leaf': 5, 'min_samples_split': 5, 'n_estimators': 10}\n",
      "1.2415001918977597 {'bootstrap': True, 'max_depth': 15, 'max_features': 3, 'min_samples_leaf': 5, 'min_samples_split': 5, 'n_estimators': 15}\n",
      "1.271612656890273 {'bootstrap': True, 'max_depth': 15, 'max_features': 3, 'min_samples_leaf': 5, 'min_samples_split': 10, 'n_estimators': 5}\n",
      "1.2447871584426466 {'bootstrap': True, 'max_depth': 15, 'max_features': 3, 'min_samples_leaf': 5, 'min_samples_split': 10, 'n_estimators': 10}\n",
      "1.2374561211340576 {'bootstrap': True, 'max_depth': 15, 'max_features': 3, 'min_samples_leaf': 5, 'min_samples_split': 10, 'n_estimators': 15}\n",
      "1.2614144329518135 {'bootstrap': True, 'max_depth': 15, 'max_features': 3, 'min_samples_leaf': 7, 'min_samples_split': 2, 'n_estimators': 5}\n",
      "1.2464030409791897 {'bootstrap': True, 'max_depth': 15, 'max_features': 3, 'min_samples_leaf': 7, 'min_samples_split': 2, 'n_estimators': 10}\n",
      "1.2478963828081564 {'bootstrap': True, 'max_depth': 15, 'max_features': 3, 'min_samples_leaf': 7, 'min_samples_split': 2, 'n_estimators': 15}\n",
      "1.2622407696176157 {'bootstrap': True, 'max_depth': 15, 'max_features': 3, 'min_samples_leaf': 7, 'min_samples_split': 5, 'n_estimators': 5}\n",
      "1.2475774634828287 {'bootstrap': True, 'max_depth': 15, 'max_features': 3, 'min_samples_leaf': 7, 'min_samples_split': 5, 'n_estimators': 10}\n",
      "1.2358959145300006 {'bootstrap': True, 'max_depth': 15, 'max_features': 3, 'min_samples_leaf': 7, 'min_samples_split': 5, 'n_estimators': 15}\n",
      "1.2558778768091123 {'bootstrap': True, 'max_depth': 15, 'max_features': 3, 'min_samples_leaf': 7, 'min_samples_split': 10, 'n_estimators': 5}\n",
      "1.2515709990706718 {'bootstrap': True, 'max_depth': 15, 'max_features': 3, 'min_samples_leaf': 7, 'min_samples_split': 10, 'n_estimators': 10}\n",
      "1.2402598613867857 {'bootstrap': True, 'max_depth': 15, 'max_features': 3, 'min_samples_leaf': 7, 'min_samples_split': 10, 'n_estimators': 15}\n",
      "1.260356511767517 {'bootstrap': True, 'max_depth': 15, 'max_features': 3, 'min_samples_leaf': 10, 'min_samples_split': 2, 'n_estimators': 5}\n",
      "1.2416087352356835 {'bootstrap': True, 'max_depth': 15, 'max_features': 3, 'min_samples_leaf': 10, 'min_samples_split': 2, 'n_estimators': 10}\n",
      "1.238164590389393 {'bootstrap': True, 'max_depth': 15, 'max_features': 3, 'min_samples_leaf': 10, 'min_samples_split': 2, 'n_estimators': 15}\n",
      "1.2570585597505715 {'bootstrap': True, 'max_depth': 15, 'max_features': 3, 'min_samples_leaf': 10, 'min_samples_split': 5, 'n_estimators': 5}\n",
      "1.2524461851228996 {'bootstrap': True, 'max_depth': 15, 'max_features': 3, 'min_samples_leaf': 10, 'min_samples_split': 5, 'n_estimators': 10}\n",
      "1.2381597914411884 {'bootstrap': True, 'max_depth': 15, 'max_features': 3, 'min_samples_leaf': 10, 'min_samples_split': 5, 'n_estimators': 15}\n",
      "1.2499254102576032 {'bootstrap': True, 'max_depth': 15, 'max_features': 3, 'min_samples_leaf': 10, 'min_samples_split': 10, 'n_estimators': 5}\n",
      "1.2451694439957186 {'bootstrap': True, 'max_depth': 15, 'max_features': 3, 'min_samples_leaf': 10, 'min_samples_split': 10, 'n_estimators': 10}\n",
      "1.241012960330768 {'bootstrap': True, 'max_depth': 15, 'max_features': 3, 'min_samples_leaf': 10, 'min_samples_split': 10, 'n_estimators': 15}\n",
      "1.2745823395023013 {'bootstrap': True, 'max_depth': 15, 'max_features': 4, 'min_samples_leaf': 5, 'min_samples_split': 2, 'n_estimators': 5}\n",
      "1.2472758385015932 {'bootstrap': True, 'max_depth': 15, 'max_features': 4, 'min_samples_leaf': 5, 'min_samples_split': 2, 'n_estimators': 10}\n",
      "1.2435721659682826 {'bootstrap': True, 'max_depth': 15, 'max_features': 4, 'min_samples_leaf': 5, 'min_samples_split': 2, 'n_estimators': 15}\n",
      "1.2726983347509477 {'bootstrap': True, 'max_depth': 15, 'max_features': 4, 'min_samples_leaf': 5, 'min_samples_split': 5, 'n_estimators': 5}\n",
      "1.2409500099530046 {'bootstrap': True, 'max_depth': 15, 'max_features': 4, 'min_samples_leaf': 5, 'min_samples_split': 5, 'n_estimators': 10}\n",
      "1.2428932082318638 {'bootstrap': True, 'max_depth': 15, 'max_features': 4, 'min_samples_leaf': 5, 'min_samples_split': 5, 'n_estimators': 15}\n",
      "1.2726378499263584 {'bootstrap': True, 'max_depth': 15, 'max_features': 4, 'min_samples_leaf': 5, 'min_samples_split': 10, 'n_estimators': 5}\n",
      "1.245011227877684 {'bootstrap': True, 'max_depth': 15, 'max_features': 4, 'min_samples_leaf': 5, 'min_samples_split': 10, 'n_estimators': 10}\n",
      "1.2390086462701206 {'bootstrap': True, 'max_depth': 15, 'max_features': 4, 'min_samples_leaf': 5, 'min_samples_split': 10, 'n_estimators': 15}\n",
      "1.270800618109434 {'bootstrap': True, 'max_depth': 15, 'max_features': 4, 'min_samples_leaf': 7, 'min_samples_split': 2, 'n_estimators': 5}\n",
      "1.246790094817995 {'bootstrap': True, 'max_depth': 15, 'max_features': 4, 'min_samples_leaf': 7, 'min_samples_split': 2, 'n_estimators': 10}\n",
      "1.2475599447425347 {'bootstrap': True, 'max_depth': 15, 'max_features': 4, 'min_samples_leaf': 7, 'min_samples_split': 2, 'n_estimators': 15}\n",
      "1.2618361372204907 {'bootstrap': True, 'max_depth': 15, 'max_features': 4, 'min_samples_leaf': 7, 'min_samples_split': 5, 'n_estimators': 5}\n",
      "1.2432338856148637 {'bootstrap': True, 'max_depth': 15, 'max_features': 4, 'min_samples_leaf': 7, 'min_samples_split': 5, 'n_estimators': 10}\n",
      "1.2324415607412784 {'bootstrap': True, 'max_depth': 15, 'max_features': 4, 'min_samples_leaf': 7, 'min_samples_split': 5, 'n_estimators': 15}\n",
      "1.2638731473532412 {'bootstrap': True, 'max_depth': 15, 'max_features': 4, 'min_samples_leaf': 7, 'min_samples_split': 10, 'n_estimators': 5}\n",
      "1.24370772104701 {'bootstrap': True, 'max_depth': 15, 'max_features': 4, 'min_samples_leaf': 7, 'min_samples_split': 10, 'n_estimators': 10}\n",
      "1.2393864173911442 {'bootstrap': True, 'max_depth': 15, 'max_features': 4, 'min_samples_leaf': 7, 'min_samples_split': 10, 'n_estimators': 15}\n",
      "1.250850120850832 {'bootstrap': True, 'max_depth': 15, 'max_features': 4, 'min_samples_leaf': 10, 'min_samples_split': 2, 'n_estimators': 5}\n",
      "1.2421462336827938 {'bootstrap': True, 'max_depth': 15, 'max_features': 4, 'min_samples_leaf': 10, 'min_samples_split': 2, 'n_estimators': 10}\n",
      "1.2358867399759583 {'bootstrap': True, 'max_depth': 15, 'max_features': 4, 'min_samples_leaf': 10, 'min_samples_split': 2, 'n_estimators': 15}\n",
      "1.2674040654097902 {'bootstrap': True, 'max_depth': 15, 'max_features': 4, 'min_samples_leaf': 10, 'min_samples_split': 5, 'n_estimators': 5}\n",
      "1.2438047332792 {'bootstrap': True, 'max_depth': 15, 'max_features': 4, 'min_samples_leaf': 10, 'min_samples_split': 5, 'n_estimators': 10}\n",
      "1.2386307730149144 {'bootstrap': True, 'max_depth': 15, 'max_features': 4, 'min_samples_leaf': 10, 'min_samples_split': 5, 'n_estimators': 15}\n",
      "1.2617355612765377 {'bootstrap': True, 'max_depth': 15, 'max_features': 4, 'min_samples_leaf': 10, 'min_samples_split': 10, 'n_estimators': 5}\n",
      "1.2474648397859756 {'bootstrap': True, 'max_depth': 15, 'max_features': 4, 'min_samples_leaf': 10, 'min_samples_split': 10, 'n_estimators': 10}\n",
      "1.238035610493751 {'bootstrap': True, 'max_depth': 15, 'max_features': 4, 'min_samples_leaf': 10, 'min_samples_split': 10, 'n_estimators': 15}\n",
      "1.263501536128467 {'bootstrap': False, 'max_depth': 5, 'max_features': 2, 'min_samples_leaf': 5, 'min_samples_split': 2, 'n_estimators': 5}\n",
      "1.2565857337107256 {'bootstrap': False, 'max_depth': 5, 'max_features': 2, 'min_samples_leaf': 5, 'min_samples_split': 2, 'n_estimators': 10}\n",
      "1.2576163636938176 {'bootstrap': False, 'max_depth': 5, 'max_features': 2, 'min_samples_leaf': 5, 'min_samples_split': 2, 'n_estimators': 15}\n",
      "1.256611999643645 {'bootstrap': False, 'max_depth': 5, 'max_features': 2, 'min_samples_leaf': 5, 'min_samples_split': 5, 'n_estimators': 5}\n",
      "1.256067666493236 {'bootstrap': False, 'max_depth': 5, 'max_features': 2, 'min_samples_leaf': 5, 'min_samples_split': 5, 'n_estimators': 10}\n",
      "1.253517425463841 {'bootstrap': False, 'max_depth': 5, 'max_features': 2, 'min_samples_leaf': 5, 'min_samples_split': 5, 'n_estimators': 15}\n",
      "1.2610526451984472 {'bootstrap': False, 'max_depth': 5, 'max_features': 2, 'min_samples_leaf': 5, 'min_samples_split': 10, 'n_estimators': 5}\n",
      "1.2566696529110624 {'bootstrap': False, 'max_depth': 5, 'max_features': 2, 'min_samples_leaf': 5, 'min_samples_split': 10, 'n_estimators': 10}\n",
      "1.2551472505906172 {'bootstrap': False, 'max_depth': 5, 'max_features': 2, 'min_samples_leaf': 5, 'min_samples_split': 10, 'n_estimators': 15}\n",
      "1.260574315177781 {'bootstrap': False, 'max_depth': 5, 'max_features': 2, 'min_samples_leaf': 7, 'min_samples_split': 2, 'n_estimators': 5}\n",
      "1.2564183430801708 {'bootstrap': False, 'max_depth': 5, 'max_features': 2, 'min_samples_leaf': 7, 'min_samples_split': 2, 'n_estimators': 10}\n",
      "1.255422488708838 {'bootstrap': False, 'max_depth': 5, 'max_features': 2, 'min_samples_leaf': 7, 'min_samples_split': 2, 'n_estimators': 15}\n",
      "1.261255561186541 {'bootstrap': False, 'max_depth': 5, 'max_features': 2, 'min_samples_leaf': 7, 'min_samples_split': 5, 'n_estimators': 5}\n",
      "1.2583788004332173 {'bootstrap': False, 'max_depth': 5, 'max_features': 2, 'min_samples_leaf': 7, 'min_samples_split': 5, 'n_estimators': 10}\n",
      "1.255317482401462 {'bootstrap': False, 'max_depth': 5, 'max_features': 2, 'min_samples_leaf': 7, 'min_samples_split': 5, 'n_estimators': 15}\n",
      "1.2602673388704533 {'bootstrap': False, 'max_depth': 5, 'max_features': 2, 'min_samples_leaf': 7, 'min_samples_split': 10, 'n_estimators': 5}\n",
      "1.2568889111850505 {'bootstrap': False, 'max_depth': 5, 'max_features': 2, 'min_samples_leaf': 7, 'min_samples_split': 10, 'n_estimators': 10}\n",
      "1.253644963490107 {'bootstrap': False, 'max_depth': 5, 'max_features': 2, 'min_samples_leaf': 7, 'min_samples_split': 10, 'n_estimators': 15}\n",
      "1.2582689938491975 {'bootstrap': False, 'max_depth': 5, 'max_features': 2, 'min_samples_leaf': 10, 'min_samples_split': 2, 'n_estimators': 5}\n",
      "1.2548955288606416 {'bootstrap': False, 'max_depth': 5, 'max_features': 2, 'min_samples_leaf': 10, 'min_samples_split': 2, 'n_estimators': 10}\n",
      "1.2550007228052726 {'bootstrap': False, 'max_depth': 5, 'max_features': 2, 'min_samples_leaf': 10, 'min_samples_split': 2, 'n_estimators': 15}\n",
      "1.2616438799053344 {'bootstrap': False, 'max_depth': 5, 'max_features': 2, 'min_samples_leaf': 10, 'min_samples_split': 5, 'n_estimators': 5}\n",
      "1.2575407680343273 {'bootstrap': False, 'max_depth': 5, 'max_features': 2, 'min_samples_leaf': 10, 'min_samples_split': 5, 'n_estimators': 10}\n",
      "1.2541325389315165 {'bootstrap': False, 'max_depth': 5, 'max_features': 2, 'min_samples_leaf': 10, 'min_samples_split': 5, 'n_estimators': 15}\n",
      "1.258350166430024 {'bootstrap': False, 'max_depth': 5, 'max_features': 2, 'min_samples_leaf': 10, 'min_samples_split': 10, 'n_estimators': 5}\n",
      "1.2558511934876457 {'bootstrap': False, 'max_depth': 5, 'max_features': 2, 'min_samples_leaf': 10, 'min_samples_split': 10, 'n_estimators': 10}\n",
      "1.2554745836731633 {'bootstrap': False, 'max_depth': 5, 'max_features': 2, 'min_samples_leaf': 10, 'min_samples_split': 10, 'n_estimators': 15}\n",
      "1.2536922414207436 {'bootstrap': False, 'max_depth': 5, 'max_features': 3, 'min_samples_leaf': 5, 'min_samples_split': 2, 'n_estimators': 5}\n",
      "1.2495010171347363 {'bootstrap': False, 'max_depth': 5, 'max_features': 3, 'min_samples_leaf': 5, 'min_samples_split': 2, 'n_estimators': 10}\n",
      "1.2515774293142121 {'bootstrap': False, 'max_depth': 5, 'max_features': 3, 'min_samples_leaf': 5, 'min_samples_split': 2, 'n_estimators': 15}\n",
      "1.2639981145491241 {'bootstrap': False, 'max_depth': 5, 'max_features': 3, 'min_samples_leaf': 5, 'min_samples_split': 5, 'n_estimators': 5}\n",
      "1.2526445979416556 {'bootstrap': False, 'max_depth': 5, 'max_features': 3, 'min_samples_leaf': 5, 'min_samples_split': 5, 'n_estimators': 10}\n",
      "1.2534463387659303 {'bootstrap': False, 'max_depth': 5, 'max_features': 3, 'min_samples_leaf': 5, 'min_samples_split': 5, 'n_estimators': 15}\n",
      "1.2578740100249557 {'bootstrap': False, 'max_depth': 5, 'max_features': 3, 'min_samples_leaf': 5, 'min_samples_split': 10, 'n_estimators': 5}\n",
      "1.2533227422527895 {'bootstrap': False, 'max_depth': 5, 'max_features': 3, 'min_samples_leaf': 5, 'min_samples_split': 10, 'n_estimators': 10}\n",
      "1.2490969796204192 {'bootstrap': False, 'max_depth': 5, 'max_features': 3, 'min_samples_leaf': 5, 'min_samples_split': 10, 'n_estimators': 15}\n",
      "1.2581241205750904 {'bootstrap': False, 'max_depth': 5, 'max_features': 3, 'min_samples_leaf': 7, 'min_samples_split': 2, 'n_estimators': 5}\n",
      "1.2526392784520675 {'bootstrap': False, 'max_depth': 5, 'max_features': 3, 'min_samples_leaf': 7, 'min_samples_split': 2, 'n_estimators': 10}\n",
      "1.2523413964948031 {'bootstrap': False, 'max_depth': 5, 'max_features': 3, 'min_samples_leaf': 7, 'min_samples_split': 2, 'n_estimators': 15}\n",
      "1.2581196591747965 {'bootstrap': False, 'max_depth': 5, 'max_features': 3, 'min_samples_leaf': 7, 'min_samples_split': 5, 'n_estimators': 5}\n",
      "1.2553550858427516 {'bootstrap': False, 'max_depth': 5, 'max_features': 3, 'min_samples_leaf': 7, 'min_samples_split': 5, 'n_estimators': 10}\n",
      "1.2485845031313263 {'bootstrap': False, 'max_depth': 5, 'max_features': 3, 'min_samples_leaf': 7, 'min_samples_split': 5, 'n_estimators': 15}\n",
      "1.2566657473529041 {'bootstrap': False, 'max_depth': 5, 'max_features': 3, 'min_samples_leaf': 7, 'min_samples_split': 10, 'n_estimators': 5}\n",
      "1.2520224837464373 {'bootstrap': False, 'max_depth': 5, 'max_features': 3, 'min_samples_leaf': 7, 'min_samples_split': 10, 'n_estimators': 10}\n",
      "1.252179816191005 {'bootstrap': False, 'max_depth': 5, 'max_features': 3, 'min_samples_leaf': 7, 'min_samples_split': 10, 'n_estimators': 15}\n",
      "1.2576859855408848 {'bootstrap': False, 'max_depth': 5, 'max_features': 3, 'min_samples_leaf': 10, 'min_samples_split': 2, 'n_estimators': 5}\n",
      "1.2552437510192465 {'bootstrap': False, 'max_depth': 5, 'max_features': 3, 'min_samples_leaf': 10, 'min_samples_split': 2, 'n_estimators': 10}\n",
      "1.249305861652288 {'bootstrap': False, 'max_depth': 5, 'max_features': 3, 'min_samples_leaf': 10, 'min_samples_split': 2, 'n_estimators': 15}\n",
      "1.2595253130073678 {'bootstrap': False, 'max_depth': 5, 'max_features': 3, 'min_samples_leaf': 10, 'min_samples_split': 5, 'n_estimators': 5}\n",
      "1.249985612463049 {'bootstrap': False, 'max_depth': 5, 'max_features': 3, 'min_samples_leaf': 10, 'min_samples_split': 5, 'n_estimators': 10}\n",
      "1.2508619464675084 {'bootstrap': False, 'max_depth': 5, 'max_features': 3, 'min_samples_leaf': 10, 'min_samples_split': 5, 'n_estimators': 15}\n",
      "1.2571702808965444 {'bootstrap': False, 'max_depth': 5, 'max_features': 3, 'min_samples_leaf': 10, 'min_samples_split': 10, 'n_estimators': 5}\n",
      "1.2560484384487942 {'bootstrap': False, 'max_depth': 5, 'max_features': 3, 'min_samples_leaf': 10, 'min_samples_split': 10, 'n_estimators': 10}\n",
      "1.251804946253389 {'bootstrap': False, 'max_depth': 5, 'max_features': 3, 'min_samples_leaf': 10, 'min_samples_split': 10, 'n_estimators': 15}\n",
      "1.254996792075327 {'bootstrap': False, 'max_depth': 5, 'max_features': 4, 'min_samples_leaf': 5, 'min_samples_split': 2, 'n_estimators': 5}\n",
      "1.2487640650832597 {'bootstrap': False, 'max_depth': 5, 'max_features': 4, 'min_samples_leaf': 5, 'min_samples_split': 2, 'n_estimators': 10}\n",
      "1.2513723213592463 {'bootstrap': False, 'max_depth': 5, 'max_features': 4, 'min_samples_leaf': 5, 'min_samples_split': 2, 'n_estimators': 15}\n",
      "1.2586083753758113 {'bootstrap': False, 'max_depth': 5, 'max_features': 4, 'min_samples_leaf': 5, 'min_samples_split': 5, 'n_estimators': 5}\n",
      "1.2531430854046097 {'bootstrap': False, 'max_depth': 5, 'max_features': 4, 'min_samples_leaf': 5, 'min_samples_split': 5, 'n_estimators': 10}\n",
      "1.2480698143577769 {'bootstrap': False, 'max_depth': 5, 'max_features': 4, 'min_samples_leaf': 5, 'min_samples_split': 5, 'n_estimators': 15}\n",
      "1.2508575666183033 {'bootstrap': False, 'max_depth': 5, 'max_features': 4, 'min_samples_leaf': 5, 'min_samples_split': 10, 'n_estimators': 5}\n",
      "1.2513469997452351 {'bootstrap': False, 'max_depth': 5, 'max_features': 4, 'min_samples_leaf': 5, 'min_samples_split': 10, 'n_estimators': 10}\n",
      "1.2487309850566317 {'bootstrap': False, 'max_depth': 5, 'max_features': 4, 'min_samples_leaf': 5, 'min_samples_split': 10, 'n_estimators': 15}\n",
      "1.2558687694969835 {'bootstrap': False, 'max_depth': 5, 'max_features': 4, 'min_samples_leaf': 7, 'min_samples_split': 2, 'n_estimators': 5}\n",
      "1.2518897292747895 {'bootstrap': False, 'max_depth': 5, 'max_features': 4, 'min_samples_leaf': 7, 'min_samples_split': 2, 'n_estimators': 10}\n",
      "1.2510356610596218 {'bootstrap': False, 'max_depth': 5, 'max_features': 4, 'min_samples_leaf': 7, 'min_samples_split': 2, 'n_estimators': 15}\n",
      "1.2526650232523513 {'bootstrap': False, 'max_depth': 5, 'max_features': 4, 'min_samples_leaf': 7, 'min_samples_split': 5, 'n_estimators': 5}\n",
      "1.25652318117175 {'bootstrap': False, 'max_depth': 5, 'max_features': 4, 'min_samples_leaf': 7, 'min_samples_split': 5, 'n_estimators': 10}\n",
      "1.2515571046317056 {'bootstrap': False, 'max_depth': 5, 'max_features': 4, 'min_samples_leaf': 7, 'min_samples_split': 5, 'n_estimators': 15}\n",
      "1.2636770413112288 {'bootstrap': False, 'max_depth': 5, 'max_features': 4, 'min_samples_leaf': 7, 'min_samples_split': 10, 'n_estimators': 5}\n",
      "1.2483343947068823 {'bootstrap': False, 'max_depth': 5, 'max_features': 4, 'min_samples_leaf': 7, 'min_samples_split': 10, 'n_estimators': 10}\n",
      "1.2528622264026514 {'bootstrap': False, 'max_depth': 5, 'max_features': 4, 'min_samples_leaf': 7, 'min_samples_split': 10, 'n_estimators': 15}\n",
      "1.2537381438038238 {'bootstrap': False, 'max_depth': 5, 'max_features': 4, 'min_samples_leaf': 10, 'min_samples_split': 2, 'n_estimators': 5}\n",
      "1.251639444411796 {'bootstrap': False, 'max_depth': 5, 'max_features': 4, 'min_samples_leaf': 10, 'min_samples_split': 2, 'n_estimators': 10}\n",
      "1.2472444976579289 {'bootstrap': False, 'max_depth': 5, 'max_features': 4, 'min_samples_leaf': 10, 'min_samples_split': 2, 'n_estimators': 15}\n",
      "1.2552219613153348 {'bootstrap': False, 'max_depth': 5, 'max_features': 4, 'min_samples_leaf': 10, 'min_samples_split': 5, 'n_estimators': 5}\n",
      "1.2516266141513062 {'bootstrap': False, 'max_depth': 5, 'max_features': 4, 'min_samples_leaf': 10, 'min_samples_split': 5, 'n_estimators': 10}\n",
      "1.2495359344703074 {'bootstrap': False, 'max_depth': 5, 'max_features': 4, 'min_samples_leaf': 10, 'min_samples_split': 5, 'n_estimators': 15}\n",
      "1.2565778414459574 {'bootstrap': False, 'max_depth': 5, 'max_features': 4, 'min_samples_leaf': 10, 'min_samples_split': 10, 'n_estimators': 5}\n",
      "1.250349408882998 {'bootstrap': False, 'max_depth': 5, 'max_features': 4, 'min_samples_leaf': 10, 'min_samples_split': 10, 'n_estimators': 10}\n",
      "1.2525488528972228 {'bootstrap': False, 'max_depth': 5, 'max_features': 4, 'min_samples_leaf': 10, 'min_samples_split': 10, 'n_estimators': 15}\n",
      "1.2620576147577223 {'bootstrap': False, 'max_depth': 10, 'max_features': 2, 'min_samples_leaf': 5, 'min_samples_split': 2, 'n_estimators': 5}\n",
      "1.2455134668044152 {'bootstrap': False, 'max_depth': 10, 'max_features': 2, 'min_samples_leaf': 5, 'min_samples_split': 2, 'n_estimators': 10}\n",
      "1.243831218990949 {'bootstrap': False, 'max_depth': 10, 'max_features': 2, 'min_samples_leaf': 5, 'min_samples_split': 2, 'n_estimators': 15}\n",
      "1.2463643658380645 {'bootstrap': False, 'max_depth': 10, 'max_features': 2, 'min_samples_leaf': 5, 'min_samples_split': 5, 'n_estimators': 5}\n",
      "1.2437622619908155 {'bootstrap': False, 'max_depth': 10, 'max_features': 2, 'min_samples_leaf': 5, 'min_samples_split': 5, 'n_estimators': 10}\n",
      "1.2359722167571887 {'bootstrap': False, 'max_depth': 10, 'max_features': 2, 'min_samples_leaf': 5, 'min_samples_split': 5, 'n_estimators': 15}\n",
      "1.2573217012154785 {'bootstrap': False, 'max_depth': 10, 'max_features': 2, 'min_samples_leaf': 5, 'min_samples_split': 10, 'n_estimators': 5}\n",
      "1.2390968849765103 {'bootstrap': False, 'max_depth': 10, 'max_features': 2, 'min_samples_leaf': 5, 'min_samples_split': 10, 'n_estimators': 10}\n",
      "1.2417636985998055 {'bootstrap': False, 'max_depth': 10, 'max_features': 2, 'min_samples_leaf': 5, 'min_samples_split': 10, 'n_estimators': 15}\n",
      "1.2577172273883135 {'bootstrap': False, 'max_depth': 10, 'max_features': 2, 'min_samples_leaf': 7, 'min_samples_split': 2, 'n_estimators': 5}\n",
      "1.2449849163361677 {'bootstrap': False, 'max_depth': 10, 'max_features': 2, 'min_samples_leaf': 7, 'min_samples_split': 2, 'n_estimators': 10}\n",
      "1.2383000463569045 {'bootstrap': False, 'max_depth': 10, 'max_features': 2, 'min_samples_leaf': 7, 'min_samples_split': 2, 'n_estimators': 15}\n",
      "1.2513257510588285 {'bootstrap': False, 'max_depth': 10, 'max_features': 2, 'min_samples_leaf': 7, 'min_samples_split': 5, 'n_estimators': 5}\n",
      "1.239285273379535 {'bootstrap': False, 'max_depth': 10, 'max_features': 2, 'min_samples_leaf': 7, 'min_samples_split': 5, 'n_estimators': 10}\n",
      "1.2415332130050933 {'bootstrap': False, 'max_depth': 10, 'max_features': 2, 'min_samples_leaf': 7, 'min_samples_split': 5, 'n_estimators': 15}\n",
      "1.2502965015350633 {'bootstrap': False, 'max_depth': 10, 'max_features': 2, 'min_samples_leaf': 7, 'min_samples_split': 10, 'n_estimators': 5}\n",
      "1.2415147329180591 {'bootstrap': False, 'max_depth': 10, 'max_features': 2, 'min_samples_leaf': 7, 'min_samples_split': 10, 'n_estimators': 10}\n",
      "1.244176971109271 {'bootstrap': False, 'max_depth': 10, 'max_features': 2, 'min_samples_leaf': 7, 'min_samples_split': 10, 'n_estimators': 15}\n",
      "1.254183474496094 {'bootstrap': False, 'max_depth': 10, 'max_features': 2, 'min_samples_leaf': 10, 'min_samples_split': 2, 'n_estimators': 5}\n",
      "1.2442320219585479 {'bootstrap': False, 'max_depth': 10, 'max_features': 2, 'min_samples_leaf': 10, 'min_samples_split': 2, 'n_estimators': 10}\n",
      "1.2404930473842934 {'bootstrap': False, 'max_depth': 10, 'max_features': 2, 'min_samples_leaf': 10, 'min_samples_split': 2, 'n_estimators': 15}\n",
      "1.2469930917454382 {'bootstrap': False, 'max_depth': 10, 'max_features': 2, 'min_samples_leaf': 10, 'min_samples_split': 5, 'n_estimators': 5}\n",
      "1.2421135368933638 {'bootstrap': False, 'max_depth': 10, 'max_features': 2, 'min_samples_leaf': 10, 'min_samples_split': 5, 'n_estimators': 10}\n",
      "1.2380962801848352 {'bootstrap': False, 'max_depth': 10, 'max_features': 2, 'min_samples_leaf': 10, 'min_samples_split': 5, 'n_estimators': 15}\n",
      "1.2493482465445216 {'bootstrap': False, 'max_depth': 10, 'max_features': 2, 'min_samples_leaf': 10, 'min_samples_split': 10, 'n_estimators': 5}\n",
      "1.243691215742133 {'bootstrap': False, 'max_depth': 10, 'max_features': 2, 'min_samples_leaf': 10, 'min_samples_split': 10, 'n_estimators': 10}\n",
      "1.238539926409022 {'bootstrap': False, 'max_depth': 10, 'max_features': 2, 'min_samples_leaf': 10, 'min_samples_split': 10, 'n_estimators': 15}\n",
      "1.2440313350198278 {'bootstrap': False, 'max_depth': 10, 'max_features': 3, 'min_samples_leaf': 5, 'min_samples_split': 2, 'n_estimators': 5}\n",
      "1.2425603388386186 {'bootstrap': False, 'max_depth': 10, 'max_features': 3, 'min_samples_leaf': 5, 'min_samples_split': 2, 'n_estimators': 10}\n",
      "1.2378934811815687 {'bootstrap': False, 'max_depth': 10, 'max_features': 3, 'min_samples_leaf': 5, 'min_samples_split': 2, 'n_estimators': 15}\n",
      "1.2516500585680945 {'bootstrap': False, 'max_depth': 10, 'max_features': 3, 'min_samples_leaf': 5, 'min_samples_split': 5, 'n_estimators': 5}\n",
      "1.243124492820749 {'bootstrap': False, 'max_depth': 10, 'max_features': 3, 'min_samples_leaf': 5, 'min_samples_split': 5, 'n_estimators': 10}\n",
      "1.2384963155119055 {'bootstrap': False, 'max_depth': 10, 'max_features': 3, 'min_samples_leaf': 5, 'min_samples_split': 5, 'n_estimators': 15}\n",
      "1.2549486886608987 {'bootstrap': False, 'max_depth': 10, 'max_features': 3, 'min_samples_leaf': 5, 'min_samples_split': 10, 'n_estimators': 5}\n",
      "1.2370817622535317 {'bootstrap': False, 'max_depth': 10, 'max_features': 3, 'min_samples_leaf': 5, 'min_samples_split': 10, 'n_estimators': 10}\n",
      "1.2373465276953373 {'bootstrap': False, 'max_depth': 10, 'max_features': 3, 'min_samples_leaf': 5, 'min_samples_split': 10, 'n_estimators': 15}\n",
      "1.2538335301170869 {'bootstrap': False, 'max_depth': 10, 'max_features': 3, 'min_samples_leaf': 7, 'min_samples_split': 2, 'n_estimators': 5}\n",
      "1.2354755370602213 {'bootstrap': False, 'max_depth': 10, 'max_features': 3, 'min_samples_leaf': 7, 'min_samples_split': 2, 'n_estimators': 10}\n",
      "1.2378309800598133 {'bootstrap': False, 'max_depth': 10, 'max_features': 3, 'min_samples_leaf': 7, 'min_samples_split': 2, 'n_estimators': 15}\n",
      "1.2431147847646769 {'bootstrap': False, 'max_depth': 10, 'max_features': 3, 'min_samples_leaf': 7, 'min_samples_split': 5, 'n_estimators': 5}\n",
      "1.2361445412378054 {'bootstrap': False, 'max_depth': 10, 'max_features': 3, 'min_samples_leaf': 7, 'min_samples_split': 5, 'n_estimators': 10}\n",
      "1.2295788826507774 {'bootstrap': False, 'max_depth': 10, 'max_features': 3, 'min_samples_leaf': 7, 'min_samples_split': 5, 'n_estimators': 15}\n",
      "1.2518099162347842 {'bootstrap': False, 'max_depth': 10, 'max_features': 3, 'min_samples_leaf': 7, 'min_samples_split': 10, 'n_estimators': 5}\n",
      "1.2386588759200108 {'bootstrap': False, 'max_depth': 10, 'max_features': 3, 'min_samples_leaf': 7, 'min_samples_split': 10, 'n_estimators': 10}\n",
      "1.2350252526105854 {'bootstrap': False, 'max_depth': 10, 'max_features': 3, 'min_samples_leaf': 7, 'min_samples_split': 10, 'n_estimators': 15}\n",
      "1.244959031738256 {'bootstrap': False, 'max_depth': 10, 'max_features': 3, 'min_samples_leaf': 10, 'min_samples_split': 2, 'n_estimators': 5}\n",
      "1.2398233940843852 {'bootstrap': False, 'max_depth': 10, 'max_features': 3, 'min_samples_leaf': 10, 'min_samples_split': 2, 'n_estimators': 10}\n",
      "1.2342974762585115 {'bootstrap': False, 'max_depth': 10, 'max_features': 3, 'min_samples_leaf': 10, 'min_samples_split': 2, 'n_estimators': 15}\n",
      "1.2491500204670374 {'bootstrap': False, 'max_depth': 10, 'max_features': 3, 'min_samples_leaf': 10, 'min_samples_split': 5, 'n_estimators': 5}\n",
      "1.2403566987186372 {'bootstrap': False, 'max_depth': 10, 'max_features': 3, 'min_samples_leaf': 10, 'min_samples_split': 5, 'n_estimators': 10}\n",
      "1.2401897359997012 {'bootstrap': False, 'max_depth': 10, 'max_features': 3, 'min_samples_leaf': 10, 'min_samples_split': 5, 'n_estimators': 15}\n",
      "1.2489557927607111 {'bootstrap': False, 'max_depth': 10, 'max_features': 3, 'min_samples_leaf': 10, 'min_samples_split': 10, 'n_estimators': 5}\n",
      "1.2436603476620929 {'bootstrap': False, 'max_depth': 10, 'max_features': 3, 'min_samples_leaf': 10, 'min_samples_split': 10, 'n_estimators': 10}\n",
      "1.2373743482257702 {'bootstrap': False, 'max_depth': 10, 'max_features': 3, 'min_samples_leaf': 10, 'min_samples_split': 10, 'n_estimators': 15}\n",
      "1.2488294008263232 {'bootstrap': False, 'max_depth': 10, 'max_features': 4, 'min_samples_leaf': 5, 'min_samples_split': 2, 'n_estimators': 5}\n",
      "1.2473209003408863 {'bootstrap': False, 'max_depth': 10, 'max_features': 4, 'min_samples_leaf': 5, 'min_samples_split': 2, 'n_estimators': 10}\n",
      "1.2354003763919401 {'bootstrap': False, 'max_depth': 10, 'max_features': 4, 'min_samples_leaf': 5, 'min_samples_split': 2, 'n_estimators': 15}\n",
      "1.2564766714254763 {'bootstrap': False, 'max_depth': 10, 'max_features': 4, 'min_samples_leaf': 5, 'min_samples_split': 5, 'n_estimators': 5}\n",
      "1.2380167258588035 {'bootstrap': False, 'max_depth': 10, 'max_features': 4, 'min_samples_leaf': 5, 'min_samples_split': 5, 'n_estimators': 10}\n",
      "1.238178636081581 {'bootstrap': False, 'max_depth': 10, 'max_features': 4, 'min_samples_leaf': 5, 'min_samples_split': 5, 'n_estimators': 15}\n",
      "1.2546572300456234 {'bootstrap': False, 'max_depth': 10, 'max_features': 4, 'min_samples_leaf': 5, 'min_samples_split': 10, 'n_estimators': 5}\n",
      "1.227561444647121 {'bootstrap': False, 'max_depth': 10, 'max_features': 4, 'min_samples_leaf': 5, 'min_samples_split': 10, 'n_estimators': 10}\n",
      "1.2327565749632048 {'bootstrap': False, 'max_depth': 10, 'max_features': 4, 'min_samples_leaf': 5, 'min_samples_split': 10, 'n_estimators': 15}\n",
      "1.2482244182843654 {'bootstrap': False, 'max_depth': 10, 'max_features': 4, 'min_samples_leaf': 7, 'min_samples_split': 2, 'n_estimators': 5}\n",
      "1.2380686055218664 {'bootstrap': False, 'max_depth': 10, 'max_features': 4, 'min_samples_leaf': 7, 'min_samples_split': 2, 'n_estimators': 10}\n",
      "1.2356904079307136 {'bootstrap': False, 'max_depth': 10, 'max_features': 4, 'min_samples_leaf': 7, 'min_samples_split': 2, 'n_estimators': 15}\n",
      "1.2490175669163774 {'bootstrap': False, 'max_depth': 10, 'max_features': 4, 'min_samples_leaf': 7, 'min_samples_split': 5, 'n_estimators': 5}\n",
      "1.237419270306942 {'bootstrap': False, 'max_depth': 10, 'max_features': 4, 'min_samples_leaf': 7, 'min_samples_split': 5, 'n_estimators': 10}\n",
      "1.2349477062287513 {'bootstrap': False, 'max_depth': 10, 'max_features': 4, 'min_samples_leaf': 7, 'min_samples_split': 5, 'n_estimators': 15}\n",
      "1.2500749772400035 {'bootstrap': False, 'max_depth': 10, 'max_features': 4, 'min_samples_leaf': 7, 'min_samples_split': 10, 'n_estimators': 5}\n",
      "1.2396877049078872 {'bootstrap': False, 'max_depth': 10, 'max_features': 4, 'min_samples_leaf': 7, 'min_samples_split': 10, 'n_estimators': 10}\n",
      "1.2364132502631926 {'bootstrap': False, 'max_depth': 10, 'max_features': 4, 'min_samples_leaf': 7, 'min_samples_split': 10, 'n_estimators': 15}\n",
      "1.2512084535055132 {'bootstrap': False, 'max_depth': 10, 'max_features': 4, 'min_samples_leaf': 10, 'min_samples_split': 2, 'n_estimators': 5}\n",
      "1.2364091162306532 {'bootstrap': False, 'max_depth': 10, 'max_features': 4, 'min_samples_leaf': 10, 'min_samples_split': 2, 'n_estimators': 10}\n",
      "1.2369756954107374 {'bootstrap': False, 'max_depth': 10, 'max_features': 4, 'min_samples_leaf': 10, 'min_samples_split': 2, 'n_estimators': 15}\n",
      "1.2448891483386326 {'bootstrap': False, 'max_depth': 10, 'max_features': 4, 'min_samples_leaf': 10, 'min_samples_split': 5, 'n_estimators': 5}\n",
      "1.236628247202242 {'bootstrap': False, 'max_depth': 10, 'max_features': 4, 'min_samples_leaf': 10, 'min_samples_split': 5, 'n_estimators': 10}\n",
      "1.238694091113327 {'bootstrap': False, 'max_depth': 10, 'max_features': 4, 'min_samples_leaf': 10, 'min_samples_split': 5, 'n_estimators': 15}\n",
      "1.2394397079271777 {'bootstrap': False, 'max_depth': 10, 'max_features': 4, 'min_samples_leaf': 10, 'min_samples_split': 10, 'n_estimators': 5}\n",
      "1.2386957508403338 {'bootstrap': False, 'max_depth': 10, 'max_features': 4, 'min_samples_leaf': 10, 'min_samples_split': 10, 'n_estimators': 10}\n",
      "1.234623584424585 {'bootstrap': False, 'max_depth': 10, 'max_features': 4, 'min_samples_leaf': 10, 'min_samples_split': 10, 'n_estimators': 15}\n",
      "1.2530802637439373 {'bootstrap': False, 'max_depth': 15, 'max_features': 2, 'min_samples_leaf': 5, 'min_samples_split': 2, 'n_estimators': 5}\n",
      "1.2401802088638845 {'bootstrap': False, 'max_depth': 15, 'max_features': 2, 'min_samples_leaf': 5, 'min_samples_split': 2, 'n_estimators': 10}\n",
      "1.2296866880334594 {'bootstrap': False, 'max_depth': 15, 'max_features': 2, 'min_samples_leaf': 5, 'min_samples_split': 2, 'n_estimators': 15}\n",
      "1.2597857216888402 {'bootstrap': False, 'max_depth': 15, 'max_features': 2, 'min_samples_leaf': 5, 'min_samples_split': 5, 'n_estimators': 5}\n",
      "1.238085798031254 {'bootstrap': False, 'max_depth': 15, 'max_features': 2, 'min_samples_leaf': 5, 'min_samples_split': 5, 'n_estimators': 10}\n",
      "1.2349365235019651 {'bootstrap': False, 'max_depth': 15, 'max_features': 2, 'min_samples_leaf': 5, 'min_samples_split': 5, 'n_estimators': 15}\n",
      "1.2415207697931532 {'bootstrap': False, 'max_depth': 15, 'max_features': 2, 'min_samples_leaf': 5, 'min_samples_split': 10, 'n_estimators': 5}\n",
      "1.2400214439402852 {'bootstrap': False, 'max_depth': 15, 'max_features': 2, 'min_samples_leaf': 5, 'min_samples_split': 10, 'n_estimators': 10}\n",
      "1.22782558729156 {'bootstrap': False, 'max_depth': 15, 'max_features': 2, 'min_samples_leaf': 5, 'min_samples_split': 10, 'n_estimators': 15}\n",
      "1.2524901107905997 {'bootstrap': False, 'max_depth': 15, 'max_features': 2, 'min_samples_leaf': 7, 'min_samples_split': 2, 'n_estimators': 5}\n",
      "1.237244953958563 {'bootstrap': False, 'max_depth': 15, 'max_features': 2, 'min_samples_leaf': 7, 'min_samples_split': 2, 'n_estimators': 10}\n",
      "1.233314338638479 {'bootstrap': False, 'max_depth': 15, 'max_features': 2, 'min_samples_leaf': 7, 'min_samples_split': 2, 'n_estimators': 15}\n",
      "1.251932257611403 {'bootstrap': False, 'max_depth': 15, 'max_features': 2, 'min_samples_leaf': 7, 'min_samples_split': 5, 'n_estimators': 5}\n",
      "1.23846991309961 {'bootstrap': False, 'max_depth': 15, 'max_features': 2, 'min_samples_leaf': 7, 'min_samples_split': 5, 'n_estimators': 10}\n",
      "1.2328443378207325 {'bootstrap': False, 'max_depth': 15, 'max_features': 2, 'min_samples_leaf': 7, 'min_samples_split': 5, 'n_estimators': 15}\n",
      "1.252455688420597 {'bootstrap': False, 'max_depth': 15, 'max_features': 2, 'min_samples_leaf': 7, 'min_samples_split': 10, 'n_estimators': 5}\n",
      "1.235412113659412 {'bootstrap': False, 'max_depth': 15, 'max_features': 2, 'min_samples_leaf': 7, 'min_samples_split': 10, 'n_estimators': 10}\n",
      "1.2297990375375103 {'bootstrap': False, 'max_depth': 15, 'max_features': 2, 'min_samples_leaf': 7, 'min_samples_split': 10, 'n_estimators': 15}\n",
      "1.2454123509220816 {'bootstrap': False, 'max_depth': 15, 'max_features': 2, 'min_samples_leaf': 10, 'min_samples_split': 2, 'n_estimators': 5}\n",
      "1.2354920079400944 {'bootstrap': False, 'max_depth': 15, 'max_features': 2, 'min_samples_leaf': 10, 'min_samples_split': 2, 'n_estimators': 10}\n",
      "1.2365347562736546 {'bootstrap': False, 'max_depth': 15, 'max_features': 2, 'min_samples_leaf': 10, 'min_samples_split': 2, 'n_estimators': 15}\n",
      "1.2562518081698255 {'bootstrap': False, 'max_depth': 15, 'max_features': 2, 'min_samples_leaf': 10, 'min_samples_split': 5, 'n_estimators': 5}\n",
      "1.2421946418659773 {'bootstrap': False, 'max_depth': 15, 'max_features': 2, 'min_samples_leaf': 10, 'min_samples_split': 5, 'n_estimators': 10}\n",
      "1.2343065986920496 {'bootstrap': False, 'max_depth': 15, 'max_features': 2, 'min_samples_leaf': 10, 'min_samples_split': 5, 'n_estimators': 15}\n",
      "1.2434037721682045 {'bootstrap': False, 'max_depth': 15, 'max_features': 2, 'min_samples_leaf': 10, 'min_samples_split': 10, 'n_estimators': 5}\n",
      "1.2402884441985358 {'bootstrap': False, 'max_depth': 15, 'max_features': 2, 'min_samples_leaf': 10, 'min_samples_split': 10, 'n_estimators': 10}\n",
      "1.2376716663820584 {'bootstrap': False, 'max_depth': 15, 'max_features': 2, 'min_samples_leaf': 10, 'min_samples_split': 10, 'n_estimators': 15}\n",
      "1.2510153839530607 {'bootstrap': False, 'max_depth': 15, 'max_features': 3, 'min_samples_leaf': 5, 'min_samples_split': 2, 'n_estimators': 5}\n",
      "1.2435739168269437 {'bootstrap': False, 'max_depth': 15, 'max_features': 3, 'min_samples_leaf': 5, 'min_samples_split': 2, 'n_estimators': 10}\n",
      "1.2266047334359564 {'bootstrap': False, 'max_depth': 15, 'max_features': 3, 'min_samples_leaf': 5, 'min_samples_split': 2, 'n_estimators': 15}\n",
      "1.245241081821941 {'bootstrap': False, 'max_depth': 15, 'max_features': 3, 'min_samples_leaf': 5, 'min_samples_split': 5, 'n_estimators': 5}\n",
      "1.2430202711886236 {'bootstrap': False, 'max_depth': 15, 'max_features': 3, 'min_samples_leaf': 5, 'min_samples_split': 5, 'n_estimators': 10}\n",
      "1.2274272118962033 {'bootstrap': False, 'max_depth': 15, 'max_features': 3, 'min_samples_leaf': 5, 'min_samples_split': 5, 'n_estimators': 15}\n",
      "1.2601312299575715 {'bootstrap': False, 'max_depth': 15, 'max_features': 3, 'min_samples_leaf': 5, 'min_samples_split': 10, 'n_estimators': 5}\n",
      "1.2389557642571056 {'bootstrap': False, 'max_depth': 15, 'max_features': 3, 'min_samples_leaf': 5, 'min_samples_split': 10, 'n_estimators': 10}\n",
      "1.2264129827874064 {'bootstrap': False, 'max_depth': 15, 'max_features': 3, 'min_samples_leaf': 5, 'min_samples_split': 10, 'n_estimators': 15}\n",
      "1.2585080346134998 {'bootstrap': False, 'max_depth': 15, 'max_features': 3, 'min_samples_leaf': 7, 'min_samples_split': 2, 'n_estimators': 5}\n",
      "1.2356112499433245 {'bootstrap': False, 'max_depth': 15, 'max_features': 3, 'min_samples_leaf': 7, 'min_samples_split': 2, 'n_estimators': 10}\n",
      "1.2293481767741201 {'bootstrap': False, 'max_depth': 15, 'max_features': 3, 'min_samples_leaf': 7, 'min_samples_split': 2, 'n_estimators': 15}\n",
      "1.2525272478392118 {'bootstrap': False, 'max_depth': 15, 'max_features': 3, 'min_samples_leaf': 7, 'min_samples_split': 5, 'n_estimators': 5}\n",
      "1.2349918672376239 {'bootstrap': False, 'max_depth': 15, 'max_features': 3, 'min_samples_leaf': 7, 'min_samples_split': 5, 'n_estimators': 10}\n",
      "1.2329864066487852 {'bootstrap': False, 'max_depth': 15, 'max_features': 3, 'min_samples_leaf': 7, 'min_samples_split': 5, 'n_estimators': 15}\n",
      "1.2443196948236181 {'bootstrap': False, 'max_depth': 15, 'max_features': 3, 'min_samples_leaf': 7, 'min_samples_split': 10, 'n_estimators': 5}\n",
      "1.2388058106172668 {'bootstrap': False, 'max_depth': 15, 'max_features': 3, 'min_samples_leaf': 7, 'min_samples_split': 10, 'n_estimators': 10}\n",
      "1.2294545107047332 {'bootstrap': False, 'max_depth': 15, 'max_features': 3, 'min_samples_leaf': 7, 'min_samples_split': 10, 'n_estimators': 15}\n",
      "1.2514456317613867 {'bootstrap': False, 'max_depth': 15, 'max_features': 3, 'min_samples_leaf': 10, 'min_samples_split': 2, 'n_estimators': 5}\n",
      "1.231286571415022 {'bootstrap': False, 'max_depth': 15, 'max_features': 3, 'min_samples_leaf': 10, 'min_samples_split': 2, 'n_estimators': 10}\n",
      "1.2321374950080772 {'bootstrap': False, 'max_depth': 15, 'max_features': 3, 'min_samples_leaf': 10, 'min_samples_split': 2, 'n_estimators': 15}\n",
      "1.2464203356365924 {'bootstrap': False, 'max_depth': 15, 'max_features': 3, 'min_samples_leaf': 10, 'min_samples_split': 5, 'n_estimators': 5}\n",
      "1.2388176006426688 {'bootstrap': False, 'max_depth': 15, 'max_features': 3, 'min_samples_leaf': 10, 'min_samples_split': 5, 'n_estimators': 10}\n",
      "1.2353558222496077 {'bootstrap': False, 'max_depth': 15, 'max_features': 3, 'min_samples_leaf': 10, 'min_samples_split': 5, 'n_estimators': 15}\n",
      "1.2486764660827743 {'bootstrap': False, 'max_depth': 15, 'max_features': 3, 'min_samples_leaf': 10, 'min_samples_split': 10, 'n_estimators': 5}\n",
      "1.2384929886225386 {'bootstrap': False, 'max_depth': 15, 'max_features': 3, 'min_samples_leaf': 10, 'min_samples_split': 10, 'n_estimators': 10}\n",
      "1.2335937208607328 {'bootstrap': False, 'max_depth': 15, 'max_features': 3, 'min_samples_leaf': 10, 'min_samples_split': 10, 'n_estimators': 15}\n",
      "1.263451836796543 {'bootstrap': False, 'max_depth': 15, 'max_features': 4, 'min_samples_leaf': 5, 'min_samples_split': 2, 'n_estimators': 5}\n",
      "1.2274438463756498 {'bootstrap': False, 'max_depth': 15, 'max_features': 4, 'min_samples_leaf': 5, 'min_samples_split': 2, 'n_estimators': 10}\n",
      "1.2303649412533133 {'bootstrap': False, 'max_depth': 15, 'max_features': 4, 'min_samples_leaf': 5, 'min_samples_split': 2, 'n_estimators': 15}\n",
      "1.248494448357951 {'bootstrap': False, 'max_depth': 15, 'max_features': 4, 'min_samples_leaf': 5, 'min_samples_split': 5, 'n_estimators': 5}\n",
      "1.228704192871876 {'bootstrap': False, 'max_depth': 15, 'max_features': 4, 'min_samples_leaf': 5, 'min_samples_split': 5, 'n_estimators': 10}\n",
      "1.23094969355924 {'bootstrap': False, 'max_depth': 15, 'max_features': 4, 'min_samples_leaf': 5, 'min_samples_split': 5, 'n_estimators': 15}\n",
      "1.2544154123380244 {'bootstrap': False, 'max_depth': 15, 'max_features': 4, 'min_samples_leaf': 5, 'min_samples_split': 10, 'n_estimators': 5}\n",
      "1.237601227994079 {'bootstrap': False, 'max_depth': 15, 'max_features': 4, 'min_samples_leaf': 5, 'min_samples_split': 10, 'n_estimators': 10}\n",
      "1.2272720626775862 {'bootstrap': False, 'max_depth': 15, 'max_features': 4, 'min_samples_leaf': 5, 'min_samples_split': 10, 'n_estimators': 15}\n",
      "1.2497574283227644 {'bootstrap': False, 'max_depth': 15, 'max_features': 4, 'min_samples_leaf': 7, 'min_samples_split': 2, 'n_estimators': 5}\n",
      "1.2282234345859615 {'bootstrap': False, 'max_depth': 15, 'max_features': 4, 'min_samples_leaf': 7, 'min_samples_split': 2, 'n_estimators': 10}\n",
      "1.2310246537299756 {'bootstrap': False, 'max_depth': 15, 'max_features': 4, 'min_samples_leaf': 7, 'min_samples_split': 2, 'n_estimators': 15}\n",
      "1.2484545287547022 {'bootstrap': False, 'max_depth': 15, 'max_features': 4, 'min_samples_leaf': 7, 'min_samples_split': 5, 'n_estimators': 5}\n",
      "1.234412619603967 {'bootstrap': False, 'max_depth': 15, 'max_features': 4, 'min_samples_leaf': 7, 'min_samples_split': 5, 'n_estimators': 10}\n",
      "1.2290047171034715 {'bootstrap': False, 'max_depth': 15, 'max_features': 4, 'min_samples_leaf': 7, 'min_samples_split': 5, 'n_estimators': 15}\n",
      "1.2431999444932869 {'bootstrap': False, 'max_depth': 15, 'max_features': 4, 'min_samples_leaf': 7, 'min_samples_split': 10, 'n_estimators': 5}\n",
      "1.2380334945826696 {'bootstrap': False, 'max_depth': 15, 'max_features': 4, 'min_samples_leaf': 7, 'min_samples_split': 10, 'n_estimators': 10}\n",
      "1.2276701992784431 {'bootstrap': False, 'max_depth': 15, 'max_features': 4, 'min_samples_leaf': 7, 'min_samples_split': 10, 'n_estimators': 15}\n",
      "1.2504772959828172 {'bootstrap': False, 'max_depth': 15, 'max_features': 4, 'min_samples_leaf': 10, 'min_samples_split': 2, 'n_estimators': 5}\n",
      "1.2396919527219143 {'bootstrap': False, 'max_depth': 15, 'max_features': 4, 'min_samples_leaf': 10, 'min_samples_split': 2, 'n_estimators': 10}\n",
      "1.2315685018273297 {'bootstrap': False, 'max_depth': 15, 'max_features': 4, 'min_samples_leaf': 10, 'min_samples_split': 2, 'n_estimators': 15}\n",
      "1.2416963063902378 {'bootstrap': False, 'max_depth': 15, 'max_features': 4, 'min_samples_leaf': 10, 'min_samples_split': 5, 'n_estimators': 5}\n",
      "1.232937017043957 {'bootstrap': False, 'max_depth': 15, 'max_features': 4, 'min_samples_leaf': 10, 'min_samples_split': 5, 'n_estimators': 10}\n",
      "1.2297504484086115 {'bootstrap': False, 'max_depth': 15, 'max_features': 4, 'min_samples_leaf': 10, 'min_samples_split': 5, 'n_estimators': 15}\n",
      "1.244118439473663 {'bootstrap': False, 'max_depth': 15, 'max_features': 4, 'min_samples_leaf': 10, 'min_samples_split': 10, 'n_estimators': 5}\n",
      "1.232368526863863 {'bootstrap': False, 'max_depth': 15, 'max_features': 4, 'min_samples_leaf': 10, 'min_samples_split': 10, 'n_estimators': 10}\n",
      "1.232364630185778 {'bootstrap': False, 'max_depth': 15, 'max_features': 4, 'min_samples_leaf': 10, 'min_samples_split': 10, 'n_estimators': 15}\n",
      "time: 31 ms (started: 2022-10-13 17:10:08 +08:00)\n"
     ]
    }
   ],
   "source": [
    "cvres = grid_search.cv_results_\n",
    "for mean_score, params in zip(cvres[\"mean_test_score\"], cvres[\"params\"]):\n",
    "    print(np.sqrt(-mean_score), params)"
   ]
  },
  {
   "cell_type": "code",
   "execution_count": 68,
   "id": "556fdf47",
   "metadata": {},
   "outputs": [
    {
     "name": "stdout",
     "output_type": "stream",
     "text": [
      "time: 0 ns (started: 2022-10-13 17:14:24 +08:00)\n"
     ]
    }
   ],
   "source": [
    "rf_tuned = RandomForestRegressor(bootstrap=False, max_depth=15, max_features=3,\n",
    "                      min_samples_leaf=5, min_samples_split=10, n_estimators=15,\n",
    "                      n_jobs=-1)"
   ]
  },
  {
   "cell_type": "code",
   "execution_count": 69,
   "id": "017dee01",
   "metadata": {},
   "outputs": [
    {
     "data": {
      "text/html": [
       "<style>#sk-container-id-16 {color: black;background-color: white;}#sk-container-id-16 pre{padding: 0;}#sk-container-id-16 div.sk-toggleable {background-color: white;}#sk-container-id-16 label.sk-toggleable__label {cursor: pointer;display: block;width: 100%;margin-bottom: 0;padding: 0.3em;box-sizing: border-box;text-align: center;}#sk-container-id-16 label.sk-toggleable__label-arrow:before {content: \"▸\";float: left;margin-right: 0.25em;color: #696969;}#sk-container-id-16 label.sk-toggleable__label-arrow:hover:before {color: black;}#sk-container-id-16 div.sk-estimator:hover label.sk-toggleable__label-arrow:before {color: black;}#sk-container-id-16 div.sk-toggleable__content {max-height: 0;max-width: 0;overflow: hidden;text-align: left;background-color: #f0f8ff;}#sk-container-id-16 div.sk-toggleable__content pre {margin: 0.2em;color: black;border-radius: 0.25em;background-color: #f0f8ff;}#sk-container-id-16 input.sk-toggleable__control:checked~div.sk-toggleable__content {max-height: 200px;max-width: 100%;overflow: auto;}#sk-container-id-16 input.sk-toggleable__control:checked~label.sk-toggleable__label-arrow:before {content: \"▾\";}#sk-container-id-16 div.sk-estimator input.sk-toggleable__control:checked~label.sk-toggleable__label {background-color: #d4ebff;}#sk-container-id-16 div.sk-label input.sk-toggleable__control:checked~label.sk-toggleable__label {background-color: #d4ebff;}#sk-container-id-16 input.sk-hidden--visually {border: 0;clip: rect(1px 1px 1px 1px);clip: rect(1px, 1px, 1px, 1px);height: 1px;margin: -1px;overflow: hidden;padding: 0;position: absolute;width: 1px;}#sk-container-id-16 div.sk-estimator {font-family: monospace;background-color: #f0f8ff;border: 1px dotted black;border-radius: 0.25em;box-sizing: border-box;margin-bottom: 0.5em;}#sk-container-id-16 div.sk-estimator:hover {background-color: #d4ebff;}#sk-container-id-16 div.sk-parallel-item::after {content: \"\";width: 100%;border-bottom: 1px solid gray;flex-grow: 1;}#sk-container-id-16 div.sk-label:hover label.sk-toggleable__label {background-color: #d4ebff;}#sk-container-id-16 div.sk-serial::before {content: \"\";position: absolute;border-left: 1px solid gray;box-sizing: border-box;top: 0;bottom: 0;left: 50%;z-index: 0;}#sk-container-id-16 div.sk-serial {display: flex;flex-direction: column;align-items: center;background-color: white;padding-right: 0.2em;padding-left: 0.2em;position: relative;}#sk-container-id-16 div.sk-item {position: relative;z-index: 1;}#sk-container-id-16 div.sk-parallel {display: flex;align-items: stretch;justify-content: center;background-color: white;position: relative;}#sk-container-id-16 div.sk-item::before, #sk-container-id-16 div.sk-parallel-item::before {content: \"\";position: absolute;border-left: 1px solid gray;box-sizing: border-box;top: 0;bottom: 0;left: 50%;z-index: -1;}#sk-container-id-16 div.sk-parallel-item {display: flex;flex-direction: column;z-index: 1;position: relative;background-color: white;}#sk-container-id-16 div.sk-parallel-item:first-child::after {align-self: flex-end;width: 50%;}#sk-container-id-16 div.sk-parallel-item:last-child::after {align-self: flex-start;width: 50%;}#sk-container-id-16 div.sk-parallel-item:only-child::after {width: 0;}#sk-container-id-16 div.sk-dashed-wrapped {border: 1px dashed gray;margin: 0 0.4em 0.5em 0.4em;box-sizing: border-box;padding-bottom: 0.4em;background-color: white;}#sk-container-id-16 div.sk-label label {font-family: monospace;font-weight: bold;display: inline-block;line-height: 1.2em;}#sk-container-id-16 div.sk-label-container {text-align: center;}#sk-container-id-16 div.sk-container {/* jupyter's `normalize.less` sets `[hidden] { display: none; }` but bootstrap.min.css set `[hidden] { display: none !important; }` so we also need the `!important` here to be able to override the default hidden behavior on the sphinx rendered scikit-learn.org. See: https://github.com/scikit-learn/scikit-learn/issues/21755 */display: inline-block !important;position: relative;}#sk-container-id-16 div.sk-text-repr-fallback {display: none;}</style><div id=\"sk-container-id-16\" class=\"sk-top-container\"><div class=\"sk-text-repr-fallback\"><pre>RandomForestRegressor(bootstrap=False, max_depth=15, max_features=3,\n",
       "                      min_samples_leaf=5, min_samples_split=10, n_estimators=15,\n",
       "                      n_jobs=-1)</pre><b>In a Jupyter environment, please rerun this cell to show the HTML representation or trust the notebook. <br />On GitHub, the HTML representation is unable to render, please try loading this page with nbviewer.org.</b></div><div class=\"sk-container\" hidden><div class=\"sk-item\"><div class=\"sk-estimator sk-toggleable\"><input class=\"sk-toggleable__control sk-hidden--visually\" id=\"sk-estimator-id-18\" type=\"checkbox\" checked><label for=\"sk-estimator-id-18\" class=\"sk-toggleable__label sk-toggleable__label-arrow\">RandomForestRegressor</label><div class=\"sk-toggleable__content\"><pre>RandomForestRegressor(bootstrap=False, max_depth=15, max_features=3,\n",
       "                      min_samples_leaf=5, min_samples_split=10, n_estimators=15,\n",
       "                      n_jobs=-1)</pre></div></div></div></div></div>"
      ],
      "text/plain": [
       "RandomForestRegressor(bootstrap=False, max_depth=15, max_features=3,\n",
       "                      min_samples_leaf=5, min_samples_split=10, n_estimators=15,\n",
       "                      n_jobs=-1)"
      ]
     },
     "execution_count": 69,
     "metadata": {},
     "output_type": "execute_result"
    },
    {
     "name": "stdout",
     "output_type": "stream",
     "text": [
      "time: 203 ms (started: 2022-10-13 17:14:24 +08:00)\n"
     ]
    }
   ],
   "source": [
    "rf_tuned.fit(X_train, y_train)"
   ]
  },
  {
   "cell_type": "code",
   "execution_count": 70,
   "id": "a59a064d",
   "metadata": {},
   "outputs": [
    {
     "name": "stdout",
     "output_type": "stream",
     "text": [
      "Train MSE after tuning: 0.893894294894274\n",
      "Test MSE after tuning: 1.3180426140676698\n",
      "Generalisation after tuning: 47.449%\n",
      "time: 31 ms (started: 2022-10-13 17:14:25 +08:00)\n"
     ]
    }
   ],
   "source": [
    "y_pred_tuned = rf_tuned.predict(X_test)\n",
    "\n",
    "rmse_train_tuned = mean_squared_error(y_train, rf_tuned.predict(X_train), squared=False)\n",
    "rmse_test_tuned = mean_squared_error(y_test, y_pred_tuned, squared=False)\n",
    "pct_diff = round((rmse_test_tuned/rmse_train_tuned -1)*100,3)\n",
    "\n",
    "print('Train MSE after tuning:', rmse_train_tuned)\n",
    "print('Test MSE after tuning:', rmse_test_tuned)\n",
    "print(f'Generalisation after tuning: {pct_diff}%')"
   ]
  },
  {
   "cell_type": "markdown",
   "id": "4d6b3565",
   "metadata": {},
   "source": [
    "## Question: To default hyperparameters or to use those found from GridSearch?"
   ]
  },
  {
   "cell_type": "markdown",
   "id": "899d184a",
   "metadata": {},
   "source": [
    "## Plot of actual vs predicted of the Test set"
   ]
  },
  {
   "cell_type": "code",
   "execution_count": 79,
   "id": "fbd8d112",
   "metadata": {},
   "outputs": [
    {
     "data": {
      "text/plain": [
       "<matplotlib.legend.Legend at 0x18007ba1700>"
      ]
     },
     "execution_count": 79,
     "metadata": {},
     "output_type": "execute_result"
    },
    {
     "data": {
      "image/png": "[encoded data removed]",
      "text/plain": [
       "<Figure size 432x288 with 1 Axes>"
      ]
     },
     "metadata": {
      "needs_background": "light"
     },
     "output_type": "display_data"
    },
    {
     "name": "stdout",
     "output_type": "stream",
     "text": [
      "time: 344 ms (started: 2022-10-13 17:22:16 +08:00)\n"
     ]
    }
   ],
   "source": [
    "from sklearn.linear_model import LinearRegression\n",
    "\n",
    "# Plotting scatter\n",
    "plt.scatter(y_test.to_numpy(), y_pred, s=1)\n",
    "\n",
    "# Drawing a best fit line\n",
    "# Reshape the y_test and y_pred arrays\n",
    "bestfit = LinearRegression().fit(y_test.to_numpy().reshape(-1, 1), y_pred.reshape(-1, 1))\n",
    "\n",
    "# Specify any two points just to let the bestfit line predict\n",
    "xx = [[-5],[5]]\n",
    "yy = bestfit.predict(xx)\n",
    "plt.plot(xx, yy, 'g')\n",
    "\n",
    "# Plot formatting\n",
    "plt.grid()\n",
    "plt.axhline(y=0, color='r', label='_nolegend_')\n",
    "plt.axvline(x=0, color='r', label='_nolegend_')\n",
    "plt.xlabel('Actual Return')\n",
    "plt.ylabel('Predicted Return')\n",
    "plt.plot([-100,100], [-100,100], 'y--')\n",
    "plt.xlim([-2, 2])\n",
    "plt.ylim([-2, 2])\n",
    "plt.title(f'Scatter plot for Random Forest')\n",
    "plt.legend(['Linear Fit Line', 'y=x Perfect Prediction Line', 'Prediction Points'])"
   ]
  },
  {
   "cell_type": "code",
   "execution_count": 80,
   "id": "a740a2b3",
   "metadata": {},
   "outputs": [
    {
     "name": "stdout",
     "output_type": "stream",
     "text": [
      "time: 15 ms (started: 2022-10-13 17:36:50 +08:00)\n"
     ]
    }
   ],
   "source": [
    "# Save for use in later notebook\n",
    "pickle.dump(rf_tuned, open(\"rf_tuned.p\", \"wb\" ))"
   ]
  },
  {
   "cell_type": "code",
   "execution_count": null,
   "id": "782b3dea",
   "metadata": {},
   "outputs": [],
   "source": []
  },
  {
   "cell_type": "code",
   "execution_count": null,
   "id": "8875aebb",
   "metadata": {},
   "outputs": [],
   "source": []
  },
  {
   "cell_type": "code",
   "execution_count": null,
   "id": "c6331a22",
   "metadata": {},
   "outputs": [],
   "source": []
  }
 ],
 "metadata": {
  "kernelspec": {
   "display_name": "Python 3 (ipykernel)",
   "language": "python",
   "name": "python3"
  },
  "language_info": {
   "codemirror_mode": {
    "name": "ipython",
    "version": 3
   },
   "file_extension": ".py",
   "mimetype": "text/x-python",
   "name": "python",
   "nbconvert_exporter": "python",
   "pygments_lexer": "ipython3",
   "version": "3.9.7"
  }
 },
 "nbformat": 4,
 "nbformat_minor": 5
}
