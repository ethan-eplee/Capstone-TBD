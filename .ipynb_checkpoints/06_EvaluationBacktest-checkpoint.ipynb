{
 "cells": [
  {
   "cell_type": "code",
   "execution_count": 1,
   "metadata": {},
   "outputs": [
    {
     "name": "stdout",
     "output_type": "stream",
     "text": [
      "time: 1.3 s (started: 2022-10-10 18:00:35 +08:00)\n"
     ]
    }
   ],
   "source": [
    "%load_ext autotime\n",
    "import pandas as pd\n",
    "import numpy as np\n",
    "import matplotlib.pyplot as plt\n",
    "import seaborn as sns\n",
    "\n",
    "import pickle\n",
    "import time\n",
    "import simfin as sf\n",
    "\n",
    "from sklearn.model_selection import train_test_split\n",
    "from sklearn.model_selection import learning_curve\n",
    "from sklearn.model_selection import ShuffleSplit\n",
    "\n",
    "from sklearn.linear_model import LinearRegression\n",
    "from sklearn.linear_model import ElasticNet\n",
    "\n",
    "from sklearn.neighbors import KNeighborsRegressor\n",
    "from sklearn.tree import DecisionTreeRegressor\n",
    "from sklearn.ensemble import RandomForestRegressor\n",
    "\n",
    "from sklearn.preprocessing import PowerTransformer\n",
    "from sklearn.pipeline import Pipeline\n",
    "from sklearn.metrics import mean_squared_error"
   ]
  },
  {
   "cell_type": "code",
   "execution_count": 2,
   "metadata": {},
   "outputs": [
    {
     "name": "stdout",
     "output_type": "stream",
     "text": [
      "time: 0 ns (started: 2022-10-10 18:00:36 +08:00)\n"
     ]
    }
   ],
   "source": [
    "# Set the plotting DPI settings to be a bit higher.\n",
    "plt.rcParams['figure.figsize'] = [7.0, 4.5]\n",
    "plt.rcParams['figure.dpi'] = 150"
   ]
  },
  {
   "cell_type": "code",
   "execution_count": 3,
   "metadata": {},
   "outputs": [
    {
     "name": "stdout",
     "output_type": "stream",
     "text": [
      "time: 109 ms (started: 2022-10-10 18:00:36 +08:00)\n"
     ]
    }
   ],
   "source": [
    "# Read in stock price fundamental ratios (38,307 rows)\n",
    "X = pickle.load(open('./data/fundamentals3.pkl', 'rb'))\n",
    "\n",
    "# Read in annual performance (38,307 rows)\n",
    "y = pickle.load(open('./data/performance3.pkl', 'rb'))\n",
    "y = y['Returns']\n",
    "\n",
    "# Read in annual prices (38,307 rows)\n",
    "y_withdata = pickle.load(open('./data/performance2.pkl', 'rb'))\n",
    "\n",
    "# Convert to date\n",
    "y_withdata[\"Date1\"] = pd.to_datetime(y_withdata[\"Date1\"])\n",
    "y_withdata[\"Date2\"] = pd.to_datetime(y_withdata[\"Date2\"])\n",
    "\n",
    "# X and Y Train and Test sets(splitting for train/test done previously for trained model)\n",
    "X_train=pd.read_csv(\"Annual_Stock_Price_Fundamentals_Ratios_train.csv\", index_col=0)\n",
    "X_test=pd.read_csv(\"Annual_Stock_Price_Fundamentals_Ratios_test.csv\", index_col=0)\n",
    "y_train=pd.read_csv(\"Annual_Stock_Price_Performance_Percentage_train.csv\", index_col=0)\n",
    "y_test=pd.read_csv(\"Annual_Stock_Price_Performance_Percentage_test.csv\", index_col=0)\n",
    "\n",
    "# Get y_withdata to correspond to y_test (subset of y_test)\n",
    "y_withdata_test = pd.DataFrame()\n",
    "y_withdata_test = y_withdata.loc[y_test.index, :]\n",
    "\n",
    "# Convert string to datetime\n",
    "y_withdata_test[\"Date1\"] = pd.to_datetime(y_withdata_test[\"Date1\"])\n",
    "y_withdata_test[\"Date2\"] = pd.to_datetime(y_withdata_test[\"Date2\"])"
   ]
  },
  {
   "cell_type": "code",
   "execution_count": 4,
   "metadata": {},
   "outputs": [
    {
     "name": "stdout",
     "output_type": "stream",
     "text": [
      "time: 0 ns (started: 2022-10-10 18:00:36 +08:00)\n"
     ]
    }
   ],
   "source": [
    "# def getYRawData(directory='C:/Users/G50/Stock_Data/SimFin2021/'):\n",
    "#     '''\n",
    "#     Can set directory to look for file in.\n",
    "#     Get daily stock price time series for ALL stocks. \n",
    "#     5M rows. Some days missing.\n",
    "#     Returns DataFrame\n",
    "#     '''\n",
    "#     daily_stock_prices=pd.read_csv(directory+'us-shareprices-daily.csv',\n",
    "#                                    delimiter=';')\n",
    "#     daily_stock_prices[\"Date\"]=pd.to_datetime(daily_stock_prices[\"Date\"])\n",
    "#     print('Reading historical time series stock data, matrix size is: ', \n",
    "#           daily_stock_prices.shape)\n",
    "#     return daily_stock_prices"
   ]
  },
  {
   "cell_type": "code",
   "execution_count": 5,
   "metadata": {},
   "outputs": [
    {
     "name": "stdout",
     "output_type": "stream",
     "text": [
      "Dataset \"us-shareprices-daily\" on disk (3 days old).\n",
      "- Loading from disk ... Done!\n",
      "time: 10.2 s (started: 2022-10-10 18:00:36 +08:00)\n"
     ]
    }
   ],
   "source": [
    "# Set your SimFin+ API-key for downloading data.\n",
    "sf.set_api_key('nYdjeL237mt7QaQ4OZTaPa4Xn3YECrTH')\n",
    "\n",
    "# Set the local directory where data-files are stored.\n",
    "# The directory will be created if it does not already exist.\n",
    "sf.set_data_dir('~/simfin_data/')\n",
    "\n",
    "# Download the data from the SimFin server and load into a Pandas DataFrame.\n",
    "df_prices = sf.load_shareprices(variant='daily', market='us')\n",
    "df_prices.reset_index(inplace=True)"
   ]
  },
  {
   "cell_type": "markdown",
   "metadata": {},
   "source": [
    "# Define functions"
   ]
  },
  {
   "cell_type": "code",
   "execution_count": 6,
   "metadata": {},
   "outputs": [
    {
     "data": {
      "text/html": [
       "<div>\n",
       "<style scoped>\n",
       "    .dataframe tbody tr th:only-of-type {\n",
       "        vertical-align: middle;\n",
       "    }\n",
       "\n",
       "    .dataframe tbody tr th {\n",
       "        vertical-align: top;\n",
       "    }\n",
       "\n",
       "    .dataframe thead th {\n",
       "        text-align: right;\n",
       "    }\n",
       "</style>\n",
       "<table border=\"1\" class=\"dataframe\">\n",
       "  <thead>\n",
       "    <tr style=\"text-align: right;\">\n",
       "      <th></th>\n",
       "      <th>Ticker</th>\n",
       "      <th>Date1</th>\n",
       "      <th>Open1</th>\n",
       "      <th>Volume1</th>\n",
       "      <th>Date2</th>\n",
       "      <th>Open2</th>\n",
       "      <th>Volume2</th>\n",
       "    </tr>\n",
       "  </thead>\n",
       "  <tbody>\n",
       "    <tr>\n",
       "      <th>26780</th>\n",
       "      <td>PK</td>\n",
       "      <td>2016-12-31</td>\n",
       "      <td>30.21</td>\n",
       "      <td>33221775.0</td>\n",
       "      <td>2017-12-31</td>\n",
       "      <td>28.87</td>\n",
       "      <td>1294841.0</td>\n",
       "    </tr>\n",
       "    <tr>\n",
       "      <th>16361</th>\n",
       "      <td>HTGM</td>\n",
       "      <td>2021-06-30</td>\n",
       "      <td>5.99</td>\n",
       "      <td>27359.0</td>\n",
       "      <td>2022-06-30</td>\n",
       "      <td>NaN</td>\n",
       "      <td>NaN</td>\n",
       "    </tr>\n",
       "    <tr>\n",
       "      <th>27115</th>\n",
       "      <td>PNW</td>\n",
       "      <td>2020-12-31</td>\n",
       "      <td>79.05</td>\n",
       "      <td>539364.0</td>\n",
       "      <td>2021-12-31</td>\n",
       "      <td>NaN</td>\n",
       "      <td>NaN</td>\n",
       "    </tr>\n",
       "    <tr>\n",
       "      <th>18629</th>\n",
       "      <td>KE</td>\n",
       "      <td>2018-06-30</td>\n",
       "      <td>18.25</td>\n",
       "      <td>53290.0</td>\n",
       "      <td>2019-06-30</td>\n",
       "      <td>16.25</td>\n",
       "      <td>67064.0</td>\n",
       "    </tr>\n",
       "    <tr>\n",
       "      <th>258</th>\n",
       "      <td>ABIO</td>\n",
       "      <td>2021-06-30</td>\n",
       "      <td>3.52</td>\n",
       "      <td>92318.0</td>\n",
       "      <td>2022-06-30</td>\n",
       "      <td>NaN</td>\n",
       "      <td>NaN</td>\n",
       "    </tr>\n",
       "    <tr>\n",
       "      <th>...</th>\n",
       "      <td>...</td>\n",
       "      <td>...</td>\n",
       "      <td>...</td>\n",
       "      <td>...</td>\n",
       "      <td>...</td>\n",
       "      <td>...</td>\n",
       "      <td>...</td>\n",
       "    </tr>\n",
       "    <tr>\n",
       "      <th>22</th>\n",
       "      <td>AA</td>\n",
       "      <td>2017-06-30</td>\n",
       "      <td>33.16</td>\n",
       "      <td>3014777.0</td>\n",
       "      <td>2018-06-30</td>\n",
       "      <td>46.46</td>\n",
       "      <td>2150764.0</td>\n",
       "    </tr>\n",
       "    <tr>\n",
       "      <th>25249</th>\n",
       "      <td>OLLI</td>\n",
       "      <td>2019-05-31</td>\n",
       "      <td>98.38</td>\n",
       "      <td>727763.0</td>\n",
       "      <td>2020-05-30</td>\n",
       "      <td>91.84</td>\n",
       "      <td>2767397.0</td>\n",
       "    </tr>\n",
       "    <tr>\n",
       "      <th>5903</th>\n",
       "      <td>CALA</td>\n",
       "      <td>2020-09-30</td>\n",
       "      <td>71.50</td>\n",
       "      <td>23076.0</td>\n",
       "      <td>2021-09-30</td>\n",
       "      <td>43.20</td>\n",
       "      <td>38780.0</td>\n",
       "    </tr>\n",
       "    <tr>\n",
       "      <th>19675</th>\n",
       "      <td>LFVN</td>\n",
       "      <td>2017-12-31</td>\n",
       "      <td>4.79</td>\n",
       "      <td>8906.0</td>\n",
       "      <td>2018-12-31</td>\n",
       "      <td>13.04</td>\n",
       "      <td>119735.0</td>\n",
       "    </tr>\n",
       "    <tr>\n",
       "      <th>24449</th>\n",
       "      <td>NTRA</td>\n",
       "      <td>2019-03-31</td>\n",
       "      <td>20.81</td>\n",
       "      <td>1000080.0</td>\n",
       "      <td>2020-03-30</td>\n",
       "      <td>25.50</td>\n",
       "      <td>1607681.0</td>\n",
       "    </tr>\n",
       "  </tbody>\n",
       "</table>\n",
       "<p>5930 rows × 7 columns</p>\n",
       "</div>"
      ],
      "text/plain": [
       "      Ticker      Date1  Open1     Volume1      Date2  Open2    Volume2\n",
       "26780     PK 2016-12-31  30.21  33221775.0 2017-12-31  28.87  1294841.0\n",
       "16361   HTGM 2021-06-30   5.99     27359.0 2022-06-30    NaN        NaN\n",
       "27115    PNW 2020-12-31  79.05    539364.0 2021-12-31    NaN        NaN\n",
       "18629     KE 2018-06-30  18.25     53290.0 2019-06-30  16.25    67064.0\n",
       "258     ABIO 2021-06-30   3.52     92318.0 2022-06-30    NaN        NaN\n",
       "...      ...        ...    ...         ...        ...    ...        ...\n",
       "22        AA 2017-06-30  33.16   3014777.0 2018-06-30  46.46  2150764.0\n",
       "25249   OLLI 2019-05-31  98.38    727763.0 2020-05-30  91.84  2767397.0\n",
       "5903    CALA 2020-09-30  71.50     23076.0 2021-09-30  43.20    38780.0\n",
       "19675   LFVN 2017-12-31   4.79      8906.0 2018-12-31  13.04   119735.0\n",
       "24449   NTRA 2019-03-31  20.81   1000080.0 2020-03-30  25.50  1607681.0\n",
       "\n",
       "[5930 rows x 7 columns]"
      ]
     },
     "execution_count": 6,
     "metadata": {},
     "output_type": "execute_result"
    },
    {
     "name": "stdout",
     "output_type": "stream",
     "text": [
      "time: 16 ms (started: 2022-10-10 18:00:47 +08:00)\n"
     ]
    }
   ],
   "source": [
    "y_withdata_test"
   ]
  },
  {
   "cell_type": "code",
   "execution_count": 7,
   "metadata": {},
   "outputs": [
    {
     "name": "stdout",
     "output_type": "stream",
     "text": [
      "time: 0 ns (started: 2022-10-10 18:00:47 +08:00)\n"
     ]
    }
   ],
   "source": [
    "# Calculate the Altman Z Score\n",
    "def calcZScores(X):\n",
    "    Z = pd.DataFrame()\n",
    "    Z['Z score'] = 3.25 \\\n",
    "    + 6.51 * X['WC_TA']\\\n",
    "    + 3.26 * X['RE_TA']\\\n",
    "    + 6.72 * X['EBIT_TA']\\\n",
    "    + 1.05 * X['Equity_Liab']\n",
    "    return Z\n",
    "\n",
    "\n",
    "# Get only the tickers and annual performance from price data\n",
    "def getYPerf(y1):\n",
    "    y2=pd.DataFrame()\n",
    "    y2[\"Ticker\"] = y1[\"Ticker\"]\n",
    "    y2[\"Perf\"]=(y1[\"Open2\"]-y1[\"Open1\"])/y1[\"Open1\"]\n",
    "    \n",
    "    # Any row that performance cannot be calculated to be filled with zeros\n",
    "    y2[y2[\"Perf\"].isnull()]=0\n",
    "    return y2\n",
    "\n",
    "\n",
    "# To get the stock price between 2 dates for a particular ticker\n",
    "def getStockPriceBetweenDates(date1, date2, ticker, df_prices):\n",
    "    rows = df_prices.loc[(df_prices[\"Date\"]>date1) & \n",
    "                         (df_prices[\"Date\"]<date2) & \n",
    "                         (df_prices[\"Ticker\"]==ticker)]\n",
    "    return rows\n",
    "\n",
    "\n",
    "# Get stock prices based on a mask filter\n",
    "def getStockPriceData(ticker, y, mask, dailystock_prices):\n",
    "    date1 = y[mask][y[mask][\"Ticker\"] == ticker][\"Date1\"].values[0]\n",
    "    date2 = y[mask][y[mask][\"Ticker\"] == ticker][\"Date2\"].values[0]\n",
    "    rows = getStockPriceBetweenDates(date1, date2, ticker, dailystock_prices)\n",
    "    return rows\n",
    "\n",
    "\n",
    "# Weekly date index is the weekly dates and rows are the stock price data\n",
    "def getDataForDateRange(weekly_date_index, rows):\n",
    "   \n",
    "    # Create an empty dataframe to store the weekly stock data later\n",
    "    WeeklyStockDataRows = pd.DataFrame()\n",
    "\n",
    "    for i in weekly_date_index:\n",
    "        WeeklyStockDataRows = WeeklyStockDataRows.append\\\n",
    "        (rows.iloc[rows.index.get_loc(i, method=\"nearest\")])\n",
    "    \n",
    "    return WeeklyStockDataRows\n",
    "\n",
    "\n",
    "# Returns the rows from df_prices of the stocks and years that we want\n",
    "# Get stock price a time series Dataframe for list of tickers\n",
    "# Index is usually weekly, so we know what price info to extract\n",
    "def getStockTimeSeries(dateTimeIndex, y_withData, tickers_list, mask, df_prices):\n",
    "\n",
    "    # Empty dateframe to record weekly stock returns\n",
    "    stockReturns = pd.DataFrame(index=dateTimeIndex)\n",
    "    \n",
    "    # Change Date Format of weekly date time index\n",
    "    weekly_dti = dateTimeIndex.strftime('%Y-%m-%d')\n",
    "    rows = pd.DataFrame()\n",
    "    \n",
    "    for tick in tickers_list:\n",
    "        # Rows is stock price time series data for individual stock\n",
    "        rows = getStockPriceData(tick, y_withData, mask, df_prices)\n",
    "        \n",
    "        # Change the index of the time series data to be the \"Date\"\n",
    "        rows.index = pd.DatetimeIndex(rows[\"Date\"])\n",
    "\n",
    "        # Gets our stock price data to be in a weekly format, using the closest day if the data for a day we want is missing.\n",
    "        WeeklyStockDataRows = getDataForDateRange(weekly_dti, rows)\n",
    "\n",
    "        # We can choose to use Open, Close, or Adj Close\n",
    "        stockReturns[tick] = WeeklyStockDataRows[\"Close\"].values\n",
    "        \n",
    "    return stockReturns\n",
    "\n",
    "\n",
    "# Takes the dataframe of stock returns (from previous function), one column per stock\n",
    "# Price at the start is 1, all other values after is the relative performance\n",
    "# Adds a column \"PortValue\" to record the portfolio value\n",
    "def getPortfolioRelativeTimeSeries(stockReturns):\n",
    "    \n",
    "    for tick in stockReturns.columns:\n",
    "        stockReturns[tick] = stockReturns[tick]/stockReturns[tick][0]\n",
    "            \n",
    "    # Because it is equally weighted, we take the sum of the returns divide by number of tickers\n",
    "    stockReturns[\"PortValue\"] = stockReturns.sum(axis=1)/(stockReturns.columns.shape[0])\n",
    "    return stockReturns"
   ]
  },
  {
   "cell_type": "code",
   "execution_count": 8,
   "metadata": {},
   "outputs": [
    {
     "name": "stdout",
     "output_type": "stream",
     "text": [
      "time: 0 ns (started: 2022-10-10 18:00:47 +08:00)\n"
     ]
    }
   ],
   "source": [
    "# This function runs a backtest and returns the selected stocks performance for 1 year (from start of year)\n",
    "# df_prices is daily(mostly) stock price time series for all stocks\n",
    "\n",
    "def getPortTimeSeriesForYear(datestart, y_withData, X, df_prices, model):\n",
    "\n",
    "    # Get y dataframe with ticker and ticker performance only\n",
    "    # Those with null values, will just fill up with zeros for tickers and returns\n",
    "    y = getYPerf(y_withData)\n",
    "    \n",
    "    # For this year, we want to predict on stocks which reported 2 months before start of year up to Oct.\n",
    "    # Time period Oct to Oct\n",
    "    thisYearMask = y_withData[\"Date1\"].between(pd.to_datetime(datestart) - pd.Timedelta(days=60),\\\n",
    "                                               pd.to_datetime(datestart) + pd.Timedelta(days=300))\n",
    "    \n",
    "    # Get return prediction from model\n",
    "    y_pred = model.predict(X[thisYearMask])\n",
    "    \n",
    "    # Make it a DataFrame so we can select the top predictions\n",
    "    y_pred = pd.DataFrame(y_pred)\n",
    "    \n",
    "    # z returns a df of all the zscores, we want to separate out stocks with low Z scores\n",
    "    # Score of 3.75 is about same as B- rating. We try with a score about 2 first.\n",
    "    z = calcZScores(X)\n",
    "    mask_safestocks=(z['Z score'][thisYearMask].reset_index(drop=True)> 2) \n",
    "    y_pred_z = y_pred[mask_safestocks]\n",
    "    \n",
    "    \n",
    "    # Create a mask to find the list of top 10 stocks with highest predicted performance\n",
    "    # Essentially, which are the returns that are higher than the 11th largest value.\n",
    "    top10mask = (y_pred_z[0]> y_pred_z.nlargest(11,0).tail(1)[0].values[0]) \n",
    "    \n",
    "    # Weekly Date Index\n",
    "    weeklyDateIndex = pd.date_range(start=datestart, periods=52, freq='W')\n",
    "\n",
    "    # 10 best performing stocks of the predictions \n",
    "    ticker_list = y[thisYearMask].reset_index(drop=True)[top10mask & mask_safestocks][\"Ticker\"].values\n",
    "    \n",
    "    # Issue with one of the tickers equaling 0, fix with lambda function\n",
    "    ticker_list = list(filter(lambda weeklyDateIndex: weeklyDateIndex != 0, ticker_list))\n",
    "\n",
    "    # After we have our 10 stock picks, we want to find the stock prices and performances\n",
    "    # Returns dataFrame of the time, tickers as the column keys and stocks prices\n",
    "    stockReturns = getStockTimeSeries(weeklyDateIndex, y_withData, ticker_list, thisYearMask, df_prices)\n",
    "    \n",
    "    # Transform the stock prices above into relative returns\n",
    "    stockReturnsRel = getPortfolioRelativeTimeSeries(stockReturns)\n",
    "    \n",
    "    # Returns the relative performance dataframe, the cumulative portfolio perf, and the ticker list of top 10 stocks\n",
    "    return [stockReturnsRel, stockReturnsRel[\"PortValue\"], ticker_list]"
   ]
  },
  {
   "cell_type": "code",
   "execution_count": null,
   "metadata": {},
   "outputs": [],
   "source": []
  },
  {
   "cell_type": "code",
   "execution_count": 20,
   "metadata": {},
   "outputs": [
    {
     "name": "stdout",
     "output_type": "stream",
     "text": [
      "time: 0 ns (started: 2022-10-10 18:15:49 +08:00)\n"
     ]
    }
   ],
   "source": [
    "def getPortTimeSeries(y_withData, X, df_prices, model, verbose=True):\n",
    "\n",
    "    # Set date range to make stock picks over (2016 to 2020)\n",
    "    date_range = pd.date_range(start='2017-01-01', periods=4, freq='AS')\n",
    "    \n",
    "    # For each date in the date_range, make stock selections\n",
    "    # and plot the return results of those stock selections\n",
    "    port_perf_all_years = pd.DataFrame()\n",
    "    \n",
    "    perfRef=1 # Performance starts at 1.\n",
    "    \n",
    "    for curr_date in date_range:\n",
    "        \n",
    "        # Refer to function 6\n",
    "        # Will give us a relative performance dataframe, cumulative portfolio perf, and top10 ticker list\n",
    "        [comp, this_year_perf, ticker_list] = getPortTimeSeriesForYear(curr_date, y_withData, X, df_prices, model)\n",
    "        \n",
    "        # For we want text output, set verbose=True\n",
    "        if verbose: \n",
    "            # Returns the last date performance of that particular year\n",
    "            print(\"Backtest performance for year starting \", curr_date, \" is:\",\\\n",
    "                  round((this_year_perf.iloc[-1]-1)*100, 2), \"%\")\n",
    "            print(\"With these top 10 stocks:\", ticker_list, '\\n')\n",
    "        \n",
    "            for tick in ticker_list:\n",
    "                print(tick, \"Performance was:\", round((comp[tick].iloc[-1]-1)*100,2), \"%\" )\n",
    "            print(\"---------------------------------------------\")\n",
    "        \n",
    "        # Append performance for every year together\n",
    "        this_year_perf = this_year_perf * perfRef\n",
    "        port_perf_all_years = pd.concat([port_perf_all_years, this_year_perf])\n",
    "        \n",
    "        # Update perfRef to be the last value of this year's relative performance\n",
    "        perfRef = this_year_perf.iloc[-1]\n",
    "\n",
    "    # Return portfolio performance for all years\n",
    "    port_perf_all_years.columns = [\"Indexed Performance\"]\n",
    "        \n",
    "    return port_perf_all_years"
   ]
  },
  {
   "cell_type": "markdown",
   "metadata": {},
   "source": [
    "# Try out a single backtest"
   ]
  },
  {
   "cell_type": "code",
   "execution_count": 21,
   "metadata": {
    "scrolled": false
   },
   "outputs": [
    {
     "name": "stdout",
     "output_type": "stream",
     "text": [
      "Backtest performance for year starting  2017-01-01 00:00:00  is: 31.47 %\n",
      "With these top 10 stocks: ['SUPN', 'BBY', 'TREE', 'VOXX', 'APPF', 'CVNA', 'WMGI_delis', 'MANH', 'BZH', 'KOPN'] \n",
      "\n",
      "SUPN Performance was: 50.1 %\n",
      "BBY Performance was: 52.85 %\n",
      "TREE Performance was: 100.53 %\n",
      "VOXX Performance was: 11.88 %\n",
      "APPF Performance was: 49.54 %\n",
      "CVNA Performance was: 10.52 %\n",
      "WMGI_delis Performance was: 0.18 %\n",
      "MANH Performance was: 1.61 %\n",
      "BZH Performance was: 44.58 %\n",
      "KOPN Performance was: -7.06 %\n",
      "---------------------------------------------\n",
      "Backtest performance for year starting  2018-01-01 00:00:00  is: 88.06 %\n",
      "With these top 10 stocks: ['EVBG', 'TDC', 'AVP', 'XBIT', 'QNST', 'CVSI', 'GCO', 'JAN', 'WDAY'] \n",
      "\n",
      "EVBG Performance was: 0.14 %\n",
      "TDC Performance was: -6.46 %\n",
      "AVP Performance was: -29.3 %\n",
      "XBIT Performance was: 13.9 %\n",
      "QNST Performance was: 22.21 %\n",
      "CVSI Performance was: 779.59 %\n",
      "GCO Performance was: 28.97 %\n",
      "JAN Performance was: -50.67 %\n",
      "WDAY Performance was: 34.15 %\n",
      "---------------------------------------------\n",
      "Backtest performance for year starting  2019-01-01 00:00:00  is: -3.7 %\n",
      "With these top 10 stocks: ['NBR', 'BE', 'FPRX', 'CODX', 'UNFI', 'BXC', 'CMBM', 'NKLA', 'OCN'] \n",
      "\n",
      "NBR Performance was: 7.89 %\n",
      "BE Performance was: 127.53 %\n",
      "FPRX Performance was: -31.85 %\n",
      "CODX Performance was: -8.91 %\n",
      "UNFI Performance was: -36.46 %\n",
      "BXC Performance was: -48.22 %\n",
      "CMBM Performance was: -18.97 %\n",
      "NKLA Performance was: 1.68 %\n",
      "OCN Performance was: -25.95 %\n",
      "---------------------------------------------\n",
      "Backtest performance for year starting  2020-01-01 00:00:00  is: 80.48 %\n",
      "With these top 10 stocks: ['ZEUS', 'RRR', 'ZDGE', 'FLIR', 'SOHO', 'SMID', 'X', 'AFI', 'CGA'] \n",
      "\n",
      "ZEUS Performance was: 13.84 %\n",
      "RRR Performance was: 222.38 %\n",
      "ZDGE Performance was: 254.0 %\n",
      "FLIR Performance was: 45.47 %\n",
      "SOHO Performance was: 73.1 %\n",
      "SMID Performance was: 61.76 %\n",
      "X Performance was: 51.16 %\n",
      "AFI Performance was: 15.0 %\n",
      "CGA Performance was: -12.37 %\n",
      "---------------------------------------------\n",
      "Cumulative Performance is:  329.7468041040304 %\n",
      "time: 11.5 s (started: 2022-10-10 18:16:00 +08:00)\n"
     ]
    }
   ],
   "source": [
    "#pl_linear.p, pl_ElasticNet.p, pl_KNeighbors.p, pl_rfregressor.p, pl_decTree.p, pl_svm.p\n",
    "#pl_linear = pickle.load(open(\"pl_linear.p\", \"rb\" ))\n",
    "\n",
    "rf = pickle.load(open(\"rf_regressor.p\", \"rb\" ))\n",
    "\n",
    "backTest = getPortTimeSeries(y_withdata_test, X_test, df_prices, rf)\n",
    "\n",
    "# Final print to find the cumulative performance\n",
    "print('Cumulative Performance is: ', 100 * (backTest[\"Indexed Performance\"][-1]-1), '%')"
   ]
  },
  {
   "cell_type": "code",
   "execution_count": 29,
   "metadata": {},
   "outputs": [
    {
     "data": {
      "image/png": "[encoded data removed]",
      "text/plain": [
       "<Figure size 1050x675 with 1 Axes>"
      ]
     },
     "metadata": {
      "needs_background": "light"
     },
     "output_type": "display_data"
    },
    {
     "name": "stdout",
     "output_type": "stream",
     "text": [
      "time: 156 ms (started: 2022-10-10 18:17:36 +08:00)\n"
     ]
    }
   ],
   "source": [
    "backTest.plot()\n",
    "plt.grid(axis='y')"
   ]
  },
  {
   "cell_type": "markdown",
   "metadata": {},
   "source": [
    "# Now loop through model tests and get some statistics to work with."
   ]
  },
  {
   "cell_type": "code",
   "execution_count": 12,
   "metadata": {},
   "outputs": [
    {
     "name": "stdout",
     "output_type": "stream",
     "text": [
      "time: 0 ns (started: 2022-10-10 18:01:00 +08:00)\n"
     ]
    }
   ],
   "source": [
    "from sklearn.model_selection import train_test_split\n",
    "from sklearn.preprocessing import StandardScaler\n",
    "from sklearn.preprocessing import PowerTransformer\n",
    "from sklearn.pipeline import Pipeline\n",
    "from sklearn.linear_model import LinearRegression\n",
    "from sklearn.linear_model import ElasticNet\n",
    "from sklearn.neighbors import KNeighborsRegressor\n",
    "from sklearn.tree import DecisionTreeRegressor\n",
    "from sklearn.ensemble import RandomForestRegressor\n",
    "from sklearn.ensemble import GradientBoostingRegressor\n",
    "from sklearn.svm import SVR\n",
    "import pickle"
   ]
  },
  {
   "cell_type": "markdown",
   "metadata": {},
   "source": [
    "# Create the different model pipelines"
   ]
  },
  {
   "cell_type": "code",
   "execution_count": 32,
   "metadata": {},
   "outputs": [
    {
     "name": "stdout",
     "output_type": "stream",
     "text": [
      "time: 0 ns (started: 2022-10-10 18:27:35 +08:00)\n"
     ]
    }
   ],
   "source": [
    "# Linear model pipeline\n",
    "def trainLinearModel(X_train, y_train):\n",
    "    pl_linear = Pipeline([('Power Transformer', PowerTransformer()),\n",
    "                          ('linear', LinearRegression())])\n",
    "    pl_linear.fit(X_train, y_train)\n",
    "    return pl_linear\n",
    "\n",
    "# ElasticNet model pipeline\n",
    "def trainElasticNetModel(X_train, y_train):\n",
    "    pl_ElasticNet = Pipeline([('Power Transformer', PowerTransformer()),\n",
    "                              ('ElasticNet', ElasticNet(l1_ratio=0.00001))])\n",
    "    pl_ElasticNet.fit(X_train, y_train)\n",
    "    return pl_ElasticNet\n",
    "\n",
    "# KNeighbors regressor\n",
    "def trainKNeighborsModel(X_train, y_train):\n",
    "    pl_KNeighbors = Pipeline([('Power Transformer', PowerTransformer()),\n",
    "                              ('KNeighborsRegressor', KNeighborsRegressor(n_neighbors=40))])\n",
    "    pl_KNeighbors.fit(X_train, y_train)\n",
    "    return pl_KNeighbors\n",
    "\n",
    "# DecisionTreeRegressor\n",
    "def traindecTreeModel(X_train, y_train):\n",
    "    pl_decTree = Pipeline([\n",
    "        ('DecisionTreeRegressor',\\\n",
    "         DecisionTreeRegressor(max_depth=20, random_state=42))])\n",
    "    pl_decTree.fit(X_train, y_train)\n",
    "    return pl_decTree\n",
    "\n",
    "# RandomForestRegressor\n",
    "def trainrfregressorModel(X_train, y_train):\n",
    "    pl_rfregressor = Pipeline([\n",
    "        ('RandomForestRegressor',\\\n",
    "         RandomForestRegressor(max_depth=10, random_state=42))])\n",
    "    pl_rfregressor.fit(X_train, y_train)   \n",
    "    return pl_rfregressor\n",
    "\n",
    "# GradientBoostingRegressor\n",
    "def traingbregressorModel(X_train, y_train):\n",
    "    pl_GradBregressor = Pipeline([\n",
    "        ('GradBoostRegressor',\\\n",
    "         GradientBoostingRegressor(n_estimators=100, learning_rate=0.1,\\\n",
    "                                   max_depth=10, random_state=42, loss='squared_error'))])\n",
    "    pl_GradBregressor.fit(X_train, y_train)\n",
    "    return pl_GradBregressor\n",
    "\n",
    "# # SVM\n",
    "# def trainsvmModel(X_train, y_train):\n",
    "#     pl_svm = Pipeline([('Power Transformer', PowerTransformer()),\n",
    "#                        ('SVR', SVR(kernel='rbf', C=100, gamma=0.1, epsilon=.1))])\n",
    "#     pl_svm.fit(X_train, y_train)\n",
    "#     return pl_svm"
   ]
  },
  {
   "cell_type": "markdown",
   "metadata": {},
   "source": [
    "## Testing with all the algorithms"
   ]
  },
  {
   "cell_type": "code",
   "execution_count": 14,
   "metadata": {},
   "outputs": [
    {
     "name": "stdout",
     "output_type": "stream",
     "text": [
      "time: 16 ms (started: 2022-10-10 18:01:00 +08:00)\n"
     ]
    }
   ],
   "source": [
    "# from the prices data, get the y percentage returns\n",
    "y_pct = getYPerf(y_withdata)['Perf']"
   ]
  },
  {
   "cell_type": "code",
   "execution_count": 33,
   "metadata": {
    "scrolled": false
   },
   "outputs": [
    {
     "name": "stdout",
     "output_type": "stream",
     "text": [
      "Performance: 1.93 Volatility: 0.31 Test size:  0.1 Model: pl_linear\n",
      "Performance: 1.54 Volatility: 0.24 Test size:  0.2 Model: pl_linear\n",
      "Performance: 1.01 Volatility: 0.27 Test size:  0.3 Model: pl_linear\n",
      "Performance: 2.55 Volatility: 0.44 Test size:  0.1 Model: pl_KNeighbors\n",
      "Performance: 1.7 Volatility: 0.29 Test size:  0.2 Model: pl_KNeighbors\n",
      "Performance: 2.33 Volatility: 0.33 Test size:  0.3 Model: pl_KNeighbors\n",
      "Performance: 1.34 Volatility: 0.25 Test size:  0.1 Model: pl_decTree\n",
      "Performance: 1.3 Volatility: 0.17 Test size:  0.2 Model: pl_decTree\n",
      "Performance: 1.01 Volatility: 0.21 Test size:  0.3 Model: pl_decTree\n",
      "Performance: 1.43 Volatility: 0.33 Test size:  0.1 Model: pl_GradBregressor\n",
      "Performance: 4.81 Volatility: 0.73 Test size:  0.2 Model: pl_GradBregressor\n",
      "Performance: 1.99 Volatility: 0.44 Test size:  0.3 Model: pl_GradBregressor\n",
      "Performance: 1.18 Volatility: 0.27 Test size:  0.1 Model: pl_rfregressor\n",
      "Performance: 1.3 Volatility: 0.3 Test size:  0.2 Model: pl_rfregressor\n",
      "Performance: 1.15 Volatility: 0.62 Test size:  0.3 Model: pl_rfregressor\n",
      "Performance: 1.24 Volatility: 0.2 Test size:  0.1 Model: pl_ElasticNet\n",
      "Performance: 1.26 Volatility: 0.25 Test size:  0.2 Model: pl_ElasticNet\n",
      "Performance: 1.33 Volatility: 0.26 Test size:  0.3 Model: pl_ElasticNet\n",
      "time: 7min 9s (started: 2022-10-10 18:27:52 +08:00)\n"
     ]
    }
   ],
   "source": [
    "model_pipeline_list = ['pl_linear', 'pl_KNeighbors', 'pl_decTree',\\\n",
    "                       'pl_GradBregressor', 'pl_rfregressor', 'pl_ElasticNet']\n",
    "\n",
    "for model in model_pipeline_list:\n",
    "    for myTstSze in [0.1, 0.2, 0.3]:\n",
    "        X_train, X_test, y_train, y_test = train_test_split(X, y_pct, test_size=myTstSze)\n",
    "        \n",
    "        if (model =='pl_ElasticNet'):\n",
    "            model_pl = trainElasticNetModel(X_train, y_train)\n",
    "        if (model =='pl_KNeighbors'):\n",
    "            model_pl = trainKNeighborsModel(X_train, y_train)\n",
    "        if (model =='pl_decTree'):\n",
    "            model_pl = traindecTreeModel(X_train, y_train)\n",
    "        if (model =='pl_rfregressor'):\n",
    "            model_pl = trainrfregressorModel(X_train, y_train)\n",
    "        if (model =='pl_GradBregressor'):\n",
    "            model_pl = traingbregressorModel(X_train, y_train)\n",
    "        else:\n",
    "            # Linear model default\n",
    "            model_pl = trainLinearModel(X_train, y_train) \n",
    "            \n",
    "        y_withdata_test = y_withdata.loc[X_test.index]\n",
    "        \n",
    "        # Here is our backtesting code\n",
    "        backTest = getPortTimeSeries(y_withdata_test, X_test, df_prices, model_pl, verbose=False)\n",
    "        \n",
    "        # Find the cumulative performance of the backtest\n",
    "        perf = backTest['Indexed Performance'][-1]\n",
    "        \n",
    "        # Find the volatility of the backtest\n",
    "        vol = backTest['Indexed Performance'].diff().std()*np.sqrt(52)\n",
    "        \n",
    "        print('Performance:', round(perf, 2), \n",
    "              'Volatility:', round(vol,2),\n",
    "              'Test size: ', myTstSze,\n",
    "              'Model:', model)\n",
    "    print('\\n') "
   ]
  },
  {
   "cell_type": "markdown",
   "metadata": {},
   "source": [
    "## Now getting the backtesting statistics proper\n",
    "Can run in parallel, takes awhile."
   ]
  },
  {
   "cell_type": "code",
   "execution_count": null,
   "metadata": {},
   "outputs": [],
   "source": [
    "def getResultsForModel(model_pipeline_list, runs_per_model=1, verbose=True):\n",
    "    '''\n",
    "    getResultsForModel\n",
    "    Choose the model pipelines to run loop for.\n",
    "    '''\n",
    "    i, results = 0, []\n",
    "    for model in model_pipeline_list:\n",
    "        for test_num in range(0, runs_per_model):\n",
    "            X_train,X_test,y_train,y_test=train_test_split(X, y_pec,\n",
    "                                                           test_size=0.5\n",
    "                                                          )\n",
    "            #Train different models\n",
    "            if (model =='pl_linear'):\n",
    "                model_pl = trainLinearModel(X_train, y_train)\n",
    "            if (model =='pl_ElasticNet'):\n",
    "                model_pl = trainElasticNetModel(X_train, y_train)\n",
    "            if (model =='pl_KNeighbors'):\n",
    "                model_pl = trainKNeighborsModel(X_train, y_train)\n",
    "            if (model =='pl_rfregressor'):\n",
    "                model_pl = trainrfregressorModel(X_train, y_train)\n",
    "            if (model =='pl_decTree'):\n",
    "                model_pl = traindecTreeModel(X_train, y_train)\n",
    "            if (model =='pl_GradBregressor'):\n",
    "                model_pl = traingbregressorModel(X_train, y_train)\n",
    "            if (model =='pl_svm'):\n",
    "                model_pl = trainsvmModel(X_train, y_train)\n",
    "            y_withData_Test=y_withData.loc[X_test.index]\n",
    "\n",
    "            # Here is our backtesting code\n",
    "            test = getPortTimeSeries(y_withData_Test, X_test,\n",
    "                                 daily_stock_prices, model_pl, \n",
    "                                     verbose=False) \n",
    "            \n",
    "            perf = test['Indexed Performance'][-1]\n",
    "            vol = test['Indexed Performance'].diff().std()*np.sqrt(52)\n",
    "            if verbose:\n",
    "                print('Performed test ',i , [i, model, perf, vol])\n",
    "            results.append([i, model, perf, vol])\n",
    "            i=i+1\n",
    "\n",
    "    # Save our results for plotting\n",
    "    results_df = pd.DataFrame(results, columns=[\"Test Number\",\\\n",
    "                                                \"Model Used\",\\\n",
    "                                                \"Indexed Return\",\\\n",
    "                                                \"Annual Volatility\"])\n",
    "\n",
    "    # Append to an existing results file if available, \n",
    "    # else make new results file.\n",
    "    # In parallel there is an extremely remote chance \n",
    "    # two cores try and access file at same time. \n",
    "    # To keep code simple this is OK.\n",
    "    import os\n",
    "    if os.path.isfile(\"Backtest_statistics.csv\"):\n",
    "        results_df.to_csv(\"Backtest_statistics.csv\", \n",
    "                          mode='a', \n",
    "                          header=False)\n",
    "    else:\n",
    "        results_df.to_csv(\"Backtest_statistics.csv\")"
   ]
  },
  {
   "cell_type": "code",
   "execution_count": null,
   "metadata": {
    "scrolled": false
   },
   "outputs": [],
   "source": [
    "# Run with 1 core\n",
    "#model_pipeline_list = ['pl_KNeighbors']\n",
    "model_pipeline_list = ['pl_rfregressor', \n",
    "                       'pl_decTree', \n",
    "                       'pl_svm', \n",
    "                       'pl_linear', \n",
    "                       'pl_GradBregressor', \n",
    "                       'pl_KNeighbors', \n",
    "                       'pl_ElasticNet']\n",
    "model_pipeline_list = ['pl_GradBregressor']\n",
    "getResultsForModel(model_pipeline_list, 100)"
   ]
  },
  {
   "cell_type": "code",
   "execution_count": null,
   "metadata": {
    "scrolled": true
   },
   "outputs": [],
   "source": [
    "#Run in Parallel\n",
    "# Specific models on each core\n",
    "# Can run this many times, will just keep appending to results file.\n",
    "model_pipeline_list_list = [['pl_GradBregressor', 'pl_ElasticNet'],\n",
    "                            ['pl_decTree', 'pl_rfregressor'],\n",
    "                            ['pl_svm'],\n",
    "                            ['pl_linear', 'pl_KNeighbors']]\n",
    "\n",
    "import threading\n",
    "l = len(model_pipeline_list_list)\n",
    "\n",
    "thread_list = []\n",
    "for i in range(l):\n",
    "    thread = threading.Thread(target=getResultsForModel, args=(model_pipeline_list_list[i], 50, False))\n",
    "    thread_list.append(thread)\n",
    "    thread.start()\n",
    "    print('Thread '+str(i)+' started.')"
   ]
  },
  {
   "cell_type": "code",
   "execution_count": null,
   "metadata": {
    "scrolled": false
   },
   "outputs": [],
   "source": [
    "# Can check if threads are still running any time.\n",
    "# Notebook will look as though nothing is running\n",
    "# But things are running in background.\n",
    "for i in thread_list:\n",
    "    print(i.is_alive())"
   ]
  },
  {
   "cell_type": "markdown",
   "metadata": {},
   "source": [
    "# Investigating Backtest Statistics"
   ]
  },
  {
   "cell_type": "code",
   "execution_count": null,
   "metadata": {},
   "outputs": [],
   "source": [
    "results_df = pd.read_csv('Backtest_statistics.csv', index_col=0)\n",
    "results_df.reset_index(inplace=True, drop=True)"
   ]
  },
  {
   "cell_type": "code",
   "execution_count": null,
   "metadata": {},
   "outputs": [],
   "source": [
    "results_df"
   ]
  },
  {
   "cell_type": "code",
   "execution_count": null,
   "metadata": {},
   "outputs": [],
   "source": [
    "def plotBacktestDist(results_df, model_file, col):\n",
    "    ax=results_df[results_df['Model Used']==model_file][col].hist(\\\n",
    "                                    bins=50, density=True, alpha=0.7)\n",
    "    \n",
    "    ax2=results_df[results_df['Model Used']==model_file][col].plot.kde(\\\n",
    "                                    alpha=0.9)\n",
    "    \n",
    "    max_val=results_df[results_df['Model Used']==model_file][col].max()\n",
    "    ax.set_xlabel(col)\n",
    "    ax.set_ylabel('Normalised Frequency')\n",
    "    ax.set_title('{} Backtest Distribution for {}, {} Runs'.format(\\\n",
    "          col,\\\n",
    "          model_file,\\\n",
    "          results_df[results_df['Model Used']==model_file][col].size))\n",
    "    ax.grid()\n",
    "    mean=results_df[results_df['Model Used']==model_file][col].mean()\n",
    "    ymin, ymax = ax.get_ylim()\n",
    "    \n",
    "    if (col=='Indexed Return'): \n",
    "        # Plot S&P 500 returns\n",
    "        # begin 2010 -> end 2020\n",
    "        ax.plot([3.511822, 3.511822], [ymin, ymax],\\\n",
    "                color='r', linestyle='-', linewidth=1.5, alpha=1)\n",
    "        ax.plot([mean, mean], [ymin, ymax],\\\n",
    "                color='lime', linestyle='--', linewidth=1.5, alpha=1)\n",
    "        plt.xlim(0, 10)\n",
    "    \n",
    "    if (col=='Annual Volatility'): \n",
    "        # Plot S&P 500 volatility\n",
    "        # begin 2010 -> end 2020\n",
    "        ax.plot([0.325059094152396, 0.325059094152396], [ymin, ymax],\\\n",
    "                color='r', linestyle='-', linewidth=2)  \n",
    "        ax.plot([mean, mean], [ymin, ymax],\\\n",
    "                color='lime', linestyle='--', linewidth=2)  \n",
    "        plt.xlim(0, 1.5)\n",
    "    ax.legend(['Fitted Smooth Kernel','S&P500 Benchmark', \\\n",
    "               'Simulation Mean {}'.format(round(mean,2)),\\\n",
    "               'Simulation Backtests'])"
   ]
  },
  {
   "cell_type": "code",
   "execution_count": null,
   "metadata": {},
   "outputs": [],
   "source": [
    "model_file = 'pl_linear'#['pl_linear', 'pl_ElasticNet', 'pl_rfregressor', 'pl_decTree', 'pl_svm', 'pl_KNeighbors']\n",
    "plt.figure(figsize=(15,6))\n",
    "plt.subplot(1,2,1)\n",
    "plotBacktestDist(results_df, model_file, 'Indexed Return')\n",
    "plt.subplot(1,2,2)\n",
    "plotBacktestDist(results_df, model_file, 'Annual Volatility')"
   ]
  },
  {
   "cell_type": "code",
   "execution_count": null,
   "metadata": {
    "scrolled": false
   },
   "outputs": [],
   "source": [
    "#model_file = ['pl_ElasticNet','pl_decTree', 'pl_rfregressor', 'pl_svm', 'pl_KNeighbors', 'pl_GradBregressor']\n",
    "#model_file = ['pl_linear', 'pl_ElasticNet']\n",
    "#model_file = ['pl_decTree', 'pl_rfregressor', 'pl_svm']\n",
    "model_file = ['pl_KNeighbors', 'pl_GradBregressor']\n",
    "#model_file = ['pl_rfregressor']\n",
    "numPlots = len(model_file)\n",
    "plt.figure(figsize=(15,6*numPlots))\n",
    "for I in range(0, numPlots):\n",
    "    plt.subplot(numPlots,2,I*2+1)\n",
    "    plotBacktestDist(results_df, model_file[I], 'Indexed Return')\n",
    "    plt.subplot(numPlots,2,I*2+2)\n",
    "    plotBacktestDist(results_df, model_file[I], 'Annual Volatility')"
   ]
  },
  {
   "cell_type": "markdown",
   "metadata": {},
   "source": [
    "# Chosen Regressors for AI are GradBoost and KNN"
   ]
  },
  {
   "cell_type": "markdown",
   "metadata": {},
   "source": [
    "We will expect more volatility."
   ]
  },
  {
   "cell_type": "code",
   "execution_count": null,
   "metadata": {},
   "outputs": [],
   "source": [
    "# GRAPH OF RETURN VS VOLATILITY\n",
    "plt.figure(figsize=(10,5))\n",
    "\n",
    "plt.subplot(1,2,1)\n",
    "returns = results_df[results_df['Model Used']=='pl_GradBregressor']['Indexed Return']\n",
    "vols = results_df[results_df['Model Used']=='pl_GradBregressor']['Annual Volatility']\n",
    "plt.scatter(returns, vols, marker='.')\n",
    "plt.scatter(3.511822, 0.325059094152396, marker='+', color='fuchsia', s=400)\n",
    "plt.xlabel('Indexed Return')\n",
    "plt.ylabel('Annual Volatility')\n",
    "plt.grid()\n",
    "plt.legend(['Gradient Boosted Decision Tree Regressor', 'S&P500'])\n",
    "plt.title('Gradient Boost Backtest Return vs. Volatility', fontsize=14)\n",
    "\n",
    "plt.subplot(1,2,2)\n",
    "returns = results_df[results_df['Model Used']=='pl_KNeighbors']['Indexed Return']\n",
    "vols = results_df[results_df['Model Used']=='pl_KNeighbors']['Annual Volatility']\n",
    "plt.scatter(returns, vols, marker='.')\n",
    "plt.scatter(3.511822, 0.325059094152396, marker='+', color='fuchsia', s=400)\n",
    "plt.xlabel('Indexed Return')\n",
    "plt.ylabel('Annual Volatility')\n",
    "plt.grid()\n",
    "plt.legend(['K Nearest Neighbours Regressor', 'S&P500'])\n",
    "plt.title('KNN Backtest Return vs. Volatility', fontsize=14)"
   ]
  },
  {
   "cell_type": "code",
   "execution_count": null,
   "metadata": {},
   "outputs": [],
   "source": [
    "plt.figure(figsize=(14,6))\n",
    "\n",
    "plt.subplot(1,2,1)\n",
    "results_df[results_df['Model Used']=='pl_GradBregressor']['Indexed Return'].hist(bins=30,\\\n",
    "                                                density=True, alpha=0.7)\n",
    "results_df[results_df['Model Used']=='pl_KNeighbors']['Indexed Return'].hist(bins=30,\\\n",
    "                                                density=True, alpha=0.7)\n",
    "plt.plot([3.511822, 3.511822], [0, 0.35],\\\n",
    "                 color='r', linestyle='-', linewidth=1.5, alpha=1)\n",
    "plt.legend(['S&P500','Gradient Boosted Regressor', 'KNN'])\n",
    "plt.title('Backtesting Return', fontsize=14)\n",
    "plt.xlabel('Indexed Return')\n",
    "\n",
    "plt.subplot(1,2,2)\n",
    "results_df[results_df['Model Used']=='pl_GradBregressor']['Annual Volatility'].hist(bins=30,\\\n",
    "                                                density=True, alpha=0.7)\n",
    "results_df[results_df['Model Used']=='pl_KNeighbors']['Annual Volatility'].hist(bins=30,\\\n",
    "                                                density=True, alpha=0.7)\n",
    "plt.plot([0.325059094152396, 0.325059094152396], [0, 2.5],\\\n",
    "                color='r', linestyle='-', linewidth=2)  \n",
    "plt.legend(['S&P500','Gradient Boosted Regressor', 'KNN'])\n",
    "plt.title('Backtesting Volatility', fontsize=14)\n",
    "plt.xlabel('Annual Volatility')"
   ]
  },
  {
   "cell_type": "markdown",
   "metadata": {},
   "source": [
    "# Figure out what the actual performance should be"
   ]
  },
  {
   "cell_type": "code",
   "execution_count": null,
   "metadata": {
    "scrolled": true
   },
   "outputs": [],
   "source": [
    "# Choose the model pipelines to run loop for\n",
    "model_pipeline_list = ['pl_GradBregressor', 'pl_KNeighbors']\n",
    "tests_per_model=20\n",
    "\n",
    "# Reduce test size and check performance to try and see a trend\n",
    "# Is effectively *0.5 as test size is 1/2 of total data.\n",
    "#test_size_modifier_list = [0.8, 0.6, 0.4, 0.2, 0.1, 0.05 ]\n",
    "test_size_modifier_list = [0.05, 0.075]\n",
    "\n",
    "# Results DataFrame\n",
    "results_df2 = pd.DataFrame( columns=[\"Test Number\",\n",
    "                                            \"Model Used\",\\\n",
    "                                            \"Test Set Size\",\\\n",
    "                                            \"Indexed Return\",\\\n",
    "                                            \"Annual Volatility\"])\n",
    "\n",
    "i, results = 0, []\n",
    "for model in model_pipeline_list:\n",
    "    for test_size_mod in test_size_modifier_list:\n",
    "        for test_num in range(0, tests_per_model):\n",
    "            \n",
    "            X_train, X_test, y_train, y_test = \\\n",
    "            train_test_split(X, y_pec, test_size=0.5)\n",
    "            \n",
    "            new_test_size = round(len(X_test)//(1/test_size_mod))\n",
    "            \n",
    "            X_test, y_test = \\\n",
    "            X_test[:new_test_size], y_test[:new_test_size]\n",
    "            \n",
    "            if (model =='pl_KNeighbors'):\n",
    "                model_pl = trainKNeighborsModel(X_train, y_train)\n",
    "            if (model =='pl_GradBregressor'):\n",
    "                model_pl = traingbregressorModel(X_train, y_train)\n",
    "            y_withData_Test=y_withData.loc[X_test.index]\n",
    "\n",
    "            # Here is our backtesting code\n",
    "            test = getPortTimeSeries(y_withData_Test, X_test,\n",
    "                     daily_stock_prices, model_pl, \n",
    "                         verbose=False) \n",
    "            \n",
    "            perf = test['Indexed Performance'][-1]\n",
    "            \n",
    "            vol = test['Indexed Performance'].diff().std()*np.sqrt(52)\n",
    "            \n",
    "            #print('Performed test ',i , [i, model, new_test_size, perf, vol])     \n",
    "            \n",
    "            results_df2=results_df2.append(\\\n",
    "                        pd.DataFrame(\\\n",
    "                             [[i, model, new_test_size, perf, vol]],\\\n",
    "                                     columns=results_df2.keys()))      \n",
    "            i=i+1\n",
    "            \n",
    "        print('For {} test size {}, Performance: {}, Vol: {}.'.format(\\\n",
    "              model, new_test_size, \\\n",
    "            results_df2['Indexed Return'].tail(tests_per_model).mean(),\\\n",
    "            results_df2['Annual Volatility'].tail(tests_per_model).mean()))\n",
    "\n",
    "# Save our results for plotting\n",
    "results_df2.to_csv(\"Backtest_statistics_Modified_test_size.csv\")"
   ]
  },
  {
   "cell_type": "code",
   "execution_count": null,
   "metadata": {},
   "outputs": [],
   "source": [
    "test_set_size = [0.5, 0.4, 0.3, 0.2, 0.1, 0.075, 0.05]\n",
    "gradB_avgReturn = [4.23, 4.44, 3.39, 3.6, 3.29, 3.42, 3.42]\n",
    "knn_avgReturn = [4.68, 4.32, 4.49, 3.83, 3.30, 3.31, 2.85]\n",
    "\n",
    "\n",
    "plt.figure(figsize=(12,4))\n",
    "\n",
    "linFit = LinearRegression().fit(np.array(test_set_size).reshape(-1,1), np.array(gradB_avgReturn).reshape(-1,1))\n",
    "plt.subplot(1,2,1)\n",
    "plt.scatter(test_set_size, gradB_avgReturn)\n",
    "plt.xlim([0, 1])\n",
    "plt.ylim([0, 7])\n",
    "plt.title('GradBoost Decision Tree\\n Portfolio Return/Test Set Size\\n Training Set Size=0.5', fontsize=14)\n",
    "plt.grid()\n",
    "plt.ylabel('Average Indexed Return')\n",
    "plt.xlabel('Test Set Size')\n",
    "plt.plot([0,1], linFit.predict(np.array([0,1]).reshape(-1,1)),'-')\n",
    "plt.plot([0,1],[2.4, 2.4],'r--')\n",
    "plt.legend(['Projected Return','S&P500','Averaged Returns'],loc='lower right')\n",
    "\n",
    "\n",
    "linFit = LinearRegression().fit(np.array(test_set_size).reshape(-1,1), np.array(knn_avgReturn).reshape(-1,1))\n",
    "plt.subplot(1,2,2)\n",
    "plt.scatter(test_set_size, knn_avgReturn)\n",
    "plt.xlim([0, 1])\n",
    "plt.ylim([0, 7])\n",
    "plt.title('K-Nearest Neighbours\\n Portfolio Return/Test Set Size\\n Training Set Size=0.5', fontsize=14)\n",
    "plt.grid()\n",
    "plt.ylabel('Average Indexed Return')\n",
    "plt.xlabel('Test Set Size')\n",
    "plt.plot([0,1], linFit.predict(np.array([0,1]).reshape(-1,1)),'-')\n",
    "plt.plot([0,1],[2.4, 2.4],'r--')\n",
    "plt.legend(['Projected Return','S&P500','Averaged Returns'],loc='lower right')\n"
   ]
  },
  {
   "cell_type": "markdown",
   "metadata": {},
   "source": [
    "# Final Stock Selection for 2020 with Gradient Boosted Decision Tree and K Nearest Neighbours"
   ]
  },
  {
   "cell_type": "code",
   "execution_count": null,
   "metadata": {},
   "outputs": [],
   "source": [
    "def pickStockForMe(model='GBoost'):\n",
    "    '''\n",
    "    Pick stocks.\n",
    "    Reads Annual_Stock_Price_Fundamentals_Ratios.csv,\n",
    "    and Annual_Stock_Price_Performance_Percentage.csv,\n",
    "    trains the AI with the best model/parameters,\n",
    "    Then picks stocks using outputs from Notebooks 1 and 2:\n",
    "    Annual_Stock_Price_Fundamentals_Ratios_2021.csv,\n",
    "    and Tickers_Dates_2021.csv.\n",
    "    Outputs a DataFrame of best picks.\n",
    "    '''\n",
    "    # Training X and Y of all previous year data\n",
    "    X=pd.read_csv(\"Annual_Stock_Price_Fundamentals_Ratios.csv\", \n",
    "                  index_col=0)\n",
    "    # annual stock performances\n",
    "    yperf=pd.read_csv(\"Annual_Stock_Price_Performance_Percentage.csv\", \n",
    "                      index_col=0)\n",
    "    \n",
    "    yperf=yperf[\"Perf\"]\n",
    "\n",
    "    # Stock selection ratios for 2021 X\n",
    "    X_2021=pd.read_csv(\"Annual_Stock_Price_Fundamentals_Ratios_2021.csv\"\n",
    "                       , index_col=0)\n",
    "    # And the row tickers\n",
    "    tickers=pd.read_csv(\"Tickers_Dates_2021.csv\", index_col=0)\n",
    "    \n",
    "    if model == 'GBoost':\n",
    "        # Gradient Boosted tree\n",
    "        model_pl = traingbregressorModel(X, yperf)\n",
    "        y_pred=model_pl.predict(X_2021)\n",
    "        y_pred=pd.DataFrame(y_pred)\n",
    "    \n",
    "    elif model == 'KNN':\n",
    "        # KNN\n",
    "        model_pl = trainKNeighborsModel(X, yperf)\n",
    "        y_pred=model_pl.predict(X_2021)\n",
    "        y_pred=pd.DataFrame(y_pred)\n",
    "    \n",
    "    else:\n",
    "        return None\n",
    "\n",
    "    # FINAL STOCK PICKS\n",
    "    # Separate out stocks with low Z scores\n",
    "    # 3.75 is approx. B- rating\n",
    "    z = calcZScores(X_2021)\n",
    "    zbl = (z['Z score'].reset_index(drop=True) > 2) \n",
    "\n",
    "    Final_Predictions = pd.DataFrame()\n",
    "    Final_Predictions[['Ticker','Report Date']] = \\\n",
    "    tickers[['Ticker','Date']].reset_index(drop=True)\\\n",
    "                               [zbl].reset_index(drop=True)\n",
    "    \n",
    "    Final_Predictions['Perf. Score'] = y_pred.reset_index(drop=True)\\\n",
    "                                       [zbl].reset_index(drop=True)\n",
    "\n",
    "    return Final_Predictions.sort_values(by='Perf. Score', \n",
    "                                         ascending=False)\\\n",
    "                                    .reset_index(drop=True).head(20)"
   ]
  },
  {
   "cell_type": "code",
   "execution_count": null,
   "metadata": {},
   "outputs": [],
   "source": [
    "# What it's all about.\n",
    "pickStockForMe()"
   ]
  },
  {
   "cell_type": "code",
   "execution_count": null,
   "metadata": {},
   "outputs": [],
   "source": [
    "pickStockForMe('KNN')"
   ]
  },
  {
   "cell_type": "code",
   "execution_count": null,
   "metadata": {},
   "outputs": [],
   "source": []
  }
 ],
 "metadata": {
  "kernelspec": {
   "display_name": "Python 3 (ipykernel)",
   "language": "python",
   "name": "python3"
  },
  "language_info": {
   "codemirror_mode": {
    "name": "ipython",
    "version": 3
   },
   "file_extension": ".py",
   "mimetype": "text/x-python",
   "name": "python",
   "nbconvert_exporter": "python",
   "pygments_lexer": "ipython3",
   "version": "3.9.7"
  }
 },
 "nbformat": 4,
 "nbformat_minor": 4
}
