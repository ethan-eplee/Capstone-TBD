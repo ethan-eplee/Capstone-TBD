{
 "cells": [
  {
   "cell_type": "code",
   "execution_count": 40,
   "metadata": {},
   "outputs": [
    {
     "name": "stdout",
     "output_type": "stream",
     "text": [
      "The autotime extension is already loaded. To reload it, use:\n",
      "  %reload_ext autotime\n",
      "time: 0 ns (started: 2022-10-12 12:32:12 +08:00)\n"
     ]
    }
   ],
   "source": [
    "%load_ext autotime\n",
    "import pandas as pd\n",
    "import numpy as np\n",
    "import matplotlib.pyplot as plt\n",
    "import seaborn as sns\n",
    "\n",
    "import pickle\n",
    "import time\n",
    "import simfin as sf\n",
    "\n",
    "from sklearn.model_selection import train_test_split\n",
    "from sklearn.model_selection import learning_curve\n",
    "from sklearn.model_selection import ShuffleSplit\n",
    "\n",
    "from sklearn.linear_model import LinearRegression\n",
    "from sklearn.linear_model import ElasticNet\n",
    "\n",
    "from sklearn.neighbors import KNeighborsRegressor\n",
    "from sklearn.tree import DecisionTreeRegressor\n",
    "from sklearn.ensemble import RandomForestRegressor\n",
    "from sklearn.ensemble import GradientBoostingRegressor\n",
    "from sklearn.svm import SVR\n",
    "\n",
    "from sklearn.preprocessing import PowerTransformer\n",
    "from sklearn.preprocessing import StandardScaler\n",
    "from sklearn.pipeline import Pipeline\n",
    "from sklearn.metrics import mean_squared_error"
   ]
  },
  {
   "cell_type": "code",
   "execution_count": 2,
   "metadata": {},
   "outputs": [
    {
     "name": "stdout",
     "output_type": "stream",
     "text": [
      "time: 0 ns (started: 2022-10-12 09:56:56 +08:00)\n"
     ]
    }
   ],
   "source": [
    "# Set the plotting DPI settings to be a bit higher.\n",
    "plt.rcParams['figure.figsize'] = [7.0, 4.5]\n",
    "plt.rcParams['figure.dpi'] = 150"
   ]
  },
  {
   "cell_type": "code",
   "execution_count": 47,
   "metadata": {},
   "outputs": [
    {
     "name": "stdout",
     "output_type": "stream",
     "text": [
      "time: 125 ms (started: 2022-10-12 13:01:48 +08:00)\n"
     ]
    }
   ],
   "source": [
    "# Read in stock price fundamental ratios (29,650 rows)\n",
    "X = pickle.load(open('./data/03_finratios.pkl', 'rb'))\n",
    "\n",
    "# Read in annual performance (29,650 rows)\n",
    "y = pickle.load(open('./data/03_returns.pkl', 'rb'))\n",
    "y = y['Returns']\n",
    "\n",
    "# Read in annual prices (29,650 rows)\n",
    "y_withdata = pickle.load(open('./data/02_pricedata.pkl', 'rb'))\n",
    "\n",
    "# Convert to date\n",
    "y_withdata[\"Date1\"] = pd.to_datetime(y_withdata[\"Date1\"])\n",
    "y_withdata[\"Date2\"] = pd.to_datetime(y_withdata[\"Date2\"])\n",
    "\n",
    "# X and Y Train and Test sets(splitting for train/test done previously for trained model)\n",
    "X_train = pd.read_csv(\"./data/04_ratios_train.csv\", index_col=0)\n",
    "X_test = pd.read_csv(\"./data/04_ratios_test.csv\", index_col=0)\n",
    "y_train = pd.read_csv(\"./data/04_returns_train.csv\", index_col=0)\n",
    "y_test = pd.read_csv(\"./data/04_returns_test.csv\", index_col=0)\n",
    "\n",
    "# Get y_withdata to correspond to y_test (subset of y_test)\n",
    "y_test_withdata = y_withdata.loc[y_test.index, :]\n",
    "\n",
    "# Convert string to datetime\n",
    "y_test_withdata[\"Date1\"] = pd.to_datetime(y_test_withdata[\"Date1\"])\n",
    "y_test_withdata[\"Date2\"] = pd.to_datetime(y_test_withdata[\"Date2\"])"
   ]
  },
  {
   "cell_type": "code",
   "execution_count": 28,
   "metadata": {},
   "outputs": [
    {
     "name": "stdout",
     "output_type": "stream",
     "text": [
      "Dataset \"us-shareprices-daily\" on disk (4 days old).\n",
      "- Loading from disk ... Done!\n",
      "time: 9.86 s (started: 2022-10-12 12:23:58 +08:00)\n"
     ]
    }
   ],
   "source": [
    "# Set your SimFin+ API-key for downloading data.\n",
    "sf.set_api_key('nYdjeL237mt7QaQ4OZTaPa4Xn3YECrTH')\n",
    "\n",
    "# Set the local directory where data-files are stored.\n",
    "# The directory will be created if it does not already exist.\n",
    "sf.set_data_dir('~/simfin_data/')\n",
    "\n",
    "# Download the data from the SimFin server and load into a Pandas DataFrame.\n",
    "df_prices = sf.load_shareprices(variant='daily', market='us')\n",
    "df_prices.reset_index(inplace=True)"
   ]
  },
  {
   "cell_type": "code",
   "execution_count": 30,
   "metadata": {
    "scrolled": true
   },
   "outputs": [
    {
     "name": "stdout",
     "output_type": "stream",
     "text": [
      "(29650, 18)\n",
      "(29650,)\n",
      "(29650, 7)\n",
      "(23720, 18)\n",
      "(5930, 18)\n",
      "(23720, 1)\n",
      "(5930, 1)\n",
      "(5930, 7)\n",
      "(3172869, 11)\n",
      "time: 0 ns (started: 2022-10-12 12:24:22 +08:00)\n"
     ]
    }
   ],
   "source": [
    "# printing out the shapes just to check that we read in the files correctly\n",
    "print(X.shape)\n",
    "print(y.shape)\n",
    "print(y_withdata.shape)\n",
    "\n",
    "print(X_train.shape)\n",
    "print(X_test.shape)\n",
    "print(y_train.shape)\n",
    "print(y_test.shape)\n",
    "\n",
    "print(y_test_withdata.shape)\n",
    "print(df_prices.shape)"
   ]
  },
  {
   "cell_type": "markdown",
   "metadata": {},
   "source": [
    "# Define functions for use in the backtest"
   ]
  },
  {
   "cell_type": "markdown",
   "metadata": {},
   "source": [
    "### Here are the smaller functions to be used in the bigger time series function"
   ]
  },
  {
   "cell_type": "code",
   "execution_count": 32,
   "metadata": {},
   "outputs": [
    {
     "name": "stdout",
     "output_type": "stream",
     "text": [
      "time: 0 ns (started: 2022-10-12 12:26:31 +08:00)\n"
     ]
    }
   ],
   "source": [
    "# Calculate the Altman Z Score\n",
    "def calcZScores(X):\n",
    "    Z = pd.DataFrame()\n",
    "    Z['Z score'] = 3.25 \\\n",
    "    + 6.51 * X['WC_TA']\\\n",
    "    + 3.26 * X['RE_TA']\\\n",
    "    + 6.72 * X['EBIT_TA']\\\n",
    "    + 1.05 * X['Equity_Liab']\n",
    "    return Z\n",
    "\n",
    "\n",
    "# Get only the tickers and annual performance from price data\n",
    "def getYPerf(y1):\n",
    "    y2=pd.DataFrame()\n",
    "    y2[\"Ticker\"] = y1[\"Ticker\"]\n",
    "    y2[\"Perf\"] = (y1[\"Open2\"]-y1[\"Open1\"])/y1[\"Open1\"]\n",
    "    \n",
    "    # Any row that performance cannot be calculated to be filled with zeros\n",
    "    y2[y2[\"Perf\"].isnull()]=0\n",
    "    return y2\n",
    "\n",
    "\n",
    "# To get the stock price between 2 dates for a particular ticker\n",
    "def getStockPriceBetweenDates(date1, date2, ticker, df_prices):\n",
    "    rows = df_prices.loc[(df_prices[\"Date\"]>date1) & \n",
    "                         (df_prices[\"Date\"]<date2) & \n",
    "                         (df_prices[\"Ticker\"]==ticker)]\n",
    "    return rows\n",
    "\n",
    "\n",
    "# Get stock prices based on a mask filter\n",
    "def getStockPriceData(ticker, y, mask, dailystock_prices):\n",
    "    date1 = y[mask][y[mask][\"Ticker\"] == ticker][\"Date1\"].values[0]\n",
    "    date2 = y[mask][y[mask][\"Ticker\"] == ticker][\"Date2\"].values[0]\n",
    "    rows = getStockPriceBetweenDates(date1, date2, ticker, dailystock_prices)\n",
    "    return rows\n",
    "\n",
    "\n",
    "# Weekly date index is the weekly dates and rows are the stock price data\n",
    "def getDataForDateRange(weekly_date_index, rows):\n",
    "   \n",
    "    # Create an empty dataframe to store the weekly stock data later\n",
    "    WeeklyStockDataRows = pd.DataFrame()\n",
    "\n",
    "    for i in weekly_date_index:\n",
    "        WeeklyStockDataRows = WeeklyStockDataRows.append\\\n",
    "        (rows.iloc[rows.index.get_loc(i, method=\"nearest\")])\n",
    "    \n",
    "    return WeeklyStockDataRows\n",
    "\n",
    "\n",
    "# Returns the rows from df_prices of the stocks and years that we want\n",
    "# Get stock price a time series Dataframe for list of tickers\n",
    "# Index is usually weekly, so we know what price info to extract\n",
    "def getStockTimeSeries(dateTimeIndex, y_withData, tickers_list, mask, df_prices):\n",
    "\n",
    "    # Empty dateframe to record weekly stock returns\n",
    "    stockReturns = pd.DataFrame(index=dateTimeIndex)\n",
    "    \n",
    "    # Change Date Format of weekly date time index\n",
    "    weekly_dti = dateTimeIndex.strftime('%Y-%m-%d')\n",
    "    rows = pd.DataFrame()\n",
    "    \n",
    "    for tick in tickers_list:\n",
    "        # Rows is stock price time series data for individual stock\n",
    "        rows = getStockPriceData(tick, y_withData, mask, df_prices)\n",
    "        \n",
    "        # Change the index of the time series data to be the \"Date\"\n",
    "        rows.index = pd.DatetimeIndex(rows[\"Date\"])\n",
    "\n",
    "        # Gets our stock price data to be in a weekly format, using the closest day if the data for a day we want is missing.\n",
    "        WeeklyStockDataRows = getDataForDateRange(weekly_dti, rows)\n",
    "\n",
    "        # We can choose to use Open, Close, or Adj Close\n",
    "        stockReturns[tick] = WeeklyStockDataRows[\"Close\"].values\n",
    "        \n",
    "    return stockReturns\n",
    "\n",
    "\n",
    "# Takes the dataframe of stock returns (from previous function), one column per stock\n",
    "# Price at the start is 1, all other values after is the relative performance\n",
    "# Adds a column \"PortValue\" to record the portfolio value\n",
    "def getPortfolioRelativeTimeSeries(stockReturns):\n",
    "    \n",
    "    for tick in stockReturns.columns:\n",
    "        stockReturns[tick] = stockReturns[tick]/stockReturns[tick][0]\n",
    "            \n",
    "    # Because it is equally weighted, we take the sum of the returns divide by number of tickers\n",
    "    stockReturns[\"PortValue\"] = stockReturns.sum(axis=1)/(stockReturns.columns.shape[0])\n",
    "    return stockReturns"
   ]
  },
  {
   "cell_type": "markdown",
   "metadata": {},
   "source": [
    "### Below are the two bigger functions to get the time series for the year and to do the backtest"
   ]
  },
  {
   "cell_type": "code",
   "execution_count": null,
   "metadata": {},
   "outputs": [],
   "source": []
  },
  {
   "cell_type": "code",
   "execution_count": 85,
   "metadata": {},
   "outputs": [
    {
     "name": "stdout",
     "output_type": "stream",
     "text": [
      "time: 0 ns (started: 2022-10-12 15:44:20 +08:00)\n"
     ]
    }
   ],
   "source": [
    "# This function runs a backtest and returns the selected stocks performance for 1 year (from start of year)\n",
    "# df_prices is daily(mostly) stock price time series for all stocks\n",
    "\n",
    "def getPortTimeSeriesForYear(datestart, y_withData, X, df_prices, model):\n",
    "\n",
    "    # Get y dataframe with ticker and ticker performance only\n",
    "    # Those with null values, will just fill up with zeros for tickers and returns\n",
    "    y = getYPerf(y_withData)\n",
    "    \n",
    "    # For this year, we want to predict on stocks which reported 2 months before start of year up to Oct.\n",
    "    # Time period Oct to Oct\n",
    "    thisYearMask = y_withData[\"Date1\"].between(pd.to_datetime(datestart) - pd.Timedelta(days=60),\\\n",
    "                                               pd.to_datetime(datestart) + pd.Timedelta(days=300))\n",
    "    \n",
    "    # Get return prediction from model\n",
    "    y_pred = model.predict(X[thisYearMask])\n",
    "    \n",
    "    # Make it a DataFrame so we can select the top predictions\n",
    "    y_pred = pd.DataFrame(y_pred, dtype=float)\n",
    "    \n",
    "    # z returns a df of all the zscores, we want to separate out stocks with low Z scores\n",
    "    # Score of 3.75 is about same as B- rating. We try with a score about 2 first.\n",
    "    z = calcZScores(X)\n",
    "    mask_safestocks=(z['Z score'][thisYearMask].reset_index(drop=True)> 2) \n",
    "    y_pred_z = y_pred[mask_safestocks]\n",
    "    \n",
    "    \n",
    "    # Create a mask to find the list of top 10 stocks with highest predicted performance\n",
    "    # Essentially, which are the returns that are higher than the 11th largest value.\n",
    "    top10mask = (y_pred_z[0]> y_pred_z.nlargest(11,0).tail(1)[0].values[0]) \n",
    "    \n",
    "    # Weekly Date Index\n",
    "    weeklyDateIndex = pd.date_range(start=datestart, periods=52, freq='W')\n",
    "\n",
    "    # 10 best performing stocks of the predictions \n",
    "    ticker_list = y[thisYearMask].reset_index(drop=True)[top10mask & mask_safestocks][\"Ticker\"].values\n",
    "    \n",
    "    # Issue with one of the tickers equaling 0, fix with lambda function\n",
    "    ticker_list = list(filter(lambda weeklyDateIndex: weeklyDateIndex != 0, ticker_list))\n",
    "\n",
    "    # After we have our 10 stock picks, we want to find the stock prices and performances\n",
    "    # Returns dataFrame of the time, tickers as the column keys and stocks prices\n",
    "    stockReturns = getStockTimeSeries(weeklyDateIndex, y_withData, ticker_list, thisYearMask, df_prices)\n",
    "    \n",
    "    # Transform the stock prices above into relative returns\n",
    "    stockReturnsRel = getPortfolioRelativeTimeSeries(stockReturns)\n",
    "    \n",
    "    # Returns the relative performance dataframe, the cumulative portfolio perf, and the ticker list of top 10 stocks\n",
    "    return [stockReturnsRel, stockReturnsRel[\"PortValue\"], ticker_list]"
   ]
  },
  {
   "cell_type": "code",
   "execution_count": 36,
   "metadata": {},
   "outputs": [
    {
     "name": "stdout",
     "output_type": "stream",
     "text": [
      "time: 0 ns (started: 2022-10-12 12:28:05 +08:00)\n"
     ]
    }
   ],
   "source": [
    "def getPortTimeSeries(y_withData, X, df_prices, model, verbose=True):\n",
    "\n",
    "    # Set date range to make stock picks over (2016 to 2020)\n",
    "    date_range = pd.date_range(start='2017-01-01', periods=4, freq='AS')\n",
    "    \n",
    "    # For each date in the date_range, make stock selections\n",
    "    # and plot the return results of those stock selections\n",
    "    port_perf_all_years = pd.DataFrame()\n",
    "    \n",
    "    perfRef=1 # Performance starts at 1.\n",
    "    \n",
    "    for curr_date in date_range:\n",
    "        \n",
    "        # Refer to function 6\n",
    "        # Will give us a relative performance dataframe, cumulative portfolio perf, and top10 ticker list\n",
    "        [comp, this_year_perf, ticker_list] = getPortTimeSeriesForYear(curr_date, y_withData, X, df_prices, model)\n",
    "        \n",
    "        # For we want text output, set verbose=True\n",
    "        if verbose: \n",
    "            # Returns the last date performance of that particular year\n",
    "            print(\"Backtest performance for year starting \", curr_date, \" is:\",\\\n",
    "                  round((this_year_perf.iloc[-1]-1)*100, 2), \"%\")\n",
    "            print(\"With these top 10 stocks:\", ticker_list, '\\n')\n",
    "        \n",
    "            for tick in ticker_list:\n",
    "                print(tick, \"Performance was:\", round((comp[tick].iloc[-1]-1)*100,2), \"%\" )\n",
    "            print(\"---------------------------------------------\")\n",
    "        \n",
    "        # Append performance for every year together\n",
    "        this_year_perf = this_year_perf * perfRef\n",
    "        port_perf_all_years = pd.concat([port_perf_all_years, this_year_perf])\n",
    "        \n",
    "        # Update perfRef to be the last value of this year's relative performance\n",
    "        perfRef = this_year_perf.iloc[-1]\n",
    "\n",
    "    # Return portfolio performance for all years\n",
    "    port_perf_all_years.columns = [\"Indexed Performance\"]\n",
    "        \n",
    "    return port_perf_all_years"
   ]
  },
  {
   "cell_type": "markdown",
   "metadata": {},
   "source": [
    "# Try out a single backtest model from 2017 to 2020"
   ]
  },
  {
   "cell_type": "code",
   "execution_count": 37,
   "metadata": {},
   "outputs": [
    {
     "name": "stdout",
     "output_type": "stream",
     "text": [
      "time: 16 ms (started: 2022-10-12 12:28:31 +08:00)\n"
     ]
    }
   ],
   "source": [
    "# Read in the RandomForest algorithm saved earlier\n",
    "rf = pickle.load(open(\"rf_regressor.p\", \"rb\" ))"
   ]
  },
  {
   "cell_type": "code",
   "execution_count": 68,
   "metadata": {
    "scrolled": false
   },
   "outputs": [
    {
     "name": "stdout",
     "output_type": "stream",
     "text": [
      "Backtest performance for year starting  2017-01-01 00:00:00  is: 95.42 %\n",
      "With these top 10 stocks: ['SKY', 'MACK', 'JAN', 'ADVM', 'VRS', 'MEIP', 'ECYT', 'VRS', 'MRTX', 'CVSI'] \n",
      "\n",
      "SKY Performance was: 115.19 %\n",
      "MACK Performance was: -19.36 %\n",
      "JAN Performance was: -5.71 %\n",
      "ADVM Performance was: 38.0 %\n",
      "VRS Performance was: 181.4 %\n",
      "MEIP Performance was: 45.71 %\n",
      "ECYT Performance was: 195.97 %\n",
      "VRS Performance was: 181.4 %\n",
      "MRTX Performance was: 255.88 %\n",
      "CVSI Performance was: 51.72 %\n",
      "---------------------------------------------\n",
      "Backtest performance for year starting  2018-01-01 00:00:00  is: 22.24 %\n",
      "With these top 10 stocks: ['LCI', 'DDE', 'BKS', 'AHPI', 'CVSI', 'ENG', 'SKY', 'BRS', 'ORGO', 'PAYS'] \n",
      "\n",
      "LCI Performance was: 5.08 %\n",
      "DDE Performance was: 150.0 %\n",
      "BKS Performance was: 47.71 %\n",
      "AHPI Performance was: -10.43 %\n",
      "CVSI Performance was: 169.37 %\n",
      "ENG Performance was: -54.4 %\n",
      "SKY Performance was: -49.62 %\n",
      "BRS Performance was: -79.34 %\n",
      "ORGO Performance was: 0.3 %\n",
      "PAYS Performance was: 43.67 %\n",
      "---------------------------------------------\n",
      "Backtest performance for year starting  2019-01-01 00:00:00  is: 30.08 %\n",
      "With these top 10 stocks: ['KSPN', 'ISEE', 'NLS', 'CODX', 'SPRT', 'ISEE', 'TWST', 'JAN', 'RAIL', 'KIRK'] \n",
      "\n",
      "KSPN Performance was: -69.51 %\n",
      "ISEE Performance was: 537.01 %\n",
      "NLS Performance was: -84.99 %\n",
      "CODX Performance was: -8.91 %\n",
      "SPRT Performance was: -28.21 %\n",
      "ISEE Performance was: 537.01 %\n",
      "TWST Performance was: -22.25 %\n",
      "JAN Performance was: 27.56 %\n",
      "RAIL Performance was: -55.6 %\n",
      "KIRK Performance was: -24.39 %\n",
      "---------------------------------------------\n",
      "Backtest performance for year starting  2020-01-01 00:00:00  is: 289.64 %\n",
      "With these top 10 stocks: ['PVAC', 'CVNA', 'SLCA', 'CELH', 'CZR', 'IDT', 'OVV', 'AGNC', 'MNK', 'CWH'] \n",
      "\n",
      "PVAC Performance was: 361.5 %\n",
      "CVNA Performance was: 397.41 %\n",
      "SLCA Performance was: 349.03 %\n",
      "CELH Performance was: 826.55 %\n",
      "CZR Performance was: 529.94 %\n",
      "IDT Performance was: 92.53 %\n",
      "OVV Performance was: 422.18 %\n",
      "AGNC Performance was: 12.52 %\n",
      "MNK Performance was: -84.97 %\n",
      "CWH Performance was: -10.29 %\n",
      "---------------------------------------------\n",
      "Cumulative Performance is:  1110.7144374933073 %\n",
      "time: 12.6 s (started: 2022-10-12 15:20:57 +08:00)\n"
     ]
    }
   ],
   "source": [
    "backTest = getPortTimeSeries(y_test_withdata, X_test, df_prices, rf)\n",
    "\n",
    "# Final print to find the cumulative performance\n",
    "print('Cumulative Performance is: ', 100 * (backTest[\"Indexed Performance\"][-1]-1), '%')"
   ]
  },
  {
   "cell_type": "code",
   "execution_count": 69,
   "metadata": {},
   "outputs": [
    {
     "data": {
      "image/png": "[encoded data removed]",
      "text/plain": [
       "<Figure size 1050x675 with 1 Axes>"
      ]
     },
     "metadata": {
      "needs_background": "light"
     },
     "output_type": "display_data"
    },
    {
     "name": "stdout",
     "output_type": "stream",
     "text": [
      "time: 172 ms (started: 2022-10-12 15:21:16 +08:00)\n"
     ]
    }
   ],
   "source": [
    "# We see that the biggest gains happened in 2020.\n",
    "backTest.plot()\n",
    "plt.grid(axis='y')"
   ]
  },
  {
   "cell_type": "markdown",
   "metadata": {},
   "source": [
    "# Now loop through model tests and get some statistics to work with."
   ]
  },
  {
   "cell_type": "markdown",
   "metadata": {},
   "source": [
    "### Create the different model pipelines"
   ]
  },
  {
   "cell_type": "code",
   "execution_count": 41,
   "metadata": {},
   "outputs": [
    {
     "name": "stdout",
     "output_type": "stream",
     "text": [
      "time: 0 ns (started: 2022-10-12 12:51:13 +08:00)\n"
     ]
    }
   ],
   "source": [
    "# Linear model pipeline\n",
    "def trainLinearModel(X_train, y_train):\n",
    "    pl_linear = Pipeline([('Power Transformer', PowerTransformer()),\n",
    "                          ('linear', LinearRegression())])\n",
    "    pl_linear.fit(X_train, y_train)\n",
    "    return pl_linear\n",
    "\n",
    "# ElasticNet/Ridge model pipeline\n",
    "def trainElasticNetModel(X_train, y_train):\n",
    "    pl_ElasticNet = Pipeline([('Power Transformer', PowerTransformer()),\n",
    "                              ('ElasticNet', ElasticNet(l1_ratio=0.00001))])\n",
    "    pl_ElasticNet.fit(X_train, y_train)\n",
    "    return pl_ElasticNet\n",
    "\n",
    "# KNeighbors regressor\n",
    "def trainKNeighborsModel(X_train, y_train):\n",
    "    pl_KNeighbors = Pipeline([('Power Transformer', PowerTransformer()),\n",
    "                              ('KNeighborsRegressor', KNeighborsRegressor(n_neighbors=40))])\n",
    "    pl_KNeighbors.fit(X_train, y_train)\n",
    "    return pl_KNeighbors\n",
    "\n",
    "# DecisionTreeRegressor\n",
    "def traindecTreeModel(X_train, y_train):\n",
    "    pl_decTree = Pipeline([\n",
    "        ('DecisionTreeRegressor',\\\n",
    "         DecisionTreeRegressor(max_depth=20, random_state=42))])\n",
    "    pl_decTree.fit(X_train, y_train)\n",
    "    return pl_decTree\n",
    "\n",
    "# RandomForestRegressor\n",
    "def trainrfregressorModel(X_train, y_train):\n",
    "    pl_rfregressor = Pipeline([\n",
    "        ('RandomForestRegressor',\\\n",
    "         RandomForestRegressor(max_depth=10, random_state=42))])\n",
    "    pl_rfregressor.fit(X_train, y_train)   \n",
    "    return pl_rfregressor\n",
    "\n",
    "# GradientBoostingRegressor\n",
    "def traingbregressorModel(X_train, y_train):\n",
    "    pl_GradBregressor = Pipeline([\n",
    "        ('GradBoostRegressor',\\\n",
    "         GradientBoostingRegressor(n_estimators=100, learning_rate=0.1,\\\n",
    "                                   max_depth=10, random_state=42, loss='squared_error'))])\n",
    "    pl_GradBregressor.fit(X_train, y_train)\n",
    "    return pl_GradBregressor\n",
    "\n",
    "# # SVM\n",
    "# def trainsvmModel(X_train, y_train):\n",
    "#     pl_svm = Pipeline([('Power Transformer', PowerTransformer()),\n",
    "#                        ('SVR', SVR(kernel='rbf', C=100, gamma=0.1, epsilon=.1))])\n",
    "#     pl_svm.fit(X_train, y_train)\n",
    "#     return pl_svm"
   ]
  },
  {
   "cell_type": "markdown",
   "metadata": {},
   "source": [
    "## Testing with all the algorithms to see which training size makes sense (0.5 seems ok)"
   ]
  },
  {
   "cell_type": "code",
   "execution_count": 50,
   "metadata": {
    "scrolled": false
   },
   "outputs": [
    {
     "name": "stdout",
     "output_type": "stream",
     "text": [
      "Performance: 1.576 Annual Volatility: 0.315 Test size:  0.1 Model: pl_linear\n",
      "Performance: 1.603 Annual Volatility: 0.304 Test size:  0.2 Model: pl_linear\n",
      "Performance: 2.087 Annual Volatility: 0.341 Test size:  0.3 Model: pl_linear\n",
      "Performance: 1.491 Annual Volatility: 0.299 Test size:  0.4 Model: pl_linear\n",
      "Performance: 1.704 Annual Volatility: 0.33 Test size:  0.5 Model: pl_linear\n",
      "\n",
      "\n",
      "Performance: 1.589 Annual Volatility: 0.313 Test size:  0.1 Model: pl_KNeighbors\n",
      "Performance: 1.641 Annual Volatility: 0.295 Test size:  0.2 Model: pl_KNeighbors\n",
      "Performance: 1.64 Annual Volatility: 0.324 Test size:  0.3 Model: pl_KNeighbors\n",
      "Performance: 1.817 Annual Volatility: 0.363 Test size:  0.4 Model: pl_KNeighbors\n",
      "Performance: 1.872 Annual Volatility: 0.333 Test size:  0.5 Model: pl_KNeighbors\n",
      "\n",
      "\n",
      "Performance: 1.552 Annual Volatility: 0.31 Test size:  0.1 Model: pl_decTree\n",
      "Performance: 1.416 Annual Volatility: 0.295 Test size:  0.2 Model: pl_decTree\n",
      "Performance: 1.379 Annual Volatility: 0.269 Test size:  0.3 Model: pl_decTree\n",
      "Performance: 1.689 Annual Volatility: 0.294 Test size:  0.4 Model: pl_decTree\n",
      "Performance: 1.462 Annual Volatility: 0.293 Test size:  0.5 Model: pl_decTree\n",
      "\n",
      "\n",
      "Performance: 27.831 Annual Volatility: 5.469 Test size:  0.1 Model: pl_GradBregressor\n",
      "Performance: 20.284 Annual Volatility: 4.325 Test size:  0.2 Model: pl_GradBregressor\n",
      "Performance: 23.338 Annual Volatility: 4.382 Test size:  0.3 Model: pl_GradBregressor\n",
      "Performance: 20.207 Annual Volatility: 4.529 Test size:  0.4 Model: pl_GradBregressor\n",
      "Performance: 12.595 Annual Volatility: 2.985 Test size:  0.5 Model: pl_GradBregressor\n",
      "\n",
      "\n",
      "Performance: 1.509 Annual Volatility: 0.31 Test size:  0.1 Model: pl_rfregressor\n",
      "Performance: 1.527 Annual Volatility: 0.302 Test size:  0.2 Model: pl_rfregressor\n",
      "Performance: 1.8 Annual Volatility: 0.311 Test size:  0.3 Model: pl_rfregressor\n",
      "Performance: 1.14 Annual Volatility: 0.22 Test size:  0.4 Model: pl_rfregressor\n",
      "Performance: 1.529 Annual Volatility: 0.295 Test size:  0.5 Model: pl_rfregressor\n",
      "\n",
      "\n",
      "Performance: 1.31 Annual Volatility: 0.274 Test size:  0.1 Model: pl_ElasticNet\n",
      "Performance: 1.44 Annual Volatility: 0.297 Test size:  0.2 Model: pl_ElasticNet\n",
      "Performance: 1.559 Annual Volatility: 0.311 Test size:  0.3 Model: pl_ElasticNet\n",
      "Performance: 1.867 Annual Volatility: 0.314 Test size:  0.4 Model: pl_ElasticNet\n",
      "Performance: 1.95 Annual Volatility: 0.344 Test size:  0.5 Model: pl_ElasticNet\n",
      "\n",
      "\n",
      "time: 10min 55s (started: 2022-10-12 14:02:08 +08:00)\n"
     ]
    }
   ],
   "source": [
    "# Build a list of all the model pipelines\n",
    "model_pipeline_list = ['pl_linear', 'pl_KNeighbors', 'pl_decTree',\\\n",
    "                       'pl_GradBregressor', 'pl_rfregressor', 'pl_ElasticNet']\n",
    "\n",
    "# Here we want to test the performance and volatility of each model and test size.\n",
    "for model in model_pipeline_list:\n",
    "    for myTestSize in [0.1, 0.2, 0.3, 0.4, 0.5]:\n",
    "        \n",
    "        X_train1, X_test1, y_train1, y_test1 = train_test_split(X, y, test_size=myTestSize)\n",
    "        \n",
    "        # define the model_pl to be used in the backtest\n",
    "        if (model =='pl_ElasticNet'):\n",
    "            model_pl = trainElasticNetModel(X_train1, y_train1)\n",
    "        if (model =='pl_KNeighbors'):\n",
    "            model_pl = trainKNeighborsModel(X_train1, y_train1)\n",
    "        if (model =='pl_decTree'):\n",
    "            model_pl = traindecTreeModel(X_train1, y_train1)\n",
    "        if (model =='pl_rfregressor'):\n",
    "            model_pl = trainrfregressorModel(X_train1, y_train1)\n",
    "        if (model =='pl_GradBregressor'):\n",
    "            model_pl = traingbregressorModel(X_train1, y_train1)\n",
    "        else:\n",
    "            # Linear model default\n",
    "            model_pl = trainLinearModel(X_train1, y_train1) \n",
    "        \n",
    "        # Do the backtest\n",
    "        backTest = getPortTimeSeries(y_test_withdata, X_test1, df_prices, model_pl, verbose=False)\n",
    "        \n",
    "        # Find the cumulative performance of the backtest\n",
    "        perf = backTest['Indexed Performance'][-1]\n",
    "        \n",
    "        # Find the volatility of the backtest\n",
    "        vol = backTest['Indexed Performance'].diff().std()*np.sqrt(52)\n",
    "        \n",
    "        print('Performance:', round(perf, 3), 'Annual Volatility:', round(vol, 3), \n",
    "              'Test size: ', myTestSize, 'Model:', model)\n",
    "    print('\\n') "
   ]
  },
  {
   "cell_type": "markdown",
   "metadata": {},
   "source": [
    "### Running all the models to get out some portfolios, each algorithm 10 runs"
   ]
  },
  {
   "cell_type": "code",
   "execution_count": 66,
   "metadata": {},
   "outputs": [
    {
     "name": "stdout",
     "output_type": "stream",
     "text": [
      "time: 0 ns (started: 2022-10-12 15:18:00 +08:00)\n"
     ]
    }
   ],
   "source": [
    "def getResultsForModel(model_pipeline_list, runs_per_model=10, verbose=True):\n",
    "    \n",
    "    i, results = 0, []\n",
    "    for model in model_pipeline_list:\n",
    "        for test_num in range(0, runs_per_model):\n",
    "            X_train, X_test, y_train, y_test = train_test_split(X, y, test_size=0.5)\n",
    "            \n",
    "            #Train different models\n",
    "            if (model =='pl_linear'):\n",
    "                model_pl = trainLinearModel(X_train, y_train)\n",
    "            if (model =='pl_ElasticNet'):\n",
    "                model_pl = trainElasticNetModel(X_train, y_train)\n",
    "            if (model =='pl_KNeighbors'):\n",
    "                model_pl = trainKNeighborsModel(X_train, y_train)\n",
    "            if (model =='pl_rfregressor'):\n",
    "                model_pl = trainrfregressorModel(X_train, y_train)\n",
    "            if (model =='pl_decTree'):\n",
    "                model_pl = traindecTreeModel(X_train, y_train)\n",
    "            if (model =='pl_GradBregressor'):\n",
    "                model_pl = traingbregressorModel(X_train, y_train)\n",
    "\n",
    "            y_test_withdata = y_withdata.loc[X_test.index]\n",
    "            \n",
    "            # Here is our backtesting code\n",
    "            test = getPortTimeSeries(y_test_withdata, X_test, df_prices, model_pl, verbose=False) \n",
    "        \n",
    "            perf = test['Indexed Performance'][-1]\n",
    "            vol = test['Indexed Performance'].diff().std()*np.sqrt(52)\n",
    "            \n",
    "            if verbose:\n",
    "                print('Performed test ', i , [i, model, perf, vol])\n",
    "            results.append([i, model, perf, vol])\n",
    "            i += 1\n",
    "\n",
    "    # Save our results for plotting\n",
    "    results_df = pd.DataFrame(results, columns=[\"Test Number\",\\\n",
    "                                                \"Model Used\",\\\n",
    "                                                \"Indexed Return\",\\\n",
    "                                                \"Annual Volatility\"])\n",
    "\n",
    "    # Append to an existing results file if available, else make new results file.\n",
    "    import os\n",
    "    if os.path.isfile(\"Backtest_statistics.csv\"):\n",
    "        results_df.to_csv(\"Backtest_statistics.csv\", mode='a', header=False)\n",
    "    else:\n",
    "        results_df.to_csv(\"Backtest_statistics.csv\")"
   ]
  },
  {
   "cell_type": "code",
   "execution_count": 70,
   "metadata": {},
   "outputs": [
    {
     "data": {
      "text/html": [
       "<div>\n",
       "<style scoped>\n",
       "    .dataframe tbody tr th:only-of-type {\n",
       "        vertical-align: middle;\n",
       "    }\n",
       "\n",
       "    .dataframe tbody tr th {\n",
       "        vertical-align: top;\n",
       "    }\n",
       "\n",
       "    .dataframe thead th {\n",
       "        text-align: right;\n",
       "    }\n",
       "</style>\n",
       "<table border=\"1\" class=\"dataframe\">\n",
       "  <thead>\n",
       "    <tr style=\"text-align: right;\">\n",
       "      <th></th>\n",
       "      <th>Ticker</th>\n",
       "      <th>Date1</th>\n",
       "      <th>Open1</th>\n",
       "      <th>Volume1</th>\n",
       "      <th>Date2</th>\n",
       "      <th>Open2</th>\n",
       "      <th>Volume2</th>\n",
       "    </tr>\n",
       "  </thead>\n",
       "  <tbody>\n",
       "    <tr>\n",
       "      <th>26780</th>\n",
       "      <td>TXT</td>\n",
       "      <td>2017-06-30</td>\n",
       "      <td>46.91</td>\n",
       "      <td>1164977.0</td>\n",
       "      <td>2018-06-30</td>\n",
       "      <td>65.36</td>\n",
       "      <td>915108.0</td>\n",
       "    </tr>\n",
       "    <tr>\n",
       "      <th>16361</th>\n",
       "      <td>MC</td>\n",
       "      <td>2019-09-30</td>\n",
       "      <td>32.70</td>\n",
       "      <td>392597.0</td>\n",
       "      <td>2020-09-29</td>\n",
       "      <td>34.17</td>\n",
       "      <td>297734.0</td>\n",
       "    </tr>\n",
       "    <tr>\n",
       "      <th>27115</th>\n",
       "      <td>UNH</td>\n",
       "      <td>2018-06-30</td>\n",
       "      <td>245.00</td>\n",
       "      <td>1793431.0</td>\n",
       "      <td>2019-06-30</td>\n",
       "      <td>245.95</td>\n",
       "      <td>4109079.0</td>\n",
       "    </tr>\n",
       "    <tr>\n",
       "      <th>18629</th>\n",
       "      <td>NLST</td>\n",
       "      <td>2017-06-30</td>\n",
       "      <td>1.03</td>\n",
       "      <td>39573.0</td>\n",
       "      <td>2018-06-30</td>\n",
       "      <td>0.18</td>\n",
       "      <td>1624342.0</td>\n",
       "    </tr>\n",
       "    <tr>\n",
       "      <th>258</th>\n",
       "      <td>ABT</td>\n",
       "      <td>2020-03-31</td>\n",
       "      <td>81.43</td>\n",
       "      <td>23724192.0</td>\n",
       "      <td>2021-03-31</td>\n",
       "      <td>120.00</td>\n",
       "      <td>5792830.0</td>\n",
       "    </tr>\n",
       "    <tr>\n",
       "      <th>...</th>\n",
       "      <td>...</td>\n",
       "      <td>...</td>\n",
       "      <td>...</td>\n",
       "      <td>...</td>\n",
       "      <td>...</td>\n",
       "      <td>...</td>\n",
       "      <td>...</td>\n",
       "    </tr>\n",
       "    <tr>\n",
       "      <th>22</th>\n",
       "      <td>AA</td>\n",
       "      <td>2018-06-30</td>\n",
       "      <td>46.46</td>\n",
       "      <td>2150764.0</td>\n",
       "      <td>2019-06-30</td>\n",
       "      <td>23.67</td>\n",
       "      <td>3421871.0</td>\n",
       "    </tr>\n",
       "    <tr>\n",
       "      <th>25249</th>\n",
       "      <td>T</td>\n",
       "      <td>2017-09-30</td>\n",
       "      <td>29.61</td>\n",
       "      <td>20556490.0</td>\n",
       "      <td>2018-09-30</td>\n",
       "      <td>25.42</td>\n",
       "      <td>29813620.0</td>\n",
       "    </tr>\n",
       "    <tr>\n",
       "      <th>5903</th>\n",
       "      <td>CMI</td>\n",
       "      <td>2020-09-30</td>\n",
       "      <td>213.86</td>\n",
       "      <td>1349323.0</td>\n",
       "      <td>2021-09-30</td>\n",
       "      <td>231.30</td>\n",
       "      <td>1094286.0</td>\n",
       "    </tr>\n",
       "    <tr>\n",
       "      <th>19675</th>\n",
       "      <td>OMP</td>\n",
       "      <td>2019-09-30</td>\n",
       "      <td>16.18</td>\n",
       "      <td>111739.0</td>\n",
       "      <td>2020-09-29</td>\n",
       "      <td>7.83</td>\n",
       "      <td>126957.0</td>\n",
       "    </tr>\n",
       "    <tr>\n",
       "      <th>24449</th>\n",
       "      <td>SPRT</td>\n",
       "      <td>2017-12-31</td>\n",
       "      <td>2.42</td>\n",
       "      <td>46634.0</td>\n",
       "      <td>2018-12-31</td>\n",
       "      <td>2.51</td>\n",
       "      <td>20386.0</td>\n",
       "    </tr>\n",
       "  </tbody>\n",
       "</table>\n",
       "<p>5930 rows × 7 columns</p>\n",
       "</div>"
      ],
      "text/plain": [
       "      Ticker      Date1   Open1     Volume1      Date2   Open2     Volume2\n",
       "26780    TXT 2017-06-30   46.91   1164977.0 2018-06-30   65.36    915108.0\n",
       "16361     MC 2019-09-30   32.70    392597.0 2020-09-29   34.17    297734.0\n",
       "27115    UNH 2018-06-30  245.00   1793431.0 2019-06-30  245.95   4109079.0\n",
       "18629   NLST 2017-06-30    1.03     39573.0 2018-06-30    0.18   1624342.0\n",
       "258      ABT 2020-03-31   81.43  23724192.0 2021-03-31  120.00   5792830.0\n",
       "...      ...        ...     ...         ...        ...     ...         ...\n",
       "22        AA 2018-06-30   46.46   2150764.0 2019-06-30   23.67   3421871.0\n",
       "25249      T 2017-09-30   29.61  20556490.0 2018-09-30   25.42  29813620.0\n",
       "5903     CMI 2020-09-30  213.86   1349323.0 2021-09-30  231.30   1094286.0\n",
       "19675    OMP 2019-09-30   16.18    111739.0 2020-09-29    7.83    126957.0\n",
       "24449   SPRT 2017-12-31    2.42     46634.0 2018-12-31    2.51     20386.0\n",
       "\n",
       "[5930 rows x 7 columns]"
      ]
     },
     "execution_count": 70,
     "metadata": {},
     "output_type": "execute_result"
    },
    {
     "name": "stdout",
     "output_type": "stream",
     "text": [
      "time: 16 ms (started: 2022-10-12 15:26:12 +08:00)\n"
     ]
    }
   ],
   "source": [
    "y_test_withdata"
   ]
  },
  {
   "cell_type": "code",
   "execution_count": 86,
   "metadata": {
    "scrolled": false
   },
   "outputs": [
    {
     "name": "stdout",
     "output_type": "stream",
     "text": [
      "<class 'pandas.core.frame.DataFrame'>\n",
      "Int64Index: 14825 entries, 7196 to 4\n",
      "Data columns (total 7 columns):\n",
      " #   Column   Non-Null Count  Dtype         \n",
      "---  ------   --------------  -----         \n",
      " 0   Ticker   14825 non-null  object        \n",
      " 1   Date1    14825 non-null  datetime64[ns]\n",
      " 2   Open1    14825 non-null  float64       \n",
      " 3   Volume1  14825 non-null  float64       \n",
      " 4   Date2    14825 non-null  datetime64[ns]\n",
      " 5   Open2    14825 non-null  float64       \n",
      " 6   Volume2  14825 non-null  float64       \n",
      "dtypes: datetime64[ns](2), float64(4), object(1)\n",
      "memory usage: 926.6+ KB\n",
      "None\n"
     ]
    },
    {
     "ename": "KeyboardInterrupt",
     "evalue": "",
     "output_type": "error",
     "traceback": [
      "\u001b[1;31m---------------------------------------------------------------------------\u001b[0m",
      "\u001b[1;31mKeyboardInterrupt\u001b[0m                         Traceback (most recent call last)",
      "\u001b[1;32m~\\AppData\\Local\\Temp/ipykernel_24284/958587839.py\u001b[0m in \u001b[0;36m<module>\u001b[1;34m\u001b[0m\n\u001b[0;32m      7\u001b[0m                        'pl_ElasticNet']\n\u001b[0;32m      8\u001b[0m \u001b[1;33m\u001b[0m\u001b[0m\n\u001b[1;32m----> 9\u001b[1;33m \u001b[0mgetResultsForModel\u001b[0m\u001b[1;33m(\u001b[0m\u001b[0mmodel_pipeline_list\u001b[0m\u001b[1;33m,\u001b[0m \u001b[1;36m2\u001b[0m\u001b[1;33m)\u001b[0m\u001b[1;33m\u001b[0m\u001b[1;33m\u001b[0m\u001b[0m\n\u001b[0m",
      "\u001b[1;32m~\\AppData\\Local\\Temp/ipykernel_24284/3495367799.py\u001b[0m in \u001b[0;36mgetResultsForModel\u001b[1;34m(model_pipeline_list, runs_per_model, verbose)\u001b[0m\n\u001b[0;32m     24\u001b[0m \u001b[1;33m\u001b[0m\u001b[0m\n\u001b[0;32m     25\u001b[0m             \u001b[1;31m# Here is our backtesting code\u001b[0m\u001b[1;33m\u001b[0m\u001b[1;33m\u001b[0m\u001b[0m\n\u001b[1;32m---> 26\u001b[1;33m             \u001b[0mtest\u001b[0m \u001b[1;33m=\u001b[0m \u001b[0mgetPortTimeSeries\u001b[0m\u001b[1;33m(\u001b[0m\u001b[0my_test_withdata\u001b[0m\u001b[1;33m,\u001b[0m \u001b[0mX_test\u001b[0m\u001b[1;33m,\u001b[0m \u001b[0mdf_prices\u001b[0m\u001b[1;33m,\u001b[0m \u001b[0mmodel_pl\u001b[0m\u001b[1;33m,\u001b[0m \u001b[0mverbose\u001b[0m\u001b[1;33m=\u001b[0m\u001b[1;32mFalse\u001b[0m\u001b[1;33m)\u001b[0m\u001b[1;33m\u001b[0m\u001b[1;33m\u001b[0m\u001b[0m\n\u001b[0m\u001b[0;32m     27\u001b[0m \u001b[1;33m\u001b[0m\u001b[0m\n\u001b[0;32m     28\u001b[0m             \u001b[0mperf\u001b[0m \u001b[1;33m=\u001b[0m \u001b[0mtest\u001b[0m\u001b[1;33m[\u001b[0m\u001b[1;34m'Indexed Performance'\u001b[0m\u001b[1;33m]\u001b[0m\u001b[1;33m[\u001b[0m\u001b[1;33m-\u001b[0m\u001b[1;36m1\u001b[0m\u001b[1;33m]\u001b[0m\u001b[1;33m\u001b[0m\u001b[1;33m\u001b[0m\u001b[0m\n",
      "\u001b[1;32m~\\AppData\\Local\\Temp/ipykernel_24284/2643888760.py\u001b[0m in \u001b[0;36mgetPortTimeSeries\u001b[1;34m(y_withData, X, df_prices, model, verbose)\u001b[0m\n\u001b[0;32m     14\u001b[0m         \u001b[1;31m# Refer to function 6\u001b[0m\u001b[1;33m\u001b[0m\u001b[1;33m\u001b[0m\u001b[0m\n\u001b[0;32m     15\u001b[0m         \u001b[1;31m# Will give us a relative performance dataframe, cumulative portfolio perf, and top10 ticker list\u001b[0m\u001b[1;33m\u001b[0m\u001b[1;33m\u001b[0m\u001b[0m\n\u001b[1;32m---> 16\u001b[1;33m         \u001b[1;33m[\u001b[0m\u001b[0mcomp\u001b[0m\u001b[1;33m,\u001b[0m \u001b[0mthis_year_perf\u001b[0m\u001b[1;33m,\u001b[0m \u001b[0mticker_list\u001b[0m\u001b[1;33m]\u001b[0m \u001b[1;33m=\u001b[0m \u001b[0mgetPortTimeSeriesForYear\u001b[0m\u001b[1;33m(\u001b[0m\u001b[0mcurr_date\u001b[0m\u001b[1;33m,\u001b[0m \u001b[0my_withData\u001b[0m\u001b[1;33m,\u001b[0m \u001b[0mX\u001b[0m\u001b[1;33m,\u001b[0m \u001b[0mdf_prices\u001b[0m\u001b[1;33m,\u001b[0m \u001b[0mmodel\u001b[0m\u001b[1;33m)\u001b[0m\u001b[1;33m\u001b[0m\u001b[1;33m\u001b[0m\u001b[0m\n\u001b[0m\u001b[0;32m     17\u001b[0m \u001b[1;33m\u001b[0m\u001b[0m\n\u001b[0;32m     18\u001b[0m         \u001b[1;31m# For we want text output, set verbose=True\u001b[0m\u001b[1;33m\u001b[0m\u001b[1;33m\u001b[0m\u001b[0m\n",
      "\u001b[1;32m~\\AppData\\Local\\Temp/ipykernel_24284/3429622330.py\u001b[0m in \u001b[0;36mgetPortTimeSeriesForYear\u001b[1;34m(datestart, y_withData, X, df_prices, model)\u001b[0m\n\u001b[0;32m     41\u001b[0m     \u001b[1;31m# After we have our 10 stock picks, we want to find the stock prices and performances\u001b[0m\u001b[1;33m\u001b[0m\u001b[1;33m\u001b[0m\u001b[0m\n\u001b[0;32m     42\u001b[0m     \u001b[1;31m# Returns dataFrame of the time, tickers as the column keys and stocks prices\u001b[0m\u001b[1;33m\u001b[0m\u001b[1;33m\u001b[0m\u001b[0m\n\u001b[1;32m---> 43\u001b[1;33m     \u001b[0mstockReturns\u001b[0m \u001b[1;33m=\u001b[0m \u001b[0mgetStockTimeSeries\u001b[0m\u001b[1;33m(\u001b[0m\u001b[0mweeklyDateIndex\u001b[0m\u001b[1;33m,\u001b[0m \u001b[0my_withData\u001b[0m\u001b[1;33m,\u001b[0m \u001b[0mticker_list\u001b[0m\u001b[1;33m,\u001b[0m \u001b[0mthisYearMask\u001b[0m\u001b[1;33m,\u001b[0m \u001b[0mdf_prices\u001b[0m\u001b[1;33m)\u001b[0m\u001b[1;33m\u001b[0m\u001b[1;33m\u001b[0m\u001b[0m\n\u001b[0m\u001b[0;32m     44\u001b[0m \u001b[1;33m\u001b[0m\u001b[0m\n\u001b[0;32m     45\u001b[0m     \u001b[1;31m# Transform the stock prices above into relative returns\u001b[0m\u001b[1;33m\u001b[0m\u001b[1;33m\u001b[0m\u001b[0m\n",
      "\u001b[1;32m~\\AppData\\Local\\Temp/ipykernel_24284/1560756372.py\u001b[0m in \u001b[0;36mgetStockTimeSeries\u001b[1;34m(dateTimeIndex, y_withData, tickers_list, mask, df_prices)\u001b[0m\n\u001b[0;32m     64\u001b[0m     \u001b[1;32mfor\u001b[0m \u001b[0mtick\u001b[0m \u001b[1;32min\u001b[0m \u001b[0mtickers_list\u001b[0m\u001b[1;33m:\u001b[0m\u001b[1;33m\u001b[0m\u001b[1;33m\u001b[0m\u001b[0m\n\u001b[0;32m     65\u001b[0m         \u001b[1;31m# Rows is stock price time series data for individual stock\u001b[0m\u001b[1;33m\u001b[0m\u001b[1;33m\u001b[0m\u001b[0m\n\u001b[1;32m---> 66\u001b[1;33m         \u001b[0mrows\u001b[0m \u001b[1;33m=\u001b[0m \u001b[0mgetStockPriceData\u001b[0m\u001b[1;33m(\u001b[0m\u001b[0mtick\u001b[0m\u001b[1;33m,\u001b[0m \u001b[0my_withData\u001b[0m\u001b[1;33m,\u001b[0m \u001b[0mmask\u001b[0m\u001b[1;33m,\u001b[0m \u001b[0mdf_prices\u001b[0m\u001b[1;33m)\u001b[0m\u001b[1;33m\u001b[0m\u001b[1;33m\u001b[0m\u001b[0m\n\u001b[0m\u001b[0;32m     67\u001b[0m \u001b[1;33m\u001b[0m\u001b[0m\n\u001b[0;32m     68\u001b[0m         \u001b[1;31m# Change the index of the time series data to be the \"Date\"\u001b[0m\u001b[1;33m\u001b[0m\u001b[1;33m\u001b[0m\u001b[0m\n",
      "\u001b[1;32m~\\AppData\\Local\\Temp/ipykernel_24284/1560756372.py\u001b[0m in \u001b[0;36mgetStockPriceData\u001b[1;34m(ticker, y, mask, dailystock_prices)\u001b[0m\n\u001b[0;32m     33\u001b[0m     \u001b[0mdate1\u001b[0m \u001b[1;33m=\u001b[0m \u001b[0my\u001b[0m\u001b[1;33m[\u001b[0m\u001b[0mmask\u001b[0m\u001b[1;33m]\u001b[0m\u001b[1;33m[\u001b[0m\u001b[0my\u001b[0m\u001b[1;33m[\u001b[0m\u001b[0mmask\u001b[0m\u001b[1;33m]\u001b[0m\u001b[1;33m[\u001b[0m\u001b[1;34m\"Ticker\"\u001b[0m\u001b[1;33m]\u001b[0m \u001b[1;33m==\u001b[0m \u001b[0mticker\u001b[0m\u001b[1;33m]\u001b[0m\u001b[1;33m[\u001b[0m\u001b[1;34m\"Date1\"\u001b[0m\u001b[1;33m]\u001b[0m\u001b[1;33m.\u001b[0m\u001b[0mvalues\u001b[0m\u001b[1;33m[\u001b[0m\u001b[1;36m0\u001b[0m\u001b[1;33m]\u001b[0m\u001b[1;33m\u001b[0m\u001b[1;33m\u001b[0m\u001b[0m\n\u001b[0;32m     34\u001b[0m     \u001b[0mdate2\u001b[0m \u001b[1;33m=\u001b[0m \u001b[0my\u001b[0m\u001b[1;33m[\u001b[0m\u001b[0mmask\u001b[0m\u001b[1;33m]\u001b[0m\u001b[1;33m[\u001b[0m\u001b[0my\u001b[0m\u001b[1;33m[\u001b[0m\u001b[0mmask\u001b[0m\u001b[1;33m]\u001b[0m\u001b[1;33m[\u001b[0m\u001b[1;34m\"Ticker\"\u001b[0m\u001b[1;33m]\u001b[0m \u001b[1;33m==\u001b[0m \u001b[0mticker\u001b[0m\u001b[1;33m]\u001b[0m\u001b[1;33m[\u001b[0m\u001b[1;34m\"Date2\"\u001b[0m\u001b[1;33m]\u001b[0m\u001b[1;33m.\u001b[0m\u001b[0mvalues\u001b[0m\u001b[1;33m[\u001b[0m\u001b[1;36m0\u001b[0m\u001b[1;33m]\u001b[0m\u001b[1;33m\u001b[0m\u001b[1;33m\u001b[0m\u001b[0m\n\u001b[1;32m---> 35\u001b[1;33m     \u001b[0mrows\u001b[0m \u001b[1;33m=\u001b[0m \u001b[0mgetStockPriceBetweenDates\u001b[0m\u001b[1;33m(\u001b[0m\u001b[0mdate1\u001b[0m\u001b[1;33m,\u001b[0m \u001b[0mdate2\u001b[0m\u001b[1;33m,\u001b[0m \u001b[0mticker\u001b[0m\u001b[1;33m,\u001b[0m \u001b[0mdailystock_prices\u001b[0m\u001b[1;33m)\u001b[0m\u001b[1;33m\u001b[0m\u001b[1;33m\u001b[0m\u001b[0m\n\u001b[0m\u001b[0;32m     36\u001b[0m     \u001b[1;32mreturn\u001b[0m \u001b[0mrows\u001b[0m\u001b[1;33m\u001b[0m\u001b[1;33m\u001b[0m\u001b[0m\n\u001b[0;32m     37\u001b[0m \u001b[1;33m\u001b[0m\u001b[0m\n",
      "\u001b[1;32m~\\AppData\\Local\\Temp/ipykernel_24284/1560756372.py\u001b[0m in \u001b[0;36mgetStockPriceBetweenDates\u001b[1;34m(date1, date2, ticker, df_prices)\u001b[0m\n\u001b[0;32m     25\u001b[0m     rows = df_prices.loc[(df_prices[\"Date\"]>date1) & \n\u001b[0;32m     26\u001b[0m                          \u001b[1;33m(\u001b[0m\u001b[0mdf_prices\u001b[0m\u001b[1;33m[\u001b[0m\u001b[1;34m\"Date\"\u001b[0m\u001b[1;33m]\u001b[0m\u001b[1;33m<\u001b[0m\u001b[0mdate2\u001b[0m\u001b[1;33m)\u001b[0m \u001b[1;33m&\u001b[0m\u001b[1;33m\u001b[0m\u001b[1;33m\u001b[0m\u001b[0m\n\u001b[1;32m---> 27\u001b[1;33m                          (df_prices[\"Ticker\"]==ticker)]\n\u001b[0m\u001b[0;32m     28\u001b[0m     \u001b[1;32mreturn\u001b[0m \u001b[0mrows\u001b[0m\u001b[1;33m\u001b[0m\u001b[1;33m\u001b[0m\u001b[0m\n\u001b[0;32m     29\u001b[0m \u001b[1;33m\u001b[0m\u001b[0m\n",
      "\u001b[1;32m~\\anaconda3\\lib\\site-packages\\pandas\\core\\ops\\common.py\u001b[0m in \u001b[0;36mnew_method\u001b[1;34m(self, other)\u001b[0m\n\u001b[0;32m     67\u001b[0m         \u001b[0mother\u001b[0m \u001b[1;33m=\u001b[0m \u001b[0mitem_from_zerodim\u001b[0m\u001b[1;33m(\u001b[0m\u001b[0mother\u001b[0m\u001b[1;33m)\u001b[0m\u001b[1;33m\u001b[0m\u001b[1;33m\u001b[0m\u001b[0m\n\u001b[0;32m     68\u001b[0m \u001b[1;33m\u001b[0m\u001b[0m\n\u001b[1;32m---> 69\u001b[1;33m         \u001b[1;32mreturn\u001b[0m \u001b[0mmethod\u001b[0m\u001b[1;33m(\u001b[0m\u001b[0mself\u001b[0m\u001b[1;33m,\u001b[0m \u001b[0mother\u001b[0m\u001b[1;33m)\u001b[0m\u001b[1;33m\u001b[0m\u001b[1;33m\u001b[0m\u001b[0m\n\u001b[0m\u001b[0;32m     70\u001b[0m \u001b[1;33m\u001b[0m\u001b[0m\n\u001b[0;32m     71\u001b[0m     \u001b[1;32mreturn\u001b[0m \u001b[0mnew_method\u001b[0m\u001b[1;33m\u001b[0m\u001b[1;33m\u001b[0m\u001b[0m\n",
      "\u001b[1;32m~\\anaconda3\\lib\\site-packages\\pandas\\core\\arraylike.py\u001b[0m in \u001b[0;36m__eq__\u001b[1;34m(self, other)\u001b[0m\n\u001b[0;32m     30\u001b[0m     \u001b[1;33m@\u001b[0m\u001b[0munpack_zerodim_and_defer\u001b[0m\u001b[1;33m(\u001b[0m\u001b[1;34m\"__eq__\"\u001b[0m\u001b[1;33m)\u001b[0m\u001b[1;33m\u001b[0m\u001b[1;33m\u001b[0m\u001b[0m\n\u001b[0;32m     31\u001b[0m     \u001b[1;32mdef\u001b[0m \u001b[0m__eq__\u001b[0m\u001b[1;33m(\u001b[0m\u001b[0mself\u001b[0m\u001b[1;33m,\u001b[0m \u001b[0mother\u001b[0m\u001b[1;33m)\u001b[0m\u001b[1;33m:\u001b[0m\u001b[1;33m\u001b[0m\u001b[1;33m\u001b[0m\u001b[0m\n\u001b[1;32m---> 32\u001b[1;33m         \u001b[1;32mreturn\u001b[0m \u001b[0mself\u001b[0m\u001b[1;33m.\u001b[0m\u001b[0m_cmp_method\u001b[0m\u001b[1;33m(\u001b[0m\u001b[0mother\u001b[0m\u001b[1;33m,\u001b[0m \u001b[0moperator\u001b[0m\u001b[1;33m.\u001b[0m\u001b[0meq\u001b[0m\u001b[1;33m)\u001b[0m\u001b[1;33m\u001b[0m\u001b[1;33m\u001b[0m\u001b[0m\n\u001b[0m\u001b[0;32m     33\u001b[0m \u001b[1;33m\u001b[0m\u001b[0m\n\u001b[0;32m     34\u001b[0m     \u001b[1;33m@\u001b[0m\u001b[0munpack_zerodim_and_defer\u001b[0m\u001b[1;33m(\u001b[0m\u001b[1;34m\"__ne__\"\u001b[0m\u001b[1;33m)\u001b[0m\u001b[1;33m\u001b[0m\u001b[1;33m\u001b[0m\u001b[0m\n",
      "\u001b[1;32m~\\anaconda3\\lib\\site-packages\\pandas\\core\\series.py\u001b[0m in \u001b[0;36m_cmp_method\u001b[1;34m(self, other, op)\u001b[0m\n\u001b[0;32m   5500\u001b[0m \u001b[1;33m\u001b[0m\u001b[0m\n\u001b[0;32m   5501\u001b[0m         \u001b[1;32mwith\u001b[0m \u001b[0mnp\u001b[0m\u001b[1;33m.\u001b[0m\u001b[0merrstate\u001b[0m\u001b[1;33m(\u001b[0m\u001b[0mall\u001b[0m\u001b[1;33m=\u001b[0m\u001b[1;34m\"ignore\"\u001b[0m\u001b[1;33m)\u001b[0m\u001b[1;33m:\u001b[0m\u001b[1;33m\u001b[0m\u001b[1;33m\u001b[0m\u001b[0m\n\u001b[1;32m-> 5502\u001b[1;33m             \u001b[0mres_values\u001b[0m \u001b[1;33m=\u001b[0m \u001b[0mops\u001b[0m\u001b[1;33m.\u001b[0m\u001b[0mcomparison_op\u001b[0m\u001b[1;33m(\u001b[0m\u001b[0mlvalues\u001b[0m\u001b[1;33m,\u001b[0m \u001b[0mrvalues\u001b[0m\u001b[1;33m,\u001b[0m \u001b[0mop\u001b[0m\u001b[1;33m)\u001b[0m\u001b[1;33m\u001b[0m\u001b[1;33m\u001b[0m\u001b[0m\n\u001b[0m\u001b[0;32m   5503\u001b[0m \u001b[1;33m\u001b[0m\u001b[0m\n\u001b[0;32m   5504\u001b[0m         \u001b[1;32mreturn\u001b[0m \u001b[0mself\u001b[0m\u001b[1;33m.\u001b[0m\u001b[0m_construct_result\u001b[0m\u001b[1;33m(\u001b[0m\u001b[0mres_values\u001b[0m\u001b[1;33m,\u001b[0m \u001b[0mname\u001b[0m\u001b[1;33m=\u001b[0m\u001b[0mres_name\u001b[0m\u001b[1;33m)\u001b[0m\u001b[1;33m\u001b[0m\u001b[1;33m\u001b[0m\u001b[0m\n",
      "\u001b[1;32m~\\anaconda3\\lib\\site-packages\\pandas\\core\\ops\\array_ops.py\u001b[0m in \u001b[0;36mcomparison_op\u001b[1;34m(left, right, op)\u001b[0m\n\u001b[0;32m    282\u001b[0m \u001b[1;33m\u001b[0m\u001b[0m\n\u001b[0;32m    283\u001b[0m     \u001b[1;32melif\u001b[0m \u001b[0mis_object_dtype\u001b[0m\u001b[1;33m(\u001b[0m\u001b[0mlvalues\u001b[0m\u001b[1;33m.\u001b[0m\u001b[0mdtype\u001b[0m\u001b[1;33m)\u001b[0m \u001b[1;32mor\u001b[0m \u001b[0misinstance\u001b[0m\u001b[1;33m(\u001b[0m\u001b[0mrvalues\u001b[0m\u001b[1;33m,\u001b[0m \u001b[0mstr\u001b[0m\u001b[1;33m)\u001b[0m\u001b[1;33m:\u001b[0m\u001b[1;33m\u001b[0m\u001b[1;33m\u001b[0m\u001b[0m\n\u001b[1;32m--> 284\u001b[1;33m         \u001b[0mres_values\u001b[0m \u001b[1;33m=\u001b[0m \u001b[0mcomp_method_OBJECT_ARRAY\u001b[0m\u001b[1;33m(\u001b[0m\u001b[0mop\u001b[0m\u001b[1;33m,\u001b[0m \u001b[0mlvalues\u001b[0m\u001b[1;33m,\u001b[0m \u001b[0mrvalues\u001b[0m\u001b[1;33m)\u001b[0m\u001b[1;33m\u001b[0m\u001b[1;33m\u001b[0m\u001b[0m\n\u001b[0m\u001b[0;32m    285\u001b[0m \u001b[1;33m\u001b[0m\u001b[0m\n\u001b[0;32m    286\u001b[0m     \u001b[1;32melse\u001b[0m\u001b[1;33m:\u001b[0m\u001b[1;33m\u001b[0m\u001b[1;33m\u001b[0m\u001b[0m\n",
      "\u001b[1;32m~\\anaconda3\\lib\\site-packages\\pandas\\core\\ops\\array_ops.py\u001b[0m in \u001b[0;36mcomp_method_OBJECT_ARRAY\u001b[1;34m(op, x, y)\u001b[0m\n\u001b[0;32m     72\u001b[0m     \u001b[1;32melse\u001b[0m\u001b[1;33m:\u001b[0m\u001b[1;33m\u001b[0m\u001b[1;33m\u001b[0m\u001b[0m\n\u001b[0;32m     73\u001b[0m         \u001b[0mresult\u001b[0m \u001b[1;33m=\u001b[0m \u001b[0mlibops\u001b[0m\u001b[1;33m.\u001b[0m\u001b[0mscalar_compare\u001b[0m\u001b[1;33m(\u001b[0m\u001b[0mx\u001b[0m\u001b[1;33m.\u001b[0m\u001b[0mravel\u001b[0m\u001b[1;33m(\u001b[0m\u001b[1;33m)\u001b[0m\u001b[1;33m,\u001b[0m \u001b[0my\u001b[0m\u001b[1;33m,\u001b[0m \u001b[0mop\u001b[0m\u001b[1;33m)\u001b[0m\u001b[1;33m\u001b[0m\u001b[1;33m\u001b[0m\u001b[0m\n\u001b[1;32m---> 74\u001b[1;33m     \u001b[1;32mreturn\u001b[0m \u001b[0mresult\u001b[0m\u001b[1;33m.\u001b[0m\u001b[0mreshape\u001b[0m\u001b[1;33m(\u001b[0m\u001b[0mx\u001b[0m\u001b[1;33m.\u001b[0m\u001b[0mshape\u001b[0m\u001b[1;33m)\u001b[0m\u001b[1;33m\u001b[0m\u001b[1;33m\u001b[0m\u001b[0m\n\u001b[0m\u001b[0;32m     75\u001b[0m \u001b[1;33m\u001b[0m\u001b[0m\n\u001b[0;32m     76\u001b[0m \u001b[1;33m\u001b[0m\u001b[0m\n",
      "\u001b[1;31mKeyboardInterrupt\u001b[0m: "
     ]
    },
    {
     "name": "stdout",
     "output_type": "stream",
     "text": [
      "time: 15.9 s (started: 2022-10-12 15:44:38 +08:00)\n"
     ]
    }
   ],
   "source": [
    "# Run with 1 core\n",
    "model_pipeline_list = ['pl_rfregressor', \n",
    "                       'pl_decTree', \n",
    "                       'pl_linear', \n",
    "                       'pl_GradBregressor', \n",
    "                       'pl_KNeighbors', \n",
    "                       'pl_ElasticNet']\n",
    "\n",
    "getResultsForModel(model_pipeline_list, 2)"
   ]
  },
  {
   "cell_type": "code",
   "execution_count": 53,
   "metadata": {
    "scrolled": true
   },
   "outputs": [
    {
     "name": "stdout",
     "output_type": "stream",
     "text": [
      "Thread 0 started.\n",
      "Thread 1 started.\n",
      "Thread 2 started.\n",
      "time: 0 ns (started: 2022-10-12 14:29:58 +08:00)\n"
     ]
    },
    {
     "name": "stderr",
     "output_type": "stream",
     "text": [
      "Exception in thread Thread-11:\n",
      "Traceback (most recent call last):\n",
      "  File \"C:\\Users\\finan\\anaconda3\\lib\\site-packages\\pandas\\core\\indexes\\base.py\", line 3361, in get_loc\n",
      "    return self._engine.get_loc(casted_key)\n",
      "  File \"pandas\\_libs\\index.pyx\", line 76, in pandas._libs.index.IndexEngine.get_loc\n",
      "  File \"pandas\\_libs\\index_class_helper.pxi\", line 105, in pandas._libs.index.Int64Engine._check_type\n",
      "  File \"pandas\\_libs\\index_class_helper.pxi\", line 105, in pandas._libs.index.Int64Engine._check_type\n",
      "KeyError: 'Ticker'\n",
      "\n",
      "The above exception was the direct cause of the following exception:\n",
      "\n",
      "Traceback (most recent call last):\n",
      "  File \"C:\\Users\\finan\\anaconda3\\lib\\threading.py\", line 973, in _bootstrap_inner\n",
      "    self.run()\n",
      "  File \"C:\\Users\\finan\\anaconda3\\lib\\threading.py\", line 910, in run\n",
      "    self._target(*self._args, **self._kwargs)\n",
      "  File \"C:\\Users\\finan\\AppData\\Local\\Temp/ipykernel_24284/1438646390.py\", line 22, in getResultsForModel\n",
      "  File \"C:\\Users\\finan\\AppData\\Local\\Temp/ipykernel_24284/1560756372.py\", line 15, in getYPerf\n",
      "  File \"C:\\Users\\finan\\anaconda3\\lib\\site-packages\\pandas\\core\\series.py\", line 942, in __getitem__\n",
      "    return self._get_value(key)\n",
      "  File \"C:\\Users\\finan\\anaconda3\\lib\\site-packages\\pandas\\core\\series.py\", line 1051, in _get_value\n",
      "    loc = self.index.get_loc(label)\n",
      "  File \"C:\\Users\\finan\\anaconda3\\lib\\site-packages\\pandas\\core\\indexes\\base.py\", line 3363, in get_loc\n",
      "    raise KeyError(key) from err\n",
      "KeyError: 'Ticker'\n",
      "Exception in thread Thread-10:\n",
      "Traceback (most recent call last):\n",
      "  File \"C:\\Users\\finan\\anaconda3\\lib\\site-packages\\pandas\\core\\indexes\\base.py\", line 3361, in get_loc\n",
      "    return self._engine.get_loc(casted_key)\n",
      "  File \"pandas\\_libs\\index.pyx\", line 76, in pandas._libs.index.IndexEngine.get_loc\n",
      "  File \"pandas\\_libs\\index_class_helper.pxi\", line 105, in pandas._libs.index.Int64Engine._check_type\n",
      "  File \"pandas\\_libs\\index_class_helper.pxi\", line 105, in pandas._libs.index.Int64Engine._check_type\n",
      "KeyError: 'Ticker'\n",
      "\n",
      "The above exception was the direct cause of the following exception:\n",
      "\n",
      "Traceback (most recent call last):\n",
      "  File \"C:\\Users\\finan\\anaconda3\\lib\\threading.py\", line 973, in _bootstrap_inner\n",
      "    self.run()\n",
      "  File \"C:\\Users\\finan\\anaconda3\\lib\\threading.py\", line 910, in run\n",
      "    self._target(*self._args, **self._kwargs)\n",
      "  File \"C:\\Users\\finan\\AppData\\Local\\Temp/ipykernel_24284/1438646390.py\", line 22, in getResultsForModel\n",
      "  File \"C:\\Users\\finan\\AppData\\Local\\Temp/ipykernel_24284/1560756372.py\", line 15, in getYPerf\n",
      "  File \"C:\\Users\\finan\\anaconda3\\lib\\site-packages\\pandas\\core\\series.py\", line 942, in __getitem__\n",
      "    return self._get_value(key)\n",
      "  File \"C:\\Users\\finan\\anaconda3\\lib\\site-packages\\pandas\\core\\series.py\", line 1051, in _get_value\n",
      "    loc = self.index.get_loc(label)\n",
      "  File \"C:\\Users\\finan\\anaconda3\\lib\\site-packages\\pandas\\core\\indexes\\base.py\", line 3363, in get_loc\n",
      "    raise KeyError(key) from err\n",
      "KeyError: 'Ticker'\n",
      "Exception in thread Thread-8:\n",
      "Traceback (most recent call last):\n",
      "  File \"C:\\Users\\finan\\anaconda3\\lib\\site-packages\\pandas\\core\\indexes\\base.py\", line 3361, in get_loc\n",
      "    return self._engine.get_loc(casted_key)\n",
      "  File \"pandas\\_libs\\index.pyx\", line 76, in pandas._libs.index.IndexEngine.get_loc\n",
      "  File \"pandas\\_libs\\index_class_helper.pxi\", line 105, in pandas._libs.index.Int64Engine._check_type\n",
      "  File \"pandas\\_libs\\index_class_helper.pxi\", line 105, in pandas._libs.index.Int64Engine._check_type\n",
      "KeyError: 'Ticker'\n",
      "\n",
      "The above exception was the direct cause of the following exception:\n",
      "\n",
      "Traceback (most recent call last):\n",
      "  File \"C:\\Users\\finan\\anaconda3\\lib\\threading.py\", line 973, in _bootstrap_inner\n",
      "    self.run()\n",
      "  File \"C:\\Users\\finan\\anaconda3\\lib\\threading.py\", line 910, in run\n",
      "    self._target(*self._args, **self._kwargs)\n",
      "  File \"C:\\Users\\finan\\AppData\\Local\\Temp/ipykernel_24284/1438646390.py\", line 22, in getResultsForModel\n",
      "  File \"C:\\Users\\finan\\AppData\\Local\\Temp/ipykernel_24284/1560756372.py\", line 15, in getYPerf\n",
      "  File \"C:\\Users\\finan\\anaconda3\\lib\\site-packages\\pandas\\core\\series.py\", line 942, in __getitem__\n",
      "    return self._get_value(key)\n",
      "  File \"C:\\Users\\finan\\anaconda3\\lib\\site-packages\\pandas\\core\\series.py\", line 1051, in _get_value\n",
      "    loc = self.index.get_loc(label)\n",
      "  File \"C:\\Users\\finan\\anaconda3\\lib\\site-packages\\pandas\\core\\indexes\\base.py\", line 3363, in get_loc\n",
      "    raise KeyError(key) from err\n",
      "KeyError: 'Ticker'\n",
      "Exception in thread Thread-9:\n",
      "Traceback (most recent call last):\n",
      "  File \"C:\\Users\\finan\\anaconda3\\lib\\site-packages\\pandas\\core\\indexes\\base.py\", line 3361, in get_loc\n",
      "    return self._engine.get_loc(casted_key)\n",
      "  File \"pandas\\_libs\\index.pyx\", line 76, in pandas._libs.index.IndexEngine.get_loc\n",
      "  File \"pandas\\_libs\\index_class_helper.pxi\", line 105, in pandas._libs.index.Int64Engine._check_type\n",
      "  File \"pandas\\_libs\\index_class_helper.pxi\", line 105, in pandas._libs.index.Int64Engine._check_type\n",
      "KeyError: 'Ticker'\n",
      "\n",
      "The above exception was the direct cause of the following exception:\n",
      "\n",
      "Traceback (most recent call last):\n",
      "  File \"C:\\Users\\finan\\anaconda3\\lib\\threading.py\", line 973, in _bootstrap_inner\n",
      "    self.run()\n",
      "  File \"C:\\Users\\finan\\anaconda3\\lib\\threading.py\", line 910, in run\n",
      "    self._target(*self._args, **self._kwargs)\n",
      "  File \"C:\\Users\\finan\\AppData\\Local\\Temp/ipykernel_24284/1438646390.py\", line 22, in getResultsForModel\n",
      "  File \"C:\\Users\\finan\\AppData\\Local\\Temp/ipykernel_24284/1560756372.py\", line 15, in getYPerf\n",
      "  File \"C:\\Users\\finan\\anaconda3\\lib\\site-packages\\pandas\\core\\series.py\", line 942, in __getitem__\n",
      "    return self._get_value(key)\n",
      "  File \"C:\\Users\\finan\\anaconda3\\lib\\site-packages\\pandas\\core\\series.py\", line 1051, in _get_value\n",
      "    loc = self.index.get_loc(label)\n",
      "  File \"C:\\Users\\finan\\anaconda3\\lib\\site-packages\\pandas\\core\\indexes\\base.py\", line 3363, in get_loc\n",
      "    raise KeyError(key) from err\n",
      "KeyError: 'Ticker'\n"
     ]
    }
   ],
   "source": [
    "# Run in Parallel, with specific models on each core\n",
    "# Can run this many times, will just keep appending to results file.\n",
    "model_pipeline_list_list = [['pl_GradBregressor', 'pl_ElasticNet'],\n",
    "                            ['pl_decTree', 'pl_rfregressor'],\n",
    "                            ['pl_linear', 'pl_KNeighbors']]\n",
    "\n",
    "import threading\n",
    "l = len(model_pipeline_list_list)\n",
    "\n",
    "thread_list = []\n",
    "for i in range(l):\n",
    "    thread = threading.Thread(target=getResultsForModel, \n",
    "                              args=(model_pipeline_list_list[i], 50, False))\n",
    "    thread_list.append(thread)\n",
    "    thread.start()\n",
    "    print('Thread '+ str(i) + ' started.')"
   ]
  },
  {
   "cell_type": "code",
   "execution_count": 54,
   "metadata": {
    "scrolled": true
   },
   "outputs": [
    {
     "name": "stdout",
     "output_type": "stream",
     "text": [
      "False\n",
      "False\n",
      "False\n",
      "time: 15 ms (started: 2022-10-12 14:30:21 +08:00)\n"
     ]
    }
   ],
   "source": [
    "# Can check if threads are still running any time.\n",
    "# Notebook will look as though nothing is running, but things are running in background.\n",
    "for i in thread_list:\n",
    "    print(i.is_alive())"
   ]
  },
  {
   "cell_type": "code",
   "execution_count": null,
   "metadata": {},
   "outputs": [],
   "source": [
    "thread_list"
   ]
  },
  {
   "cell_type": "markdown",
   "metadata": {},
   "source": [
    "# Investigating Backtest Statistics"
   ]
  },
  {
   "cell_type": "code",
   "execution_count": null,
   "metadata": {},
   "outputs": [],
   "source": [
    "results_df = pd.read_csv('Backtest_statistics.csv', index_col=0)\n",
    "results_df.reset_index(inplace=True, drop=True)"
   ]
  },
  {
   "cell_type": "code",
   "execution_count": null,
   "metadata": {},
   "outputs": [],
   "source": [
    "results_df"
   ]
  },
  {
   "cell_type": "code",
   "execution_count": null,
   "metadata": {},
   "outputs": [],
   "source": [
    "def plotBacktestDist(results_df, model_file, col):\n",
    "    ax=results_df[results_df['Model Used']==model_file][col].hist(\\\n",
    "                                    bins=50, density=True, alpha=0.7)\n",
    "    \n",
    "    ax2=results_df[results_df['Model Used']==model_file][col].plot.kde(alpha=0.9)\n",
    "    \n",
    "    max_val=results_df[results_df['Model Used']==model_file][col].max()\n",
    "    ax.set_xlabel(col)\n",
    "    ax.set_ylabel('Normalised Frequency')\n",
    "    ax.set_title('{} Backtest Distribution for {}, {} Runs'.format(\\\n",
    "          col,\\\n",
    "          model_file,\\\n",
    "          results_df[results_df['Model Used']==model_file][col].size))\n",
    "    ax.grid()\n",
    "    mean=results_df[results_df['Model Used']==model_file][col].mean()\n",
    "    ymin, ymax = ax.get_ylim()\n",
    "    \n",
    "    if (col=='Indexed Return'): \n",
    "        # Plot S&P 500 returns\n",
    "        # begin 2010 -> end 2020\n",
    "        ax.plot([3.511822, 3.511822], [ymin, ymax],\\\n",
    "                color='r', linestyle='-', linewidth=1.5, alpha=1)\n",
    "        ax.plot([mean, mean], [ymin, ymax],\\\n",
    "                color='lime', linestyle='--', linewidth=1.5, alpha=1)\n",
    "        plt.xlim(0, 10)\n",
    "    \n",
    "    if (col=='Annual Volatility'): \n",
    "        # Plot S&P 500 volatility\n",
    "        # begin 2010 -> end 2020\n",
    "        ax.plot([0.325059094152396, 0.325059094152396], [ymin, ymax],\\\n",
    "                color='r', linestyle='-', linewidth=2)  \n",
    "        ax.plot([mean, mean], [ymin, ymax],\\\n",
    "                color='lime', linestyle='--', linewidth=2)  \n",
    "        plt.xlim(0, 1.5)\n",
    "    ax.legend(['Fitted Smooth Kernel','S&P500 Benchmark', \\\n",
    "               'Simulation Mean {}'.format(round(mean,2)),\\\n",
    "               'Simulation Backtests'])"
   ]
  },
  {
   "cell_type": "code",
   "execution_count": null,
   "metadata": {},
   "outputs": [],
   "source": [
    "model_file = 'pl_GradBregressor' #['pl_linear', 'pl_ElasticNet', 'pl_rfregressor', 'pl_decTree', 'pl_svm', 'pl_KNeighbors']\n",
    "plt.figure(figsize=(15,6))\n",
    "\n",
    "plt.subplot(1,2,1)\n",
    "plotBacktestDist(results_df, model_file, 'Indexed Return')\n",
    "\n",
    "plt.subplot(1,2,2)\n",
    "plotBacktestDist(results_df, model_file, 'Annual Volatility')"
   ]
  },
  {
   "cell_type": "code",
   "execution_count": null,
   "metadata": {
    "scrolled": false
   },
   "outputs": [],
   "source": [
    "#model_file = ['pl_ElasticNet','pl_decTree', 'pl_rfregressor', 'pl_svm', 'pl_KNeighbors', 'pl_GradBregressor']\n",
    "#model_file = ['pl_linear', 'pl_ElasticNet']\n",
    "#model_file = ['pl_decTree', 'pl_rfregressor', 'pl_svm']\n",
    "model_file = ['pl_KNeighbors', 'pl_GradBregressor']\n",
    "#model_file = ['pl_rfregressor']\n",
    "numPlots = len(model_file)\n",
    "plt.figure(figsize=(15,6*numPlots))\n",
    "for I in range(0, numPlots):\n",
    "    plt.subplot(numPlots,2,I*2+1)\n",
    "    plotBacktestDist(results_df, model_file[I], 'Indexed Return')\n",
    "    plt.subplot(numPlots,2,I*2+2)\n",
    "    plotBacktestDist(results_df, model_file[I], 'Annual Volatility')"
   ]
  },
  {
   "cell_type": "markdown",
   "metadata": {},
   "source": [
    "# Chosen Regressors for AI are GradBoost and KNN"
   ]
  },
  {
   "cell_type": "markdown",
   "metadata": {},
   "source": [
    "We will expect more volatility."
   ]
  },
  {
   "cell_type": "code",
   "execution_count": null,
   "metadata": {},
   "outputs": [],
   "source": [
    "# GRAPH OF RETURN VS VOLATILITY\n",
    "plt.figure(figsize=(10,5))\n",
    "\n",
    "plt.subplot(1,2,1)\n",
    "returns = results_df[results_df['Model Used']=='pl_GradBregressor']['Indexed Return']\n",
    "vols = results_df[results_df['Model Used']=='pl_GradBregressor']['Annual Volatility']\n",
    "plt.scatter(returns, vols, marker='.')\n",
    "plt.scatter(3.511822, 0.325059094152396, marker='+', color='fuchsia', s=400)\n",
    "plt.xlabel('Indexed Return')\n",
    "plt.ylabel('Annual Volatility')\n",
    "plt.grid()\n",
    "plt.legend(['Gradient Boosted Decision Tree Regressor', 'S&P500'])\n",
    "plt.title('Gradient Boost Backtest Return vs. Volatility', fontsize=14)\n",
    "\n",
    "plt.subplot(1,2,2)\n",
    "returns = results_df[results_df['Model Used']=='pl_KNeighbors']['Indexed Return']\n",
    "vols = results_df[results_df['Model Used']=='pl_KNeighbors']['Annual Volatility']\n",
    "plt.scatter(returns, vols, marker='.')\n",
    "plt.scatter(3.511822, 0.325059094152396, marker='+', color='fuchsia', s=400)\n",
    "plt.xlabel('Indexed Return')\n",
    "plt.ylabel('Annual Volatility')\n",
    "plt.grid()\n",
    "plt.legend(['K Nearest Neighbours Regressor', 'S&P500'])\n",
    "plt.title('KNN Backtest Return vs. Volatility', fontsize=14)"
   ]
  },
  {
   "cell_type": "code",
   "execution_count": null,
   "metadata": {},
   "outputs": [],
   "source": [
    "plt.figure(figsize=(14,6))\n",
    "\n",
    "plt.subplot(1,2,1)\n",
    "results_df[results_df['Model Used']=='pl_GradBregressor']['Indexed Return'].hist(bins=30,\\\n",
    "                                                density=True, alpha=0.7)\n",
    "results_df[results_df['Model Used']=='pl_KNeighbors']['Indexed Return'].hist(bins=30,\\\n",
    "                                                density=True, alpha=0.7)\n",
    "plt.plot([3.511822, 3.511822], [0, 0.35],\\\n",
    "                 color='r', linestyle='-', linewidth=1.5, alpha=1)\n",
    "plt.legend(['S&P500','Gradient Boosted Regressor', 'KNN'])\n",
    "plt.title('Backtesting Return', fontsize=14)\n",
    "plt.xlabel('Indexed Return')\n",
    "\n",
    "plt.subplot(1,2,2)\n",
    "results_df[results_df['Model Used']=='pl_GradBregressor']['Annual Volatility'].hist(bins=30,\\\n",
    "                                                density=True, alpha=0.7)\n",
    "results_df[results_df['Model Used']=='pl_KNeighbors']['Annual Volatility'].hist(bins=30,\\\n",
    "                                                density=True, alpha=0.7)\n",
    "plt.plot([0.325059094152396, 0.325059094152396], [0, 2.5],\\\n",
    "                color='r', linestyle='-', linewidth=2)  \n",
    "plt.legend(['S&P500','Gradient Boosted Regressor', 'KNN'])\n",
    "plt.title('Backtesting Volatility', fontsize=14)\n",
    "plt.xlabel('Annual Volatility')"
   ]
  },
  {
   "cell_type": "markdown",
   "metadata": {},
   "source": [
    "# Figure out what the actual performance should be"
   ]
  },
  {
   "cell_type": "code",
   "execution_count": null,
   "metadata": {
    "scrolled": true
   },
   "outputs": [],
   "source": [
    "# Choose the model pipelines to run loop for\n",
    "model_pipeline_list = ['pl_GradBregressor', 'pl_KNeighbors']\n",
    "tests_per_model=20\n",
    "\n",
    "# Reduce test size and check performance to try and see a trend\n",
    "# Is effectively *0.5 as test size is 1/2 of total data.\n",
    "#test_size_modifier_list = [0.8, 0.6, 0.4, 0.2, 0.1, 0.05 ]\n",
    "test_size_modifier_list = [0.05, 0.075]\n",
    "\n",
    "# Results DataFrame\n",
    "results_df2 = pd.DataFrame( columns=[\"Test Number\",\n",
    "                                            \"Model Used\",\\\n",
    "                                            \"Test Set Size\",\\\n",
    "                                            \"Indexed Return\",\\\n",
    "                                            \"Annual Volatility\"])\n",
    "\n",
    "i, results = 0, []\n",
    "for model in model_pipeline_list:\n",
    "    for test_size_mod in test_size_modifier_list:\n",
    "        for test_num in range(0, tests_per_model):\n",
    "            \n",
    "            X_train, X_test, y_train, y_test = \\\n",
    "            train_test_split(X, y_pec, test_size=0.5)\n",
    "            \n",
    "            new_test_size = round(len(X_test)//(1/test_size_mod))\n",
    "            \n",
    "            X_test, y_test = \\\n",
    "            X_test[:new_test_size], y_test[:new_test_size]\n",
    "            \n",
    "            if (model =='pl_KNeighbors'):\n",
    "                model_pl = trainKNeighborsModel(X_train, y_train)\n",
    "            if (model =='pl_GradBregressor'):\n",
    "                model_pl = traingbregressorModel(X_train, y_train)\n",
    "            y_withData_Test=y_withData.loc[X_test.index]\n",
    "\n",
    "            # Here is our backtesting code\n",
    "            test = getPortTimeSeries(y_withData_Test, X_test,\n",
    "                     daily_stock_prices, model_pl, \n",
    "                         verbose=False) \n",
    "            \n",
    "            perf = test['Indexed Performance'][-1]\n",
    "            \n",
    "            vol = test['Indexed Performance'].diff().std()*np.sqrt(52)\n",
    "            \n",
    "            #print('Performed test ',i , [i, model, new_test_size, perf, vol])     \n",
    "            \n",
    "            results_df2=results_df2.append(\\\n",
    "                        pd.DataFrame(\\\n",
    "                             [[i, model, new_test_size, perf, vol]],\\\n",
    "                                     columns=results_df2.keys()))      \n",
    "            i=i+1\n",
    "            \n",
    "        print('For {} test size {}, Performance: {}, Vol: {}.'.format(\\\n",
    "              model, new_test_size, \\\n",
    "            results_df2['Indexed Return'].tail(tests_per_model).mean(),\\\n",
    "            results_df2['Annual Volatility'].tail(tests_per_model).mean()))\n",
    "\n",
    "# Save our results for plotting\n",
    "results_df2.to_csv(\"Backtest_statistics_Modified_test_size.csv\")"
   ]
  },
  {
   "cell_type": "code",
   "execution_count": null,
   "metadata": {},
   "outputs": [],
   "source": [
    "test_set_size = [0.5, 0.4, 0.3, 0.2, 0.1, 0.075, 0.05]\n",
    "gradB_avgReturn = [4.23, 4.44, 3.39, 3.6, 3.29, 3.42, 3.42]\n",
    "knn_avgReturn = [4.68, 4.32, 4.49, 3.83, 3.30, 3.31, 2.85]\n",
    "\n",
    "\n",
    "plt.figure(figsize=(12,4))\n",
    "\n",
    "linFit = LinearRegression().fit(np.array(test_set_size).reshape(-1,1), np.array(gradB_avgReturn).reshape(-1,1))\n",
    "plt.subplot(1,2,1)\n",
    "plt.scatter(test_set_size, gradB_avgReturn)\n",
    "plt.xlim([0, 1])\n",
    "plt.ylim([0, 7])\n",
    "plt.title('GradBoost Decision Tree\\n Portfolio Return/Test Set Size\\n Training Set Size=0.5', fontsize=14)\n",
    "plt.grid()\n",
    "plt.ylabel('Average Indexed Return')\n",
    "plt.xlabel('Test Set Size')\n",
    "plt.plot([0,1], linFit.predict(np.array([0,1]).reshape(-1,1)),'-')\n",
    "plt.plot([0,1],[2.4, 2.4],'r--')\n",
    "plt.legend(['Projected Return','S&P500','Averaged Returns'],loc='lower right')\n",
    "\n",
    "\n",
    "linFit = LinearRegression().fit(np.array(test_set_size).reshape(-1,1), np.array(knn_avgReturn).reshape(-1,1))\n",
    "plt.subplot(1,2,2)\n",
    "plt.scatter(test_set_size, knn_avgReturn)\n",
    "plt.xlim([0, 1])\n",
    "plt.ylim([0, 7])\n",
    "plt.title('K-Nearest Neighbours\\n Portfolio Return/Test Set Size\\n Training Set Size=0.5', fontsize=14)\n",
    "plt.grid()\n",
    "plt.ylabel('Average Indexed Return')\n",
    "plt.xlabel('Test Set Size')\n",
    "plt.plot([0,1], linFit.predict(np.array([0,1]).reshape(-1,1)),'-')\n",
    "plt.plot([0,1],[2.4, 2.4],'r--')\n",
    "plt.legend(['Projected Return','S&P500','Averaged Returns'],loc='lower right')\n"
   ]
  },
  {
   "cell_type": "markdown",
   "metadata": {},
   "source": [
    "# Final Stock Selection for 2020 with Gradient Boosted Decision Tree and K Nearest Neighbours"
   ]
  },
  {
   "cell_type": "code",
   "execution_count": null,
   "metadata": {},
   "outputs": [],
   "source": [
    "def pickStockForMe(model='GBoost'):\n",
    "    '''\n",
    "    Pick stocks.\n",
    "    Reads Annual_Stock_Price_Fundamentals_Ratios.csv,\n",
    "    and Annual_Stock_Price_Performance_Percentage.csv,\n",
    "    trains the AI with the best model/parameters,\n",
    "    Then picks stocks using outputs from Notebooks 1 and 2:\n",
    "    Annual_Stock_Price_Fundamentals_Ratios_2021.csv,\n",
    "    and Tickers_Dates_2021.csv.\n",
    "    Outputs a DataFrame of best picks.\n",
    "    '''\n",
    "    # Training X and Y of all previous year data\n",
    "    X=pd.read_csv(\"Annual_Stock_Price_Fundamentals_Ratios.csv\", \n",
    "                  index_col=0)\n",
    "    # annual stock performances\n",
    "    yperf=pd.read_csv(\"Annual_Stock_Price_Performance_Percentage.csv\", \n",
    "                      index_col=0)\n",
    "    \n",
    "    yperf=yperf[\"Perf\"]\n",
    "\n",
    "    # Stock selection ratios for 2021 X\n",
    "    X_2021=pd.read_csv(\"Annual_Stock_Price_Fundamentals_Ratios_2021.csv\"\n",
    "                       , index_col=0)\n",
    "    # And the row tickers\n",
    "    tickers=pd.read_csv(\"Tickers_Dates_2021.csv\", index_col=0)\n",
    "    \n",
    "    if model == 'GBoost':\n",
    "        # Gradient Boosted tree\n",
    "        model_pl = traingbregressorModel(X, yperf)\n",
    "        y_pred=model_pl.predict(X_2021)\n",
    "        y_pred=pd.DataFrame(y_pred)\n",
    "    \n",
    "    elif model == 'KNN':\n",
    "        # KNN\n",
    "        model_pl = trainKNeighborsModel(X, yperf)\n",
    "        y_pred=model_pl.predict(X_2021)\n",
    "        y_pred=pd.DataFrame(y_pred)\n",
    "    \n",
    "    else:\n",
    "        return None\n",
    "\n",
    "    # FINAL STOCK PICKS\n",
    "    # Separate out stocks with low Z scores\n",
    "    # 3.75 is approx. B- rating\n",
    "    z = calcZScores(X_2021)\n",
    "    zbl = (z['Z score'].reset_index(drop=True) > 2) \n",
    "\n",
    "    Final_Predictions = pd.DataFrame()\n",
    "    Final_Predictions[['Ticker','Report Date']] = \\\n",
    "    tickers[['Ticker','Date']].reset_index(drop=True)\\\n",
    "                               [zbl].reset_index(drop=True)\n",
    "    \n",
    "    Final_Predictions['Perf. Score'] = y_pred.reset_index(drop=True)\\\n",
    "                                       [zbl].reset_index(drop=True)\n",
    "\n",
    "    return Final_Predictions.sort_values(by='Perf. Score', \n",
    "                                         ascending=False)\\\n",
    "                                    .reset_index(drop=True).head(20)"
   ]
  },
  {
   "cell_type": "code",
   "execution_count": null,
   "metadata": {},
   "outputs": [],
   "source": [
    "# What it's all about.\n",
    "pickStockForMe()"
   ]
  },
  {
   "cell_type": "code",
   "execution_count": null,
   "metadata": {},
   "outputs": [],
   "source": [
    "pickStockForMe('KNN')"
   ]
  },
  {
   "cell_type": "code",
   "execution_count": null,
   "metadata": {},
   "outputs": [],
   "source": []
  }
 ],
 "metadata": {
  "kernelspec": {
   "display_name": "Python 3 (ipykernel)",
   "language": "python",
   "name": "python3"
  },
  "language_info": {
   "codemirror_mode": {
    "name": "ipython",
    "version": 3
   },
   "file_extension": ".py",
   "mimetype": "text/x-python",
   "name": "python",
   "nbconvert_exporter": "python",
   "pygments_lexer": "ipython3",
   "version": "3.9.7"
  }
 },
 "nbformat": 4,
 "nbformat_minor": 4
}
