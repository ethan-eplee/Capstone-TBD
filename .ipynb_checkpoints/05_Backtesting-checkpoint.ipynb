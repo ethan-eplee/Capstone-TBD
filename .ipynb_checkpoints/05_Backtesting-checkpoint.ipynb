{
 "cells": [
  {
   "cell_type": "code",
   "execution_count": 1,
   "id": "b598f5b7",
   "metadata": {},
   "outputs": [
    {
     "name": "stdout",
     "output_type": "stream",
     "text": [
      "time: 2 s (started: 2022-10-10 14:17:28 +08:00)\n"
     ]
    }
   ],
   "source": [
    "%load_ext autotime\n",
    "import pandas as pd\n",
    "import numpy as np\n",
    "import matplotlib.pyplot as plt\n",
    "import seaborn as sns\n",
    "\n",
    "import pickle\n",
    "import time\n",
    "import simfin as sf\n",
    "\n",
    "from sklearn.model_selection import train_test_split\n",
    "from sklearn.model_selection import learning_curve\n",
    "from sklearn.model_selection import ShuffleSplit\n",
    "\n",
    "from sklearn.linear_model import LinearRegression\n",
    "from sklearn.linear_model import ElasticNet\n",
    "\n",
    "from sklearn.neighbors import KNeighborsRegressor\n",
    "from sklearn.tree import DecisionTreeRegressor\n",
    "from sklearn.ensemble import RandomForestRegressor\n",
    "\n",
    "from sklearn.preprocessing import PowerTransformer\n",
    "from sklearn.pipeline import Pipeline\n",
    "from sklearn.metrics import mean_squared_error"
   ]
  },
  {
   "cell_type": "code",
   "execution_count": 2,
   "id": "ad711316",
   "metadata": {},
   "outputs": [
    {
     "name": "stdout",
     "output_type": "stream",
     "text": [
      "time: 0 ns (started: 2022-10-10 14:17:30 +08:00)\n"
     ]
    }
   ],
   "source": [
    "plt.rcParams['figure.figsize'] = [7.0, 4.5]\n",
    "plt.rcParams['figure.dpi'] = 150"
   ]
  },
  {
   "cell_type": "markdown",
   "id": "b5c155b6",
   "metadata": {},
   "source": [
    "# Preparation of data for backtesting"
   ]
  },
  {
   "cell_type": "markdown",
   "id": "9417df0c",
   "metadata": {},
   "source": [
    "- X loads all the fundamental ratios, without any labels on the stock performance.\n",
    "- y loads all the annual performance of the stocks, corresponding to X index\n",
    "- y_withdata loads the data of each stock on reporting date and the data one year later."
   ]
  },
  {
   "cell_type": "code",
   "execution_count": 3,
   "id": "330f1d0e",
   "metadata": {},
   "outputs": [
    {
     "name": "stdout",
     "output_type": "stream",
     "text": [
      "time: 31 ms (started: 2022-10-10 14:17:30 +08:00)\n"
     ]
    }
   ],
   "source": [
    "# Read in stock price fundamental ratios\n",
    "X = pickle.load(open('./data/fundamentals3.pkl', 'rb'))\n",
    "\n",
    "# Read in annual performance\n",
    "y = pickle.load(open('./data/performance3.pkl', 'rb'))\n",
    "y = y['Returns']\n",
    "\n",
    "# Read in annual performance\n",
    "y_withdata = pickle.load(open('./data/performance2.pkl', 'rb'))"
   ]
  },
  {
   "cell_type": "code",
   "execution_count": 4,
   "id": "3864b9ae",
   "metadata": {
    "scrolled": true
   },
   "outputs": [
    {
     "data": {
      "text/html": [
       "<div>\n",
       "<style scoped>\n",
       "    .dataframe tbody tr th:only-of-type {\n",
       "        vertical-align: middle;\n",
       "    }\n",
       "\n",
       "    .dataframe tbody tr th {\n",
       "        vertical-align: top;\n",
       "    }\n",
       "\n",
       "    .dataframe thead th {\n",
       "        text-align: right;\n",
       "    }\n",
       "</style>\n",
       "<table border=\"1\" class=\"dataframe\">\n",
       "  <thead>\n",
       "    <tr style=\"text-align: right;\">\n",
       "      <th></th>\n",
       "      <th>EV_EBIT</th>\n",
       "      <th>OI_NWCFA</th>\n",
       "      <th>PE</th>\n",
       "      <th>PB</th>\n",
       "      <th>PS</th>\n",
       "      <th>OI_IntExp</th>\n",
       "      <th>WorkingCap</th>\n",
       "      <th>ROE</th>\n",
       "      <th>ROCE</th>\n",
       "      <th>DE</th>\n",
       "      <th>DebtRatio</th>\n",
       "      <th>CashRatio</th>\n",
       "      <th>AssetTurnover</th>\n",
       "      <th>GPM</th>\n",
       "      <th>WC_TA</th>\n",
       "      <th>RE_TA</th>\n",
       "      <th>EBIT_TA</th>\n",
       "      <th>Equity_Liab</th>\n",
       "    </tr>\n",
       "  </thead>\n",
       "  <tbody>\n",
       "    <tr>\n",
       "      <th>0</th>\n",
       "      <td>82.797844</td>\n",
       "      <td>0.054971</td>\n",
       "      <td>112.795556</td>\n",
       "      <td>3.347207</td>\n",
       "      <td>12.792295</td>\n",
       "      <td>11.437500</td>\n",
       "      <td>3.846561</td>\n",
       "      <td>0.029675</td>\n",
       "      <td>0.024383</td>\n",
       "      <td>0.835610</td>\n",
       "      <td>2.196731</td>\n",
       "      <td>2.422222</td>\n",
       "      <td>1.738654</td>\n",
       "      <td>0.529253</td>\n",
       "      <td>0.345137</td>\n",
       "      <td>0.781242</td>\n",
       "      <td>0.021427</td>\n",
       "      <td>1.196731</td>\n",
       "    </tr>\n",
       "    <tr>\n",
       "      <th>1</th>\n",
       "      <td>73.741818</td>\n",
       "      <td>0.064395</td>\n",
       "      <td>93.220476</td>\n",
       "      <td>3.642102</td>\n",
       "      <td>14.677638</td>\n",
       "      <td>12.875000</td>\n",
       "      <td>3.337925</td>\n",
       "      <td>0.039070</td>\n",
       "      <td>0.030812</td>\n",
       "      <td>0.830698</td>\n",
       "      <td>2.203807</td>\n",
       "      <td>2.057851</td>\n",
       "      <td>1.633997</td>\n",
       "      <td>0.537957</td>\n",
       "      <td>0.323425</td>\n",
       "      <td>-0.057546</td>\n",
       "      <td>0.026550</td>\n",
       "      <td>1.203807</td>\n",
       "    </tr>\n",
       "    <tr>\n",
       "      <th>2</th>\n",
       "      <td>85.881068</td>\n",
       "      <td>0.061131</td>\n",
       "      <td>109.984756</td>\n",
       "      <td>4.122857</td>\n",
       "      <td>16.367967</td>\n",
       "      <td>13.400000</td>\n",
       "      <td>3.201348</td>\n",
       "      <td>0.037486</td>\n",
       "      <td>0.030165</td>\n",
       "      <td>0.832229</td>\n",
       "      <td>2.201593</td>\n",
       "      <td>2.012637</td>\n",
       "      <td>1.632593</td>\n",
       "      <td>0.537205</td>\n",
       "      <td>0.325973</td>\n",
       "      <td>-0.049027</td>\n",
       "      <td>0.025699</td>\n",
       "      <td>1.201593</td>\n",
       "    </tr>\n",
       "    <tr>\n",
       "      <th>3</th>\n",
       "      <td>93.118058</td>\n",
       "      <td>0.057908</td>\n",
       "      <td>112.367543</td>\n",
       "      <td>4.264654</td>\n",
       "      <td>17.651993</td>\n",
       "      <td>15.461538</td>\n",
       "      <td>3.219984</td>\n",
       "      <td>0.037953</td>\n",
       "      <td>0.029345</td>\n",
       "      <td>0.791585</td>\n",
       "      <td>2.263288</td>\n",
       "      <td>2.065270</td>\n",
       "      <td>1.555866</td>\n",
       "      <td>0.535009</td>\n",
       "      <td>0.333495</td>\n",
       "      <td>-0.031473</td>\n",
       "      <td>0.024936</td>\n",
       "      <td>1.263288</td>\n",
       "    </tr>\n",
       "    <tr>\n",
       "      <th>4</th>\n",
       "      <td>89.891130</td>\n",
       "      <td>0.063609</td>\n",
       "      <td>125.146780</td>\n",
       "      <td>4.581382</td>\n",
       "      <td>18.629924</td>\n",
       "      <td>17.923077</td>\n",
       "      <td>3.300871</td>\n",
       "      <td>0.036608</td>\n",
       "      <td>0.033366</td>\n",
       "      <td>0.742709</td>\n",
       "      <td>2.346422</td>\n",
       "      <td>2.120348</td>\n",
       "      <td>1.570674</td>\n",
       "      <td>0.544155</td>\n",
       "      <td>0.344885</td>\n",
       "      <td>-0.014954</td>\n",
       "      <td>0.028365</td>\n",
       "      <td>1.346422</td>\n",
       "    </tr>\n",
       "  </tbody>\n",
       "</table>\n",
       "</div>"
      ],
      "text/plain": [
       "     EV_EBIT  OI_NWCFA          PE        PB         PS  OI_IntExp  \\\n",
       "0  82.797844  0.054971  112.795556  3.347207  12.792295  11.437500   \n",
       "1  73.741818  0.064395   93.220476  3.642102  14.677638  12.875000   \n",
       "2  85.881068  0.061131  109.984756  4.122857  16.367967  13.400000   \n",
       "3  93.118058  0.057908  112.367543  4.264654  17.651993  15.461538   \n",
       "4  89.891130  0.063609  125.146780  4.581382  18.629924  17.923077   \n",
       "\n",
       "   WorkingCap       ROE      ROCE        DE  DebtRatio  CashRatio  \\\n",
       "0    3.846561  0.029675  0.024383  0.835610   2.196731   2.422222   \n",
       "1    3.337925  0.039070  0.030812  0.830698   2.203807   2.057851   \n",
       "2    3.201348  0.037486  0.030165  0.832229   2.201593   2.012637   \n",
       "3    3.219984  0.037953  0.029345  0.791585   2.263288   2.065270   \n",
       "4    3.300871  0.036608  0.033366  0.742709   2.346422   2.120348   \n",
       "\n",
       "   AssetTurnover       GPM     WC_TA     RE_TA   EBIT_TA  Equity_Liab  \n",
       "0       1.738654  0.529253  0.345137  0.781242  0.021427     1.196731  \n",
       "1       1.633997  0.537957  0.323425 -0.057546  0.026550     1.203807  \n",
       "2       1.632593  0.537205  0.325973 -0.049027  0.025699     1.201593  \n",
       "3       1.555866  0.535009  0.333495 -0.031473  0.024936     1.263288  \n",
       "4       1.570674  0.544155  0.344885 -0.014954  0.028365     1.346422  "
      ]
     },
     "execution_count": 4,
     "metadata": {},
     "output_type": "execute_result"
    },
    {
     "name": "stdout",
     "output_type": "stream",
     "text": [
      "time: 15 ms (started: 2022-10-10 14:17:31 +08:00)\n"
     ]
    }
   ],
   "source": [
    "X.head()"
   ]
  },
  {
   "cell_type": "code",
   "execution_count": 5,
   "id": "f1e7d967",
   "metadata": {},
   "outputs": [
    {
     "name": "stdout",
     "output_type": "stream",
     "text": [
      "<class 'pandas.core.frame.DataFrame'>\n",
      "RangeIndex: 38307 entries, 0 to 38306\n",
      "Data columns (total 18 columns):\n",
      " #   Column         Non-Null Count  Dtype  \n",
      "---  ------         --------------  -----  \n",
      " 0   EV_EBIT        38307 non-null  float64\n",
      " 1   OI_NWCFA       38307 non-null  float64\n",
      " 2   PE             38307 non-null  float64\n",
      " 3   PB             38307 non-null  float64\n",
      " 4   PS             38307 non-null  float64\n",
      " 5   OI_IntExp      38307 non-null  float64\n",
      " 6   WorkingCap     38307 non-null  float64\n",
      " 7   ROE            38307 non-null  float64\n",
      " 8   ROCE           38307 non-null  float64\n",
      " 9   DE             38307 non-null  float64\n",
      " 10  DebtRatio      38307 non-null  float64\n",
      " 11  CashRatio      38307 non-null  float64\n",
      " 12  AssetTurnover  38307 non-null  float64\n",
      " 13  GPM            38307 non-null  float64\n",
      " 14  WC_TA          38307 non-null  float64\n",
      " 15  RE_TA          38307 non-null  float64\n",
      " 16  EBIT_TA        38307 non-null  float64\n",
      " 17  Equity_Liab    38307 non-null  float64\n",
      "dtypes: float64(18)\n",
      "memory usage: 5.3 MB\n",
      "time: 0 ns (started: 2022-10-10 14:17:31 +08:00)\n"
     ]
    }
   ],
   "source": [
    "X.info()"
   ]
  },
  {
   "cell_type": "code",
   "execution_count": 6,
   "id": "6cbddf23",
   "metadata": {
    "scrolled": true
   },
   "outputs": [
    {
     "data": {
      "text/plain": [
       "0    0.563351\n",
       "1    0.535595\n",
       "2    0.198018\n",
       "3    0.076426\n",
       "4   -0.050044\n",
       "Name: Returns, dtype: object"
      ]
     },
     "execution_count": 6,
     "metadata": {},
     "output_type": "execute_result"
    },
    {
     "name": "stdout",
     "output_type": "stream",
     "text": [
      "time: 0 ns (started: 2022-10-10 14:17:31 +08:00)\n"
     ]
    }
   ],
   "source": [
    "y.head()"
   ]
  },
  {
   "cell_type": "code",
   "execution_count": 7,
   "id": "64d304cd",
   "metadata": {},
   "outputs": [
    {
     "data": {
      "text/plain": [
       "8657"
      ]
     },
     "execution_count": 7,
     "metadata": {},
     "output_type": "execute_result"
    },
    {
     "name": "stdout",
     "output_type": "stream",
     "text": [
      "time: 0 ns (started: 2022-10-10 14:17:31 +08:00)\n"
     ]
    }
   ],
   "source": [
    "y.isnull().sum()"
   ]
  },
  {
   "cell_type": "code",
   "execution_count": 8,
   "id": "af09935c",
   "metadata": {},
   "outputs": [
    {
     "data": {
      "text/html": [
       "<div>\n",
       "<style scoped>\n",
       "    .dataframe tbody tr th:only-of-type {\n",
       "        vertical-align: middle;\n",
       "    }\n",
       "\n",
       "    .dataframe tbody tr th {\n",
       "        vertical-align: top;\n",
       "    }\n",
       "\n",
       "    .dataframe thead th {\n",
       "        text-align: right;\n",
       "    }\n",
       "</style>\n",
       "<table border=\"1\" class=\"dataframe\">\n",
       "  <thead>\n",
       "    <tr style=\"text-align: right;\">\n",
       "      <th></th>\n",
       "      <th>Ticker</th>\n",
       "      <th>Date1</th>\n",
       "      <th>Open1</th>\n",
       "      <th>Volume1</th>\n",
       "      <th>Date2</th>\n",
       "      <th>Open2</th>\n",
       "      <th>Volume2</th>\n",
       "    </tr>\n",
       "  </thead>\n",
       "  <tbody>\n",
       "    <tr>\n",
       "      <th>0</th>\n",
       "      <td>A</td>\n",
       "      <td>2016-10-31</td>\n",
       "      <td>43.33</td>\n",
       "      <td>1556762.0</td>\n",
       "      <td>2017-10-31</td>\n",
       "      <td>67.74</td>\n",
       "      <td>1609938.0</td>\n",
       "    </tr>\n",
       "    <tr>\n",
       "      <th>1</th>\n",
       "      <td>A</td>\n",
       "      <td>2017-01-31</td>\n",
       "      <td>48.04</td>\n",
       "      <td>2552612.0</td>\n",
       "      <td>2018-01-31</td>\n",
       "      <td>73.77</td>\n",
       "      <td>1949108.0</td>\n",
       "    </tr>\n",
       "    <tr>\n",
       "      <th>2</th>\n",
       "      <td>A</td>\n",
       "      <td>2017-04-30</td>\n",
       "      <td>55.50</td>\n",
       "      <td>1897018.0</td>\n",
       "      <td>2018-04-30</td>\n",
       "      <td>66.49</td>\n",
       "      <td>2277705.0</td>\n",
       "    </tr>\n",
       "    <tr>\n",
       "      <th>3</th>\n",
       "      <td>A</td>\n",
       "      <td>2017-07-31</td>\n",
       "      <td>60.32</td>\n",
       "      <td>1038744.0</td>\n",
       "      <td>2018-07-31</td>\n",
       "      <td>64.93</td>\n",
       "      <td>2539265.0</td>\n",
       "    </tr>\n",
       "    <tr>\n",
       "      <th>4</th>\n",
       "      <td>A</td>\n",
       "      <td>2017-10-31</td>\n",
       "      <td>67.74</td>\n",
       "      <td>1609938.0</td>\n",
       "      <td>2018-10-31</td>\n",
       "      <td>64.35</td>\n",
       "      <td>3820987.0</td>\n",
       "    </tr>\n",
       "  </tbody>\n",
       "</table>\n",
       "</div>"
      ],
      "text/plain": [
       "  Ticker      Date1  Open1    Volume1      Date2  Open2    Volume2\n",
       "0      A 2016-10-31  43.33  1556762.0 2017-10-31  67.74  1609938.0\n",
       "1      A 2017-01-31  48.04  2552612.0 2018-01-31  73.77  1949108.0\n",
       "2      A 2017-04-30  55.50  1897018.0 2018-04-30  66.49  2277705.0\n",
       "3      A 2017-07-31  60.32  1038744.0 2018-07-31  64.93  2539265.0\n",
       "4      A 2017-10-31  67.74  1609938.0 2018-10-31  64.35  3820987.0"
      ]
     },
     "execution_count": 8,
     "metadata": {},
     "output_type": "execute_result"
    },
    {
     "name": "stdout",
     "output_type": "stream",
     "text": [
      "time: 0 ns (started: 2022-10-10 14:17:31 +08:00)\n"
     ]
    }
   ],
   "source": [
    "y_withdata.head()"
   ]
  },
  {
   "cell_type": "code",
   "execution_count": 9,
   "id": "6b755047",
   "metadata": {},
   "outputs": [
    {
     "name": "stdout",
     "output_type": "stream",
     "text": [
      "time: 125 ms (started: 2022-10-10 14:17:31 +08:00)\n"
     ]
    }
   ],
   "source": [
    "# X and Y (splitting for train/test done previously for trained model)\n",
    "X_train=pd.read_csv(\"Annual_Stock_Price_Fundamentals_Ratios_train.csv\", \n",
    "                    index_col=0)\n",
    "X_test=pd.read_csv(\"Annual_Stock_Price_Fundamentals_Ratios_test.csv\", \n",
    "                   index_col=0)\n",
    "y_train=pd.read_csv(\"Annual_Stock_Price_Performance_Percentage_train.csv\", \n",
    "                    index_col=0)['Returns']\n",
    "y_test=pd.read_csv(\"Annual_Stock_Price_Performance_Percentage_test.csv\", \n",
    "                   index_col=0)['Returns']"
   ]
  },
  {
   "cell_type": "code",
   "execution_count": 82,
   "id": "96da7517",
   "metadata": {},
   "outputs": [
    {
     "name": "stdout",
     "output_type": "stream",
     "text": [
      "time: 0 ns (started: 2022-10-10 15:23:27 +08:00)\n"
     ]
    }
   ],
   "source": [
    "y_withdata_test = pd.DataFrame()\n",
    "y_withdata_test = y_withdata.loc[y_test.index, :]"
   ]
  },
  {
   "cell_type": "code",
   "execution_count": 11,
   "id": "e35288db",
   "metadata": {
    "scrolled": true
   },
   "outputs": [
    {
     "name": "stdout",
     "output_type": "stream",
     "text": [
      "time: 16 ms (started: 2022-10-10 14:17:31 +08:00)\n"
     ]
    }
   ],
   "source": [
    "rf = pickle.load(open('rf_regressor.p', 'rb'))"
   ]
  },
  {
   "cell_type": "code",
   "execution_count": 12,
   "id": "13b3cf07",
   "metadata": {},
   "outputs": [
    {
     "name": "stdout",
     "output_type": "stream",
     "text": [
      "time: 17.3 s (started: 2022-10-10 14:17:31 +08:00)\n"
     ]
    }
   ],
   "source": [
    "# fit and predict using Random Forest\n",
    "rf.fit(X_train, y_train)\n",
    "y_pred = rf.predict(X_test)"
   ]
  },
  {
   "cell_type": "code",
   "execution_count": 13,
   "id": "d9ef18d8",
   "metadata": {},
   "outputs": [
    {
     "name": "stdout",
     "output_type": "stream",
     "text": [
      "Train MSE: 0.6734017695836776\n",
      "Test MSE: 1.017684904552254\n",
      "Generalisation: -51.126%\n",
      "time: 141 ms (started: 2022-10-10 14:17:48 +08:00)\n"
     ]
    }
   ],
   "source": [
    "mse_train = mean_squared_error(y_train, rf.predict(X_train), squared=True)\n",
    "mse_test = mean_squared_error(y_test, y_pred, squared=True)\n",
    "pct_diff = round((1-mse_test/mse_train)*100,3)\n",
    "\n",
    "print('Train MSE:', mse_train)\n",
    "print('Test MSE:', mse_test)\n",
    "print(f'Generalisation: {pct_diff}%')"
   ]
  },
  {
   "cell_type": "markdown",
   "id": "969cd2ec",
   "metadata": {},
   "source": [
    "## Download the daily price data"
   ]
  },
  {
   "cell_type": "code",
   "execution_count": 14,
   "id": "5ccad912",
   "metadata": {},
   "outputs": [
    {
     "name": "stdout",
     "output_type": "stream",
     "text": [
      "time: 0 ns (started: 2022-10-10 14:17:48 +08:00)\n"
     ]
    }
   ],
   "source": [
    "# Set your SimFin+ API-key for downloading data.\n",
    "sf.set_api_key('nYdjeL237mt7QaQ4OZTaPa4Xn3YECrTH')\n",
    "\n",
    "# Set the local directory where data-files are stored.\n",
    "# The directory will be created if it does not already exist.\n",
    "sf.set_data_dir('~/simfin_data/')"
   ]
  },
  {
   "cell_type": "code",
   "execution_count": 15,
   "id": "0dbec544",
   "metadata": {},
   "outputs": [
    {
     "name": "stdout",
     "output_type": "stream",
     "text": [
      "Dataset \"us-shareprices-daily\" on disk (2 days old).\n",
      "- Loading from disk ... Done!\n",
      "time: 10.3 s (started: 2022-10-10 14:17:48 +08:00)\n"
     ]
    }
   ],
   "source": [
    "# Download the data from the SimFin server and load into a Pandas DataFrame.\n",
    "df_prices = sf.load_shareprices(variant='daily', market='us')\n",
    "df_prices.reset_index(inplace=True)"
   ]
  },
  {
   "cell_type": "code",
   "execution_count": 16,
   "id": "313232d5",
   "metadata": {},
   "outputs": [
    {
     "data": {
      "text/html": [
       "<div>\n",
       "<style scoped>\n",
       "    .dataframe tbody tr th:only-of-type {\n",
       "        vertical-align: middle;\n",
       "    }\n",
       "\n",
       "    .dataframe tbody tr th {\n",
       "        vertical-align: top;\n",
       "    }\n",
       "\n",
       "    .dataframe thead th {\n",
       "        text-align: right;\n",
       "    }\n",
       "</style>\n",
       "<table border=\"1\" class=\"dataframe\">\n",
       "  <thead>\n",
       "    <tr style=\"text-align: right;\">\n",
       "      <th></th>\n",
       "      <th>Ticker</th>\n",
       "      <th>Date</th>\n",
       "      <th>SimFinId</th>\n",
       "      <th>Open</th>\n",
       "      <th>Low</th>\n",
       "      <th>High</th>\n",
       "      <th>Close</th>\n",
       "      <th>Adj. Close</th>\n",
       "      <th>Dividend</th>\n",
       "      <th>Volume</th>\n",
       "      <th>Shares Outstanding</th>\n",
       "    </tr>\n",
       "  </thead>\n",
       "  <tbody>\n",
       "    <tr>\n",
       "      <th>0</th>\n",
       "      <td>A</td>\n",
       "      <td>2016-10-06</td>\n",
       "      <td>45846</td>\n",
       "      <td>47.01</td>\n",
       "      <td>46.88</td>\n",
       "      <td>47.43</td>\n",
       "      <td>47.30</td>\n",
       "      <td>45.09</td>\n",
       "      <td>NaN</td>\n",
       "      <td>1772801</td>\n",
       "      <td>324384755.0</td>\n",
       "    </tr>\n",
       "    <tr>\n",
       "      <th>1</th>\n",
       "      <td>A</td>\n",
       "      <td>2016-10-07</td>\n",
       "      <td>45846</td>\n",
       "      <td>47.33</td>\n",
       "      <td>46.99</td>\n",
       "      <td>47.49</td>\n",
       "      <td>47.38</td>\n",
       "      <td>45.16</td>\n",
       "      <td>NaN</td>\n",
       "      <td>1663127</td>\n",
       "      <td>324384755.0</td>\n",
       "    </tr>\n",
       "    <tr>\n",
       "      <th>2</th>\n",
       "      <td>A</td>\n",
       "      <td>2016-10-10</td>\n",
       "      <td>45846</td>\n",
       "      <td>47.58</td>\n",
       "      <td>47.55</td>\n",
       "      <td>48.15</td>\n",
       "      <td>47.69</td>\n",
       "      <td>45.46</td>\n",
       "      <td>NaN</td>\n",
       "      <td>1544958</td>\n",
       "      <td>324384755.0</td>\n",
       "    </tr>\n",
       "    <tr>\n",
       "      <th>3</th>\n",
       "      <td>A</td>\n",
       "      <td>2016-10-11</td>\n",
       "      <td>45846</td>\n",
       "      <td>47.19</td>\n",
       "      <td>45.42</td>\n",
       "      <td>47.19</td>\n",
       "      <td>45.69</td>\n",
       "      <td>43.55</td>\n",
       "      <td>NaN</td>\n",
       "      <td>2912537</td>\n",
       "      <td>324384755.0</td>\n",
       "    </tr>\n",
       "    <tr>\n",
       "      <th>4</th>\n",
       "      <td>A</td>\n",
       "      <td>2016-10-12</td>\n",
       "      <td>45846</td>\n",
       "      <td>45.78</td>\n",
       "      <td>45.42</td>\n",
       "      <td>45.81</td>\n",
       "      <td>45.47</td>\n",
       "      <td>43.34</td>\n",
       "      <td>NaN</td>\n",
       "      <td>1736076</td>\n",
       "      <td>324384755.0</td>\n",
       "    </tr>\n",
       "  </tbody>\n",
       "</table>\n",
       "</div>"
      ],
      "text/plain": [
       "  Ticker       Date  SimFinId   Open    Low   High  Close  Adj. Close  \\\n",
       "0      A 2016-10-06     45846  47.01  46.88  47.43  47.30       45.09   \n",
       "1      A 2016-10-07     45846  47.33  46.99  47.49  47.38       45.16   \n",
       "2      A 2016-10-10     45846  47.58  47.55  48.15  47.69       45.46   \n",
       "3      A 2016-10-11     45846  47.19  45.42  47.19  45.69       43.55   \n",
       "4      A 2016-10-12     45846  45.78  45.42  45.81  45.47       43.34   \n",
       "\n",
       "   Dividend   Volume  Shares Outstanding  \n",
       "0       NaN  1772801         324384755.0  \n",
       "1       NaN  1663127         324384755.0  \n",
       "2       NaN  1544958         324384755.0  \n",
       "3       NaN  2912537         324384755.0  \n",
       "4       NaN  1736076         324384755.0  "
      ]
     },
     "execution_count": 16,
     "metadata": {},
     "output_type": "execute_result"
    },
    {
     "name": "stdout",
     "output_type": "stream",
     "text": [
      "time: 0 ns (started: 2022-10-10 14:17:59 +08:00)\n"
     ]
    }
   ],
   "source": [
    "# Print the first rows of the data.\n",
    "df_prices.head()"
   ]
  },
  {
   "cell_type": "code",
   "execution_count": 17,
   "id": "df6168d1",
   "metadata": {},
   "outputs": [
    {
     "data": {
      "text/plain": [
       "(3172869, 11)"
      ]
     },
     "execution_count": 17,
     "metadata": {},
     "output_type": "execute_result"
    },
    {
     "name": "stdout",
     "output_type": "stream",
     "text": [
      "time: 0 ns (started: 2022-10-10 14:17:59 +08:00)\n"
     ]
    }
   ],
   "source": [
    "df_prices.shape"
   ]
  },
  {
   "cell_type": "markdown",
   "id": "c082220c",
   "metadata": {},
   "source": [
    "# Define Functions here"
   ]
  },
  {
   "cell_type": "markdown",
   "id": "64174e81",
   "metadata": {},
   "source": [
    "### Function 0: Get the y performance from a dataframe"
   ]
  },
  {
   "cell_type": "code",
   "execution_count": 18,
   "id": "b215dc30",
   "metadata": {},
   "outputs": [
    {
     "name": "stdout",
     "output_type": "stream",
     "text": [
      "time: 0 ns (started: 2022-10-10 14:17:59 +08:00)\n"
     ]
    }
   ],
   "source": [
    "# We pass a dataframe, we want the function to calculate the % returns between two dates.\n",
    "\n",
    "def getYPerf(y1):\n",
    "    y2=pd.DataFrame()\n",
    "    y2[\"Ticker\"] = y1[\"Ticker\"]\n",
    "    y2[\"Perf\"]=(y1[\"Open2\"]-y1[\"Open1\"])/y1[\"Open1\"]\n",
    "    \n",
    "    # Any row that performance cannot be calculated to be filled with zeros\n",
    "    y2[y2[\"Perf\"].isnull()]=0\n",
    "    return y2"
   ]
  },
  {
   "cell_type": "markdown",
   "id": "7214e841",
   "metadata": {},
   "source": [
    "### Function 1: Get stock price between dates"
   ]
  },
  {
   "cell_type": "code",
   "execution_count": 19,
   "id": "46e15df0",
   "metadata": {
    "scrolled": true
   },
   "outputs": [
    {
     "name": "stdout",
     "output_type": "stream",
     "text": [
      "time: 0 ns (started: 2022-10-10 14:17:59 +08:00)\n"
     ]
    }
   ],
   "source": [
    "# To get the stock price between 2 dates for a particular ticker\n",
    "\n",
    "def getStockPriceBetweenDates(date1, date2, ticker, df_prices):\n",
    "    rows = df_prices.loc[(df_prices[\"Date\"]>date1) & \n",
    "                         (df_prices[\"Date\"]<date2) & \n",
    "                         (df_prices[\"Ticker\"]==ticker)]\n",
    "    return rows"
   ]
  },
  {
   "cell_type": "code",
   "execution_count": 20,
   "id": "c324520d",
   "metadata": {
    "scrolled": true
   },
   "outputs": [
    {
     "data": {
      "text/html": [
       "<div>\n",
       "<style scoped>\n",
       "    .dataframe tbody tr th:only-of-type {\n",
       "        vertical-align: middle;\n",
       "    }\n",
       "\n",
       "    .dataframe tbody tr th {\n",
       "        vertical-align: top;\n",
       "    }\n",
       "\n",
       "    .dataframe thead th {\n",
       "        text-align: right;\n",
       "    }\n",
       "</style>\n",
       "<table border=\"1\" class=\"dataframe\">\n",
       "  <thead>\n",
       "    <tr style=\"text-align: right;\">\n",
       "      <th></th>\n",
       "      <th>Ticker</th>\n",
       "      <th>Date</th>\n",
       "      <th>SimFinId</th>\n",
       "      <th>Open</th>\n",
       "      <th>Low</th>\n",
       "      <th>High</th>\n",
       "      <th>Close</th>\n",
       "      <th>Adj. Close</th>\n",
       "      <th>Dividend</th>\n",
       "      <th>Volume</th>\n",
       "      <th>Shares Outstanding</th>\n",
       "    </tr>\n",
       "  </thead>\n",
       "  <tbody>\n",
       "    <tr>\n",
       "      <th>10283</th>\n",
       "      <td>AAPL</td>\n",
       "      <td>2016-10-10</td>\n",
       "      <td>111052</td>\n",
       "      <td>28.75</td>\n",
       "      <td>28.68</td>\n",
       "      <td>29.19</td>\n",
       "      <td>29.01</td>\n",
       "      <td>27.05</td>\n",
       "      <td>NaN</td>\n",
       "      <td>144943824</td>\n",
       "      <td>2.134466e+10</td>\n",
       "    </tr>\n",
       "    <tr>\n",
       "      <th>10284</th>\n",
       "      <td>AAPL</td>\n",
       "      <td>2016-10-11</td>\n",
       "      <td>111052</td>\n",
       "      <td>29.43</td>\n",
       "      <td>29.05</td>\n",
       "      <td>29.67</td>\n",
       "      <td>29.07</td>\n",
       "      <td>27.11</td>\n",
       "      <td>NaN</td>\n",
       "      <td>256164172</td>\n",
       "      <td>2.134466e+10</td>\n",
       "    </tr>\n",
       "    <tr>\n",
       "      <th>10285</th>\n",
       "      <td>AAPL</td>\n",
       "      <td>2016-10-12</td>\n",
       "      <td>111052</td>\n",
       "      <td>29.34</td>\n",
       "      <td>29.19</td>\n",
       "      <td>29.50</td>\n",
       "      <td>29.34</td>\n",
       "      <td>27.35</td>\n",
       "      <td>NaN</td>\n",
       "      <td>150347148</td>\n",
       "      <td>2.134466e+10</td>\n",
       "    </tr>\n",
       "    <tr>\n",
       "      <th>10286</th>\n",
       "      <td>AAPL</td>\n",
       "      <td>2016-10-13</td>\n",
       "      <td>111052</td>\n",
       "      <td>29.20</td>\n",
       "      <td>28.93</td>\n",
       "      <td>29.36</td>\n",
       "      <td>29.25</td>\n",
       "      <td>27.27</td>\n",
       "      <td>NaN</td>\n",
       "      <td>140769624</td>\n",
       "      <td>2.134466e+10</td>\n",
       "    </tr>\n",
       "    <tr>\n",
       "      <th>10287</th>\n",
       "      <td>AAPL</td>\n",
       "      <td>2016-10-14</td>\n",
       "      <td>111052</td>\n",
       "      <td>29.47</td>\n",
       "      <td>29.28</td>\n",
       "      <td>29.54</td>\n",
       "      <td>29.41</td>\n",
       "      <td>27.42</td>\n",
       "      <td>NaN</td>\n",
       "      <td>142608764</td>\n",
       "      <td>2.132925e+10</td>\n",
       "    </tr>\n",
       "  </tbody>\n",
       "</table>\n",
       "</div>"
      ],
      "text/plain": [
       "      Ticker       Date  SimFinId   Open    Low   High  Close  Adj. Close  \\\n",
       "10283   AAPL 2016-10-10    111052  28.75  28.68  29.19  29.01       27.05   \n",
       "10284   AAPL 2016-10-11    111052  29.43  29.05  29.67  29.07       27.11   \n",
       "10285   AAPL 2016-10-12    111052  29.34  29.19  29.50  29.34       27.35   \n",
       "10286   AAPL 2016-10-13    111052  29.20  28.93  29.36  29.25       27.27   \n",
       "10287   AAPL 2016-10-14    111052  29.47  29.28  29.54  29.41       27.42   \n",
       "\n",
       "       Dividend     Volume  Shares Outstanding  \n",
       "10283       NaN  144943824        2.134466e+10  \n",
       "10284       NaN  256164172        2.134466e+10  \n",
       "10285       NaN  150347148        2.134466e+10  \n",
       "10286       NaN  140769624        2.134466e+10  \n",
       "10287       NaN  142608764        2.132925e+10  "
      ]
     },
     "execution_count": 20,
     "metadata": {},
     "output_type": "execute_result"
    },
    {
     "name": "stdout",
     "output_type": "stream",
     "text": [
      "time: 266 ms (started: 2022-10-10 14:17:59 +08:00)\n"
     ]
    }
   ],
   "source": [
    "# Testing above function\n",
    "getStockPriceBetweenDates('2016-10-09', '2016-10-15', 'AAPL', df_prices)"
   ]
  },
  {
   "cell_type": "markdown",
   "id": "c10bb8a8",
   "metadata": {},
   "source": [
    "### Function 2: Get stock price data"
   ]
  },
  {
   "cell_type": "code",
   "execution_count": 21,
   "id": "517c716f",
   "metadata": {},
   "outputs": [
    {
     "name": "stdout",
     "output_type": "stream",
     "text": [
      "time: 0 ns (started: 2022-10-10 14:17:59 +08:00)\n"
     ]
    }
   ],
   "source": [
    "# Expansion of the above\n",
    "# Will do a filter on all the prices to get stock price we want on the days we want\n",
    "\n",
    "def getStockPriceData(ticker, y, mask, dailystock_prices):\n",
    "    date1 = y[mask][y[mask][\"Ticker\"] == ticker][\"Date1\"].values[0]\n",
    "    date2 = y[mask][y[mask][\"Ticker\"] == ticker][\"Date2\"].values[0]\n",
    "    rows = getStockPriceBetweenDates(date1, date2, ticker, dailystock_prices)\n",
    "    return rows"
   ]
  },
  {
   "cell_type": "markdown",
   "id": "be6f362e",
   "metadata": {},
   "source": [
    "### Function 3: Get data for date range (get the price data every week) "
   ]
  },
  {
   "cell_type": "code",
   "execution_count": 22,
   "id": "7993c1c6",
   "metadata": {},
   "outputs": [
    {
     "name": "stdout",
     "output_type": "stream",
     "text": [
      "time: 0 ns (started: 2022-10-10 14:17:59 +08:00)\n"
     ]
    }
   ],
   "source": [
    "# Weekly date index is the weekly dates and rows are the stock price data\n",
    "\n",
    "def getDataForDateRange(weekly_date_index, rows):\n",
    "   \n",
    "    # Create an empty dataframe to store the weekly stock data later\n",
    "    WeeklyStockDataRows = pd.DataFrame()\n",
    "\n",
    "    for i in weekly_date_index:\n",
    "        WeeklyStockDataRows = WeeklyStockDataRows.append\\\n",
    "        (rows.iloc[rows.index.get_loc(i, method=\"nearest\")])\n",
    "    \n",
    "    return WeeklyStockDataRows"
   ]
  },
  {
   "cell_type": "markdown",
   "id": "10ea1415",
   "metadata": {},
   "source": [
    "### Function 4: Get Stock Time Series"
   ]
  },
  {
   "cell_type": "code",
   "execution_count": 23,
   "id": "7d3a80fd",
   "metadata": {},
   "outputs": [
    {
     "name": "stdout",
     "output_type": "stream",
     "text": [
      "time: 0 ns (started: 2022-10-10 14:17:59 +08:00)\n"
     ]
    }
   ],
   "source": [
    "# Returns the rows from df_prices of the stocks and years that we want\n",
    "# Get stock price a time series Dataframe for list of tickers\n",
    "# Index is usually weekly, so we know what price info to extract\n",
    "\n",
    "def getStockTimeSeries(dateTimeIndex, y_withData, tickers_list, mask, df_prices):\n",
    "\n",
    "    # Empty dateframe to record weekly stock returns\n",
    "    stockReturns = pd.DataFrame(index=dateTimeIndex)\n",
    "    \n",
    "    # Change Date Format of weekly date time index\n",
    "    weekly_dti = dateTimeIndex.strftime('%Y-%m-%d')\n",
    "    rows = pd.DataFrame()\n",
    "    \n",
    "    for tick in tickers_list:\n",
    "        # Rows is stock price time series data for individual stock\n",
    "        rows = getStockPriceData(tick, y_withData, mask, df_prices)\n",
    "        \n",
    "        # Change the index of the time series data to be the \"Date\"\n",
    "        rows.index = pd.DatetimeIndex(rows[\"Date\"])\n",
    "\n",
    "        # Gets our stock price data to be in a weekly format, using the closest day if the data for a day we want is missing.\n",
    "        WeeklyStockDataRows = getDataForDateRange(weekly_dti, rows)\n",
    "\n",
    "        # We can choose to use Open, Close, or Adj Close\n",
    "        stockReturns[tick] = WeeklyStockDataRows[\"Close\"].values\n",
    "        \n",
    "    return stockReturns"
   ]
  },
  {
   "cell_type": "markdown",
   "id": "be2f5d5f",
   "metadata": {},
   "source": [
    "### Function 5: Get portfolio relative time series (Start from base level of 100)"
   ]
  },
  {
   "cell_type": "code",
   "execution_count": 24,
   "id": "85bb0b8b",
   "metadata": {},
   "outputs": [
    {
     "name": "stdout",
     "output_type": "stream",
     "text": [
      "time: 0 ns (started: 2022-10-10 14:17:59 +08:00)\n"
     ]
    }
   ],
   "source": [
    "# Takes the dataframe of stock returns (from previous function), one column per stock\n",
    "# Price at the start is 1, all other values after is the relative performance\n",
    "# Adds a column \"PortValue\" to record the portfolio value\n",
    "\n",
    "def getPortfolioRelativeTimeSeries(stockReturns):\n",
    "    \n",
    "    for tick in stockReturns.columns:\n",
    "        stockReturns[tick] = stockReturns[tick]/stockReturns[tick][0]\n",
    "            \n",
    "    # Because it is equally weighted, we take the sum of the returns divide by number of tickers\n",
    "    stockReturns[\"PortValue\"] = stockReturns.sum(axis=1)/(stockReturns.columns.shape[0])\n",
    "    return stockReturns"
   ]
  },
  {
   "cell_type": "markdown",
   "id": "6af2b452",
   "metadata": {},
   "source": [
    "### Function 6: Get Portfolio Time Series for the year"
   ]
  },
  {
   "cell_type": "code",
   "execution_count": 25,
   "id": "dd81d3bf",
   "metadata": {},
   "outputs": [
    {
     "name": "stdout",
     "output_type": "stream",
     "text": [
      "time: 0 ns (started: 2022-10-10 14:17:59 +08:00)\n"
     ]
    }
   ],
   "source": [
    "# This function runs a backtest and returns the selected stocks performance for 1 year (from start of year)\n",
    "# df_prices is daily(mostly) stock price time series for all stocks\n",
    "\n",
    "def getPortTimeSeriesForYear(datestart, y_withData, X, df_prices, model):\n",
    "\n",
    "    # Get y dataframe with ticker and ticker performance only\n",
    "    # Those with null values, will just fill up with zeros for tickers and returns\n",
    "    y = getYPerf(y_withData)\n",
    "    \n",
    "    # For this year, we want to predict on stocks which reported 2 months before start of year up to Oct.\n",
    "    # Time period Oct to Oct\n",
    "    thisYearMask = y_withData[\"Date1\"].between(pd.to_datetime(datestart) - pd.Timedelta(days=60),\\\n",
    "                                               pd.to_datetime(datestart) + pd.Timedelta(days=300))\n",
    "    \n",
    "    # Get return prediction from model\n",
    "    y_pred = model.predict(X[thisYearMask])\n",
    "    \n",
    "    # Make it a DataFrame so we can select the top predictions\n",
    "    y_pred = pd.DataFrame(y_pred)\n",
    "\n",
    "    # Create a mask to find the list of top 10 stocks with highest predicted performance\n",
    "    # Essentially, which are the returns that are higher than the 11th largest value.\n",
    "    top10mask = (y_pred[0]> y_pred.nlargest(11,0).tail(1)[0].values[0]) \n",
    "    \n",
    "    # Weekly Date Index\n",
    "    weeklyDateIndex = pd.date_range(start=datestart, periods=52, freq='W')\n",
    "    \n",
    "    # 10 best performing stocks of the predictions \n",
    "    ticker_list = y[thisYearMask].reset_index(drop=True)[top10mask][\"Ticker\"].values\n",
    "    \n",
    "    # Issue with one of the tickers equaling 0, fix with lambda function\n",
    "    ticker_list = list(filter(lambda weeklyDateIndex: weeklyDateIndex != 0, ticker_list))\n",
    "\n",
    "    # After we have our 10 stock picks, we want to find the stock prices and performances\n",
    "    # Returns dataFrame of the time, tickers as the column keys and stocks prices\n",
    "    stockReturns = getStockTimeSeries(weeklyDateIndex, y_withData, ticker_list, thisYearMask, df_prices)\n",
    "    \n",
    "    # Transform the stock prices above into relative returns\n",
    "    stockReturnsRel = getPortfolioRelativeTimeSeries(stockReturns)\n",
    "    \n",
    "    # Returns the relative performance dataframe, the cumulative portfolio perf, and the ticker list of top 10 stocks\n",
    "    return [stockReturnsRel, stockReturnsRel[\"PortValue\"], ticker_list]"
   ]
  },
  {
   "cell_type": "markdown",
   "id": "87ff3f9e",
   "metadata": {},
   "source": [
    "### Function 7: Get portfolio time series"
   ]
  },
  {
   "cell_type": "code",
   "execution_count": 26,
   "id": "1b86ff98",
   "metadata": {},
   "outputs": [
    {
     "name": "stdout",
     "output_type": "stream",
     "text": [
      "time: 0 ns (started: 2022-10-10 14:17:59 +08:00)\n"
     ]
    }
   ],
   "source": [
    "def getPortTimeSeries(y_withData, X, df_prices, model, verbose=True):\n",
    "\n",
    "    # Set date range to make stock picks over (2016 to 2020)\n",
    "    date_range = pd.date_range(start='2017-01-01', periods=4, freq='AS')\n",
    "    \n",
    "    # For each date in the date_range, make stock selections\n",
    "    # and plot the return results of those stock selections\n",
    "    port_perf_all_years = pd.DataFrame()\n",
    "    \n",
    "    perfRef=1 # Performance starts at 1.\n",
    "    \n",
    "    for curr_date in date_range:\n",
    "        \n",
    "        # Refer to function 6\n",
    "        # Will give us a relative performance dataframe, cumulative portfolio perf, and top10 ticker list\n",
    "        [comp, this_year_perf, ticker_list] = getPortTimeSeriesForYear(curr_date, y_withData, X, df_prices, model)\n",
    "        \n",
    "        # For we want text output, set verbose=True\n",
    "        if verbose: \n",
    "            # Returns the last date performance of that particular year\n",
    "            print(\"Backtest performance for year starting \", curr_date, \" is:\",\\\n",
    "                  round((this_year_perf.iloc[-1]-1)*100, 2), \"%\")\n",
    "            print(\"With these top 10 stocks:\", ticker_list, '\\n')\n",
    "        \n",
    "            for tick in ticker_list:\n",
    "                print(tick, \"Performance was:\", round((comp[tick].iloc[-1]-1)*100,2), \"%\" )\n",
    "            print(\"---------------------------------------------\")\n",
    "        \n",
    "        # Append performance for every year together\n",
    "        this_year_perf = this_year_perf * perfRef\n",
    "        port_perf_all_years = pd.concat([port_perf_all_years, this_year_perf])\n",
    "        \n",
    "        # Update perfRef to be the last value of this year's relative performance\n",
    "        perfRef = this_year_perf.iloc[-1]\n",
    "\n",
    "    # Return portfolio performance for all years\n",
    "    port_perf_all_years.columns = [\"Indexed Performance\"]\n",
    "        \n",
    "    return port_perf_all_years"
   ]
  },
  {
   "cell_type": "markdown",
   "id": "1deede55",
   "metadata": {},
   "source": [
    "# Test run the main function!"
   ]
  },
  {
   "cell_type": "code",
   "execution_count": 27,
   "id": "c29ddb41",
   "metadata": {
    "scrolled": true
   },
   "outputs": [
    {
     "data": {
      "text/html": [
       "<div>\n",
       "<style scoped>\n",
       "    .dataframe tbody tr th:only-of-type {\n",
       "        vertical-align: middle;\n",
       "    }\n",
       "\n",
       "    .dataframe tbody tr th {\n",
       "        vertical-align: top;\n",
       "    }\n",
       "\n",
       "    .dataframe thead th {\n",
       "        text-align: right;\n",
       "    }\n",
       "</style>\n",
       "<table border=\"1\" class=\"dataframe\">\n",
       "  <thead>\n",
       "    <tr style=\"text-align: right;\">\n",
       "      <th></th>\n",
       "      <th>Ticker</th>\n",
       "      <th>Date1</th>\n",
       "      <th>Open1</th>\n",
       "      <th>Volume1</th>\n",
       "      <th>Date2</th>\n",
       "      <th>Open2</th>\n",
       "      <th>Volume2</th>\n",
       "    </tr>\n",
       "  </thead>\n",
       "  <tbody>\n",
       "    <tr>\n",
       "      <th>26780</th>\n",
       "      <td>PK</td>\n",
       "      <td>2016-12-31</td>\n",
       "      <td>30.21</td>\n",
       "      <td>33221775.0</td>\n",
       "      <td>2017-12-31</td>\n",
       "      <td>28.87</td>\n",
       "      <td>1294841.0</td>\n",
       "    </tr>\n",
       "    <tr>\n",
       "      <th>16361</th>\n",
       "      <td>HTGM</td>\n",
       "      <td>2021-06-30</td>\n",
       "      <td>5.99</td>\n",
       "      <td>27359.0</td>\n",
       "      <td>2022-06-30</td>\n",
       "      <td>NaN</td>\n",
       "      <td>NaN</td>\n",
       "    </tr>\n",
       "    <tr>\n",
       "      <th>27115</th>\n",
       "      <td>PNW</td>\n",
       "      <td>2020-12-31</td>\n",
       "      <td>79.05</td>\n",
       "      <td>539364.0</td>\n",
       "      <td>2021-12-31</td>\n",
       "      <td>NaN</td>\n",
       "      <td>NaN</td>\n",
       "    </tr>\n",
       "    <tr>\n",
       "      <th>18629</th>\n",
       "      <td>KE</td>\n",
       "      <td>2018-06-30</td>\n",
       "      <td>18.25</td>\n",
       "      <td>53290.0</td>\n",
       "      <td>2019-06-30</td>\n",
       "      <td>16.25</td>\n",
       "      <td>67064.0</td>\n",
       "    </tr>\n",
       "    <tr>\n",
       "      <th>258</th>\n",
       "      <td>ABIO</td>\n",
       "      <td>2021-06-30</td>\n",
       "      <td>3.52</td>\n",
       "      <td>92318.0</td>\n",
       "      <td>2022-06-30</td>\n",
       "      <td>NaN</td>\n",
       "      <td>NaN</td>\n",
       "    </tr>\n",
       "  </tbody>\n",
       "</table>\n",
       "</div>"
      ],
      "text/plain": [
       "      Ticker      Date1  Open1     Volume1      Date2  Open2    Volume2\n",
       "26780     PK 2016-12-31  30.21  33221775.0 2017-12-31  28.87  1294841.0\n",
       "16361   HTGM 2021-06-30   5.99     27359.0 2022-06-30    NaN        NaN\n",
       "27115    PNW 2020-12-31  79.05    539364.0 2021-12-31    NaN        NaN\n",
       "18629     KE 2018-06-30  18.25     53290.0 2019-06-30  16.25    67064.0\n",
       "258     ABIO 2021-06-30   3.52     92318.0 2022-06-30    NaN        NaN"
      ]
     },
     "execution_count": 27,
     "metadata": {},
     "output_type": "execute_result"
    },
    {
     "name": "stdout",
     "output_type": "stream",
     "text": [
      "time: 16 ms (started: 2022-10-10 14:17:59 +08:00)\n"
     ]
    }
   ],
   "source": [
    "y_withdata_test.head()"
   ]
  },
  {
   "cell_type": "code",
   "execution_count": 28,
   "id": "7a957c67",
   "metadata": {},
   "outputs": [
    {
     "data": {
      "text/html": [
       "<div>\n",
       "<style scoped>\n",
       "    .dataframe tbody tr th:only-of-type {\n",
       "        vertical-align: middle;\n",
       "    }\n",
       "\n",
       "    .dataframe tbody tr th {\n",
       "        vertical-align: top;\n",
       "    }\n",
       "\n",
       "    .dataframe thead th {\n",
       "        text-align: right;\n",
       "    }\n",
       "</style>\n",
       "<table border=\"1\" class=\"dataframe\">\n",
       "  <thead>\n",
       "    <tr style=\"text-align: right;\">\n",
       "      <th></th>\n",
       "      <th>EV_EBIT</th>\n",
       "      <th>OI_NWCFA</th>\n",
       "      <th>PE</th>\n",
       "      <th>PB</th>\n",
       "      <th>PS</th>\n",
       "      <th>OI_IntExp</th>\n",
       "      <th>WorkingCap</th>\n",
       "      <th>ROE</th>\n",
       "      <th>ROCE</th>\n",
       "      <th>DE</th>\n",
       "      <th>DebtRatio</th>\n",
       "      <th>CashRatio</th>\n",
       "      <th>AssetTurnover</th>\n",
       "      <th>GPM</th>\n",
       "      <th>WC_TA</th>\n",
       "      <th>RE_TA</th>\n",
       "      <th>EBIT_TA</th>\n",
       "      <th>Equity_Liab</th>\n",
       "    </tr>\n",
       "  </thead>\n",
       "  <tbody>\n",
       "    <tr>\n",
       "      <th>26780</th>\n",
       "      <td>60.848124</td>\n",
       "      <td>0.046325</td>\n",
       "      <td>82.567425</td>\n",
       "      <td>2.223304</td>\n",
       "      <td>3.505221</td>\n",
       "      <td>6.302326</td>\n",
       "      <td>1.794257</td>\n",
       "      <td>0.026927</td>\n",
       "      <td>0.021920</td>\n",
       "      <td>1.776311</td>\n",
       "      <td>1.562964</td>\n",
       "      <td>0.234207</td>\n",
       "      <td>1.350318</td>\n",
       "      <td>0.168701</td>\n",
       "      <td>0.201648</td>\n",
       "      <td>0.366973</td>\n",
       "      <td>0.016355</td>\n",
       "      <td>0.562964</td>\n",
       "    </tr>\n",
       "    <tr>\n",
       "      <th>16361</th>\n",
       "      <td>32.637788</td>\n",
       "      <td>-0.213905</td>\n",
       "      <td>45.001480</td>\n",
       "      <td>5.013262</td>\n",
       "      <td>7.888369</td>\n",
       "      <td>-600.000000</td>\n",
       "      <td>0.392781</td>\n",
       "      <td>0.111402</td>\n",
       "      <td>0.149403</td>\n",
       "      <td>1.211413</td>\n",
       "      <td>1.825482</td>\n",
       "      <td>0.110870</td>\n",
       "      <td>16.223218</td>\n",
       "      <td>0.388446</td>\n",
       "      <td>-0.332475</td>\n",
       "      <td>-0.392096</td>\n",
       "      <td>0.067599</td>\n",
       "      <td>0.825482</td>\n",
       "    </tr>\n",
       "    <tr>\n",
       "      <th>27115</th>\n",
       "      <td>61.658163</td>\n",
       "      <td>-0.559638</td>\n",
       "      <td>82.337440</td>\n",
       "      <td>4.572042</td>\n",
       "      <td>4.289662</td>\n",
       "      <td>12.220930</td>\n",
       "      <td>0.751531</td>\n",
       "      <td>0.055528</td>\n",
       "      <td>0.044469</td>\n",
       "      <td>1.938144</td>\n",
       "      <td>1.515958</td>\n",
       "      <td>0.352285</td>\n",
       "      <td>7.094106</td>\n",
       "      <td>0.235139</td>\n",
       "      <td>-0.099721</td>\n",
       "      <td>0.338676</td>\n",
       "      <td>0.026622</td>\n",
       "      <td>0.515958</td>\n",
       "    </tr>\n",
       "    <tr>\n",
       "      <th>18629</th>\n",
       "      <td>-19.912200</td>\n",
       "      <td>-0.369821</td>\n",
       "      <td>-16.558448</td>\n",
       "      <td>-9.210577</td>\n",
       "      <td>5.585790</td>\n",
       "      <td>-20.246377</td>\n",
       "      <td>1.763218</td>\n",
       "      <td>0.556246</td>\n",
       "      <td>-0.485598</td>\n",
       "      <td>0.000000</td>\n",
       "      <td>0.708518</td>\n",
       "      <td>0.490134</td>\n",
       "      <td>20.584838</td>\n",
       "      <td>0.056471</td>\n",
       "      <td>0.416454</td>\n",
       "      <td>-9.030694</td>\n",
       "      <td>-0.220629</td>\n",
       "      <td>-0.291482</td>\n",
       "    </tr>\n",
       "    <tr>\n",
       "      <th>258</th>\n",
       "      <td>206.196985</td>\n",
       "      <td>0.060173</td>\n",
       "      <td>257.078841</td>\n",
       "      <td>4.765257</td>\n",
       "      <td>18.766822</td>\n",
       "      <td>6.264463</td>\n",
       "      <td>1.433938</td>\n",
       "      <td>0.018536</td>\n",
       "      <td>0.013829</td>\n",
       "      <td>1.194663</td>\n",
       "      <td>1.837056</td>\n",
       "      <td>0.339378</td>\n",
       "      <td>0.977109</td>\n",
       "      <td>0.575330</td>\n",
       "      <td>0.070234</td>\n",
       "      <td>0.386151</td>\n",
       "      <td>0.011591</td>\n",
       "      <td>0.837056</td>\n",
       "    </tr>\n",
       "  </tbody>\n",
       "</table>\n",
       "</div>"
      ],
      "text/plain": [
       "          EV_EBIT  OI_NWCFA          PE        PB         PS   OI_IntExp  \\\n",
       "26780   60.848124  0.046325   82.567425  2.223304   3.505221    6.302326   \n",
       "16361   32.637788 -0.213905   45.001480  5.013262   7.888369 -600.000000   \n",
       "27115   61.658163 -0.559638   82.337440  4.572042   4.289662   12.220930   \n",
       "18629  -19.912200 -0.369821  -16.558448 -9.210577   5.585790  -20.246377   \n",
       "258    206.196985  0.060173  257.078841  4.765257  18.766822    6.264463   \n",
       "\n",
       "       WorkingCap       ROE      ROCE        DE  DebtRatio  CashRatio  \\\n",
       "26780    1.794257  0.026927  0.021920  1.776311   1.562964   0.234207   \n",
       "16361    0.392781  0.111402  0.149403  1.211413   1.825482   0.110870   \n",
       "27115    0.751531  0.055528  0.044469  1.938144   1.515958   0.352285   \n",
       "18629    1.763218  0.556246 -0.485598  0.000000   0.708518   0.490134   \n",
       "258      1.433938  0.018536  0.013829  1.194663   1.837056   0.339378   \n",
       "\n",
       "       AssetTurnover       GPM     WC_TA     RE_TA   EBIT_TA  Equity_Liab  \n",
       "26780       1.350318  0.168701  0.201648  0.366973  0.016355     0.562964  \n",
       "16361      16.223218  0.388446 -0.332475 -0.392096  0.067599     0.825482  \n",
       "27115       7.094106  0.235139 -0.099721  0.338676  0.026622     0.515958  \n",
       "18629      20.584838  0.056471  0.416454 -9.030694 -0.220629    -0.291482  \n",
       "258         0.977109  0.575330  0.070234  0.386151  0.011591     0.837056  "
      ]
     },
     "execution_count": 28,
     "metadata": {},
     "output_type": "execute_result"
    },
    {
     "name": "stdout",
     "output_type": "stream",
     "text": [
      "time: 0 ns (started: 2022-10-10 14:17:59 +08:00)\n"
     ]
    }
   ],
   "source": [
    "X_test.head()"
   ]
  },
  {
   "cell_type": "markdown",
   "id": "7cd7c072",
   "metadata": {},
   "source": [
    "# Do a backtest with the RandomForestRegressor"
   ]
  },
  {
   "cell_type": "code",
   "execution_count": 29,
   "id": "cdde63a6",
   "metadata": {
    "scrolled": true
   },
   "outputs": [
    {
     "name": "stdout",
     "output_type": "stream",
     "text": [
      "Backtest performance for year starting  2017-01-01 00:00:00  is: 10.95 %\n",
      "With these top 10 stocks: ['J', 'RAIL', 'CSOD', 'POOL', 'O', 'AOSL', 'APTI', 'ARMK', 'MNRO', 'MODN'] \n",
      "\n",
      "J Performance was: 13.59 %\n",
      "RAIL Performance was: -15.34 %\n",
      "CSOD Performance was: -15.83 %\n",
      "POOL Performance was: 23.96 %\n",
      "O Performance was: 0.33 %\n",
      "AOSL Performance was: -0.7 %\n",
      "APTI Performance was: 33.43 %\n",
      "ARMK Performance was: 16.17 %\n",
      "MNRO Performance was: 1.75 %\n",
      "MODN Performance was: 52.17 %\n",
      "---------------------------------------------\n",
      "Backtest performance for year starting  2018-01-01 00:00:00  is: -21.47 %\n",
      "With these top 10 stocks: ['MIDD', 'CME', 'ABC', 'CSGS', 'JAGX', 'ICHR', 'PII', 'ALE', 'NVEC', 'NUE'] \n",
      "\n",
      "MIDD Performance was: -18.2 %\n",
      "CME Performance was: 19.29 %\n",
      "ABC Performance was: -13.21 %\n",
      "CSGS Performance was: -19.47 %\n",
      "JAGX Performance was: -72.76 %\n",
      "ICHR Performance was: -29.53 %\n",
      "PII Performance was: -41.16 %\n",
      "ALE Performance was: 2.27 %\n",
      "NVEC Performance was: -28.49 %\n",
      "NUE Performance was: -13.43 %\n",
      "---------------------------------------------\n",
      "Backtest performance for year starting  2019-01-01 00:00:00  is: -3.14 %\n",
      "With these top 10 stocks: ['ADT', 'CPLG', 'MNRO', 'MDB', 'MD', 'HROW', 'MSM', 'FTI', 'LMB', 'GLP'] \n",
      "\n",
      "ADT Performance was: 14.43 %\n",
      "CPLG Performance was: 4.45 %\n",
      "MNRO Performance was: -9.52 %\n",
      "MDB Performance was: -3.51 %\n",
      "MD Performance was: 9.12 %\n",
      "HROW Performance was: -3.87 %\n",
      "MSM Performance was: -5.75 %\n",
      "FTI Performance was: -12.47 %\n",
      "LMB Performance was: -27.49 %\n",
      "GLP Performance was: 3.24 %\n",
      "---------------------------------------------\n",
      "Backtest performance for year starting  2020-01-01 00:00:00  is: 28.14 %\n",
      "With these top 10 stocks: ['HROW', 'CLRB', 'ENZ', 'CDXS', 'DGX', 'MD', 'CLRB', 'PLAN', 'RUN', 'KBH'] \n",
      "\n",
      "HROW Performance was: -15.99 %\n",
      "CLRB Performance was: -15.85 %\n",
      "ENZ Performance was: -3.33 %\n",
      "CDXS Performance was: 113.08 %\n",
      "DGX Performance was: 12.13 %\n",
      "MD Performance was: 122.2 %\n",
      "CLRB Performance was: -15.85 %\n",
      "PLAN Performance was: 60.97 %\n",
      "RUN Performance was: -15.12 %\n",
      "KBH Performance was: -4.83 %\n",
      "---------------------------------------------\n",
      "Cumulative Performance is:  8.147767274705808 %\n",
      "time: 12.8 s (started: 2022-10-10 14:17:59 +08:00)\n"
     ]
    }
   ],
   "source": [
    "backTest = getPortTimeSeries(y_withdata_test, X_test, df_prices, rf)\n",
    "\n",
    "# Final print to find the cumulative performance\n",
    "print('Cumulative Performance is: ', 100 * (backTest[\"Indexed Performance\"][-1]-1), '%')"
   ]
  },
  {
   "cell_type": "code",
   "execution_count": 30,
   "id": "13592401",
   "metadata": {
    "scrolled": true
   },
   "outputs": [
    {
     "data": {
      "image/png": "[encoded data removed]",
      "text/plain": [
       "<Figure size 1050x675 with 1 Axes>"
      ]
     },
     "metadata": {
      "needs_background": "light"
     },
     "output_type": "display_data"
    },
    {
     "name": "stdout",
     "output_type": "stream",
     "text": [
      "time: 187 ms (started: 2022-10-10 14:18:12 +08:00)\n"
     ]
    }
   ],
   "source": [
    "plt.plot(backTest)\n",
    "plt.grid()\n",
    "plt.legend(['Portfolio Backtest Returns'])\n",
    "plt.ylabel('Relative Performance');"
   ]
  },
  {
   "cell_type": "markdown",
   "id": "fe1864b4",
   "metadata": {},
   "source": [
    "## Small test"
   ]
  },
  {
   "cell_type": "code",
   "execution_count": 38,
   "id": "5db6ddfa",
   "metadata": {},
   "outputs": [
    {
     "name": "stdout",
     "output_type": "stream",
     "text": [
      "time: 0 ns (started: 2022-10-10 14:32:22 +08:00)\n"
     ]
    }
   ],
   "source": [
    "y_small = getYPerf(y_withdata_test)\n",
    "# y_small is cut down version of y with stock returns only (actual returns)\n",
    "\n",
    "# Create a boolean mask for the backtest year we are interested in\n",
    "myDate = pd.to_datetime('2017-12-31')\n",
    "mask2018 = y_withdata_test[\"Date1\"].between(pd.to_datetime(myDate)-pd.Timedelta(days=60),\n",
    "                                           pd.to_datetime(myDate)+pd.Timedelta(days=60))"
   ]
  },
  {
   "cell_type": "code",
   "execution_count": 39,
   "id": "8aa14834",
   "metadata": {},
   "outputs": [
    {
     "data": {
      "text/html": [
       "<div>\n",
       "<style scoped>\n",
       "    .dataframe tbody tr th:only-of-type {\n",
       "        vertical-align: middle;\n",
       "    }\n",
       "\n",
       "    .dataframe tbody tr th {\n",
       "        vertical-align: top;\n",
       "    }\n",
       "\n",
       "    .dataframe thead th {\n",
       "        text-align: right;\n",
       "    }\n",
       "</style>\n",
       "<table border=\"1\" class=\"dataframe\">\n",
       "  <thead>\n",
       "    <tr style=\"text-align: right;\">\n",
       "      <th></th>\n",
       "      <th>Ticker</th>\n",
       "      <th>Date1</th>\n",
       "      <th>Open1</th>\n",
       "      <th>Volume1</th>\n",
       "      <th>Date2</th>\n",
       "      <th>Open2</th>\n",
       "      <th>Volume2</th>\n",
       "    </tr>\n",
       "  </thead>\n",
       "  <tbody>\n",
       "    <tr>\n",
       "      <th>3142</th>\n",
       "      <td>ASPN</td>\n",
       "      <td>2017-12-31</td>\n",
       "      <td>4.93</td>\n",
       "      <td>18493.0</td>\n",
       "      <td>2018-12-31</td>\n",
       "      <td>2.05</td>\n",
       "      <td>156082.0</td>\n",
       "    </tr>\n",
       "    <tr>\n",
       "      <th>12926</th>\n",
       "      <td>FEIM</td>\n",
       "      <td>2018-01-31</td>\n",
       "      <td>9.39</td>\n",
       "      <td>1920.0</td>\n",
       "      <td>2019-01-31</td>\n",
       "      <td>12.64</td>\n",
       "      <td>10812.0</td>\n",
       "    </tr>\n",
       "    <tr>\n",
       "      <th>19106</th>\n",
       "      <td>KRA</td>\n",
       "      <td>2017-12-31</td>\n",
       "      <td>48.38</td>\n",
       "      <td>740298.0</td>\n",
       "      <td>2018-12-31</td>\n",
       "      <td>22.33</td>\n",
       "      <td>231927.0</td>\n",
       "    </tr>\n",
       "    <tr>\n",
       "      <th>21555</th>\n",
       "      <td>META</td>\n",
       "      <td>2017-12-31</td>\n",
       "      <td>177.68</td>\n",
       "      <td>17694891.0</td>\n",
       "      <td>2018-12-31</td>\n",
       "      <td>134.45</td>\n",
       "      <td>24625308.0</td>\n",
       "    </tr>\n",
       "    <tr>\n",
       "      <th>16247</th>\n",
       "      <td>HSKA</td>\n",
       "      <td>2017-12-31</td>\n",
       "      <td>80.21</td>\n",
       "      <td>41660.0</td>\n",
       "      <td>2018-12-31</td>\n",
       "      <td>90.29</td>\n",
       "      <td>53384.0</td>\n",
       "    </tr>\n",
       "    <tr>\n",
       "      <th>...</th>\n",
       "      <td>...</td>\n",
       "      <td>...</td>\n",
       "      <td>...</td>\n",
       "      <td>...</td>\n",
       "      <td>...</td>\n",
       "      <td>...</td>\n",
       "      <td>...</td>\n",
       "    </tr>\n",
       "    <tr>\n",
       "      <th>15442</th>\n",
       "      <td>HDP</td>\n",
       "      <td>2017-12-31</td>\n",
       "      <td>20.21</td>\n",
       "      <td>621434.0</td>\n",
       "      <td>2018-12-31</td>\n",
       "      <td>14.30</td>\n",
       "      <td>528682.0</td>\n",
       "    </tr>\n",
       "    <tr>\n",
       "      <th>18203</th>\n",
       "      <td>JHG</td>\n",
       "      <td>2017-12-31</td>\n",
       "      <td>38.31</td>\n",
       "      <td>680501.0</td>\n",
       "      <td>2018-12-31</td>\n",
       "      <td>20.54</td>\n",
       "      <td>1337331.0</td>\n",
       "    </tr>\n",
       "    <tr>\n",
       "      <th>6147</th>\n",
       "      <td>CBI</td>\n",
       "      <td>2017-12-31</td>\n",
       "      <td>16.25</td>\n",
       "      <td>3059116.0</td>\n",
       "      <td>2018-12-31</td>\n",
       "      <td>NaN</td>\n",
       "      <td>NaN</td>\n",
       "    </tr>\n",
       "    <tr>\n",
       "      <th>13151</th>\n",
       "      <td>FIVE</td>\n",
       "      <td>2018-01-31</td>\n",
       "      <td>66.84</td>\n",
       "      <td>1017743.0</td>\n",
       "      <td>2019-01-31</td>\n",
       "      <td>121.59</td>\n",
       "      <td>645062.0</td>\n",
       "    </tr>\n",
       "    <tr>\n",
       "      <th>19675</th>\n",
       "      <td>LFVN</td>\n",
       "      <td>2017-12-31</td>\n",
       "      <td>4.79</td>\n",
       "      <td>8906.0</td>\n",
       "      <td>2018-12-31</td>\n",
       "      <td>13.04</td>\n",
       "      <td>119735.0</td>\n",
       "    </tr>\n",
       "  </tbody>\n",
       "</table>\n",
       "<p>310 rows × 7 columns</p>\n",
       "</div>"
      ],
      "text/plain": [
       "      Ticker      Date1   Open1     Volume1      Date2   Open2     Volume2\n",
       "3142    ASPN 2017-12-31    4.93     18493.0 2018-12-31    2.05    156082.0\n",
       "12926   FEIM 2018-01-31    9.39      1920.0 2019-01-31   12.64     10812.0\n",
       "19106    KRA 2017-12-31   48.38    740298.0 2018-12-31   22.33    231927.0\n",
       "21555   META 2017-12-31  177.68  17694891.0 2018-12-31  134.45  24625308.0\n",
       "16247   HSKA 2017-12-31   80.21     41660.0 2018-12-31   90.29     53384.0\n",
       "...      ...        ...     ...         ...        ...     ...         ...\n",
       "15442    HDP 2017-12-31   20.21    621434.0 2018-12-31   14.30    528682.0\n",
       "18203    JHG 2017-12-31   38.31    680501.0 2018-12-31   20.54   1337331.0\n",
       "6147     CBI 2017-12-31   16.25   3059116.0 2018-12-31     NaN         NaN\n",
       "13151   FIVE 2018-01-31   66.84   1017743.0 2019-01-31  121.59    645062.0\n",
       "19675   LFVN 2017-12-31    4.79      8906.0 2018-12-31   13.04    119735.0\n",
       "\n",
       "[310 rows x 7 columns]"
      ]
     },
     "execution_count": 39,
     "metadata": {},
     "output_type": "execute_result"
    },
    {
     "name": "stdout",
     "output_type": "stream",
     "text": [
      "time: 16 ms (started: 2022-10-10 14:32:23 +08:00)\n"
     ]
    }
   ],
   "source": [
    "# Checking the mask works\n",
    "y_withdata_test[mask2018]"
   ]
  },
  {
   "cell_type": "code",
   "execution_count": 43,
   "id": "0d985095",
   "metadata": {
    "scrolled": true
   },
   "outputs": [
    {
     "data": {
      "text/html": [
       "<div>\n",
       "<style scoped>\n",
       "    .dataframe tbody tr th:only-of-type {\n",
       "        vertical-align: middle;\n",
       "    }\n",
       "\n",
       "    .dataframe tbody tr th {\n",
       "        vertical-align: top;\n",
       "    }\n",
       "\n",
       "    .dataframe thead th {\n",
       "        text-align: right;\n",
       "    }\n",
       "</style>\n",
       "<table border=\"1\" class=\"dataframe\">\n",
       "  <thead>\n",
       "    <tr style=\"text-align: right;\">\n",
       "      <th></th>\n",
       "      <th>EV_EBIT</th>\n",
       "      <th>OI_NWCFA</th>\n",
       "      <th>PE</th>\n",
       "      <th>PB</th>\n",
       "      <th>PS</th>\n",
       "      <th>OI_IntExp</th>\n",
       "      <th>WorkingCap</th>\n",
       "      <th>ROE</th>\n",
       "      <th>ROCE</th>\n",
       "      <th>DE</th>\n",
       "      <th>DebtRatio</th>\n",
       "      <th>CashRatio</th>\n",
       "      <th>AssetTurnover</th>\n",
       "      <th>GPM</th>\n",
       "      <th>WC_TA</th>\n",
       "      <th>RE_TA</th>\n",
       "      <th>EBIT_TA</th>\n",
       "      <th>Equity_Liab</th>\n",
       "    </tr>\n",
       "  </thead>\n",
       "  <tbody>\n",
       "    <tr>\n",
       "      <th>3142</th>\n",
       "      <td>105.053812</td>\n",
       "      <td>0.055192</td>\n",
       "      <td>134.125749</td>\n",
       "      <td>5.881318</td>\n",
       "      <td>15.713083</td>\n",
       "      <td>38.230769</td>\n",
       "      <td>2.761394</td>\n",
       "      <td>0.043849</td>\n",
       "      <td>0.030365</td>\n",
       "      <td>1.271104</td>\n",
       "      <td>1.786718</td>\n",
       "      <td>1.152432</td>\n",
       "      <td>0.647072</td>\n",
       "      <td>0.429323</td>\n",
       "      <td>0.265854</td>\n",
       "      <td>0.916180</td>\n",
       "      <td>0.025782</td>\n",
       "      <td>0.786718</td>\n",
       "    </tr>\n",
       "    <tr>\n",
       "      <th>12926</th>\n",
       "      <td>-26.577028</td>\n",
       "      <td>-0.118934</td>\n",
       "      <td>-25.086523</td>\n",
       "      <td>16.278464</td>\n",
       "      <td>34.352946</td>\n",
       "      <td>-6.403815</td>\n",
       "      <td>5.494478</td>\n",
       "      <td>-0.648893</td>\n",
       "      <td>-0.110309</td>\n",
       "      <td>5.135266</td>\n",
       "      <td>1.194732</td>\n",
       "      <td>5.089309</td>\n",
       "      <td>10.371673</td>\n",
       "      <td>0.992139</td>\n",
       "      <td>0.784335</td>\n",
       "      <td>-2.525026</td>\n",
       "      <td>-0.091059</td>\n",
       "      <td>0.194732</td>\n",
       "    </tr>\n",
       "    <tr>\n",
       "      <th>19106</th>\n",
       "      <td>117.765896</td>\n",
       "      <td>0.072211</td>\n",
       "      <td>132.397475</td>\n",
       "      <td>10.946758</td>\n",
       "      <td>34.654373</td>\n",
       "      <td>-600.000000</td>\n",
       "      <td>8.256358</td>\n",
       "      <td>0.082681</td>\n",
       "      <td>0.063605</td>\n",
       "      <td>0.534573</td>\n",
       "      <td>2.870653</td>\n",
       "      <td>6.313327</td>\n",
       "      <td>3.593692</td>\n",
       "      <td>0.593702</td>\n",
       "      <td>0.758023</td>\n",
       "      <td>0.691392</td>\n",
       "      <td>0.056961</td>\n",
       "      <td>1.870653</td>\n",
       "    </tr>\n",
       "    <tr>\n",
       "      <th>21555</th>\n",
       "      <td>62.981724</td>\n",
       "      <td>0.108775</td>\n",
       "      <td>70.148974</td>\n",
       "      <td>2.260959</td>\n",
       "      <td>5.437106</td>\n",
       "      <td>8.380282</td>\n",
       "      <td>1.761102</td>\n",
       "      <td>0.032231</td>\n",
       "      <td>0.024511</td>\n",
       "      <td>1.104633</td>\n",
       "      <td>1.905278</td>\n",
       "      <td>0.251578</td>\n",
       "      <td>2.649800</td>\n",
       "      <td>0.557764</td>\n",
       "      <td>0.112210</td>\n",
       "      <td>0.323425</td>\n",
       "      <td>0.020897</td>\n",
       "      <td>0.905278</td>\n",
       "    </tr>\n",
       "    <tr>\n",
       "      <th>16247</th>\n",
       "      <td>91.315951</td>\n",
       "      <td>0.106487</td>\n",
       "      <td>100.631698</td>\n",
       "      <td>8.180173</td>\n",
       "      <td>26.371919</td>\n",
       "      <td>-600.000000</td>\n",
       "      <td>2.744522</td>\n",
       "      <td>0.081288</td>\n",
       "      <td>0.078558</td>\n",
       "      <td>0.384432</td>\n",
       "      <td>3.601242</td>\n",
       "      <td>1.696368</td>\n",
       "      <td>1.444258</td>\n",
       "      <td>0.673373</td>\n",
       "      <td>0.402870</td>\n",
       "      <td>0.723007</td>\n",
       "      <td>0.060416</td>\n",
       "      <td>2.601242</td>\n",
       "    </tr>\n",
       "    <tr>\n",
       "      <th>...</th>\n",
       "      <td>...</td>\n",
       "      <td>...</td>\n",
       "      <td>...</td>\n",
       "      <td>...</td>\n",
       "      <td>...</td>\n",
       "      <td>...</td>\n",
       "      <td>...</td>\n",
       "      <td>...</td>\n",
       "      <td>...</td>\n",
       "      <td>...</td>\n",
       "      <td>...</td>\n",
       "      <td>...</td>\n",
       "      <td>...</td>\n",
       "      <td>...</td>\n",
       "      <td>...</td>\n",
       "      <td>...</td>\n",
       "      <td>...</td>\n",
       "      <td>...</td>\n",
       "    </tr>\n",
       "    <tr>\n",
       "      <th>15442</th>\n",
       "      <td>-72.617109</td>\n",
       "      <td>-0.018451</td>\n",
       "      <td>-59.339805</td>\n",
       "      <td>2.038776</td>\n",
       "      <td>1.097548</td>\n",
       "      <td>600.000000</td>\n",
       "      <td>1.353523</td>\n",
       "      <td>-0.034358</td>\n",
       "      <td>-0.015085</td>\n",
       "      <td>3.021924</td>\n",
       "      <td>1.330915</td>\n",
       "      <td>0.064711</td>\n",
       "      <td>2.892155</td>\n",
       "      <td>0.351630</td>\n",
       "      <td>0.161978</td>\n",
       "      <td>0.124758</td>\n",
       "      <td>-0.008173</td>\n",
       "      <td>0.330915</td>\n",
       "    </tr>\n",
       "    <tr>\n",
       "      <th>18203</th>\n",
       "      <td>70.201604</td>\n",
       "      <td>0.156649</td>\n",
       "      <td>84.836608</td>\n",
       "      <td>5.679075</td>\n",
       "      <td>13.978660</td>\n",
       "      <td>10.640326</td>\n",
       "      <td>1.840458</td>\n",
       "      <td>0.066941</td>\n",
       "      <td>0.043277</td>\n",
       "      <td>1.596808</td>\n",
       "      <td>1.626249</td>\n",
       "      <td>0.291673</td>\n",
       "      <td>1.540259</td>\n",
       "      <td>0.554135</td>\n",
       "      <td>0.126966</td>\n",
       "      <td>0.657120</td>\n",
       "      <td>0.036739</td>\n",
       "      <td>0.626249</td>\n",
       "    </tr>\n",
       "    <tr>\n",
       "      <th>6147</th>\n",
       "      <td>29.717089</td>\n",
       "      <td>0.252076</td>\n",
       "      <td>25.888491</td>\n",
       "      <td>7.716865</td>\n",
       "      <td>18.665852</td>\n",
       "      <td>-401.380435</td>\n",
       "      <td>27.023242</td>\n",
       "      <td>0.298081</td>\n",
       "      <td>0.242008</td>\n",
       "      <td>0.035517</td>\n",
       "      <td>29.155439</td>\n",
       "      <td>15.035034</td>\n",
       "      <td>40.534282</td>\n",
       "      <td>0.733198</td>\n",
       "      <td>0.863998</td>\n",
       "      <td>0.086066</td>\n",
       "      <td>0.233973</td>\n",
       "      <td>20.000000</td>\n",
       "    </tr>\n",
       "    <tr>\n",
       "      <th>13151</th>\n",
       "      <td>-74.783454</td>\n",
       "      <td>-0.046312</td>\n",
       "      <td>-71.276813</td>\n",
       "      <td>-3.648416</td>\n",
       "      <td>16.197117</td>\n",
       "      <td>-4.564444</td>\n",
       "      <td>2.396555</td>\n",
       "      <td>0.051187</td>\n",
       "      <td>-0.067896</td>\n",
       "      <td>0.000000</td>\n",
       "      <td>0.511489</td>\n",
       "      <td>2.232175</td>\n",
       "      <td>2.319719</td>\n",
       "      <td>0.000000</td>\n",
       "      <td>0.518577</td>\n",
       "      <td>-5.286128</td>\n",
       "      <td>-0.042685</td>\n",
       "      <td>-0.488511</td>\n",
       "    </tr>\n",
       "    <tr>\n",
       "      <th>19675</th>\n",
       "      <td>26.711204</td>\n",
       "      <td>0.063547</td>\n",
       "      <td>17.358848</td>\n",
       "      <td>0.931243</td>\n",
       "      <td>5.028963</td>\n",
       "      <td>12.991522</td>\n",
       "      <td>1.151967</td>\n",
       "      <td>0.053647</td>\n",
       "      <td>0.035603</td>\n",
       "      <td>0.881500</td>\n",
       "      <td>2.134430</td>\n",
       "      <td>0.058101</td>\n",
       "      <td>0.108449</td>\n",
       "      <td>0.750041</td>\n",
       "      <td>0.011084</td>\n",
       "      <td>0.000000</td>\n",
       "      <td>0.033006</td>\n",
       "      <td>1.134430</td>\n",
       "    </tr>\n",
       "  </tbody>\n",
       "</table>\n",
       "<p>310 rows × 18 columns</p>\n",
       "</div>"
      ],
      "text/plain": [
       "          EV_EBIT  OI_NWCFA          PE         PB         PS   OI_IntExp  \\\n",
       "3142   105.053812  0.055192  134.125749   5.881318  15.713083   38.230769   \n",
       "12926  -26.577028 -0.118934  -25.086523  16.278464  34.352946   -6.403815   \n",
       "19106  117.765896  0.072211  132.397475  10.946758  34.654373 -600.000000   \n",
       "21555   62.981724  0.108775   70.148974   2.260959   5.437106    8.380282   \n",
       "16247   91.315951  0.106487  100.631698   8.180173  26.371919 -600.000000   \n",
       "...           ...       ...         ...        ...        ...         ...   \n",
       "15442  -72.617109 -0.018451  -59.339805   2.038776   1.097548  600.000000   \n",
       "18203   70.201604  0.156649   84.836608   5.679075  13.978660   10.640326   \n",
       "6147    29.717089  0.252076   25.888491   7.716865  18.665852 -401.380435   \n",
       "13151  -74.783454 -0.046312  -71.276813  -3.648416  16.197117   -4.564444   \n",
       "19675   26.711204  0.063547   17.358848   0.931243   5.028963   12.991522   \n",
       "\n",
       "       WorkingCap       ROE      ROCE        DE  DebtRatio  CashRatio  \\\n",
       "3142     2.761394  0.043849  0.030365  1.271104   1.786718   1.152432   \n",
       "12926    5.494478 -0.648893 -0.110309  5.135266   1.194732   5.089309   \n",
       "19106    8.256358  0.082681  0.063605  0.534573   2.870653   6.313327   \n",
       "21555    1.761102  0.032231  0.024511  1.104633   1.905278   0.251578   \n",
       "16247    2.744522  0.081288  0.078558  0.384432   3.601242   1.696368   \n",
       "...           ...       ...       ...       ...        ...        ...   \n",
       "15442    1.353523 -0.034358 -0.015085  3.021924   1.330915   0.064711   \n",
       "18203    1.840458  0.066941  0.043277  1.596808   1.626249   0.291673   \n",
       "6147    27.023242  0.298081  0.242008  0.035517  29.155439  15.035034   \n",
       "13151    2.396555  0.051187 -0.067896  0.000000   0.511489   2.232175   \n",
       "19675    1.151967  0.053647  0.035603  0.881500   2.134430   0.058101   \n",
       "\n",
       "       AssetTurnover       GPM     WC_TA     RE_TA   EBIT_TA  Equity_Liab  \n",
       "3142        0.647072  0.429323  0.265854  0.916180  0.025782     0.786718  \n",
       "12926      10.371673  0.992139  0.784335 -2.525026 -0.091059     0.194732  \n",
       "19106       3.593692  0.593702  0.758023  0.691392  0.056961     1.870653  \n",
       "21555       2.649800  0.557764  0.112210  0.323425  0.020897     0.905278  \n",
       "16247       1.444258  0.673373  0.402870  0.723007  0.060416     2.601242  \n",
       "...              ...       ...       ...       ...       ...          ...  \n",
       "15442       2.892155  0.351630  0.161978  0.124758 -0.008173     0.330915  \n",
       "18203       1.540259  0.554135  0.126966  0.657120  0.036739     0.626249  \n",
       "6147       40.534282  0.733198  0.863998  0.086066  0.233973    20.000000  \n",
       "13151       2.319719  0.000000  0.518577 -5.286128 -0.042685    -0.488511  \n",
       "19675       0.108449  0.750041  0.011084  0.000000  0.033006     1.134430  \n",
       "\n",
       "[310 rows x 18 columns]"
      ]
     },
     "execution_count": 43,
     "metadata": {},
     "output_type": "execute_result"
    },
    {
     "name": "stdout",
     "output_type": "stream",
     "text": [
      "time: 16 ms (started: 2022-10-10 14:34:50 +08:00)\n"
     ]
    }
   ],
   "source": [
    "X_test[mask2018]"
   ]
  },
  {
   "cell_type": "code",
   "execution_count": 34,
   "id": "95550ab0",
   "metadata": {},
   "outputs": [
    {
     "data": {
      "image/png": "[encoded data removed]",
      "text/plain": [
       "<Figure size 750x750 with 1 Axes>"
      ]
     },
     "metadata": {
      "needs_background": "light"
     },
     "output_type": "display_data"
    },
    {
     "name": "stdout",
     "output_type": "stream",
     "text": [
      "time: 203 ms (started: 2022-10-10 14:18:12 +08:00)\n"
     ]
    }
   ],
   "source": [
    "# Load the model pipeline\n",
    "ml_model_pipeline = pickle.load(open(\"rf_regressor.p\", \"rb\" ))\n",
    "\n",
    "# Get stock performance predictions\n",
    "y_pred = ml_model_pipeline.predict(X_test[mask2018])\n",
    "y_pred = pd.DataFrame(y_pred) # Turn into DataFrame\n",
    "\n",
    "# Now output scatter graph to see prediction/actual\n",
    "# for that year only.\n",
    "plt.figure(figsize=(5,5))\n",
    "plt.scatter(y_pred[0], y_small[mask2018][\"Perf\"], s=1)\n",
    "\n",
    "# Formatting\n",
    "plt.grid()\n",
    "plt.axis('equal')\n",
    "plt.title('Returns accuracy for {}-{}-{} backtest'.format(myDate.year, myDate.month, myDate.day))\n",
    "plt.xlabel('Predicted Return')\n",
    "plt.ylabel('Actual Return')\n",
    "plt.axvline(c='blue', lw=1)\n",
    "plt.axhline(c='blue', lw=1)\n",
    "plt.savefig('result.png')\n",
    "plt.axis([-1,1,-1,1]);"
   ]
  },
  {
   "cell_type": "code",
   "execution_count": 35,
   "id": "d06ac029",
   "metadata": {},
   "outputs": [
    {
     "name": "stdout",
     "output_type": "stream",
     "text": [
      "\n",
      "Top predicted perf. stocks picked and predicted performance is:\n",
      "42      MSA\n",
      "68     CLDR\n",
      "70      FTI\n",
      "81     BURL\n",
      "149     PXD\n",
      "237       J\n",
      "303    ALPN\n",
      "Name: Ticker, dtype: object\n",
      "            0\n",
      "42   2.373454\n",
      "68   2.258538\n",
      "70   1.010346\n",
      "81   1.540793\n",
      "149  1.153743\n",
      "237  1.285987\n",
      "303  1.116924\n",
      "\n",
      "Actual performance was: \n",
      "    Ticker      Perf\n",
      "42     MSA  0.195510\n",
      "68    CLDR -0.289488\n",
      "70     FTI -0.364028\n",
      "81    BURL  0.352467\n",
      "149    PXD -0.248594\n",
      "237      J -0.132632\n",
      "303   ALPN -0.651515\n",
      "time: 0 ns (started: 2022-10-10 14:18:12 +08:00)\n"
     ]
    }
   ],
   "source": [
    "# Top stocks picked, and predicted performance.\n",
    "bl_bestStocks = (y_pred[0] > y_pred.nlargest(8,0).tail(1)[0].values[0])\n",
    "\n",
    "print(\"\\nTop predicted perf. stocks picked and predicted performance is:\")\n",
    "print(y_small[mask2018].reset_index(drop=True)[bl_bestStocks][\"Ticker\"])\n",
    "print(y_pred[bl_bestStocks])\n",
    "\n",
    "print(\"\\nActual performance was: \")\n",
    "print(y_small[mask2018].reset_index(drop=True)[bl_bestStocks])\n",
    "\n",
    "'''# Calc Altman Z score.\n",
    "# To check if these companies were going to go bankrupt\n",
    "Z = 3.25 \\\n",
    "+ 6.51 * X_test[mask2018].reset_index(drop=True)[bl_bestStocks]['(CA-CL)/TA']\\\n",
    "+ 3.26 * X_test[mask2018].reset_index(drop=True)[bl_bestStocks]['RE/TA']\\\n",
    "+ 6.72 * X_test[mask2018].reset_index(drop=True)[bl_bestStocks]['EBIT/TA']\\\n",
    "+ 1.05 * X_test[mask2018].reset_index(drop=True)[bl_bestStocks]['Book Equity/TL']\n",
    "print('\\nZ scores:\\n',Z)''';"
   ]
  },
  {
   "cell_type": "code",
   "execution_count": 44,
   "id": "b3ed589f",
   "metadata": {},
   "outputs": [
    {
     "name": "stdout",
     "output_type": "stream",
     "text": [
      "Backtest return is:\n",
      "-0.1626113865907846\n",
      "time: 0 ns (started: 2022-10-10 14:37:23 +08:00)\n"
     ]
    }
   ],
   "source": [
    "# See what the performance is of the selection\n",
    "print(\"Backtest return is:\")\n",
    "print(y_small[mask2018][\"Perf\"].reset_index(drop=True)[bl_bestStocks].values.mean())"
   ]
  },
  {
   "cell_type": "code",
   "execution_count": 45,
   "id": "e70bff79",
   "metadata": {},
   "outputs": [
    {
     "data": {
      "image/png": "[encoded data removed]",
      "text/plain": [
       "<Figure size 1050x675 with 1 Axes>"
      ]
     },
     "metadata": {
      "needs_background": "light"
     },
     "output_type": "display_data"
    },
    {
     "name": "stdout",
     "output_type": "stream",
     "text": [
      "time: 281 ms (started: 2022-10-10 14:41:14 +08:00)\n"
     ]
    }
   ],
   "source": [
    "# Look at stock price of one of the companies\n",
    "rows = getStockPriceData(\"ALPN\", \n",
    "                         y_withdata_test, \n",
    "                         mask2018, \n",
    "                         df_prices, \n",
    "                         )\n",
    "\n",
    "plt.plot(rows[\"Date\"], rows[\"Close\"]) # Adj. Close\n",
    "plt.grid(True)"
   ]
  },
  {
   "cell_type": "code",
   "execution_count": 49,
   "id": "539268f1",
   "metadata": {},
   "outputs": [
    {
     "name": "stdout",
     "output_type": "stream",
     "text": [
      "['MSA' 'CLDR' 'FTI' 'BURL' 'PXD' 'J' 'ALPN']\n"
     ]
    },
    {
     "name": "stderr",
     "output_type": "stream",
     "text": [
      "No handles with labels found to put in legend.\n"
     ]
    },
    {
     "data": {
      "image/png": "[encoded data removed]",
      "text/plain": [
       "<Figure size 1050x675 with 1 Axes>"
      ]
     },
     "metadata": {
      "needs_background": "light"
     },
     "output_type": "display_data"
    },
    {
     "name": "stdout",
     "output_type": "stream",
     "text": [
      "time: 2.38 s (started: 2022-10-10 14:41:50 +08:00)\n"
     ]
    }
   ],
   "source": [
    "# Make X ticks standard, and grab stock prices as close to those points as possible for each stock (To track performance)\n",
    "\n",
    "#DatetimeIndex\n",
    "date_range = pd.date_range(start=myDate, periods=52, freq='W')\n",
    "\n",
    "# 7 greatest performance stocks of y_pred \n",
    "ticker_list = y_withdata_test[mask2018].reset_index(drop=True)[bl_bestStocks][\"Ticker\"].values\n",
    "ticker_list = y_small[mask2018].reset_index(drop=True)[bl_bestStocks][\"Ticker\"].values\n",
    "print(ticker_list)\n",
    "\n",
    "stockRet = getStockTimeSeries(date_range, y_withdata_test, \n",
    "                              ticker_list, \n",
    "                              mask2018, \n",
    "                              df_prices)\n",
    "\n",
    "stockRetRel = getPortfolioRelativeTimeSeries(stockRet)\n",
    "\n",
    "stockRetRel.head()\n",
    "\n",
    "plt.plot(stockRetRel)\n",
    "plt.legend()\n",
    "plt.grid();"
   ]
  },
  {
   "cell_type": "code",
   "execution_count": null,
   "id": "476fb4cf",
   "metadata": {},
   "outputs": [],
   "source": []
  },
  {
   "cell_type": "code",
   "execution_count": null,
   "id": "86ece61a",
   "metadata": {},
   "outputs": [],
   "source": []
  },
  {
   "cell_type": "code",
   "execution_count": null,
   "id": "459e76f8",
   "metadata": {},
   "outputs": [],
   "source": []
  },
  {
   "cell_type": "code",
   "execution_count": null,
   "id": "cdba855a",
   "metadata": {},
   "outputs": [],
   "source": []
  },
  {
   "cell_type": "markdown",
   "id": "c0acdac9",
   "metadata": {},
   "source": [
    "# S&P 500 historical data"
   ]
  },
  {
   "cell_type": "code",
   "execution_count": 66,
   "id": "749c96f7",
   "metadata": {
    "scrolled": false
   },
   "outputs": [
    {
     "name": "stdout",
     "output_type": "stream",
     "text": [
      "time: 31 ms (started: 2022-10-10 14:48:17 +08:00)\n"
     ]
    }
   ],
   "source": [
    "spy = pd.read_csv(\"S&P500.csv\", index_col='Date', parse_dates=True).sort_index()"
   ]
  },
  {
   "cell_type": "code",
   "execution_count": 67,
   "id": "862b519c",
   "metadata": {},
   "outputs": [
    {
     "name": "stdout",
     "output_type": "stream",
     "text": [
      "time: 0 ns (started: 2022-10-10 14:48:19 +08:00)\n"
     ]
    }
   ],
   "source": [
    "spy = spy.apply(lambda x: x.str.replace(',', ''))\n",
    "spy = spy.astype(float)"
   ]
  },
  {
   "cell_type": "code",
   "execution_count": 68,
   "id": "2a62ff09",
   "metadata": {},
   "outputs": [
    {
     "name": "stdout",
     "output_type": "stream",
     "text": [
      "<class 'pandas.core.frame.DataFrame'>\n",
      "DatetimeIndex: 320 entries, 2016-08-29 to 2022-10-07\n",
      "Data columns (total 6 columns):\n",
      " #   Column       Non-Null Count  Dtype  \n",
      "---  ------       --------------  -----  \n",
      " 0   Open         320 non-null    float64\n",
      " 1   High         320 non-null    float64\n",
      " 2   Low          320 non-null    float64\n",
      " 3   Close*       320 non-null    float64\n",
      " 4   Adj Close**  320 non-null    float64\n",
      " 5   Volume       320 non-null    float64\n",
      "dtypes: float64(6)\n",
      "memory usage: 17.5 KB\n",
      "time: 0 ns (started: 2022-10-10 14:48:20 +08:00)\n"
     ]
    }
   ],
   "source": [
    "spy.info()"
   ]
  },
  {
   "cell_type": "code",
   "execution_count": 69,
   "id": "38027adc",
   "metadata": {},
   "outputs": [
    {
     "name": "stdout",
     "output_type": "stream",
     "text": [
      "time: 0 ns (started: 2022-10-10 14:48:23 +08:00)\n"
     ]
    }
   ],
   "source": [
    "spy = spy.loc[(spy.index>='2017-01-01') & \n",
    "                         (spy.index<'2020-12-31')]"
   ]
  },
  {
   "cell_type": "code",
   "execution_count": 70,
   "id": "1951a9a0",
   "metadata": {},
   "outputs": [
    {
     "data": {
      "text/html": [
       "<div>\n",
       "<style scoped>\n",
       "    .dataframe tbody tr th:only-of-type {\n",
       "        vertical-align: middle;\n",
       "    }\n",
       "\n",
       "    .dataframe tbody tr th {\n",
       "        vertical-align: top;\n",
       "    }\n",
       "\n",
       "    .dataframe thead th {\n",
       "        text-align: right;\n",
       "    }\n",
       "</style>\n",
       "<table border=\"1\" class=\"dataframe\">\n",
       "  <thead>\n",
       "    <tr style=\"text-align: right;\">\n",
       "      <th></th>\n",
       "      <th>Open</th>\n",
       "      <th>High</th>\n",
       "      <th>Low</th>\n",
       "      <th>Close*</th>\n",
       "      <th>Adj Close**</th>\n",
       "      <th>Volume</th>\n",
       "    </tr>\n",
       "    <tr>\n",
       "      <th>Date</th>\n",
       "      <th></th>\n",
       "      <th></th>\n",
       "      <th></th>\n",
       "      <th></th>\n",
       "      <th></th>\n",
       "      <th></th>\n",
       "    </tr>\n",
       "  </thead>\n",
       "  <tbody>\n",
       "    <tr>\n",
       "      <th>2017-01-02</th>\n",
       "      <td>2251.57</td>\n",
       "      <td>2282.10</td>\n",
       "      <td>2245.13</td>\n",
       "      <td>2276.98</td>\n",
       "      <td>2276.98</td>\n",
       "      <td>1.463713e+10</td>\n",
       "    </tr>\n",
       "    <tr>\n",
       "      <th>2017-01-09</th>\n",
       "      <td>2273.59</td>\n",
       "      <td>2279.27</td>\n",
       "      <td>2254.25</td>\n",
       "      <td>2274.64</td>\n",
       "      <td>2274.64</td>\n",
       "      <td>1.702021e+10</td>\n",
       "    </tr>\n",
       "    <tr>\n",
       "      <th>2017-01-16</th>\n",
       "      <td>2269.14</td>\n",
       "      <td>2276.96</td>\n",
       "      <td>2258.41</td>\n",
       "      <td>2271.31</td>\n",
       "      <td>2271.31</td>\n",
       "      <td>1.359118e+10</td>\n",
       "    </tr>\n",
       "    <tr>\n",
       "      <th>2017-01-23</th>\n",
       "      <td>2267.78</td>\n",
       "      <td>2300.99</td>\n",
       "      <td>2257.02</td>\n",
       "      <td>2294.69</td>\n",
       "      <td>2294.69</td>\n",
       "      <td>1.755594e+10</td>\n",
       "    </tr>\n",
       "    <tr>\n",
       "      <th>2017-01-30</th>\n",
       "      <td>2286.01</td>\n",
       "      <td>2298.31</td>\n",
       "      <td>2267.21</td>\n",
       "      <td>2297.42</td>\n",
       "      <td>2297.42</td>\n",
       "      <td>1.900101e+10</td>\n",
       "    </tr>\n",
       "    <tr>\n",
       "      <th>...</th>\n",
       "      <td>...</td>\n",
       "      <td>...</td>\n",
       "      <td>...</td>\n",
       "      <td>...</td>\n",
       "      <td>...</td>\n",
       "      <td>...</td>\n",
       "    </tr>\n",
       "    <tr>\n",
       "      <th>2020-11-30</th>\n",
       "      <td>3634.18</td>\n",
       "      <td>3699.20</td>\n",
       "      <td>3594.39</td>\n",
       "      <td>3699.12</td>\n",
       "      <td>3699.12</td>\n",
       "      <td>2.690281e+10</td>\n",
       "    </tr>\n",
       "    <tr>\n",
       "      <th>2020-12-07</th>\n",
       "      <td>3694.73</td>\n",
       "      <td>3712.39</td>\n",
       "      <td>3633.40</td>\n",
       "      <td>3663.46</td>\n",
       "      <td>3663.46</td>\n",
       "      <td>2.353356e+10</td>\n",
       "    </tr>\n",
       "    <tr>\n",
       "      <th>2020-12-14</th>\n",
       "      <td>3675.27</td>\n",
       "      <td>3726.70</td>\n",
       "      <td>3645.84</td>\n",
       "      <td>3709.41</td>\n",
       "      <td>3709.41</td>\n",
       "      <td>2.426542e+10</td>\n",
       "    </tr>\n",
       "    <tr>\n",
       "      <th>2020-12-21</th>\n",
       "      <td>3684.28</td>\n",
       "      <td>3711.24</td>\n",
       "      <td>3636.48</td>\n",
       "      <td>3703.06</td>\n",
       "      <td>3703.06</td>\n",
       "      <td>1.441382e+10</td>\n",
       "    </tr>\n",
       "    <tr>\n",
       "      <th>2020-12-28</th>\n",
       "      <td>3723.03</td>\n",
       "      <td>3760.20</td>\n",
       "      <td>3723.03</td>\n",
       "      <td>3756.07</td>\n",
       "      <td>3756.07</td>\n",
       "      <td>1.323220e+10</td>\n",
       "    </tr>\n",
       "  </tbody>\n",
       "</table>\n",
       "<p>209 rows × 6 columns</p>\n",
       "</div>"
      ],
      "text/plain": [
       "               Open     High      Low   Close*  Adj Close**        Volume\n",
       "Date                                                                     \n",
       "2017-01-02  2251.57  2282.10  2245.13  2276.98      2276.98  1.463713e+10\n",
       "2017-01-09  2273.59  2279.27  2254.25  2274.64      2274.64  1.702021e+10\n",
       "2017-01-16  2269.14  2276.96  2258.41  2271.31      2271.31  1.359118e+10\n",
       "2017-01-23  2267.78  2300.99  2257.02  2294.69      2294.69  1.755594e+10\n",
       "2017-01-30  2286.01  2298.31  2267.21  2297.42      2297.42  1.900101e+10\n",
       "...             ...      ...      ...      ...          ...           ...\n",
       "2020-11-30  3634.18  3699.20  3594.39  3699.12      3699.12  2.690281e+10\n",
       "2020-12-07  3694.73  3712.39  3633.40  3663.46      3663.46  2.353356e+10\n",
       "2020-12-14  3675.27  3726.70  3645.84  3709.41      3709.41  2.426542e+10\n",
       "2020-12-21  3684.28  3711.24  3636.48  3703.06      3703.06  1.441382e+10\n",
       "2020-12-28  3723.03  3760.20  3723.03  3756.07      3756.07  1.323220e+10\n",
       "\n",
       "[209 rows x 6 columns]"
      ]
     },
     "execution_count": 70,
     "metadata": {},
     "output_type": "execute_result"
    },
    {
     "name": "stdout",
     "output_type": "stream",
     "text": [
      "time: 15 ms (started: 2022-10-10 14:48:26 +08:00)\n"
     ]
    }
   ],
   "source": [
    "spy"
   ]
  },
  {
   "cell_type": "code",
   "execution_count": 71,
   "id": "a8593d25",
   "metadata": {},
   "outputs": [
    {
     "name": "stdout",
     "output_type": "stream",
     "text": [
      "volatility of AI investor was:  0.16406108225726118\n",
      "volatility of S&P 500 was:  0.23172422345963195\n"
     ]
    },
    {
     "data": {
      "image/png": "[encoded data removed]",
      "text/plain": [
       "<Figure size 1200x750 with 1 Axes>"
      ]
     },
     "metadata": {
      "needs_background": "light"
     },
     "output_type": "display_data"
    },
    {
     "name": "stdout",
     "output_type": "stream",
     "text": [
      "time: 171 ms (started: 2022-10-10 14:48:33 +08:00)\n"
     ]
    }
   ],
   "source": [
    "spy['Relative'] = spy[\"Open\"]/spy[\"Open\"][0]\n",
    "\n",
    "plt.figure(figsize=(8,5))\n",
    "\n",
    "# Plot the S&P relative performance from Day 1\n",
    "plt.plot(spy['Relative'])\n",
    "\n",
    "# Plot the portfolio backtest performance\n",
    "plt.plot(backTest)\n",
    "\n",
    "plt.grid()\n",
    "plt.xlabel('Year')\n",
    "plt.ylabel('Relative returns (100 on Day 1)')\n",
    "plt.legend(['S&P500 index performance', 'Random Forest Stock Picker'])\n",
    "\n",
    "print('volatility of AI investor was: ', backTest['Indexed Performance'].diff().std()*np.sqrt(52))\n",
    "print('volatility of S&P 500 was: ', spy[\"Relative\"].diff().std()*np.sqrt(52))"
   ]
  },
  {
   "cell_type": "markdown",
   "id": "6fbb470e",
   "metadata": {},
   "source": [
    "# Account for chance of default using Altman Z-score"
   ]
  },
  {
   "cell_type": "markdown",
   "id": "7acbc870",
   "metadata": {},
   "source": [
    "Z = 3.25 + 6.51 X1 + 3.26 X2 + 6.72 X3 + 1.05 X4\n",
    "\n",
    "The lower the Z score, the higher the risk of default. A Z score of 4 is roughly equivalent to B credit rating (about 5% risk of default). We use the following guidelines to determine which companies to choose:\n",
    "- Z > 2.99: Non-bankrupt zone\n",
    "- 1.81 < Z < 2.99: Grey zone\n",
    "- Z < 1.81: Distress zone"
   ]
  },
  {
   "cell_type": "code",
   "execution_count": 78,
   "id": "d598fd8d",
   "metadata": {},
   "outputs": [
    {
     "name": "stdout",
     "output_type": "stream",
     "text": [
      "Top predicted perf. stocks picked and predicted performance is:\n",
      "42      MSA\n",
      "68     CLDR\n",
      "70      FTI\n",
      "81     BURL\n",
      "140      IP\n",
      "149     PXD\n",
      "152    ARCW\n",
      "219     ALE\n",
      "237       J\n",
      "303    ALPN\n",
      "Name: Ticker, dtype: object\n",
      "            0\n",
      "42   2.373454\n",
      "68   2.258538\n",
      "70   1.010346\n",
      "81   1.540793\n",
      "140  0.845432\n",
      "149  1.153743\n",
      "152  0.864486\n",
      "219  0.854523\n",
      "237  1.285987\n",
      "303  1.116924\n",
      "\n",
      "Actual performance was: \n",
      "    Ticker      Perf\n",
      "42     MSA  0.195510\n",
      "68    CLDR -0.289488\n",
      "70     FTI -0.364028\n",
      "81    BURL  0.352467\n",
      "140     IP -0.318403\n",
      "149    PXD -0.248594\n",
      "152   ARCW -0.516279\n",
      "219    ALE  0.019938\n",
      "237      J -0.132632\n",
      "303   ALPN -0.651515\n",
      "\n",
      "Z scores:\n",
      "\n",
      "42    -40.797784\n",
      "68      4.612640\n",
      "70      5.692755\n",
      "81    -13.390203\n",
      "140     7.387082\n",
      "149    10.012220\n",
      "152     0.456816\n",
      "219     0.657203\n",
      "237   -69.731738\n",
      "303   -40.105146\n",
      "dtype: float64\n",
      "time: 16 ms (started: 2022-10-10 15:08:06 +08:00)\n"
     ]
    }
   ],
   "source": [
    "# Top 10 stocks picked, and predicted performance.\n",
    "mask_top10stocks = (y_pred[0] > y_pred.nlargest(11,0).tail(1)[0].values[0])\n",
    "\n",
    "print(\"Top predicted perf. stocks picked and predicted performance is:\")\n",
    "print(y_small[mask2018].reset_index(drop=True)[mask_top10stocks][\"Ticker\"])\n",
    "print(y_pred[mask_top10stocks])\n",
    "\n",
    "print(\"\\nActual performance was: \")\n",
    "print(y_small[mask2018].reset_index(drop=True)[mask_top10stocks])\n",
    "\n",
    "# Calculate Altman Z score.\n",
    "# To give a sense of the risk of default\n",
    "Z = 3.25 \\\n",
    "+ 6.51 * X_test[mask2018].reset_index(drop=True)[mask_top10stocks]['WC_TA']\\\n",
    "+ 3.26 * X_test[mask2018].reset_index(drop=True)[mask_top10stocks]['RE_TA']\\\n",
    "+ 6.72 * X_test[mask2018].reset_index(drop=True)[mask_top10stocks]['EBIT_TA']\\\n",
    "+ 1.05 * X_test[mask2018].reset_index(drop=True)[mask_top10stocks]['Equity_Liab']\n",
    "print('\\nZ scores:\\n')\n",
    "print(Z)"
   ]
  }
 ],
 "metadata": {
  "kernelspec": {
   "display_name": "Python 3 (ipykernel)",
   "language": "python",
   "name": "python3"
  },
  "language_info": {
   "codemirror_mode": {
    "name": "ipython",
    "version": 3
   },
   "file_extension": ".py",
   "mimetype": "text/x-python",
   "name": "python",
   "nbconvert_exporter": "python",
   "pygments_lexer": "ipython3",
   "version": "3.9.7"
  }
 },
 "nbformat": 4,
 "nbformat_minor": 5
}
