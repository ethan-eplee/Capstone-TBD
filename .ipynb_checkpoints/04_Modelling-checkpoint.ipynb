{
 "cells": [
  {
   "cell_type": "code",
   "execution_count": 1,
   "id": "925a5db6",
   "metadata": {},
   "outputs": [
    {
     "name": "stdout",
     "output_type": "stream",
     "text": [
      "time: 1.74 s (started: 2022-10-11 21:29:28 +08:00)\n"
     ]
    }
   ],
   "source": [
    "%load_ext autotime\n",
    "import pandas as pd\n",
    "import numpy as np\n",
    "import matplotlib.pyplot as plt\n",
    "import seaborn as sns\n",
    "\n",
    "import pickle\n",
    "import time\n",
    "\n",
    "from sklearn.model_selection import train_test_split\n",
    "from sklearn.model_selection import learning_curve\n",
    "from sklearn.model_selection import ShuffleSplit\n",
    "\n",
    "from sklearn.linear_model import LinearRegression\n",
    "from sklearn.linear_model import ElasticNet\n",
    "\n",
    "from sklearn.neighbors import KNeighborsRegressor\n",
    "from sklearn.tree import DecisionTreeRegressor\n",
    "from sklearn.ensemble import RandomForestRegressor\n",
    "\n",
    "from sklearn.preprocessing import PowerTransformer\n",
    "from sklearn.preprocessing import StandardScaler, MinMaxScaler \n",
    "\n",
    "from sklearn.pipeline import Pipeline\n",
    "from sklearn.metrics import mean_squared_error"
   ]
  },
  {
   "cell_type": "code",
   "execution_count": 2,
   "id": "19a7c2f6",
   "metadata": {},
   "outputs": [
    {
     "name": "stdout",
     "output_type": "stream",
     "text": [
      "time: 32 ms (started: 2022-10-11 21:29:30 +08:00)\n"
     ]
    }
   ],
   "source": [
    "# from previous notebook, we have saved all the financial ratios and its corresponding annual returns\n",
    "# total of 29,650 rows\n",
    "x = pickle.load(open('./data/03_finratios.pkl', 'rb'))\n",
    "y = pickle.load(open('./data/03_returns.pkl', 'rb'))"
   ]
  },
  {
   "cell_type": "code",
   "execution_count": 3,
   "id": "bd5f60b4",
   "metadata": {
    "scrolled": true
   },
   "outputs": [
    {
     "name": "stdout",
     "output_type": "stream",
     "text": [
      "<class 'pandas.core.frame.DataFrame'>\n",
      "RangeIndex: 29650 entries, 0 to 29649\n",
      "Data columns (total 18 columns):\n",
      " #   Column         Non-Null Count  Dtype  \n",
      "---  ------         --------------  -----  \n",
      " 0   EV_EBIT        29650 non-null  float64\n",
      " 1   OI_NWCFA       29650 non-null  float64\n",
      " 2   PE             29650 non-null  float64\n",
      " 3   PB             29650 non-null  float64\n",
      " 4   PS             29650 non-null  float64\n",
      " 5   OI_IntExp      29650 non-null  float64\n",
      " 6   WorkingCap     29650 non-null  float64\n",
      " 7   ROE            29650 non-null  float64\n",
      " 8   ROCE           29650 non-null  float64\n",
      " 9   DE             29650 non-null  float64\n",
      " 10  DebtRatio      29650 non-null  float64\n",
      " 11  CashRatio      29650 non-null  float64\n",
      " 12  AssetTurnover  29650 non-null  float64\n",
      " 13  GPM            29650 non-null  float64\n",
      " 14  WC_TA          29650 non-null  float64\n",
      " 15  RE_TA          29650 non-null  float64\n",
      " 16  EBIT_TA        29650 non-null  float64\n",
      " 17  Equity_Liab    29650 non-null  float64\n",
      "dtypes: float64(18)\n",
      "memory usage: 4.1 MB\n",
      "time: 0 ns (started: 2022-10-11 21:29:30 +08:00)\n"
     ]
    }
   ],
   "source": [
    "# view the x dataframe containing the financial ratios\n",
    "x.info()"
   ]
  },
  {
   "cell_type": "code",
   "execution_count": 4,
   "id": "8c696c59",
   "metadata": {},
   "outputs": [
    {
     "data": {
      "text/html": [
       "<div>\n",
       "<style scoped>\n",
       "    .dataframe tbody tr th:only-of-type {\n",
       "        vertical-align: middle;\n",
       "    }\n",
       "\n",
       "    .dataframe tbody tr th {\n",
       "        vertical-align: top;\n",
       "    }\n",
       "\n",
       "    .dataframe thead th {\n",
       "        text-align: right;\n",
       "    }\n",
       "</style>\n",
       "<table border=\"1\" class=\"dataframe\">\n",
       "  <thead>\n",
       "    <tr style=\"text-align: right;\">\n",
       "      <th></th>\n",
       "      <th>Ticker</th>\n",
       "      <th>Returns</th>\n",
       "    </tr>\n",
       "  </thead>\n",
       "  <tbody>\n",
       "    <tr>\n",
       "      <th>0</th>\n",
       "      <td>A</td>\n",
       "      <td>0.563351</td>\n",
       "    </tr>\n",
       "    <tr>\n",
       "      <th>1</th>\n",
       "      <td>A</td>\n",
       "      <td>0.535595</td>\n",
       "    </tr>\n",
       "    <tr>\n",
       "      <th>2</th>\n",
       "      <td>A</td>\n",
       "      <td>0.198018</td>\n",
       "    </tr>\n",
       "    <tr>\n",
       "      <th>3</th>\n",
       "      <td>A</td>\n",
       "      <td>0.076426</td>\n",
       "    </tr>\n",
       "    <tr>\n",
       "      <th>4</th>\n",
       "      <td>A</td>\n",
       "      <td>-0.050044</td>\n",
       "    </tr>\n",
       "    <tr>\n",
       "      <th>...</th>\n",
       "      <td>...</td>\n",
       "      <td>...</td>\n",
       "    </tr>\n",
       "    <tr>\n",
       "      <th>29645</th>\n",
       "      <td>ZYXI</td>\n",
       "      <td>0.772254</td>\n",
       "    </tr>\n",
       "    <tr>\n",
       "      <th>29646</th>\n",
       "      <td>ZYXI</td>\n",
       "      <td>0.701262</td>\n",
       "    </tr>\n",
       "    <tr>\n",
       "      <th>29647</th>\n",
       "      <td>ZYXI</td>\n",
       "      <td>0.400618</td>\n",
       "    </tr>\n",
       "    <tr>\n",
       "      <th>29648</th>\n",
       "      <td>ZYXI</td>\n",
       "      <td>-0.325537</td>\n",
       "    </tr>\n",
       "    <tr>\n",
       "      <th>29649</th>\n",
       "      <td>ZYXI</td>\n",
       "      <td>-0.319614</td>\n",
       "    </tr>\n",
       "  </tbody>\n",
       "</table>\n",
       "<p>29650 rows × 2 columns</p>\n",
       "</div>"
      ],
      "text/plain": [
       "      Ticker   Returns\n",
       "0          A  0.563351\n",
       "1          A  0.535595\n",
       "2          A  0.198018\n",
       "3          A  0.076426\n",
       "4          A -0.050044\n",
       "...      ...       ...\n",
       "29645   ZYXI  0.772254\n",
       "29646   ZYXI  0.701262\n",
       "29647   ZYXI  0.400618\n",
       "29648   ZYXI -0.325537\n",
       "29649   ZYXI -0.319614\n",
       "\n",
       "[29650 rows x 2 columns]"
      ]
     },
     "execution_count": 4,
     "metadata": {},
     "output_type": "execute_result"
    },
    {
     "name": "stdout",
     "output_type": "stream",
     "text": [
      "time: 16 ms (started: 2022-10-11 21:29:30 +08:00)\n"
     ]
    }
   ],
   "source": [
    "y"
   ]
  },
  {
   "cell_type": "code",
   "execution_count": 5,
   "id": "5eff3fbd",
   "metadata": {},
   "outputs": [
    {
     "data": {
      "text/plain": [
       "0        0.563351\n",
       "1        0.535595\n",
       "2        0.198018\n",
       "3        0.076426\n",
       "4       -0.050044\n",
       "           ...   \n",
       "29645    0.772254\n",
       "29646    0.701262\n",
       "29647    0.400618\n",
       "29648   -0.325537\n",
       "29649   -0.319614\n",
       "Name: Returns, Length: 29650, dtype: float64"
      ]
     },
     "execution_count": 5,
     "metadata": {},
     "output_type": "execute_result"
    },
    {
     "name": "stdout",
     "output_type": "stream",
     "text": [
      "time: 15 ms (started: 2022-10-11 21:29:30 +08:00)\n"
     ]
    }
   ],
   "source": [
    "# Store the target returns temporarily\n",
    "returns = y['Returns']\n",
    "returns = returns.astype('float64')\n",
    "returns"
   ]
  },
  {
   "cell_type": "code",
   "execution_count": 6,
   "id": "74734f43",
   "metadata": {
    "scrolled": true
   },
   "outputs": [
    {
     "name": "stdout",
     "output_type": "stream",
     "text": [
      "time: 16 ms (started: 2022-10-11 21:29:30 +08:00)\n"
     ]
    }
   ],
   "source": [
    "# Add the Returns column from y to the x dataframe\n",
    "x['Returns'] = returns\n",
    "\n",
    "# Drop the null rows (if any) and reset index\n",
    "x = x.dropna(axis=0)\n",
    "x = x.reset_index(drop=True)\n",
    "\n",
    "# Randomise the rows for train-test-split\n",
    "# Specify frac=1 because we want all the rows back\n",
    "x = x.sample(frac=1, random_state=42)"
   ]
  },
  {
   "cell_type": "markdown",
   "id": "f051075c",
   "metadata": {},
   "source": [
    "After randomizing the rows in the x dataframe (with the targets), we want to split back dataset into x and y"
   ]
  },
  {
   "cell_type": "code",
   "execution_count": 7,
   "id": "21455854",
   "metadata": {},
   "outputs": [
    {
     "data": {
      "text/html": [
       "<div>\n",
       "<style scoped>\n",
       "    .dataframe tbody tr th:only-of-type {\n",
       "        vertical-align: middle;\n",
       "    }\n",
       "\n",
       "    .dataframe tbody tr th {\n",
       "        vertical-align: top;\n",
       "    }\n",
       "\n",
       "    .dataframe thead th {\n",
       "        text-align: right;\n",
       "    }\n",
       "</style>\n",
       "<table border=\"1\" class=\"dataframe\">\n",
       "  <thead>\n",
       "    <tr style=\"text-align: right;\">\n",
       "      <th></th>\n",
       "      <th>EV_EBIT</th>\n",
       "      <th>OI_NWCFA</th>\n",
       "      <th>PE</th>\n",
       "      <th>PB</th>\n",
       "      <th>PS</th>\n",
       "      <th>OI_IntExp</th>\n",
       "      <th>WorkingCap</th>\n",
       "      <th>ROE</th>\n",
       "      <th>ROCE</th>\n",
       "      <th>DE</th>\n",
       "      <th>DebtRatio</th>\n",
       "      <th>CashRatio</th>\n",
       "      <th>AssetTurnover</th>\n",
       "      <th>GPM</th>\n",
       "      <th>WC_TA</th>\n",
       "      <th>RE_TA</th>\n",
       "      <th>EBIT_TA</th>\n",
       "      <th>Equity_Liab</th>\n",
       "      <th>Returns</th>\n",
       "    </tr>\n",
       "  </thead>\n",
       "  <tbody>\n",
       "    <tr>\n",
       "      <th>25628</th>\n",
       "      <td>41.691245</td>\n",
       "      <td>0.215433</td>\n",
       "      <td>41.632414</td>\n",
       "      <td>2.191725</td>\n",
       "      <td>5.960148</td>\n",
       "      <td>2.708548</td>\n",
       "      <td>1.605372</td>\n",
       "      <td>0.052645</td>\n",
       "      <td>0.028626</td>\n",
       "      <td>2.788468</td>\n",
       "      <td>1.358620</td>\n",
       "      <td>0.011801</td>\n",
       "      <td>1.334186</td>\n",
       "      <td>0.455618</td>\n",
       "      <td>0.036790</td>\n",
       "      <td>1.218756</td>\n",
       "      <td>0.026887</td>\n",
       "      <td>0.358620</td>\n",
       "      <td>-0.206629</td>\n",
       "    </tr>\n",
       "    <tr>\n",
       "      <th>7249</th>\n",
       "      <td>-39.615737</td>\n",
       "      <td>-0.154405</td>\n",
       "      <td>-51.149530</td>\n",
       "      <td>0.984873</td>\n",
       "      <td>0.994036</td>\n",
       "      <td>-45.656325</td>\n",
       "      <td>1.498312</td>\n",
       "      <td>-0.019255</td>\n",
       "      <td>-0.014125</td>\n",
       "      <td>1.176810</td>\n",
       "      <td>1.849755</td>\n",
       "      <td>0.423275</td>\n",
       "      <td>1.788779</td>\n",
       "      <td>0.090585</td>\n",
       "      <td>0.245963</td>\n",
       "      <td>-0.014983</td>\n",
       "      <td>-0.007153</td>\n",
       "      <td>0.849755</td>\n",
       "      <td>3.016790</td>\n",
       "    </tr>\n",
       "    <tr>\n",
       "      <th>9043</th>\n",
       "      <td>138.710025</td>\n",
       "      <td>0.057048</td>\n",
       "      <td>306.176349</td>\n",
       "      <td>3.099016</td>\n",
       "      <td>5.537463</td>\n",
       "      <td>2.834975</td>\n",
       "      <td>1.797912</td>\n",
       "      <td>0.010122</td>\n",
       "      <td>0.012513</td>\n",
       "      <td>1.886285</td>\n",
       "      <td>1.530143</td>\n",
       "      <td>0.479910</td>\n",
       "      <td>2.919091</td>\n",
       "      <td>0.349227</td>\n",
       "      <td>0.184143</td>\n",
       "      <td>0.802735</td>\n",
       "      <td>0.009625</td>\n",
       "      <td>0.530143</td>\n",
       "      <td>-0.053788</td>\n",
       "    </tr>\n",
       "    <tr>\n",
       "      <th>8164</th>\n",
       "      <td>69.876068</td>\n",
       "      <td>0.108339</td>\n",
       "      <td>89.479847</td>\n",
       "      <td>5.270783</td>\n",
       "      <td>5.726044</td>\n",
       "      <td>14.800000</td>\n",
       "      <td>0.456019</td>\n",
       "      <td>0.058905</td>\n",
       "      <td>0.042117</td>\n",
       "      <td>1.518104</td>\n",
       "      <td>1.658716</td>\n",
       "      <td>0.180810</td>\n",
       "      <td>0.851384</td>\n",
       "      <td>0.226507</td>\n",
       "      <td>-0.132513</td>\n",
       "      <td>0.105833</td>\n",
       "      <td>0.031858</td>\n",
       "      <td>0.658716</td>\n",
       "      <td>0.015873</td>\n",
       "    </tr>\n",
       "    <tr>\n",
       "      <th>26082</th>\n",
       "      <td>34.306314</td>\n",
       "      <td>0.288867</td>\n",
       "      <td>38.391993</td>\n",
       "      <td>10.216545</td>\n",
       "      <td>4.116213</td>\n",
       "      <td>8.726368</td>\n",
       "      <td>1.118243</td>\n",
       "      <td>0.266111</td>\n",
       "      <td>0.074855</td>\n",
       "      <td>6.574310</td>\n",
       "      <td>1.152107</td>\n",
       "      <td>0.223240</td>\n",
       "      <td>2.330795</td>\n",
       "      <td>0.468250</td>\n",
       "      <td>0.035133</td>\n",
       "      <td>0.000000</td>\n",
       "      <td>0.052613</td>\n",
       "      <td>0.152107</td>\n",
       "      <td>1.181818</td>\n",
       "    </tr>\n",
       "    <tr>\n",
       "      <th>...</th>\n",
       "      <td>...</td>\n",
       "      <td>...</td>\n",
       "      <td>...</td>\n",
       "      <td>...</td>\n",
       "      <td>...</td>\n",
       "      <td>...</td>\n",
       "      <td>...</td>\n",
       "      <td>...</td>\n",
       "      <td>...</td>\n",
       "      <td>...</td>\n",
       "      <td>...</td>\n",
       "      <td>...</td>\n",
       "      <td>...</td>\n",
       "      <td>...</td>\n",
       "      <td>...</td>\n",
       "      <td>...</td>\n",
       "      <td>...</td>\n",
       "      <td>...</td>\n",
       "      <td>...</td>\n",
       "    </tr>\n",
       "    <tr>\n",
       "      <th>21575</th>\n",
       "      <td>134.340720</td>\n",
       "      <td>0.039919</td>\n",
       "      <td>54.895840</td>\n",
       "      <td>1.642422</td>\n",
       "      <td>2.515113</td>\n",
       "      <td>16.459255</td>\n",
       "      <td>1.923444</td>\n",
       "      <td>0.029919</td>\n",
       "      <td>0.010099</td>\n",
       "      <td>0.707267</td>\n",
       "      <td>2.413892</td>\n",
       "      <td>0.092680</td>\n",
       "      <td>1.923501</td>\n",
       "      <td>0.130264</td>\n",
       "      <td>0.212625</td>\n",
       "      <td>0.338118</td>\n",
       "      <td>0.007774</td>\n",
       "      <td>1.413892</td>\n",
       "      <td>-0.236701</td>\n",
       "    </tr>\n",
       "    <tr>\n",
       "      <th>5390</th>\n",
       "      <td>28.431703</td>\n",
       "      <td>0.185304</td>\n",
       "      <td>38.809467</td>\n",
       "      <td>8.828897</td>\n",
       "      <td>10.546273</td>\n",
       "      <td>14.298969</td>\n",
       "      <td>1.291864</td>\n",
       "      <td>0.227493</td>\n",
       "      <td>0.102355</td>\n",
       "      <td>2.743601</td>\n",
       "      <td>1.364484</td>\n",
       "      <td>0.928858</td>\n",
       "      <td>0.567539</td>\n",
       "      <td>0.775171</td>\n",
       "      <td>0.047153</td>\n",
       "      <td>0.264116</td>\n",
       "      <td>0.085819</td>\n",
       "      <td>0.364484</td>\n",
       "      <td>0.182829</td>\n",
       "    </tr>\n",
       "    <tr>\n",
       "      <th>860</th>\n",
       "      <td>-500.000000</td>\n",
       "      <td>0.172615</td>\n",
       "      <td>-533.834630</td>\n",
       "      <td>-50.000000</td>\n",
       "      <td>500.000000</td>\n",
       "      <td>600.000000</td>\n",
       "      <td>0.020949</td>\n",
       "      <td>0.134454</td>\n",
       "      <td>0.134454</td>\n",
       "      <td>0.000000</td>\n",
       "      <td>0.020949</td>\n",
       "      <td>0.000762</td>\n",
       "      <td>2000.000000</td>\n",
       "      <td>1.000000</td>\n",
       "      <td>-1.500000</td>\n",
       "      <td>0.000000</td>\n",
       "      <td>-2.000000</td>\n",
       "      <td>-0.979051</td>\n",
       "      <td>-0.850000</td>\n",
       "    </tr>\n",
       "    <tr>\n",
       "      <th>15795</th>\n",
       "      <td>126.067734</td>\n",
       "      <td>0.012942</td>\n",
       "      <td>137.121786</td>\n",
       "      <td>2.235055</td>\n",
       "      <td>32.540436</td>\n",
       "      <td>2.726626</td>\n",
       "      <td>0.803855</td>\n",
       "      <td>0.016300</td>\n",
       "      <td>0.012720</td>\n",
       "      <td>1.060456</td>\n",
       "      <td>1.942990</td>\n",
       "      <td>0.695407</td>\n",
       "      <td>0.035870</td>\n",
       "      <td>0.768409</td>\n",
       "      <td>-0.006632</td>\n",
       "      <td>0.000000</td>\n",
       "      <td>0.012290</td>\n",
       "      <td>0.942990</td>\n",
       "      <td>0.633980</td>\n",
       "    </tr>\n",
       "    <tr>\n",
       "      <th>23654</th>\n",
       "      <td>-16.333190</td>\n",
       "      <td>-0.156950</td>\n",
       "      <td>-22.897625</td>\n",
       "      <td>3.281183</td>\n",
       "      <td>500.000000</td>\n",
       "      <td>-600.000000</td>\n",
       "      <td>7.002290</td>\n",
       "      <td>-0.143298</td>\n",
       "      <td>-0.145264</td>\n",
       "      <td>0.144934</td>\n",
       "      <td>7.899683</td>\n",
       "      <td>6.290053</td>\n",
       "      <td>0.000000</td>\n",
       "      <td>0.000000</td>\n",
       "      <td>0.755676</td>\n",
       "      <td>-9.743165</td>\n",
       "      <td>-0.126976</td>\n",
       "      <td>6.899683</td>\n",
       "      <td>-0.564417</td>\n",
       "    </tr>\n",
       "  </tbody>\n",
       "</table>\n",
       "<p>29650 rows × 19 columns</p>\n",
       "</div>"
      ],
      "text/plain": [
       "          EV_EBIT  OI_NWCFA          PE         PB          PS   OI_IntExp  \\\n",
       "25628   41.691245  0.215433   41.632414   2.191725    5.960148    2.708548   \n",
       "7249   -39.615737 -0.154405  -51.149530   0.984873    0.994036  -45.656325   \n",
       "9043   138.710025  0.057048  306.176349   3.099016    5.537463    2.834975   \n",
       "8164    69.876068  0.108339   89.479847   5.270783    5.726044   14.800000   \n",
       "26082   34.306314  0.288867   38.391993  10.216545    4.116213    8.726368   \n",
       "...           ...       ...         ...        ...         ...         ...   \n",
       "21575  134.340720  0.039919   54.895840   1.642422    2.515113   16.459255   \n",
       "5390    28.431703  0.185304   38.809467   8.828897   10.546273   14.298969   \n",
       "860   -500.000000  0.172615 -533.834630 -50.000000  500.000000  600.000000   \n",
       "15795  126.067734  0.012942  137.121786   2.235055   32.540436    2.726626   \n",
       "23654  -16.333190 -0.156950  -22.897625   3.281183  500.000000 -600.000000   \n",
       "\n",
       "       WorkingCap       ROE      ROCE        DE  DebtRatio  CashRatio  \\\n",
       "25628    1.605372  0.052645  0.028626  2.788468   1.358620   0.011801   \n",
       "7249     1.498312 -0.019255 -0.014125  1.176810   1.849755   0.423275   \n",
       "9043     1.797912  0.010122  0.012513  1.886285   1.530143   0.479910   \n",
       "8164     0.456019  0.058905  0.042117  1.518104   1.658716   0.180810   \n",
       "26082    1.118243  0.266111  0.074855  6.574310   1.152107   0.223240   \n",
       "...           ...       ...       ...       ...        ...        ...   \n",
       "21575    1.923444  0.029919  0.010099  0.707267   2.413892   0.092680   \n",
       "5390     1.291864  0.227493  0.102355  2.743601   1.364484   0.928858   \n",
       "860      0.020949  0.134454  0.134454  0.000000   0.020949   0.000762   \n",
       "15795    0.803855  0.016300  0.012720  1.060456   1.942990   0.695407   \n",
       "23654    7.002290 -0.143298 -0.145264  0.144934   7.899683   6.290053   \n",
       "\n",
       "       AssetTurnover       GPM     WC_TA     RE_TA   EBIT_TA  Equity_Liab  \\\n",
       "25628       1.334186  0.455618  0.036790  1.218756  0.026887     0.358620   \n",
       "7249        1.788779  0.090585  0.245963 -0.014983 -0.007153     0.849755   \n",
       "9043        2.919091  0.349227  0.184143  0.802735  0.009625     0.530143   \n",
       "8164        0.851384  0.226507 -0.132513  0.105833  0.031858     0.658716   \n",
       "26082       2.330795  0.468250  0.035133  0.000000  0.052613     0.152107   \n",
       "...              ...       ...       ...       ...       ...          ...   \n",
       "21575       1.923501  0.130264  0.212625  0.338118  0.007774     1.413892   \n",
       "5390        0.567539  0.775171  0.047153  0.264116  0.085819     0.364484   \n",
       "860      2000.000000  1.000000 -1.500000  0.000000 -2.000000    -0.979051   \n",
       "15795       0.035870  0.768409 -0.006632  0.000000  0.012290     0.942990   \n",
       "23654       0.000000  0.000000  0.755676 -9.743165 -0.126976     6.899683   \n",
       "\n",
       "        Returns  \n",
       "25628 -0.206629  \n",
       "7249   3.016790  \n",
       "9043  -0.053788  \n",
       "8164   0.015873  \n",
       "26082  1.181818  \n",
       "...         ...  \n",
       "21575 -0.236701  \n",
       "5390   0.182829  \n",
       "860   -0.850000  \n",
       "15795  0.633980  \n",
       "23654 -0.564417  \n",
       "\n",
       "[29650 rows x 19 columns]"
      ]
     },
     "execution_count": 7,
     "metadata": {},
     "output_type": "execute_result"
    },
    {
     "name": "stdout",
     "output_type": "stream",
     "text": [
      "time: 31 ms (started: 2022-10-11 21:29:30 +08:00)\n"
     ]
    }
   ],
   "source": [
    "# There should still be 29650 rows, but this time the \"Returns\" column is inside as the target variable.\n",
    "x"
   ]
  },
  {
   "cell_type": "code",
   "execution_count": 8,
   "id": "a164cf79",
   "metadata": {
    "scrolled": true
   },
   "outputs": [
    {
     "name": "stdout",
     "output_type": "stream",
     "text": [
      "time: 0 ns (started: 2022-10-11 21:29:30 +08:00)\n"
     ]
    }
   ],
   "source": [
    "# Split properly into X and y again\n",
    "y = x['Returns']\n",
    "X = x.drop(columns='Returns')"
   ]
  },
  {
   "cell_type": "code",
   "execution_count": 9,
   "id": "51ea6b69",
   "metadata": {
    "scrolled": true
   },
   "outputs": [
    {
     "data": {
      "text/plain": [
       "25628   -0.206629\n",
       "7249     3.016790\n",
       "9043    -0.053788\n",
       "8164     0.015873\n",
       "26082    1.181818\n",
       "Name: Returns, dtype: float64"
      ]
     },
     "execution_count": 9,
     "metadata": {},
     "output_type": "execute_result"
    },
    {
     "name": "stdout",
     "output_type": "stream",
     "text": [
      "time: 0 ns (started: 2022-10-11 21:29:30 +08:00)\n"
     ]
    }
   ],
   "source": [
    "y.head()"
   ]
  },
  {
   "cell_type": "code",
   "execution_count": 10,
   "id": "f9f190ac",
   "metadata": {},
   "outputs": [
    {
     "data": {
      "text/html": [
       "<div>\n",
       "<style scoped>\n",
       "    .dataframe tbody tr th:only-of-type {\n",
       "        vertical-align: middle;\n",
       "    }\n",
       "\n",
       "    .dataframe tbody tr th {\n",
       "        vertical-align: top;\n",
       "    }\n",
       "\n",
       "    .dataframe thead th {\n",
       "        text-align: right;\n",
       "    }\n",
       "</style>\n",
       "<table border=\"1\" class=\"dataframe\">\n",
       "  <thead>\n",
       "    <tr style=\"text-align: right;\">\n",
       "      <th></th>\n",
       "      <th>EV_EBIT</th>\n",
       "      <th>OI_NWCFA</th>\n",
       "      <th>PE</th>\n",
       "      <th>PB</th>\n",
       "      <th>PS</th>\n",
       "      <th>OI_IntExp</th>\n",
       "      <th>WorkingCap</th>\n",
       "      <th>ROE</th>\n",
       "      <th>ROCE</th>\n",
       "      <th>DE</th>\n",
       "      <th>DebtRatio</th>\n",
       "      <th>CashRatio</th>\n",
       "      <th>AssetTurnover</th>\n",
       "      <th>GPM</th>\n",
       "      <th>WC_TA</th>\n",
       "      <th>RE_TA</th>\n",
       "      <th>EBIT_TA</th>\n",
       "      <th>Equity_Liab</th>\n",
       "    </tr>\n",
       "  </thead>\n",
       "  <tbody>\n",
       "    <tr>\n",
       "      <th>25628</th>\n",
       "      <td>41.691245</td>\n",
       "      <td>0.215433</td>\n",
       "      <td>41.632414</td>\n",
       "      <td>2.191725</td>\n",
       "      <td>5.960148</td>\n",
       "      <td>2.708548</td>\n",
       "      <td>1.605372</td>\n",
       "      <td>0.052645</td>\n",
       "      <td>0.028626</td>\n",
       "      <td>2.788468</td>\n",
       "      <td>1.358620</td>\n",
       "      <td>0.011801</td>\n",
       "      <td>1.334186</td>\n",
       "      <td>0.455618</td>\n",
       "      <td>0.036790</td>\n",
       "      <td>1.218756</td>\n",
       "      <td>0.026887</td>\n",
       "      <td>0.358620</td>\n",
       "    </tr>\n",
       "    <tr>\n",
       "      <th>7249</th>\n",
       "      <td>-39.615737</td>\n",
       "      <td>-0.154405</td>\n",
       "      <td>-51.149530</td>\n",
       "      <td>0.984873</td>\n",
       "      <td>0.994036</td>\n",
       "      <td>-45.656325</td>\n",
       "      <td>1.498312</td>\n",
       "      <td>-0.019255</td>\n",
       "      <td>-0.014125</td>\n",
       "      <td>1.176810</td>\n",
       "      <td>1.849755</td>\n",
       "      <td>0.423275</td>\n",
       "      <td>1.788779</td>\n",
       "      <td>0.090585</td>\n",
       "      <td>0.245963</td>\n",
       "      <td>-0.014983</td>\n",
       "      <td>-0.007153</td>\n",
       "      <td>0.849755</td>\n",
       "    </tr>\n",
       "    <tr>\n",
       "      <th>9043</th>\n",
       "      <td>138.710025</td>\n",
       "      <td>0.057048</td>\n",
       "      <td>306.176349</td>\n",
       "      <td>3.099016</td>\n",
       "      <td>5.537463</td>\n",
       "      <td>2.834975</td>\n",
       "      <td>1.797912</td>\n",
       "      <td>0.010122</td>\n",
       "      <td>0.012513</td>\n",
       "      <td>1.886285</td>\n",
       "      <td>1.530143</td>\n",
       "      <td>0.479910</td>\n",
       "      <td>2.919091</td>\n",
       "      <td>0.349227</td>\n",
       "      <td>0.184143</td>\n",
       "      <td>0.802735</td>\n",
       "      <td>0.009625</td>\n",
       "      <td>0.530143</td>\n",
       "    </tr>\n",
       "    <tr>\n",
       "      <th>8164</th>\n",
       "      <td>69.876068</td>\n",
       "      <td>0.108339</td>\n",
       "      <td>89.479847</td>\n",
       "      <td>5.270783</td>\n",
       "      <td>5.726044</td>\n",
       "      <td>14.800000</td>\n",
       "      <td>0.456019</td>\n",
       "      <td>0.058905</td>\n",
       "      <td>0.042117</td>\n",
       "      <td>1.518104</td>\n",
       "      <td>1.658716</td>\n",
       "      <td>0.180810</td>\n",
       "      <td>0.851384</td>\n",
       "      <td>0.226507</td>\n",
       "      <td>-0.132513</td>\n",
       "      <td>0.105833</td>\n",
       "      <td>0.031858</td>\n",
       "      <td>0.658716</td>\n",
       "    </tr>\n",
       "    <tr>\n",
       "      <th>26082</th>\n",
       "      <td>34.306314</td>\n",
       "      <td>0.288867</td>\n",
       "      <td>38.391993</td>\n",
       "      <td>10.216545</td>\n",
       "      <td>4.116213</td>\n",
       "      <td>8.726368</td>\n",
       "      <td>1.118243</td>\n",
       "      <td>0.266111</td>\n",
       "      <td>0.074855</td>\n",
       "      <td>6.574310</td>\n",
       "      <td>1.152107</td>\n",
       "      <td>0.223240</td>\n",
       "      <td>2.330795</td>\n",
       "      <td>0.468250</td>\n",
       "      <td>0.035133</td>\n",
       "      <td>0.000000</td>\n",
       "      <td>0.052613</td>\n",
       "      <td>0.152107</td>\n",
       "    </tr>\n",
       "  </tbody>\n",
       "</table>\n",
       "</div>"
      ],
      "text/plain": [
       "          EV_EBIT  OI_NWCFA          PE         PB        PS  OI_IntExp  \\\n",
       "25628   41.691245  0.215433   41.632414   2.191725  5.960148   2.708548   \n",
       "7249   -39.615737 -0.154405  -51.149530   0.984873  0.994036 -45.656325   \n",
       "9043   138.710025  0.057048  306.176349   3.099016  5.537463   2.834975   \n",
       "8164    69.876068  0.108339   89.479847   5.270783  5.726044  14.800000   \n",
       "26082   34.306314  0.288867   38.391993  10.216545  4.116213   8.726368   \n",
       "\n",
       "       WorkingCap       ROE      ROCE        DE  DebtRatio  CashRatio  \\\n",
       "25628    1.605372  0.052645  0.028626  2.788468   1.358620   0.011801   \n",
       "7249     1.498312 -0.019255 -0.014125  1.176810   1.849755   0.423275   \n",
       "9043     1.797912  0.010122  0.012513  1.886285   1.530143   0.479910   \n",
       "8164     0.456019  0.058905  0.042117  1.518104   1.658716   0.180810   \n",
       "26082    1.118243  0.266111  0.074855  6.574310   1.152107   0.223240   \n",
       "\n",
       "       AssetTurnover       GPM     WC_TA     RE_TA   EBIT_TA  Equity_Liab  \n",
       "25628       1.334186  0.455618  0.036790  1.218756  0.026887     0.358620  \n",
       "7249        1.788779  0.090585  0.245963 -0.014983 -0.007153     0.849755  \n",
       "9043        2.919091  0.349227  0.184143  0.802735  0.009625     0.530143  \n",
       "8164        0.851384  0.226507 -0.132513  0.105833  0.031858     0.658716  \n",
       "26082       2.330795  0.468250  0.035133  0.000000  0.052613     0.152107  "
      ]
     },
     "execution_count": 10,
     "metadata": {},
     "output_type": "execute_result"
    },
    {
     "name": "stdout",
     "output_type": "stream",
     "text": [
      "time: 16 ms (started: 2022-10-11 21:29:30 +08:00)\n"
     ]
    }
   ],
   "source": [
    "X.head()"
   ]
  },
  {
   "cell_type": "code",
   "execution_count": 11,
   "id": "31bd3acc",
   "metadata": {},
   "outputs": [
    {
     "data": {
      "text/plain": [
       "0.26660093623808423"
      ]
     },
     "execution_count": 11,
     "metadata": {},
     "output_type": "execute_result"
    },
    {
     "name": "stdout",
     "output_type": "stream",
     "text": [
      "time: 0 ns (started: 2022-10-11 21:29:30 +08:00)\n"
     ]
    }
   ],
   "source": [
    "# Just checking on the baseline annual returns\n",
    "y.mean()"
   ]
  },
  {
   "cell_type": "markdown",
   "id": "09eff955",
   "metadata": {},
   "source": [
    "# Model 1: Linear Regression\n",
    "Using this as a baseline model first"
   ]
  },
  {
   "cell_type": "code",
   "execution_count": 12,
   "id": "ce79aaac",
   "metadata": {},
   "outputs": [
    {
     "data": {
      "text/plain": [
       "(29650, 18)"
      ]
     },
     "execution_count": 12,
     "metadata": {},
     "output_type": "execute_result"
    },
    {
     "name": "stdout",
     "output_type": "stream",
     "text": [
      "time: 532 ms (started: 2022-10-11 21:29:30 +08:00)\n"
     ]
    }
   ],
   "source": [
    "MinMaxScaler().fit_transform(pd.DataFrame(PowerTransformer().fit_transform(X))).shape"
   ]
  },
  {
   "cell_type": "code",
   "execution_count": 13,
   "id": "44d6e823",
   "metadata": {},
   "outputs": [
    {
     "name": "stdout",
     "output_type": "stream",
     "text": [
      "X train:  (23720, 18)\n",
      "X test:  (5930, 18)\n",
      "y train:  (23720,)\n",
      "y test:  (5930,)\n",
      "time: 0 ns (started: 2022-10-11 21:29:31 +08:00)\n"
     ]
    }
   ],
   "source": [
    "# We can try with a 80-20 train test split first\n",
    "X_train, X_test, y_train, y_test = train_test_split(X, y, test_size=0.2, random_state=42)\n",
    "print('X train: ', X_train.shape)\n",
    "print('X test: ', X_test.shape)\n",
    "print('y train: ', y_train.shape)\n",
    "print('y test: ', y_test.shape)"
   ]
  },
  {
   "cell_type": "code",
   "execution_count": 14,
   "id": "8912b0cb",
   "metadata": {},
   "outputs": [
    {
     "name": "stdout",
     "output_type": "stream",
     "text": [
      "time: 860 ms (started: 2022-10-11 21:29:31 +08:00)\n"
     ]
    }
   ],
   "source": [
    "# We save the train-test-split data first for reproducibility later\n",
    "X_train.to_csv(\"./data/04_ratios_train.csv\")\n",
    "X_test.to_csv(\"./data/04_ratios_test.csv\")\n",
    "y_train.to_csv(\"./data/04_returns_train.csv\")\n",
    "y_test.to_csv(\"./data/04_returns_test.csv\")"
   ]
  },
  {
   "cell_type": "code",
   "execution_count": 15,
   "id": "d0b7bb1e",
   "metadata": {},
   "outputs": [
    {
     "name": "stdout",
     "output_type": "stream",
     "text": [
      "time: 0 ns (started: 2022-10-11 21:29:32 +08:00)\n"
     ]
    }
   ],
   "source": [
    "# Define the pipeline\n",
    "# Remember we need to do PowerTransform first before applying our model\n",
    "pl_lr = Pipeline([\n",
    "    ('PowerTransform', PowerTransformer()),\n",
    "    ('lr', LinearRegression())\n",
    "])"
   ]
  },
  {
   "cell_type": "code",
   "execution_count": 16,
   "id": "3b116583",
   "metadata": {
    "scrolled": true
   },
   "outputs": [
    {
     "name": "stdout",
     "output_type": "stream",
     "text": [
      "time: 594 ms (started: 2022-10-11 21:29:32 +08:00)\n"
     ]
    }
   ],
   "source": [
    "pl_lr.fit(X_train, y_train)\n",
    "y_pred = pl_lr.predict(X_test)"
   ]
  },
  {
   "cell_type": "code",
   "execution_count": 17,
   "id": "7e0d613c",
   "metadata": {},
   "outputs": [
    {
     "name": "stdout",
     "output_type": "stream",
     "text": [
      "Train MSE: 1.8110700026861004\n",
      "Test MSE: 1.0004448382426587\n",
      "Generalisation: 44.759%\n",
      "time: 47 ms (started: 2022-10-11 21:29:32 +08:00)\n"
     ]
    }
   ],
   "source": [
    "mse_train = mean_squared_error(y_train, pl_lr.predict(X_train), squared=True)\n",
    "mse_test = mean_squared_error(y_test, y_pred, squared=True)\n",
    "pct_diff = round((1-mse_test/mse_train)*100,3)\n",
    "\n",
    "print('Train MSE:', mse_train)\n",
    "print('Test MSE:', mse_test)\n",
    "print(f'Generalisation: {pct_diff}%')"
   ]
  },
  {
   "cell_type": "markdown",
   "id": "788fccba",
   "metadata": {},
   "source": [
    "### Using different test sizes and checking its effect on performance of the model"
   ]
  },
  {
   "cell_type": "markdown",
   "id": "bda461e7",
   "metadata": {},
   "source": [
    "We want to construct the learning curve for the model (where we increase size of learning set and see how predictive ability changes). A learning curve determines the cross-validated training and test scores for different training set sizes. Cross validation can either be K-fold or ShuffleSplit(), where we randomize rows before the train-test-split. This gives us a better idea of the predictive ability as we try to average many runs."
   ]
  },
  {
   "cell_type": "code",
   "execution_count": 18,
   "id": "0bd31387",
   "metadata": {},
   "outputs": [
    {
     "data": {
      "text/html": [
       "<div>\n",
       "<style scoped>\n",
       "    .dataframe tbody tr th:only-of-type {\n",
       "        vertical-align: middle;\n",
       "    }\n",
       "\n",
       "    .dataframe tbody tr th {\n",
       "        vertical-align: top;\n",
       "    }\n",
       "\n",
       "    .dataframe thead th {\n",
       "        text-align: right;\n",
       "    }\n",
       "</style>\n",
       "<table border=\"1\" class=\"dataframe\">\n",
       "  <thead>\n",
       "    <tr style=\"text-align: right;\">\n",
       "      <th></th>\n",
       "      <th>train_RMSE_mean</th>\n",
       "      <th>train_RMSE_std</th>\n",
       "      <th>test_RMSE_mean</th>\n",
       "      <th>test_RMSE_std</th>\n",
       "      <th>fit_times_mean</th>\n",
       "      <th>fit_times_std</th>\n",
       "    </tr>\n",
       "  </thead>\n",
       "  <tbody>\n",
       "    <tr>\n",
       "      <th>0.02</th>\n",
       "      <td>1.118740</td>\n",
       "      <td>0.437358</td>\n",
       "      <td>81300.059909</td>\n",
       "      <td>75667.747250</td>\n",
       "      <td>0.060569</td>\n",
       "      <td>0.012550</td>\n",
       "    </tr>\n",
       "    <tr>\n",
       "      <th>0.05</th>\n",
       "      <td>1.190970</td>\n",
       "      <td>0.390032</td>\n",
       "      <td>19500.179314</td>\n",
       "      <td>18581.442411</td>\n",
       "      <td>0.084688</td>\n",
       "      <td>0.016349</td>\n",
       "    </tr>\n",
       "    <tr>\n",
       "      <th>0.10</th>\n",
       "      <td>1.228228</td>\n",
       "      <td>0.339801</td>\n",
       "      <td>1964.838686</td>\n",
       "      <td>1916.148319</td>\n",
       "      <td>0.126068</td>\n",
       "      <td>0.020922</td>\n",
       "    </tr>\n",
       "    <tr>\n",
       "      <th>0.20</th>\n",
       "      <td>1.312259</td>\n",
       "      <td>0.300619</td>\n",
       "      <td>632.900762</td>\n",
       "      <td>623.963836</td>\n",
       "      <td>0.197895</td>\n",
       "      <td>0.026054</td>\n",
       "    </tr>\n",
       "    <tr>\n",
       "      <th>0.50</th>\n",
       "      <td>1.293606</td>\n",
       "      <td>0.151052</td>\n",
       "      <td>20.093551</td>\n",
       "      <td>19.500946</td>\n",
       "      <td>0.430644</td>\n",
       "      <td>0.074157</td>\n",
       "    </tr>\n",
       "    <tr>\n",
       "      <th>0.70</th>\n",
       "      <td>1.278998</td>\n",
       "      <td>0.113973</td>\n",
       "      <td>4.022383</td>\n",
       "      <td>3.668473</td>\n",
       "      <td>0.579215</td>\n",
       "      <td>0.078124</td>\n",
       "    </tr>\n",
       "    <tr>\n",
       "      <th>0.80</th>\n",
       "      <td>1.280628</td>\n",
       "      <td>0.094316</td>\n",
       "      <td>1.311941</td>\n",
       "      <td>0.271829</td>\n",
       "      <td>0.654930</td>\n",
       "      <td>0.077806</td>\n",
       "    </tr>\n",
       "    <tr>\n",
       "      <th>0.90</th>\n",
       "      <td>1.280181</td>\n",
       "      <td>0.083389</td>\n",
       "      <td>1.312113</td>\n",
       "      <td>0.272669</td>\n",
       "      <td>0.729240</td>\n",
       "      <td>0.092364</td>\n",
       "    </tr>\n",
       "  </tbody>\n",
       "</table>\n",
       "</div>"
      ],
      "text/plain": [
       "      train_RMSE_mean  train_RMSE_std  test_RMSE_mean  test_RMSE_std  \\\n",
       "0.02         1.118740        0.437358    81300.059909   75667.747250   \n",
       "0.05         1.190970        0.390032    19500.179314   18581.442411   \n",
       "0.10         1.228228        0.339801     1964.838686    1916.148319   \n",
       "0.20         1.312259        0.300619      632.900762     623.963836   \n",
       "0.50         1.293606        0.151052       20.093551      19.500946   \n",
       "0.70         1.278998        0.113973        4.022383       3.668473   \n",
       "0.80         1.280628        0.094316        1.311941       0.271829   \n",
       "0.90         1.280181        0.083389        1.312113       0.272669   \n",
       "\n",
       "      fit_times_mean  fit_times_std  \n",
       "0.02        0.060569       0.012550  \n",
       "0.05        0.084688       0.016349  \n",
       "0.10        0.126068       0.020922  \n",
       "0.20        0.197895       0.026054  \n",
       "0.50        0.430644       0.074157  \n",
       "0.70        0.579215       0.078124  \n",
       "0.80        0.654930       0.077806  \n",
       "0.90        0.729240       0.092364  "
      ]
     },
     "execution_count": 18,
     "metadata": {},
     "output_type": "execute_result"
    },
    {
     "name": "stdout",
     "output_type": "stream",
     "text": [
      "time: 42.2 s (started: 2022-10-11 21:29:32 +08:00)\n"
     ]
    }
   ],
   "source": [
    "# Plot the learning curve for different train sizes\n",
    "trainSizes = [0.02, 0.05, 0.1, 0.2, 0.5, 0.7, 0.8, 0.9]\n",
    "\n",
    "# Learning curve returns the following: train size, train scores, test scores, fit times, score times\n",
    "train_sizes, train_scores, test_scores, fit_times, score_times = \\\n",
    "learning_curve(pl_lr, X, y, cv=ShuffleSplit(n_splits=100, test_size=0.2, random_state=42),\n",
    "               scoring='neg_mean_squared_error', n_jobs=-1, train_sizes=trainSizes, return_times=True)\n",
    "\n",
    "# Create a DataFrame of results obtained above\n",
    "results_df = pd.DataFrame(index=trainSizes)\n",
    "results_df['train_RMSE_mean'] = np.sqrt(-np.mean(train_scores,axis=1))\n",
    "results_df['train_RMSE_std'] = np.std(np.sqrt(-train_scores), axis=1)\n",
    "results_df['test_RMSE_mean'] = np.sqrt(-np.mean(test_scores, axis=1))\n",
    "results_df['test_RMSE_std'] = np.std(np.sqrt(-test_scores), axis=1)\n",
    "results_df['fit_times_mean'] = np.mean(fit_times, axis=1)\n",
    "results_df['fit_times_std'] = np.std(fit_times, axis=1)\n",
    "results_df"
   ]
  },
  {
   "cell_type": "code",
   "execution_count": 19,
   "id": "2b74925d",
   "metadata": {},
   "outputs": [
    {
     "data": {
      "image/png": "[encoded data removed]",
      "text/plain": [
       "<Figure size 432x288 with 1 Axes>"
      ]
     },
     "metadata": {
      "needs_background": "light"
     },
     "output_type": "display_data"
    },
    {
     "name": "stdout",
     "output_type": "stream",
     "text": [
      "time: 172 ms (started: 2022-10-11 21:30:15 +08:00)\n"
     ]
    }
   ],
   "source": [
    "# Plot the train and test score for different train sizes\n",
    "results_df['train_RMSE_mean'].plot(style='-x')\n",
    "results_df['test_RMSE_mean'].plot(style='-x')\n",
    "\n",
    "plt.fill_between(results_df.index,\\\n",
    "                 results_df['train_RMSE_mean']-results_df['train_RMSE_std'],\\\n",
    "                 results_df['train_RMSE_mean']+results_df['train_RMSE_std'],\\\n",
    "                 alpha=0.2)\n",
    "\n",
    "plt.fill_between(results_df.index,\\\n",
    "                 results_df['test_RMSE_mean']-results_df['test_RMSE_std'],\\\n",
    "                 results_df['test_RMSE_mean']+results_df['test_RMSE_std'],\\\n",
    "                 alpha=0.2)\n",
    "\n",
    "plt.grid()\n",
    "plt.legend(['Train RMSE', 'Test RMSE'])\n",
    "plt.ylabel('RMSE')\n",
    "plt.xlabel('Training Size')\n",
    "plt.title('Linear Regression Learning Curve', fontsize=15)\n",
    "plt.ylim([-20, 100]);"
   ]
  },
  {
   "cell_type": "code",
   "execution_count": 20,
   "id": "c50851db",
   "metadata": {
    "scrolled": false
   },
   "outputs": [
    {
     "name": "stdout",
     "output_type": "stream",
     "text": [
      "time: 0 ns (started: 2022-10-11 21:30:15 +08:00)\n"
     ]
    }
   ],
   "source": [
    "# Draw scatter plot to see if prediction matches actual\n",
    "# Line of x=y will show perfect prediction (yellow dotted)\n",
    "# Also draw the best fit line for the scatter plot (green)\n",
    "\n",
    "def plotScatter(model_name, x_plot, y_plot, limit):\n",
    "    \n",
    "    # Plotting scatter\n",
    "    plt.scatter(x_plot, y_plot, s=1)\n",
    "    \n",
    "    # Drawing a best fit line\n",
    "    # Reshape the y_test and y_pred arrays\n",
    "    bestfit = LinearRegression().fit(x_plot.reshape(-1, 1), y_plot.reshape(-1, 1))\n",
    "    \n",
    "    # Specify any two points just to let the bestfit line predict\n",
    "    xx = [[-5],[5]]\n",
    "    yy = bestfit.predict(xx)\n",
    "    plt.plot(xx, yy, 'g')\n",
    "    \n",
    "    # Plot formatting\n",
    "    plt.grid()\n",
    "    plt.axhline(y=0, color='r', label='_nolegend_')\n",
    "    plt.axvline(x=0, color='r', label='_nolegend_')\n",
    "    plt.xlabel('Actual Return')\n",
    "    plt.ylabel('Predicted Return')\n",
    "    plt.plot([-100,100], [-100,100], 'y--')\n",
    "    plt.xlim([-limit, limit])\n",
    "    plt.ylim([-limit, limit])\n",
    "    plt.title(f'Scatter plot for {model_name}')\n",
    "    plt.legend(['Linear Fit Line', 'y=x Perfect Prediction Line', 'Prediction Points'])"
   ]
  },
  {
   "cell_type": "code",
   "execution_count": 21,
   "id": "1b7f4360",
   "metadata": {},
   "outputs": [
    {
     "data": {
      "image/png": "[encoded data removed]",
      "text/plain": [
       "<Figure size 432x432 with 1 Axes>"
      ]
     },
     "metadata": {
      "needs_background": "light"
     },
     "output_type": "display_data"
    },
    {
     "name": "stdout",
     "output_type": "stream",
     "text": [
      "time: 328 ms (started: 2022-10-11 21:30:15 +08:00)\n"
     ]
    }
   ],
   "source": [
    "plt.figure(figsize=(6,6))\n",
    "\n",
    "# Plot scatter of actual vs predicted returns\n",
    "# Need to specify y_test.to_numpy because it is now still in a dataframe, must convert to array\n",
    "plotScatter('Linear Regression', y_test.to_numpy(), y_pred, 2)"
   ]
  },
  {
   "cell_type": "markdown",
   "id": "547d3ae4",
   "metadata": {},
   "source": [
    "Predictions seemed to be centered around one single value.  We want to take a closer look by taking the top few stock return predictions and comparing them to actual."
   ]
  },
  {
   "cell_type": "code",
   "execution_count": 22,
   "id": "aae25e04",
   "metadata": {},
   "outputs": [
    {
     "name": "stdout",
     "output_type": "stream",
     "text": [
      "time: 0 ns (started: 2022-10-11 21:30:15 +08:00)\n"
     ]
    }
   ],
   "source": [
    "def printPredictions(y_test, y_pred):\n",
    "    # See top 10 predicted annual returns and see how the values differ from actual\n",
    "    # Put results in a DataFrame so we can sort it.\n",
    "\n",
    "    y_results = pd.DataFrame()\n",
    "    y_results['Actual Return'] = y_test\n",
    "    y_results['Predicted Return'] = y_pred\n",
    "\n",
    "    # Sort df by the predicted returns, and reset index\n",
    "    y_results.sort_values(by='Predicted Return', ascending=False, inplace=True)\n",
    "    y_results.reset_index(drop=True, inplace=True)\n",
    "    \n",
    "    # Print results\n",
    "    print('Top Predicted Returns:', \\\n",
    "      list(np.round(y_results['Predicted Return'].iloc[:10],2)))\n",
    "\n",
    "    print('Comparing Actual Returns:', \\\n",
    "          list(np.round(y_results['Actual Return'].iloc[:10],2)), '\\n')\n",
    "\n",
    "    print('Mean of Top 10 Predicted Returns:', \\\n",
    "          round(y_results['Predicted Return'].iloc[:10].mean(),2))\n",
    "\n",
    "    print('Mean of Top 10 Actual Returns:', \\\n",
    "          round(y_results['Actual Return'].iloc[:10].mean(),2), '\\n')\n",
    "\n",
    "    print('Mean of Bottom 10 Predicted Returns:', \\\n",
    "          round(y_results['Predicted Return'].iloc[-10:].mean(),2))\n",
    "\n",
    "    print('Mean of Bottom 10 Actual Returns:', \\\n",
    "          round(y_results['Actual Return'].iloc[-10:].mean(),2), '\\n')"
   ]
  },
  {
   "cell_type": "code",
   "execution_count": 23,
   "id": "bdc73add",
   "metadata": {
    "scrolled": true
   },
   "outputs": [
    {
     "name": "stdout",
     "output_type": "stream",
     "text": [
      "Top Predicted Returns: [1.64, 1.6, 1.42, 1.41, 1.36, 1.36, 1.34, 1.34, 1.3, 1.23]\n",
      "Comparing Actual Returns: [0.0, -0.04, 6.63, -0.16, -0.38, -0.51, 0.69, 2.22, 0.11, -0.75] \n",
      "\n",
      "Mean of Top 10 Predicted Returns: 1.4\n",
      "Mean of Top 10 Actual Returns: 0.78 \n",
      "\n",
      "Mean of Bottom 10 Predicted Returns: -0.51\n",
      "Mean of Bottom 10 Actual Returns: 0.06 \n",
      "\n",
      "time: 16 ms (started: 2022-10-11 21:30:15 +08:00)\n"
     ]
    }
   ],
   "source": [
    "printPredictions(y_test, y_pred)"
   ]
  },
  {
   "cell_type": "markdown",
   "id": "ca19591d",
   "metadata": {},
   "source": [
    "### We can do a few runs using different random states to see the top/bottom 10 selections and test prediction ability."
   ]
  },
  {
   "cell_type": "code",
   "execution_count": 24,
   "id": "01523848",
   "metadata": {},
   "outputs": [
    {
     "name": "stdout",
     "output_type": "stream",
     "text": [
      "time: 0 ns (started: 2022-10-11 21:30:15 +08:00)\n"
     ]
    }
   ],
   "source": [
    "# Set up an empty dataframe to store the results from our models\n",
    "df_top10act, df_bottom10act = pd.DataFrame(), pd.DataFrame()"
   ]
  },
  {
   "cell_type": "code",
   "execution_count": 25,
   "id": "215a2c24",
   "metadata": {},
   "outputs": [
    {
     "name": "stdout",
     "output_type": "stream",
     "text": [
      "time: 0 ns (started: 2022-10-11 21:30:15 +08:00)\n"
     ]
    }
   ],
   "source": [
    "def testPredictionAbility(pipeline, X, y, nruns):\n",
    "    \n",
    "    Top10Pred, Top10Act = [], []\n",
    "    Bottom10Pred, Bottom10Act = [], []\n",
    "\n",
    "    for i in range(0, nruns): # Number of runs we want to do\n",
    "        \n",
    "        # Train test split with different random states, then fit pipeline and predict\n",
    "        X_train, X_test, y_train, y_test = train_test_split(X, y, test_size=0.2, random_state=42+i)\n",
    "        pipeline.fit(X_train, y_train)\n",
    "        y_pred = pipeline.predict(X_test)\n",
    "        \n",
    "        # Put results in a DataFrame so we can sort it.\n",
    "        y_results = pd.DataFrame()\n",
    "        y_results['Actual Return'] = y_test\n",
    "        y_results['Predicted Return'] = y_pred\n",
    "        \n",
    "        # Sort values by the predicted return.\n",
    "        y_results.sort_values(by='Predicted Return', ascending=False, inplace=True)\n",
    "        y_results.reset_index(drop=True, inplace=True)\n",
    "        \n",
    "        # See top 10 returns and compare how values differ from actual\n",
    "        Top10Pred.append(round(np.mean(y_results['Predicted Return'].iloc[:10])*100, 2))\n",
    "        Top10Act.append(round(np.mean(y_results['Actual Return'].iloc[:10])*100, 2))\n",
    "        \n",
    "        # See bottom 10 returns and compare how values differ from actual\n",
    "        Bottom10Pred.append(round(np.mean(y_results['Predicted Return'].iloc[-10:])*100, 2))\n",
    "        Bottom10Act.append(round(np.mean(y_results['Actual Return'].iloc[-10:])*100, 2))\n",
    "\n",
    "    # Print out values of performance\n",
    "    print(f'Predicted Performance (in %) of Top 10 Returns ({nruns} runs):', '\\n', Top10Pred)\n",
    "    print(f'Actual Performance (in %) of Top 10 Returns ({nruns} runs)', '\\n', Top10Act, '\\n')\n",
    "\n",
    "    print(f'Predicted Performance (in %) of Bottom 10 Returns ({nruns} runs):', '\\n', Bottom10Pred)\n",
    "    print(f'Actual Performance (in %) of Bottom 10 Returns ({nruns} runs):', '\\n', Bottom10Act)\n",
    "    print('--------------\\n')\n",
    "\n",
    "    # Print out values of Std Dev\n",
    "    print('Mean Predicted Std. Dev. (in %) of Top 10 Returns:', round(np.array(Top10Pred).std(),2))\n",
    "    print('Mean Actual Std. Dev. (in %) of Top 10 Returns:', round(np.array(Top10Act).std(), 2))\n",
    "\n",
    "    print('Mean Predicted Std. Dev. (in %) of Bottom 10 Returns:', round(np.array(Bottom10Pred).std(),2))\n",
    "    print('Mean Actual Std. Dev. (in %) of Bottom 10 Returns:', round(np.array(Bottom10Act).std(),2))\n",
    "    print('--------------\\n')\n",
    "\n",
    "    # Average/Mean Performance Measures here\n",
    "    print('Mean Predicted Performance (in %) of Top 10 Returns:', round(np.mean(Top10Pred), 2))\n",
    "    print('Mean Actual Performance (in %) of Top 10 Returns:', round(np.mean(Top10Act), 2))\n",
    "\n",
    "    print('Mean Predicted Performance (in %) of Bottom 10 Returns:', round(np.mean(Bottom10Pred), 2))\n",
    "    print('Mean Actual Performance (in %) of Bottom 10 Returns:', round(np.mean(Bottom10Act), 2))\n",
    "    print('--------------\\n')\n",
    "\n",
    "    return Top10Act, Bottom10Act"
   ]
  },
  {
   "cell_type": "code",
   "execution_count": 26,
   "id": "f2c53239",
   "metadata": {
    "scrolled": false
   },
   "outputs": [
    {
     "name": "stdout",
     "output_type": "stream",
     "text": [
      "Predicted Performance (in %) of Top 10 Returns (10 runs): \n",
      " [140.05, 125.57, 133.04, 109.91, 123.81, 120.12, 95.95, 167.84, 157.08, 141.38]\n",
      "Actual Performance (in %) of Top 10 Returns (10 runs) \n",
      " [77.94, 64.99, 170.37, 58.42, 165.5, 191.29, 61.4, 41.81, 57.73, 119.45] \n",
      "\n",
      "Predicted Performance (in %) of Bottom 10 Returns (10 runs): \n",
      " [-51.49, -36.33, -45.44, -37.17, -47.09, -45.98, -36.67, -45.22, -49.19, -42.65]\n",
      "Actual Performance (in %) of Bottom 10 Returns (10 runs): \n",
      " [6.28, 15.22, 12.69, 24.02, 23.68, 25.21, 26.65, 17.55, 42.18, 15.63]\n",
      "--------------\n",
      "\n",
      "Mean Predicted Std. Dev. (in %) of Top 10 Returns: 20.25\n",
      "Mean Actual Std. Dev. (in %) of Top 10 Returns: 52.96\n",
      "Mean Predicted Std. Dev. (in %) of Bottom 10 Returns: 5.1\n",
      "Mean Actual Std. Dev. (in %) of Bottom 10 Returns: 9.35\n",
      "--------------\n",
      "\n",
      "Mean Predicted Performance (in %) of Top 10 Returns: 131.48\n",
      "Mean Actual Performance (in %) of Top 10 Returns: 100.89\n",
      "Mean Predicted Performance (in %) of Bottom 10 Returns: -43.72\n",
      "Mean Actual Performance (in %) of Bottom 10 Returns: 20.91\n",
      "--------------\n",
      "\n",
      "time: 4.23 s (started: 2022-10-11 21:30:15 +08:00)\n"
     ]
    }
   ],
   "source": [
    "df_top10act['LR'], df_bottom10act['LR'] = testPredictionAbility(pl_lr, X, y, 10)"
   ]
  },
  {
   "cell_type": "markdown",
   "id": "edd4fa08",
   "metadata": {},
   "source": [
    "# Model 2: ElasticNet/ Ridge"
   ]
  },
  {
   "cell_type": "code",
   "execution_count": 27,
   "id": "b376386d",
   "metadata": {},
   "outputs": [
    {
     "name": "stdout",
     "output_type": "stream",
     "text": [
      "time: 0 ns (started: 2022-10-11 21:30:20 +08:00)\n"
     ]
    }
   ],
   "source": [
    "pl_enet = Pipeline([\n",
    "    ('Power Transformer', PowerTransformer()),\n",
    "    ('ElasticNet', ElasticNet()) #l1_ratio=0.00001, alpha=0.001\n",
    "])"
   ]
  },
  {
   "cell_type": "code",
   "execution_count": 28,
   "id": "922e8869",
   "metadata": {},
   "outputs": [
    {
     "name": "stdout",
     "output_type": "stream",
     "text": [
      "time: 422 ms (started: 2022-10-11 21:30:20 +08:00)\n"
     ]
    }
   ],
   "source": [
    "pl_enet.fit(X_train, y_train)\n",
    "y_pred = pl_enet.predict(X_test)"
   ]
  },
  {
   "cell_type": "code",
   "execution_count": 29,
   "id": "7711da95",
   "metadata": {},
   "outputs": [
    {
     "name": "stdout",
     "output_type": "stream",
     "text": [
      "Train MSE: 1.852108026845768\n",
      "Test MSE: 1.0087522969124105\n",
      "Generalisation: 45.535%\n",
      "time: 31 ms (started: 2022-10-11 21:30:20 +08:00)\n"
     ]
    }
   ],
   "source": [
    "mse_train = mean_squared_error(y_train, pl_enet.predict(X_train), squared=True)\n",
    "mse_test = mean_squared_error(y_test, y_pred, squared=True)\n",
    "pct_diff = round((1-mse_test/mse_train)*100,3)\n",
    "\n",
    "print('Train MSE:', mse_train)\n",
    "print('Test MSE:', mse_test)\n",
    "print(f'Generalisation: {pct_diff}%')"
   ]
  },
  {
   "cell_type": "code",
   "execution_count": 30,
   "id": "fab743bd",
   "metadata": {},
   "outputs": [
    {
     "data": {
      "image/png": "[encoded data removed]",
      "text/plain": [
       "<Figure size 360x360 with 1 Axes>"
      ]
     },
     "metadata": {
      "needs_background": "light"
     },
     "output_type": "display_data"
    },
    {
     "name": "stdout",
     "output_type": "stream",
     "text": [
      "time: 281 ms (started: 2022-10-11 21:30:20 +08:00)\n"
     ]
    }
   ],
   "source": [
    "# Scatter plot for pl_enet\n",
    "plt.figure(figsize=(5,5))\n",
    "plotScatter('Elastic Net', y_test.to_numpy(), y_pred, 2)"
   ]
  },
  {
   "cell_type": "markdown",
   "id": "899f1609",
   "metadata": {},
   "source": [
    "Prediction seems even worse than linear regression, where all the predicted values are almost the same. We should try again with E-net l1 ratio = 0: Means L2 penalty or Ridge Regression."
   ]
  },
  {
   "cell_type": "code",
   "execution_count": 31,
   "id": "f7047efe",
   "metadata": {},
   "outputs": [
    {
     "name": "stdout",
     "output_type": "stream",
     "text": [
      "time: 343 ms (started: 2022-10-11 21:30:20 +08:00)\n"
     ]
    }
   ],
   "source": [
    "pl_ridge = Pipeline([\n",
    "    ('Power Transformer', PowerTransformer()),\n",
    "    ('ElasticNet', ElasticNet(l1_ratio=0.00001))\n",
    "])\n",
    "\n",
    "pl_ridge.fit(X_train, y_train)\n",
    "y_pred_ridge = pl_ridge.predict(X_test)"
   ]
  },
  {
   "cell_type": "code",
   "execution_count": 32,
   "id": "f82e2cf5",
   "metadata": {},
   "outputs": [
    {
     "name": "stdout",
     "output_type": "stream",
     "text": [
      "Train MSE: 1.8246927754739617\n",
      "Test MSE: 0.999219077373351\n",
      "Generalisation: 45.239%\n",
      "time: 31 ms (started: 2022-10-11 21:30:21 +08:00)\n"
     ]
    }
   ],
   "source": [
    "mse_train = mean_squared_error(y_train, pl_ridge.predict(X_train), squared=True)\n",
    "mse_test = mean_squared_error(y_test, y_pred_ridge, squared=True)\n",
    "pct_diff = round((1-mse_test/mse_train)*100,3)\n",
    "\n",
    "print('Train MSE:', mse_train)\n",
    "print('Test MSE:', mse_test)\n",
    "print(f'Generalisation: {pct_diff}%')"
   ]
  },
  {
   "cell_type": "code",
   "execution_count": 33,
   "id": "714aca68",
   "metadata": {},
   "outputs": [
    {
     "data": {
      "text/plain": [
       "Text(0.5, 1.0, 'Ridge Regression')"
      ]
     },
     "execution_count": 33,
     "metadata": {},
     "output_type": "execute_result"
    },
    {
     "data": {
      "image/png": "[encoded data removed]",
      "text/plain": [
       "<Figure size 720x360 with 2 Axes>"
      ]
     },
     "metadata": {
      "needs_background": "light"
     },
     "output_type": "display_data"
    },
    {
     "name": "stdout",
     "output_type": "stream",
     "text": [
      "time: 547 ms (started: 2022-10-11 21:30:21 +08:00)\n"
     ]
    }
   ],
   "source": [
    "plt.figure(figsize=(10,5))\n",
    "\n",
    "# Plot the ElasticNet Regression\n",
    "plt.subplot(1,2,1)\n",
    "plotScatter('ElasticNet', y_test.to_numpy(), y_pred, 2)\n",
    "plt.title('ElasticNet Default', fontsize=15)\n",
    "\n",
    "# Plot the Ridge Regression\n",
    "plt.subplot(1,2,2)\n",
    "plotScatter('Ridge', y_test.to_numpy(), y_pred_ridge, 2)\n",
    "plt.title('Ridge Regression', fontsize=15)"
   ]
  },
  {
   "cell_type": "code",
   "execution_count": 34,
   "id": "1dfc4e8d",
   "metadata": {
    "scrolled": false
   },
   "outputs": [
    {
     "name": "stdout",
     "output_type": "stream",
     "text": [
      "Top Predicted Returns: [0.28, 0.28, 0.28, 0.28, 0.28, 0.28, 0.28, 0.28, 0.28, 0.28]\n",
      "Comparing Actual Returns: [0.39, -0.28, -0.54, 0.18, -0.59, -0.06, -0.45, 0.08, -0.12, 0.66] \n",
      "\n",
      "Mean of Top 10 Predicted Returns: 0.28\n",
      "Mean of Top 10 Actual Returns: -0.07 \n",
      "\n",
      "Mean of Bottom 10 Predicted Returns: 0.28\n",
      "Mean of Bottom 10 Actual Returns: 0.46 \n",
      "\n",
      "time: 15 ms (started: 2022-10-11 21:30:21 +08:00)\n"
     ]
    }
   ],
   "source": [
    "# Predictions for ElasticNet\n",
    "printPredictions(y_test, y_pred)"
   ]
  },
  {
   "cell_type": "code",
   "execution_count": 35,
   "id": "4c76173f",
   "metadata": {},
   "outputs": [
    {
     "name": "stdout",
     "output_type": "stream",
     "text": [
      "Top Predicted Returns: [0.86, 0.82, 0.76, 0.76, 0.71, 0.71, 0.71, 0.7, 0.69, 0.68]\n",
      "Comparing Actual Returns: [0.0, 6.63, -0.04, -0.74, 0.62, 0.69, 3.84, 1.59, 2.22, 0.09] \n",
      "\n",
      "Mean of Top 10 Predicted Returns: 0.74\n",
      "Mean of Top 10 Actual Returns: 1.49 \n",
      "\n",
      "Mean of Bottom 10 Predicted Returns: -0.21\n",
      "Mean of Bottom 10 Actual Returns: 1.2 \n",
      "\n",
      "time: 16 ms (started: 2022-10-11 21:30:21 +08:00)\n"
     ]
    }
   ],
   "source": [
    "# Predictions for Ridge\n",
    "printPredictions(y_test, y_pred_ridge)"
   ]
  },
  {
   "cell_type": "code",
   "execution_count": 36,
   "id": "9bd389c0",
   "metadata": {},
   "outputs": [
    {
     "name": "stdout",
     "output_type": "stream",
     "text": [
      "Predicted Performance (in %) of Top 10 Returns (10 runs): \n",
      " [27.61, 26.09, 26.76, 26.63, 27.32, 26.84, 26.09, 27.2, 27.03, 26.76]\n",
      "Actual Performance (in %) of Top 10 Returns (10 runs) \n",
      " [-7.2, 42.6, 72.45, 40.84, -0.79, 31.44, 20.23, 3.51, 36.46, 10.68] \n",
      "\n",
      "Predicted Performance (in %) of Bottom 10 Returns (10 runs): \n",
      " [27.61, 26.09, 26.76, 26.63, 27.32, 26.84, 26.09, 27.2, 27.03, 26.76]\n",
      "Actual Performance (in %) of Bottom 10 Returns (10 runs): \n",
      " [46.41, 51.69, 32.81, -21.4, 60.13, -7.3, 29.46, 6.68, 30.45, 43.07]\n",
      "--------------\n",
      "\n",
      "Mean Predicted Std. Dev. (in %) of Top 10 Returns: 0.47\n",
      "Mean Actual Std. Dev. (in %) of Top 10 Returns: 23.19\n",
      "Mean Predicted Std. Dev. (in %) of Bottom 10 Returns: 0.47\n",
      "Mean Actual Std. Dev. (in %) of Bottom 10 Returns: 25.15\n",
      "--------------\n",
      "\n",
      "Mean Predicted Performance (in %) of Top 10 Returns: 26.83\n",
      "Mean Actual Performance (in %) of Top 10 Returns: 25.02\n",
      "Mean Predicted Performance (in %) of Bottom 10 Returns: 26.83\n",
      "Mean Actual Performance (in %) of Bottom 10 Returns: 27.2\n",
      "--------------\n",
      "\n",
      "time: 4.11 s (started: 2022-10-11 21:30:21 +08:00)\n"
     ]
    }
   ],
   "source": [
    "# Test prediction ability for ElasticNet\n",
    "df_top10act['Enet'], df_bottom10act['Enet'] = testPredictionAbility(pl_enet, X, y, 10)"
   ]
  },
  {
   "cell_type": "code",
   "execution_count": 37,
   "id": "f45bdc5a",
   "metadata": {},
   "outputs": [
    {
     "name": "stdout",
     "output_type": "stream",
     "text": [
      "Predicted Performance (in %) of Top 10 Returns (10 runs): \n",
      " [73.95, 66.94, 67.68, 64.62, 68.0, 66.89, 64.65, 77.06, 76.73, 74.79]\n",
      "Actual Performance (in %) of Top 10 Returns (10 runs) \n",
      " [148.85, 103.36, 108.62, 13.92, 7.47, 110.54, 78.01, 48.59, 67.01, 209.82] \n",
      "\n",
      "Predicted Performance (in %) of Bottom 10 Returns (10 runs): \n",
      " [-21.22, -5.44, -9.67, -8.16, -11.5, -13.54, -9.12, -13.04, -11.29, -8.15]\n",
      "Actual Performance (in %) of Bottom 10 Returns (10 runs): \n",
      " [119.88, 14.31, 16.39, 10.05, 32.62, 36.96, 139.07, 129.61, 45.44, 10.3]\n",
      "--------------\n",
      "\n",
      "Mean Predicted Std. Dev. (in %) of Top 10 Returns: 4.69\n",
      "Mean Actual Std. Dev. (in %) of Top 10 Returns: 58.1\n",
      "Mean Predicted Std. Dev. (in %) of Bottom 10 Returns: 4.09\n",
      "Mean Actual Std. Dev. (in %) of Bottom 10 Returns: 49.92\n",
      "--------------\n",
      "\n",
      "Mean Predicted Performance (in %) of Top 10 Returns: 70.13\n",
      "Mean Actual Performance (in %) of Top 10 Returns: 89.62\n",
      "Mean Predicted Performance (in %) of Bottom 10 Returns: -11.11\n",
      "Mean Actual Performance (in %) of Bottom 10 Returns: 55.46\n",
      "--------------\n",
      "\n",
      "time: 4.25 s (started: 2022-10-11 21:30:26 +08:00)\n"
     ]
    }
   ],
   "source": [
    "# Test prediction ability for Ridge\n",
    "df_top10act['Ridge'], df_bottom10act['Ridge'] = testPredictionAbility(pl_ridge, X, y, 10)"
   ]
  },
  {
   "cell_type": "markdown",
   "id": "4b66de60",
   "metadata": {},
   "source": [
    "Looks like Ridge is better than the default ElasticNet hyperparameters. We are better off using Ridge for the modelling."
   ]
  },
  {
   "cell_type": "markdown",
   "id": "443fc1e6",
   "metadata": {},
   "source": [
    "# Model 3: KNN Regressor"
   ]
  },
  {
   "cell_type": "code",
   "execution_count": 38,
   "id": "2ba76265",
   "metadata": {},
   "outputs": [
    {
     "name": "stdout",
     "output_type": "stream",
     "text": [
      "time: 796 ms (started: 2022-10-11 21:30:30 +08:00)\n"
     ]
    }
   ],
   "source": [
    "# for KNN, we dont know what number to use for n_neighbors yet so just use 40 first.\n",
    "pl_knn = Pipeline([\n",
    "    ('Power Transformer', PowerTransformer()),\n",
    "    ('KNeighborsRegressor', KNeighborsRegressor(n_neighbors=40))])\n",
    "\n",
    "pl_knn.fit(X_train, y_train)\n",
    "y_pred = pl_knn.predict(X_test)"
   ]
  },
  {
   "cell_type": "code",
   "execution_count": 39,
   "id": "915fef83",
   "metadata": {},
   "outputs": [
    {
     "name": "stdout",
     "output_type": "stream",
     "text": [
      "Train MSE: 1.7041182176186755\n",
      "Test MSE: 0.9791783744640006\n",
      "Generalisation: 42.54%\n",
      "time: 609 ms (started: 2022-10-11 21:30:31 +08:00)\n"
     ]
    }
   ],
   "source": [
    "mse_train = mean_squared_error(y_train, pl_knn.predict(X_train), squared=True)\n",
    "mse_test = mean_squared_error(y_test, y_pred, squared=True)\n",
    "pct_diff = round((1-mse_test/mse_train)*100,3)\n",
    "\n",
    "print('Train MSE:', mse_train)\n",
    "print('Test MSE:', mse_test)\n",
    "print(f'Generalisation: {pct_diff}%')"
   ]
  },
  {
   "cell_type": "code",
   "execution_count": 40,
   "id": "3d778f4d",
   "metadata": {},
   "outputs": [
    {
     "name": "stdout",
     "output_type": "stream",
     "text": [
      "time: 1min 16s (started: 2022-10-11 21:30:31 +08:00)\n"
     ]
    }
   ],
   "source": [
    "# What is a good value for k? We want to plot train and test errors for different values of k and observe.\n",
    "knn_validation_list = []\n",
    "numNeighbours = [4,8,16,32,64,100]\n",
    "nruns = 10\n",
    "\n",
    "for i in numNeighbours:\n",
    "    for j in range(0, nruns):\n",
    "        # Get a new train/test split\n",
    "        X_train, X_test, y_train, y_test = train_test_split(X, y, test_size=0.2, random_state=42+j)\n",
    "        \n",
    "        # Define the pipeline\n",
    "        pl_knn = Pipeline([\n",
    "            ('Power Transformer', PowerTransformer()),\n",
    "            ('KNN', KNeighborsRegressor(n_neighbors=i))\n",
    "            ])\n",
    "        \n",
    "        # Fit the pipeline\n",
    "        pl_knn.fit(X_train, y_train)\n",
    "        \n",
    "        # Get the predictions\n",
    "        y_pred = pl_knn.predict(X_test)\n",
    "        \n",
    "        # Store results (Value of k, Train MSE, Test MSE) in a list\n",
    "        single_result = [i,\n",
    "                         mean_squared_error(y_train, pl_knn.predict(X_train)),\n",
    "                         mean_squared_error(y_test, y_pred)]\n",
    "        \n",
    "        # Append the results into another list so we can view as dataframe later\n",
    "        knn_validation_list.append(single_result)\n",
    "\n",
    "knn_validation_df = pd.DataFrame(knn_validation_list, columns=['kNeighbors', 'trainMSE', 'testMSE'])"
   ]
  },
  {
   "cell_type": "code",
   "execution_count": 41,
   "id": "27f5f3ad",
   "metadata": {},
   "outputs": [
    {
     "data": {
      "text/html": [
       "<div>\n",
       "<style scoped>\n",
       "    .dataframe tbody tr th:only-of-type {\n",
       "        vertical-align: middle;\n",
       "    }\n",
       "\n",
       "    .dataframe tbody tr th {\n",
       "        vertical-align: top;\n",
       "    }\n",
       "\n",
       "    .dataframe thead th {\n",
       "        text-align: right;\n",
       "    }\n",
       "</style>\n",
       "<table border=\"1\" class=\"dataframe\">\n",
       "  <thead>\n",
       "    <tr style=\"text-align: right;\">\n",
       "      <th></th>\n",
       "      <th>kNeighbors</th>\n",
       "      <th>trainMSE</th>\n",
       "      <th>testMSE</th>\n",
       "    </tr>\n",
       "  </thead>\n",
       "  <tbody>\n",
       "    <tr>\n",
       "      <th>0</th>\n",
       "      <td>4</td>\n",
       "      <td>1.112019</td>\n",
       "      <td>1.080607</td>\n",
       "    </tr>\n",
       "    <tr>\n",
       "      <th>1</th>\n",
       "      <td>4</td>\n",
       "      <td>0.926301</td>\n",
       "      <td>1.848112</td>\n",
       "    </tr>\n",
       "    <tr>\n",
       "      <th>2</th>\n",
       "      <td>4</td>\n",
       "      <td>1.079844</td>\n",
       "      <td>1.171992</td>\n",
       "    </tr>\n",
       "    <tr>\n",
       "      <th>3</th>\n",
       "      <td>4</td>\n",
       "      <td>0.909360</td>\n",
       "      <td>2.284532</td>\n",
       "    </tr>\n",
       "    <tr>\n",
       "      <th>4</th>\n",
       "      <td>4</td>\n",
       "      <td>1.107088</td>\n",
       "      <td>0.914350</td>\n",
       "    </tr>\n",
       "  </tbody>\n",
       "</table>\n",
       "</div>"
      ],
      "text/plain": [
       "   kNeighbors  trainMSE   testMSE\n",
       "0           4  1.112019  1.080607\n",
       "1           4  0.926301  1.848112\n",
       "2           4  1.079844  1.171992\n",
       "3           4  0.909360  2.284532\n",
       "4           4  1.107088  0.914350"
      ]
     },
     "execution_count": 41,
     "metadata": {},
     "output_type": "execute_result"
    },
    {
     "name": "stdout",
     "output_type": "stream",
     "text": [
      "time: 0 ns (started: 2022-10-11 21:31:47 +08:00)\n"
     ]
    }
   ],
   "source": [
    "knn_validation_df.head()"
   ]
  },
  {
   "cell_type": "code",
   "execution_count": 42,
   "id": "1d15e253",
   "metadata": {},
   "outputs": [
    {
     "name": "stdout",
     "output_type": "stream",
     "text": [
      "time: 0 ns (started: 2022-10-11 21:31:47 +08:00)\n"
     ]
    }
   ],
   "source": [
    "# Get our results in a format we can easily plot\n",
    "knn_results_list = []\n",
    "numNeighbours = [4,8,16,32,64,100]\n",
    "\n",
    "# Create a DataFrame of results, index is the number of Neighbors defined above\n",
    "results_df = pd.DataFrame(index=numNeighbours)\n",
    "\n",
    "for i in numNeighbours:\n",
    "    knn_filter = knn_validation_df['kNeighbors']==i \n",
    "    \n",
    "    # Pass the filter to the dataframe\n",
    "    trainErrorsMean = knn_validation_df[knn_filter]['trainMSE'].mean()\n",
    "    trainErrorsStd = knn_validation_df[knn_filter]['trainMSE'].std()\n",
    "    \n",
    "    testErrorsMean = knn_validation_df[knn_filter]['testMSE'].mean()\n",
    "    testErrorsStd = knn_validation_df[knn_filter]['testMSE'].std()\n",
    "    \n",
    "    knn_results_list.append([trainErrorsMean, trainErrorsStd,\n",
    "                             testErrorsMean, testErrorsStd])\n",
    "    \n",
    "knn_results_df = pd.DataFrame(knn_results_list,\n",
    "                              columns=['train_MSE_mean','train_MSE_std',\n",
    "                                       'test_MSE_mean','test_MSE_std'],\n",
    "                              index=numNeighbours)"
   ]
  },
  {
   "cell_type": "code",
   "execution_count": 43,
   "id": "9d70abda",
   "metadata": {},
   "outputs": [
    {
     "data": {
      "text/html": [
       "<div>\n",
       "<style scoped>\n",
       "    .dataframe tbody tr th:only-of-type {\n",
       "        vertical-align: middle;\n",
       "    }\n",
       "\n",
       "    .dataframe tbody tr th {\n",
       "        vertical-align: top;\n",
       "    }\n",
       "\n",
       "    .dataframe thead th {\n",
       "        text-align: right;\n",
       "    }\n",
       "</style>\n",
       "<table border=\"1\" class=\"dataframe\">\n",
       "  <thead>\n",
       "    <tr style=\"text-align: right;\">\n",
       "      <th></th>\n",
       "      <th>train_MSE_mean</th>\n",
       "      <th>train_MSE_std</th>\n",
       "      <th>test_MSE_mean</th>\n",
       "      <th>test_MSE_std</th>\n",
       "    </tr>\n",
       "  </thead>\n",
       "  <tbody>\n",
       "    <tr>\n",
       "      <th>4</th>\n",
       "      <td>0.999172</td>\n",
       "      <td>0.128384</td>\n",
       "      <td>1.634913</td>\n",
       "      <td>0.774353</td>\n",
       "    </tr>\n",
       "    <tr>\n",
       "      <th>8</th>\n",
       "      <td>1.271388</td>\n",
       "      <td>0.158075</td>\n",
       "      <td>1.582380</td>\n",
       "      <td>0.790200</td>\n",
       "    </tr>\n",
       "    <tr>\n",
       "      <th>16</th>\n",
       "      <td>1.453147</td>\n",
       "      <td>0.181511</td>\n",
       "      <td>1.574184</td>\n",
       "      <td>0.794235</td>\n",
       "    </tr>\n",
       "    <tr>\n",
       "      <th>32</th>\n",
       "      <td>1.546569</td>\n",
       "      <td>0.189557</td>\n",
       "      <td>1.575935</td>\n",
       "      <td>0.798193</td>\n",
       "    </tr>\n",
       "    <tr>\n",
       "      <th>64</th>\n",
       "      <td>1.595972</td>\n",
       "      <td>0.194649</td>\n",
       "      <td>1.572370</td>\n",
       "      <td>0.797338</td>\n",
       "    </tr>\n",
       "    <tr>\n",
       "      <th>100</th>\n",
       "      <td>1.615009</td>\n",
       "      <td>0.197111</td>\n",
       "      <td>1.574202</td>\n",
       "      <td>0.800080</td>\n",
       "    </tr>\n",
       "  </tbody>\n",
       "</table>\n",
       "</div>"
      ],
      "text/plain": [
       "     train_MSE_mean  train_MSE_std  test_MSE_mean  test_MSE_std\n",
       "4          0.999172       0.128384       1.634913      0.774353\n",
       "8          1.271388       0.158075       1.582380      0.790200\n",
       "16         1.453147       0.181511       1.574184      0.794235\n",
       "32         1.546569       0.189557       1.575935      0.798193\n",
       "64         1.595972       0.194649       1.572370      0.797338\n",
       "100        1.615009       0.197111       1.574202      0.800080"
      ]
     },
     "execution_count": 43,
     "metadata": {},
     "output_type": "execute_result"
    },
    {
     "name": "stdout",
     "output_type": "stream",
     "text": [
      "time: 15 ms (started: 2022-10-11 21:31:47 +08:00)\n"
     ]
    }
   ],
   "source": [
    "knn_results_df"
   ]
  },
  {
   "cell_type": "code",
   "execution_count": 44,
   "id": "7025c3ba",
   "metadata": {},
   "outputs": [
    {
     "data": {
      "image/png": "[encoded data removed]",
      "text/plain": [
       "<Figure size 432x288 with 1 Axes>"
      ]
     },
     "metadata": {
      "needs_background": "light"
     },
     "output_type": "display_data"
    },
    {
     "name": "stdout",
     "output_type": "stream",
     "text": [
      "time: 110 ms (started: 2022-10-11 21:31:47 +08:00)\n"
     ]
    }
   ],
   "source": [
    "# Plot the learning curve for KNN\n",
    "knn_results_df['train_MSE_mean'].plot(style='-x')\n",
    "knn_results_df['test_MSE_mean'].plot(style='-x')\n",
    "\n",
    "# Shows the Std Dev of the errors\n",
    "plt.fill_between(knn_results_df.index,\\\n",
    "                 knn_results_df['train_MSE_mean']-knn_results_df['train_MSE_std'],\\\n",
    "                 knn_results_df['train_MSE_mean']+knn_results_df['train_MSE_std'],\\\n",
    "                 alpha=0.2)\n",
    "\n",
    "plt.fill_between(knn_results_df.index,\\\n",
    "                 knn_results_df['test_MSE_mean']-knn_results_df['test_MSE_std'],\\\n",
    "                 knn_results_df['test_MSE_mean']+knn_results_df['test_MSE_std'],\\\n",
    "                 alpha=0.2)\n",
    "\n",
    "plt.grid()\n",
    "plt.legend(['Train CV RMSE','Test Set RMSE'])\n",
    "plt.ylabel('RMSE')\n",
    "plt.xlabel('Values for K', fontsize=15)\n",
    "plt.title('KNN Learning Curve', fontsize=15)\n",
    "plt.ylim([0.8, 2]);"
   ]
  },
  {
   "cell_type": "code",
   "execution_count": 45,
   "id": "5fe74cb2",
   "metadata": {},
   "outputs": [
    {
     "data": {
      "image/png": "[encoded data removed]",
      "text/plain": [
       "<Figure size 432x432 with 1 Axes>"
      ]
     },
     "metadata": {
      "needs_background": "light"
     },
     "output_type": "display_data"
    },
    {
     "name": "stdout",
     "output_type": "stream",
     "text": [
      "time: 297 ms (started: 2022-10-11 21:31:48 +08:00)\n"
     ]
    }
   ],
   "source": [
    "plt.figure(figsize=(6,6))\n",
    "plotScatter('KNN Regressor', y_test.to_numpy(), y_pred, 2)"
   ]
  },
  {
   "cell_type": "code",
   "execution_count": 46,
   "id": "4f4e5485",
   "metadata": {},
   "outputs": [
    {
     "name": "stdout",
     "output_type": "stream",
     "text": [
      "Top Predicted Returns: [1.7, 1.65, 1.62, 1.6, 1.59, 1.58, 1.58, 1.58, 1.55, 1.54]\n",
      "Comparing Actual Returns: [2.4, 0.15, 1.13, -0.09, 1.05, 1.54, -0.97, -0.22, -0.75, 0.2] \n",
      "\n",
      "Mean of Top 10 Predicted Returns: 1.6\n",
      "Mean of Top 10 Actual Returns: 0.45 \n",
      "\n",
      "Mean of Bottom 10 Predicted Returns: -0.11\n",
      "Mean of Bottom 10 Actual Returns: -0.25 \n",
      "\n",
      "time: 0 ns (started: 2022-10-11 21:31:48 +08:00)\n"
     ]
    }
   ],
   "source": [
    "printPredictions(y_test, y_pred)"
   ]
  },
  {
   "cell_type": "code",
   "execution_count": 47,
   "id": "610b251e",
   "metadata": {},
   "outputs": [
    {
     "name": "stdout",
     "output_type": "stream",
     "text": [
      "Predicted Performance (in %) of Top 10 Returns (10 runs): \n",
      " [174.88, 174.19, 164.81, 178.46, 175.88, 164.18, 140.04, 172.4, 170.41, 159.78]\n",
      "Actual Performance (in %) of Top 10 Returns (10 runs) \n",
      " [212.87, -45.17, 124.02, 6.83, 64.93, 62.22, 87.97, -10.68, 173.62, 44.52] \n",
      "\n",
      "Predicted Performance (in %) of Bottom 10 Returns (10 runs): \n",
      " [-10.42, -12.48, -10.81, -12.15, -12.43, -10.1, -11.13, -11.76, -11.43, -10.52]\n",
      "Actual Performance (in %) of Bottom 10 Returns (10 runs): \n",
      " [-12.52, -18.11, -22.95, -20.48, -13.69, -45.52, -25.11, -11.27, -35.28, -25.38]\n",
      "--------------\n",
      "\n",
      "Mean Predicted Std. Dev. (in %) of Top 10 Returns: 10.74\n",
      "Mean Actual Std. Dev. (in %) of Top 10 Returns: 76.71\n",
      "Mean Predicted Std. Dev. (in %) of Bottom 10 Returns: 0.82\n",
      "Mean Actual Std. Dev. (in %) of Bottom 10 Returns: 10.16\n",
      "--------------\n",
      "\n",
      "Mean Predicted Performance (in %) of Top 10 Returns: 167.5\n",
      "Mean Actual Performance (in %) of Top 10 Returns: 72.11\n",
      "Mean Predicted Performance (in %) of Bottom 10 Returns: -11.32\n",
      "Mean Actual Performance (in %) of Bottom 10 Returns: -23.03\n",
      "--------------\n",
      "\n",
      "time: 7.76 s (started: 2022-10-11 21:31:48 +08:00)\n"
     ]
    }
   ],
   "source": [
    "df_top10act['KNN'], df_bottom10act['KNN'] = testPredictionAbility(pl_knn, X, y, 10)"
   ]
  },
  {
   "cell_type": "markdown",
   "id": "e20ae549",
   "metadata": {},
   "source": [
    "# Model 4: Decision Trees"
   ]
  },
  {
   "cell_type": "code",
   "execution_count": 48,
   "id": "4063cd53",
   "metadata": {},
   "outputs": [
    {
     "name": "stdout",
     "output_type": "stream",
     "text": [
      "time: 0 ns (started: 2022-10-11 21:31:56 +08:00)\n"
     ]
    }
   ],
   "source": [
    "# Decision Trees dont need to scale\n",
    "# Try with default hyperparameters\n",
    "pl_dt = Pipeline([\n",
    "    ('DecisionTree', DecisionTreeRegressor(random_state=42))\n",
    "])"
   ]
  },
  {
   "cell_type": "code",
   "execution_count": 49,
   "id": "84a2784b",
   "metadata": {},
   "outputs": [
    {
     "name": "stdout",
     "output_type": "stream",
     "text": [
      "time: 687 ms (started: 2022-10-11 21:31:56 +08:00)\n"
     ]
    }
   ],
   "source": [
    "pl_dt.fit(X_train, y_train)\n",
    "y_pred = pl_dt.predict(X_test)"
   ]
  },
  {
   "cell_type": "code",
   "execution_count": 50,
   "id": "1917d768",
   "metadata": {},
   "outputs": [
    {
     "name": "stdout",
     "output_type": "stream",
     "text": [
      "Train MSE: 1.4614982714574302e-37\n",
      "Test MSE: 3.1842498564933366\n",
      "Generalisation: -2.1787571827354607e+39%\n",
      "time: 16 ms (started: 2022-10-11 21:31:56 +08:00)\n"
     ]
    }
   ],
   "source": [
    "mse_train = mean_squared_error(y_train, pl_dt.predict(X_train), squared=True)\n",
    "mse_test = mean_squared_error(y_test, y_pred, squared=True)\n",
    "pct_diff = round((1-mse_test/mse_train)*100,3)\n",
    "\n",
    "print('Train MSE:', mse_train)\n",
    "print('Test MSE:', mse_test)\n",
    "print(f'Generalisation: {pct_diff}%')"
   ]
  },
  {
   "cell_type": "markdown",
   "id": "8fb364b2",
   "metadata": {},
   "source": [
    "Seems like there is alot of overfitting, so we might need to adjust the hyperparameters. We will test with the max_depth hyperparameter to see if we can prevent overfitting."
   ]
  },
  {
   "cell_type": "code",
   "execution_count": 51,
   "id": "61115a1c",
   "metadata": {},
   "outputs": [
    {
     "data": {
      "image/png": "[encoded data removed]",
      "text/plain": [
       "<Figure size 432x288 with 1 Axes>"
      ]
     },
     "metadata": {
      "needs_background": "light"
     },
     "output_type": "display_data"
    },
    {
     "name": "stdout",
     "output_type": "stream",
     "text": [
      "time: 22.3 s (started: 2022-10-11 21:31:56 +08:00)\n"
     ]
    }
   ],
   "source": [
    "train_rmse, test_rmse, max_depth = [], [], []\n",
    "\n",
    "# Try tree depths of 2 to 50\n",
    "for i in range(2,50):\n",
    "    \n",
    "    # define pipeline\n",
    "    pl_dt_loop = Pipeline([\n",
    "        ('DecisionTreeRegressor',\\\n",
    "         DecisionTreeRegressor(random_state=42, max_depth=i))])\n",
    "    \n",
    "    # fit and predict\n",
    "    pl_dt_loop.fit(X_train, y_train)\n",
    "    y_pred = pl_dt_loop.predict(X_test)\n",
    "    \n",
    "    # add the errors and max_depth to the lists\n",
    "    train_rmse.append(mean_squared_error(y_train, pl_dt_loop.predict(X_train)))\n",
    "    test_rmse.append(mean_squared_error(y_test, y_pred))\n",
    "    max_depth.append(i)\n",
    "\n",
    "# Draw on same plot, the RMSE of training data and RMSE of test data given different max_depth\n",
    "plt.plot(max_depth, np.sqrt(train_rmse), 'r', max_depth, np.sqrt(test_rmse), 'b')\n",
    "\n",
    "plt.legend(['RMSE of Train data','RMSE of Test data'])\n",
    "plt.grid()\n",
    "plt.ylabel('RMSE');\n",
    "plt.xlabel('Max depth of tree');"
   ]
  },
  {
   "cell_type": "markdown",
   "id": "5876b9d5",
   "metadata": {},
   "source": [
    "Test error does not seem to be decreasing with increasing tree depth. Model still continues to overfit. We can take a value between 10 and 30 as an estimate first. Let's try 15."
   ]
  },
  {
   "cell_type": "code",
   "execution_count": 52,
   "id": "a2ee0388",
   "metadata": {},
   "outputs": [
    {
     "name": "stdout",
     "output_type": "stream",
     "text": [
      "Train MSE: 0.278375514247574\n",
      "Test MSE: 2.804257960807431\n",
      "Generalisation: -907.365%\n",
      "time: 390 ms (started: 2022-10-11 21:32:19 +08:00)\n"
     ]
    }
   ],
   "source": [
    "# Refit with max depth at 15\n",
    "pl_dt = Pipeline([('DecisionTree', DecisionTreeRegressor(max_depth=15, random_state=42))])\n",
    "\n",
    "pl_dt.fit(X_train, y_train)\n",
    "y_pred = pl_dt.predict(X_test)\n",
    "\n",
    "mse_train = mean_squared_error(y_train, pl_dt.predict(X_train), squared=True)\n",
    "mse_test = mean_squared_error(y_test, y_pred, squared=True)\n",
    "pct_diff = round((1-mse_test/mse_train)*100,3)\n",
    "\n",
    "print('Train MSE:', mse_train)\n",
    "print('Test MSE:', mse_test)\n",
    "print(f'Generalisation: {pct_diff}%')"
   ]
  },
  {
   "cell_type": "code",
   "execution_count": 53,
   "id": "425d995d",
   "metadata": {},
   "outputs": [
    {
     "name": "stdout",
     "output_type": "stream",
     "text": [
      "Predicted Performance (in %) of Top 10 Returns (10 runs): \n",
      " [2950.79, 1411.31, 1482.62, 1976.5, 1540.61, 2897.5, 2372.02, 3774.01, 2720.6, 1264.92]\n",
      "Actual Performance (in %) of Top 10 Returns (10 runs) \n",
      " [358.24, 436.28, 446.44, 736.43, 16.24, 68.46, 55.37, 183.68, 214.09, 371.25] \n",
      "\n",
      "Predicted Performance (in %) of Bottom 10 Returns (10 runs): \n",
      " [-93.87, -97.9, -91.47, -93.18, -90.95, -92.6, -89.11, -93.11, -94.71, -94.67]\n",
      "Actual Performance (in %) of Bottom 10 Returns (10 runs): \n",
      " [48.62, 61.58, 101.38, 0.21, 23.89, 75.91, 7.02, 66.59, 68.9, 64.43]\n",
      "--------------\n",
      "\n",
      "Mean Predicted Std. Dev. (in %) of Top 10 Returns: 794.28\n",
      "Mean Actual Std. Dev. (in %) of Top 10 Returns: 212.73\n",
      "Mean Predicted Std. Dev. (in %) of Bottom 10 Returns: 2.28\n",
      "Mean Actual Std. Dev. (in %) of Bottom 10 Returns: 30.43\n",
      "--------------\n",
      "\n",
      "Mean Predicted Performance (in %) of Top 10 Returns: 2239.09\n",
      "Mean Actual Performance (in %) of Top 10 Returns: 288.65\n",
      "Mean Predicted Performance (in %) of Bottom 10 Returns: -93.16\n",
      "Mean Actual Performance (in %) of Bottom 10 Returns: 51.85\n",
      "--------------\n",
      "\n",
      "time: 3.98 s (started: 2022-10-11 21:32:19 +08:00)\n"
     ]
    }
   ],
   "source": [
    "df_top10act['DT'], df_bottom10act['DT'] = testPredictionAbility(pl_dt, X, y, 10)"
   ]
  },
  {
   "cell_type": "code",
   "execution_count": 54,
   "id": "061d33ec",
   "metadata": {},
   "outputs": [
    {
     "data": {
      "image/png": "[encoded data removed]",
      "text/plain": [
       "<Figure size 432x288 with 1 Axes>"
      ]
     },
     "metadata": {
      "needs_background": "light"
     },
     "output_type": "display_data"
    },
    {
     "name": "stdout",
     "output_type": "stream",
     "text": [
      "time: 281 ms (started: 2022-10-11 21:32:23 +08:00)\n"
     ]
    }
   ],
   "source": [
    "plotScatter('Decision Trees', y_test.to_numpy(), y_pred, 2)"
   ]
  },
  {
   "cell_type": "markdown",
   "id": "868c55e2",
   "metadata": {},
   "source": [
    "# Model 5: Random Forest"
   ]
  },
  {
   "cell_type": "code",
   "execution_count": 55,
   "id": "514affa1",
   "metadata": {},
   "outputs": [
    {
     "name": "stdout",
     "output_type": "stream",
     "text": [
      "time: 0 ns (started: 2022-10-11 21:32:23 +08:00)\n"
     ]
    }
   ],
   "source": [
    "rf = RandomForestRegressor(random_state=42, max_depth=10)"
   ]
  },
  {
   "cell_type": "code",
   "execution_count": 56,
   "id": "99216531",
   "metadata": {},
   "outputs": [
    {
     "name": "stdout",
     "output_type": "stream",
     "text": [
      "time: 17.3 s (started: 2022-10-11 21:32:23 +08:00)\n"
     ]
    }
   ],
   "source": [
    "# fit and predict using Random Forest\n",
    "rf.fit(X_train, y_train)\n",
    "y_pred = rf.predict(X_test)"
   ]
  },
  {
   "cell_type": "code",
   "execution_count": 57,
   "id": "5af7dc31",
   "metadata": {},
   "outputs": [
    {
     "name": "stdout",
     "output_type": "stream",
     "text": [
      "Train MSE: 0.6241966612445153\n",
      "Test MSE: 2.257389318327895\n",
      "Generalisation: -261.647%\n",
      "time: 157 ms (started: 2022-10-11 21:32:41 +08:00)\n"
     ]
    }
   ],
   "source": [
    "mse_train = mean_squared_error(y_train, rf.predict(X_train), squared=True)\n",
    "mse_test = mean_squared_error(y_test, y_pred, squared=True)\n",
    "pct_diff = round((1-mse_test/mse_train)*100,3)\n",
    "\n",
    "print('Train MSE:', mse_train)\n",
    "print('Test MSE:', mse_test)\n",
    "print(f'Generalisation: {pct_diff}%')\n",
    "\n",
    "pickle.dump(rf, open(\"rf_regressor.p\", \"wb\" ))"
   ]
  },
  {
   "cell_type": "code",
   "execution_count": 58,
   "id": "0db1a92c",
   "metadata": {},
   "outputs": [
    {
     "name": "stdout",
     "output_type": "stream",
     "text": [
      "Predicted Performance (in %) of Top 10 Returns (10 runs): \n",
      " [543.88, 611.88, 661.27, 470.19, 597.46, 501.56, 462.65, 869.55, 599.67, 486.28]\n",
      "Actual Performance (in %) of Top 10 Returns (10 runs) \n",
      " [95.31, 1238.63, 502.94, 794.48, 145.61, 566.58, 238.17, 163.08, 323.26, 283.04] \n",
      "\n",
      "Predicted Performance (in %) of Bottom 10 Returns (10 runs): \n",
      " [-12.4, -13.34, -11.45, -12.61, -8.84, -13.24, -12.21, -9.23, -15.68, -11.53]\n",
      "Actual Performance (in %) of Bottom 10 Returns (10 runs): \n",
      " [-60.79, -33.01, -43.12, -21.77, -47.44, -33.44, -49.67, -28.35, -31.99, -29.19]\n",
      "--------------\n",
      "\n",
      "Mean Predicted Std. Dev. (in %) of Top 10 Returns: 115.85\n",
      "Mean Actual Std. Dev. (in %) of Top 10 Returns: 338.29\n",
      "Mean Predicted Std. Dev. (in %) of Bottom 10 Returns: 1.89\n",
      "Mean Actual Std. Dev. (in %) of Bottom 10 Returns: 11.34\n",
      "--------------\n",
      "\n",
      "Mean Predicted Performance (in %) of Top 10 Returns: 580.44\n",
      "Mean Actual Performance (in %) of Top 10 Returns: 435.11\n",
      "Mean Predicted Performance (in %) of Bottom 10 Returns: -12.05\n",
      "Mean Actual Performance (in %) of Bottom 10 Returns: -37.88\n",
      "--------------\n",
      "\n",
      "time: 2min 52s (started: 2022-10-11 21:32:41 +08:00)\n"
     ]
    }
   ],
   "source": [
    "df_top10act['RF'], df_bottom10act['RF'] = testPredictionAbility(rf, X, y, 10)"
   ]
  },
  {
   "cell_type": "code",
   "execution_count": 59,
   "id": "957e1d31",
   "metadata": {},
   "outputs": [
    {
     "name": "stdout",
     "output_type": "stream",
     "text": [
      "time: 16 ms (started: 2022-10-11 21:35:33 +08:00)\n"
     ]
    }
   ],
   "source": [
    "# Finding which are the more important features\n",
    "rf_features = zip(X.keys(), rf.feature_importances_)\n",
    "df_featimpt = pd.DataFrame(rf_features, columns=['Feature', 'rf_gini'])\n",
    "\n",
    "# Sort features by importance\n",
    "df_featimpt = df_featimpt.sort_values(by='rf_gini', ascending=1)"
   ]
  },
  {
   "cell_type": "code",
   "execution_count": 60,
   "id": "01d8774f",
   "metadata": {
    "scrolled": false
   },
   "outputs": [
    {
     "data": {
      "text/html": [
       "<div>\n",
       "<style scoped>\n",
       "    .dataframe tbody tr th:only-of-type {\n",
       "        vertical-align: middle;\n",
       "    }\n",
       "\n",
       "    .dataframe tbody tr th {\n",
       "        vertical-align: top;\n",
       "    }\n",
       "\n",
       "    .dataframe thead th {\n",
       "        text-align: right;\n",
       "    }\n",
       "</style>\n",
       "<table border=\"1\" class=\"dataframe\">\n",
       "  <thead>\n",
       "    <tr style=\"text-align: right;\">\n",
       "      <th></th>\n",
       "      <th>Feature</th>\n",
       "      <th>rf_gini</th>\n",
       "    </tr>\n",
       "  </thead>\n",
       "  <tbody>\n",
       "    <tr>\n",
       "      <th>6</th>\n",
       "      <td>WorkingCap</td>\n",
       "      <td>0.031039</td>\n",
       "    </tr>\n",
       "    <tr>\n",
       "      <th>13</th>\n",
       "      <td>GPM</td>\n",
       "      <td>0.032707</td>\n",
       "    </tr>\n",
       "    <tr>\n",
       "      <th>12</th>\n",
       "      <td>AssetTurnover</td>\n",
       "      <td>0.044462</td>\n",
       "    </tr>\n",
       "    <tr>\n",
       "      <th>7</th>\n",
       "      <td>ROE</td>\n",
       "      <td>0.044943</td>\n",
       "    </tr>\n",
       "    <tr>\n",
       "      <th>1</th>\n",
       "      <td>OI_NWCFA</td>\n",
       "      <td>0.046131</td>\n",
       "    </tr>\n",
       "    <tr>\n",
       "      <th>10</th>\n",
       "      <td>DebtRatio</td>\n",
       "      <td>0.047070</td>\n",
       "    </tr>\n",
       "    <tr>\n",
       "      <th>16</th>\n",
       "      <td>EBIT_TA</td>\n",
       "      <td>0.047515</td>\n",
       "    </tr>\n",
       "    <tr>\n",
       "      <th>17</th>\n",
       "      <td>Equity_Liab</td>\n",
       "      <td>0.047768</td>\n",
       "    </tr>\n",
       "    <tr>\n",
       "      <th>0</th>\n",
       "      <td>EV_EBIT</td>\n",
       "      <td>0.048280</td>\n",
       "    </tr>\n",
       "    <tr>\n",
       "      <th>11</th>\n",
       "      <td>CashRatio</td>\n",
       "      <td>0.052316</td>\n",
       "    </tr>\n",
       "    <tr>\n",
       "      <th>4</th>\n",
       "      <td>PS</td>\n",
       "      <td>0.052555</td>\n",
       "    </tr>\n",
       "    <tr>\n",
       "      <th>14</th>\n",
       "      <td>WC_TA</td>\n",
       "      <td>0.060424</td>\n",
       "    </tr>\n",
       "    <tr>\n",
       "      <th>2</th>\n",
       "      <td>PE</td>\n",
       "      <td>0.062955</td>\n",
       "    </tr>\n",
       "    <tr>\n",
       "      <th>9</th>\n",
       "      <td>DE</td>\n",
       "      <td>0.065920</td>\n",
       "    </tr>\n",
       "    <tr>\n",
       "      <th>15</th>\n",
       "      <td>RE_TA</td>\n",
       "      <td>0.072844</td>\n",
       "    </tr>\n",
       "    <tr>\n",
       "      <th>8</th>\n",
       "      <td>ROCE</td>\n",
       "      <td>0.076143</td>\n",
       "    </tr>\n",
       "    <tr>\n",
       "      <th>5</th>\n",
       "      <td>OI_IntExp</td>\n",
       "      <td>0.082913</td>\n",
       "    </tr>\n",
       "    <tr>\n",
       "      <th>3</th>\n",
       "      <td>PB</td>\n",
       "      <td>0.084015</td>\n",
       "    </tr>\n",
       "  </tbody>\n",
       "</table>\n",
       "</div>"
      ],
      "text/plain": [
       "          Feature   rf_gini\n",
       "6      WorkingCap  0.031039\n",
       "13            GPM  0.032707\n",
       "12  AssetTurnover  0.044462\n",
       "7             ROE  0.044943\n",
       "1        OI_NWCFA  0.046131\n",
       "10      DebtRatio  0.047070\n",
       "16        EBIT_TA  0.047515\n",
       "17    Equity_Liab  0.047768\n",
       "0         EV_EBIT  0.048280\n",
       "11      CashRatio  0.052316\n",
       "4              PS  0.052555\n",
       "14          WC_TA  0.060424\n",
       "2              PE  0.062955\n",
       "9              DE  0.065920\n",
       "15          RE_TA  0.072844\n",
       "8            ROCE  0.076143\n",
       "5       OI_IntExp  0.082913\n",
       "3              PB  0.084015"
      ]
     },
     "execution_count": 60,
     "metadata": {},
     "output_type": "execute_result"
    },
    {
     "name": "stdout",
     "output_type": "stream",
     "text": [
      "time: 0 ns (started: 2022-10-11 21:35:33 +08:00)\n"
     ]
    }
   ],
   "source": [
    "df_featimpt"
   ]
  },
  {
   "cell_type": "code",
   "execution_count": 61,
   "id": "6cc815cf",
   "metadata": {
    "scrolled": true
   },
   "outputs": [
    {
     "data": {
      "text/plain": [
       "Text(0.5, 0, 'Gini Importance')"
      ]
     },
     "execution_count": 61,
     "metadata": {},
     "output_type": "execute_result"
    },
    {
     "data": {
      "text/plain": [
       "<Figure size 864x432 with 0 Axes>"
      ]
     },
     "metadata": {},
     "output_type": "display_data"
    },
    {
     "data": {
      "image/png": "[encoded data removed]",
      "text/plain": [
       "<Figure size 432x288 with 1 Axes>"
      ]
     },
     "metadata": {
      "needs_background": "light"
     },
     "output_type": "display_data"
    },
    {
     "name": "stdout",
     "output_type": "stream",
     "text": [
      "time: 140 ms (started: 2022-10-11 21:35:33 +08:00)\n"
     ]
    }
   ],
   "source": [
    "# Plot the feature importance graph\n",
    "plt.figure(figsize=(12,6))\n",
    "df_featimpt.plot.barh(x='Feature', y='rf_gini')\n",
    "plt.grid(axis='x')\n",
    "plt.ylabel('Feature');\n",
    "plt.xlabel('Gini Importance')"
   ]
  },
  {
   "cell_type": "markdown",
   "id": "eaec67e6",
   "metadata": {},
   "source": [
    "# Evaluation of results"
   ]
  },
  {
   "cell_type": "code",
   "execution_count": 62,
   "id": "1f961034",
   "metadata": {},
   "outputs": [
    {
     "data": {
      "text/html": [
       "<div>\n",
       "<style scoped>\n",
       "    .dataframe tbody tr th:only-of-type {\n",
       "        vertical-align: middle;\n",
       "    }\n",
       "\n",
       "    .dataframe tbody tr th {\n",
       "        vertical-align: top;\n",
       "    }\n",
       "\n",
       "    .dataframe thead th {\n",
       "        text-align: right;\n",
       "    }\n",
       "</style>\n",
       "<table border=\"1\" class=\"dataframe\">\n",
       "  <thead>\n",
       "    <tr style=\"text-align: right;\">\n",
       "      <th></th>\n",
       "      <th>LR</th>\n",
       "      <th>Enet</th>\n",
       "      <th>Ridge</th>\n",
       "      <th>KNN</th>\n",
       "      <th>DT</th>\n",
       "      <th>RF</th>\n",
       "    </tr>\n",
       "  </thead>\n",
       "  <tbody>\n",
       "    <tr>\n",
       "      <th>0</th>\n",
       "      <td>77.94</td>\n",
       "      <td>-7.20</td>\n",
       "      <td>148.85</td>\n",
       "      <td>212.87</td>\n",
       "      <td>358.24</td>\n",
       "      <td>95.31</td>\n",
       "    </tr>\n",
       "    <tr>\n",
       "      <th>1</th>\n",
       "      <td>64.99</td>\n",
       "      <td>42.60</td>\n",
       "      <td>103.36</td>\n",
       "      <td>-45.17</td>\n",
       "      <td>436.28</td>\n",
       "      <td>1238.63</td>\n",
       "    </tr>\n",
       "    <tr>\n",
       "      <th>2</th>\n",
       "      <td>170.37</td>\n",
       "      <td>72.45</td>\n",
       "      <td>108.62</td>\n",
       "      <td>124.02</td>\n",
       "      <td>446.44</td>\n",
       "      <td>502.94</td>\n",
       "    </tr>\n",
       "    <tr>\n",
       "      <th>3</th>\n",
       "      <td>58.42</td>\n",
       "      <td>40.84</td>\n",
       "      <td>13.92</td>\n",
       "      <td>6.83</td>\n",
       "      <td>736.43</td>\n",
       "      <td>794.48</td>\n",
       "    </tr>\n",
       "    <tr>\n",
       "      <th>4</th>\n",
       "      <td>165.50</td>\n",
       "      <td>-0.79</td>\n",
       "      <td>7.47</td>\n",
       "      <td>64.93</td>\n",
       "      <td>16.24</td>\n",
       "      <td>145.61</td>\n",
       "    </tr>\n",
       "    <tr>\n",
       "      <th>5</th>\n",
       "      <td>191.29</td>\n",
       "      <td>31.44</td>\n",
       "      <td>110.54</td>\n",
       "      <td>62.22</td>\n",
       "      <td>68.46</td>\n",
       "      <td>566.58</td>\n",
       "    </tr>\n",
       "    <tr>\n",
       "      <th>6</th>\n",
       "      <td>61.40</td>\n",
       "      <td>20.23</td>\n",
       "      <td>78.01</td>\n",
       "      <td>87.97</td>\n",
       "      <td>55.37</td>\n",
       "      <td>238.17</td>\n",
       "    </tr>\n",
       "    <tr>\n",
       "      <th>7</th>\n",
       "      <td>41.81</td>\n",
       "      <td>3.51</td>\n",
       "      <td>48.59</td>\n",
       "      <td>-10.68</td>\n",
       "      <td>183.68</td>\n",
       "      <td>163.08</td>\n",
       "    </tr>\n",
       "    <tr>\n",
       "      <th>8</th>\n",
       "      <td>57.73</td>\n",
       "      <td>36.46</td>\n",
       "      <td>67.01</td>\n",
       "      <td>173.62</td>\n",
       "      <td>214.09</td>\n",
       "      <td>323.26</td>\n",
       "    </tr>\n",
       "    <tr>\n",
       "      <th>9</th>\n",
       "      <td>119.45</td>\n",
       "      <td>10.68</td>\n",
       "      <td>209.82</td>\n",
       "      <td>44.52</td>\n",
       "      <td>371.25</td>\n",
       "      <td>283.04</td>\n",
       "    </tr>\n",
       "  </tbody>\n",
       "</table>\n",
       "</div>"
      ],
      "text/plain": [
       "       LR   Enet   Ridge     KNN      DT       RF\n",
       "0   77.94  -7.20  148.85  212.87  358.24    95.31\n",
       "1   64.99  42.60  103.36  -45.17  436.28  1238.63\n",
       "2  170.37  72.45  108.62  124.02  446.44   502.94\n",
       "3   58.42  40.84   13.92    6.83  736.43   794.48\n",
       "4  165.50  -0.79    7.47   64.93   16.24   145.61\n",
       "5  191.29  31.44  110.54   62.22   68.46   566.58\n",
       "6   61.40  20.23   78.01   87.97   55.37   238.17\n",
       "7   41.81   3.51   48.59  -10.68  183.68   163.08\n",
       "8   57.73  36.46   67.01  173.62  214.09   323.26\n",
       "9  119.45  10.68  209.82   44.52  371.25   283.04"
      ]
     },
     "execution_count": 62,
     "metadata": {},
     "output_type": "execute_result"
    },
    {
     "name": "stdout",
     "output_type": "stream",
     "text": [
      "time: 16 ms (started: 2022-10-11 21:35:33 +08:00)\n"
     ]
    }
   ],
   "source": [
    "df_top10act"
   ]
  },
  {
   "cell_type": "code",
   "execution_count": 63,
   "id": "ad4c3da7",
   "metadata": {},
   "outputs": [
    {
     "data": {
      "text/html": [
       "<div>\n",
       "<style scoped>\n",
       "    .dataframe tbody tr th:only-of-type {\n",
       "        vertical-align: middle;\n",
       "    }\n",
       "\n",
       "    .dataframe tbody tr th {\n",
       "        vertical-align: top;\n",
       "    }\n",
       "\n",
       "    .dataframe thead th {\n",
       "        text-align: right;\n",
       "    }\n",
       "</style>\n",
       "<table border=\"1\" class=\"dataframe\">\n",
       "  <thead>\n",
       "    <tr style=\"text-align: right;\">\n",
       "      <th></th>\n",
       "      <th>LR</th>\n",
       "      <th>Enet</th>\n",
       "      <th>Ridge</th>\n",
       "      <th>KNN</th>\n",
       "      <th>DT</th>\n",
       "      <th>RF</th>\n",
       "    </tr>\n",
       "  </thead>\n",
       "  <tbody>\n",
       "    <tr>\n",
       "      <th>0</th>\n",
       "      <td>6.28</td>\n",
       "      <td>46.41</td>\n",
       "      <td>119.88</td>\n",
       "      <td>-12.52</td>\n",
       "      <td>48.62</td>\n",
       "      <td>-60.79</td>\n",
       "    </tr>\n",
       "    <tr>\n",
       "      <th>1</th>\n",
       "      <td>15.22</td>\n",
       "      <td>51.69</td>\n",
       "      <td>14.31</td>\n",
       "      <td>-18.11</td>\n",
       "      <td>61.58</td>\n",
       "      <td>-33.01</td>\n",
       "    </tr>\n",
       "    <tr>\n",
       "      <th>2</th>\n",
       "      <td>12.69</td>\n",
       "      <td>32.81</td>\n",
       "      <td>16.39</td>\n",
       "      <td>-22.95</td>\n",
       "      <td>101.38</td>\n",
       "      <td>-43.12</td>\n",
       "    </tr>\n",
       "    <tr>\n",
       "      <th>3</th>\n",
       "      <td>24.02</td>\n",
       "      <td>-21.40</td>\n",
       "      <td>10.05</td>\n",
       "      <td>-20.48</td>\n",
       "      <td>0.21</td>\n",
       "      <td>-21.77</td>\n",
       "    </tr>\n",
       "    <tr>\n",
       "      <th>4</th>\n",
       "      <td>23.68</td>\n",
       "      <td>60.13</td>\n",
       "      <td>32.62</td>\n",
       "      <td>-13.69</td>\n",
       "      <td>23.89</td>\n",
       "      <td>-47.44</td>\n",
       "    </tr>\n",
       "    <tr>\n",
       "      <th>5</th>\n",
       "      <td>25.21</td>\n",
       "      <td>-7.30</td>\n",
       "      <td>36.96</td>\n",
       "      <td>-45.52</td>\n",
       "      <td>75.91</td>\n",
       "      <td>-33.44</td>\n",
       "    </tr>\n",
       "    <tr>\n",
       "      <th>6</th>\n",
       "      <td>26.65</td>\n",
       "      <td>29.46</td>\n",
       "      <td>139.07</td>\n",
       "      <td>-25.11</td>\n",
       "      <td>7.02</td>\n",
       "      <td>-49.67</td>\n",
       "    </tr>\n",
       "    <tr>\n",
       "      <th>7</th>\n",
       "      <td>17.55</td>\n",
       "      <td>6.68</td>\n",
       "      <td>129.61</td>\n",
       "      <td>-11.27</td>\n",
       "      <td>66.59</td>\n",
       "      <td>-28.35</td>\n",
       "    </tr>\n",
       "    <tr>\n",
       "      <th>8</th>\n",
       "      <td>42.18</td>\n",
       "      <td>30.45</td>\n",
       "      <td>45.44</td>\n",
       "      <td>-35.28</td>\n",
       "      <td>68.90</td>\n",
       "      <td>-31.99</td>\n",
       "    </tr>\n",
       "    <tr>\n",
       "      <th>9</th>\n",
       "      <td>15.63</td>\n",
       "      <td>43.07</td>\n",
       "      <td>10.30</td>\n",
       "      <td>-25.38</td>\n",
       "      <td>64.43</td>\n",
       "      <td>-29.19</td>\n",
       "    </tr>\n",
       "  </tbody>\n",
       "</table>\n",
       "</div>"
      ],
      "text/plain": [
       "      LR   Enet   Ridge    KNN      DT     RF\n",
       "0   6.28  46.41  119.88 -12.52   48.62 -60.79\n",
       "1  15.22  51.69   14.31 -18.11   61.58 -33.01\n",
       "2  12.69  32.81   16.39 -22.95  101.38 -43.12\n",
       "3  24.02 -21.40   10.05 -20.48    0.21 -21.77\n",
       "4  23.68  60.13   32.62 -13.69   23.89 -47.44\n",
       "5  25.21  -7.30   36.96 -45.52   75.91 -33.44\n",
       "6  26.65  29.46  139.07 -25.11    7.02 -49.67\n",
       "7  17.55   6.68  129.61 -11.27   66.59 -28.35\n",
       "8  42.18  30.45   45.44 -35.28   68.90 -31.99\n",
       "9  15.63  43.07   10.30 -25.38   64.43 -29.19"
      ]
     },
     "execution_count": 63,
     "metadata": {},
     "output_type": "execute_result"
    },
    {
     "name": "stdout",
     "output_type": "stream",
     "text": [
      "time: 0 ns (started: 2022-10-11 21:35:33 +08:00)\n"
     ]
    }
   ],
   "source": [
    "df_bottom10act"
   ]
  },
  {
   "cell_type": "code",
   "execution_count": 64,
   "id": "7e298aea",
   "metadata": {},
   "outputs": [
    {
     "data": {
      "image/png": "[encoded data removed]",
      "text/plain": [
       "<Figure size 1008x576 with 1 Axes>"
      ]
     },
     "metadata": {
      "needs_background": "light"
     },
     "output_type": "display_data"
    },
    {
     "name": "stdout",
     "output_type": "stream",
     "text": [
      "time: 125 ms (started: 2022-10-11 21:35:33 +08:00)\n"
     ]
    }
   ],
   "source": [
    "plt.figure(figsize=(14,8))\n",
    "\n",
    "# Plot the mean of the top 10 returns from 10 runs\n",
    "df_top10act.mean().plot(linewidth=0, marker='*', markersize=20,\n",
    "                        markerfacecolor='g', markeredgecolor='g', fontsize=16)\n",
    "\n",
    "# Plot the mean of the bottom 10 returns from 10 runs\n",
    "df_bottom10act.mean().plot(linewidth=0, marker='o', markersize=20,\n",
    "                           markerfacecolor='b', markeredgecolor='b', fontsize=16, alpha=0.2)\n",
    "\n",
    "plt.legend(['Mean Top 10 Returns', 'Mean Bottom 10 Returns'], prop={'size': 15})\n",
    "plt.ylim([-100, 500])\n",
    "plt.title('Results of Mean Portfolio Returns from 10 runs,\\n\\\n",
    "Top 10/Bottom 10 Stocks Each Portfolio', fontsize=15)\n",
    "\n",
    "plt.ylabel('Returns %', fontsize=15)\n",
    "plt.grid()"
   ]
  },
  {
   "cell_type": "markdown",
   "id": "7fc32514",
   "metadata": {},
   "source": [
    "We want to see a good separation from the top 10 returns and the bottom 10 returns, so it seems like the Random Forest performs very well here."
   ]
  },
  {
   "cell_type": "code",
   "execution_count": 65,
   "id": "b7ae30a6",
   "metadata": {},
   "outputs": [
    {
     "data": {
      "text/plain": [
       "array([[ 4.52599230e+01,  3.25168541e-02,  5.09709771e+01,\n",
       "         4.40183108e+00,  3.61611571e+01, -1.16812422e+01,\n",
       "         2.81245913e+00, -8.90105343e-03, -2.83735913e-03,\n",
       "         2.45319449e+00,  2.70134084e+00,  1.57802198e+00,\n",
       "         2.65753009e+01,  3.98067819e-01,  2.04719349e-01,\n",
       "        -5.29406665e-01, -5.04395118e-03,  1.60197986e+00]])"
      ]
     },
     "execution_count": 65,
     "metadata": {},
     "output_type": "execute_result"
    },
    {
     "name": "stdout",
     "output_type": "stream",
     "text": [
      "time: 0 ns (started: 2022-10-11 21:35:34 +08:00)\n"
     ]
    }
   ],
   "source": [
    "# Variables from an average company\n",
    "X.mean().values.reshape(1,-1)"
   ]
  },
  {
   "cell_type": "code",
   "execution_count": 66,
   "id": "bd411bda",
   "metadata": {},
   "outputs": [
    {
     "data": {
      "text/plain": [
       "array([0.47976558])"
      ]
     },
     "execution_count": 66,
     "metadata": {},
     "output_type": "execute_result"
    },
    {
     "name": "stdout",
     "output_type": "stream",
     "text": [
      "time: 16 ms (started: 2022-10-11 21:35:34 +08:00)\n"
     ]
    }
   ],
   "source": [
    "# If we pass this variables to the RandomForest algorithm, it should give us an average return\n",
    "avg_company = pd.DataFrame(X.mean().values.reshape(1,-1), columns=X.columns)\n",
    "rf.predict(avg_company)"
   ]
  },
  {
   "cell_type": "markdown",
   "id": "0f72bd92",
   "metadata": {},
   "source": [
    "Looks a little high, as it is saying that an average company should return 47% annually."
   ]
  }
 ],
 "metadata": {
  "kernelspec": {
   "display_name": "Python 3 (ipykernel)",
   "language": "python",
   "name": "python3"
  },
  "language_info": {
   "codemirror_mode": {
    "name": "ipython",
    "version": 3
   },
   "file_extension": ".py",
   "mimetype": "text/x-python",
   "name": "python",
   "nbconvert_exporter": "python",
   "pygments_lexer": "ipython3",
   "version": "3.9.7"
  }
 },
 "nbformat": 4,
 "nbformat_minor": 5
}
