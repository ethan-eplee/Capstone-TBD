{
 "cells": [
  {
   "cell_type": "code",
   "execution_count": 1,
   "id": "925a5db6",
   "metadata": {},
   "outputs": [
    {
     "name": "stdout",
     "output_type": "stream",
     "text": [
      "time: 1.39 s (started: 2022-10-13 14:18:19 +08:00)\n"
     ]
    }
   ],
   "source": [
    "%load_ext autotime\n",
    "import pandas as pd\n",
    "import numpy as np\n",
    "import matplotlib.pyplot as plt\n",
    "import seaborn as sns\n",
    "\n",
    "import pickle\n",
    "import time\n",
    "\n",
    "from sklearn.model_selection import train_test_split\n",
    "from sklearn.model_selection import learning_curve\n",
    "from sklearn.model_selection import ShuffleSplit\n",
    "\n",
    "from sklearn.linear_model import LinearRegression\n",
    "from sklearn.linear_model import ElasticNet\n",
    "\n",
    "from sklearn.neighbors import KNeighborsRegressor\n",
    "from sklearn.tree import DecisionTreeRegressor\n",
    "from sklearn.ensemble import RandomForestRegressor\n",
    "\n",
    "from sklearn.preprocessing import PowerTransformer\n",
    "from sklearn.preprocessing import StandardScaler, MinMaxScaler \n",
    "\n",
    "from sklearn.pipeline import Pipeline\n",
    "from sklearn.metrics import mean_squared_error"
   ]
  },
  {
   "cell_type": "code",
   "execution_count": 2,
   "id": "19a7c2f6",
   "metadata": {},
   "outputs": [
    {
     "name": "stdout",
     "output_type": "stream",
     "text": [
      "time: 0 ns (started: 2022-10-13 14:18:20 +08:00)\n"
     ]
    }
   ],
   "source": [
    "# from previous notebook, we have saved all the financial ratios and its corresponding annual returns\n",
    "# total of 29,650 rows\n",
    "x = pickle.load(open('./data/03_finratios.pkl', 'rb'))\n",
    "y = pickle.load(open('./data/03_returns.pkl', 'rb'))"
   ]
  },
  {
   "cell_type": "code",
   "execution_count": 3,
   "id": "bd5f60b4",
   "metadata": {
    "scrolled": false
   },
   "outputs": [
    {
     "name": "stdout",
     "output_type": "stream",
     "text": [
      "<class 'pandas.core.frame.DataFrame'>\n",
      "RangeIndex: 29650 entries, 0 to 29649\n",
      "Data columns (total 23 columns):\n",
      " #   Column         Non-Null Count  Dtype  \n",
      "---  ------         --------------  -----  \n",
      " 0   CR             29650 non-null  float64\n",
      " 1   Acid           29650 non-null  float64\n",
      " 2   CashRatio      29650 non-null  float64\n",
      " 3   InvTO          29650 non-null  float64\n",
      " 4   AssetTurnover  29650 non-null  float64\n",
      " 5   NWC_TO         29650 non-null  float64\n",
      " 6   PM             29650 non-null  float64\n",
      " 7   GPM            29650 non-null  float64\n",
      " 8   ROE            29650 non-null  float64\n",
      " 9   ROCE           29650 non-null  float64\n",
      " 10  PE             29650 non-null  float64\n",
      " 11  PB             29650 non-null  float64\n",
      " 12  PS             29650 non-null  float64\n",
      " 13  EV_EBIT        29650 non-null  float64\n",
      " 14  DE             29650 non-null  float64\n",
      " 15  DebtRatio      29650 non-null  float64\n",
      " 16  ICR            29650 non-null  float64\n",
      " 17  Equity_Liab    29650 non-null  float64\n",
      " 18  WorkingCap     29650 non-null  float64\n",
      " 19  OI_NWCFA       29650 non-null  float64\n",
      " 20  WC_TA          29650 non-null  float64\n",
      " 21  RE_TA          29650 non-null  float64\n",
      " 22  EBIT_TA        29650 non-null  float64\n",
      "dtypes: float64(23)\n",
      "memory usage: 5.2 MB\n",
      "time: 0 ns (started: 2022-10-13 14:18:20 +08:00)\n"
     ]
    }
   ],
   "source": [
    "# view the x dataframe containing the financial ratios\n",
    "x.info()"
   ]
  },
  {
   "cell_type": "code",
   "execution_count": 4,
   "id": "8c696c59",
   "metadata": {},
   "outputs": [
    {
     "data": {
      "text/html": [
       "<div>\n",
       "<style scoped>\n",
       "    .dataframe tbody tr th:only-of-type {\n",
       "        vertical-align: middle;\n",
       "    }\n",
       "\n",
       "    .dataframe tbody tr th {\n",
       "        vertical-align: top;\n",
       "    }\n",
       "\n",
       "    .dataframe thead th {\n",
       "        text-align: right;\n",
       "    }\n",
       "</style>\n",
       "<table border=\"1\" class=\"dataframe\">\n",
       "  <thead>\n",
       "    <tr style=\"text-align: right;\">\n",
       "      <th></th>\n",
       "      <th>Ticker</th>\n",
       "      <th>Returns</th>\n",
       "    </tr>\n",
       "  </thead>\n",
       "  <tbody>\n",
       "    <tr>\n",
       "      <th>0</th>\n",
       "      <td>A</td>\n",
       "      <td>0.563351</td>\n",
       "    </tr>\n",
       "    <tr>\n",
       "      <th>1</th>\n",
       "      <td>A</td>\n",
       "      <td>0.535595</td>\n",
       "    </tr>\n",
       "    <tr>\n",
       "      <th>2</th>\n",
       "      <td>A</td>\n",
       "      <td>0.198018</td>\n",
       "    </tr>\n",
       "    <tr>\n",
       "      <th>3</th>\n",
       "      <td>A</td>\n",
       "      <td>0.076426</td>\n",
       "    </tr>\n",
       "    <tr>\n",
       "      <th>4</th>\n",
       "      <td>A</td>\n",
       "      <td>-0.050044</td>\n",
       "    </tr>\n",
       "    <tr>\n",
       "      <th>...</th>\n",
       "      <td>...</td>\n",
       "      <td>...</td>\n",
       "    </tr>\n",
       "    <tr>\n",
       "      <th>29645</th>\n",
       "      <td>ZYXI</td>\n",
       "      <td>0.772254</td>\n",
       "    </tr>\n",
       "    <tr>\n",
       "      <th>29646</th>\n",
       "      <td>ZYXI</td>\n",
       "      <td>0.701262</td>\n",
       "    </tr>\n",
       "    <tr>\n",
       "      <th>29647</th>\n",
       "      <td>ZYXI</td>\n",
       "      <td>0.400618</td>\n",
       "    </tr>\n",
       "    <tr>\n",
       "      <th>29648</th>\n",
       "      <td>ZYXI</td>\n",
       "      <td>-0.325537</td>\n",
       "    </tr>\n",
       "    <tr>\n",
       "      <th>29649</th>\n",
       "      <td>ZYXI</td>\n",
       "      <td>-0.319614</td>\n",
       "    </tr>\n",
       "  </tbody>\n",
       "</table>\n",
       "<p>29650 rows × 2 columns</p>\n",
       "</div>"
      ],
      "text/plain": [
       "      Ticker   Returns\n",
       "0          A  0.563351\n",
       "1          A  0.535595\n",
       "2          A  0.198018\n",
       "3          A  0.076426\n",
       "4          A -0.050044\n",
       "...      ...       ...\n",
       "29645   ZYXI  0.772254\n",
       "29646   ZYXI  0.701262\n",
       "29647   ZYXI  0.400618\n",
       "29648   ZYXI -0.325537\n",
       "29649   ZYXI -0.319614\n",
       "\n",
       "[29650 rows x 2 columns]"
      ]
     },
     "execution_count": 4,
     "metadata": {},
     "output_type": "execute_result"
    },
    {
     "name": "stdout",
     "output_type": "stream",
     "text": [
      "time: 0 ns (started: 2022-10-13 14:18:20 +08:00)\n"
     ]
    }
   ],
   "source": [
    "y"
   ]
  },
  {
   "cell_type": "code",
   "execution_count": 5,
   "id": "5eff3fbd",
   "metadata": {},
   "outputs": [
    {
     "data": {
      "text/plain": [
       "0        0.563351\n",
       "1        0.535595\n",
       "2        0.198018\n",
       "3        0.076426\n",
       "4       -0.050044\n",
       "           ...   \n",
       "29645    0.772254\n",
       "29646    0.701262\n",
       "29647    0.400618\n",
       "29648   -0.325537\n",
       "29649   -0.319614\n",
       "Name: Returns, Length: 29650, dtype: float64"
      ]
     },
     "execution_count": 5,
     "metadata": {},
     "output_type": "execute_result"
    },
    {
     "name": "stdout",
     "output_type": "stream",
     "text": [
      "time: 0 ns (started: 2022-10-13 14:18:20 +08:00)\n"
     ]
    }
   ],
   "source": [
    "# Store the target returns temporarily\n",
    "returns = y['Returns']\n",
    "returns = returns.astype('float64')\n",
    "returns"
   ]
  },
  {
   "cell_type": "code",
   "execution_count": 6,
   "id": "74734f43",
   "metadata": {
    "scrolled": true
   },
   "outputs": [
    {
     "name": "stdout",
     "output_type": "stream",
     "text": [
      "time: 16 ms (started: 2022-10-13 14:18:20 +08:00)\n"
     ]
    }
   ],
   "source": [
    "# Add the Returns column from y to the x dataframe\n",
    "x['Returns'] = returns\n",
    "\n",
    "# Drop the null rows (if any) and reset index\n",
    "x = x.dropna(axis=0)\n",
    "x = x.reset_index(drop=True)\n",
    "\n",
    "# Randomise the rows for train-test-split\n",
    "# Specify frac=1 because we want all the rows back\n",
    "x = x.sample(frac=1, random_state=42)"
   ]
  },
  {
   "cell_type": "markdown",
   "id": "f051075c",
   "metadata": {},
   "source": [
    "After randomizing the rows in the x dataframe (with the targets), we want to split back dataset into x and y"
   ]
  },
  {
   "cell_type": "code",
   "execution_count": 7,
   "id": "21455854",
   "metadata": {},
   "outputs": [
    {
     "data": {
      "text/html": [
       "<div>\n",
       "<style scoped>\n",
       "    .dataframe tbody tr th:only-of-type {\n",
       "        vertical-align: middle;\n",
       "    }\n",
       "\n",
       "    .dataframe tbody tr th {\n",
       "        vertical-align: top;\n",
       "    }\n",
       "\n",
       "    .dataframe thead th {\n",
       "        text-align: right;\n",
       "    }\n",
       "</style>\n",
       "<table border=\"1\" class=\"dataframe\">\n",
       "  <thead>\n",
       "    <tr style=\"text-align: right;\">\n",
       "      <th></th>\n",
       "      <th>CR</th>\n",
       "      <th>Acid</th>\n",
       "      <th>CashRatio</th>\n",
       "      <th>InvTO</th>\n",
       "      <th>AssetTurnover</th>\n",
       "      <th>NWC_TO</th>\n",
       "      <th>PM</th>\n",
       "      <th>GPM</th>\n",
       "      <th>ROE</th>\n",
       "      <th>ROCE</th>\n",
       "      <th>...</th>\n",
       "      <th>DE</th>\n",
       "      <th>DebtRatio</th>\n",
       "      <th>ICR</th>\n",
       "      <th>Equity_Liab</th>\n",
       "      <th>WorkingCap</th>\n",
       "      <th>OI_NWCFA</th>\n",
       "      <th>WC_TA</th>\n",
       "      <th>RE_TA</th>\n",
       "      <th>EBIT_TA</th>\n",
       "      <th>Returns</th>\n",
       "    </tr>\n",
       "  </thead>\n",
       "  <tbody>\n",
       "    <tr>\n",
       "      <th>25628</th>\n",
       "      <td>1.605372</td>\n",
       "      <td>1.605372</td>\n",
       "      <td>0.011801</td>\n",
       "      <td>0.0</td>\n",
       "      <td>1.334186</td>\n",
       "      <td>2.638366</td>\n",
       "      <td>0.143161</td>\n",
       "      <td>0.455618</td>\n",
       "      <td>0.052645</td>\n",
       "      <td>0.010073</td>\n",
       "      <td>...</td>\n",
       "      <td>2.788468</td>\n",
       "      <td>1.358620</td>\n",
       "      <td>2.708548</td>\n",
       "      <td>0.358620</td>\n",
       "      <td>1.605372</td>\n",
       "      <td>0.215433</td>\n",
       "      <td>0.036790</td>\n",
       "      <td>1.218756</td>\n",
       "      <td>0.009461</td>\n",
       "      <td>-0.206629</td>\n",
       "    </tr>\n",
       "    <tr>\n",
       "      <th>7249</th>\n",
       "      <td>1.498312</td>\n",
       "      <td>0.711767</td>\n",
       "      <td>0.423275</td>\n",
       "      <td>0.0</td>\n",
       "      <td>1.788779</td>\n",
       "      <td>1.850493</td>\n",
       "      <td>0.000000</td>\n",
       "      <td>0.090585</td>\n",
       "      <td>-0.019255</td>\n",
       "      <td>-0.020809</td>\n",
       "      <td>...</td>\n",
       "      <td>1.176810</td>\n",
       "      <td>1.849755</td>\n",
       "      <td>-45.656325</td>\n",
       "      <td>0.849755</td>\n",
       "      <td>1.498312</td>\n",
       "      <td>-0.154405</td>\n",
       "      <td>0.245963</td>\n",
       "      <td>-0.014983</td>\n",
       "      <td>-0.010538</td>\n",
       "      <td>3.016790</td>\n",
       "    </tr>\n",
       "    <tr>\n",
       "      <th>9043</th>\n",
       "      <td>1.797912</td>\n",
       "      <td>1.349417</td>\n",
       "      <td>0.479910</td>\n",
       "      <td>0.0</td>\n",
       "      <td>2.919091</td>\n",
       "      <td>1.052978</td>\n",
       "      <td>0.018086</td>\n",
       "      <td>0.349227</td>\n",
       "      <td>0.010122</td>\n",
       "      <td>-0.000597</td>\n",
       "      <td>...</td>\n",
       "      <td>1.886285</td>\n",
       "      <td>1.530143</td>\n",
       "      <td>2.834975</td>\n",
       "      <td>0.530143</td>\n",
       "      <td>1.797912</td>\n",
       "      <td>0.057048</td>\n",
       "      <td>0.184143</td>\n",
       "      <td>0.802735</td>\n",
       "      <td>-0.000459</td>\n",
       "      <td>-0.053788</td>\n",
       "    </tr>\n",
       "    <tr>\n",
       "      <th>8164</th>\n",
       "      <td>0.456019</td>\n",
       "      <td>0.317251</td>\n",
       "      <td>0.180810</td>\n",
       "      <td>0.0</td>\n",
       "      <td>0.851384</td>\n",
       "      <td>0.000000</td>\n",
       "      <td>0.063993</td>\n",
       "      <td>0.226507</td>\n",
       "      <td>0.058905</td>\n",
       "      <td>0.036372</td>\n",
       "      <td>...</td>\n",
       "      <td>1.518104</td>\n",
       "      <td>1.658716</td>\n",
       "      <td>14.800000</td>\n",
       "      <td>0.658716</td>\n",
       "      <td>0.456019</td>\n",
       "      <td>0.108339</td>\n",
       "      <td>-0.132513</td>\n",
       "      <td>0.105833</td>\n",
       "      <td>0.027512</td>\n",
       "      <td>0.015873</td>\n",
       "    </tr>\n",
       "    <tr>\n",
       "      <th>26082</th>\n",
       "      <td>1.118243</td>\n",
       "      <td>0.849810</td>\n",
       "      <td>0.223240</td>\n",
       "      <td>0.0</td>\n",
       "      <td>2.330795</td>\n",
       "      <td>5.000000</td>\n",
       "      <td>0.107215</td>\n",
       "      <td>0.468250</td>\n",
       "      <td>0.266111</td>\n",
       "      <td>0.058303</td>\n",
       "      <td>...</td>\n",
       "      <td>6.574310</td>\n",
       "      <td>1.152107</td>\n",
       "      <td>8.726368</td>\n",
       "      <td>0.152107</td>\n",
       "      <td>1.118243</td>\n",
       "      <td>0.288867</td>\n",
       "      <td>0.035133</td>\n",
       "      <td>0.000000</td>\n",
       "      <td>0.040979</td>\n",
       "      <td>1.181818</td>\n",
       "    </tr>\n",
       "    <tr>\n",
       "      <th>...</th>\n",
       "      <td>...</td>\n",
       "      <td>...</td>\n",
       "      <td>...</td>\n",
       "      <td>...</td>\n",
       "      <td>...</td>\n",
       "      <td>...</td>\n",
       "      <td>...</td>\n",
       "      <td>...</td>\n",
       "      <td>...</td>\n",
       "      <td>...</td>\n",
       "      <td>...</td>\n",
       "      <td>...</td>\n",
       "      <td>...</td>\n",
       "      <td>...</td>\n",
       "      <td>...</td>\n",
       "      <td>...</td>\n",
       "      <td>...</td>\n",
       "      <td>...</td>\n",
       "      <td>...</td>\n",
       "      <td>...</td>\n",
       "      <td>...</td>\n",
       "    </tr>\n",
       "    <tr>\n",
       "      <th>21575</th>\n",
       "      <td>1.923444</td>\n",
       "      <td>1.869230</td>\n",
       "      <td>0.092680</td>\n",
       "      <td>0.0</td>\n",
       "      <td>1.923501</td>\n",
       "      <td>1.798922</td>\n",
       "      <td>0.045816</td>\n",
       "      <td>0.130264</td>\n",
       "      <td>0.029919</td>\n",
       "      <td>0.007506</td>\n",
       "      <td>...</td>\n",
       "      <td>0.707267</td>\n",
       "      <td>2.413892</td>\n",
       "      <td>16.459255</td>\n",
       "      <td>1.413892</td>\n",
       "      <td>1.923444</td>\n",
       "      <td>0.039919</td>\n",
       "      <td>0.212625</td>\n",
       "      <td>0.338118</td>\n",
       "      <td>0.005778</td>\n",
       "      <td>-0.236701</td>\n",
       "    </tr>\n",
       "    <tr>\n",
       "      <th>5390</th>\n",
       "      <td>1.291864</td>\n",
       "      <td>1.291864</td>\n",
       "      <td>0.928858</td>\n",
       "      <td>0.0</td>\n",
       "      <td>0.567539</td>\n",
       "      <td>4.742500</td>\n",
       "      <td>0.271745</td>\n",
       "      <td>0.775171</td>\n",
       "      <td>0.227493</td>\n",
       "      <td>0.088717</td>\n",
       "      <td>...</td>\n",
       "      <td>2.743601</td>\n",
       "      <td>1.364484</td>\n",
       "      <td>14.298969</td>\n",
       "      <td>0.364484</td>\n",
       "      <td>1.291864</td>\n",
       "      <td>0.185304</td>\n",
       "      <td>0.047153</td>\n",
       "      <td>0.264116</td>\n",
       "      <td>0.074384</td>\n",
       "      <td>0.182829</td>\n",
       "    </tr>\n",
       "    <tr>\n",
       "      <th>860</th>\n",
       "      <td>0.020949</td>\n",
       "      <td>0.020949</td>\n",
       "      <td>0.000762</td>\n",
       "      <td>0.0</td>\n",
       "      <td>2000.000000</td>\n",
       "      <td>0.000000</td>\n",
       "      <td>0.000000</td>\n",
       "      <td>1.000000</td>\n",
       "      <td>0.134454</td>\n",
       "      <td>0.134454</td>\n",
       "      <td>...</td>\n",
       "      <td>0.000000</td>\n",
       "      <td>0.020949</td>\n",
       "      <td>600.000000</td>\n",
       "      <td>-0.979051</td>\n",
       "      <td>0.020949</td>\n",
       "      <td>0.172615</td>\n",
       "      <td>-1.500000</td>\n",
       "      <td>0.000000</td>\n",
       "      <td>-2.000000</td>\n",
       "      <td>-0.850000</td>\n",
       "    </tr>\n",
       "    <tr>\n",
       "      <th>15795</th>\n",
       "      <td>0.803855</td>\n",
       "      <td>0.803855</td>\n",
       "      <td>0.695407</td>\n",
       "      <td>0.0</td>\n",
       "      <td>0.035870</td>\n",
       "      <td>0.000000</td>\n",
       "      <td>0.237310</td>\n",
       "      <td>0.768409</td>\n",
       "      <td>0.016300</td>\n",
       "      <td>0.003655</td>\n",
       "      <td>...</td>\n",
       "      <td>1.060456</td>\n",
       "      <td>1.942990</td>\n",
       "      <td>2.726626</td>\n",
       "      <td>0.942990</td>\n",
       "      <td>0.803855</td>\n",
       "      <td>0.012942</td>\n",
       "      <td>-0.006632</td>\n",
       "      <td>0.000000</td>\n",
       "      <td>0.003531</td>\n",
       "      <td>0.633980</td>\n",
       "    </tr>\n",
       "    <tr>\n",
       "      <th>23654</th>\n",
       "      <td>7.002290</td>\n",
       "      <td>7.002290</td>\n",
       "      <td>6.290053</td>\n",
       "      <td>0.0</td>\n",
       "      <td>0.000000</td>\n",
       "      <td>0.000000</td>\n",
       "      <td>0.000000</td>\n",
       "      <td>0.000000</td>\n",
       "      <td>-0.143298</td>\n",
       "      <td>-0.145293</td>\n",
       "      <td>...</td>\n",
       "      <td>0.144934</td>\n",
       "      <td>7.899683</td>\n",
       "      <td>-600.000000</td>\n",
       "      <td>6.899683</td>\n",
       "      <td>7.002290</td>\n",
       "      <td>-0.156950</td>\n",
       "      <td>0.755676</td>\n",
       "      <td>-9.743165</td>\n",
       "      <td>-0.127001</td>\n",
       "      <td>-0.564417</td>\n",
       "    </tr>\n",
       "  </tbody>\n",
       "</table>\n",
       "<p>29650 rows × 24 columns</p>\n",
       "</div>"
      ],
      "text/plain": [
       "             CR      Acid  CashRatio  InvTO  AssetTurnover    NWC_TO  \\\n",
       "25628  1.605372  1.605372   0.011801    0.0       1.334186  2.638366   \n",
       "7249   1.498312  0.711767   0.423275    0.0       1.788779  1.850493   \n",
       "9043   1.797912  1.349417   0.479910    0.0       2.919091  1.052978   \n",
       "8164   0.456019  0.317251   0.180810    0.0       0.851384  0.000000   \n",
       "26082  1.118243  0.849810   0.223240    0.0       2.330795  5.000000   \n",
       "...         ...       ...        ...    ...            ...       ...   \n",
       "21575  1.923444  1.869230   0.092680    0.0       1.923501  1.798922   \n",
       "5390   1.291864  1.291864   0.928858    0.0       0.567539  4.742500   \n",
       "860    0.020949  0.020949   0.000762    0.0    2000.000000  0.000000   \n",
       "15795  0.803855  0.803855   0.695407    0.0       0.035870  0.000000   \n",
       "23654  7.002290  7.002290   6.290053    0.0       0.000000  0.000000   \n",
       "\n",
       "             PM       GPM       ROE      ROCE  ...        DE  DebtRatio  \\\n",
       "25628  0.143161  0.455618  0.052645  0.010073  ...  2.788468   1.358620   \n",
       "7249   0.000000  0.090585 -0.019255 -0.020809  ...  1.176810   1.849755   \n",
       "9043   0.018086  0.349227  0.010122 -0.000597  ...  1.886285   1.530143   \n",
       "8164   0.063993  0.226507  0.058905  0.036372  ...  1.518104   1.658716   \n",
       "26082  0.107215  0.468250  0.266111  0.058303  ...  6.574310   1.152107   \n",
       "...         ...       ...       ...       ...  ...       ...        ...   \n",
       "21575  0.045816  0.130264  0.029919  0.007506  ...  0.707267   2.413892   \n",
       "5390   0.271745  0.775171  0.227493  0.088717  ...  2.743601   1.364484   \n",
       "860    0.000000  1.000000  0.134454  0.134454  ...  0.000000   0.020949   \n",
       "15795  0.237310  0.768409  0.016300  0.003655  ...  1.060456   1.942990   \n",
       "23654  0.000000  0.000000 -0.143298 -0.145293  ...  0.144934   7.899683   \n",
       "\n",
       "              ICR  Equity_Liab  WorkingCap  OI_NWCFA     WC_TA     RE_TA  \\\n",
       "25628    2.708548     0.358620    1.605372  0.215433  0.036790  1.218756   \n",
       "7249   -45.656325     0.849755    1.498312 -0.154405  0.245963 -0.014983   \n",
       "9043     2.834975     0.530143    1.797912  0.057048  0.184143  0.802735   \n",
       "8164    14.800000     0.658716    0.456019  0.108339 -0.132513  0.105833   \n",
       "26082    8.726368     0.152107    1.118243  0.288867  0.035133  0.000000   \n",
       "...           ...          ...         ...       ...       ...       ...   \n",
       "21575   16.459255     1.413892    1.923444  0.039919  0.212625  0.338118   \n",
       "5390    14.298969     0.364484    1.291864  0.185304  0.047153  0.264116   \n",
       "860    600.000000    -0.979051    0.020949  0.172615 -1.500000  0.000000   \n",
       "15795    2.726626     0.942990    0.803855  0.012942 -0.006632  0.000000   \n",
       "23654 -600.000000     6.899683    7.002290 -0.156950  0.755676 -9.743165   \n",
       "\n",
       "        EBIT_TA   Returns  \n",
       "25628  0.009461 -0.206629  \n",
       "7249  -0.010538  3.016790  \n",
       "9043  -0.000459 -0.053788  \n",
       "8164   0.027512  0.015873  \n",
       "26082  0.040979  1.181818  \n",
       "...         ...       ...  \n",
       "21575  0.005778 -0.236701  \n",
       "5390   0.074384  0.182829  \n",
       "860   -2.000000 -0.850000  \n",
       "15795  0.003531  0.633980  \n",
       "23654 -0.127001 -0.564417  \n",
       "\n",
       "[29650 rows x 24 columns]"
      ]
     },
     "execution_count": 7,
     "metadata": {},
     "output_type": "execute_result"
    },
    {
     "name": "stdout",
     "output_type": "stream",
     "text": [
      "time: 16 ms (started: 2022-10-13 14:18:20 +08:00)\n"
     ]
    }
   ],
   "source": [
    "# There should still be 29650 rows, but this time the \"Returns\" column is inside as the target variable.\n",
    "x"
   ]
  },
  {
   "cell_type": "code",
   "execution_count": 8,
   "id": "a164cf79",
   "metadata": {
    "scrolled": true
   },
   "outputs": [
    {
     "name": "stdout",
     "output_type": "stream",
     "text": [
      "time: 0 ns (started: 2022-10-13 14:18:20 +08:00)\n"
     ]
    }
   ],
   "source": [
    "# Split properly into X and y again\n",
    "y = x['Returns']\n",
    "X = x.drop(columns='Returns')"
   ]
  },
  {
   "cell_type": "code",
   "execution_count": 9,
   "id": "51ea6b69",
   "metadata": {
    "scrolled": true
   },
   "outputs": [
    {
     "data": {
      "text/plain": [
       "25628   -0.206629\n",
       "7249     3.016790\n",
       "9043    -0.053788\n",
       "8164     0.015873\n",
       "26082    1.181818\n",
       "Name: Returns, dtype: float64"
      ]
     },
     "execution_count": 9,
     "metadata": {},
     "output_type": "execute_result"
    },
    {
     "name": "stdout",
     "output_type": "stream",
     "text": [
      "time: 0 ns (started: 2022-10-13 14:18:20 +08:00)\n"
     ]
    }
   ],
   "source": [
    "y.head()"
   ]
  },
  {
   "cell_type": "code",
   "execution_count": 10,
   "id": "f9f190ac",
   "metadata": {},
   "outputs": [
    {
     "data": {
      "text/html": [
       "<div>\n",
       "<style scoped>\n",
       "    .dataframe tbody tr th:only-of-type {\n",
       "        vertical-align: middle;\n",
       "    }\n",
       "\n",
       "    .dataframe tbody tr th {\n",
       "        vertical-align: top;\n",
       "    }\n",
       "\n",
       "    .dataframe thead th {\n",
       "        text-align: right;\n",
       "    }\n",
       "</style>\n",
       "<table border=\"1\" class=\"dataframe\">\n",
       "  <thead>\n",
       "    <tr style=\"text-align: right;\">\n",
       "      <th></th>\n",
       "      <th>CR</th>\n",
       "      <th>Acid</th>\n",
       "      <th>CashRatio</th>\n",
       "      <th>InvTO</th>\n",
       "      <th>AssetTurnover</th>\n",
       "      <th>NWC_TO</th>\n",
       "      <th>PM</th>\n",
       "      <th>GPM</th>\n",
       "      <th>ROE</th>\n",
       "      <th>ROCE</th>\n",
       "      <th>...</th>\n",
       "      <th>EV_EBIT</th>\n",
       "      <th>DE</th>\n",
       "      <th>DebtRatio</th>\n",
       "      <th>ICR</th>\n",
       "      <th>Equity_Liab</th>\n",
       "      <th>WorkingCap</th>\n",
       "      <th>OI_NWCFA</th>\n",
       "      <th>WC_TA</th>\n",
       "      <th>RE_TA</th>\n",
       "      <th>EBIT_TA</th>\n",
       "    </tr>\n",
       "  </thead>\n",
       "  <tbody>\n",
       "    <tr>\n",
       "      <th>25628</th>\n",
       "      <td>1.605372</td>\n",
       "      <td>1.605372</td>\n",
       "      <td>0.011801</td>\n",
       "      <td>0.0</td>\n",
       "      <td>1.334186</td>\n",
       "      <td>2.638366</td>\n",
       "      <td>0.143161</td>\n",
       "      <td>0.455618</td>\n",
       "      <td>0.052645</td>\n",
       "      <td>0.010073</td>\n",
       "      <td>...</td>\n",
       "      <td>118.480014</td>\n",
       "      <td>2.788468</td>\n",
       "      <td>1.358620</td>\n",
       "      <td>2.708548</td>\n",
       "      <td>0.358620</td>\n",
       "      <td>1.605372</td>\n",
       "      <td>0.215433</td>\n",
       "      <td>0.036790</td>\n",
       "      <td>1.218756</td>\n",
       "      <td>0.009461</td>\n",
       "    </tr>\n",
       "    <tr>\n",
       "      <th>7249</th>\n",
       "      <td>1.498312</td>\n",
       "      <td>0.711767</td>\n",
       "      <td>0.423275</td>\n",
       "      <td>0.0</td>\n",
       "      <td>1.788779</td>\n",
       "      <td>1.850493</td>\n",
       "      <td>0.000000</td>\n",
       "      <td>0.090585</td>\n",
       "      <td>-0.019255</td>\n",
       "      <td>-0.020809</td>\n",
       "      <td>...</td>\n",
       "      <td>-26.891326</td>\n",
       "      <td>1.176810</td>\n",
       "      <td>1.849755</td>\n",
       "      <td>-45.656325</td>\n",
       "      <td>0.849755</td>\n",
       "      <td>1.498312</td>\n",
       "      <td>-0.154405</td>\n",
       "      <td>0.245963</td>\n",
       "      <td>-0.014983</td>\n",
       "      <td>-0.010538</td>\n",
       "    </tr>\n",
       "    <tr>\n",
       "      <th>9043</th>\n",
       "      <td>1.797912</td>\n",
       "      <td>1.349417</td>\n",
       "      <td>0.479910</td>\n",
       "      <td>0.0</td>\n",
       "      <td>2.919091</td>\n",
       "      <td>1.052978</td>\n",
       "      <td>0.018086</td>\n",
       "      <td>0.349227</td>\n",
       "      <td>0.010122</td>\n",
       "      <td>-0.000597</td>\n",
       "      <td>...</td>\n",
       "      <td>-500.000000</td>\n",
       "      <td>1.886285</td>\n",
       "      <td>1.530143</td>\n",
       "      <td>2.834975</td>\n",
       "      <td>0.530143</td>\n",
       "      <td>1.797912</td>\n",
       "      <td>0.057048</td>\n",
       "      <td>0.184143</td>\n",
       "      <td>0.802735</td>\n",
       "      <td>-0.000459</td>\n",
       "    </tr>\n",
       "    <tr>\n",
       "      <th>8164</th>\n",
       "      <td>0.456019</td>\n",
       "      <td>0.317251</td>\n",
       "      <td>0.180810</td>\n",
       "      <td>0.0</td>\n",
       "      <td>0.851384</td>\n",
       "      <td>0.000000</td>\n",
       "      <td>0.063993</td>\n",
       "      <td>0.226507</td>\n",
       "      <td>0.058905</td>\n",
       "      <td>0.036372</td>\n",
       "      <td>...</td>\n",
       "      <td>80.914183</td>\n",
       "      <td>1.518104</td>\n",
       "      <td>1.658716</td>\n",
       "      <td>14.800000</td>\n",
       "      <td>0.658716</td>\n",
       "      <td>0.456019</td>\n",
       "      <td>0.108339</td>\n",
       "      <td>-0.132513</td>\n",
       "      <td>0.105833</td>\n",
       "      <td>0.027512</td>\n",
       "    </tr>\n",
       "    <tr>\n",
       "      <th>26082</th>\n",
       "      <td>1.118243</td>\n",
       "      <td>0.849810</td>\n",
       "      <td>0.223240</td>\n",
       "      <td>0.0</td>\n",
       "      <td>2.330795</td>\n",
       "      <td>5.000000</td>\n",
       "      <td>0.107215</td>\n",
       "      <td>0.468250</td>\n",
       "      <td>0.266111</td>\n",
       "      <td>0.058303</td>\n",
       "      <td>...</td>\n",
       "      <td>44.045819</td>\n",
       "      <td>6.574310</td>\n",
       "      <td>1.152107</td>\n",
       "      <td>8.726368</td>\n",
       "      <td>0.152107</td>\n",
       "      <td>1.118243</td>\n",
       "      <td>0.288867</td>\n",
       "      <td>0.035133</td>\n",
       "      <td>0.000000</td>\n",
       "      <td>0.040979</td>\n",
       "    </tr>\n",
       "  </tbody>\n",
       "</table>\n",
       "<p>5 rows × 23 columns</p>\n",
       "</div>"
      ],
      "text/plain": [
       "             CR      Acid  CashRatio  InvTO  AssetTurnover    NWC_TO  \\\n",
       "25628  1.605372  1.605372   0.011801    0.0       1.334186  2.638366   \n",
       "7249   1.498312  0.711767   0.423275    0.0       1.788779  1.850493   \n",
       "9043   1.797912  1.349417   0.479910    0.0       2.919091  1.052978   \n",
       "8164   0.456019  0.317251   0.180810    0.0       0.851384  0.000000   \n",
       "26082  1.118243  0.849810   0.223240    0.0       2.330795  5.000000   \n",
       "\n",
       "             PM       GPM       ROE      ROCE  ...     EV_EBIT        DE  \\\n",
       "25628  0.143161  0.455618  0.052645  0.010073  ...  118.480014  2.788468   \n",
       "7249   0.000000  0.090585 -0.019255 -0.020809  ...  -26.891326  1.176810   \n",
       "9043   0.018086  0.349227  0.010122 -0.000597  ... -500.000000  1.886285   \n",
       "8164   0.063993  0.226507  0.058905  0.036372  ...   80.914183  1.518104   \n",
       "26082  0.107215  0.468250  0.266111  0.058303  ...   44.045819  6.574310   \n",
       "\n",
       "       DebtRatio        ICR  Equity_Liab  WorkingCap  OI_NWCFA     WC_TA  \\\n",
       "25628   1.358620   2.708548     0.358620    1.605372  0.215433  0.036790   \n",
       "7249    1.849755 -45.656325     0.849755    1.498312 -0.154405  0.245963   \n",
       "9043    1.530143   2.834975     0.530143    1.797912  0.057048  0.184143   \n",
       "8164    1.658716  14.800000     0.658716    0.456019  0.108339 -0.132513   \n",
       "26082   1.152107   8.726368     0.152107    1.118243  0.288867  0.035133   \n",
       "\n",
       "          RE_TA   EBIT_TA  \n",
       "25628  1.218756  0.009461  \n",
       "7249  -0.014983 -0.010538  \n",
       "9043   0.802735 -0.000459  \n",
       "8164   0.105833  0.027512  \n",
       "26082  0.000000  0.040979  \n",
       "\n",
       "[5 rows x 23 columns]"
      ]
     },
     "execution_count": 10,
     "metadata": {},
     "output_type": "execute_result"
    },
    {
     "name": "stdout",
     "output_type": "stream",
     "text": [
      "time: 0 ns (started: 2022-10-13 14:18:20 +08:00)\n"
     ]
    }
   ],
   "source": [
    "X.head()"
   ]
  },
  {
   "cell_type": "code",
   "execution_count": 11,
   "id": "31bd3acc",
   "metadata": {},
   "outputs": [
    {
     "data": {
      "text/plain": [
       "0.26660093623808423"
      ]
     },
     "execution_count": 11,
     "metadata": {},
     "output_type": "execute_result"
    },
    {
     "name": "stdout",
     "output_type": "stream",
     "text": [
      "time: 0 ns (started: 2022-10-13 14:18:20 +08:00)\n"
     ]
    }
   ],
   "source": [
    "# Just checking on the baseline annual returns\n",
    "y.mean()"
   ]
  },
  {
   "cell_type": "markdown",
   "id": "09eff955",
   "metadata": {},
   "source": [
    "# Model 1: Linear Regression\n",
    "Using this as a baseline model first"
   ]
  },
  {
   "cell_type": "code",
   "execution_count": 12,
   "id": "ce79aaac",
   "metadata": {},
   "outputs": [
    {
     "data": {
      "text/plain": [
       "(29650, 23)"
      ]
     },
     "execution_count": 12,
     "metadata": {},
     "output_type": "execute_result"
    },
    {
     "name": "stdout",
     "output_type": "stream",
     "text": [
      "time: 562 ms (started: 2022-10-13 14:18:20 +08:00)\n"
     ]
    }
   ],
   "source": [
    "MinMaxScaler().fit_transform(pd.DataFrame(PowerTransformer().fit_transform(X))).shape"
   ]
  },
  {
   "cell_type": "code",
   "execution_count": 13,
   "id": "44d6e823",
   "metadata": {},
   "outputs": [
    {
     "name": "stdout",
     "output_type": "stream",
     "text": [
      "X train:  (23720, 23)\n",
      "X test:  (5930, 23)\n",
      "y train:  (23720,)\n",
      "y test:  (5930,)\n",
      "time: 0 ns (started: 2022-10-13 14:18:21 +08:00)\n"
     ]
    }
   ],
   "source": [
    "# We can try with a 80-20 train test split first\n",
    "X_train, X_test, y_train, y_test = train_test_split(X, y, test_size=0.2, random_state=42)\n",
    "print('X train: ', X_train.shape)\n",
    "print('X test: ', X_test.shape)\n",
    "print('y train: ', y_train.shape)\n",
    "print('y test: ', y_test.shape)"
   ]
  },
  {
   "cell_type": "code",
   "execution_count": 14,
   "id": "8912b0cb",
   "metadata": {},
   "outputs": [
    {
     "name": "stdout",
     "output_type": "stream",
     "text": [
      "time: 735 ms (started: 2022-10-13 14:18:21 +08:00)\n"
     ]
    }
   ],
   "source": [
    "# We save the train-test-split data first for reproducibility later\n",
    "X_train.to_csv(\"./data/04_ratios_train.csv\")\n",
    "X_test.to_csv(\"./data/04_ratios_test.csv\")\n",
    "y_train.to_csv(\"./data/04_returns_train.csv\")\n",
    "y_test.to_csv(\"./data/04_returns_test.csv\")"
   ]
  },
  {
   "cell_type": "code",
   "execution_count": 15,
   "id": "d0b7bb1e",
   "metadata": {},
   "outputs": [
    {
     "name": "stdout",
     "output_type": "stream",
     "text": [
      "time: 0 ns (started: 2022-10-13 14:18:22 +08:00)\n"
     ]
    }
   ],
   "source": [
    "# Define the pipeline\n",
    "# Remember we need to do PowerTransform first before applying our model\n",
    "pl_lr = Pipeline([\n",
    "    ('PowerTransform', PowerTransformer()),\n",
    "    ('lr', LinearRegression())\n",
    "])"
   ]
  },
  {
   "cell_type": "code",
   "execution_count": 16,
   "id": "3b116583",
   "metadata": {
    "scrolled": true
   },
   "outputs": [
    {
     "name": "stdout",
     "output_type": "stream",
     "text": [
      "time: 500 ms (started: 2022-10-13 14:18:22 +08:00)\n"
     ]
    }
   ],
   "source": [
    "pl_lr.fit(X_train, y_train)\n",
    "y_pred = pl_lr.predict(X_test)"
   ]
  },
  {
   "cell_type": "code",
   "execution_count": 17,
   "id": "7e0d613c",
   "metadata": {},
   "outputs": [
    {
     "name": "stdout",
     "output_type": "stream",
     "text": [
      "Train MSE: 1.811119931083946\n",
      "Test MSE: 0.9996231307550196\n",
      "Generalisation: 44.806%\n",
      "time: 31 ms (started: 2022-10-13 14:18:22 +08:00)\n"
     ]
    }
   ],
   "source": [
    "mse_train = mean_squared_error(y_train, pl_lr.predict(X_train), squared=True)\n",
    "mse_test = mean_squared_error(y_test, y_pred, squared=True)\n",
    "pct_diff = round((1-mse_test/mse_train)*100,3)\n",
    "\n",
    "print('Train MSE:', mse_train)\n",
    "print('Test MSE:', mse_test)\n",
    "print(f'Generalisation: {pct_diff}%')"
   ]
  },
  {
   "cell_type": "markdown",
   "id": "788fccba",
   "metadata": {},
   "source": [
    "### Using different test sizes and checking its effect on performance of the model"
   ]
  },
  {
   "cell_type": "markdown",
   "id": "bda461e7",
   "metadata": {},
   "source": [
    "We want to construct the learning curve for the model (where we increase size of learning set and see how predictive ability changes). A learning curve determines the cross-validated training and test scores for different training set sizes. Cross validation can either be K-fold or ShuffleSplit(), where we randomize rows before the train-test-split. This gives us a better idea of the predictive ability as we try to average many runs."
   ]
  },
  {
   "cell_type": "code",
   "execution_count": 18,
   "id": "0bd31387",
   "metadata": {},
   "outputs": [
    {
     "data": {
      "text/html": [
       "<div>\n",
       "<style scoped>\n",
       "    .dataframe tbody tr th:only-of-type {\n",
       "        vertical-align: middle;\n",
       "    }\n",
       "\n",
       "    .dataframe tbody tr th {\n",
       "        vertical-align: top;\n",
       "    }\n",
       "\n",
       "    .dataframe thead th {\n",
       "        text-align: right;\n",
       "    }\n",
       "</style>\n",
       "<table border=\"1\" class=\"dataframe\">\n",
       "  <thead>\n",
       "    <tr style=\"text-align: right;\">\n",
       "      <th></th>\n",
       "      <th>train_RMSE_mean</th>\n",
       "      <th>train_RMSE_std</th>\n",
       "      <th>test_RMSE_mean</th>\n",
       "      <th>test_RMSE_std</th>\n",
       "      <th>fit_times_mean</th>\n",
       "      <th>fit_times_std</th>\n",
       "    </tr>\n",
       "  </thead>\n",
       "  <tbody>\n",
       "    <tr>\n",
       "      <th>0.02</th>\n",
       "      <td>1.116401</td>\n",
       "      <td>0.437737</td>\n",
       "      <td>91095.476061</td>\n",
       "      <td>84943.796873</td>\n",
       "      <td>0.076774</td>\n",
       "      <td>0.016780</td>\n",
       "    </tr>\n",
       "    <tr>\n",
       "      <th>0.05</th>\n",
       "      <td>1.189321</td>\n",
       "      <td>0.389243</td>\n",
       "      <td>20965.536503</td>\n",
       "      <td>20004.485709</td>\n",
       "      <td>0.108187</td>\n",
       "      <td>0.022661</td>\n",
       "    </tr>\n",
       "    <tr>\n",
       "      <th>0.10</th>\n",
       "      <td>1.227273</td>\n",
       "      <td>0.339624</td>\n",
       "      <td>1700.715642</td>\n",
       "      <td>1656.521590</td>\n",
       "      <td>0.158510</td>\n",
       "      <td>0.035389</td>\n",
       "    </tr>\n",
       "    <tr>\n",
       "      <th>0.20</th>\n",
       "      <td>1.312146</td>\n",
       "      <td>0.301019</td>\n",
       "      <td>531.920709</td>\n",
       "      <td>524.575186</td>\n",
       "      <td>0.255656</td>\n",
       "      <td>0.047881</td>\n",
       "    </tr>\n",
       "    <tr>\n",
       "      <th>0.50</th>\n",
       "      <td>1.293479</td>\n",
       "      <td>0.151214</td>\n",
       "      <td>17.126319</td>\n",
       "      <td>16.580413</td>\n",
       "      <td>0.542206</td>\n",
       "      <td>0.068448</td>\n",
       "    </tr>\n",
       "    <tr>\n",
       "      <th>0.70</th>\n",
       "      <td>1.278901</td>\n",
       "      <td>0.114111</td>\n",
       "      <td>3.317009</td>\n",
       "      <td>2.919230</td>\n",
       "      <td>0.725701</td>\n",
       "      <td>0.102060</td>\n",
       "    </tr>\n",
       "    <tr>\n",
       "      <th>0.80</th>\n",
       "      <td>1.280531</td>\n",
       "      <td>0.094431</td>\n",
       "      <td>1.312820</td>\n",
       "      <td>0.273639</td>\n",
       "      <td>0.818097</td>\n",
       "      <td>0.089794</td>\n",
       "    </tr>\n",
       "    <tr>\n",
       "      <th>0.90</th>\n",
       "      <td>1.280087</td>\n",
       "      <td>0.083483</td>\n",
       "      <td>1.313316</td>\n",
       "      <td>0.275150</td>\n",
       "      <td>0.918776</td>\n",
       "      <td>0.120025</td>\n",
       "    </tr>\n",
       "  </tbody>\n",
       "</table>\n",
       "</div>"
      ],
      "text/plain": [
       "      train_RMSE_mean  train_RMSE_std  test_RMSE_mean  test_RMSE_std  \\\n",
       "0.02         1.116401        0.437737    91095.476061   84943.796873   \n",
       "0.05         1.189321        0.389243    20965.536503   20004.485709   \n",
       "0.10         1.227273        0.339624     1700.715642    1656.521590   \n",
       "0.20         1.312146        0.301019      531.920709     524.575186   \n",
       "0.50         1.293479        0.151214       17.126319      16.580413   \n",
       "0.70         1.278901        0.114111        3.317009       2.919230   \n",
       "0.80         1.280531        0.094431        1.312820       0.273639   \n",
       "0.90         1.280087        0.083483        1.313316       0.275150   \n",
       "\n",
       "      fit_times_mean  fit_times_std  \n",
       "0.02        0.076774       0.016780  \n",
       "0.05        0.108187       0.022661  \n",
       "0.10        0.158510       0.035389  \n",
       "0.20        0.255656       0.047881  \n",
       "0.50        0.542206       0.068448  \n",
       "0.70        0.725701       0.102060  \n",
       "0.80        0.818097       0.089794  \n",
       "0.90        0.918776       0.120025  "
      ]
     },
     "execution_count": 18,
     "metadata": {},
     "output_type": "execute_result"
    },
    {
     "name": "stdout",
     "output_type": "stream",
     "text": [
      "time: 51.8 s (started: 2022-10-13 14:18:22 +08:00)\n"
     ]
    }
   ],
   "source": [
    "# Plot the learning curve for different train sizes\n",
    "trainSizes = [0.02, 0.05, 0.1, 0.2, 0.5, 0.7, 0.8, 0.9]\n",
    "\n",
    "# Learning curve returns the following: train size, train scores, test scores, fit times, score times\n",
    "train_sizes, train_scores, test_scores, fit_times, score_times = \\\n",
    "learning_curve(pl_lr, X, y, cv=ShuffleSplit(n_splits=100, test_size=0.2, random_state=42),\n",
    "               scoring='neg_mean_squared_error', n_jobs=-1, train_sizes=trainSizes, return_times=True)\n",
    "\n",
    "# Create a DataFrame of results obtained above\n",
    "results_df = pd.DataFrame(index=trainSizes)\n",
    "results_df['train_RMSE_mean'] = np.sqrt(-np.mean(train_scores,axis=1))\n",
    "results_df['train_RMSE_std'] = np.std(np.sqrt(-train_scores), axis=1)\n",
    "results_df['test_RMSE_mean'] = np.sqrt(-np.mean(test_scores, axis=1))\n",
    "results_df['test_RMSE_std'] = np.std(np.sqrt(-test_scores), axis=1)\n",
    "results_df['fit_times_mean'] = np.mean(fit_times, axis=1)\n",
    "results_df['fit_times_std'] = np.std(fit_times, axis=1)\n",
    "results_df"
   ]
  },
  {
   "cell_type": "code",
   "execution_count": 19,
   "id": "2b74925d",
   "metadata": {},
   "outputs": [
    {
     "data": {
      "image/png": "[encoded data removed]",
      "text/plain": [
       "<Figure size 432x288 with 1 Axes>"
      ]
     },
     "metadata": {
      "needs_background": "light"
     },
     "output_type": "display_data"
    },
    {
     "name": "stdout",
     "output_type": "stream",
     "text": [
      "time: 141 ms (started: 2022-10-13 14:19:14 +08:00)\n"
     ]
    }
   ],
   "source": [
    "# Plot the train and test score for different train sizes\n",
    "results_df['train_RMSE_mean'].plot(style='-x')\n",
    "results_df['test_RMSE_mean'].plot(style='-x')\n",
    "\n",
    "plt.fill_between(results_df.index,\\\n",
    "                 results_df['train_RMSE_mean']-results_df['train_RMSE_std'],\\\n",
    "                 results_df['train_RMSE_mean']+results_df['train_RMSE_std'],\\\n",
    "                 alpha=0.2)\n",
    "\n",
    "plt.fill_between(results_df.index,\\\n",
    "                 results_df['test_RMSE_mean']-results_df['test_RMSE_std'],\\\n",
    "                 results_df['test_RMSE_mean']+results_df['test_RMSE_std'],\\\n",
    "                 alpha=0.2)\n",
    "\n",
    "plt.grid()\n",
    "plt.legend(['Train RMSE', 'Test RMSE'])\n",
    "plt.ylabel('RMSE')\n",
    "plt.xlabel('Training Size')\n",
    "plt.title('Linear Regression Learning Curve', fontsize=15)\n",
    "plt.ylim([-20, 100]);"
   ]
  },
  {
   "cell_type": "code",
   "execution_count": 20,
   "id": "c50851db",
   "metadata": {
    "scrolled": false
   },
   "outputs": [
    {
     "name": "stdout",
     "output_type": "stream",
     "text": [
      "time: 0 ns (started: 2022-10-13 14:19:14 +08:00)\n"
     ]
    }
   ],
   "source": [
    "# Draw scatter plot to see if prediction matches actual\n",
    "# Line of x=y will show perfect prediction (yellow dotted)\n",
    "# Also draw the best fit line for the scatter plot (green)\n",
    "\n",
    "def plotScatter(model_name, x_plot, y_plot, limit):\n",
    "    \n",
    "    # Plotting scatter\n",
    "    plt.scatter(x_plot, y_plot, s=1)\n",
    "    \n",
    "    # Drawing a best fit line\n",
    "    # Reshape the y_test and y_pred arrays\n",
    "    bestfit = LinearRegression().fit(x_plot.reshape(-1, 1), y_plot.reshape(-1, 1))\n",
    "    \n",
    "    # Specify any two points just to let the bestfit line predict\n",
    "    xx = [[-5],[5]]\n",
    "    yy = bestfit.predict(xx)\n",
    "    plt.plot(xx, yy, 'g')\n",
    "    \n",
    "    # Plot formatting\n",
    "    plt.grid()\n",
    "    plt.axhline(y=0, color='r', label='_nolegend_')\n",
    "    plt.axvline(x=0, color='r', label='_nolegend_')\n",
    "    plt.xlabel('Actual Return')\n",
    "    plt.ylabel('Predicted Return')\n",
    "    plt.plot([-100,100], [-100,100], 'y--')\n",
    "    plt.xlim([-limit, limit])\n",
    "    plt.ylim([-limit, limit])\n",
    "    plt.title(f'Scatter plot for {model_name}')\n",
    "    plt.legend(['Linear Fit Line', 'y=x Perfect Prediction Line', 'Prediction Points'])"
   ]
  },
  {
   "cell_type": "code",
   "execution_count": 21,
   "id": "1b7f4360",
   "metadata": {},
   "outputs": [
    {
     "data": {
      "image/png": "[encoded data removed]",
      "text/plain": [
       "<Figure size 432x432 with 1 Axes>"
      ]
     },
     "metadata": {
      "needs_background": "light"
     },
     "output_type": "display_data"
    },
    {
     "name": "stdout",
     "output_type": "stream",
     "text": [
      "time: 328 ms (started: 2022-10-13 14:19:14 +08:00)\n"
     ]
    }
   ],
   "source": [
    "plt.figure(figsize=(6,6))\n",
    "\n",
    "# Plot scatter of actual vs predicted returns\n",
    "# Need to specify y_test.to_numpy because it is now still in a dataframe, must convert to array\n",
    "plotScatter('Linear Regression', y_test.to_numpy(), y_pred, 2)"
   ]
  },
  {
   "cell_type": "markdown",
   "id": "547d3ae4",
   "metadata": {},
   "source": [
    "Predictions seemed to be centered around one single value.  We want to take a closer look by taking the top few stock return predictions and comparing them to actual."
   ]
  },
  {
   "cell_type": "code",
   "execution_count": 22,
   "id": "aae25e04",
   "metadata": {},
   "outputs": [
    {
     "name": "stdout",
     "output_type": "stream",
     "text": [
      "time: 0 ns (started: 2022-10-13 14:19:15 +08:00)\n"
     ]
    }
   ],
   "source": [
    "def printPredictions(y_test, y_pred):\n",
    "    # See top 10 predicted annual returns and see how the values differ from actual\n",
    "    # Put results in a DataFrame so we can sort it.\n",
    "\n",
    "    y_results = pd.DataFrame()\n",
    "    y_results['Actual Return'] = y_test\n",
    "    y_results['Predicted Return'] = y_pred\n",
    "\n",
    "    # Sort df by the predicted returns, and reset index\n",
    "    y_results.sort_values(by='Predicted Return', ascending=False, inplace=True)\n",
    "    y_results.reset_index(drop=True, inplace=True)\n",
    "    \n",
    "    # Print results\n",
    "    print('Top Predicted Returns:', \\\n",
    "      list(np.round(y_results['Predicted Return'].iloc[:10],2)))\n",
    "\n",
    "    print('Comparing Actual Returns:', \\\n",
    "          list(np.round(y_results['Actual Return'].iloc[:10],2)), '\\n')\n",
    "\n",
    "    print('Mean of Top 10 Predicted Returns:', \\\n",
    "          round(y_results['Predicted Return'].iloc[:10].mean(),2))\n",
    "\n",
    "    print('Mean of Top 10 Actual Returns:', \\\n",
    "          round(y_results['Actual Return'].iloc[:10].mean(),2), '\\n')\n",
    "\n",
    "    print('Mean of Bottom 10 Predicted Returns:', \\\n",
    "          round(y_results['Predicted Return'].iloc[-10:].mean(),2))\n",
    "\n",
    "    print('Mean of Bottom 10 Actual Returns:', \\\n",
    "          round(y_results['Actual Return'].iloc[-10:].mean(),2), '\\n')"
   ]
  },
  {
   "cell_type": "code",
   "execution_count": 23,
   "id": "bdc73add",
   "metadata": {
    "scrolled": true
   },
   "outputs": [
    {
     "name": "stdout",
     "output_type": "stream",
     "text": [
      "Top Predicted Returns: [1.63, 1.54, 1.36, 1.34, 1.32, 1.32, 1.28, 1.25, 1.25, 1.22]\n",
      "Comparing Actual Returns: [-0.04, 0.0, -0.16, 0.11, -0.38, 6.63, -0.57, -0.51, 0.69, 2.22] \n",
      "\n",
      "Mean of Top 10 Predicted Returns: 1.35\n",
      "Mean of Top 10 Actual Returns: 0.8 \n",
      "\n",
      "Mean of Bottom 10 Predicted Returns: -0.49\n",
      "Mean of Bottom 10 Actual Returns: 0.11 \n",
      "\n",
      "time: 0 ns (started: 2022-10-13 14:19:15 +08:00)\n"
     ]
    }
   ],
   "source": [
    "printPredictions(y_test, y_pred)"
   ]
  },
  {
   "cell_type": "markdown",
   "id": "ca19591d",
   "metadata": {},
   "source": [
    "### We can do a few runs using different random states to see the top/bottom 10 selections and test prediction ability."
   ]
  },
  {
   "cell_type": "code",
   "execution_count": 24,
   "id": "01523848",
   "metadata": {},
   "outputs": [
    {
     "name": "stdout",
     "output_type": "stream",
     "text": [
      "time: 0 ns (started: 2022-10-13 14:19:15 +08:00)\n"
     ]
    }
   ],
   "source": [
    "# Set up an empty dataframe to store the results from our models\n",
    "df_top10act, df_bottom10act = pd.DataFrame(), pd.DataFrame()"
   ]
  },
  {
   "cell_type": "code",
   "execution_count": 25,
   "id": "215a2c24",
   "metadata": {},
   "outputs": [
    {
     "name": "stdout",
     "output_type": "stream",
     "text": [
      "time: 0 ns (started: 2022-10-13 14:19:15 +08:00)\n"
     ]
    }
   ],
   "source": [
    "def testPredictionAbility(pipeline, X, y, nruns):\n",
    "    \n",
    "    Top10Pred, Top10Act = [], []\n",
    "    Bottom10Pred, Bottom10Act = [], []\n",
    "\n",
    "    for i in range(0, nruns): # Number of runs we want to do\n",
    "        \n",
    "        # Train test split with different random states, then fit pipeline and predict\n",
    "        X_train, X_test, y_train, y_test = train_test_split(X, y, test_size=0.2, random_state=42+i)\n",
    "        pipeline.fit(X_train, y_train)\n",
    "        y_pred = pipeline.predict(X_test)\n",
    "        \n",
    "        # Put results in a DataFrame so we can sort it.\n",
    "        y_results = pd.DataFrame()\n",
    "        y_results['Actual Return'] = y_test\n",
    "        y_results['Predicted Return'] = y_pred\n",
    "        \n",
    "        # Sort values by the predicted return.\n",
    "        y_results.sort_values(by='Predicted Return', ascending=False, inplace=True)\n",
    "        y_results.reset_index(drop=True, inplace=True)\n",
    "        \n",
    "        # See top 10 returns and compare how values differ from actual\n",
    "        Top10Pred.append(round(np.mean(y_results['Predicted Return'].iloc[:10])*100, 2))\n",
    "        Top10Act.append(round(np.mean(y_results['Actual Return'].iloc[:10])*100, 2))\n",
    "        \n",
    "        # See bottom 10 returns and compare how values differ from actual\n",
    "        Bottom10Pred.append(round(np.mean(y_results['Predicted Return'].iloc[-10:])*100, 2))\n",
    "        Bottom10Act.append(round(np.mean(y_results['Actual Return'].iloc[-10:])*100, 2))\n",
    "\n",
    "    # Print out values of performance\n",
    "    print(f'Predicted Performance (in %) of Top 10 Returns ({nruns} runs):', '\\n', Top10Pred)\n",
    "    print(f'Actual Performance (in %) of Top 10 Returns ({nruns} runs)', '\\n', Top10Act, '\\n')\n",
    "\n",
    "    print(f'Predicted Performance (in %) of Bottom 10 Returns ({nruns} runs):', '\\n', Bottom10Pred)\n",
    "    print(f'Actual Performance (in %) of Bottom 10 Returns ({nruns} runs):', '\\n', Bottom10Act)\n",
    "    print('--------------\\n')\n",
    "\n",
    "    # Print out values of Std Dev\n",
    "    print('Mean Predicted Std. Dev. (in %) of Top 10 Returns:', round(np.array(Top10Pred).std(),2))\n",
    "    print('Mean Actual Std. Dev. (in %) of Top 10 Returns:', round(np.array(Top10Act).std(), 2))\n",
    "\n",
    "    print('Mean Predicted Std. Dev. (in %) of Bottom 10 Returns:', round(np.array(Bottom10Pred).std(),2))\n",
    "    print('Mean Actual Std. Dev. (in %) of Bottom 10 Returns:', round(np.array(Bottom10Act).std(),2))\n",
    "    print('--------------\\n')\n",
    "\n",
    "    # Average/Mean Performance Measures here\n",
    "    print('Mean Predicted Performance (in %) of Top 10 Returns:', round(np.mean(Top10Pred), 2))\n",
    "    print('Mean Actual Performance (in %) of Top 10 Returns:', round(np.mean(Top10Act), 2))\n",
    "\n",
    "    print('Mean Predicted Performance (in %) of Bottom 10 Returns:', round(np.mean(Bottom10Pred), 2))\n",
    "    print('Mean Actual Performance (in %) of Bottom 10 Returns:', round(np.mean(Bottom10Act), 2))\n",
    "    print('--------------\\n')\n",
    "\n",
    "    return Top10Act, Bottom10Act"
   ]
  },
  {
   "cell_type": "code",
   "execution_count": 26,
   "id": "f2c53239",
   "metadata": {
    "scrolled": false
   },
   "outputs": [
    {
     "name": "stdout",
     "output_type": "stream",
     "text": [
      "Predicted Performance (in %) of Top 10 Returns (10 runs): \n",
      " [135.18, 120.94, 126.76, 106.81, 120.43, 116.17, 90.28, 155.96, 147.82, 130.03]\n",
      "Actual Performance (in %) of Top 10 Returns (10 runs) \n",
      " [79.72, 43.65, 193.37, 55.09, 156.28, 209.24, 153.33, 40.79, 55.09, 44.47] \n",
      "\n",
      "Predicted Performance (in %) of Bottom 10 Returns (10 runs): \n",
      " [-49.45, -36.41, -45.17, -36.36, -46.83, -45.86, -39.04, -44.81, -48.89, -37.72]\n",
      "Actual Performance (in %) of Bottom 10 Returns (10 runs): \n",
      " [10.59, 11.5, 12.69, 29.02, 23.68, 22.22, 17.61, 11.55, 42.18, 19.83]\n",
      "--------------\n",
      "\n",
      "Mean Predicted Std. Dev. (in %) of Top 10 Returns: 18.06\n",
      "Mean Actual Std. Dev. (in %) of Top 10 Returns: 63.86\n",
      "Mean Predicted Std. Dev. (in %) of Bottom 10 Returns: 4.88\n",
      "Mean Actual Std. Dev. (in %) of Bottom 10 Returns: 9.4\n",
      "--------------\n",
      "\n",
      "Mean Predicted Performance (in %) of Top 10 Returns: 125.04\n",
      "Mean Actual Performance (in %) of Top 10 Returns: 103.1\n",
      "Mean Predicted Performance (in %) of Bottom 10 Returns: -43.05\n",
      "Mean Actual Performance (in %) of Bottom 10 Returns: 20.09\n",
      "--------------\n",
      "\n",
      "time: 5.31 s (started: 2022-10-13 14:19:15 +08:00)\n"
     ]
    }
   ],
   "source": [
    "df_top10act['LR'], df_bottom10act['LR'] = testPredictionAbility(pl_lr, X, y, 10)"
   ]
  },
  {
   "cell_type": "markdown",
   "id": "edd4fa08",
   "metadata": {},
   "source": [
    "# Model 2: ElasticNet/ Ridge"
   ]
  },
  {
   "cell_type": "code",
   "execution_count": 27,
   "id": "b376386d",
   "metadata": {},
   "outputs": [
    {
     "name": "stdout",
     "output_type": "stream",
     "text": [
      "time: 0 ns (started: 2022-10-13 14:19:20 +08:00)\n"
     ]
    }
   ],
   "source": [
    "pl_enet = Pipeline([\n",
    "    ('Power Transformer', PowerTransformer()),\n",
    "    ('ElasticNet', ElasticNet()) #l1_ratio=0.00001, alpha=0.001\n",
    "])"
   ]
  },
  {
   "cell_type": "code",
   "execution_count": 28,
   "id": "922e8869",
   "metadata": {},
   "outputs": [
    {
     "name": "stdout",
     "output_type": "stream",
     "text": [
      "time: 500 ms (started: 2022-10-13 14:19:20 +08:00)\n"
     ]
    }
   ],
   "source": [
    "pl_enet.fit(X_train, y_train)\n",
    "y_pred = pl_enet.predict(X_test)"
   ]
  },
  {
   "cell_type": "code",
   "execution_count": 29,
   "id": "7711da95",
   "metadata": {},
   "outputs": [
    {
     "name": "stdout",
     "output_type": "stream",
     "text": [
      "Train MSE: 1.852108026845768\n",
      "Test MSE: 1.0087522969124105\n",
      "Generalisation: 45.535%\n",
      "time: 47 ms (started: 2022-10-13 14:19:21 +08:00)\n"
     ]
    }
   ],
   "source": [
    "mse_train = mean_squared_error(y_train, pl_enet.predict(X_train), squared=True)\n",
    "mse_test = mean_squared_error(y_test, y_pred, squared=True)\n",
    "pct_diff = round((1-mse_test/mse_train)*100,3)\n",
    "\n",
    "print('Train MSE:', mse_train)\n",
    "print('Test MSE:', mse_test)\n",
    "print(f'Generalisation: {pct_diff}%')"
   ]
  },
  {
   "cell_type": "code",
   "execution_count": 30,
   "id": "fab743bd",
   "metadata": {},
   "outputs": [
    {
     "data": {
      "image/png": "[encoded data removed]",
      "text/plain": [
       "<Figure size 360x360 with 1 Axes>"
      ]
     },
     "metadata": {
      "needs_background": "light"
     },
     "output_type": "display_data"
    },
    {
     "name": "stdout",
     "output_type": "stream",
     "text": [
      "time: 328 ms (started: 2022-10-13 14:19:21 +08:00)\n"
     ]
    }
   ],
   "source": [
    "# Scatter plot for pl_enet\n",
    "plt.figure(figsize=(5,5))\n",
    "plotScatter('Elastic Net', y_test.to_numpy(), y_pred, 2)"
   ]
  },
  {
   "cell_type": "markdown",
   "id": "899f1609",
   "metadata": {},
   "source": [
    "Prediction seems even worse than linear regression, where all the predicted values are almost the same. We should try again with E-net l1 ratio = 0: Means L2 penalty or Ridge Regression."
   ]
  },
  {
   "cell_type": "code",
   "execution_count": 31,
   "id": "f7047efe",
   "metadata": {},
   "outputs": [
    {
     "name": "stdout",
     "output_type": "stream",
     "text": [
      "time: 453 ms (started: 2022-10-13 14:19:21 +08:00)\n"
     ]
    }
   ],
   "source": [
    "pl_ridge = Pipeline([\n",
    "    ('Power Transformer', PowerTransformer()),\n",
    "    ('ElasticNet', ElasticNet(l1_ratio=0.00001))\n",
    "])\n",
    "\n",
    "pl_ridge.fit(X_train, y_train)\n",
    "y_pred_ridge = pl_ridge.predict(X_test)"
   ]
  },
  {
   "cell_type": "code",
   "execution_count": 32,
   "id": "f82e2cf5",
   "metadata": {},
   "outputs": [
    {
     "name": "stdout",
     "output_type": "stream",
     "text": [
      "Train MSE: 1.8235914722464661\n",
      "Test MSE: 0.9991701873247772\n",
      "Generalisation: 45.209%\n",
      "time: 31 ms (started: 2022-10-13 14:19:21 +08:00)\n"
     ]
    }
   ],
   "source": [
    "mse_train = mean_squared_error(y_train, pl_ridge.predict(X_train), squared=True)\n",
    "mse_test = mean_squared_error(y_test, y_pred_ridge, squared=True)\n",
    "pct_diff = round((1-mse_test/mse_train)*100,3)\n",
    "\n",
    "print('Train MSE:', mse_train)\n",
    "print('Test MSE:', mse_test)\n",
    "print(f'Generalisation: {pct_diff}%')"
   ]
  },
  {
   "cell_type": "code",
   "execution_count": 33,
   "id": "714aca68",
   "metadata": {},
   "outputs": [
    {
     "data": {
      "text/plain": [
       "Text(0.5, 1.0, 'Ridge Regression')"
      ]
     },
     "execution_count": 33,
     "metadata": {},
     "output_type": "execute_result"
    },
    {
     "data": {
      "image/png": "[encoded data removed]",
      "text/plain": [
       "<Figure size 720x360 with 2 Axes>"
      ]
     },
     "metadata": {
      "needs_background": "light"
     },
     "output_type": "display_data"
    },
    {
     "name": "stdout",
     "output_type": "stream",
     "text": [
      "time: 594 ms (started: 2022-10-13 14:19:21 +08:00)\n"
     ]
    }
   ],
   "source": [
    "plt.figure(figsize=(10,5))\n",
    "\n",
    "# Plot the ElasticNet Regression\n",
    "plt.subplot(1,2,1)\n",
    "plotScatter('ElasticNet', y_test.to_numpy(), y_pred, 2)\n",
    "plt.title('ElasticNet Default', fontsize=15)\n",
    "\n",
    "# Plot the Ridge Regression\n",
    "plt.subplot(1,2,2)\n",
    "plotScatter('Ridge', y_test.to_numpy(), y_pred_ridge, 2)\n",
    "plt.title('Ridge Regression', fontsize=15)"
   ]
  },
  {
   "cell_type": "code",
   "execution_count": 34,
   "id": "1dfc4e8d",
   "metadata": {
    "scrolled": false
   },
   "outputs": [
    {
     "name": "stdout",
     "output_type": "stream",
     "text": [
      "Top Predicted Returns: [0.28, 0.28, 0.28, 0.28, 0.28, 0.28, 0.28, 0.28, 0.28, 0.28]\n",
      "Comparing Actual Returns: [0.39, -0.28, -0.54, 0.18, -0.59, -0.06, -0.45, 0.08, -0.12, 0.66] \n",
      "\n",
      "Mean of Top 10 Predicted Returns: 0.28\n",
      "Mean of Top 10 Actual Returns: -0.07 \n",
      "\n",
      "Mean of Bottom 10 Predicted Returns: 0.28\n",
      "Mean of Bottom 10 Actual Returns: 0.46 \n",
      "\n",
      "time: 16 ms (started: 2022-10-13 14:19:22 +08:00)\n"
     ]
    }
   ],
   "source": [
    "# Predictions for ElasticNet\n",
    "printPredictions(y_test, y_pred)"
   ]
  },
  {
   "cell_type": "code",
   "execution_count": 35,
   "id": "4c76173f",
   "metadata": {},
   "outputs": [
    {
     "name": "stdout",
     "output_type": "stream",
     "text": [
      "Top Predicted Returns: [0.83, 0.79, 0.79, 0.78, 0.73, 0.72, 0.71, 0.71, 0.71, 0.7]\n",
      "Comparing Actual Returns: [0.0, -0.04, 6.63, 0.62, -0.74, 0.09, 0.69, 3.84, 0.11, -0.89] \n",
      "\n",
      "Mean of Top 10 Predicted Returns: 0.75\n",
      "Mean of Top 10 Actual Returns: 1.03 \n",
      "\n",
      "Mean of Bottom 10 Predicted Returns: -0.19\n",
      "Mean of Bottom 10 Actual Returns: 1.2 \n",
      "\n",
      "time: 15 ms (started: 2022-10-13 14:19:22 +08:00)\n"
     ]
    }
   ],
   "source": [
    "# Predictions for Ridge\n",
    "printPredictions(y_test, y_pred_ridge)"
   ]
  },
  {
   "cell_type": "code",
   "execution_count": 36,
   "id": "9bd389c0",
   "metadata": {},
   "outputs": [
    {
     "name": "stdout",
     "output_type": "stream",
     "text": [
      "Predicted Performance (in %) of Top 10 Returns (10 runs): \n",
      " [27.61, 26.09, 26.76, 26.63, 27.32, 26.84, 26.09, 27.2, 27.03, 26.76]\n",
      "Actual Performance (in %) of Top 10 Returns (10 runs) \n",
      " [-7.2, 42.6, 72.45, 40.84, -0.79, 31.44, 20.23, 3.51, 36.46, 10.68] \n",
      "\n",
      "Predicted Performance (in %) of Bottom 10 Returns (10 runs): \n",
      " [27.61, 26.09, 26.76, 26.63, 27.32, 26.84, 26.09, 27.2, 27.03, 26.76]\n",
      "Actual Performance (in %) of Bottom 10 Returns (10 runs): \n",
      " [46.41, 51.69, 32.81, -21.4, 60.13, -7.3, 29.46, 6.68, 30.45, 43.07]\n",
      "--------------\n",
      "\n",
      "Mean Predicted Std. Dev. (in %) of Top 10 Returns: 0.47\n",
      "Mean Actual Std. Dev. (in %) of Top 10 Returns: 23.19\n",
      "Mean Predicted Std. Dev. (in %) of Bottom 10 Returns: 0.47\n",
      "Mean Actual Std. Dev. (in %) of Bottom 10 Returns: 25.15\n",
      "--------------\n",
      "\n",
      "Mean Predicted Performance (in %) of Top 10 Returns: 26.83\n",
      "Mean Actual Performance (in %) of Top 10 Returns: 25.02\n",
      "Mean Predicted Performance (in %) of Bottom 10 Returns: 26.83\n",
      "Mean Actual Performance (in %) of Bottom 10 Returns: 27.2\n",
      "--------------\n",
      "\n",
      "time: 5.22 s (started: 2022-10-13 14:19:22 +08:00)\n"
     ]
    }
   ],
   "source": [
    "# Test prediction ability for ElasticNet\n",
    "df_top10act['Enet'], df_bottom10act['Enet'] = testPredictionAbility(pl_enet, X, y, 10)"
   ]
  },
  {
   "cell_type": "code",
   "execution_count": 37,
   "id": "f45bdc5a",
   "metadata": {},
   "outputs": [
    {
     "name": "stdout",
     "output_type": "stream",
     "text": [
      "Predicted Performance (in %) of Top 10 Returns (10 runs): \n",
      " [74.62, 65.04, 65.9, 63.25, 68.84, 65.52, 59.64, 76.79, 75.68, 70.9]\n",
      "Actual Performance (in %) of Top 10 Returns (10 runs) \n",
      " [102.99, 33.66, 194.58, 49.52, 7.24, 132.34, 9.3, 60.7, 73.62, 123.18] \n",
      "\n",
      "Predicted Performance (in %) of Bottom 10 Returns (10 runs): \n",
      " [-19.49, -4.97, -8.96, -7.23, -11.21, -12.77, -6.76, -12.76, -11.56, -7.27]\n",
      "Actual Performance (in %) of Bottom 10 Returns (10 runs): \n",
      " [119.88, 17.12, 11.26, 14.79, 26.34, 25.84, 131.87, 132.02, 44.02, 15.64]\n",
      "--------------\n",
      "\n",
      "Mean Predicted Std. Dev. (in %) of Top 10 Returns: 5.45\n",
      "Mean Actual Std. Dev. (in %) of Top 10 Returns: 56.59\n",
      "Mean Predicted Std. Dev. (in %) of Bottom 10 Returns: 4.0\n",
      "Mean Actual Std. Dev. (in %) of Bottom 10 Returns: 49.34\n",
      "--------------\n",
      "\n",
      "Mean Predicted Performance (in %) of Top 10 Returns: 68.62\n",
      "Mean Actual Performance (in %) of Top 10 Returns: 78.71\n",
      "Mean Predicted Performance (in %) of Bottom 10 Returns: -10.3\n",
      "Mean Actual Performance (in %) of Bottom 10 Returns: 53.88\n",
      "--------------\n",
      "\n",
      "time: 5.34 s (started: 2022-10-13 14:19:27 +08:00)\n"
     ]
    }
   ],
   "source": [
    "# Test prediction ability for Ridge\n",
    "df_top10act['Ridge'], df_bottom10act['Ridge'] = testPredictionAbility(pl_ridge, X, y, 10)"
   ]
  },
  {
   "cell_type": "markdown",
   "id": "4b66de60",
   "metadata": {},
   "source": [
    "Looks like Ridge is better than the default ElasticNet hyperparameters. We are better off using Ridge for the modelling."
   ]
  },
  {
   "cell_type": "markdown",
   "id": "443fc1e6",
   "metadata": {},
   "source": [
    "# Model 3: KNN Regressor"
   ]
  },
  {
   "cell_type": "code",
   "execution_count": 38,
   "id": "2ba76265",
   "metadata": {},
   "outputs": [
    {
     "name": "stdout",
     "output_type": "stream",
     "text": [
      "time: 797 ms (started: 2022-10-13 14:19:33 +08:00)\n"
     ]
    }
   ],
   "source": [
    "# for KNN, we dont know what number to use for n_neighbors yet so just use 40 first.\n",
    "pl_knn = Pipeline([\n",
    "    ('Power Transformer', PowerTransformer()),\n",
    "    ('KNeighborsRegressor', KNeighborsRegressor(n_neighbors=40))])\n",
    "\n",
    "pl_knn.fit(X_train, y_train)\n",
    "y_pred = pl_knn.predict(X_test)"
   ]
  },
  {
   "cell_type": "code",
   "execution_count": 39,
   "id": "915fef83",
   "metadata": {},
   "outputs": [
    {
     "name": "stdout",
     "output_type": "stream",
     "text": [
      "Train MSE: 1.711521728871994\n",
      "Test MSE: 0.9835944902926952\n",
      "Generalisation: 42.531%\n",
      "time: 657 ms (started: 2022-10-13 14:19:33 +08:00)\n"
     ]
    }
   ],
   "source": [
    "mse_train = mean_squared_error(y_train, pl_knn.predict(X_train), squared=True)\n",
    "mse_test = mean_squared_error(y_test, y_pred, squared=True)\n",
    "pct_diff = round((1-mse_test/mse_train)*100,3)\n",
    "\n",
    "print('Train MSE:', mse_train)\n",
    "print('Test MSE:', mse_test)\n",
    "print(f'Generalisation: {pct_diff}%')"
   ]
  },
  {
   "cell_type": "code",
   "execution_count": 40,
   "id": "3d778f4d",
   "metadata": {},
   "outputs": [
    {
     "name": "stdout",
     "output_type": "stream",
     "text": [
      "time: 1min 36s (started: 2022-10-13 14:19:34 +08:00)\n"
     ]
    }
   ],
   "source": [
    "# What is a good value for k? We want to plot train and test errors for different values of k and observe.\n",
    "knn_validation_list = []\n",
    "numNeighbours = [4,8,16,32,64,100]\n",
    "nruns = 10\n",
    "\n",
    "for i in numNeighbours:\n",
    "    for j in range(0, nruns):\n",
    "        # Get a new train/test split\n",
    "        X_train, X_test, y_train, y_test = train_test_split(X, y, test_size=0.2, random_state=42+j)\n",
    "        \n",
    "        # Define the pipeline\n",
    "        pl_knn = Pipeline([\n",
    "            ('Power Transformer', PowerTransformer()),\n",
    "            ('KNN', KNeighborsRegressor(n_neighbors=i))\n",
    "            ])\n",
    "        \n",
    "        # Fit the pipeline\n",
    "        pl_knn.fit(X_train, y_train)\n",
    "        \n",
    "        # Get the predictions\n",
    "        y_pred = pl_knn.predict(X_test)\n",
    "        \n",
    "        # Store results (Value of k, Train MSE, Test MSE) in a list\n",
    "        single_result = [i,\n",
    "                         mean_squared_error(y_train, pl_knn.predict(X_train)),\n",
    "                         mean_squared_error(y_test, y_pred)]\n",
    "        \n",
    "        # Append the results into another list so we can view as dataframe later\n",
    "        knn_validation_list.append(single_result)\n",
    "\n",
    "knn_validation_df = pd.DataFrame(knn_validation_list, columns=['kNeighbors', 'trainMSE', 'testMSE'])"
   ]
  },
  {
   "cell_type": "code",
   "execution_count": 41,
   "id": "27f5f3ad",
   "metadata": {},
   "outputs": [
    {
     "data": {
      "text/html": [
       "<div>\n",
       "<style scoped>\n",
       "    .dataframe tbody tr th:only-of-type {\n",
       "        vertical-align: middle;\n",
       "    }\n",
       "\n",
       "    .dataframe tbody tr th {\n",
       "        vertical-align: top;\n",
       "    }\n",
       "\n",
       "    .dataframe thead th {\n",
       "        text-align: right;\n",
       "    }\n",
       "</style>\n",
       "<table border=\"1\" class=\"dataframe\">\n",
       "  <thead>\n",
       "    <tr style=\"text-align: right;\">\n",
       "      <th></th>\n",
       "      <th>kNeighbors</th>\n",
       "      <th>trainMSE</th>\n",
       "      <th>testMSE</th>\n",
       "    </tr>\n",
       "  </thead>\n",
       "  <tbody>\n",
       "    <tr>\n",
       "      <th>0</th>\n",
       "      <td>4</td>\n",
       "      <td>1.091736</td>\n",
       "      <td>1.165460</td>\n",
       "    </tr>\n",
       "    <tr>\n",
       "      <th>1</th>\n",
       "      <td>4</td>\n",
       "      <td>0.940363</td>\n",
       "      <td>1.868228</td>\n",
       "    </tr>\n",
       "    <tr>\n",
       "      <th>2</th>\n",
       "      <td>4</td>\n",
       "      <td>1.075831</td>\n",
       "      <td>1.206509</td>\n",
       "    </tr>\n",
       "    <tr>\n",
       "      <th>3</th>\n",
       "      <td>4</td>\n",
       "      <td>0.929423</td>\n",
       "      <td>2.288845</td>\n",
       "    </tr>\n",
       "    <tr>\n",
       "      <th>4</th>\n",
       "      <td>4</td>\n",
       "      <td>1.149375</td>\n",
       "      <td>0.857282</td>\n",
       "    </tr>\n",
       "  </tbody>\n",
       "</table>\n",
       "</div>"
      ],
      "text/plain": [
       "   kNeighbors  trainMSE   testMSE\n",
       "0           4  1.091736  1.165460\n",
       "1           4  0.940363  1.868228\n",
       "2           4  1.075831  1.206509\n",
       "3           4  0.929423  2.288845\n",
       "4           4  1.149375  0.857282"
      ]
     },
     "execution_count": 41,
     "metadata": {},
     "output_type": "execute_result"
    },
    {
     "name": "stdout",
     "output_type": "stream",
     "text": [
      "time: 0 ns (started: 2022-10-13 14:21:10 +08:00)\n"
     ]
    }
   ],
   "source": [
    "knn_validation_df.head()"
   ]
  },
  {
   "cell_type": "code",
   "execution_count": 42,
   "id": "1d15e253",
   "metadata": {},
   "outputs": [
    {
     "name": "stdout",
     "output_type": "stream",
     "text": [
      "time: 15 ms (started: 2022-10-13 14:21:10 +08:00)\n"
     ]
    }
   ],
   "source": [
    "# Get our results in a format we can easily plot\n",
    "knn_results_list = []\n",
    "numNeighbours = [4,8,16,32,64,100]\n",
    "\n",
    "# Create a DataFrame of results, index is the number of Neighbors defined above\n",
    "results_df = pd.DataFrame(index=numNeighbours)\n",
    "\n",
    "for i in numNeighbours:\n",
    "    knn_filter = knn_validation_df['kNeighbors']==i \n",
    "    \n",
    "    # Pass the filter to the dataframe\n",
    "    trainErrorsMean = knn_validation_df[knn_filter]['trainMSE'].mean()\n",
    "    trainErrorsStd = knn_validation_df[knn_filter]['trainMSE'].std()\n",
    "    \n",
    "    testErrorsMean = knn_validation_df[knn_filter]['testMSE'].mean()\n",
    "    testErrorsStd = knn_validation_df[knn_filter]['testMSE'].std()\n",
    "    \n",
    "    knn_results_list.append([trainErrorsMean, trainErrorsStd,\n",
    "                             testErrorsMean, testErrorsStd])\n",
    "    \n",
    "knn_results_df = pd.DataFrame(knn_results_list,\n",
    "                              columns=['train_MSE_mean','train_MSE_std',\n",
    "                                       'test_MSE_mean','test_MSE_std'],\n",
    "                              index=numNeighbours)"
   ]
  },
  {
   "cell_type": "code",
   "execution_count": 43,
   "id": "9d70abda",
   "metadata": {},
   "outputs": [
    {
     "data": {
      "text/html": [
       "<div>\n",
       "<style scoped>\n",
       "    .dataframe tbody tr th:only-of-type {\n",
       "        vertical-align: middle;\n",
       "    }\n",
       "\n",
       "    .dataframe tbody tr th {\n",
       "        vertical-align: top;\n",
       "    }\n",
       "\n",
       "    .dataframe thead th {\n",
       "        text-align: right;\n",
       "    }\n",
       "</style>\n",
       "<table border=\"1\" class=\"dataframe\">\n",
       "  <thead>\n",
       "    <tr style=\"text-align: right;\">\n",
       "      <th></th>\n",
       "      <th>train_MSE_mean</th>\n",
       "      <th>train_MSE_std</th>\n",
       "      <th>test_MSE_mean</th>\n",
       "      <th>test_MSE_std</th>\n",
       "    </tr>\n",
       "  </thead>\n",
       "  <tbody>\n",
       "    <tr>\n",
       "      <th>4</th>\n",
       "      <td>1.009135</td>\n",
       "      <td>0.127707</td>\n",
       "      <td>1.664980</td>\n",
       "      <td>0.809826</td>\n",
       "    </tr>\n",
       "    <tr>\n",
       "      <th>8</th>\n",
       "      <td>1.284789</td>\n",
       "      <td>0.159174</td>\n",
       "      <td>1.606713</td>\n",
       "      <td>0.800348</td>\n",
       "    </tr>\n",
       "    <tr>\n",
       "      <th>16</th>\n",
       "      <td>1.451342</td>\n",
       "      <td>0.180125</td>\n",
       "      <td>1.584598</td>\n",
       "      <td>0.805718</td>\n",
       "    </tr>\n",
       "    <tr>\n",
       "      <th>32</th>\n",
       "      <td>1.552719</td>\n",
       "      <td>0.191715</td>\n",
       "      <td>1.585644</td>\n",
       "      <td>0.803763</td>\n",
       "    </tr>\n",
       "    <tr>\n",
       "      <th>64</th>\n",
       "      <td>1.600421</td>\n",
       "      <td>0.195472</td>\n",
       "      <td>1.575297</td>\n",
       "      <td>0.800570</td>\n",
       "    </tr>\n",
       "    <tr>\n",
       "      <th>100</th>\n",
       "      <td>1.619540</td>\n",
       "      <td>0.198028</td>\n",
       "      <td>1.576483</td>\n",
       "      <td>0.803845</td>\n",
       "    </tr>\n",
       "  </tbody>\n",
       "</table>\n",
       "</div>"
      ],
      "text/plain": [
       "     train_MSE_mean  train_MSE_std  test_MSE_mean  test_MSE_std\n",
       "4          1.009135       0.127707       1.664980      0.809826\n",
       "8          1.284789       0.159174       1.606713      0.800348\n",
       "16         1.451342       0.180125       1.584598      0.805718\n",
       "32         1.552719       0.191715       1.585644      0.803763\n",
       "64         1.600421       0.195472       1.575297      0.800570\n",
       "100        1.619540       0.198028       1.576483      0.803845"
      ]
     },
     "execution_count": 43,
     "metadata": {},
     "output_type": "execute_result"
    },
    {
     "name": "stdout",
     "output_type": "stream",
     "text": [
      "time: 0 ns (started: 2022-10-13 14:21:10 +08:00)\n"
     ]
    }
   ],
   "source": [
    "knn_results_df"
   ]
  },
  {
   "cell_type": "code",
   "execution_count": 44,
   "id": "7025c3ba",
   "metadata": {},
   "outputs": [
    {
     "data": {
      "image/png": "[encoded data removed]",
      "text/plain": [
       "<Figure size 432x288 with 1 Axes>"
      ]
     },
     "metadata": {
      "needs_background": "light"
     },
     "output_type": "display_data"
    },
    {
     "name": "stdout",
     "output_type": "stream",
     "text": [
      "time: 140 ms (started: 2022-10-13 14:21:10 +08:00)\n"
     ]
    }
   ],
   "source": [
    "# Plot the learning curve for KNN\n",
    "knn_results_df['train_MSE_mean'].plot(style='-x')\n",
    "knn_results_df['test_MSE_mean'].plot(style='-x')\n",
    "\n",
    "# Shows the Std Dev of the errors\n",
    "plt.fill_between(knn_results_df.index,\\\n",
    "                 knn_results_df['train_MSE_mean']-knn_results_df['train_MSE_std'],\\\n",
    "                 knn_results_df['train_MSE_mean']+knn_results_df['train_MSE_std'],\\\n",
    "                 alpha=0.2)\n",
    "\n",
    "plt.fill_between(knn_results_df.index,\\\n",
    "                 knn_results_df['test_MSE_mean']-knn_results_df['test_MSE_std'],\\\n",
    "                 knn_results_df['test_MSE_mean']+knn_results_df['test_MSE_std'],\\\n",
    "                 alpha=0.2)\n",
    "\n",
    "plt.grid()\n",
    "plt.legend(['Train CV RMSE','Test Set RMSE'])\n",
    "plt.ylabel('RMSE')\n",
    "plt.xlabel('Values for K', fontsize=15)\n",
    "plt.title('KNN Learning Curve', fontsize=15)\n",
    "plt.ylim([0.8, 2]);"
   ]
  },
  {
   "cell_type": "code",
   "execution_count": 45,
   "id": "5fe74cb2",
   "metadata": {},
   "outputs": [
    {
     "data": {
      "image/png": "[encoded data removed]",
      "text/plain": [
       "<Figure size 432x432 with 1 Axes>"
      ]
     },
     "metadata": {
      "needs_background": "light"
     },
     "output_type": "display_data"
    },
    {
     "name": "stdout",
     "output_type": "stream",
     "text": [
      "time: 344 ms (started: 2022-10-13 14:21:10 +08:00)\n"
     ]
    }
   ],
   "source": [
    "plt.figure(figsize=(6,6))\n",
    "plotScatter('KNN Regressor', y_test.to_numpy(), y_pred, 2)"
   ]
  },
  {
   "cell_type": "code",
   "execution_count": 46,
   "id": "4f4e5485",
   "metadata": {},
   "outputs": [
    {
     "name": "stdout",
     "output_type": "stream",
     "text": [
      "Top Predicted Returns: [1.73, 1.68, 1.64, 1.6, 1.53, 1.53, 1.51, 1.51, 1.5, 1.5]\n",
      "Comparing Actual Returns: [2.0, -0.97, 1.05, -0.75, -0.8, 0.53, 1.54, -0.52, -0.21, -0.22] \n",
      "\n",
      "Mean of Top 10 Predicted Returns: 1.57\n",
      "Mean of Top 10 Actual Returns: 0.17 \n",
      "\n",
      "Mean of Bottom 10 Predicted Returns: -0.07\n",
      "Mean of Bottom 10 Actual Returns: -0.07 \n",
      "\n",
      "time: 0 ns (started: 2022-10-13 14:21:11 +08:00)\n"
     ]
    }
   ],
   "source": [
    "printPredictions(y_test, y_pred)"
   ]
  },
  {
   "cell_type": "code",
   "execution_count": 47,
   "id": "610b251e",
   "metadata": {},
   "outputs": [
    {
     "name": "stdout",
     "output_type": "stream",
     "text": [
      "Predicted Performance (in %) of Top 10 Returns (10 runs): \n",
      " [151.88, 162.16, 151.23, 128.33, 154.76, 150.03, 138.57, 173.83, 165.45, 157.29]\n",
      "Actual Performance (in %) of Top 10 Returns (10 runs) \n",
      " [134.66, -40.38, 223.7, 23.0, 122.85, 58.15, 60.69, -20.22, 170.11, 16.57] \n",
      "\n",
      "Predicted Performance (in %) of Bottom 10 Returns (10 runs): \n",
      " [-9.16, -11.43, -10.21, -10.71, -9.15, -8.59, -10.19, -9.19, -10.47, -7.3]\n",
      "Actual Performance (in %) of Bottom 10 Returns (10 runs): \n",
      " [-30.91, 16.93, -24.83, -20.67, -23.41, -32.66, -20.07, -7.81, 19.19, -6.83]\n",
      "--------------\n",
      "\n",
      "Mean Predicted Std. Dev. (in %) of Top 10 Returns: 12.34\n",
      "Mean Actual Std. Dev. (in %) of Top 10 Returns: 81.24\n",
      "Mean Predicted Std. Dev. (in %) of Bottom 10 Returns: 1.14\n",
      "Mean Actual Std. Dev. (in %) of Bottom 10 Returns: 17.5\n",
      "--------------\n",
      "\n",
      "Mean Predicted Performance (in %) of Top 10 Returns: 153.35\n",
      "Mean Actual Performance (in %) of Top 10 Returns: 74.91\n",
      "Mean Predicted Performance (in %) of Bottom 10 Returns: -9.64\n",
      "Mean Actual Performance (in %) of Bottom 10 Returns: -13.11\n",
      "--------------\n",
      "\n",
      "time: 10.1 s (started: 2022-10-13 14:21:11 +08:00)\n"
     ]
    }
   ],
   "source": [
    "df_top10act['KNN'], df_bottom10act['KNN'] = testPredictionAbility(pl_knn, X, y, 10)"
   ]
  },
  {
   "cell_type": "markdown",
   "id": "e20ae549",
   "metadata": {},
   "source": [
    "# Model 4: Decision Trees"
   ]
  },
  {
   "cell_type": "code",
   "execution_count": 48,
   "id": "4063cd53",
   "metadata": {},
   "outputs": [
    {
     "name": "stdout",
     "output_type": "stream",
     "text": [
      "time: 0 ns (started: 2022-10-13 14:21:21 +08:00)\n"
     ]
    }
   ],
   "source": [
    "# Decision Trees dont need to scale\n",
    "# Try with default hyperparameters\n",
    "pl_dt = Pipeline([\n",
    "    ('DecisionTree', DecisionTreeRegressor(random_state=42))\n",
    "])"
   ]
  },
  {
   "cell_type": "code",
   "execution_count": 49,
   "id": "84a2784b",
   "metadata": {},
   "outputs": [
    {
     "name": "stdout",
     "output_type": "stream",
     "text": [
      "time: 797 ms (started: 2022-10-13 14:21:21 +08:00)\n"
     ]
    }
   ],
   "source": [
    "pl_dt.fit(X_train, y_train)\n",
    "y_pred = pl_dt.predict(X_test)"
   ]
  },
  {
   "cell_type": "code",
   "execution_count": 50,
   "id": "1917d768",
   "metadata": {},
   "outputs": [
    {
     "name": "stdout",
     "output_type": "stream",
     "text": [
      "Train MSE: 0.0\n",
      "Test MSE: 3.7594725469202457\n",
      "Generalisation: -inf%\n",
      "time: 0 ns (started: 2022-10-13 14:21:22 +08:00)\n"
     ]
    },
    {
     "name": "stderr",
     "output_type": "stream",
     "text": [
      "C:\\Users\\finan\\AppData\\Local\\Temp/ipykernel_12948/3865292932.py:3: RuntimeWarning: divide by zero encountered in double_scalars\n",
      "  pct_diff = round((1-mse_test/mse_train)*100,3)\n"
     ]
    }
   ],
   "source": [
    "mse_train = mean_squared_error(y_train, pl_dt.predict(X_train), squared=True)\n",
    "mse_test = mean_squared_error(y_test, y_pred, squared=True)\n",
    "pct_diff = round((1-mse_test/mse_train)*100,3)\n",
    "\n",
    "print('Train MSE:', mse_train)\n",
    "print('Test MSE:', mse_test)\n",
    "print(f'Generalisation: {pct_diff}%')"
   ]
  },
  {
   "cell_type": "markdown",
   "id": "8fb364b2",
   "metadata": {},
   "source": [
    "Seems like there is alot of overfitting, so we might need to adjust the hyperparameters. We will test with the max_depth hyperparameter to see if we can prevent overfitting."
   ]
  },
  {
   "cell_type": "code",
   "execution_count": 51,
   "id": "61115a1c",
   "metadata": {},
   "outputs": [
    {
     "data": {
      "image/png": "[encoded data removed]",
      "text/plain": [
       "<Figure size 432x288 with 1 Axes>"
      ]
     },
     "metadata": {
      "needs_background": "light"
     },
     "output_type": "display_data"
    },
    {
     "name": "stdout",
     "output_type": "stream",
     "text": [
      "time: 27.9 s (started: 2022-10-13 14:21:22 +08:00)\n"
     ]
    }
   ],
   "source": [
    "train_rmse, test_rmse, max_depth = [], [], []\n",
    "\n",
    "# Try tree depths of 2 to 50\n",
    "for i in range(2,50):\n",
    "    \n",
    "    # define pipeline\n",
    "    pl_dt_loop = Pipeline([\n",
    "        ('DecisionTreeRegressor',\\\n",
    "         DecisionTreeRegressor(random_state=42, max_depth=i))])\n",
    "    \n",
    "    # fit and predict\n",
    "    pl_dt_loop.fit(X_train, y_train)\n",
    "    y_pred = pl_dt_loop.predict(X_test)\n",
    "    \n",
    "    # add the errors and max_depth to the lists\n",
    "    train_rmse.append(mean_squared_error(y_train, pl_dt_loop.predict(X_train)))\n",
    "    test_rmse.append(mean_squared_error(y_test, y_pred))\n",
    "    max_depth.append(i)\n",
    "\n",
    "# Draw on same plot, the RMSE of training data and RMSE of test data given different max_depth\n",
    "plt.plot(max_depth, np.sqrt(train_rmse), 'r', max_depth, np.sqrt(test_rmse), 'b')\n",
    "\n",
    "plt.legend(['RMSE of Train data','RMSE of Test data'])\n",
    "plt.grid()\n",
    "plt.ylabel('RMSE');\n",
    "plt.xlabel('Max depth of tree');"
   ]
  },
  {
   "cell_type": "markdown",
   "id": "5876b9d5",
   "metadata": {},
   "source": [
    "Test error does not seem to be decreasing with increasing tree depth. Model still continues to overfit. We can take a value between 10 and 30 as an estimate first. Let's try 15."
   ]
  },
  {
   "cell_type": "code",
   "execution_count": 52,
   "id": "a2ee0388",
   "metadata": {},
   "outputs": [
    {
     "name": "stdout",
     "output_type": "stream",
     "text": [
      "Train MSE: 0.26825682473781365\n",
      "Test MSE: 3.5313334172869157\n",
      "Generalisation: -1216.4%\n",
      "time: 516 ms (started: 2022-10-13 14:21:50 +08:00)\n"
     ]
    }
   ],
   "source": [
    "# Refit with max depth at 15\n",
    "pl_dt = Pipeline([('DecisionTree', DecisionTreeRegressor(max_depth=15, random_state=42))])\n",
    "\n",
    "pl_dt.fit(X_train, y_train)\n",
    "y_pred = pl_dt.predict(X_test)\n",
    "\n",
    "mse_train = mean_squared_error(y_train, pl_dt.predict(X_train), squared=True)\n",
    "mse_test = mean_squared_error(y_test, y_pred, squared=True)\n",
    "pct_diff = round((1-mse_test/mse_train)*100,3)\n",
    "\n",
    "print('Train MSE:', mse_train)\n",
    "print('Test MSE:', mse_test)\n",
    "print(f'Generalisation: {pct_diff}%')"
   ]
  },
  {
   "cell_type": "code",
   "execution_count": 53,
   "id": "425d995d",
   "metadata": {},
   "outputs": [
    {
     "name": "stdout",
     "output_type": "stream",
     "text": [
      "Predicted Performance (in %) of Top 10 Returns (10 runs): \n",
      " [2856.84, 1311.55, 1220.47, 2343.88, 1939.01, 3231.46, 1447.76, 3198.28, 1698.11, 1922.34]\n",
      "Actual Performance (in %) of Top 10 Returns (10 runs) \n",
      " [343.44, 444.85, 338.63, 179.5, 208.4, 228.15, 190.47, 211.84, 231.7, 116.64] \n",
      "\n",
      "Predicted Performance (in %) of Bottom 10 Returns (10 runs): \n",
      " [-90.8, -92.84, -95.87, -94.4, -94.46, -91.35, -90.23, -95.74, -94.08, -91.29]\n",
      "Actual Performance (in %) of Bottom 10 Returns (10 runs): \n",
      " [47.42, -14.78, 30.05, -15.22, 141.27, 16.58, 14.27, 11.08, 144.16, 1.58]\n",
      "--------------\n",
      "\n",
      "Mean Predicted Std. Dev. (in %) of Top 10 Returns: 718.02\n",
      "Mean Actual Std. Dev. (in %) of Top 10 Returns: 92.11\n",
      "Mean Predicted Std. Dev. (in %) of Bottom 10 Returns: 1.98\n",
      "Mean Actual Std. Dev. (in %) of Bottom 10 Returns: 55.48\n",
      "--------------\n",
      "\n",
      "Mean Predicted Performance (in %) of Top 10 Returns: 2116.97\n",
      "Mean Actual Performance (in %) of Top 10 Returns: 249.36\n",
      "Mean Predicted Performance (in %) of Bottom 10 Returns: -93.11\n",
      "Mean Actual Performance (in %) of Bottom 10 Returns: 37.64\n",
      "--------------\n",
      "\n",
      "time: 5.03 s (started: 2022-10-13 14:21:50 +08:00)\n"
     ]
    }
   ],
   "source": [
    "df_top10act['DT'], df_bottom10act['DT'] = testPredictionAbility(pl_dt, X, y, 10)"
   ]
  },
  {
   "cell_type": "code",
   "execution_count": 54,
   "id": "061d33ec",
   "metadata": {},
   "outputs": [
    {
     "data": {
      "image/png": "[encoded data removed]",
      "text/plain": [
       "<Figure size 432x288 with 1 Axes>"
      ]
     },
     "metadata": {
      "needs_background": "light"
     },
     "output_type": "display_data"
    },
    {
     "name": "stdout",
     "output_type": "stream",
     "text": [
      "time: 344 ms (started: 2022-10-13 14:21:55 +08:00)\n"
     ]
    }
   ],
   "source": [
    "plotScatter('Decision Trees', y_test.to_numpy(), y_pred, 2)"
   ]
  },
  {
   "cell_type": "markdown",
   "id": "868c55e2",
   "metadata": {},
   "source": [
    "# Model 5: Random Forest"
   ]
  },
  {
   "cell_type": "code",
   "execution_count": 55,
   "id": "514affa1",
   "metadata": {},
   "outputs": [
    {
     "name": "stdout",
     "output_type": "stream",
     "text": [
      "time: 0 ns (started: 2022-10-13 14:21:56 +08:00)\n"
     ]
    }
   ],
   "source": [
    "rf = RandomForestRegressor(random_state=42, max_depth=10)"
   ]
  },
  {
   "cell_type": "code",
   "execution_count": 56,
   "id": "99216531",
   "metadata": {},
   "outputs": [
    {
     "name": "stdout",
     "output_type": "stream",
     "text": [
      "time: 22.4 s (started: 2022-10-13 14:21:56 +08:00)\n"
     ]
    }
   ],
   "source": [
    "# fit and predict using Random Forest\n",
    "rf.fit(X_train, y_train)\n",
    "y_pred = rf.predict(X_test)"
   ]
  },
  {
   "cell_type": "code",
   "execution_count": 57,
   "id": "5af7dc31",
   "metadata": {
    "scrolled": true
   },
   "outputs": [
    {
     "name": "stdout",
     "output_type": "stream",
     "text": [
      "Train MSE: 0.6249445023981366\n",
      "Test MSE: 2.258168306105124\n",
      "Generalisation: -261.339%\n",
      "time: 156 ms (started: 2022-10-13 14:22:18 +08:00)\n"
     ]
    }
   ],
   "source": [
    "mse_train = mean_squared_error(y_train, rf.predict(X_train), squared=True)\n",
    "mse_test = mean_squared_error(y_test, y_pred, squared=True)\n",
    "pct_diff = round((1-mse_test/mse_train)*100,3)\n",
    "\n",
    "print('Train MSE:', mse_train)\n",
    "print('Test MSE:', mse_test)\n",
    "print(f'Generalisation: {pct_diff}%')\n",
    "\n",
    "# Save for use in later notebook\n",
    "pickle.dump(rf, open(\"rf_regressor.p\", \"wb\" ))"
   ]
  },
  {
   "cell_type": "code",
   "execution_count": 58,
   "id": "d47d8b43",
   "metadata": {},
   "outputs": [
    {
     "data": {
      "image/png": "[encoded data removed]",
      "text/plain": [
       "<Figure size 432x288 with 1 Axes>"
      ]
     },
     "metadata": {
      "needs_background": "light"
     },
     "output_type": "display_data"
    },
    {
     "name": "stdout",
     "output_type": "stream",
     "text": [
      "time: 312 ms (started: 2022-10-13 14:22:18 +08:00)\n"
     ]
    }
   ],
   "source": [
    "plotScatter('Random Forest', y_test.to_numpy(), y_pred, 2)"
   ]
  },
  {
   "cell_type": "code",
   "execution_count": 59,
   "id": "0db1a92c",
   "metadata": {},
   "outputs": [
    {
     "name": "stdout",
     "output_type": "stream",
     "text": [
      "Predicted Performance (in %) of Top 10 Returns (10 runs): \n",
      " [772.42, 437.49, 554.83, 486.59, 483.12, 897.86, 534.97, 611.15, 504.14, 432.14]\n",
      "Actual Performance (in %) of Top 10 Returns (10 runs) \n",
      " [148.54, 1182.74, 409.06, 804.08, 180.25, 696.65, 606.12, 289.08, 389.92, 315.37] \n",
      "\n",
      "Predicted Performance (in %) of Bottom 10 Returns (10 runs): \n",
      " [-13.27, -12.42, -14.47, -12.18, -11.47, -10.47, -12.38, -14.05, -18.61, -11.66]\n",
      "Actual Performance (in %) of Bottom 10 Returns (10 runs): \n",
      " [-66.69, -21.68, -0.77, -19.47, -33.34, -51.03, -46.34, -30.86, -45.08, -31.08]\n",
      "--------------\n",
      "\n",
      "Mean Predicted Std. Dev. (in %) of Top 10 Returns: 143.88\n",
      "Mean Actual Std. Dev. (in %) of Top 10 Returns: 305.49\n",
      "Mean Predicted Std. Dev. (in %) of Bottom 10 Returns: 2.16\n",
      "Mean Actual Std. Dev. (in %) of Bottom 10 Returns: 17.65\n",
      "--------------\n",
      "\n",
      "Mean Predicted Performance (in %) of Top 10 Returns: 571.47\n",
      "Mean Actual Performance (in %) of Top 10 Returns: 502.18\n",
      "Mean Predicted Performance (in %) of Bottom 10 Returns: -13.1\n",
      "Mean Actual Performance (in %) of Bottom 10 Returns: -34.63\n",
      "--------------\n",
      "\n",
      "time: 3min 50s (started: 2022-10-13 14:22:18 +08:00)\n"
     ]
    }
   ],
   "source": [
    "df_top10act['RF'], df_bottom10act['RF'] = testPredictionAbility(rf, X, y, 10)"
   ]
  },
  {
   "cell_type": "code",
   "execution_count": 60,
   "id": "957e1d31",
   "metadata": {},
   "outputs": [
    {
     "name": "stdout",
     "output_type": "stream",
     "text": [
      "time: 16 ms (started: 2022-10-13 14:26:09 +08:00)\n"
     ]
    }
   ],
   "source": [
    "# Finding which are the more important features\n",
    "rf_features = zip(X.keys(), rf.feature_importances_)\n",
    "df_featimpt = pd.DataFrame(rf_features, columns=['Feature', 'rf_gini'])\n",
    "\n",
    "# Sort features by importance\n",
    "df_featimpt = df_featimpt.sort_values(by='rf_gini', ascending=1)"
   ]
  },
  {
   "cell_type": "code",
   "execution_count": 61,
   "id": "01d8774f",
   "metadata": {
    "scrolled": false
   },
   "outputs": [
    {
     "data": {
      "text/html": [
       "<div>\n",
       "<style scoped>\n",
       "    .dataframe tbody tr th:only-of-type {\n",
       "        vertical-align: middle;\n",
       "    }\n",
       "\n",
       "    .dataframe tbody tr th {\n",
       "        vertical-align: top;\n",
       "    }\n",
       "\n",
       "    .dataframe thead th {\n",
       "        text-align: right;\n",
       "    }\n",
       "</style>\n",
       "<table border=\"1\" class=\"dataframe\">\n",
       "  <thead>\n",
       "    <tr style=\"text-align: right;\">\n",
       "      <th></th>\n",
       "      <th>Feature</th>\n",
       "      <th>rf_gini</th>\n",
       "    </tr>\n",
       "  </thead>\n",
       "  <tbody>\n",
       "    <tr>\n",
       "      <th>6</th>\n",
       "      <td>PM</td>\n",
       "      <td>0.002800</td>\n",
       "    </tr>\n",
       "    <tr>\n",
       "      <th>3</th>\n",
       "      <td>InvTO</td>\n",
       "      <td>0.007490</td>\n",
       "    </tr>\n",
       "    <tr>\n",
       "      <th>0</th>\n",
       "      <td>CR</td>\n",
       "      <td>0.019706</td>\n",
       "    </tr>\n",
       "    <tr>\n",
       "      <th>5</th>\n",
       "      <td>NWC_TO</td>\n",
       "      <td>0.022218</td>\n",
       "    </tr>\n",
       "    <tr>\n",
       "      <th>18</th>\n",
       "      <td>WorkingCap</td>\n",
       "      <td>0.023073</td>\n",
       "    </tr>\n",
       "    <tr>\n",
       "      <th>7</th>\n",
       "      <td>GPM</td>\n",
       "      <td>0.024920</td>\n",
       "    </tr>\n",
       "    <tr>\n",
       "      <th>13</th>\n",
       "      <td>EV_EBIT</td>\n",
       "      <td>0.028830</td>\n",
       "    </tr>\n",
       "    <tr>\n",
       "      <th>1</th>\n",
       "      <td>Acid</td>\n",
       "      <td>0.032317</td>\n",
       "    </tr>\n",
       "    <tr>\n",
       "      <th>4</th>\n",
       "      <td>AssetTurnover</td>\n",
       "      <td>0.034314</td>\n",
       "    </tr>\n",
       "    <tr>\n",
       "      <th>8</th>\n",
       "      <td>ROE</td>\n",
       "      <td>0.040818</td>\n",
       "    </tr>\n",
       "    <tr>\n",
       "      <th>22</th>\n",
       "      <td>EBIT_TA</td>\n",
       "      <td>0.043729</td>\n",
       "    </tr>\n",
       "    <tr>\n",
       "      <th>2</th>\n",
       "      <td>CashRatio</td>\n",
       "      <td>0.043994</td>\n",
       "    </tr>\n",
       "    <tr>\n",
       "      <th>17</th>\n",
       "      <td>Equity_Liab</td>\n",
       "      <td>0.049828</td>\n",
       "    </tr>\n",
       "    <tr>\n",
       "      <th>19</th>\n",
       "      <td>OI_NWCFA</td>\n",
       "      <td>0.050681</td>\n",
       "    </tr>\n",
       "    <tr>\n",
       "      <th>14</th>\n",
       "      <td>DE</td>\n",
       "      <td>0.052829</td>\n",
       "    </tr>\n",
       "    <tr>\n",
       "      <th>20</th>\n",
       "      <td>WC_TA</td>\n",
       "      <td>0.052994</td>\n",
       "    </tr>\n",
       "    <tr>\n",
       "      <th>12</th>\n",
       "      <td>PS</td>\n",
       "      <td>0.054507</td>\n",
       "    </tr>\n",
       "    <tr>\n",
       "      <th>10</th>\n",
       "      <td>PE</td>\n",
       "      <td>0.057633</td>\n",
       "    </tr>\n",
       "    <tr>\n",
       "      <th>9</th>\n",
       "      <td>ROCE</td>\n",
       "      <td>0.059142</td>\n",
       "    </tr>\n",
       "    <tr>\n",
       "      <th>16</th>\n",
       "      <td>ICR</td>\n",
       "      <td>0.065213</td>\n",
       "    </tr>\n",
       "    <tr>\n",
       "      <th>21</th>\n",
       "      <td>RE_TA</td>\n",
       "      <td>0.073144</td>\n",
       "    </tr>\n",
       "    <tr>\n",
       "      <th>15</th>\n",
       "      <td>DebtRatio</td>\n",
       "      <td>0.073830</td>\n",
       "    </tr>\n",
       "    <tr>\n",
       "      <th>11</th>\n",
       "      <td>PB</td>\n",
       "      <td>0.085991</td>\n",
       "    </tr>\n",
       "  </tbody>\n",
       "</table>\n",
       "</div>"
      ],
      "text/plain": [
       "          Feature   rf_gini\n",
       "6              PM  0.002800\n",
       "3           InvTO  0.007490\n",
       "0              CR  0.019706\n",
       "5          NWC_TO  0.022218\n",
       "18     WorkingCap  0.023073\n",
       "7             GPM  0.024920\n",
       "13        EV_EBIT  0.028830\n",
       "1            Acid  0.032317\n",
       "4   AssetTurnover  0.034314\n",
       "8             ROE  0.040818\n",
       "22        EBIT_TA  0.043729\n",
       "2       CashRatio  0.043994\n",
       "17    Equity_Liab  0.049828\n",
       "19       OI_NWCFA  0.050681\n",
       "14             DE  0.052829\n",
       "20          WC_TA  0.052994\n",
       "12             PS  0.054507\n",
       "10             PE  0.057633\n",
       "9            ROCE  0.059142\n",
       "16            ICR  0.065213\n",
       "21          RE_TA  0.073144\n",
       "15      DebtRatio  0.073830\n",
       "11             PB  0.085991"
      ]
     },
     "execution_count": 61,
     "metadata": {},
     "output_type": "execute_result"
    },
    {
     "name": "stdout",
     "output_type": "stream",
     "text": [
      "time: 0 ns (started: 2022-10-13 14:26:09 +08:00)\n"
     ]
    }
   ],
   "source": [
    "df_featimpt"
   ]
  },
  {
   "cell_type": "code",
   "execution_count": 62,
   "id": "6cc815cf",
   "metadata": {
    "scrolled": true
   },
   "outputs": [
    {
     "data": {
      "text/plain": [
       "Text(0.5, 0, 'Gini Importance')"
      ]
     },
     "execution_count": 62,
     "metadata": {},
     "output_type": "execute_result"
    },
    {
     "data": {
      "text/plain": [
       "<Figure size 864x432 with 0 Axes>"
      ]
     },
     "metadata": {},
     "output_type": "display_data"
    },
    {
     "data": {
      "image/png": "[encoded data removed]",
      "text/plain": [
       "<Figure size 432x288 with 1 Axes>"
      ]
     },
     "metadata": {
      "needs_background": "light"
     },
     "output_type": "display_data"
    },
    {
     "name": "stdout",
     "output_type": "stream",
     "text": [
      "time: 203 ms (started: 2022-10-13 14:26:09 +08:00)\n"
     ]
    }
   ],
   "source": [
    "# Plot the feature importance graph\n",
    "plt.figure(figsize=(12,6))\n",
    "df_featimpt.plot.barh(x='Feature', y='rf_gini')\n",
    "plt.grid(axis='x')\n",
    "plt.ylabel('Feature');\n",
    "plt.xlabel('Gini Importance')"
   ]
  },
  {
   "cell_type": "markdown",
   "id": "eaec67e6",
   "metadata": {},
   "source": [
    "# Evaluation of results"
   ]
  },
  {
   "cell_type": "code",
   "execution_count": 63,
   "id": "1f961034",
   "metadata": {},
   "outputs": [
    {
     "data": {
      "text/html": [
       "<div>\n",
       "<style scoped>\n",
       "    .dataframe tbody tr th:only-of-type {\n",
       "        vertical-align: middle;\n",
       "    }\n",
       "\n",
       "    .dataframe tbody tr th {\n",
       "        vertical-align: top;\n",
       "    }\n",
       "\n",
       "    .dataframe thead th {\n",
       "        text-align: right;\n",
       "    }\n",
       "</style>\n",
       "<table border=\"1\" class=\"dataframe\">\n",
       "  <thead>\n",
       "    <tr style=\"text-align: right;\">\n",
       "      <th></th>\n",
       "      <th>LR</th>\n",
       "      <th>Enet</th>\n",
       "      <th>Ridge</th>\n",
       "      <th>KNN</th>\n",
       "      <th>DT</th>\n",
       "      <th>RF</th>\n",
       "    </tr>\n",
       "  </thead>\n",
       "  <tbody>\n",
       "    <tr>\n",
       "      <th>0</th>\n",
       "      <td>79.72</td>\n",
       "      <td>-7.20</td>\n",
       "      <td>102.99</td>\n",
       "      <td>134.66</td>\n",
       "      <td>343.44</td>\n",
       "      <td>148.54</td>\n",
       "    </tr>\n",
       "    <tr>\n",
       "      <th>1</th>\n",
       "      <td>43.65</td>\n",
       "      <td>42.60</td>\n",
       "      <td>33.66</td>\n",
       "      <td>-40.38</td>\n",
       "      <td>444.85</td>\n",
       "      <td>1182.74</td>\n",
       "    </tr>\n",
       "    <tr>\n",
       "      <th>2</th>\n",
       "      <td>193.37</td>\n",
       "      <td>72.45</td>\n",
       "      <td>194.58</td>\n",
       "      <td>223.70</td>\n",
       "      <td>338.63</td>\n",
       "      <td>409.06</td>\n",
       "    </tr>\n",
       "    <tr>\n",
       "      <th>3</th>\n",
       "      <td>55.09</td>\n",
       "      <td>40.84</td>\n",
       "      <td>49.52</td>\n",
       "      <td>23.00</td>\n",
       "      <td>179.50</td>\n",
       "      <td>804.08</td>\n",
       "    </tr>\n",
       "    <tr>\n",
       "      <th>4</th>\n",
       "      <td>156.28</td>\n",
       "      <td>-0.79</td>\n",
       "      <td>7.24</td>\n",
       "      <td>122.85</td>\n",
       "      <td>208.40</td>\n",
       "      <td>180.25</td>\n",
       "    </tr>\n",
       "    <tr>\n",
       "      <th>5</th>\n",
       "      <td>209.24</td>\n",
       "      <td>31.44</td>\n",
       "      <td>132.34</td>\n",
       "      <td>58.15</td>\n",
       "      <td>228.15</td>\n",
       "      <td>696.65</td>\n",
       "    </tr>\n",
       "    <tr>\n",
       "      <th>6</th>\n",
       "      <td>153.33</td>\n",
       "      <td>20.23</td>\n",
       "      <td>9.30</td>\n",
       "      <td>60.69</td>\n",
       "      <td>190.47</td>\n",
       "      <td>606.12</td>\n",
       "    </tr>\n",
       "    <tr>\n",
       "      <th>7</th>\n",
       "      <td>40.79</td>\n",
       "      <td>3.51</td>\n",
       "      <td>60.70</td>\n",
       "      <td>-20.22</td>\n",
       "      <td>211.84</td>\n",
       "      <td>289.08</td>\n",
       "    </tr>\n",
       "    <tr>\n",
       "      <th>8</th>\n",
       "      <td>55.09</td>\n",
       "      <td>36.46</td>\n",
       "      <td>73.62</td>\n",
       "      <td>170.11</td>\n",
       "      <td>231.70</td>\n",
       "      <td>389.92</td>\n",
       "    </tr>\n",
       "    <tr>\n",
       "      <th>9</th>\n",
       "      <td>44.47</td>\n",
       "      <td>10.68</td>\n",
       "      <td>123.18</td>\n",
       "      <td>16.57</td>\n",
       "      <td>116.64</td>\n",
       "      <td>315.37</td>\n",
       "    </tr>\n",
       "  </tbody>\n",
       "</table>\n",
       "</div>"
      ],
      "text/plain": [
       "       LR   Enet   Ridge     KNN      DT       RF\n",
       "0   79.72  -7.20  102.99  134.66  343.44   148.54\n",
       "1   43.65  42.60   33.66  -40.38  444.85  1182.74\n",
       "2  193.37  72.45  194.58  223.70  338.63   409.06\n",
       "3   55.09  40.84   49.52   23.00  179.50   804.08\n",
       "4  156.28  -0.79    7.24  122.85  208.40   180.25\n",
       "5  209.24  31.44  132.34   58.15  228.15   696.65\n",
       "6  153.33  20.23    9.30   60.69  190.47   606.12\n",
       "7   40.79   3.51   60.70  -20.22  211.84   289.08\n",
       "8   55.09  36.46   73.62  170.11  231.70   389.92\n",
       "9   44.47  10.68  123.18   16.57  116.64   315.37"
      ]
     },
     "execution_count": 63,
     "metadata": {},
     "output_type": "execute_result"
    },
    {
     "name": "stdout",
     "output_type": "stream",
     "text": [
      "time: 15 ms (started: 2022-10-13 14:26:09 +08:00)\n"
     ]
    }
   ],
   "source": [
    "df_top10act"
   ]
  },
  {
   "cell_type": "code",
   "execution_count": 64,
   "id": "ad4c3da7",
   "metadata": {},
   "outputs": [
    {
     "data": {
      "text/html": [
       "<div>\n",
       "<style scoped>\n",
       "    .dataframe tbody tr th:only-of-type {\n",
       "        vertical-align: middle;\n",
       "    }\n",
       "\n",
       "    .dataframe tbody tr th {\n",
       "        vertical-align: top;\n",
       "    }\n",
       "\n",
       "    .dataframe thead th {\n",
       "        text-align: right;\n",
       "    }\n",
       "</style>\n",
       "<table border=\"1\" class=\"dataframe\">\n",
       "  <thead>\n",
       "    <tr style=\"text-align: right;\">\n",
       "      <th></th>\n",
       "      <th>LR</th>\n",
       "      <th>Enet</th>\n",
       "      <th>Ridge</th>\n",
       "      <th>KNN</th>\n",
       "      <th>DT</th>\n",
       "      <th>RF</th>\n",
       "    </tr>\n",
       "  </thead>\n",
       "  <tbody>\n",
       "    <tr>\n",
       "      <th>0</th>\n",
       "      <td>10.59</td>\n",
       "      <td>46.41</td>\n",
       "      <td>119.88</td>\n",
       "      <td>-30.91</td>\n",
       "      <td>47.42</td>\n",
       "      <td>-66.69</td>\n",
       "    </tr>\n",
       "    <tr>\n",
       "      <th>1</th>\n",
       "      <td>11.50</td>\n",
       "      <td>51.69</td>\n",
       "      <td>17.12</td>\n",
       "      <td>16.93</td>\n",
       "      <td>-14.78</td>\n",
       "      <td>-21.68</td>\n",
       "    </tr>\n",
       "    <tr>\n",
       "      <th>2</th>\n",
       "      <td>12.69</td>\n",
       "      <td>32.81</td>\n",
       "      <td>11.26</td>\n",
       "      <td>-24.83</td>\n",
       "      <td>30.05</td>\n",
       "      <td>-0.77</td>\n",
       "    </tr>\n",
       "    <tr>\n",
       "      <th>3</th>\n",
       "      <td>29.02</td>\n",
       "      <td>-21.40</td>\n",
       "      <td>14.79</td>\n",
       "      <td>-20.67</td>\n",
       "      <td>-15.22</td>\n",
       "      <td>-19.47</td>\n",
       "    </tr>\n",
       "    <tr>\n",
       "      <th>4</th>\n",
       "      <td>23.68</td>\n",
       "      <td>60.13</td>\n",
       "      <td>26.34</td>\n",
       "      <td>-23.41</td>\n",
       "      <td>141.27</td>\n",
       "      <td>-33.34</td>\n",
       "    </tr>\n",
       "    <tr>\n",
       "      <th>5</th>\n",
       "      <td>22.22</td>\n",
       "      <td>-7.30</td>\n",
       "      <td>25.84</td>\n",
       "      <td>-32.66</td>\n",
       "      <td>16.58</td>\n",
       "      <td>-51.03</td>\n",
       "    </tr>\n",
       "    <tr>\n",
       "      <th>6</th>\n",
       "      <td>17.61</td>\n",
       "      <td>29.46</td>\n",
       "      <td>131.87</td>\n",
       "      <td>-20.07</td>\n",
       "      <td>14.27</td>\n",
       "      <td>-46.34</td>\n",
       "    </tr>\n",
       "    <tr>\n",
       "      <th>7</th>\n",
       "      <td>11.55</td>\n",
       "      <td>6.68</td>\n",
       "      <td>132.02</td>\n",
       "      <td>-7.81</td>\n",
       "      <td>11.08</td>\n",
       "      <td>-30.86</td>\n",
       "    </tr>\n",
       "    <tr>\n",
       "      <th>8</th>\n",
       "      <td>42.18</td>\n",
       "      <td>30.45</td>\n",
       "      <td>44.02</td>\n",
       "      <td>19.19</td>\n",
       "      <td>144.16</td>\n",
       "      <td>-45.08</td>\n",
       "    </tr>\n",
       "    <tr>\n",
       "      <th>9</th>\n",
       "      <td>19.83</td>\n",
       "      <td>43.07</td>\n",
       "      <td>15.64</td>\n",
       "      <td>-6.83</td>\n",
       "      <td>1.58</td>\n",
       "      <td>-31.08</td>\n",
       "    </tr>\n",
       "  </tbody>\n",
       "</table>\n",
       "</div>"
      ],
      "text/plain": [
       "      LR   Enet   Ridge    KNN      DT     RF\n",
       "0  10.59  46.41  119.88 -30.91   47.42 -66.69\n",
       "1  11.50  51.69   17.12  16.93  -14.78 -21.68\n",
       "2  12.69  32.81   11.26 -24.83   30.05  -0.77\n",
       "3  29.02 -21.40   14.79 -20.67  -15.22 -19.47\n",
       "4  23.68  60.13   26.34 -23.41  141.27 -33.34\n",
       "5  22.22  -7.30   25.84 -32.66   16.58 -51.03\n",
       "6  17.61  29.46  131.87 -20.07   14.27 -46.34\n",
       "7  11.55   6.68  132.02  -7.81   11.08 -30.86\n",
       "8  42.18  30.45   44.02  19.19  144.16 -45.08\n",
       "9  19.83  43.07   15.64  -6.83    1.58 -31.08"
      ]
     },
     "execution_count": 64,
     "metadata": {},
     "output_type": "execute_result"
    },
    {
     "name": "stdout",
     "output_type": "stream",
     "text": [
      "time: 16 ms (started: 2022-10-13 14:26:09 +08:00)\n"
     ]
    }
   ],
   "source": [
    "df_bottom10act"
   ]
  },
  {
   "cell_type": "code",
   "execution_count": 65,
   "id": "7e298aea",
   "metadata": {},
   "outputs": [
    {
     "data": {
      "image/png": "[encoded data removed]",
      "text/plain": [
       "<Figure size 1008x576 with 1 Axes>"
      ]
     },
     "metadata": {
      "needs_background": "light"
     },
     "output_type": "display_data"
    },
    {
     "name": "stdout",
     "output_type": "stream",
     "text": [
      "time: 172 ms (started: 2022-10-13 14:26:09 +08:00)\n"
     ]
    }
   ],
   "source": [
    "plt.figure(figsize=(14,8))\n",
    "\n",
    "# Plot the mean of the top 10 returns from 10 runs\n",
    "df_top10act.mean().plot(linewidth=0, marker='*', markersize=20,\n",
    "                        markerfacecolor='g', markeredgecolor='g', fontsize=16)\n",
    "\n",
    "# Plot the mean of the bottom 10 returns from 10 runs\n",
    "df_bottom10act.mean().plot(linewidth=0, marker='o', markersize=20,\n",
    "                           markerfacecolor='b', markeredgecolor='b', fontsize=16, alpha=0.2)\n",
    "\n",
    "plt.legend(['Mean Top 10 Returns', 'Mean Bottom 10 Returns'], prop={'size': 15})\n",
    "plt.ylim([-100, 500])\n",
    "plt.title('Results of Mean Portfolio Returns from 10 runs,\\n\\\n",
    "Top 10/Bottom 10 Stocks Each Portfolio', fontsize=15)\n",
    "\n",
    "plt.ylabel('Returns %', fontsize=15)\n",
    "plt.grid()"
   ]
  },
  {
   "cell_type": "markdown",
   "id": "7fc32514",
   "metadata": {},
   "source": [
    "We want to see a good separation from the top 10 returns and the bottom 10 returns, so we will try to improve the performance of the Random Forest Regressor."
   ]
  },
  {
   "cell_type": "code",
   "execution_count": 66,
   "id": "b7ae30a6",
   "metadata": {},
   "outputs": [
    {
     "data": {
      "text/plain": [
       "array([[ 2.81245913e+00,  2.37479623e+00,  1.38739600e+00,\n",
       "         3.81456581e-02,  2.65753009e+01,  1.21942368e+00,\n",
       "         8.87364743e-02,  3.98067819e-01, -8.90105343e-03,\n",
       "        -1.21797160e-02,  5.09709771e+01,  4.40183108e+00,\n",
       "         3.61611571e+01,  3.68162486e+01,  2.45319449e+00,\n",
       "         2.70134084e+00, -1.16812422e+01,  1.60197986e+00,\n",
       "         2.81245913e+00,  3.25168541e-02,  2.04719349e-01,\n",
       "        -5.29406665e-01, -1.26341603e-02]])"
      ]
     },
     "execution_count": 66,
     "metadata": {},
     "output_type": "execute_result"
    },
    {
     "name": "stdout",
     "output_type": "stream",
     "text": [
      "time: 15 ms (started: 2022-10-13 14:26:09 +08:00)\n"
     ]
    }
   ],
   "source": [
    "# Variables from an average company\n",
    "X.mean().values.reshape(1,-1)"
   ]
  },
  {
   "cell_type": "code",
   "execution_count": 67,
   "id": "bd411bda",
   "metadata": {},
   "outputs": [
    {
     "data": {
      "text/plain": [
       "array([0.46304304])"
      ]
     },
     "execution_count": 67,
     "metadata": {},
     "output_type": "execute_result"
    },
    {
     "name": "stdout",
     "output_type": "stream",
     "text": [
      "time: 16 ms (started: 2022-10-13 14:26:09 +08:00)\n"
     ]
    }
   ],
   "source": [
    "# If we pass this variables to the RandomForest algorithm, it should give us an average return\n",
    "avg_company = pd.DataFrame(X.mean().values.reshape(1,-1), columns=X.columns)\n",
    "rf.predict(avg_company)"
   ]
  },
  {
   "cell_type": "markdown",
   "id": "0f72bd92",
   "metadata": {},
   "source": [
    "Looks a little high, as it is saying that an average company should return 46% annually."
   ]
  },
  {
   "cell_type": "code",
   "execution_count": null,
   "id": "ca5561f8",
   "metadata": {},
   "outputs": [],
   "source": []
  }
 ],
 "metadata": {
  "kernelspec": {
   "display_name": "Python 3 (ipykernel)",
   "language": "python",
   "name": "python3"
  },
  "language_info": {
   "codemirror_mode": {
    "name": "ipython",
    "version": 3
   },
   "file_extension": ".py",
   "mimetype": "text/x-python",
   "name": "python",
   "nbconvert_exporter": "python",
   "pygments_lexer": "ipython3",
   "version": "3.9.7"
  }
 },
 "nbformat": 4,
 "nbformat_minor": 5
}
