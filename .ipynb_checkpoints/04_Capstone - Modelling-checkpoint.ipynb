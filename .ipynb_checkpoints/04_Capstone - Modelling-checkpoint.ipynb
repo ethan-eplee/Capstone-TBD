{
 "cells": [
  {
   "cell_type": "code",
   "execution_count": 1,
   "id": "925a5db6",
   "metadata": {},
   "outputs": [
    {
     "name": "stdout",
     "output_type": "stream",
     "text": [
      "time: 1.86 s (started: 2022-10-06 09:52:30 +08:00)\n"
     ]
    }
   ],
   "source": [
    "%load_ext autotime\n",
    "import pandas as pd\n",
    "import numpy as np\n",
    "import matplotlib.pyplot as plt\n",
    "import seaborn as sns\n",
    "\n",
    "import pickle\n",
    "import time\n",
    "\n",
    "from sklearn.model_selection import train_test_split\n",
    "from sklearn.model_selection import learning_curve\n",
    "from sklearn.model_selection import ShuffleSplit\n",
    "\n",
    "from sklearn.neighbors import KNeighborsRegressor\n",
    "\n",
    "from sklearn.linear_model import LinearRegression\n",
    "from sklearn.linear_model import ElasticNet\n",
    "\n",
    "from sklearn.preprocessing import PowerTransformer\n",
    "from sklearn.pipeline import Pipeline\n",
    "from sklearn.metrics import mean_squared_error"
   ]
  },
  {
   "cell_type": "code",
   "execution_count": 2,
   "id": "19a7c2f6",
   "metadata": {},
   "outputs": [
    {
     "name": "stdout",
     "output_type": "stream",
     "text": [
      "time: 16 ms (started: 2022-10-06 09:52:31 +08:00)\n"
     ]
    }
   ],
   "source": [
    "x = pickle.load(open('./data/fundamentals3.pkl', 'rb'))\n",
    "y = pickle.load(open('./data/performance3.pkl', 'rb'))"
   ]
  },
  {
   "cell_type": "markdown",
   "id": "72c0f5f1",
   "metadata": {},
   "source": [
    "Remember that our data started from Sep 2016 and runs all the way till Sep 2021."
   ]
  },
  {
   "cell_type": "code",
   "execution_count": 3,
   "id": "bd5f60b4",
   "metadata": {},
   "outputs": [
    {
     "data": {
      "text/html": [
       "<div>\n",
       "<style scoped>\n",
       "    .dataframe tbody tr th:only-of-type {\n",
       "        vertical-align: middle;\n",
       "    }\n",
       "\n",
       "    .dataframe tbody tr th {\n",
       "        vertical-align: top;\n",
       "    }\n",
       "\n",
       "    .dataframe thead th {\n",
       "        text-align: right;\n",
       "    }\n",
       "</style>\n",
       "<table border=\"1\" class=\"dataframe\">\n",
       "  <thead>\n",
       "    <tr style=\"text-align: right;\">\n",
       "      <th></th>\n",
       "      <th>EV_EBIT</th>\n",
       "      <th>OI_NWCFA</th>\n",
       "      <th>PE</th>\n",
       "      <th>PB</th>\n",
       "      <th>PS</th>\n",
       "      <th>OI_IntExp</th>\n",
       "      <th>WorkingCap</th>\n",
       "      <th>ROE</th>\n",
       "      <th>ROCE</th>\n",
       "      <th>DE</th>\n",
       "      <th>DebtRatio</th>\n",
       "      <th>CashRatio</th>\n",
       "      <th>AssetTurnover</th>\n",
       "      <th>GPM</th>\n",
       "      <th>WC_TA</th>\n",
       "      <th>RE_TA</th>\n",
       "      <th>EBIT_TA</th>\n",
       "      <th>Equity_Liab</th>\n",
       "    </tr>\n",
       "  </thead>\n",
       "  <tbody>\n",
       "    <tr>\n",
       "      <th>0</th>\n",
       "      <td>82.797844</td>\n",
       "      <td>0.054971</td>\n",
       "      <td>112.795556</td>\n",
       "      <td>3.347207</td>\n",
       "      <td>12.792295</td>\n",
       "      <td>11.437500</td>\n",
       "      <td>3.846561</td>\n",
       "      <td>0.029675</td>\n",
       "      <td>0.024383</td>\n",
       "      <td>0.835610</td>\n",
       "      <td>2.196731</td>\n",
       "      <td>2.422222</td>\n",
       "      <td>1.738654</td>\n",
       "      <td>0.529253</td>\n",
       "      <td>0.345137</td>\n",
       "      <td>0.781242</td>\n",
       "      <td>0.021427</td>\n",
       "      <td>1.196731</td>\n",
       "    </tr>\n",
       "    <tr>\n",
       "      <th>1</th>\n",
       "      <td>73.741818</td>\n",
       "      <td>0.064395</td>\n",
       "      <td>93.220476</td>\n",
       "      <td>3.642102</td>\n",
       "      <td>14.677638</td>\n",
       "      <td>12.875000</td>\n",
       "      <td>3.337925</td>\n",
       "      <td>0.039070</td>\n",
       "      <td>0.030812</td>\n",
       "      <td>0.830698</td>\n",
       "      <td>2.203807</td>\n",
       "      <td>2.057851</td>\n",
       "      <td>1.633997</td>\n",
       "      <td>0.537957</td>\n",
       "      <td>0.323425</td>\n",
       "      <td>-0.057546</td>\n",
       "      <td>0.026550</td>\n",
       "      <td>1.203807</td>\n",
       "    </tr>\n",
       "    <tr>\n",
       "      <th>2</th>\n",
       "      <td>85.881068</td>\n",
       "      <td>0.061131</td>\n",
       "      <td>109.984756</td>\n",
       "      <td>4.122857</td>\n",
       "      <td>16.367967</td>\n",
       "      <td>13.400000</td>\n",
       "      <td>3.201348</td>\n",
       "      <td>0.037486</td>\n",
       "      <td>0.030165</td>\n",
       "      <td>0.832229</td>\n",
       "      <td>2.201593</td>\n",
       "      <td>2.012637</td>\n",
       "      <td>1.632593</td>\n",
       "      <td>0.537205</td>\n",
       "      <td>0.325973</td>\n",
       "      <td>-0.049027</td>\n",
       "      <td>0.025699</td>\n",
       "      <td>1.201593</td>\n",
       "    </tr>\n",
       "    <tr>\n",
       "      <th>3</th>\n",
       "      <td>93.118058</td>\n",
       "      <td>0.057908</td>\n",
       "      <td>112.367543</td>\n",
       "      <td>4.264654</td>\n",
       "      <td>17.651993</td>\n",
       "      <td>15.461538</td>\n",
       "      <td>3.219984</td>\n",
       "      <td>0.037953</td>\n",
       "      <td>0.029345</td>\n",
       "      <td>0.791585</td>\n",
       "      <td>2.263288</td>\n",
       "      <td>2.065270</td>\n",
       "      <td>1.555866</td>\n",
       "      <td>0.535009</td>\n",
       "      <td>0.333495</td>\n",
       "      <td>-0.031473</td>\n",
       "      <td>0.024936</td>\n",
       "      <td>1.263288</td>\n",
       "    </tr>\n",
       "    <tr>\n",
       "      <th>4</th>\n",
       "      <td>89.891130</td>\n",
       "      <td>0.063609</td>\n",
       "      <td>125.146780</td>\n",
       "      <td>4.581382</td>\n",
       "      <td>18.629924</td>\n",
       "      <td>17.923077</td>\n",
       "      <td>3.300871</td>\n",
       "      <td>0.036608</td>\n",
       "      <td>0.033366</td>\n",
       "      <td>0.742709</td>\n",
       "      <td>2.346422</td>\n",
       "      <td>2.120348</td>\n",
       "      <td>1.570674</td>\n",
       "      <td>0.544155</td>\n",
       "      <td>0.344885</td>\n",
       "      <td>-0.014954</td>\n",
       "      <td>0.028365</td>\n",
       "      <td>1.346422</td>\n",
       "    </tr>\n",
       "    <tr>\n",
       "      <th>...</th>\n",
       "      <td>...</td>\n",
       "      <td>...</td>\n",
       "      <td>...</td>\n",
       "      <td>...</td>\n",
       "      <td>...</td>\n",
       "      <td>...</td>\n",
       "      <td>...</td>\n",
       "      <td>...</td>\n",
       "      <td>...</td>\n",
       "      <td>...</td>\n",
       "      <td>...</td>\n",
       "      <td>...</td>\n",
       "      <td>...</td>\n",
       "      <td>...</td>\n",
       "      <td>...</td>\n",
       "      <td>...</td>\n",
       "      <td>...</td>\n",
       "      <td>...</td>\n",
       "    </tr>\n",
       "    <tr>\n",
       "      <th>34497</th>\n",
       "      <td>190.226788</td>\n",
       "      <td>0.162071</td>\n",
       "      <td>263.172831</td>\n",
       "      <td>29.454035</td>\n",
       "      <td>41.218524</td>\n",
       "      <td>600.000000</td>\n",
       "      <td>4.955648</td>\n",
       "      <td>0.111919</td>\n",
       "      <td>0.132893</td>\n",
       "      <td>0.363616</td>\n",
       "      <td>3.750153</td>\n",
       "      <td>2.809967</td>\n",
       "      <td>13.838362</td>\n",
       "      <td>0.789181</td>\n",
       "      <td>0.647814</td>\n",
       "      <td>0.552518</td>\n",
       "      <td>0.111129</td>\n",
       "      <td>2.750153</td>\n",
       "    </tr>\n",
       "    <tr>\n",
       "      <th>34498</th>\n",
       "      <td>401.544454</td>\n",
       "      <td>0.027134</td>\n",
       "      <td>455.367693</td>\n",
       "      <td>11.194813</td>\n",
       "      <td>30.310853</td>\n",
       "      <td>281.800000</td>\n",
       "      <td>7.889376</td>\n",
       "      <td>0.024584</td>\n",
       "      <td>0.024432</td>\n",
       "      <td>0.198130</td>\n",
       "      <td>6.047194</td>\n",
       "      <td>5.651679</td>\n",
       "      <td>11.991617</td>\n",
       "      <td>0.785479</td>\n",
       "      <td>0.773617</td>\n",
       "      <td>0.333149</td>\n",
       "      <td>0.021689</td>\n",
       "      <td>5.047194</td>\n",
       "    </tr>\n",
       "    <tr>\n",
       "      <th>34499</th>\n",
       "      <td>206.724364</td>\n",
       "      <td>0.041892</td>\n",
       "      <td>278.735919</td>\n",
       "      <td>8.760902</td>\n",
       "      <td>19.453274</td>\n",
       "      <td>459.400000</td>\n",
       "      <td>6.229416</td>\n",
       "      <td>0.031431</td>\n",
       "      <td>0.035773</td>\n",
       "      <td>0.269457</td>\n",
       "      <td>4.711162</td>\n",
       "      <td>3.871998</td>\n",
       "      <td>13.301299</td>\n",
       "      <td>0.778988</td>\n",
       "      <td>0.733024</td>\n",
       "      <td>0.324628</td>\n",
       "      <td>0.030759</td>\n",
       "      <td>3.711162</td>\n",
       "    </tr>\n",
       "    <tr>\n",
       "      <th>34500</th>\n",
       "      <td>-451.177169</td>\n",
       "      <td>-0.020088</td>\n",
       "      <td>-738.189122</td>\n",
       "      <td>9.281098</td>\n",
       "      <td>21.600759</td>\n",
       "      <td>-120.111111</td>\n",
       "      <td>6.530220</td>\n",
       "      <td>-0.012573</td>\n",
       "      <td>-0.017744</td>\n",
       "      <td>0.250797</td>\n",
       "      <td>4.987290</td>\n",
       "      <td>3.589801</td>\n",
       "      <td>10.494563</td>\n",
       "      <td>0.756041</td>\n",
       "      <td>0.733442</td>\n",
       "      <td>0.323538</td>\n",
       "      <td>-0.015391</td>\n",
       "      <td>3.987290</td>\n",
       "    </tr>\n",
       "    <tr>\n",
       "      <th>34501</th>\n",
       "      <td>133.457796</td>\n",
       "      <td>0.069059</td>\n",
       "      <td>192.831728</td>\n",
       "      <td>9.449764</td>\n",
       "      <td>17.454435</td>\n",
       "      <td>84.777778</td>\n",
       "      <td>6.948487</td>\n",
       "      <td>0.049005</td>\n",
       "      <td>0.050998</td>\n",
       "      <td>0.460698</td>\n",
       "      <td>3.170619</td>\n",
       "      <td>3.636261</td>\n",
       "      <td>13.172824</td>\n",
       "      <td>0.765747</td>\n",
       "      <td>0.631891</td>\n",
       "      <td>0.305049</td>\n",
       "      <td>0.045581</td>\n",
       "      <td>2.170619</td>\n",
       "    </tr>\n",
       "  </tbody>\n",
       "</table>\n",
       "<p>34502 rows × 18 columns</p>\n",
       "</div>"
      ],
      "text/plain": [
       "          EV_EBIT  OI_NWCFA          PE         PB         PS   OI_IntExp  \\\n",
       "0       82.797844  0.054971  112.795556   3.347207  12.792295   11.437500   \n",
       "1       73.741818  0.064395   93.220476   3.642102  14.677638   12.875000   \n",
       "2       85.881068  0.061131  109.984756   4.122857  16.367967   13.400000   \n",
       "3       93.118058  0.057908  112.367543   4.264654  17.651993   15.461538   \n",
       "4       89.891130  0.063609  125.146780   4.581382  18.629924   17.923077   \n",
       "...           ...       ...         ...        ...        ...         ...   \n",
       "34497  190.226788  0.162071  263.172831  29.454035  41.218524  600.000000   \n",
       "34498  401.544454  0.027134  455.367693  11.194813  30.310853  281.800000   \n",
       "34499  206.724364  0.041892  278.735919   8.760902  19.453274  459.400000   \n",
       "34500 -451.177169 -0.020088 -738.189122   9.281098  21.600759 -120.111111   \n",
       "34501  133.457796  0.069059  192.831728   9.449764  17.454435   84.777778   \n",
       "\n",
       "       WorkingCap       ROE      ROCE        DE  DebtRatio  CashRatio  \\\n",
       "0        3.846561  0.029675  0.024383  0.835610   2.196731   2.422222   \n",
       "1        3.337925  0.039070  0.030812  0.830698   2.203807   2.057851   \n",
       "2        3.201348  0.037486  0.030165  0.832229   2.201593   2.012637   \n",
       "3        3.219984  0.037953  0.029345  0.791585   2.263288   2.065270   \n",
       "4        3.300871  0.036608  0.033366  0.742709   2.346422   2.120348   \n",
       "...           ...       ...       ...       ...        ...        ...   \n",
       "34497    4.955648  0.111919  0.132893  0.363616   3.750153   2.809967   \n",
       "34498    7.889376  0.024584  0.024432  0.198130   6.047194   5.651679   \n",
       "34499    6.229416  0.031431  0.035773  0.269457   4.711162   3.871998   \n",
       "34500    6.530220 -0.012573 -0.017744  0.250797   4.987290   3.589801   \n",
       "34501    6.948487  0.049005  0.050998  0.460698   3.170619   3.636261   \n",
       "\n",
       "       AssetTurnover       GPM     WC_TA     RE_TA   EBIT_TA  Equity_Liab  \n",
       "0           1.738654  0.529253  0.345137  0.781242  0.021427     1.196731  \n",
       "1           1.633997  0.537957  0.323425 -0.057546  0.026550     1.203807  \n",
       "2           1.632593  0.537205  0.325973 -0.049027  0.025699     1.201593  \n",
       "3           1.555866  0.535009  0.333495 -0.031473  0.024936     1.263288  \n",
       "4           1.570674  0.544155  0.344885 -0.014954  0.028365     1.346422  \n",
       "...              ...       ...       ...       ...       ...          ...  \n",
       "34497      13.838362  0.789181  0.647814  0.552518  0.111129     2.750153  \n",
       "34498      11.991617  0.785479  0.773617  0.333149  0.021689     5.047194  \n",
       "34499      13.301299  0.778988  0.733024  0.324628  0.030759     3.711162  \n",
       "34500      10.494563  0.756041  0.733442  0.323538 -0.015391     3.987290  \n",
       "34501      13.172824  0.765747  0.631891  0.305049  0.045581     2.170619  \n",
       "\n",
       "[34502 rows x 18 columns]"
      ]
     },
     "execution_count": 3,
     "metadata": {},
     "output_type": "execute_result"
    },
    {
     "name": "stdout",
     "output_type": "stream",
     "text": [
      "time: 15 ms (started: 2022-10-06 09:52:31 +08:00)\n"
     ]
    }
   ],
   "source": [
    "x"
   ]
  },
  {
   "cell_type": "code",
   "execution_count": 4,
   "id": "5eff3fbd",
   "metadata": {},
   "outputs": [
    {
     "name": "stdout",
     "output_type": "stream",
     "text": [
      "time: 0 ns (started: 2022-10-06 09:52:32 +08:00)\n"
     ]
    }
   ],
   "source": [
    "# Store the target returns temporarily\n",
    "returns = y['Returns']\n",
    "returns = returns.astype('float64')"
   ]
  },
  {
   "cell_type": "code",
   "execution_count": 5,
   "id": "74734f43",
   "metadata": {
    "scrolled": true
   },
   "outputs": [
    {
     "name": "stdout",
     "output_type": "stream",
     "text": [
      "time: 15 ms (started: 2022-10-06 09:52:32 +08:00)\n"
     ]
    }
   ],
   "source": [
    "# Add the Returns column to fundamentals data\n",
    "x['Returns'] = returns\n",
    "\n",
    "# Drop the null rows and reset index\n",
    "x = x.dropna(axis=0)\n",
    "x = x.reset_index(drop=True)\n",
    "\n",
    "# Randomise the rows for train-test-split\n",
    "# Specify frac=1 because we want all the rows back\n",
    "x = x.sample(frac=1, random_state=42)"
   ]
  },
  {
   "cell_type": "markdown",
   "id": "f051075c",
   "metadata": {},
   "source": [
    "After randomizing the rows in the x dataframe (with the targets), we want to split back dataset into x and y"
   ]
  },
  {
   "cell_type": "code",
   "execution_count": 6,
   "id": "21455854",
   "metadata": {},
   "outputs": [
    {
     "data": {
      "text/html": [
       "<div>\n",
       "<style scoped>\n",
       "    .dataframe tbody tr th:only-of-type {\n",
       "        vertical-align: middle;\n",
       "    }\n",
       "\n",
       "    .dataframe tbody tr th {\n",
       "        vertical-align: top;\n",
       "    }\n",
       "\n",
       "    .dataframe thead th {\n",
       "        text-align: right;\n",
       "    }\n",
       "</style>\n",
       "<table border=\"1\" class=\"dataframe\">\n",
       "  <thead>\n",
       "    <tr style=\"text-align: right;\">\n",
       "      <th></th>\n",
       "      <th>EV_EBIT</th>\n",
       "      <th>OI_NWCFA</th>\n",
       "      <th>PE</th>\n",
       "      <th>PB</th>\n",
       "      <th>PS</th>\n",
       "      <th>OI_IntExp</th>\n",
       "      <th>WorkingCap</th>\n",
       "      <th>ROE</th>\n",
       "      <th>ROCE</th>\n",
       "      <th>DE</th>\n",
       "      <th>DebtRatio</th>\n",
       "      <th>CashRatio</th>\n",
       "      <th>AssetTurnover</th>\n",
       "      <th>GPM</th>\n",
       "      <th>WC_TA</th>\n",
       "      <th>RE_TA</th>\n",
       "      <th>EBIT_TA</th>\n",
       "      <th>Equity_Liab</th>\n",
       "      <th>Returns</th>\n",
       "    </tr>\n",
       "  </thead>\n",
       "  <tbody>\n",
       "    <tr>\n",
       "      <th>9512</th>\n",
       "      <td>61.152309</td>\n",
       "      <td>0.011232</td>\n",
       "      <td>242.849305</td>\n",
       "      <td>1.746777</td>\n",
       "      <td>3.294929</td>\n",
       "      <td>1.873373</td>\n",
       "      <td>2.192989</td>\n",
       "      <td>0.007193</td>\n",
       "      <td>0.016495</td>\n",
       "      <td>1.825444</td>\n",
       "      <td>1.547812</td>\n",
       "      <td>0.562642</td>\n",
       "      <td>1.622053</td>\n",
       "      <td>0.298215</td>\n",
       "      <td>0.277082</td>\n",
       "      <td>0.768904</td>\n",
       "      <td>0.012664</td>\n",
       "      <td>0.547812</td>\n",
       "      <td>0.750888</td>\n",
       "    </tr>\n",
       "    <tr>\n",
       "      <th>14921</th>\n",
       "      <td>191.444304</td>\n",
       "      <td>0.055181</td>\n",
       "      <td>230.626925</td>\n",
       "      <td>9.566452</td>\n",
       "      <td>42.739314</td>\n",
       "      <td>-600.000000</td>\n",
       "      <td>4.801513</td>\n",
       "      <td>0.041480</td>\n",
       "      <td>0.045186</td>\n",
       "      <td>0.216496</td>\n",
       "      <td>5.619017</td>\n",
       "      <td>2.996542</td>\n",
       "      <td>1.144513</td>\n",
       "      <td>0.636591</td>\n",
       "      <td>0.528882</td>\n",
       "      <td>0.746598</td>\n",
       "      <td>0.038899</td>\n",
       "      <td>4.619017</td>\n",
       "      <td>0.118316</td>\n",
       "    </tr>\n",
       "    <tr>\n",
       "      <th>21084</th>\n",
       "      <td>23.341453</td>\n",
       "      <td>0.052044</td>\n",
       "      <td>24.003479</td>\n",
       "      <td>1.905213</td>\n",
       "      <td>4.938724</td>\n",
       "      <td>11.186488</td>\n",
       "      <td>4.820827</td>\n",
       "      <td>0.079372</td>\n",
       "      <td>0.044871</td>\n",
       "      <td>0.470829</td>\n",
       "      <td>3.123914</td>\n",
       "      <td>2.541647</td>\n",
       "      <td>3.084049</td>\n",
       "      <td>0.271395</td>\n",
       "      <td>0.634056</td>\n",
       "      <td>-0.042379</td>\n",
       "      <td>0.037425</td>\n",
       "      <td>2.123914</td>\n",
       "      <td>2.000000</td>\n",
       "    </tr>\n",
       "    <tr>\n",
       "      <th>3806</th>\n",
       "      <td>48.709866</td>\n",
       "      <td>0.040933</td>\n",
       "      <td>83.196719</td>\n",
       "      <td>1.997409</td>\n",
       "      <td>3.334102</td>\n",
       "      <td>-600.000000</td>\n",
       "      <td>2.071990</td>\n",
       "      <td>0.024008</td>\n",
       "      <td>0.031880</td>\n",
       "      <td>0.466795</td>\n",
       "      <td>3.142267</td>\n",
       "      <td>0.847927</td>\n",
       "      <td>1.120338</td>\n",
       "      <td>0.603364</td>\n",
       "      <td>0.269438</td>\n",
       "      <td>0.498095</td>\n",
       "      <td>0.023867</td>\n",
       "      <td>2.142267</td>\n",
       "      <td>-0.329577</td>\n",
       "    </tr>\n",
       "    <tr>\n",
       "      <th>14240</th>\n",
       "      <td>-119.286254</td>\n",
       "      <td>-0.018351</td>\n",
       "      <td>-115.973861</td>\n",
       "      <td>1.771494</td>\n",
       "      <td>8.553960</td>\n",
       "      <td>-7.463134</td>\n",
       "      <td>0.934720</td>\n",
       "      <td>-0.015275</td>\n",
       "      <td>-0.009852</td>\n",
       "      <td>1.293939</td>\n",
       "      <td>1.772834</td>\n",
       "      <td>0.003624</td>\n",
       "      <td>0.158042</td>\n",
       "      <td>0.021643</td>\n",
       "      <td>-0.003995</td>\n",
       "      <td>0.092568</td>\n",
       "      <td>-0.009249</td>\n",
       "      <td>0.772834</td>\n",
       "      <td>0.261229</td>\n",
       "    </tr>\n",
       "    <tr>\n",
       "      <th>...</th>\n",
       "      <td>...</td>\n",
       "      <td>...</td>\n",
       "      <td>...</td>\n",
       "      <td>...</td>\n",
       "      <td>...</td>\n",
       "      <td>...</td>\n",
       "      <td>...</td>\n",
       "      <td>...</td>\n",
       "      <td>...</td>\n",
       "      <td>...</td>\n",
       "      <td>...</td>\n",
       "      <td>...</td>\n",
       "      <td>...</td>\n",
       "      <td>...</td>\n",
       "      <td>...</td>\n",
       "      <td>...</td>\n",
       "      <td>...</td>\n",
       "      <td>...</td>\n",
       "      <td>...</td>\n",
       "    </tr>\n",
       "    <tr>\n",
       "      <th>21575</th>\n",
       "      <td>-500.000000</td>\n",
       "      <td>0.017007</td>\n",
       "      <td>-121.882374</td>\n",
       "      <td>1.055749</td>\n",
       "      <td>22.098571</td>\n",
       "      <td>2.068534</td>\n",
       "      <td>0.788793</td>\n",
       "      <td>-0.008662</td>\n",
       "      <td>-0.000447</td>\n",
       "      <td>0.921518</td>\n",
       "      <td>2.085166</td>\n",
       "      <td>0.292856</td>\n",
       "      <td>0.049423</td>\n",
       "      <td>0.759087</td>\n",
       "      <td>-0.007323</td>\n",
       "      <td>0.100303</td>\n",
       "      <td>-0.000432</td>\n",
       "      <td>1.085166</td>\n",
       "      <td>0.152987</td>\n",
       "    </tr>\n",
       "    <tr>\n",
       "      <th>5390</th>\n",
       "      <td>68.340866</td>\n",
       "      <td>0.020240</td>\n",
       "      <td>75.999256</td>\n",
       "      <td>2.859115</td>\n",
       "      <td>8.560492</td>\n",
       "      <td>3.055556</td>\n",
       "      <td>0.938080</td>\n",
       "      <td>0.037620</td>\n",
       "      <td>0.016970</td>\n",
       "      <td>3.838145</td>\n",
       "      <td>1.260543</td>\n",
       "      <td>0.062804</td>\n",
       "      <td>0.092861</td>\n",
       "      <td>0.582187</td>\n",
       "      <td>-0.006329</td>\n",
       "      <td>-0.019620</td>\n",
       "      <td>0.015235</td>\n",
       "      <td>0.260543</td>\n",
       "      <td>0.052348</td>\n",
       "    </tr>\n",
       "    <tr>\n",
       "      <th>860</th>\n",
       "      <td>-16.971842</td>\n",
       "      <td>-0.038020</td>\n",
       "      <td>-15.913231</td>\n",
       "      <td>0.634586</td>\n",
       "      <td>0.981254</td>\n",
       "      <td>-37.185246</td>\n",
       "      <td>3.073043</td>\n",
       "      <td>-0.039878</td>\n",
       "      <td>-0.036422</td>\n",
       "      <td>0.299700</td>\n",
       "      <td>4.336665</td>\n",
       "      <td>0.054848</td>\n",
       "      <td>1.921880</td>\n",
       "      <td>0.182595</td>\n",
       "      <td>0.478027</td>\n",
       "      <td>0.000000</td>\n",
       "      <td>-0.028023</td>\n",
       "      <td>3.336665</td>\n",
       "      <td>5.005319</td>\n",
       "    </tr>\n",
       "    <tr>\n",
       "      <th>15795</th>\n",
       "      <td>-55.388025</td>\n",
       "      <td>-2.090135</td>\n",
       "      <td>-28.933558</td>\n",
       "      <td>7.046389</td>\n",
       "      <td>10.972469</td>\n",
       "      <td>10.051195</td>\n",
       "      <td>0.560037</td>\n",
       "      <td>-0.243537</td>\n",
       "      <td>-0.040507</td>\n",
       "      <td>3.956257</td>\n",
       "      <td>1.252764</td>\n",
       "      <td>0.209345</td>\n",
       "      <td>3.494393</td>\n",
       "      <td>0.510064</td>\n",
       "      <td>-0.063708</td>\n",
       "      <td>0.754257</td>\n",
       "      <td>-0.034642</td>\n",
       "      <td>0.252764</td>\n",
       "      <td>-0.032547</td>\n",
       "    </tr>\n",
       "    <tr>\n",
       "      <th>23654</th>\n",
       "      <td>500.000000</td>\n",
       "      <td>0.009030</td>\n",
       "      <td>-50.988118</td>\n",
       "      <td>2.173912</td>\n",
       "      <td>5.075740</td>\n",
       "      <td>0.951220</td>\n",
       "      <td>8.196875</td>\n",
       "      <td>-0.042636</td>\n",
       "      <td>0.000441</td>\n",
       "      <td>3.706395</td>\n",
       "      <td>1.270065</td>\n",
       "      <td>3.356250</td>\n",
       "      <td>0.219246</td>\n",
       "      <td>0.260181</td>\n",
       "      <td>0.474063</td>\n",
       "      <td>-0.077604</td>\n",
       "      <td>0.000412</td>\n",
       "      <td>0.269804</td>\n",
       "      <td>-0.272628</td>\n",
       "    </tr>\n",
       "  </tbody>\n",
       "</table>\n",
       "<p>26685 rows × 19 columns</p>\n",
       "</div>"
      ],
      "text/plain": [
       "          EV_EBIT  OI_NWCFA          PE        PB         PS   OI_IntExp  \\\n",
       "9512    61.152309  0.011232  242.849305  1.746777   3.294929    1.873373   \n",
       "14921  191.444304  0.055181  230.626925  9.566452  42.739314 -600.000000   \n",
       "21084   23.341453  0.052044   24.003479  1.905213   4.938724   11.186488   \n",
       "3806    48.709866  0.040933   83.196719  1.997409   3.334102 -600.000000   \n",
       "14240 -119.286254 -0.018351 -115.973861  1.771494   8.553960   -7.463134   \n",
       "...           ...       ...         ...       ...        ...         ...   \n",
       "21575 -500.000000  0.017007 -121.882374  1.055749  22.098571    2.068534   \n",
       "5390    68.340866  0.020240   75.999256  2.859115   8.560492    3.055556   \n",
       "860    -16.971842 -0.038020  -15.913231  0.634586   0.981254  -37.185246   \n",
       "15795  -55.388025 -2.090135  -28.933558  7.046389  10.972469   10.051195   \n",
       "23654  500.000000  0.009030  -50.988118  2.173912   5.075740    0.951220   \n",
       "\n",
       "       WorkingCap       ROE      ROCE        DE  DebtRatio  CashRatio  \\\n",
       "9512     2.192989  0.007193  0.016495  1.825444   1.547812   0.562642   \n",
       "14921    4.801513  0.041480  0.045186  0.216496   5.619017   2.996542   \n",
       "21084    4.820827  0.079372  0.044871  0.470829   3.123914   2.541647   \n",
       "3806     2.071990  0.024008  0.031880  0.466795   3.142267   0.847927   \n",
       "14240    0.934720 -0.015275 -0.009852  1.293939   1.772834   0.003624   \n",
       "...           ...       ...       ...       ...        ...        ...   \n",
       "21575    0.788793 -0.008662 -0.000447  0.921518   2.085166   0.292856   \n",
       "5390     0.938080  0.037620  0.016970  3.838145   1.260543   0.062804   \n",
       "860      3.073043 -0.039878 -0.036422  0.299700   4.336665   0.054848   \n",
       "15795    0.560037 -0.243537 -0.040507  3.956257   1.252764   0.209345   \n",
       "23654    8.196875 -0.042636  0.000441  3.706395   1.270065   3.356250   \n",
       "\n",
       "       AssetTurnover       GPM     WC_TA     RE_TA   EBIT_TA  Equity_Liab  \\\n",
       "9512        1.622053  0.298215  0.277082  0.768904  0.012664     0.547812   \n",
       "14921       1.144513  0.636591  0.528882  0.746598  0.038899     4.619017   \n",
       "21084       3.084049  0.271395  0.634056 -0.042379  0.037425     2.123914   \n",
       "3806        1.120338  0.603364  0.269438  0.498095  0.023867     2.142267   \n",
       "14240       0.158042  0.021643 -0.003995  0.092568 -0.009249     0.772834   \n",
       "...              ...       ...       ...       ...       ...          ...   \n",
       "21575       0.049423  0.759087 -0.007323  0.100303 -0.000432     1.085166   \n",
       "5390        0.092861  0.582187 -0.006329 -0.019620  0.015235     0.260543   \n",
       "860         1.921880  0.182595  0.478027  0.000000 -0.028023     3.336665   \n",
       "15795       3.494393  0.510064 -0.063708  0.754257 -0.034642     0.252764   \n",
       "23654       0.219246  0.260181  0.474063 -0.077604  0.000412     0.269804   \n",
       "\n",
       "        Returns  \n",
       "9512   0.750888  \n",
       "14921  0.118316  \n",
       "21084  2.000000  \n",
       "3806  -0.329577  \n",
       "14240  0.261229  \n",
       "...         ...  \n",
       "21575  0.152987  \n",
       "5390   0.052348  \n",
       "860    5.005319  \n",
       "15795 -0.032547  \n",
       "23654 -0.272628  \n",
       "\n",
       "[26685 rows x 19 columns]"
      ]
     },
     "execution_count": 6,
     "metadata": {},
     "output_type": "execute_result"
    },
    {
     "name": "stdout",
     "output_type": "stream",
     "text": [
      "time: 15 ms (started: 2022-10-06 09:52:32 +08:00)\n"
     ]
    }
   ],
   "source": [
    "x"
   ]
  },
  {
   "cell_type": "code",
   "execution_count": 7,
   "id": "a164cf79",
   "metadata": {
    "scrolled": true
   },
   "outputs": [
    {
     "name": "stdout",
     "output_type": "stream",
     "text": [
      "time: 0 ns (started: 2022-10-06 09:52:32 +08:00)\n"
     ]
    }
   ],
   "source": [
    "y = x['Returns']\n",
    "X = x.drop(columns='Returns')"
   ]
  },
  {
   "cell_type": "code",
   "execution_count": 8,
   "id": "51ea6b69",
   "metadata": {
    "scrolled": true
   },
   "outputs": [
    {
     "data": {
      "text/plain": [
       "9512     0.750888\n",
       "14921    0.118316\n",
       "21084    2.000000\n",
       "3806    -0.329577\n",
       "14240    0.261229\n",
       "Name: Returns, dtype: float64"
      ]
     },
     "execution_count": 8,
     "metadata": {},
     "output_type": "execute_result"
    },
    {
     "name": "stdout",
     "output_type": "stream",
     "text": [
      "time: 0 ns (started: 2022-10-06 09:52:32 +08:00)\n"
     ]
    }
   ],
   "source": [
    "y.head()"
   ]
  },
  {
   "cell_type": "code",
   "execution_count": 9,
   "id": "f9f190ac",
   "metadata": {},
   "outputs": [
    {
     "data": {
      "text/html": [
       "<div>\n",
       "<style scoped>\n",
       "    .dataframe tbody tr th:only-of-type {\n",
       "        vertical-align: middle;\n",
       "    }\n",
       "\n",
       "    .dataframe tbody tr th {\n",
       "        vertical-align: top;\n",
       "    }\n",
       "\n",
       "    .dataframe thead th {\n",
       "        text-align: right;\n",
       "    }\n",
       "</style>\n",
       "<table border=\"1\" class=\"dataframe\">\n",
       "  <thead>\n",
       "    <tr style=\"text-align: right;\">\n",
       "      <th></th>\n",
       "      <th>EV_EBIT</th>\n",
       "      <th>OI_NWCFA</th>\n",
       "      <th>PE</th>\n",
       "      <th>PB</th>\n",
       "      <th>PS</th>\n",
       "      <th>OI_IntExp</th>\n",
       "      <th>WorkingCap</th>\n",
       "      <th>ROE</th>\n",
       "      <th>ROCE</th>\n",
       "      <th>DE</th>\n",
       "      <th>DebtRatio</th>\n",
       "      <th>CashRatio</th>\n",
       "      <th>AssetTurnover</th>\n",
       "      <th>GPM</th>\n",
       "      <th>WC_TA</th>\n",
       "      <th>RE_TA</th>\n",
       "      <th>EBIT_TA</th>\n",
       "      <th>Equity_Liab</th>\n",
       "    </tr>\n",
       "  </thead>\n",
       "  <tbody>\n",
       "    <tr>\n",
       "      <th>9512</th>\n",
       "      <td>61.152309</td>\n",
       "      <td>0.011232</td>\n",
       "      <td>242.849305</td>\n",
       "      <td>1.746777</td>\n",
       "      <td>3.294929</td>\n",
       "      <td>1.873373</td>\n",
       "      <td>2.192989</td>\n",
       "      <td>0.007193</td>\n",
       "      <td>0.016495</td>\n",
       "      <td>1.825444</td>\n",
       "      <td>1.547812</td>\n",
       "      <td>0.562642</td>\n",
       "      <td>1.622053</td>\n",
       "      <td>0.298215</td>\n",
       "      <td>0.277082</td>\n",
       "      <td>0.768904</td>\n",
       "      <td>0.012664</td>\n",
       "      <td>0.547812</td>\n",
       "    </tr>\n",
       "    <tr>\n",
       "      <th>14921</th>\n",
       "      <td>191.444304</td>\n",
       "      <td>0.055181</td>\n",
       "      <td>230.626925</td>\n",
       "      <td>9.566452</td>\n",
       "      <td>42.739314</td>\n",
       "      <td>-600.000000</td>\n",
       "      <td>4.801513</td>\n",
       "      <td>0.041480</td>\n",
       "      <td>0.045186</td>\n",
       "      <td>0.216496</td>\n",
       "      <td>5.619017</td>\n",
       "      <td>2.996542</td>\n",
       "      <td>1.144513</td>\n",
       "      <td>0.636591</td>\n",
       "      <td>0.528882</td>\n",
       "      <td>0.746598</td>\n",
       "      <td>0.038899</td>\n",
       "      <td>4.619017</td>\n",
       "    </tr>\n",
       "    <tr>\n",
       "      <th>21084</th>\n",
       "      <td>23.341453</td>\n",
       "      <td>0.052044</td>\n",
       "      <td>24.003479</td>\n",
       "      <td>1.905213</td>\n",
       "      <td>4.938724</td>\n",
       "      <td>11.186488</td>\n",
       "      <td>4.820827</td>\n",
       "      <td>0.079372</td>\n",
       "      <td>0.044871</td>\n",
       "      <td>0.470829</td>\n",
       "      <td>3.123914</td>\n",
       "      <td>2.541647</td>\n",
       "      <td>3.084049</td>\n",
       "      <td>0.271395</td>\n",
       "      <td>0.634056</td>\n",
       "      <td>-0.042379</td>\n",
       "      <td>0.037425</td>\n",
       "      <td>2.123914</td>\n",
       "    </tr>\n",
       "    <tr>\n",
       "      <th>3806</th>\n",
       "      <td>48.709866</td>\n",
       "      <td>0.040933</td>\n",
       "      <td>83.196719</td>\n",
       "      <td>1.997409</td>\n",
       "      <td>3.334102</td>\n",
       "      <td>-600.000000</td>\n",
       "      <td>2.071990</td>\n",
       "      <td>0.024008</td>\n",
       "      <td>0.031880</td>\n",
       "      <td>0.466795</td>\n",
       "      <td>3.142267</td>\n",
       "      <td>0.847927</td>\n",
       "      <td>1.120338</td>\n",
       "      <td>0.603364</td>\n",
       "      <td>0.269438</td>\n",
       "      <td>0.498095</td>\n",
       "      <td>0.023867</td>\n",
       "      <td>2.142267</td>\n",
       "    </tr>\n",
       "    <tr>\n",
       "      <th>14240</th>\n",
       "      <td>-119.286254</td>\n",
       "      <td>-0.018351</td>\n",
       "      <td>-115.973861</td>\n",
       "      <td>1.771494</td>\n",
       "      <td>8.553960</td>\n",
       "      <td>-7.463134</td>\n",
       "      <td>0.934720</td>\n",
       "      <td>-0.015275</td>\n",
       "      <td>-0.009852</td>\n",
       "      <td>1.293939</td>\n",
       "      <td>1.772834</td>\n",
       "      <td>0.003624</td>\n",
       "      <td>0.158042</td>\n",
       "      <td>0.021643</td>\n",
       "      <td>-0.003995</td>\n",
       "      <td>0.092568</td>\n",
       "      <td>-0.009249</td>\n",
       "      <td>0.772834</td>\n",
       "    </tr>\n",
       "  </tbody>\n",
       "</table>\n",
       "</div>"
      ],
      "text/plain": [
       "          EV_EBIT  OI_NWCFA          PE        PB         PS   OI_IntExp  \\\n",
       "9512    61.152309  0.011232  242.849305  1.746777   3.294929    1.873373   \n",
       "14921  191.444304  0.055181  230.626925  9.566452  42.739314 -600.000000   \n",
       "21084   23.341453  0.052044   24.003479  1.905213   4.938724   11.186488   \n",
       "3806    48.709866  0.040933   83.196719  1.997409   3.334102 -600.000000   \n",
       "14240 -119.286254 -0.018351 -115.973861  1.771494   8.553960   -7.463134   \n",
       "\n",
       "       WorkingCap       ROE      ROCE        DE  DebtRatio  CashRatio  \\\n",
       "9512     2.192989  0.007193  0.016495  1.825444   1.547812   0.562642   \n",
       "14921    4.801513  0.041480  0.045186  0.216496   5.619017   2.996542   \n",
       "21084    4.820827  0.079372  0.044871  0.470829   3.123914   2.541647   \n",
       "3806     2.071990  0.024008  0.031880  0.466795   3.142267   0.847927   \n",
       "14240    0.934720 -0.015275 -0.009852  1.293939   1.772834   0.003624   \n",
       "\n",
       "       AssetTurnover       GPM     WC_TA     RE_TA   EBIT_TA  Equity_Liab  \n",
       "9512        1.622053  0.298215  0.277082  0.768904  0.012664     0.547812  \n",
       "14921       1.144513  0.636591  0.528882  0.746598  0.038899     4.619017  \n",
       "21084       3.084049  0.271395  0.634056 -0.042379  0.037425     2.123914  \n",
       "3806        1.120338  0.603364  0.269438  0.498095  0.023867     2.142267  \n",
       "14240       0.158042  0.021643 -0.003995  0.092568 -0.009249     0.772834  "
      ]
     },
     "execution_count": 9,
     "metadata": {},
     "output_type": "execute_result"
    },
    {
     "name": "stdout",
     "output_type": "stream",
     "text": [
      "time: 16 ms (started: 2022-10-06 09:52:32 +08:00)\n"
     ]
    }
   ],
   "source": [
    "X.head()"
   ]
  },
  {
   "cell_type": "code",
   "execution_count": 42,
   "id": "31bd3acc",
   "metadata": {},
   "outputs": [
    {
     "data": {
      "text/plain": [
       "0.2525233262311269"
      ]
     },
     "execution_count": 42,
     "metadata": {},
     "output_type": "execute_result"
    },
    {
     "name": "stdout",
     "output_type": "stream",
     "text": [
      "time: 0 ns (started: 2022-10-06 11:18:11 +08:00)\n"
     ]
    }
   ],
   "source": [
    "# Just checking on the baseline annual returns\n",
    "y.mean()"
   ]
  },
  {
   "cell_type": "markdown",
   "id": "09eff955",
   "metadata": {},
   "source": [
    "# Model 1: Linear Regression"
   ]
  },
  {
   "cell_type": "code",
   "execution_count": 43,
   "id": "381eb329",
   "metadata": {
    "scrolled": true
   },
   "outputs": [
    {
     "data": {
      "text/plain": [
       "9512     0.750888\n",
       "14921    0.118316\n",
       "21084    2.000000\n",
       "3806    -0.329577\n",
       "14240    0.261229\n",
       "           ...   \n",
       "21575    0.152987\n",
       "5390     0.052348\n",
       "860      5.005319\n",
       "15795   -0.032547\n",
       "23654   -0.272628\n",
       "Name: Returns, Length: 26685, dtype: float64"
      ]
     },
     "execution_count": 43,
     "metadata": {},
     "output_type": "execute_result"
    },
    {
     "name": "stdout",
     "output_type": "stream",
     "text": [
      "time: 0 ns (started: 2022-10-06 11:18:12 +08:00)\n"
     ]
    }
   ],
   "source": [
    "y"
   ]
  },
  {
   "cell_type": "code",
   "execution_count": 44,
   "id": "44d6e823",
   "metadata": {},
   "outputs": [
    {
     "name": "stdout",
     "output_type": "stream",
     "text": [
      "X train:  (21348, 18)\n",
      "X test:  (5337, 18)\n",
      "y train:  (21348,)\n",
      "y test:  (5337,)\n",
      "time: 0 ns (started: 2022-10-06 11:18:13 +08:00)\n"
     ]
    }
   ],
   "source": [
    "# We can try with a 80-20 train test split first\n",
    "X_train, X_test, y_train, y_test = train_test_split(X, y, test_size=0.2, random_state=42)\n",
    "print('X train: ', X_train.shape)\n",
    "print('X test: ', X_test.shape)\n",
    "print('y train: ', y_train.shape)\n",
    "print('y test: ', y_test.shape)"
   ]
  },
  {
   "cell_type": "code",
   "execution_count": 45,
   "id": "d0b7bb1e",
   "metadata": {},
   "outputs": [
    {
     "name": "stdout",
     "output_type": "stream",
     "text": [
      "time: 0 ns (started: 2022-10-06 11:18:13 +08:00)\n"
     ]
    }
   ],
   "source": [
    "# Define the pipeline\n",
    "pl_lr = Pipeline([\n",
    "    ('PowerTransform', PowerTransformer()),\n",
    "    ('lr', LinearRegression())\n",
    "])"
   ]
  },
  {
   "cell_type": "code",
   "execution_count": 46,
   "id": "3b116583",
   "metadata": {
    "scrolled": true
   },
   "outputs": [
    {
     "name": "stdout",
     "output_type": "stream",
     "text": [
      "time: 343 ms (started: 2022-10-06 11:18:15 +08:00)\n"
     ]
    }
   ],
   "source": [
    "pl_lr.fit(X_train, y_train)\n",
    "y_pred = pl.predict(X_test)"
   ]
  },
  {
   "cell_type": "code",
   "execution_count": 47,
   "id": "7e0d613c",
   "metadata": {},
   "outputs": [
    {
     "name": "stdout",
     "output_type": "stream",
     "text": [
      "Train MSE: 1.8720957407800083\n",
      "Test MSE: 0.8889156644175392\n",
      "Generalisation: 52.518%\n",
      "time: 31 ms (started: 2022-10-06 11:18:16 +08:00)\n"
     ]
    }
   ],
   "source": [
    "mse_train = mean_squared_error(y_train, pl.predict(X_train), squared=True)\n",
    "mse_test = mean_squared_error(y_test, y_pred, squared=True)\n",
    "pct_diff = round((1-mse_test/mse_train)*100,3)\n",
    "\n",
    "print('Train MSE:', mse_train)\n",
    "print('Test MSE:', mse_test)\n",
    "print(f'Generalisation: {pct_diff}%')"
   ]
  },
  {
   "cell_type": "markdown",
   "id": "bda461e7",
   "metadata": {},
   "source": [
    "We construct the learning curve for the model (where we increase size of learning set and see how predictive ability changes). Cross validation can either be K-fold or ShuffleSplit(), where we randomize rows before the train-test-split. This gives us a better idea of the predictive ability as we are averaging many runs."
   ]
  },
  {
   "cell_type": "code",
   "execution_count": 48,
   "id": "0bd31387",
   "metadata": {},
   "outputs": [
    {
     "data": {
      "text/html": [
       "<div>\n",
       "<style scoped>\n",
       "    .dataframe tbody tr th:only-of-type {\n",
       "        vertical-align: middle;\n",
       "    }\n",
       "\n",
       "    .dataframe tbody tr th {\n",
       "        vertical-align: top;\n",
       "    }\n",
       "\n",
       "    .dataframe thead th {\n",
       "        text-align: right;\n",
       "    }\n",
       "</style>\n",
       "<table border=\"1\" class=\"dataframe\">\n",
       "  <thead>\n",
       "    <tr style=\"text-align: right;\">\n",
       "      <th></th>\n",
       "      <th>train_scores_mean</th>\n",
       "      <th>train_scores_std</th>\n",
       "      <th>test_scores_mean</th>\n",
       "      <th>test_scores_std</th>\n",
       "      <th>fit_times_mean</th>\n",
       "      <th>fit_times_std</th>\n",
       "    </tr>\n",
       "  </thead>\n",
       "  <tbody>\n",
       "    <tr>\n",
       "      <th>0.01</th>\n",
       "      <td>1.125693</td>\n",
       "      <td>0.634882</td>\n",
       "      <td>233188.794774</td>\n",
       "      <td>216827.470241</td>\n",
       "      <td>0.044540</td>\n",
       "      <td>0.008096</td>\n",
       "    </tr>\n",
       "    <tr>\n",
       "      <th>0.02</th>\n",
       "      <td>1.102147</td>\n",
       "      <td>0.456643</td>\n",
       "      <td>87224.656999</td>\n",
       "      <td>82889.158684</td>\n",
       "      <td>0.051243</td>\n",
       "      <td>0.007144</td>\n",
       "    </tr>\n",
       "    <tr>\n",
       "      <th>0.05</th>\n",
       "      <td>1.276177</td>\n",
       "      <td>0.486028</td>\n",
       "      <td>19962.094850</td>\n",
       "      <td>19197.562428</td>\n",
       "      <td>0.070323</td>\n",
       "      <td>0.008909</td>\n",
       "    </tr>\n",
       "    <tr>\n",
       "      <th>0.10</th>\n",
       "      <td>1.295911</td>\n",
       "      <td>0.397185</td>\n",
       "      <td>1105.740913</td>\n",
       "      <td>1082.260842</td>\n",
       "      <td>0.104107</td>\n",
       "      <td>0.011542</td>\n",
       "    </tr>\n",
       "    <tr>\n",
       "      <th>0.20</th>\n",
       "      <td>1.289673</td>\n",
       "      <td>0.283448</td>\n",
       "      <td>350.852878</td>\n",
       "      <td>344.997778</td>\n",
       "      <td>0.167222</td>\n",
       "      <td>0.016840</td>\n",
       "    </tr>\n",
       "    <tr>\n",
       "      <th>0.50</th>\n",
       "      <td>1.288243</td>\n",
       "      <td>0.177109</td>\n",
       "      <td>3.868821</td>\n",
       "      <td>3.393924</td>\n",
       "      <td>0.347056</td>\n",
       "      <td>0.024896</td>\n",
       "    </tr>\n",
       "    <tr>\n",
       "      <th>0.90</th>\n",
       "      <td>1.295620</td>\n",
       "      <td>0.083173</td>\n",
       "      <td>1.274641</td>\n",
       "      <td>0.256189</td>\n",
       "      <td>0.586308</td>\n",
       "      <td>0.038325</td>\n",
       "    </tr>\n",
       "  </tbody>\n",
       "</table>\n",
       "</div>"
      ],
      "text/plain": [
       "      train_scores_mean  train_scores_std  test_scores_mean  test_scores_std  \\\n",
       "0.01           1.125693          0.634882     233188.794774    216827.470241   \n",
       "0.02           1.102147          0.456643      87224.656999     82889.158684   \n",
       "0.05           1.276177          0.486028      19962.094850     19197.562428   \n",
       "0.10           1.295911          0.397185       1105.740913      1082.260842   \n",
       "0.20           1.289673          0.283448        350.852878       344.997778   \n",
       "0.50           1.288243          0.177109          3.868821         3.393924   \n",
       "0.90           1.295620          0.083173          1.274641         0.256189   \n",
       "\n",
       "      fit_times_mean  fit_times_std  \n",
       "0.01        0.044540       0.008096  \n",
       "0.02        0.051243       0.007144  \n",
       "0.05        0.070323       0.008909  \n",
       "0.10        0.104107       0.011542  \n",
       "0.20        0.167222       0.016840  \n",
       "0.50        0.347056       0.024896  \n",
       "0.90        0.586308       0.038325  "
      ]
     },
     "execution_count": 48,
     "metadata": {},
     "output_type": "execute_result"
    },
    {
     "name": "stdout",
     "output_type": "stream",
     "text": [
      "time: 21.5 s (started: 2022-10-06 11:18:36 +08:00)\n"
     ]
    }
   ],
   "source": [
    "# plot the learning curve for different train sizes\n",
    "trainSizes = [0.01, 0.02, 0.05, 0.1, 0.2, 0.5, 0.9]\n",
    "\n",
    "train_sizes, train_scores, test_scores, fit_times, score_times = \\\n",
    "learning_curve(pl_lr, X, y, cv=ShuffleSplit(n_splits=100, test_size=0.2, random_state=42),\n",
    "               scoring='neg_mean_squared_error',\n",
    "               n_jobs=-1, train_sizes=trainSizes,\n",
    "               return_times=True)\n",
    "\n",
    "# Create a DataFrame of results\n",
    "results_df = pd.DataFrame(index=trainSizes)\n",
    "results_df['train_scores_mean'] = np.sqrt(-np.mean(train_scores,axis=1))\n",
    "results_df['train_scores_std'] = np.std(np.sqrt(-train_scores), axis=1)\n",
    "results_df['test_scores_mean'] = np.sqrt(-np.mean(test_scores, axis=1))\n",
    "results_df['test_scores_std'] = np.std(np.sqrt(-test_scores), axis=1)\n",
    "results_df['fit_times_mean'] = np.mean(fit_times, axis=1)\n",
    "results_df['fit_times_std'] = np.std(fit_times, axis=1)\n",
    "results_df # see results"
   ]
  },
  {
   "cell_type": "code",
   "execution_count": 49,
   "id": "2b74925d",
   "metadata": {},
   "outputs": [
    {
     "data": {
      "text/plain": [
       "Text(0.5, 1.0, 'Linear Regression Learning Curve')"
      ]
     },
     "execution_count": 49,
     "metadata": {},
     "output_type": "execute_result"
    },
    {
     "data": {
      "image/png": "[encoded data removed]",
      "text/plain": [
       "<Figure size 432x288 with 1 Axes>"
      ]
     },
     "metadata": {
      "needs_background": "light"
     },
     "output_type": "display_data"
    },
    {
     "name": "stdout",
     "output_type": "stream",
     "text": [
      "time: 140 ms (started: 2022-10-06 11:20:52 +08:00)\n"
     ]
    }
   ],
   "source": [
    "# Plot the train and test score for different train sizes\n",
    "results_df['train_scores_mean'].plot(style='-x')\n",
    "results_df['test_scores_mean'].plot(style='-x')\n",
    "\n",
    "plt.fill_between(results_df.index,\\\n",
    "                 results_df['train_scores_mean']-results_df['train_scores_std'],\\\n",
    "                 results_df['train_scores_mean']+results_df['train_scores_std'],\\\n",
    "                 alpha=0.2)\n",
    "\n",
    "plt.fill_between(results_df.index,\\\n",
    "                 results_df['test_scores_mean']-results_df['test_scores_std'],\\\n",
    "                 results_df['test_scores_mean']+results_df['test_scores_std'],\\\n",
    "                 alpha=0.2)\n",
    "\n",
    "plt.grid()\n",
    "plt.legend(['Train CV RMSE','Test Set RMSE'])\n",
    "plt.ylabel('RMSE')\n",
    "plt.xlabel('Training Size')\n",
    "plt.title('Linear Regression Learning Curve', fontsize=15)\n",
    "#plt.ylim([0, 1.25]);"
   ]
  },
  {
   "cell_type": "code",
   "execution_count": 50,
   "id": "a688b029",
   "metadata": {
    "scrolled": true
   },
   "outputs": [
    {
     "data": {
      "text/plain": [
       "array([0.1540539 , 0.52055371, 0.08710941, ..., 0.06485248, 0.45512464,\n",
       "       0.19104606])"
      ]
     },
     "execution_count": 50,
     "metadata": {},
     "output_type": "execute_result"
    },
    {
     "name": "stdout",
     "output_type": "stream",
     "text": [
      "time: 0 ns (started: 2022-10-06 11:27:07 +08:00)\n"
     ]
    }
   ],
   "source": [
    "y_pred.reshape()"
   ]
  },
  {
   "cell_type": "code",
   "execution_count": 81,
   "id": "75852d70",
   "metadata": {
    "scrolled": true
   },
   "outputs": [
    {
     "data": {
      "text/plain": [
       "22394    0.363591\n",
       "17935    0.932515\n",
       "5313     0.041111\n",
       "20991    0.721436\n",
       "5172     0.774333\n",
       "           ...   \n",
       "12183    0.005098\n",
       "7074     0.627522\n",
       "20420    0.159535\n",
       "3645     0.313441\n",
       "18286    0.134608\n",
       "Name: Returns, Length: 5337, dtype: float64"
      ]
     },
     "execution_count": 81,
     "metadata": {},
     "output_type": "execute_result"
    },
    {
     "name": "stdout",
     "output_type": "stream",
     "text": [
      "time: 16 ms (started: 2022-10-06 11:42:08 +08:00)\n"
     ]
    }
   ],
   "source": [
    "y_test"
   ]
  },
  {
   "cell_type": "code",
   "execution_count": 92,
   "id": "c50851db",
   "metadata": {
    "scrolled": false
   },
   "outputs": [
    {
     "name": "stdout",
     "output_type": "stream",
     "text": [
      "time: 0 ns (started: 2022-10-06 11:48:48 +08:00)\n"
     ]
    }
   ],
   "source": [
    "# Draw scatter plot to see if prediction matches actual\n",
    "# Line of x=y will show perfect prediction\n",
    "# Also draw the best fit line for the scatter plot\n",
    "\n",
    "def plotScatter(model_name, x_plot, y_plot, limit):\n",
    "    \n",
    "    # Plotting scatter\n",
    "    plt.scatter(x_plot, y_plot, s=1)\n",
    "    \n",
    "    # Drawing a best fit line\n",
    "    # Reshape the y_test and y_pred arrays\n",
    "    bestfit = LinearRegression().fit(x_plot.reshape(-1, 1), y_plot.reshape(-1, 1))\n",
    "    xx = [[-5],[5]]\n",
    "    yy = bestfit.predict(xx)\n",
    "    plt.plot(xx, yy, 'g')\n",
    "    \n",
    "    # Plot formatting\n",
    "    plt.grid()\n",
    "    plt.axhline(y=0, color='r', label='_nolegend_')\n",
    "    plt.axvline(x=0, color='r', label='_nolegend_')\n",
    "    plt.xlabel('Actual Return')\n",
    "    plt.ylabel('Predicted Return')\n",
    "    plt.plot([-100,100], [-100,100], 'y--')\n",
    "    plt.xlim([-limit, limit])\n",
    "    plt.ylim([-limit, limit])\n",
    "    plt.title(f'Scatter plot for {model_name}')\n",
    "    plt.legend(['Linear Fit Line', 'y=x Perfect Prediction Line', 'Prediction Points'])"
   ]
  },
  {
   "cell_type": "code",
   "execution_count": 93,
   "id": "1b7f4360",
   "metadata": {},
   "outputs": [
    {
     "data": {
      "image/png": "[encoded data removed]",
      "text/plain": [
       "<Figure size 432x432 with 1 Axes>"
      ]
     },
     "metadata": {
      "needs_background": "light"
     },
     "output_type": "display_data"
    },
    {
     "name": "stdout",
     "output_type": "stream",
     "text": [
      "time: 297 ms (started: 2022-10-06 11:48:48 +08:00)\n"
     ]
    }
   ],
   "source": [
    "plt.figure(figsize=(6,6))\n",
    "\n",
    "# need to specify y_test.to_numpy because it is now still in a dataframe, must convert to array\n",
    "plotScatter('Linear Regression', y_test.to_numpy(), y_pred, 2)"
   ]
  },
  {
   "cell_type": "markdown",
   "id": "547d3ae4",
   "metadata": {},
   "source": [
    "Predictions seemed to be centered around one single value.  We want to take a closer look by taking the top few stock return predictions and comparing them to actual."
   ]
  },
  {
   "cell_type": "code",
   "execution_count": 96,
   "id": "aae25e04",
   "metadata": {},
   "outputs": [
    {
     "name": "stdout",
     "output_type": "stream",
     "text": [
      "time: 0 ns (started: 2022-10-06 11:59:48 +08:00)\n"
     ]
    }
   ],
   "source": [
    "def printPredictions(y_test, y_pred):\n",
    "    # See top 10 predicted annual returns and see how the values differ from actual\n",
    "    # Put results in a DataFrame so we can sort it.\n",
    "\n",
    "    y_results = pd.DataFrame()\n",
    "    y_results['Actual Return'] = y_test\n",
    "    y_results['Predicted Return'] = y_pred\n",
    "\n",
    "    # Sort df by the predicted returns.\n",
    "    y_results.sort_values(by='Predicted Return',\n",
    "                          ascending=False,\n",
    "                          inplace=True)\n",
    "\n",
    "    y_results.reset_index(drop=True, inplace=True)\n",
    "    \n",
    "    # Print results\n",
    "    print('Top Predicted Returns:', \\\n",
    "      list(np.round(y_results['Predicted Return'].iloc[:10],2)))\n",
    "\n",
    "    print('Comparing Actual Returns:', \\\n",
    "          list(np.round(y_results['Actual Return'].iloc[:10],2)), '\\n')\n",
    "\n",
    "    print('Mean of Top 10 Predicted Returns:', \\\n",
    "          round(y_results['Predicted Return'].iloc[:10].mean(),2) , '%')\n",
    "\n",
    "    print('Mean of Top 10 Actual Returns:', \\\n",
    "          round(y_results['Actual Return'].iloc[:10].mean(),2) , '%','\\n')\n",
    "\n",
    "    print('Mean of Bottom 10 Predicted Returns:', \\\n",
    "          round(y_results['Predicted Return'].iloc[-10:].mean(),2) , '%')\n",
    "\n",
    "    print('Mean of Bottom 10 Actual Returns:', \\\n",
    "          round(y_results['Actual Return'].iloc[-10:].mean(),2) , '%','\\n')"
   ]
  },
  {
   "cell_type": "code",
   "execution_count": 97,
   "id": "bdc73add",
   "metadata": {
    "scrolled": true
   },
   "outputs": [
    {
     "name": "stdout",
     "output_type": "stream",
     "text": [
      "Top Predicted Returns: [1.73, 1.66, 1.58, 1.44, 1.43, 1.35, 1.34, 1.33, 1.33, 1.33]\n",
      "Comparing Actual Returns: [-0.5, -0.84, 0.0, 1.33, -0.04, 1.83, -0.97, 1.88, -0.51, -0.82] \n",
      "\n",
      "Mean of Top 10 Predicted Returns: 1.45 %\n",
      "Mean of Top 10 Actual Returns: 0.14 % \n",
      "\n",
      "Mean of Bottom 10 Predicted Returns: -0.45 %\n",
      "Mean of Bottom 10 Actual Returns: 0.13 % \n",
      "\n",
      "time: 0 ns (started: 2022-10-06 11:59:49 +08:00)\n"
     ]
    }
   ],
   "source": [
    "printPredictions(y_test, y_pred)"
   ]
  },
  {
   "cell_type": "markdown",
   "id": "ca19591d",
   "metadata": {},
   "source": [
    "## Do a few runs using different random states to see the top/bottom 10 selections and test prediction ability [REDO YOUR CODE HERE]"
   ]
  },
  {
   "cell_type": "code",
   "execution_count": 104,
   "id": "215a2c24",
   "metadata": {},
   "outputs": [
    {
     "name": "stdout",
     "output_type": "stream",
     "text": [
      "time: 16 ms (started: 2022-10-06 12:33:54 +08:00)\n"
     ]
    }
   ],
   "source": [
    "def testPredictionAbility(pipeline, X, y, nruns):\n",
    "    '''\n",
    "    For a given predictor pipeline.\n",
    "    Create table of top10/bottom 10 averaged, \n",
    "    10 rows of 10 random_states.\n",
    "    to give us a synthetic performance result.    \n",
    "    Prints Top and Bottom stock picks\n",
    "    \n",
    "    The arguments returnSomething=False, verbose=True,\n",
    "    will be used at the notebook end to get results.\n",
    "    '''\n",
    "    \n",
    "    Top10Pred, Top10Act = [], []\n",
    "    Bottom10Pred, Bottom10Act = [], []\n",
    "\n",
    "    for i in range(0, nruns): # Number of runs we want to do\n",
    "        \n",
    "        # Train test split with different random states, then fit pipeline and predict\n",
    "        X_train, X_test, y_train, y_test = train_test_split(X, y, test_size=0.2, random_state=42+i)\n",
    "        pipeline.fit(X_train, y_train)\n",
    "        y_pred = pipeline.predict(X_test)\n",
    "        \n",
    "        # Put results in a DataFrame so we can sort it.\n",
    "        y_results = pd.DataFrame()\n",
    "        y_results['Actual Return'] = y_test\n",
    "        y_results['Predicted Return'] = y_pred\n",
    "        \n",
    "        # Sort values by the predicted return.\n",
    "        y_results.sort_values(by='Predicted Return', ascending=False, inplace=True)\n",
    "        y_results.reset_index(drop=True, inplace=True)\n",
    "        \n",
    "        # See top 10 returns and compare how values differ from actual\n",
    "        Top10Pred.append(round(np.mean(y_results['Predicted Return'].iloc[:10])*100, 2))\n",
    "        Top10Act.append(round(np.mean(y_results['Actual Return'].iloc[:10])*100, 2))\n",
    "        \n",
    "        # See bottom 10 returns and compare how values differ from actual\n",
    "        Bottom10Pred.append(round(np.mean(y_results['Predicted Return'].iloc[-10:])*100, 2))\n",
    "        Bottom10Act.append(round(np.mean(y_results['Actual Return'].iloc[-10:])*100, 2))\n",
    "\n",
    "    # Print out values\n",
    "    print(f'Predicted Performance of Top 10 Returns ({nruns} runs):', Top10Pred)\n",
    "    print(f'Actual Performance of Top 10 Returns ({nruns} runs)', Top10Act, '\\n')\n",
    "\n",
    "    print(f'Predicted Performance of Bottom 10 Returns ({nruns} runs):', Bottom10Pred)\n",
    "    print(f'Actual Performance of Bottom 10 Returns ({nruns} runs):', Bottom10Act)\n",
    "    print('--------------\\n')\n",
    "\n",
    "#         print('Mean Predicted Std. Dev. of Top 10 Return Portfolios:',\n",
    "#               round(np.array(Top10PredRtrns).std(),2))\n",
    "#         print('Mean Actual Std. Dev. of Top 10 Return Portfolios:',\n",
    "#               round(np.array(Top10ActRtrns).std(),2))\n",
    "#         print('Mean Predicted Std. Dev. of Bottom 10 Return Portfolios:',\n",
    "#               round(np.array(Bottom10PredRtrns).std(),2))\n",
    "#         print('Mean Actual Std. Dev. of Bottom 10 Return Portfolios:',\n",
    "#               round(np.array(Bottom10ActRtrns).std(),2))\n",
    "#         print('--------------\\n')\n",
    "\n",
    "    #PERFORMANCE MEASURES HERE\n",
    "    print(\\\n",
    "    '\\033[4mMean Predicted Performance of Top 10 Return Portfolios:\\033[0m',\\\n",
    "          round(np.mean(Top10Pred), 2))\n",
    "    print(\\\n",
    "    '\\t\\033[4mMean Actual Performance of Top 10 Return Portfolios:\\033[0m',\\\n",
    "          round(np.mean(Top10Act), 2))\n",
    "    print('Mean Predicted Performance of Bottom 10 Return Portfolios:',\\\n",
    "          round(np.mean(Bottom10Pred), 2))\n",
    "    print('\\tMean Actual Performance of Bottom 10 Return Portfolios:',\\\n",
    "          round(np.mean(Bottom10Act), 2))\n",
    "    print('--------------\\n')\n",
    "\n",
    "    return Top10Act, Bottom10Act"
   ]
  },
  {
   "cell_type": "code",
   "execution_count": 105,
   "id": "f2c53239",
   "metadata": {},
   "outputs": [
    {
     "name": "stdout",
     "output_type": "stream",
     "text": [
      "Predicted Performance of Top 10 Returns (10 runs): [181.78, 106.65, 132.28, 152.03, 87.86, 140.36, 110.51, 103.1, 124.27, 120.8]\n",
      "Actual Performance of Top 10 Returns (10 runs) [46.33, 95.62, 52.42, 96.33, 12.2, 68.68, 192.83, 46.93, 60.25, 192.24] \n",
      "\n",
      "Predicted Performance of Bottom 10 Returns (10 runs): [-53.68, -40.37, -42.4, -41.56, -31.64, -42.14, -38.88, -43.78, -48.62, -50.78]\n",
      "Actual Performance of Bottom 10 Returns (10 runs): [13.21, 35.22, 18.75, 20.41, 18.1, 34.46, 12.57, 14.8, 25.5, 21.61]\n",
      "--------------\n",
      "\n",
      "\u001b[4mMean Predicted Performance of Top 10 Return Portfolios:\u001b[0m 125.96\n",
      "\t\u001b[4mMean Actual Performance of Top 10 Return Portfolios:\u001b[0m 86.38\n",
      "Mean Predicted Performance of Bottom 10 Return Portfolios: -43.39\n",
      "\tMean Actual Performance of Bottom 10 Return Portfolios: 21.46\n",
      "--------------\n",
      "\n"
     ]
    },
    {
     "data": {
      "text/plain": [
       "([46.33, 95.62, 52.42, 96.33, 12.2, 68.68, 192.83, 46.93, 60.25, 192.24],\n",
       " [13.21, 35.22, 18.75, 20.41, 18.1, 34.46, 12.57, 14.8, 25.5, 21.61])"
      ]
     },
     "execution_count": 105,
     "metadata": {},
     "output_type": "execute_result"
    },
    {
     "name": "stdout",
     "output_type": "stream",
     "text": [
      "time: 3.91 s (started: 2022-10-06 12:33:54 +08:00)\n"
     ]
    }
   ],
   "source": [
    "testPredictionAbility(pl, X, y, 10)"
   ]
  },
  {
   "cell_type": "markdown",
   "id": "edd4fa08",
   "metadata": {},
   "source": [
    "# Model 2: ElasticNet"
   ]
  },
  {
   "cell_type": "code",
   "execution_count": 24,
   "id": "b376386d",
   "metadata": {},
   "outputs": [
    {
     "name": "stdout",
     "output_type": "stream",
     "text": [
      "time: 0 ns (started: 2022-10-06 09:53:02 +08:00)\n"
     ]
    }
   ],
   "source": [
    "pl2 = Pipeline([\n",
    "    ('Power Transformer', PowerTransformer()),\n",
    "    ('ElasticNet', ElasticNet()) #l1_ratio=0.00001, alpha=0.001\n",
    "])"
   ]
  },
  {
   "cell_type": "code",
   "execution_count": 25,
   "id": "922e8869",
   "metadata": {},
   "outputs": [
    {
     "name": "stdout",
     "output_type": "stream",
     "text": [
      "time: 421 ms (started: 2022-10-06 09:53:02 +08:00)\n"
     ]
    }
   ],
   "source": [
    "pl2.fit(X_train, y_train)\n",
    "y_pred = pl2.predict(X_test)"
   ]
  },
  {
   "cell_type": "code",
   "execution_count": 26,
   "id": "7711da95",
   "metadata": {},
   "outputs": [
    {
     "name": "stdout",
     "output_type": "stream",
     "text": [
      "Train MSE: 1.91420941276543\n",
      "Test MSE: 0.8889195029055034\n",
      "Generalisation: 53.562%\n",
      "time: 15 ms (started: 2022-10-06 09:53:02 +08:00)\n"
     ]
    }
   ],
   "source": [
    "mse_train = mean_squared_error(y_train, pl2.predict(X_train), squared=True)\n",
    "mse_test = mean_squared_error(y_test, y_pred, squared=True)\n",
    "pct_diff = round((1-mse_test/mse_train)*100,3)\n",
    "\n",
    "print('Train MSE:', mse_train)\n",
    "print('Test MSE:', mse_test)\n",
    "print(f'Generalisation: {pct_diff}%')"
   ]
  },
  {
   "cell_type": "code",
   "execution_count": 27,
   "id": "fab743bd",
   "metadata": {},
   "outputs": [
    {
     "data": {
      "image/png": "[encoded data removed]",
      "text/plain": [
       "<Figure size 360x360 with 1 Axes>"
      ]
     },
     "metadata": {
      "needs_background": "light"
     },
     "output_type": "display_data"
    },
    {
     "name": "stdout",
     "output_type": "stream",
     "text": [
      "time: 281 ms (started: 2022-10-06 09:53:02 +08:00)\n"
     ]
    }
   ],
   "source": [
    "# Predicted/actual density plot for pl_ElasticNet\n",
    "plt.figure(figsize=(5,5))\n",
    "plotDensityContourPredVsReal('pl2', y_pred, y_test.to_numpy(),2)"
   ]
  },
  {
   "cell_type": "code",
   "execution_count": 28,
   "id": "f7047efe",
   "metadata": {},
   "outputs": [
    {
     "name": "stdout",
     "output_type": "stream",
     "text": [
      "train mse:  1.8861919932600286\n",
      "test mse:  0.8812011764851028\n",
      "time: 344 ms (started: 2022-10-06 09:53:02 +08:00)\n"
     ]
    }
   ],
   "source": [
    "pl_ElasticNet = Pipeline([\n",
    "    ('Power Transformer', PowerTransformer()),\n",
    "    ('ElasticNet', ElasticNet(l1_ratio=0.00001))\n",
    "])\n",
    "\n",
    "pl_ElasticNet.fit(X_train, y_train)\n",
    "y_pred_lowL1 = pl_ElasticNet.predict(X_test)\n",
    "\n",
    "print('train mse: ', mean_squared_error(y_train, pl_ElasticNet.predict(X_train)))\n",
    "print('test mse: ', mean_squared_error(y_test, pl_ElasticNet.predict(X_test)))"
   ]
  },
  {
   "cell_type": "code",
   "execution_count": 29,
   "id": "714aca68",
   "metadata": {},
   "outputs": [
    {
     "data": {
      "text/plain": [
       "Text(0.5, 1.0, 'Elasticnet L1 Ratio=0.00001')"
      ]
     },
     "execution_count": 29,
     "metadata": {},
     "output_type": "execute_result"
    },
    {
     "data": {
      "image/png": "[encoded data removed]",
      "text/plain": [
       "<Figure size 720x360 with 2 Axes>"
      ]
     },
     "metadata": {
      "needs_background": "light"
     },
     "output_type": "display_data"
    },
    {
     "name": "stdout",
     "output_type": "stream",
     "text": [
      "time: 469 ms (started: 2022-10-06 09:53:03 +08:00)\n"
     ]
    }
   ],
   "source": [
    "plt.figure(figsize=(10,5))\n",
    "\n",
    "plt.subplot(1,2,1)\n",
    "plotDensityContourPredVsReal('pl_ElasticNet', y_pred, y_test.to_numpy(),2)\n",
    "plt.title('Elasticnet Default Hyperparameters',fontsize=15)\n",
    "\n",
    "plt.subplot(1,2,2)\n",
    "plotDensityContourPredVsReal('pl_ElasticNet', y_pred_lowL1, y_test.to_numpy(),2)\n",
    "plt.title('Elasticnet L1 Ratio=0.00001',fontsize=15)"
   ]
  },
  {
   "cell_type": "code",
   "execution_count": 30,
   "id": "1dfc4e8d",
   "metadata": {
    "scrolled": true
   },
   "outputs": [
    {
     "name": "stdout",
     "output_type": "stream",
     "text": [
      "Predicted Returns: [0.26, 0.26, 0.26, 0.26, 0.26, 0.26, 0.26, 0.26, 0.26, 0.26]\n",
      "Actual Returns: [0.36, 0.47, 1.59, 0.08, -0.85, 0.19, 0.3, 0.37, -0.51, -0.07] \n",
      "\n",
      "Top 10 Predicted Returns: 0.26 %\n",
      "Actual Top 10 Returns: 0.19 % \n",
      "\n",
      "Bottom 10 Predicted Returns: 0.26 %\n",
      "Actual Bottom 10 Returns: 0.78 % \n",
      "\n",
      "time: 15 ms (started: 2022-10-06 09:53:03 +08:00)\n"
     ]
    }
   ],
   "source": [
    "printPredictions(y_test, y_pred)"
   ]
  },
  {
   "cell_type": "code",
   "execution_count": 31,
   "id": "9bd389c0",
   "metadata": {},
   "outputs": [
    {
     "name": "stdout",
     "output_type": "stream",
     "text": [
      "Predicted Performance of Top 10 Return Portfolios: [25.35, 25.25, 25.71, 25.27, 24.81, 24.8, 25.5, 25.16, 25.51, 25.47]\n",
      "Actual Performance of Top 10 Return Portfolios: [63.19, 11.62, -8.68, -28.58, 1.97, 16.92, 10.06, 29.59, 8.15, 38.74] \n",
      "\n",
      "Predicted Performance of Bottom 10 Return Portfolios: [25.35, 25.25, 25.71, 25.27, 24.81, 24.8, 25.5, 25.16, 25.51, 25.47]\n",
      "Actual Performance of Bottom 10 Return Portfolios: [32.81, 13.29, 23.46, 0.32, 32.41, 68.34, -2.84, 10.85, 34.1, 9.05]\n",
      "--------------\n",
      "\n",
      "Mean Predicted Std. Dev. of Top 10 Return Portfolios: 0.28\n",
      "Mean Actual Std. Dev. of Top 10 Return Portfolios: 24.1\n",
      "Mean Predicted Std. Dev. of Bottom 10 Return Portfolios: 0.28\n",
      "Mean Actual Std. Dev. of Bottom 10 Return Portfolios: 19.94\n",
      "--------------\n",
      "\n",
      "\u001b[4mMean Predicted Performance of Top 10 Return Portfolios:\u001b[0m 25.28\n",
      "\t\u001b[4mMean Actual Performance of Top 10 Return Portfolios:\u001b[0m 14.3\n",
      "Mean Predicted Performance of Bottom 10 Return Portfolios: 25.28\n",
      "\tMean Actual Performance of Bottom 10 Return Portfolios: 22.18\n",
      "--------------\n",
      "\n",
      "time: 4.16 s (started: 2022-10-06 09:53:03 +08:00)\n"
     ]
    }
   ],
   "source": [
    "observePredictionAbility(pl2, X, y)"
   ]
  },
  {
   "cell_type": "markdown",
   "id": "443fc1e6",
   "metadata": {},
   "source": [
    "# Model 3: KNN Regressor"
   ]
  },
  {
   "cell_type": "code",
   "execution_count": 32,
   "id": "2ba76265",
   "metadata": {},
   "outputs": [
    {
     "name": "stdout",
     "output_type": "stream",
     "text": [
      "time: 609 ms (started: 2022-10-06 09:53:07 +08:00)\n"
     ]
    }
   ],
   "source": [
    "pl3 = Pipeline([\n",
    "    ('Power Transformer', PowerTransformer()),\n",
    "    ('KNeighborsRegressor', KNeighborsRegressor(n_neighbors=40))])\n",
    "\n",
    "pl3.fit(X_train, y_train)\n",
    "y_pred = pl3.predict(X_test)"
   ]
  },
  {
   "cell_type": "code",
   "execution_count": 33,
   "id": "915fef83",
   "metadata": {},
   "outputs": [
    {
     "name": "stdout",
     "output_type": "stream",
     "text": [
      "Train MSE: 1.9142192115489742\n",
      "Test MSE: 0.8989436692375528\n",
      "Generalisation: 53.039%\n",
      "time: 31 ms (started: 2022-10-06 09:53:08 +08:00)\n"
     ]
    }
   ],
   "source": [
    "mse_train = mean_squared_error(y_train, pl2.predict(X_train), squared=True)\n",
    "mse_test = mean_squared_error(y_test, y_pred, squared=True)\n",
    "pct_diff = round((1-mse_test/mse_train)*100,3)\n",
    "\n",
    "print('Train MSE:', mse_train)\n",
    "print('Test MSE:', mse_test)\n",
    "print(f'Generalisation: {pct_diff}%')"
   ]
  },
  {
   "cell_type": "code",
   "execution_count": 34,
   "id": "3d778f4d",
   "metadata": {},
   "outputs": [
    {
     "name": "stdout",
     "output_type": "stream",
     "text": [
      "Trying K=4\n",
      "Trying K=8\n",
      "Trying K=16\n",
      "Trying K=32\n",
      "Trying K=64\n",
      "Trying K=100\n",
      "time: 4min 59s (started: 2022-10-06 09:53:08 +08:00)\n"
     ]
    }
   ],
   "source": [
    "knn_validation_list = []\n",
    "numNeighbours = [4,8,16,32,64,100]\n",
    "runNum = 40\n",
    "\n",
    "for i in numNeighbours:\n",
    "    print('Trying K='+str(i))\n",
    "    for j in range(0, runNum):\n",
    "    #Get a new train/test split\n",
    "        X_train, X_test, y_train, y_test = train_test_split(X, y,\n",
    "                                                    test_size=0.1,\n",
    "                                                    random_state=42+j)\n",
    "        pl_KNeighbors = Pipeline([\n",
    "            ('Power Transformer', PowerTransformer()),\n",
    "            ('KNeighborsRegressor', KNeighborsRegressor(n_neighbors=i))\n",
    "            ]).fit(X_train, y_train)\n",
    "        \n",
    "        y_pred = pl_KNeighbors.predict(X_test)\n",
    "        \n",
    "        resultThisRun = [i,\n",
    "            mean_squared_error(y_train, pl_KNeighbors.predict(X_train)),\n",
    "            mean_squared_error(y_test, y_pred)]\n",
    "        \n",
    "        knn_validation_list.append(resultThisRun)\n",
    "\n",
    "knn_validation_df=pd.DataFrame(knn_validation_list, \n",
    "                               columns=['numNeighbours',\n",
    "                                        'trainError',\n",
    "                                        'testError'])"
   ]
  },
  {
   "cell_type": "code",
   "execution_count": 35,
   "id": "27f5f3ad",
   "metadata": {},
   "outputs": [
    {
     "data": {
      "text/html": [
       "<div>\n",
       "<style scoped>\n",
       "    .dataframe tbody tr th:only-of-type {\n",
       "        vertical-align: middle;\n",
       "    }\n",
       "\n",
       "    .dataframe tbody tr th {\n",
       "        vertical-align: top;\n",
       "    }\n",
       "\n",
       "    .dataframe thead th {\n",
       "        text-align: right;\n",
       "    }\n",
       "</style>\n",
       "<table border=\"1\" class=\"dataframe\">\n",
       "  <thead>\n",
       "    <tr style=\"text-align: right;\">\n",
       "      <th></th>\n",
       "      <th>numNeighbours</th>\n",
       "      <th>trainError</th>\n",
       "      <th>testError</th>\n",
       "    </tr>\n",
       "  </thead>\n",
       "  <tbody>\n",
       "    <tr>\n",
       "      <th>0</th>\n",
       "      <td>4</td>\n",
       "      <td>1.027495</td>\n",
       "      <td>1.018749</td>\n",
       "    </tr>\n",
       "    <tr>\n",
       "      <th>1</th>\n",
       "      <td>4</td>\n",
       "      <td>1.033132</td>\n",
       "      <td>1.109151</td>\n",
       "    </tr>\n",
       "    <tr>\n",
       "      <th>2</th>\n",
       "      <td>4</td>\n",
       "      <td>1.034483</td>\n",
       "      <td>1.003489</td>\n",
       "    </tr>\n",
       "    <tr>\n",
       "      <th>3</th>\n",
       "      <td>4</td>\n",
       "      <td>0.993679</td>\n",
       "      <td>1.644268</td>\n",
       "    </tr>\n",
       "    <tr>\n",
       "      <th>4</th>\n",
       "      <td>4</td>\n",
       "      <td>0.836608</td>\n",
       "      <td>3.807024</td>\n",
       "    </tr>\n",
       "    <tr>\n",
       "      <th>...</th>\n",
       "      <td>...</td>\n",
       "      <td>...</td>\n",
       "      <td>...</td>\n",
       "    </tr>\n",
       "    <tr>\n",
       "      <th>235</th>\n",
       "      <td>100</td>\n",
       "      <td>1.669886</td>\n",
       "      <td>1.290499</td>\n",
       "    </tr>\n",
       "    <tr>\n",
       "      <th>236</th>\n",
       "      <td>100</td>\n",
       "      <td>1.699216</td>\n",
       "      <td>1.029401</td>\n",
       "    </tr>\n",
       "    <tr>\n",
       "      <th>237</th>\n",
       "      <td>100</td>\n",
       "      <td>1.652611</td>\n",
       "      <td>1.456889</td>\n",
       "    </tr>\n",
       "    <tr>\n",
       "      <th>238</th>\n",
       "      <td>100</td>\n",
       "      <td>1.536660</td>\n",
       "      <td>2.516476</td>\n",
       "    </tr>\n",
       "    <tr>\n",
       "      <th>239</th>\n",
       "      <td>100</td>\n",
       "      <td>1.689066</td>\n",
       "      <td>1.114523</td>\n",
       "    </tr>\n",
       "  </tbody>\n",
       "</table>\n",
       "<p>240 rows × 3 columns</p>\n",
       "</div>"
      ],
      "text/plain": [
       "     numNeighbours  trainError  testError\n",
       "0                4    1.027495   1.018749\n",
       "1                4    1.033132   1.109151\n",
       "2                4    1.034483   1.003489\n",
       "3                4    0.993679   1.644268\n",
       "4                4    0.836608   3.807024\n",
       "..             ...         ...        ...\n",
       "235            100    1.669886   1.290499\n",
       "236            100    1.699216   1.029401\n",
       "237            100    1.652611   1.456889\n",
       "238            100    1.536660   2.516476\n",
       "239            100    1.689066   1.114523\n",
       "\n",
       "[240 rows x 3 columns]"
      ]
     },
     "execution_count": 35,
     "metadata": {},
     "output_type": "execute_result"
    },
    {
     "name": "stdout",
     "output_type": "stream",
     "text": [
      "time: 16 ms (started: 2022-10-06 09:58:07 +08:00)\n"
     ]
    }
   ],
   "source": [
    "knn_validation_df"
   ]
  },
  {
   "cell_type": "code",
   "execution_count": 36,
   "id": "1d15e253",
   "metadata": {},
   "outputs": [
    {
     "name": "stdout",
     "output_type": "stream",
     "text": [
      "time: 15 ms (started: 2022-10-06 09:58:07 +08:00)\n"
     ]
    }
   ],
   "source": [
    "# Get our results in a format we can easily plot\n",
    "knn_results_list = []\n",
    "numNeighboursAttempted = knn_validation_df['numNeighbours'].unique()\n",
    "results_df = pd.DataFrame(index=numNeighboursAttempted) #Create a DataFrame of results\n",
    "\n",
    "for i in numNeighboursAttempted:\n",
    "    \n",
    "    blNeighbours = knn_validation_df['numNeighbours']==i#boolean mask\n",
    "    \n",
    "    trainErrorsMean = knn_validation_df[blNeighbours]['trainError'].mean()\n",
    "    trainErrorsStd = knn_validation_df[blNeighbours]['trainError'].std()\n",
    "    testErrorsMean = knn_validation_df[blNeighbours]['testError'].mean()\n",
    "    testErrorsStd = knn_validation_df[blNeighbours]['testError'].std()\n",
    "    knn_results_list.append([trainErrorsMean, trainErrorsStd,\n",
    "                            testErrorsMean, testErrorsStd])\n",
    "    \n",
    "\n",
    "knn_results_df = pd.DataFrame(knn_results_list,\n",
    "                              columns=['train_scores_mean','train_scores_std',\n",
    "                                       'test_scores_mean','test_scores_std'],\n",
    "                             index=numNeighboursAttempted)"
   ]
  },
  {
   "cell_type": "code",
   "execution_count": 37,
   "id": "9d70abda",
   "metadata": {},
   "outputs": [
    {
     "data": {
      "text/html": [
       "<div>\n",
       "<style scoped>\n",
       "    .dataframe tbody tr th:only-of-type {\n",
       "        vertical-align: middle;\n",
       "    }\n",
       "\n",
       "    .dataframe tbody tr th {\n",
       "        vertical-align: top;\n",
       "    }\n",
       "\n",
       "    .dataframe thead th {\n",
       "        text-align: right;\n",
       "    }\n",
       "</style>\n",
       "<table border=\"1\" class=\"dataframe\">\n",
       "  <thead>\n",
       "    <tr style=\"text-align: right;\">\n",
       "      <th></th>\n",
       "      <th>train_scores_mean</th>\n",
       "      <th>train_scores_std</th>\n",
       "      <th>test_scores_mean</th>\n",
       "      <th>test_scores_std</th>\n",
       "    </tr>\n",
       "  </thead>\n",
       "  <tbody>\n",
       "    <tr>\n",
       "      <th>4</th>\n",
       "      <td>0.989514</td>\n",
       "      <td>0.057572</td>\n",
       "      <td>1.647116</td>\n",
       "      <td>0.870546</td>\n",
       "    </tr>\n",
       "    <tr>\n",
       "      <th>8</th>\n",
       "      <td>1.272324</td>\n",
       "      <td>0.076496</td>\n",
       "      <td>1.571174</td>\n",
       "      <td>0.883854</td>\n",
       "    </tr>\n",
       "    <tr>\n",
       "      <th>16</th>\n",
       "      <td>1.468720</td>\n",
       "      <td>0.090163</td>\n",
       "      <td>1.573731</td>\n",
       "      <td>0.887495</td>\n",
       "    </tr>\n",
       "    <tr>\n",
       "      <th>32</th>\n",
       "      <td>1.572841</td>\n",
       "      <td>0.095035</td>\n",
       "      <td>1.572332</td>\n",
       "      <td>0.893758</td>\n",
       "    </tr>\n",
       "    <tr>\n",
       "      <th>64</th>\n",
       "      <td>1.621207</td>\n",
       "      <td>0.096546</td>\n",
       "      <td>1.568922</td>\n",
       "      <td>0.887259</td>\n",
       "    </tr>\n",
       "    <tr>\n",
       "      <th>100</th>\n",
       "      <td>1.640047</td>\n",
       "      <td>0.096820</td>\n",
       "      <td>1.567977</td>\n",
       "      <td>0.887403</td>\n",
       "    </tr>\n",
       "  </tbody>\n",
       "</table>\n",
       "</div>"
      ],
      "text/plain": [
       "     train_scores_mean  train_scores_std  test_scores_mean  test_scores_std\n",
       "4             0.989514          0.057572          1.647116         0.870546\n",
       "8             1.272324          0.076496          1.571174         0.883854\n",
       "16            1.468720          0.090163          1.573731         0.887495\n",
       "32            1.572841          0.095035          1.572332         0.893758\n",
       "64            1.621207          0.096546          1.568922         0.887259\n",
       "100           1.640047          0.096820          1.567977         0.887403"
      ]
     },
     "execution_count": 37,
     "metadata": {},
     "output_type": "execute_result"
    },
    {
     "name": "stdout",
     "output_type": "stream",
     "text": [
      "time: 0 ns (started: 2022-10-06 09:58:08 +08:00)\n"
     ]
    }
   ],
   "source": [
    "knn_results_df"
   ]
  },
  {
   "cell_type": "code",
   "execution_count": 38,
   "id": "7025c3ba",
   "metadata": {},
   "outputs": [
    {
     "data": {
      "text/plain": [
       "Text(0.5, 1.0, 'KNN Curve Curve')"
      ]
     },
     "execution_count": 38,
     "metadata": {},
     "output_type": "execute_result"
    },
    {
     "data": {
      "image/png": "[encoded data removed]",
      "text/plain": [
       "<Figure size 432x288 with 1 Axes>"
      ]
     },
     "metadata": {
      "needs_background": "light"
     },
     "output_type": "display_data"
    },
    {
     "name": "stdout",
     "output_type": "stream",
     "text": [
      "time: 171 ms (started: 2022-10-06 09:58:08 +08:00)\n"
     ]
    }
   ],
   "source": [
    "knn_results_df['train_scores_mean'].plot(style='-x')\n",
    "knn_results_df['test_scores_mean'].plot(style='-x')\n",
    "\n",
    "plt.fill_between(knn_results_df.index,\\\n",
    "                 knn_results_df['train_scores_mean']-knn_results_df['train_scores_std'],\\\n",
    "                 knn_results_df['train_scores_mean']+knn_results_df['train_scores_std'],\\\n",
    "                 alpha=0.2)\n",
    "\n",
    "plt.fill_between(knn_results_df.index,\\\n",
    "                 knn_results_df['test_scores_mean']-knn_results_df['test_scores_std'],\\\n",
    "                 knn_results_df['test_scores_mean']+knn_results_df['test_scores_std'],\\\n",
    "                 alpha=0.2)\n",
    "\n",
    "plt.grid()\n",
    "plt.legend(['Train CV RMSE','Test Set RMSE'])\n",
    "plt.ylabel('RMSE')\n",
    "plt.xlabel('Values for K', fontsize=15)\n",
    "plt.title('KNN Curve Curve', fontsize=15)\n",
    "#plt.ylim([0, 1.25]);"
   ]
  },
  {
   "cell_type": "code",
   "execution_count": 39,
   "id": "5fe74cb2",
   "metadata": {},
   "outputs": [
    {
     "ename": "NameError",
     "evalue": "name 'pplt' is not defined",
     "output_type": "error",
     "traceback": [
      "\u001b[1;31m---------------------------------------------------------------------------\u001b[0m",
      "\u001b[1;31mNameError\u001b[0m                                 Traceback (most recent call last)",
      "\u001b[1;32m~\\AppData\\Local\\Temp/ipykernel_9232/443478693.py\u001b[0m in \u001b[0;36m<module>\u001b[1;34m\u001b[0m\n\u001b[1;32m----> 1\u001b[1;33m \u001b[0mpplt\u001b[0m\u001b[1;33m.\u001b[0m\u001b[0mfigure\u001b[0m\u001b[1;33m(\u001b[0m\u001b[0mfigsize\u001b[0m\u001b[1;33m=\u001b[0m\u001b[1;33m(\u001b[0m\u001b[1;36m6\u001b[0m\u001b[1;33m,\u001b[0m\u001b[1;36m6\u001b[0m\u001b[1;33m)\u001b[0m\u001b[1;33m)\u001b[0m\u001b[1;33m\u001b[0m\u001b[1;33m\u001b[0m\u001b[0m\n\u001b[0m\u001b[0;32m      2\u001b[0m \u001b[0mplotDensityContourPredVsReal\u001b[0m\u001b[1;33m(\u001b[0m\u001b[1;34m'pl_KNeighbors'\u001b[0m\u001b[1;33m,\u001b[0m \u001b[0my_pred\u001b[0m\u001b[1;33m,\u001b[0m \u001b[0my_test\u001b[0m\u001b[1;33m.\u001b[0m\u001b[0mto_numpy\u001b[0m\u001b[1;33m(\u001b[0m\u001b[1;33m)\u001b[0m\u001b[1;33m,\u001b[0m\u001b[1;36m2\u001b[0m\u001b[1;33m)\u001b[0m\u001b[1;33m\u001b[0m\u001b[1;33m\u001b[0m\u001b[0m\n",
      "\u001b[1;31mNameError\u001b[0m: name 'pplt' is not defined"
     ]
    },
    {
     "name": "stdout",
     "output_type": "stream",
     "text": [
      "time: 250 ms (started: 2022-10-06 09:58:08 +08:00)\n"
     ]
    }
   ],
   "source": [
    "pplt.figure(figsize=(6,6))\n",
    "plotDensityContourPredVsReal('pl_KNeighbors', y_pred, y_test.to_numpy(),2)"
   ]
  },
  {
   "cell_type": "code",
   "execution_count": null,
   "id": "4f4e5485",
   "metadata": {},
   "outputs": [],
   "source": [
    "printPredictions(y_test, y_pred)"
   ]
  },
  {
   "cell_type": "code",
   "execution_count": null,
   "id": "610b251e",
   "metadata": {},
   "outputs": [],
   "source": [
    "observePredictionAbility(pl3, X, y)"
   ]
  },
  {
   "cell_type": "code",
   "execution_count": null,
   "id": "468ee978",
   "metadata": {},
   "outputs": [],
   "source": []
  }
 ],
 "metadata": {
  "kernelspec": {
   "display_name": "Python 3 (ipykernel)",
   "language": "python",
   "name": "python3"
  },
  "language_info": {
   "codemirror_mode": {
    "name": "ipython",
    "version": 3
   },
   "file_extension": ".py",
   "mimetype": "text/x-python",
   "name": "python",
   "nbconvert_exporter": "python",
   "pygments_lexer": "ipython3",
   "version": "3.9.7"
  }
 },
 "nbformat": 4,
 "nbformat_minor": 5
}
